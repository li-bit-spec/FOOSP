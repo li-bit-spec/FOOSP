{
 "cells": [
  {
   "cell_type": "code",
   "execution_count": 9,
   "metadata": {
    "collapsed": true,
    "ExecuteTime": {
     "end_time": "2024-08-07T05:25:52.730818600Z",
     "start_time": "2024-08-07T05:25:52.706003900Z"
    }
   },
   "outputs": [],
   "source": [
    "# from qiskit.opflow import I, Z, X, Y, SparsePauliOp\n",
    "import numpy as np\n",
    "# from juqcs import Juqcs\n",
    "# 假设有 3 台机器和 3 个操作\n",
    "m = 3 # 机器数量\n",
    "n = 1  # 操作数量\n",
    "l = 2  # 用于表示 C_max 的二进制位数\n",
    "\n",
    "# 处理时间矩阵 (例如)\n",
    "p = np.array([[1, 2, 1]])\n",
    "\n",
    "# 常数\n",
    "K1 = 10\n",
    "K2 = 5\n",
    "\n",
    "# 量子比特数量\n",
    "num_qubits = m * n + l\n",
    "\n"
   ]
  },
  {
   "cell_type": "code",
   "execution_count": 10,
   "outputs": [],
   "source": [
    "#\n",
    "def pauli_z_term(index, num_qubits):\n",
    "    \"\"\"初始化一个 Pauli-I 门的列表,指定索引 index 替换为 Pauli-Z 门\"\"\"\n",
    "    paulis = ['I'] * num_qubits\n",
    "    paulis[index] = 'Z'\n",
    "    return ''.join(paulis)  # 将列表转化为字符串\n"
   ],
   "metadata": {
    "collapsed": false,
    "ExecuteTime": {
     "end_time": "2024-08-07T05:25:53.226556200Z",
     "start_time": "2024-08-07T05:25:53.207781100Z"
    }
   }
  },
  {
   "cell_type": "markdown",
   "source": [
    "$$\\frac{1}{2} \\sum_{h=0}^{l-1} 2^h - \\frac{1}{2} \\sum_{h=0}^{l-1} 2^h Z_{z_h}$$"
   ],
   "metadata": {
    "collapsed": false
   }
  },
  {
   "cell_type": "markdown",
   "source": [
    "$$\\frac{1}{2}\\left(2^l-1\\right)-\\frac{1}{2} \\sum_{h=0}^{l-1} 2^h Z_{z_h}$$"
   ],
   "metadata": {
    "collapsed": false
   }
  },
  {
   "cell_type": "code",
   "execution_count": 11,
   "outputs": [
    {
     "name": "stdout",
     "output_type": "stream",
     "text": [
      "SparsePauliOp(['IIIZIIIIIII', 'IIIIZIIIIII'],\n",
      "              coeffs=[-0.5+0.j, -1. +0.j])\n"
     ]
    }
   ],
   "source": [
    "from qiskit.quantum_info import Pauli, SparsePauliOp, PauliList\n",
    "\n",
    "# 常数项\n",
    "# constant_term = 1/2 * sum(2**h for h in range(l))\n",
    "pauli_strings = []\n",
    "cofficients = []\n",
    "# 构建 Pauli-Z 项\n",
    "z_terms = []\n",
    "for h in range(l):\n",
    "    coef = - 2**h / 2\n",
    "    z_term = pauli_z_term(m * n + h, num_qubits)\n",
    "    z_terms.append((coef, z_term))\n",
    "\n",
    "# 从z_terms中提取Pauli字符串和系数\n",
    "pauli_strings = [term[1] for term in z_terms]\n",
    "coefficients = [term[0] for term in z_terms]\n",
    "# 转换为 SparsePauliOp\n",
    "paulis = [Pauli(label) for label in pauli_strings]\n",
    "hamiltonian1 = SparsePauliOp.from_list(list(zip(pauli_strings, coefficients)))\n",
    "print(hamiltonian1)"
   ],
   "metadata": {
    "collapsed": false,
    "ExecuteTime": {
     "end_time": "2024-08-07T05:25:54.802223900Z",
     "start_time": "2024-08-07T05:25:54.785122800Z"
    }
   }
  },
  {
   "cell_type": "markdown",
   "source": [
    "$$K1\\left(\\sum_{i=1}^{n} \\left( \\frac{m}{2} - 1 \\right)^2 -  \\left( \\frac{m}{2} - 1 \\right)  \\sum_{j=1}^{m} Z_{x_{ij}} + \\frac{1}{4} \\left( \\sum_{j=1}^{m} Z_{x_{ij}} \\right)^2\\right)$$"
   ],
   "metadata": {
    "collapsed": false
   }
  },
  {
   "cell_type": "markdown",
   "source": [
    "$$K_1 \\sum_{i=1}^n\\left(\\frac{(m-2)^2}{4}-\\frac{(m-2)}{2} \\sum_{j=1}^m Z_{x_{i j}}+\\frac{1}{4}\\left(\\sum_{j=1}^m Z_{x_{i j}}\\right)^2\\right)$$"
   ],
   "metadata": {
    "collapsed": false
   }
  },
  {
   "cell_type": "code",
   "execution_count": 17,
   "outputs": [
    {
     "name": "stdout",
     "output_type": "stream",
     "text": [
      "['ZIIIIIIIIII', 'IZIIIIIIIII', 'IIZIIIIIIII', 'ZZIIIIIIIII', 'ZIZIIIIIIII', 'ZZIIIIIIIII', 'IZZIIIIIIII', 'ZIZIIIIIIII', 'IZZIIIIIIII']\n",
      "[-10.0, -10.0, -10.0, 2.5, 2.5, 2.5, 2.5, 2.5, 2.5]\n",
      "SparsePauliOp(['ZIIIIIIIIII', 'IZIIIIIIIII', 'IIZIIIIIIII', 'ZZIIIIIIIII', 'ZIZIIIIIIII', 'ZZIIIIIIIII', 'IZZIIIIIIII', 'ZIZIIIIIIII', 'IZZIIIIIIII'],\n",
      "              coeffs=[-10. +0.j, -10. +0.j, -10. +0.j,   2.5+0.j,   2.5+0.j,   2.5+0.j,\n",
      "   2.5+0.j,   2.5+0.j,   2.5+0.j])\n"
     ]
    }
   ],
   "source": [
    "pauli_strings = []\n",
    "cofficients = []\n",
    "# 常数项\n",
    "# constant_term1 = K1 * n * ((m / 2) - 1)**2\n",
    "# pauli_strings.append('I'*num_qubits)\n",
    "# cofficients.append(constant_term1)\n",
    "\n",
    "# 线性项\n",
    "x_terms = []\n",
    "# coef_linear = -1 * K1 * (m / 2 - 1)\n",
    "for i in range(n):\n",
    "    for j in range(m):\n",
    "        coef = -1 * K1 * (m - 1)/2\n",
    "        x_term = pauli_z_term(i * m + j, num_qubits)\n",
    "        pauli_strings.append(x_term)\n",
    "        cofficients.append(coef)\n",
    "        # linear_terms.append((coef, x_term))\n",
    "\n",
    "# 二次项\n",
    "# quadratic_terms = []\n",
    "# coef_quadratic = K1 / 4\n",
    "for i in range(n):\n",
    "    coef = K1 / 4\n",
    "    for j1 in range(m):\n",
    "        for j2 in range(m):\n",
    "            if j1 != j2:\n",
    "                x_term1 = pauli_z_term(i * m + j1, num_qubits)\n",
    "                x_term2 = pauli_z_term(i * m + j2, num_qubits)\n",
    "                combined_op = ''.join(['I' if c1 == 'I' and c2 == 'I' else 'Z' if c1 == 'Z' or c2 == 'Z' else 'I'\n",
    "                                           for c1, c2 in zip(x_term1, x_term2)])\n",
    "                pauli_strings.append(combined_op)\n",
    "                cofficients.append(coef)\n",
    "            # quadratic_terms.append((coef, x_term1 + x_term2)) # 二次项的具体形式应该是每对 Zij 和 Zik 的组合\n",
    "\n",
    "# 组合所有项\n",
    "# pauli_strings = [term[1] for term in linear_terms + quadratic_terms]\n",
    "# coefficients = [term[0] for term in linear_terms + quadratic_terms]\n",
    "print(pauli_strings)\n",
    "print(cofficients)\n",
    "# 转换为 SparsePauliOp\n",
    "paulis = [Pauli(label) for label in pauli_strings]\n",
    "hamiltonian2 = SparsePauliOp.from_list(list(zip(pauli_strings, cofficients)))\n",
    "\n",
    "print(hamiltonian2)\n"
   ],
   "metadata": {
    "collapsed": false,
    "ExecuteTime": {
     "end_time": "2024-08-07T05:41:11.606783800Z",
     "start_time": "2024-08-07T05:41:11.570569900Z"
    }
   }
  },
  {
   "cell_type": "markdown",
   "source": [
    "$$K2\\sum_{j=1}^{m} \\left( \\frac{1}{2} \\sum_{i=1}^{n} p_{ij} - \\frac{1}{2} \\sum_{i=1}^{n} p_{ij} Z_{x_{ij}} + \\frac{1}{2} \\sum_{h=0}^{l-1} 2^h Z_{z_h} - \\frac{1}{2} \\sum_{h=0}^{l-1} 2^h Z{\\tau_{jh}} \\right)^2$$"
   ],
   "metadata": {
    "collapsed": false
   }
  },
  {
   "cell_type": "markdown",
   "source": [
    "\\begin{aligned}\n",
    "P\\sum_{j=1}^m\\left(\\frac{1}{4}\\left(\\sum_{i=1}^n p_{i j}-\\left(2^l-1\\right)\\right)^2-\\frac{1}{2}\\left(\\sum_{i=1}^n p_{i j}-\\left(2^l-1\\right)\\right)\\left(\\sum_{i=1}^n p_{i j} Z_{x_{i j}}-\\sum_{h=0}^{l-1} 2^h Z_{z_h}\\right)\\right)\\left.+\\frac{1}{4}\\left(\\sum_{i=1}^n \\sum_{k=1}^n p_{i j} p_{k j} Z_{x_{i j}} Z_{x_{k j}}-2 \\sum_{i=1}^n \\sum_{h=0}^{l-1} p_{i j} 2^h Z_{x_{i j}} Z_{z_h}+\\sum_{h=0}^{l-1} \\sum_{g=0}^{l-1} 2^{h+g} Z_{z_h} Z_{z_g}\\right)\\right)\n",
    "\\end{aligned}"
   ],
   "metadata": {
    "collapsed": false
   }
  },
  {
   "cell_type": "code",
   "execution_count": 22,
   "outputs": [
    {
     "name": "stdout",
     "output_type": "stream",
     "text": [
      "SparsePauliOp(['ZIIIIIIIIII', 'IIIZIIIIIII', 'IIIIZIIIIII', 'ZIIZIIIIIII', 'ZIIIZIIIIII', 'IIIZZIIIIII', 'IIIZZIIIIII', 'IZIIIIIIIII', 'IIIZIIIIIII', 'IIIIZIIIIII', 'IZIZIIIIIII', 'IZIIZIIIIII', 'IIIZZIIIIII', 'IIIZZIIIIII', 'IIZIIIIIIII', 'IIIZIIIIIII', 'IIIIZIIIIII', 'IIZZIIIIIII', 'IIZIZIIIIII', 'IIIZZIIIIII', 'IIIZZIIIIII'],\n",
      "              coeffs=[  5. +0.j,  -5. +0.j, -10. +0.j,  -2.5+0.j,  -5. +0.j,   2.5+0.j,\n",
      "   2.5+0.j,   5. +0.j,  -2.5+0.j,  -5. +0.j,  -5. +0.j, -10. +0.j,\n",
      "   2.5+0.j,   2.5+0.j,   5. +0.j,  -5. +0.j, -10. +0.j,  -2.5+0.j,\n",
      "  -5. +0.j,   2.5+0.j,   2.5+0.j])\n"
     ]
    }
   ],
   "source": [
    "# 初始化数组\n",
    "pauli_strings = []\n",
    "coefficients = []\n",
    "x_terms = []\n",
    "z_terms = []\n",
    "# 线性和二次项\n",
    "for j in range(m):\n",
    "    # constant_term = -1/2*(np.sum(p[:, j]) - ( 2 ** l-1))\n",
    "    # h_terms = []\n",
    "\n",
    "    for i in range(n):\n",
    "        coef =-1/2 * (np.sum(p[:, j]) - ( 2 ** l-1)) * p[i, j] * K2\n",
    "        x_term = pauli_z_term(j * n + i, num_qubits)\n",
    "        x_terms.append((coef, x_term))\n",
    "        # pauli_strings.append(x_term)\n",
    "        # cofficients.append(coef)\n",
    "\n",
    "    for h in range(l):\n",
    "        coef = -1/2 * (np.sum(p[:, j]) - ( 2 ** l-1)) * - 2 ** h * K2\n",
    "        z_term = pauli_z_term(m * n + h, num_qubits)\n",
    "        # pauli_strings.append(z_term)\n",
    "        # cofficients.append(coef)\n",
    "        x_terms.append((coef,z_term))\n",
    "\n",
    "    for i1 in range(n):\n",
    "        for i2 in range(n):\n",
    "            if i1 != i2:\n",
    "                coef = 1/4 * p[i1, j] * p[i2, j] * K2\n",
    "                x_term1 = pauli_z_term(j * n + i1, num_qubits)\n",
    "                x_term2 = pauli_z_term(j * n + i2, num_qubits)\n",
    "                combined_op = ''.join(['I' if c1 == 'I' and c2 == 'I' else 'Z' if c1 == 'Z' or c2 == 'Z' else 'I'\n",
    "                                           for c1, c2 in zip(x_term1, x_term2)])\n",
    "                # pauli_strings.append(combined_op)\n",
    "                # cofficients.append(coef)\n",
    "                x_terms.append((coef, combined_op))\n",
    "    for i in range(n):\n",
    "        for h in range(l):\n",
    "            coef = 1/4 * -2 * p[i,j] * 2 ** h * K2\n",
    "            x_term = pauli_z_term(j * n + i, num_qubits)\n",
    "            z_term = pauli_z_term(m * n + h, num_qubits)\n",
    "            combined_op = ''.join(['I' if c1 == 'I' and c2 == 'I' else 'Z' if c1 == 'Z' or c2 == 'Z' else 'I'\n",
    "                                           for c1, c2 in zip(x_term, z_term)])\n",
    "            # pauli_strings.append(combined_op)\n",
    "            # cofficients.append(coef)\n",
    "            x_terms.append((coef, combined_op))\n",
    "    for h1 in range(l):\n",
    "        for h2 in range(l):\n",
    "            if h1 != h2:\n",
    "                coef = 1/4 * 2 ** h1 * 2 ** h2 * K2\n",
    "                z_term1 = pauli_z_term(m * n + h1, num_qubits)\n",
    "                z_term2= pauli_z_term(m * n + h2, num_qubits)\n",
    "                combined_op = ''.join(['I' if c1 == 'I' and c2 == 'I' else 'Z' if c1 == 'Z' or c2 == 'Z' else 'I'\n",
    "                                           for c1, c2 in zip(z_term1, z_term2)])\n",
    "                # pauli_strings.append(combined_op)\n",
    "                # cofficients.append(coef)\n",
    "                x_terms.append((coef, combined_op))\n",
    "pauli_strings = [term[1] for term in x_terms]\n",
    "coefficients = [term[0] for term in x_terms]\n",
    "# 转换为 SparsePauliOp\n",
    "paulis = [Pauli(label) for label in pauli_strings]\n",
    "hamiltonian3 = SparsePauliOp.from_list(list(zip(pauli_strings, coefficients)))\n",
    "\n",
    "print(hamiltonian3)"
   ],
   "metadata": {
    "collapsed": false,
    "ExecuteTime": {
     "end_time": "2024-08-07T05:57:46.368250400Z",
     "start_time": "2024-08-07T05:57:46.319478800Z"
    }
   }
  },
  {
   "cell_type": "code",
   "execution_count": 23,
   "outputs": [
    {
     "name": "stdout",
     "output_type": "stream",
     "text": [
      "SparsePauliOp(['IIIZIIIIIII', 'IIIIZIIIIII', 'ZIIIIIIIIII', 'IZIIIIIIIII', 'IIZIIIIIIII', 'ZZIIIIIIIII', 'ZIZIIIIIIII', 'ZZIIIIIIIII', 'IZZIIIIIIII', 'ZIZIIIIIIII', 'IZZIIIIIIII', 'ZIIIIIIIIII', 'IIIZIIIIIII', 'IIIIZIIIIII', 'ZIIZIIIIIII', 'ZIIIZIIIIII', 'IIIZZIIIIII', 'IIIZZIIIIII', 'IZIIIIIIIII', 'IIIZIIIIIII', 'IIIIZIIIIII', 'IZIZIIIIIII', 'IZIIZIIIIII', 'IIIZZIIIIII', 'IIIZZIIIIII', 'IIZIIIIIIII', 'IIIZIIIIIII', 'IIIIZIIIIII', 'IIZZIIIIIII', 'IIZIZIIIIII', 'IIIZZIIIIII', 'IIIZZIIIIII'],\n",
      "              coeffs=[ -0.5+0.j,  -1. +0.j, -10. +0.j, -10. +0.j, -10. +0.j,   2.5+0.j,\n",
      "   2.5+0.j,   2.5+0.j,   2.5+0.j,   2.5+0.j,   2.5+0.j,   5. +0.j,\n",
      "  -5. +0.j, -10. +0.j,  -2.5+0.j,  -5. +0.j,   2.5+0.j,   2.5+0.j,\n",
      "   5. +0.j,  -2.5+0.j,  -5. +0.j,  -5. +0.j, -10. +0.j,   2.5+0.j,\n",
      "   2.5+0.j,   5. +0.j,  -5. +0.j, -10. +0.j,  -2.5+0.j,  -5. +0.j,\n",
      "   2.5+0.j,   2.5+0.j])\n"
     ]
    }
   ],
   "source": [
    "hamiltonian = hamiltonian1+hamiltonian2+hamiltonian3\n",
    "print(hamiltonian)"
   ],
   "metadata": {
    "collapsed": false,
    "ExecuteTime": {
     "end_time": "2024-08-07T05:58:06.743916Z",
     "start_time": "2024-08-07T05:58:06.726480100Z"
    }
   }
  },
  {
   "cell_type": "code",
   "execution_count": 24,
   "outputs": [],
   "source": [
    "from qiskit.primitives import Estimator\n",
    "from qiskit.primitives import Sampler\n",
    "\n",
    "sampler = Sampler()\n",
    "\n",
    "estimator = Estimator()"
   ],
   "metadata": {
    "collapsed": false,
    "ExecuteTime": {
     "end_time": "2024-08-07T05:58:09.945679700Z",
     "start_time": "2024-08-07T05:58:09.863536500Z"
    }
   }
  },
  {
   "cell_type": "code",
   "execution_count": 25,
   "outputs": [
    {
     "name": "stderr",
     "output_type": "stream",
     "text": [
      "C:\\Users\\18330\\AppData\\Local\\Temp\\ipykernel_23224\\344691272.py:2: DeprecationWarning: ``qiskit.algorithms`` has been migrated to an independent package: https://github.com/qiskit-community/qiskit-algorithms. The ``qiskit.algorithms`` import path is deprecated as of qiskit-terra 0.25.0 and will be removed no earlier than 3 months after the release date. Please run ``pip install qiskit_algorithms`` and use ``import qiskit_algorithms`` instead.\n",
      "  from qiskit.algorithms.minimum_eigensolvers import VQE\n",
      "C:\\Users\\18330\\AppData\\Local\\Temp\\ipykernel_23224\\344691272.py:17: DeprecationWarning: The property ``qiskit.utils.algorithm_globals.QiskitAlgorithmGlobals.random_seed`` is deprecated as of qiskit 0.45.0. It will be removed no earlier than 3 months after the release date. This algorithm utility has been migrated to an independent package: https://github.com/qiskit-community/qiskit-algorithms. You can run ``pip install qiskit_algorithms`` and import ``from qiskit_algorithms.utils`` instead. \n",
      "  algorithm_globals.random_seed = 50\n"
     ]
    },
    {
     "name": "stdout",
     "output_type": "stream",
     "text": [
      "Optimizer: COBYLA        "
     ]
    },
    {
     "ename": "KeyboardInterrupt",
     "evalue": "",
     "output_type": "error",
     "traceback": [
      "\u001B[1;31m---------------------------------------------------------------------------\u001B[0m",
      "\u001B[1;31mKeyboardInterrupt\u001B[0m                         Traceback (most recent call last)",
      "Cell \u001B[1;32mIn[25], line 28\u001B[0m\n\u001B[0;32m     25\u001B[0m     values\u001B[38;5;241m.\u001B[39mappend(mean)\n\u001B[0;32m     27\u001B[0m vqe \u001B[38;5;241m=\u001B[39m VQE(estimator, ansatz, optimizer, callback\u001B[38;5;241m=\u001B[39mstore_intermediate_result)\n\u001B[1;32m---> 28\u001B[0m result \u001B[38;5;241m=\u001B[39m \u001B[43mvqe\u001B[49m\u001B[38;5;241;43m.\u001B[39;49m\u001B[43mcompute_minimum_eigenvalue\u001B[49m\u001B[43m(\u001B[49m\u001B[43moperator\u001B[49m\u001B[38;5;241;43m=\u001B[39;49m\u001B[43mhamiltonian\u001B[49m\u001B[43m)\u001B[49m\n\u001B[0;32m     29\u001B[0m result1 \u001B[38;5;241m=\u001B[39m result\n\u001B[0;32m     30\u001B[0m converge_counts[i] \u001B[38;5;241m=\u001B[39m np\u001B[38;5;241m.\u001B[39masarray(counts)\n",
      "File \u001B[1;32mE:\\Anaconda3\\anaconda3\\envs\\qiskit\\lib\\site-packages\\qiskit\\algorithms\\minimum_eigensolvers\\vqe.py:191\u001B[0m, in \u001B[0;36mVQE.compute_minimum_eigenvalue\u001B[1;34m(self, operator, aux_operators)\u001B[0m\n\u001B[0;32m    186\u001B[0m \u001B[38;5;28;01melse\u001B[39;00m:\n\u001B[0;32m    187\u001B[0m     \u001B[38;5;66;03m# we always want to submit as many estimations per job as possible for minimal\u001B[39;00m\n\u001B[0;32m    188\u001B[0m     \u001B[38;5;66;03m# overhead on the hardware\u001B[39;00m\n\u001B[0;32m    189\u001B[0m     was_updated \u001B[38;5;241m=\u001B[39m _set_default_batchsize(\u001B[38;5;28mself\u001B[39m\u001B[38;5;241m.\u001B[39moptimizer)\n\u001B[1;32m--> 191\u001B[0m     optimizer_result \u001B[38;5;241m=\u001B[39m \u001B[38;5;28;43mself\u001B[39;49m\u001B[38;5;241;43m.\u001B[39;49m\u001B[43moptimizer\u001B[49m\u001B[38;5;241;43m.\u001B[39;49m\u001B[43mminimize\u001B[49m\u001B[43m(\u001B[49m\n\u001B[0;32m    192\u001B[0m \u001B[43m        \u001B[49m\u001B[43mfun\u001B[49m\u001B[38;5;241;43m=\u001B[39;49m\u001B[43mevaluate_energy\u001B[49m\u001B[43m,\u001B[49m\u001B[43m \u001B[49m\u001B[43mx0\u001B[49m\u001B[38;5;241;43m=\u001B[39;49m\u001B[43minitial_point\u001B[49m\u001B[43m,\u001B[49m\u001B[43m \u001B[49m\u001B[43mjac\u001B[49m\u001B[38;5;241;43m=\u001B[39;49m\u001B[43mevaluate_gradient\u001B[49m\u001B[43m,\u001B[49m\u001B[43m \u001B[49m\u001B[43mbounds\u001B[49m\u001B[38;5;241;43m=\u001B[39;49m\u001B[43mbounds\u001B[49m\n\u001B[0;32m    193\u001B[0m \u001B[43m    \u001B[49m\u001B[43m)\u001B[49m\n\u001B[0;32m    195\u001B[0m     \u001B[38;5;66;03m# reset to original value\u001B[39;00m\n\u001B[0;32m    196\u001B[0m     \u001B[38;5;28;01mif\u001B[39;00m was_updated:\n",
      "File \u001B[1;32mE:\\Anaconda3\\anaconda3\\envs\\qiskit\\lib\\site-packages\\qiskit\\algorithms\\optimizers\\scipy_optimizer.py:154\u001B[0m, in \u001B[0;36mSciPyOptimizer.minimize\u001B[1;34m(self, fun, x0, jac, bounds)\u001B[0m\n\u001B[0;32m    151\u001B[0m     swapped_deprecated_args \u001B[38;5;241m=\u001B[39m \u001B[38;5;28;01mTrue\u001B[39;00m\n\u001B[0;32m    152\u001B[0m     \u001B[38;5;28mself\u001B[39m\u001B[38;5;241m.\u001B[39m_options[\u001B[38;5;124m\"\u001B[39m\u001B[38;5;124mmaxfun\u001B[39m\u001B[38;5;124m\"\u001B[39m] \u001B[38;5;241m=\u001B[39m \u001B[38;5;28mself\u001B[39m\u001B[38;5;241m.\u001B[39m_options\u001B[38;5;241m.\u001B[39mpop(\u001B[38;5;124m\"\u001B[39m\u001B[38;5;124mmaxiter\u001B[39m\u001B[38;5;124m\"\u001B[39m)\n\u001B[1;32m--> 154\u001B[0m raw_result \u001B[38;5;241m=\u001B[39m \u001B[43mminimize\u001B[49m\u001B[43m(\u001B[49m\n\u001B[0;32m    155\u001B[0m \u001B[43m    \u001B[49m\u001B[43mfun\u001B[49m\u001B[38;5;241;43m=\u001B[39;49m\u001B[43mfun\u001B[49m\u001B[43m,\u001B[49m\n\u001B[0;32m    156\u001B[0m \u001B[43m    \u001B[49m\u001B[43mx0\u001B[49m\u001B[38;5;241;43m=\u001B[39;49m\u001B[43mx0\u001B[49m\u001B[43m,\u001B[49m\n\u001B[0;32m    157\u001B[0m \u001B[43m    \u001B[49m\u001B[43mmethod\u001B[49m\u001B[38;5;241;43m=\u001B[39;49m\u001B[38;5;28;43mself\u001B[39;49m\u001B[38;5;241;43m.\u001B[39;49m\u001B[43m_method\u001B[49m\u001B[43m,\u001B[49m\n\u001B[0;32m    158\u001B[0m \u001B[43m    \u001B[49m\u001B[43mjac\u001B[49m\u001B[38;5;241;43m=\u001B[39;49m\u001B[43mjac\u001B[49m\u001B[43m,\u001B[49m\n\u001B[0;32m    159\u001B[0m \u001B[43m    \u001B[49m\u001B[43mbounds\u001B[49m\u001B[38;5;241;43m=\u001B[39;49m\u001B[43mbounds\u001B[49m\u001B[43m,\u001B[49m\n\u001B[0;32m    160\u001B[0m \u001B[43m    \u001B[49m\u001B[43moptions\u001B[49m\u001B[38;5;241;43m=\u001B[39;49m\u001B[38;5;28;43mself\u001B[39;49m\u001B[38;5;241;43m.\u001B[39;49m\u001B[43m_options\u001B[49m\u001B[43m,\u001B[49m\n\u001B[0;32m    161\u001B[0m \u001B[43m    \u001B[49m\u001B[38;5;241;43m*\u001B[39;49m\u001B[38;5;241;43m*\u001B[39;49m\u001B[38;5;28;43mself\u001B[39;49m\u001B[38;5;241;43m.\u001B[39;49m\u001B[43m_kwargs\u001B[49m\u001B[43m,\u001B[49m\n\u001B[0;32m    162\u001B[0m \u001B[43m\u001B[49m\u001B[43m)\u001B[49m\n\u001B[0;32m    163\u001B[0m \u001B[38;5;28;01mif\u001B[39;00m swapped_deprecated_args:\n\u001B[0;32m    164\u001B[0m     \u001B[38;5;28mself\u001B[39m\u001B[38;5;241m.\u001B[39m_options[\u001B[38;5;124m\"\u001B[39m\u001B[38;5;124mmaxiter\u001B[39m\u001B[38;5;124m\"\u001B[39m] \u001B[38;5;241m=\u001B[39m \u001B[38;5;28mself\u001B[39m\u001B[38;5;241m.\u001B[39m_options\u001B[38;5;241m.\u001B[39mpop(\u001B[38;5;124m\"\u001B[39m\u001B[38;5;124mmaxfun\u001B[39m\u001B[38;5;124m\"\u001B[39m)\n",
      "File \u001B[1;32mE:\\Anaconda3\\anaconda3\\envs\\qiskit\\lib\\site-packages\\scipy\\optimize\\_minimize.py:702\u001B[0m, in \u001B[0;36mminimize\u001B[1;34m(fun, x0, args, method, jac, hess, hessp, bounds, constraints, tol, callback, options)\u001B[0m\n\u001B[0;32m    699\u001B[0m     res \u001B[38;5;241m=\u001B[39m _minimize_tnc(fun, x0, args, jac, bounds, callback\u001B[38;5;241m=\u001B[39mcallback,\n\u001B[0;32m    700\u001B[0m                         \u001B[38;5;241m*\u001B[39m\u001B[38;5;241m*\u001B[39moptions)\n\u001B[0;32m    701\u001B[0m \u001B[38;5;28;01melif\u001B[39;00m meth \u001B[38;5;241m==\u001B[39m \u001B[38;5;124m'\u001B[39m\u001B[38;5;124mcobyla\u001B[39m\u001B[38;5;124m'\u001B[39m:\n\u001B[1;32m--> 702\u001B[0m     res \u001B[38;5;241m=\u001B[39m \u001B[43m_minimize_cobyla\u001B[49m\u001B[43m(\u001B[49m\u001B[43mfun\u001B[49m\u001B[43m,\u001B[49m\u001B[43m \u001B[49m\u001B[43mx0\u001B[49m\u001B[43m,\u001B[49m\u001B[43m \u001B[49m\u001B[43margs\u001B[49m\u001B[43m,\u001B[49m\u001B[43m \u001B[49m\u001B[43mconstraints\u001B[49m\u001B[43m,\u001B[49m\u001B[43m \u001B[49m\u001B[43mcallback\u001B[49m\u001B[38;5;241;43m=\u001B[39;49m\u001B[43mcallback\u001B[49m\u001B[43m,\u001B[49m\n\u001B[0;32m    703\u001B[0m \u001B[43m                            \u001B[49m\u001B[38;5;241;43m*\u001B[39;49m\u001B[38;5;241;43m*\u001B[39;49m\u001B[43moptions\u001B[49m\u001B[43m)\u001B[49m\n\u001B[0;32m    704\u001B[0m \u001B[38;5;28;01melif\u001B[39;00m meth \u001B[38;5;241m==\u001B[39m \u001B[38;5;124m'\u001B[39m\u001B[38;5;124mslsqp\u001B[39m\u001B[38;5;124m'\u001B[39m:\n\u001B[0;32m    705\u001B[0m     res \u001B[38;5;241m=\u001B[39m _minimize_slsqp(fun, x0, args, jac, bounds,\n\u001B[0;32m    706\u001B[0m                           constraints, callback\u001B[38;5;241m=\u001B[39mcallback, \u001B[38;5;241m*\u001B[39m\u001B[38;5;241m*\u001B[39moptions)\n",
      "File \u001B[1;32mE:\\Anaconda3\\anaconda3\\envs\\qiskit\\lib\\site-packages\\scipy\\optimize\\_cobyla_py.py:34\u001B[0m, in \u001B[0;36msynchronized.<locals>.wrapper\u001B[1;34m(*args, **kwargs)\u001B[0m\n\u001B[0;32m     31\u001B[0m \u001B[38;5;129m@functools\u001B[39m\u001B[38;5;241m.\u001B[39mwraps(func)\n\u001B[0;32m     32\u001B[0m \u001B[38;5;28;01mdef\u001B[39;00m \u001B[38;5;21mwrapper\u001B[39m(\u001B[38;5;241m*\u001B[39margs, \u001B[38;5;241m*\u001B[39m\u001B[38;5;241m*\u001B[39mkwargs):\n\u001B[0;32m     33\u001B[0m     \u001B[38;5;28;01mwith\u001B[39;00m _module_lock:\n\u001B[1;32m---> 34\u001B[0m         \u001B[38;5;28;01mreturn\u001B[39;00m \u001B[43mfunc\u001B[49m\u001B[43m(\u001B[49m\u001B[38;5;241;43m*\u001B[39;49m\u001B[43margs\u001B[49m\u001B[43m,\u001B[49m\u001B[43m \u001B[49m\u001B[38;5;241;43m*\u001B[39;49m\u001B[38;5;241;43m*\u001B[39;49m\u001B[43mkwargs\u001B[49m\u001B[43m)\u001B[49m\n",
      "File \u001B[1;32mE:\\Anaconda3\\anaconda3\\envs\\qiskit\\lib\\site-packages\\scipy\\optimize\\_cobyla_py.py:270\u001B[0m, in \u001B[0;36m_minimize_cobyla\u001B[1;34m(fun, x0, args, constraints, rhobeg, tol, maxiter, disp, catol, callback, **unknown_options)\u001B[0m\n\u001B[0;32m    267\u001B[0m         callback(np\u001B[38;5;241m.\u001B[39mcopy(x))\n\u001B[0;32m    269\u001B[0m info \u001B[38;5;241m=\u001B[39m np\u001B[38;5;241m.\u001B[39mzeros(\u001B[38;5;241m4\u001B[39m, np\u001B[38;5;241m.\u001B[39mfloat64)\n\u001B[1;32m--> 270\u001B[0m xopt, info \u001B[38;5;241m=\u001B[39m \u001B[43mcobyla\u001B[49m\u001B[38;5;241;43m.\u001B[39;49m\u001B[43mminimize\u001B[49m\u001B[43m(\u001B[49m\u001B[43mcalcfc\u001B[49m\u001B[43m,\u001B[49m\u001B[43m \u001B[49m\u001B[43mm\u001B[49m\u001B[38;5;241;43m=\u001B[39;49m\u001B[43mm\u001B[49m\u001B[43m,\u001B[49m\u001B[43m \u001B[49m\u001B[43mx\u001B[49m\u001B[38;5;241;43m=\u001B[39;49m\u001B[43mnp\u001B[49m\u001B[38;5;241;43m.\u001B[39;49m\u001B[43mcopy\u001B[49m\u001B[43m(\u001B[49m\u001B[43mx0\u001B[49m\u001B[43m)\u001B[49m\u001B[43m,\u001B[49m\u001B[43m \u001B[49m\u001B[43mrhobeg\u001B[49m\u001B[38;5;241;43m=\u001B[39;49m\u001B[43mrhobeg\u001B[49m\u001B[43m,\u001B[49m\n\u001B[0;32m    271\u001B[0m \u001B[43m                              \u001B[49m\u001B[43mrhoend\u001B[49m\u001B[38;5;241;43m=\u001B[39;49m\u001B[43mrhoend\u001B[49m\u001B[43m,\u001B[49m\u001B[43m \u001B[49m\u001B[43miprint\u001B[49m\u001B[38;5;241;43m=\u001B[39;49m\u001B[43miprint\u001B[49m\u001B[43m,\u001B[49m\u001B[43m \u001B[49m\u001B[43mmaxfun\u001B[49m\u001B[38;5;241;43m=\u001B[39;49m\u001B[43mmaxfun\u001B[49m\u001B[43m,\u001B[49m\n\u001B[0;32m    272\u001B[0m \u001B[43m                              \u001B[49m\u001B[43mdinfo\u001B[49m\u001B[38;5;241;43m=\u001B[39;49m\u001B[43minfo\u001B[49m\u001B[43m,\u001B[49m\u001B[43m \u001B[49m\u001B[43mcallback\u001B[49m\u001B[38;5;241;43m=\u001B[39;49m\u001B[43mwrapped_callback\u001B[49m\u001B[43m)\u001B[49m\n\u001B[0;32m    274\u001B[0m \u001B[38;5;28;01mif\u001B[39;00m info[\u001B[38;5;241m3\u001B[39m] \u001B[38;5;241m>\u001B[39m catol:\n\u001B[0;32m    275\u001B[0m     \u001B[38;5;66;03m# Check constraint violation\u001B[39;00m\n\u001B[0;32m    276\u001B[0m     info[\u001B[38;5;241m0\u001B[39m] \u001B[38;5;241m=\u001B[39m \u001B[38;5;241m4\u001B[39m\n",
      "File \u001B[1;32mE:\\Anaconda3\\anaconda3\\envs\\qiskit\\lib\\site-packages\\scipy\\optimize\\_cobyla_py.py:258\u001B[0m, in \u001B[0;36m_minimize_cobyla.<locals>.calcfc\u001B[1;34m(x, con)\u001B[0m\n\u001B[0;32m    257\u001B[0m \u001B[38;5;28;01mdef\u001B[39;00m \u001B[38;5;21mcalcfc\u001B[39m(x, con):\n\u001B[1;32m--> 258\u001B[0m     f \u001B[38;5;241m=\u001B[39m \u001B[43mfun\u001B[49m\u001B[43m(\u001B[49m\u001B[43mnp\u001B[49m\u001B[38;5;241;43m.\u001B[39;49m\u001B[43mcopy\u001B[49m\u001B[43m(\u001B[49m\u001B[43mx\u001B[49m\u001B[43m)\u001B[49m\u001B[43m,\u001B[49m\u001B[43m \u001B[49m\u001B[38;5;241;43m*\u001B[39;49m\u001B[43margs\u001B[49m\u001B[43m)\u001B[49m\n\u001B[0;32m    259\u001B[0m     i \u001B[38;5;241m=\u001B[39m \u001B[38;5;241m0\u001B[39m\n\u001B[0;32m    260\u001B[0m     \u001B[38;5;28;01mfor\u001B[39;00m size, c \u001B[38;5;129;01min\u001B[39;00m izip(cons_lengths, constraints):\n",
      "File \u001B[1;32mE:\\Anaconda3\\anaconda3\\envs\\qiskit\\lib\\site-packages\\qiskit\\algorithms\\minimum_eigensolvers\\vqe.py:253\u001B[0m, in \u001B[0;36mVQE._get_evaluate_energy.<locals>.evaluate_energy\u001B[1;34m(parameters)\u001B[0m\n\u001B[0;32m    250\u001B[0m batch_size \u001B[38;5;241m=\u001B[39m \u001B[38;5;28mlen\u001B[39m(parameters)\n\u001B[0;32m    252\u001B[0m \u001B[38;5;28;01mtry\u001B[39;00m:\n\u001B[1;32m--> 253\u001B[0m     job \u001B[38;5;241m=\u001B[39m \u001B[38;5;28;43mself\u001B[39;49m\u001B[38;5;241;43m.\u001B[39;49m\u001B[43mestimator\u001B[49m\u001B[38;5;241;43m.\u001B[39;49m\u001B[43mrun\u001B[49m\u001B[43m(\u001B[49m\u001B[43mbatch_size\u001B[49m\u001B[43m \u001B[49m\u001B[38;5;241;43m*\u001B[39;49m\u001B[43m \u001B[49m\u001B[43m[\u001B[49m\u001B[43mansatz\u001B[49m\u001B[43m]\u001B[49m\u001B[43m,\u001B[49m\u001B[43m \u001B[49m\u001B[43mbatch_size\u001B[49m\u001B[43m \u001B[49m\u001B[38;5;241;43m*\u001B[39;49m\u001B[43m \u001B[49m\u001B[43m[\u001B[49m\u001B[43moperator\u001B[49m\u001B[43m]\u001B[49m\u001B[43m,\u001B[49m\u001B[43m \u001B[49m\u001B[43mparameters\u001B[49m\u001B[43m)\u001B[49m\n\u001B[0;32m    254\u001B[0m     estimator_result \u001B[38;5;241m=\u001B[39m job\u001B[38;5;241m.\u001B[39mresult()\n\u001B[0;32m    255\u001B[0m \u001B[38;5;28;01mexcept\u001B[39;00m \u001B[38;5;167;01mException\u001B[39;00m \u001B[38;5;28;01mas\u001B[39;00m exc:\n",
      "File \u001B[1;32mE:\\Anaconda3\\anaconda3\\envs\\qiskit\\lib\\site-packages\\qiskit\\primitives\\base\\base_estimator.py:188\u001B[0m, in \u001B[0;36mBaseEstimator.run\u001B[1;34m(self, circuits, observables, parameter_values, **run_options)\u001B[0m\n\u001B[0;32m    185\u001B[0m run_opts \u001B[38;5;241m=\u001B[39m copy(\u001B[38;5;28mself\u001B[39m\u001B[38;5;241m.\u001B[39moptions)\n\u001B[0;32m    186\u001B[0m run_opts\u001B[38;5;241m.\u001B[39mupdate_options(\u001B[38;5;241m*\u001B[39m\u001B[38;5;241m*\u001B[39mrun_options)\n\u001B[1;32m--> 188\u001B[0m \u001B[38;5;28;01mreturn\u001B[39;00m \u001B[38;5;28;43mself\u001B[39;49m\u001B[38;5;241;43m.\u001B[39;49m\u001B[43m_run\u001B[49m\u001B[43m(\u001B[49m\n\u001B[0;32m    189\u001B[0m \u001B[43m    \u001B[49m\u001B[43mcircuits\u001B[49m\u001B[43m,\u001B[49m\n\u001B[0;32m    190\u001B[0m \u001B[43m    \u001B[49m\u001B[43mobservables\u001B[49m\u001B[43m,\u001B[49m\n\u001B[0;32m    191\u001B[0m \u001B[43m    \u001B[49m\u001B[43mparameter_values\u001B[49m\u001B[43m,\u001B[49m\n\u001B[0;32m    192\u001B[0m \u001B[43m    \u001B[49m\u001B[38;5;241;43m*\u001B[39;49m\u001B[38;5;241;43m*\u001B[39;49m\u001B[43mrun_opts\u001B[49m\u001B[38;5;241;43m.\u001B[39;49m\u001B[38;5;18;43m__dict__\u001B[39;49m\u001B[43m,\u001B[49m\n\u001B[0;32m    193\u001B[0m \u001B[43m\u001B[49m\u001B[43m)\u001B[49m\n",
      "File \u001B[1;32mE:\\Anaconda3\\anaconda3\\envs\\qiskit\\lib\\site-packages\\qiskit\\primitives\\estimator.py:158\u001B[0m, in \u001B[0;36mEstimator._run\u001B[1;34m(self, circuits, observables, parameter_values, **run_options)\u001B[0m\n\u001B[0;32m    154\u001B[0m         \u001B[38;5;28mself\u001B[39m\u001B[38;5;241m.\u001B[39m_observables\u001B[38;5;241m.\u001B[39mappend(observable)\n\u001B[0;32m    155\u001B[0m job \u001B[38;5;241m=\u001B[39m PrimitiveJob(\n\u001B[0;32m    156\u001B[0m     \u001B[38;5;28mself\u001B[39m\u001B[38;5;241m.\u001B[39m_call, circuit_indices, observable_indices, parameter_values, \u001B[38;5;241m*\u001B[39m\u001B[38;5;241m*\u001B[39mrun_options\n\u001B[0;32m    157\u001B[0m )\n\u001B[1;32m--> 158\u001B[0m \u001B[43mjob\u001B[49m\u001B[38;5;241;43m.\u001B[39;49m\u001B[43msubmit\u001B[49m\u001B[43m(\u001B[49m\u001B[43m)\u001B[49m\n\u001B[0;32m    159\u001B[0m \u001B[38;5;28;01mreturn\u001B[39;00m job\n",
      "File \u001B[1;32mE:\\Anaconda3\\anaconda3\\envs\\qiskit\\lib\\site-packages\\qiskit\\primitives\\primitive_job.py:49\u001B[0m, in \u001B[0;36mPrimitiveJob.submit\u001B[1;34m(self)\u001B[0m\n\u001B[0;32m     46\u001B[0m     \u001B[38;5;28;01mraise\u001B[39;00m JobError(\u001B[38;5;124m\"\u001B[39m\u001B[38;5;124mPrimitive job has already been submitted.\u001B[39m\u001B[38;5;124m\"\u001B[39m)\n\u001B[0;32m     48\u001B[0m executor \u001B[38;5;241m=\u001B[39m ThreadPoolExecutor(max_workers\u001B[38;5;241m=\u001B[39m\u001B[38;5;241m1\u001B[39m)  \u001B[38;5;66;03m# pylint: disable=consider-using-with\u001B[39;00m\n\u001B[1;32m---> 49\u001B[0m \u001B[38;5;28mself\u001B[39m\u001B[38;5;241m.\u001B[39m_future \u001B[38;5;241m=\u001B[39m \u001B[43mexecutor\u001B[49m\u001B[38;5;241;43m.\u001B[39;49m\u001B[43msubmit\u001B[49m\u001B[43m(\u001B[49m\u001B[38;5;28;43mself\u001B[39;49m\u001B[38;5;241;43m.\u001B[39;49m\u001B[43m_function\u001B[49m\u001B[43m,\u001B[49m\u001B[43m \u001B[49m\u001B[38;5;241;43m*\u001B[39;49m\u001B[38;5;28;43mself\u001B[39;49m\u001B[38;5;241;43m.\u001B[39;49m\u001B[43m_args\u001B[49m\u001B[43m,\u001B[49m\u001B[43m \u001B[49m\u001B[38;5;241;43m*\u001B[39;49m\u001B[38;5;241;43m*\u001B[39;49m\u001B[38;5;28;43mself\u001B[39;49m\u001B[38;5;241;43m.\u001B[39;49m\u001B[43m_kwargs\u001B[49m\u001B[43m)\u001B[49m\n\u001B[0;32m     50\u001B[0m executor\u001B[38;5;241m.\u001B[39mshutdown(wait\u001B[38;5;241m=\u001B[39m\u001B[38;5;28;01mFalse\u001B[39;00m)\n",
      "File \u001B[1;32mE:\\Anaconda3\\anaconda3\\envs\\qiskit\\lib\\concurrent\\futures\\thread.py:188\u001B[0m, in \u001B[0;36mThreadPoolExecutor.submit\u001B[1;34m(*args, **kwargs)\u001B[0m\n\u001B[0;32m    185\u001B[0m w \u001B[38;5;241m=\u001B[39m _WorkItem(f, fn, args, kwargs)\n\u001B[0;32m    187\u001B[0m \u001B[38;5;28mself\u001B[39m\u001B[38;5;241m.\u001B[39m_work_queue\u001B[38;5;241m.\u001B[39mput(w)\n\u001B[1;32m--> 188\u001B[0m \u001B[38;5;28;43mself\u001B[39;49m\u001B[38;5;241;43m.\u001B[39;49m\u001B[43m_adjust_thread_count\u001B[49m\u001B[43m(\u001B[49m\u001B[43m)\u001B[49m\n\u001B[0;32m    189\u001B[0m \u001B[38;5;28;01mreturn\u001B[39;00m f\n",
      "File \u001B[1;32mE:\\Anaconda3\\anaconda3\\envs\\qiskit\\lib\\concurrent\\futures\\thread.py:213\u001B[0m, in \u001B[0;36mThreadPoolExecutor._adjust_thread_count\u001B[1;34m(self)\u001B[0m\n\u001B[0;32m    207\u001B[0m t \u001B[38;5;241m=\u001B[39m threading\u001B[38;5;241m.\u001B[39mThread(name\u001B[38;5;241m=\u001B[39mthread_name, target\u001B[38;5;241m=\u001B[39m_worker,\n\u001B[0;32m    208\u001B[0m                      args\u001B[38;5;241m=\u001B[39m(weakref\u001B[38;5;241m.\u001B[39mref(\u001B[38;5;28mself\u001B[39m, weakref_cb),\n\u001B[0;32m    209\u001B[0m                            \u001B[38;5;28mself\u001B[39m\u001B[38;5;241m.\u001B[39m_work_queue,\n\u001B[0;32m    210\u001B[0m                            \u001B[38;5;28mself\u001B[39m\u001B[38;5;241m.\u001B[39m_initializer,\n\u001B[0;32m    211\u001B[0m                            \u001B[38;5;28mself\u001B[39m\u001B[38;5;241m.\u001B[39m_initargs))\n\u001B[0;32m    212\u001B[0m t\u001B[38;5;241m.\u001B[39mdaemon \u001B[38;5;241m=\u001B[39m \u001B[38;5;28;01mTrue\u001B[39;00m\n\u001B[1;32m--> 213\u001B[0m \u001B[43mt\u001B[49m\u001B[38;5;241;43m.\u001B[39;49m\u001B[43mstart\u001B[49m\u001B[43m(\u001B[49m\u001B[43m)\u001B[49m\n\u001B[0;32m    214\u001B[0m \u001B[38;5;28mself\u001B[39m\u001B[38;5;241m.\u001B[39m_threads\u001B[38;5;241m.\u001B[39madd(t)\n\u001B[0;32m    215\u001B[0m _threads_queues[t] \u001B[38;5;241m=\u001B[39m \u001B[38;5;28mself\u001B[39m\u001B[38;5;241m.\u001B[39m_work_queue\n",
      "File \u001B[1;32mE:\\Anaconda3\\anaconda3\\envs\\qiskit\\lib\\threading.py:857\u001B[0m, in \u001B[0;36mThread.start\u001B[1;34m(self)\u001B[0m\n\u001B[0;32m    855\u001B[0m         \u001B[38;5;28;01mdel\u001B[39;00m _limbo[\u001B[38;5;28mself\u001B[39m]\n\u001B[0;32m    856\u001B[0m     \u001B[38;5;28;01mraise\u001B[39;00m\n\u001B[1;32m--> 857\u001B[0m \u001B[38;5;28;43mself\u001B[39;49m\u001B[38;5;241;43m.\u001B[39;49m\u001B[43m_started\u001B[49m\u001B[38;5;241;43m.\u001B[39;49m\u001B[43mwait\u001B[49m\u001B[43m(\u001B[49m\u001B[43m)\u001B[49m\n",
      "File \u001B[1;32mE:\\Anaconda3\\anaconda3\\envs\\qiskit\\lib\\threading.py:558\u001B[0m, in \u001B[0;36mEvent.wait\u001B[1;34m(self, timeout)\u001B[0m\n\u001B[0;32m    556\u001B[0m signaled \u001B[38;5;241m=\u001B[39m \u001B[38;5;28mself\u001B[39m\u001B[38;5;241m.\u001B[39m_flag\n\u001B[0;32m    557\u001B[0m \u001B[38;5;28;01mif\u001B[39;00m \u001B[38;5;129;01mnot\u001B[39;00m signaled:\n\u001B[1;32m--> 558\u001B[0m     signaled \u001B[38;5;241m=\u001B[39m \u001B[38;5;28;43mself\u001B[39;49m\u001B[38;5;241;43m.\u001B[39;49m\u001B[43m_cond\u001B[49m\u001B[38;5;241;43m.\u001B[39;49m\u001B[43mwait\u001B[49m\u001B[43m(\u001B[49m\u001B[43mtimeout\u001B[49m\u001B[43m)\u001B[49m\n\u001B[0;32m    559\u001B[0m \u001B[38;5;28;01mreturn\u001B[39;00m signaled\n",
      "File \u001B[1;32mE:\\Anaconda3\\anaconda3\\envs\\qiskit\\lib\\threading.py:302\u001B[0m, in \u001B[0;36mCondition.wait\u001B[1;34m(self, timeout)\u001B[0m\n\u001B[0;32m    300\u001B[0m \u001B[38;5;28;01mtry\u001B[39;00m:    \u001B[38;5;66;03m# restore state no matter what (e.g., KeyboardInterrupt)\u001B[39;00m\n\u001B[0;32m    301\u001B[0m     \u001B[38;5;28;01mif\u001B[39;00m timeout \u001B[38;5;129;01mis\u001B[39;00m \u001B[38;5;28;01mNone\u001B[39;00m:\n\u001B[1;32m--> 302\u001B[0m         \u001B[43mwaiter\u001B[49m\u001B[38;5;241;43m.\u001B[39;49m\u001B[43macquire\u001B[49m\u001B[43m(\u001B[49m\u001B[43m)\u001B[49m\n\u001B[0;32m    303\u001B[0m         gotit \u001B[38;5;241m=\u001B[39m \u001B[38;5;28;01mTrue\u001B[39;00m\n\u001B[0;32m    304\u001B[0m     \u001B[38;5;28;01melse\u001B[39;00m:\n",
      "\u001B[1;31mKeyboardInterrupt\u001B[0m: "
     ]
    }
   ],
   "source": [
    "import numpy as np\n",
    "from qiskit.algorithms.minimum_eigensolvers import VQE\n",
    "from qiskit.algorithms.optimizers import COBYLA, L_BFGS_B, SLSQP\n",
    "from qiskit.circuit.library import TwoLocal, EfficientSU2\n",
    "from qiskit.utils import algorithm_globals\n",
    "\n",
    "# we will iterate over these different optimizers\n",
    "# optimizers = [COBYLA(maxiter=100), L_BFGS_B(maxiter=100), SLSQP(maxiter=10)]\n",
    "optimizers = [COBYLA(maxiter=1000,disp=True)]\n",
    "converge_counts = np.empty([len(optimizers)], dtype=object)\n",
    "converge_vals = np.empty([len(optimizers)], dtype=object)\n",
    "# ansatz = TwoLocal(rotation_blocks=\"ry\", entanglement_blocks=\"cz\")\n",
    "ansatz = EfficientSU2(num_qubits, reps=3, entanglement='linear')\n",
    "result1 = object()\n",
    "for i, optimizer in enumerate(optimizers):\n",
    "    print(\"\\rOptimizer: {}        \".format(type(optimizer).__name__), end=\"\")\n",
    "    algorithm_globals.random_seed = 50\n",
    "    # ansatz1 = ansatz\n",
    "\n",
    "    counts = []\n",
    "    values = []\n",
    "\n",
    "    def store_intermediate_result(eval_count, parameters, mean, std):\n",
    "        counts.append(eval_count)\n",
    "        values.append(mean)\n",
    "\n",
    "    vqe = VQE(estimator, ansatz, optimizer, callback=store_intermediate_result)\n",
    "    result = vqe.compute_minimum_eigenvalue(operator=hamiltonian)\n",
    "    result1 = result\n",
    "    converge_counts[i] = np.asarray(counts)\n",
    "    converge_vals[i] = np.asarray(values)\n",
    "\n",
    "print(\"\\rOptimization complete      \");"
   ],
   "metadata": {
    "collapsed": false,
    "ExecuteTime": {
     "end_time": "2024-08-07T05:58:17.029445800Z",
     "start_time": "2024-08-07T05:58:10.515449300Z"
    }
   }
  },
  {
   "cell_type": "code",
   "execution_count": null,
   "outputs": [],
   "source": [
    "import pylab\n",
    "\n",
    "pylab.rcParams[\"figure.figsize\"] = (12, 8)\n",
    "for i, optimizer in enumerate(optimizers):\n",
    "    pylab.plot(converge_counts[i], converge_vals[i], label=type(optimizer).__name__)\n",
    "pylab.xlabel(\"Eval count\")\n",
    "pylab.ylabel(\"Energy\")\n",
    "pylab.title(\"Energy convergence for various optimizers\")\n",
    "pylab.legend(loc=\"upper right\");"
   ],
   "metadata": {
    "collapsed": false
   }
  },
  {
   "cell_type": "code",
   "execution_count": null,
   "outputs": [],
   "source": [
    "from qiskit.algorithms.minimum_eigensolvers import NumPyMinimumEigensolver\n",
    "from qiskit.opflow import PauliSumOp\n",
    "\n",
    "# 使用 NumPyEigensolver 计算基态能量\n",
    "numpy_solver = NumPyMinimumEigensolver()\n",
    "result = numpy_solver.compute_minimum_eigenvalue(operator=PauliSumOp(hamiltonian))\n",
    "# 获取基态能量\n",
    "ref_value = result.eigenvalue.real\n",
    "print(f\"Reference value: {ref_value:.5f}\")"
   ],
   "metadata": {
    "collapsed": false
   }
  },
  {
   "cell_type": "code",
   "execution_count": 11,
   "outputs": [
    {
     "data": {
      "text/plain": "<Figure size 1200x800 with 1 Axes>",
      "image/png": "[encoded data removed]"
     },
     "metadata": {},
     "output_type": "display_data"
    }
   ],
   "source": [
    "pylab.rcParams[\"figure.figsize\"] = (12, 8)\n",
    "for i, optimizer in enumerate(optimizers):\n",
    "    pylab.plot(\n",
    "        converge_counts[i],\n",
    "        abs(ref_value - converge_vals[i]),\n",
    "        label=type(optimizer).__name__,\n",
    "    )\n",
    "pylab.xlabel(\"Eval count\")\n",
    "pylab.ylabel(\"Energy difference from solution reference value\")\n",
    "pylab.title(\"Energy convergence for various optimizers\")\n",
    "pylab.yscale(\"log\")\n",
    "pylab.legend(loc=\"upper right\");"
   ],
   "metadata": {
    "collapsed": false,
    "ExecuteTime": {
     "end_time": "2024-07-10T07:36:15.381350100Z",
     "start_time": "2024-07-10T07:36:15.132689200Z"
    }
   }
  },
  {
   "cell_type": "code",
   "execution_count": 12,
   "outputs": [
    {
     "name": "stderr",
     "output_type": "stream",
     "text": [
      "C:\\Users\\18330\\AppData\\Local\\Temp\\ipykernel_6196\\869211831.py:8: DeprecationWarning: The property ``qiskit.utils.algorithm_globals.QiskitAlgorithmGlobals.random_seed`` is deprecated as of qiskit 0.45.0. It will be removed no earlier than 3 months after the release date. This algorithm utility has been migrated to an independent package: https://github.com/qiskit-community/qiskit-algorithms. You can run ``pip install qiskit_algorithms`` and import ``from qiskit_algorithms.utils`` instead. \n",
      "  algorithm_globals.random_seed = 50\n"
     ]
    },
    {
     "ename": "KeyboardInterrupt",
     "evalue": "",
     "output_type": "error",
     "traceback": [
      "\u001B[1;31m---------------------------------------------------------------------------\u001B[0m",
      "\u001B[1;31mKeyboardInterrupt\u001B[0m                         Traceback (most recent call last)",
      "Cell \u001B[1;32mIn[12], line 27\u001B[0m\n\u001B[0;32m     20\u001B[0m     values\u001B[38;5;241m.\u001B[39mappend(mean)\n\u001B[0;32m     23\u001B[0m vqe \u001B[38;5;241m=\u001B[39m VQE(\n\u001B[0;32m     24\u001B[0m     estimator, ansatz, optimizer, callback\u001B[38;5;241m=\u001B[39mstore_intermediate_result, gradient\u001B[38;5;241m=\u001B[39mgradient\n\u001B[0;32m     25\u001B[0m )\n\u001B[1;32m---> 27\u001B[0m result \u001B[38;5;241m=\u001B[39m \u001B[43mvqe\u001B[49m\u001B[38;5;241;43m.\u001B[39;49m\u001B[43mcompute_minimum_eigenvalue\u001B[49m\u001B[43m(\u001B[49m\u001B[43moperator\u001B[49m\u001B[38;5;241;43m=\u001B[39;49m\u001B[43mhamiltonian\u001B[49m\u001B[43m)\u001B[49m\n\u001B[0;32m     28\u001B[0m \u001B[38;5;28mprint\u001B[39m(\u001B[38;5;124mf\u001B[39m\u001B[38;5;124m\"\u001B[39m\u001B[38;5;124mValue using Gradient: \u001B[39m\u001B[38;5;132;01m{\u001B[39;00mresult\u001B[38;5;241m.\u001B[39meigenvalue\u001B[38;5;241m.\u001B[39mreal\u001B[38;5;132;01m:\u001B[39;00m\u001B[38;5;124m.5f\u001B[39m\u001B[38;5;132;01m}\u001B[39;00m\u001B[38;5;124m\"\u001B[39m)\n",
      "File \u001B[1;32mE:\\Anaconda3\\anaconda3\\envs\\qiskit\\lib\\site-packages\\qiskit\\algorithms\\minimum_eigensolvers\\vqe.py:191\u001B[0m, in \u001B[0;36mVQE.compute_minimum_eigenvalue\u001B[1;34m(self, operator, aux_operators)\u001B[0m\n\u001B[0;32m    186\u001B[0m \u001B[38;5;28;01melse\u001B[39;00m:\n\u001B[0;32m    187\u001B[0m     \u001B[38;5;66;03m# we always want to submit as many estimations per job as possible for minimal\u001B[39;00m\n\u001B[0;32m    188\u001B[0m     \u001B[38;5;66;03m# overhead on the hardware\u001B[39;00m\n\u001B[0;32m    189\u001B[0m     was_updated \u001B[38;5;241m=\u001B[39m _set_default_batchsize(\u001B[38;5;28mself\u001B[39m\u001B[38;5;241m.\u001B[39moptimizer)\n\u001B[1;32m--> 191\u001B[0m     optimizer_result \u001B[38;5;241m=\u001B[39m \u001B[38;5;28;43mself\u001B[39;49m\u001B[38;5;241;43m.\u001B[39;49m\u001B[43moptimizer\u001B[49m\u001B[38;5;241;43m.\u001B[39;49m\u001B[43mminimize\u001B[49m\u001B[43m(\u001B[49m\n\u001B[0;32m    192\u001B[0m \u001B[43m        \u001B[49m\u001B[43mfun\u001B[49m\u001B[38;5;241;43m=\u001B[39;49m\u001B[43mevaluate_energy\u001B[49m\u001B[43m,\u001B[49m\u001B[43m \u001B[49m\u001B[43mx0\u001B[49m\u001B[38;5;241;43m=\u001B[39;49m\u001B[43minitial_point\u001B[49m\u001B[43m,\u001B[49m\u001B[43m \u001B[49m\u001B[43mjac\u001B[49m\u001B[38;5;241;43m=\u001B[39;49m\u001B[43mevaluate_gradient\u001B[49m\u001B[43m,\u001B[49m\u001B[43m \u001B[49m\u001B[43mbounds\u001B[49m\u001B[38;5;241;43m=\u001B[39;49m\u001B[43mbounds\u001B[49m\n\u001B[0;32m    193\u001B[0m \u001B[43m    \u001B[49m\u001B[43m)\u001B[49m\n\u001B[0;32m    195\u001B[0m     \u001B[38;5;66;03m# reset to original value\u001B[39;00m\n\u001B[0;32m    196\u001B[0m     \u001B[38;5;28;01mif\u001B[39;00m was_updated:\n",
      "File \u001B[1;32mE:\\Anaconda3\\anaconda3\\envs\\qiskit\\lib\\site-packages\\qiskit\\algorithms\\optimizers\\scipy_optimizer.py:154\u001B[0m, in \u001B[0;36mSciPyOptimizer.minimize\u001B[1;34m(self, fun, x0, jac, bounds)\u001B[0m\n\u001B[0;32m    151\u001B[0m     swapped_deprecated_args \u001B[38;5;241m=\u001B[39m \u001B[38;5;28;01mTrue\u001B[39;00m\n\u001B[0;32m    152\u001B[0m     \u001B[38;5;28mself\u001B[39m\u001B[38;5;241m.\u001B[39m_options[\u001B[38;5;124m\"\u001B[39m\u001B[38;5;124mmaxfun\u001B[39m\u001B[38;5;124m\"\u001B[39m] \u001B[38;5;241m=\u001B[39m \u001B[38;5;28mself\u001B[39m\u001B[38;5;241m.\u001B[39m_options\u001B[38;5;241m.\u001B[39mpop(\u001B[38;5;124m\"\u001B[39m\u001B[38;5;124mmaxiter\u001B[39m\u001B[38;5;124m\"\u001B[39m)\n\u001B[1;32m--> 154\u001B[0m raw_result \u001B[38;5;241m=\u001B[39m \u001B[43mminimize\u001B[49m\u001B[43m(\u001B[49m\n\u001B[0;32m    155\u001B[0m \u001B[43m    \u001B[49m\u001B[43mfun\u001B[49m\u001B[38;5;241;43m=\u001B[39;49m\u001B[43mfun\u001B[49m\u001B[43m,\u001B[49m\n\u001B[0;32m    156\u001B[0m \u001B[43m    \u001B[49m\u001B[43mx0\u001B[49m\u001B[38;5;241;43m=\u001B[39;49m\u001B[43mx0\u001B[49m\u001B[43m,\u001B[49m\n\u001B[0;32m    157\u001B[0m \u001B[43m    \u001B[49m\u001B[43mmethod\u001B[49m\u001B[38;5;241;43m=\u001B[39;49m\u001B[38;5;28;43mself\u001B[39;49m\u001B[38;5;241;43m.\u001B[39;49m\u001B[43m_method\u001B[49m\u001B[43m,\u001B[49m\n\u001B[0;32m    158\u001B[0m \u001B[43m    \u001B[49m\u001B[43mjac\u001B[49m\u001B[38;5;241;43m=\u001B[39;49m\u001B[43mjac\u001B[49m\u001B[43m,\u001B[49m\n\u001B[0;32m    159\u001B[0m \u001B[43m    \u001B[49m\u001B[43mbounds\u001B[49m\u001B[38;5;241;43m=\u001B[39;49m\u001B[43mbounds\u001B[49m\u001B[43m,\u001B[49m\n\u001B[0;32m    160\u001B[0m \u001B[43m    \u001B[49m\u001B[43moptions\u001B[49m\u001B[38;5;241;43m=\u001B[39;49m\u001B[38;5;28;43mself\u001B[39;49m\u001B[38;5;241;43m.\u001B[39;49m\u001B[43m_options\u001B[49m\u001B[43m,\u001B[49m\n\u001B[0;32m    161\u001B[0m \u001B[43m    \u001B[49m\u001B[38;5;241;43m*\u001B[39;49m\u001B[38;5;241;43m*\u001B[39;49m\u001B[38;5;28;43mself\u001B[39;49m\u001B[38;5;241;43m.\u001B[39;49m\u001B[43m_kwargs\u001B[49m\u001B[43m,\u001B[49m\n\u001B[0;32m    162\u001B[0m \u001B[43m\u001B[49m\u001B[43m)\u001B[49m\n\u001B[0;32m    163\u001B[0m \u001B[38;5;28;01mif\u001B[39;00m swapped_deprecated_args:\n\u001B[0;32m    164\u001B[0m     \u001B[38;5;28mself\u001B[39m\u001B[38;5;241m.\u001B[39m_options[\u001B[38;5;124m\"\u001B[39m\u001B[38;5;124mmaxiter\u001B[39m\u001B[38;5;124m\"\u001B[39m] \u001B[38;5;241m=\u001B[39m \u001B[38;5;28mself\u001B[39m\u001B[38;5;241m.\u001B[39m_options\u001B[38;5;241m.\u001B[39mpop(\u001B[38;5;124m\"\u001B[39m\u001B[38;5;124mmaxfun\u001B[39m\u001B[38;5;124m\"\u001B[39m)\n",
      "File \u001B[1;32mE:\\Anaconda3\\anaconda3\\envs\\qiskit\\lib\\site-packages\\scipy\\optimize\\_minimize.py:702\u001B[0m, in \u001B[0;36mminimize\u001B[1;34m(fun, x0, args, method, jac, hess, hessp, bounds, constraints, tol, callback, options)\u001B[0m\n\u001B[0;32m    699\u001B[0m     res \u001B[38;5;241m=\u001B[39m _minimize_tnc(fun, x0, args, jac, bounds, callback\u001B[38;5;241m=\u001B[39mcallback,\n\u001B[0;32m    700\u001B[0m                         \u001B[38;5;241m*\u001B[39m\u001B[38;5;241m*\u001B[39moptions)\n\u001B[0;32m    701\u001B[0m \u001B[38;5;28;01melif\u001B[39;00m meth \u001B[38;5;241m==\u001B[39m \u001B[38;5;124m'\u001B[39m\u001B[38;5;124mcobyla\u001B[39m\u001B[38;5;124m'\u001B[39m:\n\u001B[1;32m--> 702\u001B[0m     res \u001B[38;5;241m=\u001B[39m \u001B[43m_minimize_cobyla\u001B[49m\u001B[43m(\u001B[49m\u001B[43mfun\u001B[49m\u001B[43m,\u001B[49m\u001B[43m \u001B[49m\u001B[43mx0\u001B[49m\u001B[43m,\u001B[49m\u001B[43m \u001B[49m\u001B[43margs\u001B[49m\u001B[43m,\u001B[49m\u001B[43m \u001B[49m\u001B[43mconstraints\u001B[49m\u001B[43m,\u001B[49m\u001B[43m \u001B[49m\u001B[43mcallback\u001B[49m\u001B[38;5;241;43m=\u001B[39;49m\u001B[43mcallback\u001B[49m\u001B[43m,\u001B[49m\n\u001B[0;32m    703\u001B[0m \u001B[43m                            \u001B[49m\u001B[38;5;241;43m*\u001B[39;49m\u001B[38;5;241;43m*\u001B[39;49m\u001B[43moptions\u001B[49m\u001B[43m)\u001B[49m\n\u001B[0;32m    704\u001B[0m \u001B[38;5;28;01melif\u001B[39;00m meth \u001B[38;5;241m==\u001B[39m \u001B[38;5;124m'\u001B[39m\u001B[38;5;124mslsqp\u001B[39m\u001B[38;5;124m'\u001B[39m:\n\u001B[0;32m    705\u001B[0m     res \u001B[38;5;241m=\u001B[39m _minimize_slsqp(fun, x0, args, jac, bounds,\n\u001B[0;32m    706\u001B[0m                           constraints, callback\u001B[38;5;241m=\u001B[39mcallback, \u001B[38;5;241m*\u001B[39m\u001B[38;5;241m*\u001B[39moptions)\n",
      "File \u001B[1;32mE:\\Anaconda3\\anaconda3\\envs\\qiskit\\lib\\site-packages\\scipy\\optimize\\_cobyla_py.py:34\u001B[0m, in \u001B[0;36msynchronized.<locals>.wrapper\u001B[1;34m(*args, **kwargs)\u001B[0m\n\u001B[0;32m     31\u001B[0m \u001B[38;5;129m@functools\u001B[39m\u001B[38;5;241m.\u001B[39mwraps(func)\n\u001B[0;32m     32\u001B[0m \u001B[38;5;28;01mdef\u001B[39;00m \u001B[38;5;21mwrapper\u001B[39m(\u001B[38;5;241m*\u001B[39margs, \u001B[38;5;241m*\u001B[39m\u001B[38;5;241m*\u001B[39mkwargs):\n\u001B[0;32m     33\u001B[0m     \u001B[38;5;28;01mwith\u001B[39;00m _module_lock:\n\u001B[1;32m---> 34\u001B[0m         \u001B[38;5;28;01mreturn\u001B[39;00m \u001B[43mfunc\u001B[49m\u001B[43m(\u001B[49m\u001B[38;5;241;43m*\u001B[39;49m\u001B[43margs\u001B[49m\u001B[43m,\u001B[49m\u001B[43m \u001B[49m\u001B[38;5;241;43m*\u001B[39;49m\u001B[38;5;241;43m*\u001B[39;49m\u001B[43mkwargs\u001B[49m\u001B[43m)\u001B[49m\n",
      "File \u001B[1;32mE:\\Anaconda3\\anaconda3\\envs\\qiskit\\lib\\site-packages\\scipy\\optimize\\_cobyla_py.py:270\u001B[0m, in \u001B[0;36m_minimize_cobyla\u001B[1;34m(fun, x0, args, constraints, rhobeg, tol, maxiter, disp, catol, callback, **unknown_options)\u001B[0m\n\u001B[0;32m    267\u001B[0m         callback(np\u001B[38;5;241m.\u001B[39mcopy(x))\n\u001B[0;32m    269\u001B[0m info \u001B[38;5;241m=\u001B[39m np\u001B[38;5;241m.\u001B[39mzeros(\u001B[38;5;241m4\u001B[39m, np\u001B[38;5;241m.\u001B[39mfloat64)\n\u001B[1;32m--> 270\u001B[0m xopt, info \u001B[38;5;241m=\u001B[39m \u001B[43mcobyla\u001B[49m\u001B[38;5;241;43m.\u001B[39;49m\u001B[43mminimize\u001B[49m\u001B[43m(\u001B[49m\u001B[43mcalcfc\u001B[49m\u001B[43m,\u001B[49m\u001B[43m \u001B[49m\u001B[43mm\u001B[49m\u001B[38;5;241;43m=\u001B[39;49m\u001B[43mm\u001B[49m\u001B[43m,\u001B[49m\u001B[43m \u001B[49m\u001B[43mx\u001B[49m\u001B[38;5;241;43m=\u001B[39;49m\u001B[43mnp\u001B[49m\u001B[38;5;241;43m.\u001B[39;49m\u001B[43mcopy\u001B[49m\u001B[43m(\u001B[49m\u001B[43mx0\u001B[49m\u001B[43m)\u001B[49m\u001B[43m,\u001B[49m\u001B[43m \u001B[49m\u001B[43mrhobeg\u001B[49m\u001B[38;5;241;43m=\u001B[39;49m\u001B[43mrhobeg\u001B[49m\u001B[43m,\u001B[49m\n\u001B[0;32m    271\u001B[0m \u001B[43m                              \u001B[49m\u001B[43mrhoend\u001B[49m\u001B[38;5;241;43m=\u001B[39;49m\u001B[43mrhoend\u001B[49m\u001B[43m,\u001B[49m\u001B[43m \u001B[49m\u001B[43miprint\u001B[49m\u001B[38;5;241;43m=\u001B[39;49m\u001B[43miprint\u001B[49m\u001B[43m,\u001B[49m\u001B[43m \u001B[49m\u001B[43mmaxfun\u001B[49m\u001B[38;5;241;43m=\u001B[39;49m\u001B[43mmaxfun\u001B[49m\u001B[43m,\u001B[49m\n\u001B[0;32m    272\u001B[0m \u001B[43m                              \u001B[49m\u001B[43mdinfo\u001B[49m\u001B[38;5;241;43m=\u001B[39;49m\u001B[43minfo\u001B[49m\u001B[43m,\u001B[49m\u001B[43m \u001B[49m\u001B[43mcallback\u001B[49m\u001B[38;5;241;43m=\u001B[39;49m\u001B[43mwrapped_callback\u001B[49m\u001B[43m)\u001B[49m\n\u001B[0;32m    274\u001B[0m \u001B[38;5;28;01mif\u001B[39;00m info[\u001B[38;5;241m3\u001B[39m] \u001B[38;5;241m>\u001B[39m catol:\n\u001B[0;32m    275\u001B[0m     \u001B[38;5;66;03m# Check constraint violation\u001B[39;00m\n\u001B[0;32m    276\u001B[0m     info[\u001B[38;5;241m0\u001B[39m] \u001B[38;5;241m=\u001B[39m \u001B[38;5;241m4\u001B[39m\n",
      "File \u001B[1;32mE:\\Anaconda3\\anaconda3\\envs\\qiskit\\lib\\site-packages\\scipy\\optimize\\_cobyla_py.py:258\u001B[0m, in \u001B[0;36m_minimize_cobyla.<locals>.calcfc\u001B[1;34m(x, con)\u001B[0m\n\u001B[0;32m    257\u001B[0m \u001B[38;5;28;01mdef\u001B[39;00m \u001B[38;5;21mcalcfc\u001B[39m(x, con):\n\u001B[1;32m--> 258\u001B[0m     f \u001B[38;5;241m=\u001B[39m \u001B[43mfun\u001B[49m\u001B[43m(\u001B[49m\u001B[43mnp\u001B[49m\u001B[38;5;241;43m.\u001B[39;49m\u001B[43mcopy\u001B[49m\u001B[43m(\u001B[49m\u001B[43mx\u001B[49m\u001B[43m)\u001B[49m\u001B[43m,\u001B[49m\u001B[43m \u001B[49m\u001B[38;5;241;43m*\u001B[39;49m\u001B[43margs\u001B[49m\u001B[43m)\u001B[49m\n\u001B[0;32m    259\u001B[0m     i \u001B[38;5;241m=\u001B[39m \u001B[38;5;241m0\u001B[39m\n\u001B[0;32m    260\u001B[0m     \u001B[38;5;28;01mfor\u001B[39;00m size, c \u001B[38;5;129;01min\u001B[39;00m izip(cons_lengths, constraints):\n",
      "File \u001B[1;32mE:\\Anaconda3\\anaconda3\\envs\\qiskit\\lib\\site-packages\\qiskit\\algorithms\\minimum_eigensolvers\\vqe.py:254\u001B[0m, in \u001B[0;36mVQE._get_evaluate_energy.<locals>.evaluate_energy\u001B[1;34m(parameters)\u001B[0m\n\u001B[0;32m    252\u001B[0m \u001B[38;5;28;01mtry\u001B[39;00m:\n\u001B[0;32m    253\u001B[0m     job \u001B[38;5;241m=\u001B[39m \u001B[38;5;28mself\u001B[39m\u001B[38;5;241m.\u001B[39mestimator\u001B[38;5;241m.\u001B[39mrun(batch_size \u001B[38;5;241m*\u001B[39m [ansatz], batch_size \u001B[38;5;241m*\u001B[39m [operator], parameters)\n\u001B[1;32m--> 254\u001B[0m     estimator_result \u001B[38;5;241m=\u001B[39m \u001B[43mjob\u001B[49m\u001B[38;5;241;43m.\u001B[39;49m\u001B[43mresult\u001B[49m\u001B[43m(\u001B[49m\u001B[43m)\u001B[49m\n\u001B[0;32m    255\u001B[0m \u001B[38;5;28;01mexcept\u001B[39;00m \u001B[38;5;167;01mException\u001B[39;00m \u001B[38;5;28;01mas\u001B[39;00m exc:\n\u001B[0;32m    256\u001B[0m     \u001B[38;5;28;01mraise\u001B[39;00m AlgorithmError(\u001B[38;5;124m\"\u001B[39m\u001B[38;5;124mThe primitive job to evaluate the energy failed!\u001B[39m\u001B[38;5;124m\"\u001B[39m) \u001B[38;5;28;01mfrom\u001B[39;00m \u001B[38;5;21;01mexc\u001B[39;00m\n",
      "File \u001B[1;32mE:\\Anaconda3\\anaconda3\\envs\\qiskit\\lib\\site-packages\\qiskit\\primitives\\primitive_job.py:55\u001B[0m, in \u001B[0;36mPrimitiveJob.result\u001B[1;34m(self)\u001B[0m\n\u001B[0;32m     53\u001B[0m \u001B[38;5;250m\u001B[39m\u001B[38;5;124;03m\"\"\"Return the results of the job.\"\"\"\u001B[39;00m\n\u001B[0;32m     54\u001B[0m \u001B[38;5;28mself\u001B[39m\u001B[38;5;241m.\u001B[39m_check_submitted()\n\u001B[1;32m---> 55\u001B[0m \u001B[38;5;28;01mreturn\u001B[39;00m \u001B[38;5;28;43mself\u001B[39;49m\u001B[38;5;241;43m.\u001B[39;49m\u001B[43m_future\u001B[49m\u001B[38;5;241;43m.\u001B[39;49m\u001B[43mresult\u001B[49m\u001B[43m(\u001B[49m\u001B[43m)\u001B[49m\n",
      "File \u001B[1;32mE:\\Anaconda3\\anaconda3\\envs\\qiskit\\lib\\concurrent\\futures\\_base.py:439\u001B[0m, in \u001B[0;36mFuture.result\u001B[1;34m(self, timeout)\u001B[0m\n\u001B[0;32m    436\u001B[0m \u001B[38;5;28;01melif\u001B[39;00m \u001B[38;5;28mself\u001B[39m\u001B[38;5;241m.\u001B[39m_state \u001B[38;5;241m==\u001B[39m FINISHED:\n\u001B[0;32m    437\u001B[0m     \u001B[38;5;28;01mreturn\u001B[39;00m \u001B[38;5;28mself\u001B[39m\u001B[38;5;241m.\u001B[39m__get_result()\n\u001B[1;32m--> 439\u001B[0m \u001B[38;5;28;43mself\u001B[39;49m\u001B[38;5;241;43m.\u001B[39;49m\u001B[43m_condition\u001B[49m\u001B[38;5;241;43m.\u001B[39;49m\u001B[43mwait\u001B[49m\u001B[43m(\u001B[49m\u001B[43mtimeout\u001B[49m\u001B[43m)\u001B[49m\n\u001B[0;32m    441\u001B[0m \u001B[38;5;28;01mif\u001B[39;00m \u001B[38;5;28mself\u001B[39m\u001B[38;5;241m.\u001B[39m_state \u001B[38;5;129;01min\u001B[39;00m [CANCELLED, CANCELLED_AND_NOTIFIED]:\n\u001B[0;32m    442\u001B[0m     \u001B[38;5;28;01mraise\u001B[39;00m CancelledError()\n",
      "File \u001B[1;32mE:\\Anaconda3\\anaconda3\\envs\\qiskit\\lib\\threading.py:302\u001B[0m, in \u001B[0;36mCondition.wait\u001B[1;34m(self, timeout)\u001B[0m\n\u001B[0;32m    300\u001B[0m \u001B[38;5;28;01mtry\u001B[39;00m:    \u001B[38;5;66;03m# restore state no matter what (e.g., KeyboardInterrupt)\u001B[39;00m\n\u001B[0;32m    301\u001B[0m     \u001B[38;5;28;01mif\u001B[39;00m timeout \u001B[38;5;129;01mis\u001B[39;00m \u001B[38;5;28;01mNone\u001B[39;00m:\n\u001B[1;32m--> 302\u001B[0m         \u001B[43mwaiter\u001B[49m\u001B[38;5;241;43m.\u001B[39;49m\u001B[43macquire\u001B[49m\u001B[43m(\u001B[49m\u001B[43m)\u001B[49m\n\u001B[0;32m    303\u001B[0m         gotit \u001B[38;5;241m=\u001B[39m \u001B[38;5;28;01mTrue\u001B[39;00m\n\u001B[0;32m    304\u001B[0m     \u001B[38;5;28;01melse\u001B[39;00m:\n",
      "\u001B[1;31mKeyboardInterrupt\u001B[0m: "
     ]
    }
   ],
   "source": [
    "# 第一步是初始化相应的基元和基元梯度：\n",
    "from qiskit.algorithms.gradients import FiniteDiffEstimatorGradient\n",
    "\n",
    "estimator = Estimator()\n",
    "gradient = FiniteDiffEstimatorGradient(estimator, epsilon=0.01)\n",
    "\n",
    "# 现在，您可以使用上面的 FiniteDiffEstimatorGradient 检查 SLSQP 运行：\n",
    "algorithm_globals.random_seed = 50\n",
    "# ansatz = TwoLocal(rotation_blocks=\"ry\", entanglement_blocks=\"cz\")\n",
    "# ansatz = EfficientSU2(num_qubits, reps=2, entanglement='linear')\n",
    "# optimizer = SLSQP(maxiter=100)\n",
    "optimizer = COBYLA(maxiter = 1000)\n",
    "\n",
    "counts = []\n",
    "values = []\n",
    "\n",
    "\n",
    "def store_intermediate_result(eval_count, parameters, mean, std):\n",
    "    counts.append(eval_count)\n",
    "    values.append(mean)\n",
    "\n",
    "\n",
    "vqe = VQE(\n",
    "    estimator, ansatz, optimizer, callback=store_intermediate_result, gradient=gradient\n",
    ")\n",
    "\n",
    "result = vqe.compute_minimum_eigenvalue(operator=hamiltonian)\n",
    "print(f\"Value using Gradient: {result.eigenvalue.real:.5f}\")"
   ],
   "metadata": {
    "collapsed": false,
    "ExecuteTime": {
     "end_time": "2024-07-10T07:42:25.467640900Z",
     "start_time": "2024-07-10T07:37:22.989668600Z"
    }
   }
  },
  {
   "cell_type": "code",
   "execution_count": null,
   "outputs": [],
   "source": [
    "pylab.rcParams[\"figure.figsize\"] = (12, 8)\n",
    "pylab.plot(counts, values, label=type(optimizer).__name__)\n",
    "pylab.xlabel(\"Eval count\")\n",
    "pylab.ylabel(\"Energy\")\n",
    "pylab.title(\"Energy convergence using Gradient\")\n",
    "pylab.legend(loc=\"upper right\");"
   ],
   "metadata": {
    "collapsed": false
   }
  },
  {
   "cell_type": "code",
   "execution_count": null,
   "outputs": [],
   "source": [
    "print(result)\n",
    "cost_function_evals = result.cost_function_evals"
   ],
   "metadata": {
    "collapsed": false
   }
  },
  {
   "cell_type": "code",
   "execution_count": null,
   "outputs": [],
   "source": [
    "# 上面的结果中取出optimal_point并将其用作后续计算的initial_point\n",
    "initial_pt = result.optimal_point\n",
    "\n",
    "estimator1 = Estimator()\n",
    "gradient1 = FiniteDiffEstimatorGradient(estimator, epsilon=0.01)\n",
    "# ansatz1 = TwoLocal(rotation_blocks=\"ry\", entanglement_blocks=\"cz\")\n",
    "# ansatz1 = EfficientSU2(num_qubits, reps=2, entanglement='linear')\n",
    "ansatz1 = ansatz\n",
    "optimizer1 = COBYLA(maxiter=1000)\n",
    "\n",
    "vqe1 = VQE(\n",
    "    estimator1, ansatz1, optimizer1, gradient=gradient1, initial_point=initial_pt\n",
    ")\n",
    "result1 = vqe1.compute_minimum_eigenvalue(operator=hamiltonian)\n",
    "print(result1)\n",
    "\n",
    "cost_function_evals1 = result1.cost_function_evals\n",
    "print(\n",
    "    f\"cost_function_evals is {cost_function_evals1} with initial point versus {cost_function_evals} without it.\"\n",
    ")"
   ],
   "metadata": {
    "collapsed": false
   }
  },
  {
   "cell_type": "code",
   "execution_count": null,
   "outputs": [],
   "source": [
    "from qiskit import transpile, assemble, Aer\n",
    "\n",
    "optimized_params = result1.optimal_point\n",
    "optimized_ansatz = ansatz1.bind_parameters(optimized_params)\n",
    "backend = Aer.get_backend('statevector_simulator')\n",
    "# 对每个量子比特进行测量\n",
    "# for i in range(num_qubits):\n",
    "#     measuring_circuit = optimized_ansatz.copy()\n",
    "#     measuring_circuit.measure(i, 0)\n",
    "#     job = execute(measuring_circuit, backend, shots=1024)\n",
    "#     counts = job.result().get_counts()\n",
    "#     # 计算 <Z_i>\n",
    "#     expectation_z = (counts.get('0', 0) - counts.get('1', 0)) / 1024\n",
    "#     print(f\"<Z_{i}> = {expectation_z}\")\n",
    "optimized_ansatz.measure_all()\n",
    "job = sampler.run(optimized_ansatz,shots=10000)\n",
    "result = job.result()\n",
    "quasi_dist = result.quasi_dists[0]\n",
    "counts = quasi_dist.binary_probabilities()\n",
    "print(counts)\n",
    "# backend = Aer.get_backend('qasm_simulator')\n",
    "# transpiled_circuit = transpile(optimized_ansatz, backend)\n",
    "# print(transpiled_circuit.draw())\n",
    "# qobj = assemble(transpiled_circuit, backend, shots=10000)\n",
    "#\n",
    "# # Execute the circuit on the simulator\n",
    "# result = execute(transpiled_circuit, backend, shots=10000).result()\n",
    "# # print(result)\n",
    "# # Get the measurement results\n",
    "# counts = result.get_counts(transpiled_circuit)\n",
    "# print(\"Measurement results:\", counts)"
   ],
   "metadata": {
    "collapsed": false
   }
  },
  {
   "cell_type": "code",
   "execution_count": null,
   "outputs": [],
   "source": [
    "# 测量结果\n",
    "# measurement_result = '000011110100'\n",
    "measurement_result = '000011110000'\n",
    "# 将测量结果转换为+1和-1\n",
    "def measurement_to_expectation(measurement):\n",
    "    return np.array([-1 if bit == '1' else 1 for bit in measurement])\n",
    "\n",
    "# 计算每个项的期望值并累加\n",
    "def calculate_energy(hamiltonian, measurement_result):\n",
    "    energy = 0.0\n",
    "    expectation_values = measurement_to_expectation(measurement_result)\n",
    "\n",
    "    for pauli, coeff in zip(hamiltonian.paulis.to_labels(), hamiltonian.coeffs):\n",
    "        term_value = 1.0\n",
    "        for idx, pauli_char in enumerate(pauli):\n",
    "            if pauli_char == 'Z':\n",
    "                term_value *= expectation_values[idx]\n",
    "        energy += coeff * term_value\n",
    "\n",
    "    return energy\n",
    "\n",
    "# 计算并输出能量\n",
    "energy = calculate_energy(hamiltonian, measurement_result)\n",
    "print(f\"Energy for measurement result {measurement_result}: {energy}\")"
   ],
   "metadata": {
    "collapsed": false
   }
  },
  {
   "cell_type": "code",
   "execution_count": null,
   "outputs": [],
   "source": [],
   "metadata": {
    "collapsed": false
   }
  }
 ],
 "metadata": {
  "kernelspec": {
   "display_name": "Python 3",
   "language": "python",
   "name": "python3"
  },
  "language_info": {
   "codemirror_mode": {
    "name": "ipython",
    "version": 2
   },
   "file_extension": ".py",
   "mimetype": "text/x-python",
   "name": "python",
   "nbconvert_exporter": "python",
   "pygments_lexer": "ipython2",
   "version": "2.7.6"
  }
 },
 "nbformat": 4,
 "nbformat_minor": 0
}
