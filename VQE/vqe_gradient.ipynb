{
 "cells": [
  {
   "cell_type": "code",
   "id": "initial_id",
   "metadata": {
    "collapsed": true,
    "ExecuteTime": {
     "end_time": "2025-01-14T13:29:23.516519Z",
     "start_time": "2025-01-14T13:29:23.006610Z"
    }
   },
   "source": [
    "from qiskit import QuantumCircuit\n",
    "from qiskit.algorithms import VQE\n",
    "from qiskit.opflow import PauliSumOp\n",
    "from qiskit.utils import QuantumInstance\n",
    "from qiskit_aer import AerSimulator\n",
    "from qiskit.algorithms.optimizers import SLSQP\n",
    "from qiskit.circuit import Parameter\n",
    "\n",
    "# 创建量子电路并为每个门添加参数\n",
    "theta = Parameter('θ')  # 创建一个参数化变量\n",
    "\n",
    "qc = QuantumCircuit(2)\n",
    "qc.h(0)  # Hadamard 门不需要参数\n",
    "qc.cx(0, 1)  # CNOT 门也不需要参数\n",
    "qc.rx(theta, 0)  # 为量子比特 0 添加参数化的旋转门 Rx(θ)\n",
    "\n",
    "# 定义哈密顿量 (举例 ZZ + XX)\n",
    "hamiltonian = PauliSumOp.from_list([(\"ZZ\", 1.0), (\"XX\", 0.5), (\"ZZ\", -0.8)])\n",
    "\n",
    "# 使用优化器\n",
    "optimizer = SLSQP()\n",
    "\n",
    "# 创建VQE实例\n",
    "vqe = VQE(optimizer=optimizer, ansatz=qc, quantum_instance=AerSimulator())\n",
    "\n",
    "# 计算结果\n",
    "result = vqe.compute_minimum_eigenvalue(operator=hamiltonian)\n",
    "\n",
    "# 输出结果\n",
    "print(f\"Measured Energy Expectation: {result.eigenvalue.real}\")\n",
    "\n"
   ],
   "outputs": [
    {
     "name": "stderr",
     "output_type": "stream",
     "text": [
      "C:\\Users\\李华宪\\AppData\\Local\\Temp\\ipykernel_98916\\1596386160.py:24: DeprecationWarning: The class ``qiskit.algorithms.minimum_eigen_solvers.vqe.VQE`` is deprecated as of qiskit-terra 0.24.0. It will be removed no earlier than 3 months after the release date. Instead, use the class ``qiskit.algorithms.minimum_eigensolvers.VQE``. See https://qisk.it/algo_migration for a migration guide.\n",
      "  vqe = VQE(optimizer=optimizer, ansatz=qc, quantum_instance=AerSimulator())\n"
     ]
    },
    {
     "name": "stdout",
     "output_type": "stream",
     "text": [
      "Measured Energy Expectation: 0.648828125\n"
     ]
    }
   ],
   "execution_count": 4
  },
  {
   "metadata": {},
   "cell_type": "code",
   "outputs": [],
   "execution_count": null,
   "source": "",
   "id": "56dd76c17ff6a9ec"
  }
 ],
 "metadata": {
  "kernelspec": {
   "display_name": "Python 3",
   "language": "python",
   "name": "python3"
  },
  "language_info": {
   "codemirror_mode": {
    "name": "ipython",
    "version": 2
   },
   "file_extension": ".py",
   "mimetype": "text/x-python",
   "name": "python",
   "nbconvert_exporter": "python",
   "pygments_lexer": "ipython2",
   "version": "2.7.6"
  }
 },
 "nbformat": 4,
 "nbformat_minor": 5
}
