{
 "cells": [
  {
   "cell_type": "code",
   "id": "initial_id",
   "metadata": {
    "collapsed": true,
    "ExecuteTime": {
     "end_time": "2025-01-14T12:04:11.329224Z",
     "start_time": "2025-01-14T12:04:11.317228Z"
    }
   },
   "source": [
    "from qiskit_aer import AerSimulator\n",
    "from qiskit_algorithms import VQE, NumPyMinimumEigensolver\n",
    "from qiskit_algorithms.optimizers import SLSQP\n",
    "from qiskit import QuantumCircuit, Aer, execute\n",
    "from qiskit.opflow import PauliSumOp, CircuitStateFn, ExpectationFactory\n",
    "\n",
    "# Step 1: 定义哈密顿量 (保利项表示)\n",
    "hamiltonian = PauliSumOp.from_list([(\"ZZ\", 1.0), (\"XX\", 0.5), (\"ZZ\", -0.8)])\n",
    "\n",
    "# Step 2: 构造参数化量子电路\n",
    "n_qubits = 2\n",
    "qc = QuantumCircuit(n_qubits)\n",
    "qc.h(0)  # 示例：应用 Hadamard 门\n",
    "qc.rx(0.5, 1)  # 示例：应用参数化旋转门\n",
    "# circuit_state = CircuitStateFn(qc)\n",
    "# 设置优化器\n",
    "optimizer = SLSQP()\n",
    "\n",
    "# 使用 NumPyEigensolver 计算基态能量\n",
    "numpy_solver = NumPyMinimumEigensolver()\n",
    "result = numpy_solver.compute_minimum_eigenvalue(operator=hamiltonian)\n",
    "# 获取基态能量\n",
    "ref_value = result.eigenvalue.real\n",
    "print(f\"Reference value: {ref_value:.5f}\")\n",
    "# # 运行VQE算法\n",
    "# # 创建VQE实例\n",
    "# vqe = VQE(optimizer=optimizer, ansatz=qc, quantum_instance=AerSimulator())\n",
    "#\n",
    "# # 计算结果\n",
    "# result = vqe.compute_minimum_eigenvalue(operator=hamiltonian)\n",
    "# # 输出期望值\n",
    "# print(f\"Measured expectation value: {result['eigenvalue']}\")\n",
    "# # Step 3: 测量期望值\n",
    "# # 自动基于测量分解计算保利项期望值\n",
    "# expectation = ExpectationFactory.build(operator=hamiltonian, backend=Aer.get_backend('qasm_simulator'))\n",
    "# measured_expectation = expectation.convert(circuit_state).eval()\n",
    "#\n",
    "# print(\"Measured Energy Expectation:\", measured_expectation)"
   ],
   "outputs": [
    {
     "name": "stdout",
     "output_type": "stream",
     "text": [
      "Reference value: -0.70000\n"
     ]
    }
   ],
   "execution_count": 8
  },
  {
   "metadata": {},
   "cell_type": "code",
   "outputs": [],
   "execution_count": null,
   "source": "",
   "id": "f17c801f6ed1dbd6"
  }
 ],
 "metadata": {
  "kernelspec": {
   "display_name": "Python 3",
   "language": "python",
   "name": "python3"
  },
  "language_info": {
   "codemirror_mode": {
    "name": "ipython",
    "version": 2
   },
   "file_extension": ".py",
   "mimetype": "text/x-python",
   "name": "python",
   "nbconvert_exporter": "python",
   "pygments_lexer": "ipython2",
   "version": "2.7.6"
  }
 },
 "nbformat": 4,
 "nbformat_minor": 5
}
