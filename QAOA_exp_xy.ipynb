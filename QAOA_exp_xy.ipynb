{
 "cells": [
  {
   "cell_type": "code",
   "execution_count": 2,
   "metadata": {
    "collapsed": true,
    "ExecuteTime": {
     "end_time": "2024-09-08T11:58:20.622835800Z",
     "start_time": "2024-09-08T11:58:20.599290300Z"
    }
   },
   "outputs": [],
   "source": [
    "# from qiskit.opflow import I, Z, X, Y, SparsePauliOp\n",
    "import numpy as np\n",
    "# from juices import Juices\n",
    "# 假设有 3 台机器和 3 个操作\n",
    "m = 3 # 机器数量\n",
    "n = 2 # 操作数量\n",
    "l = 1  # 用于表示 C_max 的二进制位数\n",
    "\n",
    "# 处理时间矩阵 (例如)\n",
    "p = np.array([[1, 2, 3],[3,1,2]])\n",
    "\n",
    "# 常数\n",
    "K1 = 5\n",
    "P = 3\n",
    "\n",
    "# 量子比特数量\n",
    "num_qubits = n * m + l"
   ]
  },
  {
   "cell_type": "code",
   "execution_count": 3,
   "outputs": [],
   "source": [
    "# #\n",
    "# def pauli_z_term(index, num_qubits):\n",
    "#     \"\"\"初始化一个 Pauli-I 门的列表,指定索引 index 替换为 Pauli-Z 门\"\"\"\n",
    "#     __paulis = ['I'] * num_qubits\n",
    "#     paulis[index] = 'Z'\n",
    "#     return ''.join(paulis)  # 将列表转化为字符串\n",
    "#\n",
    "# def pauli_x_term(index, num_qubits):\n",
    "#     paulis = ['I'] * num_qubits\n",
    "#     paulis[index] = 'X'\n",
    "#     return ''.join(paulis)\n",
    "# def pauli_y_term(index, num_qubits):\n",
    "#     paulis = ['I'] * num_qubits\n",
    "#     paulis[index] = 'Y'\n",
    "#     return ''.join(paulis)"
   ],
   "metadata": {
    "collapsed": false,
    "ExecuteTime": {
     "end_time": "2024-09-08T11:58:21.414923600Z",
     "start_time": "2024-09-08T11:58:21.352292300Z"
    }
   }
  },
  {
   "cell_type": "code",
   "execution_count": 4,
   "outputs": [],
   "source": [
    "def append__zz_term( qc, qubit1, qubit2, gamma):\n",
    "    qc.cx(qubit1, qubit2)\n",
    "    qc.rz( 2 * gamma, qubit2)\n",
    "    qc.cx(qubit1, qubit2)\n",
    "\n",
    "def append__z_term(qc, qubit, gamma):\n",
    "    qc.rz( 2 * gamma, qubit)\n",
    "def append__mixer_term(qc, qubit, beta):\n",
    "    for i in range(n):\n",
    "        for j1 in range(m):\n",
    "            for j2 in range(m):\n",
    "                if j1<j2:\n",
    "                    qc.rxx(2 * beta, i * m + j1, i * m + j2)\n",
    "                    qc.ryy(2 * beta, i * m + j1, i * m + j2)\n",
    "    # qc.rx(2 * beta, qubit)"
   ],
   "metadata": {
    "collapsed": false,
    "ExecuteTime": {
     "end_time": "2024-09-08T11:58:22.016055Z",
     "start_time": "2024-09-08T11:58:21.975564500Z"
    }
   }
  },
  {
   "cell_type": "code",
   "execution_count": 5,
   "outputs": [],
   "source": [
    "def get_cost_circuit1(gamma, n, m, l, K1, P, p, qc):\n",
    "    # beta, gamma = params[:len(params)//2], params[len(params)//2:]\n",
    "    for h in range(l):\n",
    "        # print(m * n + h)\n",
    "        coef = - 2**h\n",
    "        append__z_term(qc, m * n + h, coef * gamma)\n",
    "    return qc"
   ],
   "metadata": {
    "collapsed": false,
    "ExecuteTime": {
     "end_time": "2024-09-08T11:58:26.508610800Z",
     "start_time": "2024-09-08T11:58:26.445269400Z"
    }
   }
  },
  {
   "cell_type": "code",
   "execution_count": 6,
   "outputs": [],
   "source": [
    "# def get_cost_circuit2(gamma, n, m, l, K1, P, p, qc):\n",
    "#     # beta, gamma = params[:len(params)//2], params[len(params)//2:]\n",
    "#     for i in range(n):\n",
    "#         for j in range(m):\n",
    "#             append__z_term(qc, i * m + j, (2 - m) * K1*gamma)\n",
    "#     for i in range(n):\n",
    "#         for j1 in range(m):\n",
    "#             for j2 in range(m):\n",
    "#                 if j1 != j2:\n",
    "#                     append__zz_term(qc, i * m + j1, i * m + j2, K1/2*gamma)\n",
    "#     return qc"
   ],
   "metadata": {
    "collapsed": false,
    "ExecuteTime": {
     "end_time": "2024-09-08T11:58:30.129739200Z",
     "start_time": "2024-09-08T11:58:30.110234500Z"
    }
   }
  },
  {
   "cell_type": "code",
   "execution_count": 7,
   "outputs": [],
   "source": [
    "def get_cost_circuit3(gamma, n, m, l, K1, P, p, qc):\n",
    "    # beta, gamma = params[:len(params)//2], params[len(params)//2:]\n",
    "    for j in range(m):\n",
    "        for i in range(n):\n",
    "            coef = -1/2 * (np.sum(p[:, j]) - ( 2 ** l-1)) * P\n",
    "            append__z_term(qc, i * m + j, 2 * coef * p[i,j] * gamma)\n",
    "        for h in range(l):\n",
    "            coef = -1/2 * (np.sum(p[:, j]) - ( 2 ** l-1)) * P\n",
    "            append__z_term(qc, m * n + h, -2 * (2 ** h) * coef * gamma)\n",
    "        for i1 in range(n):\n",
    "            for i2 in range(n):\n",
    "                if i1 != i2:\n",
    "                    coef = 1/2 * p[i1, j] * p[i2, j] * P\n",
    "                    append__zz_term(qc, i1 * m + j, i2 * m + j, coef * gamma)\n",
    "        for i in range(n):\n",
    "            for h in range(l):\n",
    "                coef = -1 * p[i,j] * 2 ** h * P\n",
    "                append__zz_term(qc, i * m + j, m * n + h, coef * gamma)\n",
    "        for h1 in range(l):\n",
    "            for h2 in range(l):\n",
    "                if h1 != h2:\n",
    "                    coef = 1/2 * 2 ** h1 * 2 ** h2 * P\n",
    "                    append__zz_term(qc, m * n + h1, m * n + h2, coef * gamma)\n",
    "    return qc\n"
   ],
   "metadata": {
    "collapsed": false,
    "ExecuteTime": {
     "end_time": "2024-09-08T11:58:32.838063400Z",
     "start_time": "2024-09-08T11:58:32.770184100Z"
    }
   }
  },
  {
   "cell_type": "code",
   "execution_count": 8,
   "outputs": [],
   "source": [
    "def get_mixer_circuit(beta, n, m, l, K1, P, p, qc):\n",
    "    # beta, gamma = params[:len(params)//2], params[len(params)//2:]\n",
    "    for i in range(num_qubits):\n",
    "        append__mixer_term(qc, i,beta)\n",
    "        qc.barrier()\n",
    "    return qc"
   ],
   "metadata": {
    "collapsed": false,
    "ExecuteTime": {
     "end_time": "2024-09-08T11:58:37.530067200Z",
     "start_time": "2024-09-08T11:58:37.489091Z"
    }
   }
  },
  {
   "cell_type": "code",
   "execution_count": 9,
   "outputs": [],
   "source": [
    "def invert_counts(s):\n",
    "    return s[::-1]"
   ],
   "metadata": {
    "collapsed": false,
    "ExecuteTime": {
     "end_time": "2024-09-08T11:58:41.528230700Z",
     "start_time": "2024-09-08T11:58:41.495619800Z"
    }
   }
  },
  {
   "cell_type": "code",
   "execution_count": 10,
   "outputs": [],
   "source": [
    "from qiskit.circuit.library import PauliEvolutionGate\n",
    "from qiskit import Aer, transpile, assemble, QuantumCircuit, execute\n",
    "\n",
    "\n",
    "# 定义成本函数\n",
    "def cost_function(params, n, m, l, K1, P, p):\n",
    "    beta, gamma = params[:len(params)//2], params[len(params)//2:]\n",
    "    num_qubits = n * m + l\n",
    "    qc = QuantumCircuit(num_qubits, num_qubits)  # 添加经典寄存器\n",
    "\n",
    "    # 初始化量子态到 |+> 态\n",
    "    qc.h(range(n * m + l))\n",
    "    # print(qc)\n",
    "\n",
    "    # for g, b in zip(gamma, beta):\n",
    "    #     # 应用问题哈密顿量\n",
    "    #     qc.append(PauliEvolutionGate(cost_hamiltonian, g), list(range(num_qubits)))\n",
    "    #     # 应用混合哈密顿量\n",
    "    #     qc.append(PauliEvolutionGate(mixer_hamiltonian, b), list(range(num_qubits)))\n",
    "    length  = len(params)\n",
    "    for i in range(int(length/2)):\n",
    "        # qc.append(qc)\n",
    "        get_cost_circuit1(gamma[i], n, m, l, K1, P, p, qc)\n",
    "        # get_cost_circuit2(gamma[i], n, m, l, K1, P, p, qc)\n",
    "        get_cost_circuit3(gamma[i], n, m, l, K1, P, p, qc)\n",
    "        get_mixer_circuit(beta[i], n, m, l, K1, P, p, qc)\n",
    "\n",
    "    # print(qc)\n",
    "    # 模拟电路\n",
    "    # 添加测量指令\n",
    "    qc.measure(range(num_qubits), range(num_qubits))\n",
    "    backend = Aer.get_backend('qasm_simulator')\n",
    "    result = execute(qc, backend, seed_simulator=10, shots=10000).result()\n",
    "    counts = result.get_counts(qc)\n",
    "    # 计算期望值\n",
    "    expectation = 0\n",
    "    for bitstring, count in counts.items():\n",
    "        bitstring = invert_counts(bitstring)\n",
    "        prob = count / 10000\n",
    "        z_h = np.array([int(bit) for bit in bitstring[(n*m):]])\n",
    "        x_ij = np.array([int(bit) for bit in bitstring[:(n*m)]]).reshape(n, m)\n",
    "\n",
    "        E1 = np.sum([2 ** h * z for h, z in enumerate(z_h)])\n",
    "        E2 = K1 * np.sum([(np.sum(x_ij[i]) - 1) ** 2 for i in range(n)])\n",
    "        # alpha_s = np.max([0, np.sum(x_ij * p) - np.sum([2 ** h * z for h, z in enumerate(z_h)])])\n",
    "        E3 = 0\n",
    "        for j in range(m):\n",
    "\n",
    "            sum_xp = np.sum([x_ij[i][j] * p[i][j] for i in range(n)])\n",
    "\n",
    "            sum_zh = np.sum([2**h * z_h[h] for h in range(l)])\n",
    "\n",
    "            max_value = max(0, sum_xp - sum_zh)\n",
    "\n",
    "            E3 += P * (max_value)**2\n",
    "        E =  E1 + E2 + E3\n",
    "        # E = np.sum([2 ** h * z for h, z in enumerate(z_h)]) + K1 * np.sum([(np.sum(x_ij[i]) - 1) ** 2 for i in range(n)]) + P * alpha_s ** 2\n",
    "        expectation += E * prob\n",
    "\n",
    "    return expectation, counts"
   ],
   "metadata": {
    "collapsed": false,
    "ExecuteTime": {
     "end_time": "2024-09-08T11:58:52.475298400Z",
     "start_time": "2024-09-08T11:58:50.484422300Z"
    }
   }
  },
  {
   "cell_type": "code",
   "execution_count": 11,
   "outputs": [],
   "source": [
    "from qiskit_algorithms.optimizers import COBYLA\n",
    "\n",
    "\n",
    "# 优化 QAOA 参数\n",
    "def optimize_qaoa(n, m, l, K1, P, p, params):\n",
    "    def objective(params):\n",
    "        expectation, _ = cost_function(params, n, m, l, K1, P, p)\n",
    "\n",
    "        return expectation\n",
    "\n",
    "    optimizer = COBYLA(rhobeg = 1.5, tol = 1e-7)\n",
    "    # params = np.random.rand(2 * p_max) * 2 * np.pi\n",
    "    result = optimizer.minimize(fun=objective, x0=params)\n",
    "\n",
    "    return result"
   ],
   "metadata": {
    "collapsed": false,
    "ExecuteTime": {
     "end_time": "2024-09-08T11:59:12.676398400Z",
     "start_time": "2024-09-08T11:59:09.124807800Z"
    }
   }
  },
  {
   "cell_type": "code",
   "execution_count": 13,
   "outputs": [
    {
     "name": "stdout",
     "output_type": "stream",
     "text": [
      "第： 1 层   第 0 个参数\n",
      "第： 1 层   第 1 个参数\n",
      "第： 1 层   第 2 个参数\n",
      "第： 1 层   第 3 个参数\n",
      "第： 1 层   第 4 个参数\n",
      "第： 1 层   第 5 个参数\n",
      "第： 1 层   第 6 个参数\n",
      "第： 1 层   第 7 个参数\n",
      "第： 1 层   第 8 个参数\n",
      "第： 1 层   第 9 个参数\n",
      "第： 1 层   第 10 个参数\n",
      "第： 1 层   第 11 个参数\n",
      "第： 1 层   第 12 个参数\n",
      "第： 1 层   第 13 个参数\n",
      "第： 1 层   第 14 个参数\n",
      "第： 1 层   第 15 个参数\n",
      "第： 1 层   第 16 个参数\n",
      "第： 1 层   第 17 个参数\n",
      "第： 1 层   第 18 个参数\n",
      "第： 1 层   第 19 个参数\n",
      "第： 1 层   第 20 个参数\n",
      "第： 1 层   第 21 个参数\n",
      "第： 1 层   第 22 个参数\n",
      "第： 1 层   第 23 个参数\n",
      "第： 1 层   第 24 个参数\n",
      "第： 1 层   第 25 个参数\n",
      "第： 1 层   第 26 个参数\n",
      "第： 1 层   第 27 个参数\n",
      "第： 1 层   第 28 个参数\n",
      "第： 1 层   第 29 个参数\n",
      "第： 1 层   第 30 个参数\n",
      "第： 1 层   第 31 个参数\n",
      "第： 1 层   第 32 个参数\n",
      "第： 1 层   第 33 个参数\n",
      "第： 1 层   第 34 个参数\n",
      "第： 1 层   第 35 个参数\n",
      "第： 1 层   第 36 个参数\n",
      "第： 1 层   第 37 个参数\n",
      "第： 1 层   第 38 个参数\n",
      "第： 1 层   第 39 个参数\n",
      "第： 1 层   第 40 个参数\n",
      "第： 1 层   第 41 个参数\n",
      "第： 1 层   第 42 个参数\n",
      "第： 1 层   第 43 个参数\n",
      "第： 1 层   第 44 个参数\n",
      "第： 1 层   第 45 个参数\n",
      "第： 1 层   第 46 个参数\n",
      "第： 1 层   第 47 个参数\n",
      "第： 1 层   第 48 个参数\n",
      "第： 1 层   第 49 个参数\n",
      "第： 2 层   第 0 个参数\n",
      "第： 2 层   第 1 个参数\n",
      "第： 2 层   第 2 个参数\n",
      "第： 2 层   第 3 个参数\n",
      "第： 2 层   第 4 个参数\n",
      "第： 2 层   第 5 个参数\n",
      "第： 2 层   第 6 个参数\n",
      "第： 2 层   第 7 个参数\n",
      "第： 2 层   第 8 个参数\n",
      "第： 2 层   第 9 个参数\n",
      "第： 2 层   第 10 个参数\n",
      "第： 2 层   第 11 个参数\n",
      "第： 2 层   第 12 个参数\n",
      "第： 2 层   第 13 个参数\n",
      "第： 2 层   第 14 个参数\n",
      "第： 2 层   第 15 个参数\n",
      "第： 2 层   第 16 个参数\n",
      "第： 2 层   第 17 个参数\n",
      "第： 2 层   第 18 个参数\n",
      "第： 2 层   第 19 个参数\n",
      "第： 2 层   第 20 个参数\n",
      "第： 2 层   第 21 个参数\n",
      "第： 2 层   第 22 个参数\n",
      "第： 2 层   第 23 个参数\n",
      "第： 2 层   第 24 个参数\n",
      "第： 2 层   第 25 个参数\n",
      "第： 2 层   第 26 个参数\n",
      "第： 2 层   第 27 个参数\n",
      "第： 2 层   第 28 个参数\n",
      "第： 2 层   第 29 个参数\n",
      "第： 2 层   第 30 个参数\n",
      "第： 2 层   第 31 个参数\n",
      "第： 2 层   第 32 个参数\n",
      "第： 2 层   第 33 个参数\n",
      "第： 2 层   第 34 个参数\n",
      "第： 2 层   第 35 个参数\n",
      "第： 2 层   第 36 个参数\n",
      "第： 2 层   第 37 个参数\n",
      "第： 2 层   第 38 个参数\n",
      "第： 2 层   第 39 个参数\n",
      "第： 2 层   第 40 个参数\n",
      "第： 2 层   第 41 个参数\n",
      "第： 2 层   第 42 个参数\n",
      "第： 2 层   第 43 个参数\n",
      "第： 2 层   第 44 个参数\n",
      "第： 2 层   第 45 个参数\n",
      "第： 2 层   第 46 个参数\n",
      "第： 2 层   第 47 个参数\n",
      "第： 2 层   第 48 个参数\n",
      "第： 2 层   第 49 个参数\n",
      "第： 3 层   第 0 个参数\n",
      "第： 3 层   第 1 个参数\n",
      "第： 3 层   第 2 个参数\n",
      "第： 3 层   第 3 个参数\n",
      "第： 3 层   第 4 个参数\n",
      "第： 3 层   第 5 个参数\n",
      "第： 3 层   第 6 个参数\n",
      "第： 3 层   第 7 个参数\n",
      "第： 3 层   第 8 个参数\n",
      "第： 3 层   第 9 个参数\n",
      "第： 3 层   第 10 个参数\n",
      "第： 3 层   第 11 个参数\n",
      "第： 3 层   第 12 个参数\n",
      "第： 3 层   第 13 个参数\n",
      "第： 3 层   第 14 个参数\n",
      "第： 3 层   第 15 个参数\n",
      "第： 3 层   第 16 个参数\n",
      "第： 3 层   第 17 个参数\n",
      "第： 3 层   第 18 个参数\n",
      "第： 3 层   第 19 个参数\n",
      "第： 3 层   第 20 个参数\n",
      "第： 3 层   第 21 个参数\n",
      "第： 3 层   第 22 个参数\n",
      "第： 3 层   第 23 个参数\n",
      "第： 3 层   第 24 个参数\n",
      "第： 3 层   第 25 个参数\n",
      "第： 3 层   第 26 个参数\n",
      "第： 3 层   第 27 个参数\n",
      "第： 3 层   第 28 个参数\n",
      "第： 3 层   第 29 个参数\n",
      "第： 3 层   第 30 个参数\n",
      "第： 3 层   第 31 个参数\n",
      "第： 3 层   第 32 个参数\n",
      "第： 3 层   第 33 个参数\n",
      "第： 3 层   第 34 个参数\n",
      "第： 3 层   第 35 个参数\n",
      "第： 3 层   第 36 个参数\n",
      "第： 3 层   第 37 个参数\n",
      "第： 3 层   第 38 个参数\n",
      "第： 3 层   第 39 个参数\n",
      "第： 3 层   第 40 个参数\n",
      "第： 3 层   第 41 个参数\n",
      "第： 3 层   第 42 个参数\n",
      "第： 3 层   第 43 个参数\n",
      "第： 3 层   第 44 个参数\n",
      "第： 3 层   第 45 个参数\n",
      "第： 3 层   第 46 个参数\n",
      "第： 3 层   第 47 个参数\n",
      "第： 3 层   第 48 个参数\n",
      "第： 3 层   第 49 个参数\n"
     ]
    }
   ],
   "source": [
    "import time\n",
    "\n",
    "# 运行优化\n",
    "# p_max = 6  # 最大层数\n",
    "\n",
    "startTime = time.time()\n",
    "ansatz_final = object()\n",
    "init_point = np.array([])\n",
    "counts = {}\n",
    "min_energy = 0\n",
    "final_result = object()\n",
    "for p1 in range(1, 4):\n",
    "    min_energy = 10000\n",
    "    for k in range(50):\n",
    "        print('第：', p1, '层', ' ', '第', k, '个参数')\n",
    "        init_point_temp = init_point\n",
    "        beta_p = np.random.uniform(0, np.pi)\n",
    "        gamma_p = np.random.uniform(0,  2 * np.pi)\n",
    "        if k >0:\n",
    "            init_point_temp = np.delete(init_point_temp, 2 * p1 - 1)\n",
    "            init_point_temp = np.delete(init_point_temp, p1 - 1)\n",
    "        init_point_temp = np.insert(init_point_temp, p1 - 1, beta_p)\n",
    "        init_point_temp = np.insert(init_point_temp, 2 * p1 - 1, gamma_p)\n",
    "        # 创建参数向量\n",
    "        # print(\"init_point_temp\"+ init_point_temp)\n",
    "        result = optimize_qaoa(n, m, l, K1, P, p, init_point_temp)\n",
    "\n",
    "        # print(result.x)\n",
    "        optimal_params = result.x\n",
    "\n",
    "        # 计算最终的能量\n",
    "        energy, counts_temp = cost_function(result.x, n, m, l, K1, P, p)\n",
    "        # 寻找这20对点中最优的参数\n",
    "        if min_energy > energy:\n",
    "            min_energy = energy\n",
    "            init_point = optimal_params\n",
    "            counts = counts_temp\n",
    "            final_result = result\n",
    "endTime = time.time()\n",
    "# params = np.random.rand(2 * p_max,2*np.pi)\n",
    "# result = optimize_qaoa(n, m, l, K1, P, p, params)"
   ],
   "metadata": {
    "collapsed": false,
    "ExecuteTime": {
     "end_time": "2024-09-08T12:09:11.147320200Z",
     "start_time": "2024-09-08T11:59:33.512627200Z"
    }
   }
  },
  {
   "cell_type": "code",
   "execution_count": 14,
   "outputs": [
    {
     "name": "stdout",
     "output_type": "stream",
     "text": [
      "优化时间： 577.6271562576294\n",
      "Optimal parameters: [6.42163957 3.57404436 0.1764177  5.49442944 4.55773167 4.38678973]\n",
      "Optimal value: 67.77960000000002\n",
      "Final expectation value: 67.77960000000002\n",
      "Final measurement counts: {'1010100': 279, '1100110': 247, '1010101': 232, '1100101': 224, '1101101': 219, '0101101': 215, '1100111': 195, '1110101': 191, '1110100': 189, '1111100': 186, '1101110': 185, '1000110': 170, '0101100': 166, '0010100': 165, '0100101': 161, '1100100': 158, '1100001': 149, '1101111': 140, '0100001': 137, '1011100': 136, '0101110': 135, '1101100': 133, '1000111': 132, '1100011': 130, '0001101': 127, '0000101': 122, '1100010': 122, '0100010': 121, '0101111': 120, '1000101': 119, '1010000': 116, '1000011': 116, '0100011': 115, '0111100': 113, '0100000': 113, '0000100': 111, '0101011': 109, '1001110': 109, '1111101': 108, '0100100': 108, '0000010': 103, '1001111': 103, '1011101': 98, '0000110': 97, '0100111': 96, '0011100': 94, '1000100': 94, '1010001': 94, '1111111': 93, '0100110': 89, '1100000': 89, '1101011': 89, '0001100': 88, '1110000': 88, '0000111': 86, '0001110': 84, '1111110': 83, '1000001': 82, '0001111': 81, '1110001': 80, '0000001': 79, '0000000': 77, '0010101': 75, '0101001': 73, '0000011': 72, '0110100': 71, '1000010': 67, '1001100': 64, '0010000': 63, '1000000': 63, '0101010': 62, '0010010': 57, '0111101': 56, '0001011': 56, '1110111': 56, '1001011': 54, '1010010': 49, '1011111': 45, '0111111': 43, '0111011': 40, '0001001': 39, '0011101': 39, '0001010': 38, '1110011': 37, '1110110': 36, '0111110': 36, '1101010': 36, '1001000': 35, '1010111': 34, '0011111': 32, '1111011': 32, '1001101': 29, '0010001': 26, '1011001': 25, '0111001': 23, '0011011': 23, '0111000': 22, '0101000': 22, '1011011': 20, '0110000': 20, '1101001': 19, '1011110': 19, '0110101': 18, '0001000': 18, '1111001': 17, '0111010': 15, '0110001': 14, '0110011': 14, '0011010': 13, '1001010': 12, '0110110': 10, '0011000': 10, '0010110': 9, '0011001': 8, '1111000': 6, '0110111': 6, '1111010': 5, '1010011': 5, '1101000': 5, '0011110': 4, '0010111': 4, '0010011': 3, '1010110': 2, '1001001': 2, '0110010': 1, '1011000': 1}\n"
     ]
    }
   ],
   "source": [
    "# 输出结果\n",
    "print(\"优化时间：\", endTime - startTime)\n",
    "print(\"Optimal parameters:\", final_result.x)\n",
    "print(\"Optimal value:\", final_result.fun)\n",
    "# 使用最优参数运行量子电路并输出测量结果\n",
    "final_expectation, final_counts = cost_function(final_result.x, n, m, l, K1, P, p)\n",
    "# sorted_dict = dict(sorted(final_counts.items(), key=lambda item: item[1], reverse=True))\n",
    "sorted_dict = {item[0][::-1]: item[1] for item in sorted(final_counts.items(), key=lambda item: item[1], reverse=True)}\n",
    "print(\"Final expectation value:\", final_expectation)\n",
    "print(\"Final measurement counts:\", sorted_dict)"
   ],
   "metadata": {
    "collapsed": false,
    "ExecuteTime": {
     "end_time": "2024-09-08T12:09:11.208977900Z",
     "start_time": "2024-09-08T12:09:11.150340Z"
    }
   }
  },
  {
   "cell_type": "code",
   "execution_count": 15,
   "outputs": [
    {
     "name": "stdout",
     "output_type": "stream",
     "text": [
      "0\n",
      "5\n",
      "55\n"
     ]
    }
   ],
   "source": [
    "expectation = 0\n",
    "bitstring = \"1010100\"\n",
    "z_h = np.array([int(bit) for bit in bitstring[(n*m):]])\n",
    "x_ij = np.array([int(bit) for bit in bitstring[:(n*m)]]).reshape(n, m)\n",
    "\n",
    "E1 = np.sum([2 ** h * z for h, z in enumerate(z_h)])\n",
    "E2 = K1 * np.sum([(np.sum(x_ij[i]) - 1) ** 2 for i in range(n)])\n",
    "# alpha_s = np.max([0, np.sum(x_ij * p) - np.sum([2 ** h * z for h, z in enumerate(z_h)])])\n",
    "E3 = 0\n",
    "for j in range(m):\n",
    "\n",
    "    sum_xp = np.sum([x_ij[i][j] * p[i][j] for i in range(n)])\n",
    "\n",
    "    sum_zh = np.sum([2**h * z_h[h] for h in range(l)])\n",
    "\n",
    "    max_value = max(0, sum_xp - sum_zh)\n",
    "\n",
    "    E3 += P * (max_value)**2\n",
    "E =  E1 + E2 + E3\n",
    "print(E1)\n",
    "print(E2)\n",
    "print(E3)"
   ],
   "metadata": {
    "collapsed": false,
    "ExecuteTime": {
     "end_time": "2024-09-08T12:10:19.476169100Z",
     "start_time": "2024-09-08T12:10:19.419860200Z"
    }
   }
  },
  {
   "cell_type": "code",
   "execution_count": null,
   "outputs": [],
   "source": [],
   "metadata": {
    "collapsed": false
   }
  }
 ],
 "metadata": {
  "kernelspec": {
   "display_name": "Python 3",
   "language": "python",
   "name": "python3"
  },
  "language_info": {
   "codemirror_mode": {
    "name": "ipython",
    "version": 2
   },
   "file_extension": ".py",
   "mimetype": "text/x-python",
   "name": "python",
   "nbconvert_exporter": "python",
   "pygments_lexer": "ipython2",
   "version": "2.7.6"
  }
 },
 "nbformat": 4,
 "nbformat_minor": 0
}
