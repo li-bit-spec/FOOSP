{
 "cells": [
  {
   "metadata": {
    "collapsed": true,
    "ExecuteTime": {
     "end_time": "2025-03-25T03:33:21.846382Z",
     "start_time": "2025-03-25T03:33:21.837374Z"
    }
   },
   "cell_type": "code",
   "source": [
    "import numpy as np\n",
    "from itertools import combinations, chain\n",
    "from collections import Counter\n",
    "from qiskit_algorithms.optimizers import POWELL\n",
    "\n",
    "# 假设有 3 台机器和 2 个操作\n",
    "m = 4  # 机器数量\n",
    "N = 2  # 表示机器的二进制 (0, 1）\n",
    "n = 3  # 操作数量\n",
    "l = 1  # 用于表示 C_max 的二进制位数\n",
    "\n",
    "# 处理时间矩阵 (例如)\n",
    "p_ij = np.array([[1, 2, 3, 4], [2, 3, 1, 2], [4, 1, 2, 3]])\n",
    "\n",
    "W = []  # 不可用机器索引 [1, 1]\n",
    "b = []  # 机器二进制表示\n",
    "for j in range(m):\n",
    "    binary_j = format(j, '0{}b'.format(N))\n",
    "    b_jk = [int(bit) for bit in binary_j]\n",
    "    b.append(b_jk)\n",
    "print(b)\n",
    "# 常数\n",
    "K1 = 100\n",
    "P = 80\n",
    "# 量子比特数量\n",
    "num_qubits = n * N + l"
   ],
   "id": "initial_id",
   "outputs": [
    {
     "name": "stdout",
     "output_type": "stream",
     "text": [
      "[[0, 0], [0, 1], [1, 0], [1, 1]]\n"
     ]
    }
   ],
   "execution_count": 2
  },
  {
   "metadata": {
    "ExecuteTime": {
     "end_time": "2025-03-25T03:33:22.542289Z",
     "start_time": "2025-03-25T03:33:22.533365Z"
    }
   },
   "cell_type": "code",
   "source": [
    "def append_multi_rzz_term(qc, qubits, gamma):\n",
    "    \"\"\"实现多体 Z 相互作用项 e^{-i \\gamma Z_1 Z_2 \\dots Z_k}\"\"\"\n",
    "    if len(qubits) == 0:\n",
    "        return\n",
    "    if len(qubits) == 1:\n",
    "        qc.rz(2 * gamma, qubits[0])\n",
    "        return\n",
    "    target = qubits[-1]\n",
    "    control_qubits = qubits[:-1]\n",
    "    for control in control_qubits:\n",
    "        qc.cx(control, target)\n",
    "    qc.rz(2 * gamma, target)\n",
    "    for control in reversed(control_qubits):\n",
    "        qc.cx(control, target)"
   ],
   "id": "744d1188245ca22d",
   "outputs": [],
   "execution_count": 3
  },
  {
   "metadata": {
    "ExecuteTime": {
     "end_time": "2025-03-25T03:33:23.687604Z",
     "start_time": "2025-03-25T03:33:23.678607Z"
    }
   },
   "cell_type": "code",
   "source": [
    "def append__zz_term(qc, qubit1, qubit2, gamma):\n",
    "    qc.cx(qubit1, qubit2)\n",
    "    qc.rz(gamma, qubit2)\n",
    "    qc.cx(qubit1, qubit2)\n",
    "\n",
    "\n",
    "def append__z_term(qc, qubit, gamma):\n",
    "    qc.rz(gamma, qubit)\n",
    "\n",
    "\n",
    "def append__mixer_term(qc, qubit, beta):\n",
    "    qc.rx(2 * beta, qubit)"
   ],
   "id": "78cd574ca18acceb",
   "outputs": [],
   "execution_count": 4
  },
  {
   "metadata": {
    "ExecuteTime": {
     "end_time": "2025-03-25T03:33:24.801525Z",
     "start_time": "2025-03-25T03:33:24.790523Z"
    }
   },
   "cell_type": "code",
   "source": [
    "def get_cost_circuit1(gamma, qc):\n",
    "    # 第一部分：C_max 部分，-1/2 sum_h 2^h Z_zh\n",
    "    for h in range(l):\n",
    "        coeff = -0.5 * 2 ** h\n",
    "        qc.rz(-2 * gamma * coeff, n * N + h)  # RZ(-gamma * 2^h, z_h)\n",
    "    return qc"
   ],
   "id": "a177ac766f2e3c4b",
   "outputs": [],
   "execution_count": 5
  },
  {
   "metadata": {},
   "cell_type": "markdown",
   "source": "\\begin{align}K_{1} \\sum_{j\\in W} \\sum_{i=0}^{n}\\prod_{k=0}^{N}\\left(\\frac{1}2+\\left(\\frac{1}2-b_{j k}\\right)Z_{ik}\\right)\\end{align}",
   "id": "6d569514dfbbda71"
  },
  {
   "metadata": {
    "ExecuteTime": {
     "end_time": "2025-03-25T03:33:26.995167Z",
     "start_time": "2025-03-25T03:33:26.986424Z"
    }
   },
   "cell_type": "code",
   "source": [
    "import itertools\n",
    "\n",
    "\n",
    "def get_cost_circuit2(gamma, qc):\n",
    "    for j in W:\n",
    "        for i in range(n):\n",
    "            # 生成所有子集 S，包括空集\n",
    "            all_subsets = list(chain.from_iterable(combinations(range(N), r) for r in range(N + 1)))\n",
    "            for S in all_subsets:\n",
    "                if not S:  # 空集，系数为 1/2^N\n",
    "                    coeff_S = K1 / (2 ** N)\n",
    "                    qc.rz(2 * gamma * coeff_S, i * N)  # 任意一个比特应用相位，实际为全局相位\n",
    "                else:\n",
    "                    coeff_S = K1 / (2 ** N)\n",
    "                    for k in S:\n",
    "                        coeff_S *= (1 - 2 * b[j][k])\n",
    "                    if coeff_S != 0:\n",
    "                        qubits = [i * N + k for k in S]\n",
    "                        append_multi_rzz_term(qc, qubits, gamma * coeff_S)\n",
    "    return qc\n"
   ],
   "id": "67570f9028e40f9",
   "outputs": [],
   "execution_count": 6
  },
  {
   "metadata": {},
   "cell_type": "markdown",
   "source": [
    "\\begin{align}\\sum_{j=0}^{m-1}\\sum_{i=0}^{n-1} \\sum_{i^{\\prime}=0}^{n-1}\\left(\\prod_{k=0}^{N-1}\\frac{1}{2}\\left(1+\\left(1-2b_{j k}\\right) Z_{i k}\\right)\\right) p_{i j}\\left(\\prod_{k^{\\prime}=0}^{N-1}\\frac{1}{2}\\left(1+\\left(1-2b_{j k}\\right) Z_{i^{\\prime} k^{\\prime}}\\right)\\right) p_{i^{\\prime} j}\\end{align}\n",
    "\\begin{align}-2 \\sum_{j=0}^{m-1} \\sum_{i=0}^{n-1} \\sum_{h=0}^{l-1} \\left(\\prod_{k=0}^{N-1}\\frac{1}{2}\\left(1+\\left(1-2b_{j k}\\right) Z_{i k}\\right)\\right) p_{i j} \\cdot 2^{h-1}\\left(1-Z_h\\right)\\end{align}\n",
    "\\begin{align}\\sum_{j=0}^{m-1}\\sum_{h=0}^{l-1} \\sum_{h^{\\prime}=0}^{l-1} 2^{h-1} 2^{h^{\\prime}-1}\\left(1-Z_h-Z_{h^{\\prime}}+Z_h Z_{h^{\\prime}}\\right)\\end{align}"
   ],
   "id": "8923b57427f69dec"
  },
  {
   "metadata": {
    "ExecuteTime": {
     "end_time": "2025-03-25T03:33:28.344250Z",
     "start_time": "2025-03-25T03:33:28.319250Z"
    }
   },
   "cell_type": "code",
   "source": [
    "# import itertools\n",
    "from collections import Counter\n",
    "\n",
    "\n",
    "def get_cost_circuit3(gamma, qc):\n",
    "    # 第三部分：负载平衡惩罚 P sum_j [(load_j)^2 - 2 load_j C_max + C_max^2 / 4]\n",
    "    P = 200\n",
    "    for j in range(m):\n",
    "        # (load_j)^2 部分\n",
    "        for i in range(n):\n",
    "            for i_prime in range(n):\n",
    "                all_subsets_i = list(chain.from_iterable(combinations(range(N), r) for r in range(N + 1)))\n",
    "                all_subsets_iprime = list(chain.from_iterable(combinations(range(N), r) for r in range(N + 1)))\n",
    "                for S_i in all_subsets_i:\n",
    "                    for S_iprime in all_subsets_iprime:\n",
    "                        coeff_Si = 1\n",
    "                        for k in S_i:\n",
    "                            coeff_Si *= (1 - 2 * b[j][k])\n",
    "                        coeff_Siprime = 1\n",
    "                        for k in S_iprime:\n",
    "                            coeff_Siprime *= (1 - 2 * b[j][k])\n",
    "                        coeff = P * p_ij[i][j] * p_ij[i_prime][j] / (2 ** (2 * N)) * coeff_Si * coeff_Siprime\n",
    "                        if coeff != 0:\n",
    "                            qubits = [i * N + k for k in S_i] + [i_prime * N + k for k in S_iprime]\n",
    "                            count = Counter(qubits)\n",
    "                            qubits_final = [x for x in count if count[x] % 2 != 0]\n",
    "                            if qubits_final:\n",
    "                                append_multi_rzz_term(qc, qubits_final, gamma * coeff)\n",
    "\n",
    "        # -2 load_j C_max 部分\n",
    "        for i in range(n):\n",
    "            all_subsets_i = list(chain.from_iterable(combinations(range(N), r) for r in range(N + 1)))\n",
    "            for S_i in all_subsets_i:\n",
    "                coeff_Si = 1\n",
    "                for k in S_i:\n",
    "                    coeff_Si *= (1 - 2 * b[j][k])\n",
    "                if coeff_Si != 0:\n",
    "                    coeff = -2 * P * p_ij[i][j] / (2 ** N) * coeff_Si * (2 ** l - 1)  # C_max 的常数项\n",
    "                    qubits_load = [i * N + k for k in S_i]\n",
    "                    append_multi_rzz_term(qc, qubits_load, gamma * coeff)\n",
    "                    for h in range(l):\n",
    "                        coeff_h = -2 * P * p_ij[i][j] / (2 ** N) * coeff_Si * 2 ** h\n",
    "                        qubits_h = qubits_load + [n * N + h]\n",
    "                        append_multi_rzz_term(qc, qubits_h, gamma * coeff_h)\n",
    "\n",
    "        # C_max^2 / 4 部分\n",
    "        for h in range(l):\n",
    "            for h_prime in range(h, l):  # 避免重复\n",
    "                if h == h_prime:\n",
    "                    coeff = P / 4 * (2 ** h) * (2 ** h)  # Z_h^2 = I\n",
    "                else:\n",
    "                    coeff = P / 4 * (2 ** h) * (2 ** h_prime)\n",
    "                    append__zz_term(qc, n * N + h, n * N + h_prime, 2 * gamma * coeff)\n",
    "\n",
    "\n"
   ],
   "id": "1036d966c797837b",
   "outputs": [],
   "execution_count": 7
  },
  {
   "metadata": {
    "ExecuteTime": {
     "end_time": "2025-03-25T03:33:29.458559Z",
     "start_time": "2025-03-25T03:33:29.450560Z"
    }
   },
   "cell_type": "code",
   "source": [
    "def get_mixer_circuit(beta, qc):\n",
    "    for i in range(num_qubits):\n",
    "        append__mixer_term(qc, i, beta)\n",
    "    return qc"
   ],
   "id": "45a838eedf24a21",
   "outputs": [],
   "execution_count": 8
  },
  {
   "metadata": {
    "ExecuteTime": {
     "end_time": "2025-03-25T03:33:42.968838Z",
     "start_time": "2025-03-25T03:33:42.956976Z"
    }
   },
   "cell_type": "code",
   "source": [
    "# def invert_counts(s):\n",
    "#     return s[::-1]"
   ],
   "id": "b401b61cad096d4d",
   "outputs": [],
   "execution_count": 9
  },
  {
   "metadata": {
    "ExecuteTime": {
     "end_time": "2025-03-25T03:33:47.879313Z",
     "start_time": "2025-03-25T03:33:47.859314Z"
    }
   },
   "cell_type": "code",
   "source": [
    "from qiskit import Aer, QuantumCircuit, execute\n",
    "\n",
    "\n",
    "# 定义成本函数\n",
    "def cost_function(params):\n",
    "    beta, gamma = params[:len(params) // 2], params[len(params) // 2:]\n",
    "    num_qubits = n * N + l\n",
    "    qc = QuantumCircuit(num_qubits, num_qubits)\n",
    "    qc.h(range(num_qubits))\n",
    "    # print(qc)\n",
    "\n",
    "    length = len(params)\n",
    "    for i in range(int(length / 2)):\n",
    "        get_cost_circuit1(gamma[i], qc)\n",
    "        get_cost_circuit2(gamma[i], qc)\n",
    "        # get_cost_circuit3(gamma[i], qc)\n",
    "        get_mixer_circuit(beta[i], qc)\n",
    "    # 模拟电路\n",
    "    # 添加测量指令\n",
    "    qc.measure(range(num_qubits), range(num_qubits))\n",
    "    backend = Aer.get_backend('qasm_simulator')\n",
    "    result = execute(qc, backend, seed_simulator=20, shots=10000).result()\n",
    "    counts = result.get_counts(qc)\n",
    "    total_counts = sum(counts.values())\n",
    "    total_E = 0\n",
    "    # 计算期望值\n",
    "    for bitstring, count in counts.items():\n",
    "        s = np.zeros((n, N), dtype=int)\n",
    "        z = np.zeros(l, dtype=int)\n",
    "        # 解析比特串\n",
    "        for i in range(n):\n",
    "            for k in range(N):\n",
    "                s[i][k] = int(bitstring[n * N + l - 1 - (i * N + k)])  # 从右到左读取\n",
    "        for h in range(l):\n",
    "            z[h] = int(bitstring[n * N + l - 1 - (n * N + h)])\n",
    "\n",
    "        # 计算 C_max = sum_h 2^h z_h\n",
    "        C_max = sum(2 ** h * z[h] for h in range(l))\n",
    "        # 计算 \\tilde{E}\n",
    "        E = C_max * 50\n",
    "\n",
    "        # 不可用机器惩罚\n",
    "        for j in W:\n",
    "            for i in range(n):\n",
    "                M_i = sum(2 ** (N - 1 - k) * s[i][k] for k in range(N))\n",
    "                f_binary_j = 1 if M_i == j else 0\n",
    "                E += K1 * f_binary_j\n",
    "        # 负载平衡惩罚\n",
    "        for j in range(m):\n",
    "            load_j = 0\n",
    "            for i in range(n):\n",
    "                M_i = sum(2 ** (N - 1 - k) * s[i][k] for k in range(N))\n",
    "                f_binary_j = 1 if M_i == j else 0\n",
    "                load_j += p_ij[i][j] * f_binary_j\n",
    "            alpha_s = max(0, load_j - C_max)\n",
    "            E += P * alpha_s ** 2\n",
    "        total_E += E * (count / total_counts)\n",
    "    return total_E, counts"
   ],
   "id": "64263ef21c05e105",
   "outputs": [],
   "execution_count": 10
  },
  {
   "metadata": {
    "ExecuteTime": {
     "end_time": "2025-03-25T03:33:49.684956Z",
     "start_time": "2025-03-25T03:33:49.674936Z"
    }
   },
   "cell_type": "code",
   "source": [
    "from scipy.optimize import minimize\n",
    "\n",
    "\n",
    "def optimize_qaoa(params):\n",
    "    def objective(params):\n",
    "        expectation, _ = cost_function(params)\n",
    "\n",
    "        return expectation\n",
    "\n",
    "    result = minimize(objective, params, method='Powell',\n",
    "                      options={'xtol': 1e-5, 'ftol': 1e-5, 'maxiter': 1000})\n",
    "    return result"
   ],
   "id": "9d5b7115dd4d48b2",
   "outputs": [],
   "execution_count": 11
  },
  {
   "metadata": {
    "ExecuteTime": {
     "end_time": "2025-03-25T03:33:51.971722Z",
     "start_time": "2025-03-25T03:33:51.962314Z"
    }
   },
   "cell_type": "code",
   "source": [
    "# 优化器配置\n",
    "optimizers = [\n",
    "    {\n",
    "        \"name\": \"Powell\",\n",
    "        \"func\": lambda: {\"method\": \"Powell\", \"options\": {\"xtol\": 1e-6, \"ftol\": 1e-6, \"maxiter\": 1000, \"disp\": True}}\n",
    "    }\n",
    "]"
   ],
   "id": "4d2d91b765956c49",
   "outputs": [],
   "execution_count": 12
  },
  {
   "metadata": {
    "ExecuteTime": {
     "end_time": "2025-03-25T03:33:53.790661Z",
     "start_time": "2025-03-25T03:33:53.770666Z"
    }
   },
   "cell_type": "code",
   "source": [
    "# 插值法初始化函数\n",
    "def interpolate_parameters(prev_params, p_old, p_new):\n",
    "    if p_old == 0:\n",
    "        return np.random.uniform(0, np.pi, p_new), np.random.uniform(0, 2 * np.pi, p_new)\n",
    "    prev_beta = prev_params[:p_old]\n",
    "    prev_gamma = prev_params[p_old:]\n",
    "    new_beta = np.zeros(p_new)\n",
    "    new_gamma = np.zeros(p_new)\n",
    "    for i in range(p_new):\n",
    "        t = i / (p_new - 1) if p_new > 1 else 0\n",
    "        new_beta[i] = (1 - t) * prev_beta[0] + t * prev_beta[-1]\n",
    "        new_gamma[i] = (1 - t) * prev_gamma[0] + t * prev_gamma[-1]\n",
    "    return np.concatenate([new_beta, new_gamma])"
   ],
   "id": "8cdf4e21860e82f4",
   "outputs": [],
   "execution_count": 13
  },
  {
   "metadata": {
    "ExecuteTime": {
     "end_time": "2025-03-25T03:33:55.989515Z",
     "start_time": "2025-03-25T03:33:55.971987Z"
    }
   },
   "cell_type": "code",
   "source": [
    "def compute_p_opt(counts):\n",
    "    optimal_c_max = 1  # 实例 1 的最优 C_max\n",
    "\n",
    "    total_counts = sum(counts.values())\n",
    "    optimal_counts = 0\n",
    "\n",
    "    for bitstring, count in counts.items():\n",
    "        s = np.zeros((n, N), dtype=int)\n",
    "        z = np.zeros(l, dtype=int)\n",
    "        # 解析比特串（从右到左读取）\n",
    "        for i in range(n):\n",
    "            for k in range(N):\n",
    "                s[i][k] = int(bitstring[n * N + l - 1 - (i * N + k)])\n",
    "        for h in range(l):\n",
    "            z[h] = int(bitstring[n * N + l - 1 - (n * N + h)])\n",
    "\n",
    "        # 计算 C_max\n",
    "        C_max = sum(2 ** h * z[h] for h in range(l))\n",
    "\n",
    "        # 不可用机器惩罚\n",
    "        penalty_unavailable = 0\n",
    "        for j in W:\n",
    "            for i in range(n):\n",
    "                M_i = sum(2 ** (N - 1 - k) * s[i][k] for k in range(N))\n",
    "                f_binary_j = 1 if M_i == j else 0\n",
    "                penalty_unavailable += K1 * f_binary_j\n",
    "\n",
    "        # 负载平衡惩罚\n",
    "        penalty_load = 0\n",
    "        for j in range(m):\n",
    "            load_j = 0\n",
    "            for i in range(n):\n",
    "                M_i = sum(2 ** (N - 1 - k) * s[i][k] for k in range(N))\n",
    "                f_binary_j = 1 if M_i == j else 0\n",
    "                load_j += p_ij[i][j] * f_binary_j\n",
    "            alpha_s = max(0, load_j - C_max)\n",
    "            penalty_load += P * alpha_s ** 2\n",
    "\n",
    "        # 检查是否为最优解\n",
    "        if C_max == optimal_c_max and penalty_unavailable == 0 and penalty_load == 0:\n",
    "            optimal_counts += count\n",
    "\n",
    "    # 计算 P_opt\n",
    "    P_opt = optimal_counts / total_counts if total_counts > 0 else 0\n",
    "    return P_opt"
   ],
   "id": "10b40a84e7d561a5",
   "outputs": [],
   "execution_count": 14
  },
  {
   "metadata": {
    "ExecuteTime": {
     "end_time": "2025-03-25T03:38:56.515679Z",
     "start_time": "2025-03-25T03:34:00.795153Z"
    }
   },
   "cell_type": "code",
   "source": [
    "# 主程序\n",
    "import time\n",
    "\n",
    "startTime = time.time()\n",
    "min_energy = float('inf')\n",
    "init_point = np.array([])\n",
    "counts = {}\n",
    "final_result = None\n",
    "max_p_opt = -1  # 初始最大 P_opt\n",
    "for p1 in range(1, 2):\n",
    "    min_energy = 100000\n",
    "    for k in range(30):\n",
    "        print(f\"第 {p1} 层，第 {k} 个参数\")\n",
    "        init_point_temp = init_point\n",
    "        beta_p = np.random.uniform(0, np.pi)\n",
    "        gamma_p = np.random.uniform(0, 2 * np.pi)\n",
    "        if k > 0:\n",
    "            init_point_temp = np.delete(init_point_temp, 2 * p1 - 1)\n",
    "            init_point_temp = np.delete(init_point_temp, p1 - 1)\n",
    "        init_point_temp = np.insert(init_point_temp, p1 - 1, beta_p)\n",
    "        init_point_temp = np.insert(init_point_temp, 2 * p1 - 1, gamma_p)\n",
    "        # if k == 0 and p1 == 1:\n",
    "        #     init_point_temp = np.concatenate([np.random.uniform(0, np.pi, p1),\n",
    "        #                                      np.random.uniform(0, 2 * np.pi, p1)])\n",
    "        # elif k == 0:\n",
    "        #     # 使用插值法从前一层生成新参数\n",
    "        #     init_point_temp = interpolate_parameters(init_point, p1 - 1, p1)\n",
    "        # else:\n",
    "        #     # 随机调整当前层的参数\n",
    "        #     init_point_temp = init_point.copy()\n",
    "        #     beta_p = np.random.uniform(0, np.pi)\n",
    "        #     gamma_p = np.random.uniform(0, 2 * np.pi)\n",
    "        #     init_point_temp = np.delete(init_point_temp, 2 * p1 - 1)\n",
    "        #     init_point_temp = np.delete(init_point_temp, p1 - 1)\n",
    "        #     init_point_temp = np.insert(init_point_temp, p1 - 1, beta_p)\n",
    "        #     init_point_temp = np.insert(init_point_temp, 2 * p1 - 1, gamma_p)\n",
    "\n",
    "        result = optimize_qaoa(init_point_temp)\n",
    "        optimal_params = result.x\n",
    "        energy, counts_temp = cost_function(result.x)\n",
    "        p_opt = compute_p_opt(counts_temp)\n",
    "        if max_p_opt < p_opt:  # 比较 P_opt\n",
    "            max_p_opt = p_opt\n",
    "            min_energy = energy  # 仍记录能量，可选\n",
    "            init_point = optimal_params\n",
    "            counts = counts_temp\n",
    "            final_result = result\n",
    "            print(f\"New best P_opt: {max_p_opt:.4f}\")\n",
    "            print(f\"Energy at best P_opt: {min_energy:.2f}\")\n",
    "            print(f\"Optimal parameters: {init_point}\")\n",
    "        # if min_energy > energy:\n",
    "        #     min_energy = energy\n",
    "        #     init_point = optimal_params\n",
    "        #     counts = counts_temp\n",
    "        #     final_result = result\n",
    "        #     print(f\"New best energy: {min_energy}\")\n",
    "        #     print(f\"Optimal parameters: {init_point}\")\n",
    "\n",
    "endTime = time.time()"
   ],
   "id": "ffcc54bd1b854fb0",
   "outputs": [
    {
     "name": "stdout",
     "output_type": "stream",
     "text": [
      "第 1 层，第 0 个参数\n"
     ]
    },
    {
     "name": "stderr",
     "output_type": "stream",
     "text": [
      "C:\\Users\\李华宪\\AppData\\Local\\Temp\\ipykernel_63576\\935948919.py:21: DeprecationWarning: The function ``qiskit.execute_function.execute()`` is deprecated as of qiskit 0.46.0. It will be removed in the Qiskit 1.0 release. This function combines ``transpile`` and ``backend.run``, which is covered by ``Sampler`` :mod:`~qiskit.primitives`. Alternatively, you can also run :func:`.transpile` followed by ``backend.run()``.\n",
      "  result = execute(qc, backend, seed_simulator=20, shots=10000).result()\n"
     ]
    },
    {
     "name": "stdout",
     "output_type": "stream",
     "text": [
      "New best P_opt: 0.0160\n",
      "Energy at best P_opt: 1289.71\n",
      "Optimal parameters: [3.90777746 4.71090561]\n",
      "第 1 层，第 1 个参数\n",
      "第 1 层，第 2 个参数\n",
      "第 1 层，第 3 个参数\n",
      "第 1 层，第 4 个参数\n",
      "第 1 层，第 5 个参数\n",
      "第 1 层，第 6 个参数\n",
      "第 1 层，第 7 个参数\n",
      "第 1 层，第 8 个参数\n",
      "第 1 层，第 9 个参数\n",
      "第 1 层，第 10 个参数\n",
      "第 1 层，第 11 个参数\n",
      "第 1 层，第 12 个参数\n",
      "第 1 层，第 13 个参数\n",
      "第 1 层，第 14 个参数\n",
      "第 1 层，第 15 个参数\n",
      "第 1 层，第 16 个参数\n",
      "第 1 层，第 17 个参数\n",
      "第 1 层，第 18 个参数\n",
      "第 1 层，第 19 个参数\n",
      "第 1 层，第 20 个参数\n",
      "第 1 层，第 21 个参数\n",
      "第 1 层，第 22 个参数\n",
      "第 1 层，第 23 个参数\n",
      "第 1 层，第 24 个参数\n",
      "第 1 层，第 25 个参数\n",
      "第 1 层，第 26 个参数\n",
      "第 1 层，第 27 个参数\n",
      "第 1 层，第 28 个参数\n",
      "第 1 层，第 29 个参数\n"
     ]
    }
   ],
   "execution_count": 15
  },
  {
   "metadata": {
    "ExecuteTime": {
     "end_time": "2025-03-25T03:39:28.907345Z",
     "start_time": "2025-03-25T03:39:28.129059Z"
    }
   },
   "cell_type": "code",
   "source": [
    "import warnings\n",
    "# [2.45528815 2.31705429] 1149\n",
    "from qiskit.visualization import plot_histogram\n",
    "\n",
    "# 忽略弃用警告\n",
    "warnings.filterwarnings(\"ignore\", category=DeprecationWarning)\n",
    "# 输出结果\n",
    "print(\"优化时间：\", endTime - startTime)\n",
    "print(\"Optimal parameters:\", final_result.x)\n",
    "print(\"Optimal value:\", final_result.fun)\n",
    "# 使用最优参数运行量子电路并输出测量结果\n",
    "final_expectation, final_counts = cost_function([2.45528815, 2.31705429])\n",
    "sorted_dict = {item[0]: item[1] for item in sorted(final_counts.items(), key=lambda item: item[1], reverse=True)}\n",
    "# 过滤掉计数小于 100 的结果\n",
    "filtered_dict = {key: value for key, value in sorted_dict.items() if value >= 100}\n",
    "print(\"Final expectation value:\", final_expectation)\n",
    "print(\"Final measurement counts:\", filtered_dict)\n",
    "plot_histogram(filtered_dict)"
   ],
   "id": "4261bc08a9ed929f",
   "outputs": [
    {
     "name": "stdout",
     "output_type": "stream",
     "text": [
      "优化时间： 295.7030498981476\n",
      "Optimal parameters: [3.90777746 4.71090561]\n",
      "Optimal value: 1289.7079999999994\n",
      "Final expectation value: 1410.1890000000003\n",
      "Final measurement counts: {'1000000': 156, '1100101': 154, '1011110': 154, '1011011': 153, '1101100': 150, '1000010': 147, '1110001': 146, '1001101': 146, '1011000': 145, '1010101': 145, '1110010': 144, '1100110': 144, '1000111': 143, '1001000': 143, '1001001': 141, '1100111': 141, '1000100': 140, '1001110': 140, '1001010': 140, '1010001': 140, '1111010': 139, '1101101': 139, '1110011': 139, '1101001': 139, '1011111': 139, '1000110': 138, '1010011': 138, '1101000': 137, '1011001': 137, '1010111': 137, '1010000': 137, '1010100': 137, '1110110': 136, '1011010': 135, '1111001': 135, '1111101': 134, '1111011': 134, '1001111': 133, '1100011': 133, '1100000': 131, '1110100': 131, '1001011': 131, '1101111': 131, '1100010': 131, '1110000': 130, '1100100': 129, '1111000': 129, '1111111': 127, '1011100': 127, '1111110': 127, '1010110': 126, '1111100': 125, '1110101': 125, '1011101': 125, '1101011': 125, '1000101': 125, '1001100': 124, '1000001': 122, '1100001': 122, '1000011': 121, '1101010': 119, '1110111': 119, '1101110': 118, '1010010': 105}\n"
     ]
    },
    {
     "data": {
      "text/plain": [
       "<Figure size 700x500 with 1 Axes>"
      ],
      "image/png": "[encoded data removed]"
     },
     "execution_count": 16,
     "metadata": {},
     "output_type": "execute_result"
    }
   ],
   "execution_count": 16
  },
  {
   "metadata": {
    "ExecuteTime": {
     "end_time": "2025-03-17T08:27:21.873491Z",
     "start_time": "2025-03-17T08:27:21.856492Z"
    }
   },
   "cell_type": "code",
   "source": [
    "import numpy as np\n",
    "\n",
    "# 测试\n",
    "# counts = {'1001001': 4000, '0101010': 3000, '0011000': 3000}  # 示例 counts\n",
    "P_opt = compute_p_opt(final_counts)\n",
    "print(f\"最优解概率 P_opt: {P_opt:.4f}\")"
   ],
   "id": "3afd91f885895dcd",
   "outputs": [
    {
     "name": "stdout",
     "output_type": "stream",
     "text": [
      "最优解概率 P_opt: 0.1149\n"
     ]
    }
   ],
   "execution_count": 16
  },
  {
   "metadata": {
    "ExecuteTime": {
     "end_time": "2025-03-14T02:15:07.476120Z",
     "start_time": "2025-03-14T02:15:07.454263Z"
    }
   },
   "cell_type": "code",
   "source": [
    "expectation = 0\n",
    "bitstring = \"11001\"\n",
    "optimal_C_max = 1\n",
    "optimal_counts = 0\n",
    "s = np.zeros((n, N), dtype=int)\n",
    "z = np.zeros(l, dtype=int)\n",
    "# 解析比特串\n",
    "for i in range(n):\n",
    "    for k in range(N):\n",
    "        s[i][k] = int(bitstring[n * N + l - 1 - (i * N + k)])  # 从右到左读取\n",
    "for h in range(l):\n",
    "    z[h] = int(bitstring[n * N + l - 1 - (n * N + h)])\n",
    "print(s)\n",
    "print(z)\n",
    "# 计算 C_max = sum_h 2^h z_h\n",
    "C_max = sum(2 ** h * z[h] for h in range(l))\n",
    "# 计算 \\tilde{E}\n",
    "E1 = C_max\n",
    "E2 = 0\n",
    "# 不可用机器惩罚\n",
    "for j in W:\n",
    "    for i in range(n):\n",
    "        M_i = sum(2 ** (N - 1 - k) * s[i][k] for k in range(N))\n",
    "        print(\"M_i: \", M_i)\n",
    "        f_binary_j = 1 if M_i == j else 0\n",
    "        E2 += K1 * f_binary_j\n",
    "E3 = 0\n",
    "# 负载平衡惩罚\n",
    "for j in range(m):\n",
    "    load_j = 0\n",
    "    for i in range(n):\n",
    "        M_i = sum(2 ** (N - 1 - k) * s[i][k] for k in range(N))\n",
    "        f_binary_j = 1 if M_i == j else 0\n",
    "        load_j += p_ij[i][j] * f_binary_j\n",
    "    alpha_s = max(0, load_j - C_max)\n",
    "    E3 += P * alpha_s ** 2\n",
    "\n",
    "E = E1 + E2 + E3\n",
    "penalty_sum = E - C_max\n",
    "if C_max == optimal_C_max and penalty_sum == 0:\n",
    "    print(\"111\")\n",
    "    # optimal_counts += count\n",
    "P_opt = optimal_counts / total_counts\n",
    "print(E1)\n",
    "print(E2)\n",
    "print(E3)\n",
    "# print(e1)\n",
    "# print(e2)"
   ],
   "id": "17d987eaf3be8f0f",
   "outputs": [
    {
     "name": "stdout",
     "output_type": "stream",
     "text": [
      "[[1 0]\n",
      " [0 1]]\n",
      "[1]\n",
      "M_i:  2\n",
      "M_i:  1\n",
      "111\n",
      "1\n",
      "0\n",
      "0\n"
     ]
    }
   ],
   "execution_count": 19
  },
  {
   "metadata": {
    "ExecuteTime": {
     "end_time": "2024-10-30T14:24:31.456293Z",
     "start_time": "2024-10-30T14:24:31.444392Z"
    }
   },
   "cell_type": "code",
   "source": "",
   "id": "4888b1d2b1ed7be9",
   "outputs": [],
   "execution_count": null
  }
 ],
 "metadata": {
  "kernelspec": {
   "display_name": "Python 3",
   "language": "python",
   "name": "python3"
  },
  "language_info": {
   "codemirror_mode": {
    "name": "ipython",
    "version": 2
   },
   "file_extension": ".py",
   "mimetype": "text/x-python",
   "name": "python",
   "nbconvert_exporter": "python",
   "pygments_lexer": "ipython2",
   "version": "2.7.6"
  }
 },
 "nbformat": 4,
 "nbformat_minor": 5
}
