{
 "cells": [
  {
   "metadata": {
    "collapsed": true,
    "ExecuteTime": {
     "end_time": "2025-03-14T01:45:15.548387Z",
     "start_time": "2025-03-14T01:45:13.779885Z"
    }
   },
   "cell_type": "code",
   "source": [
    "import numpy as np\n",
    "from itertools import combinations, chain\n",
    "from collections import Counter\n",
    "from qiskit_algorithms.optimizers import POWELL\n",
    "\n",
    "# 假设有 3 台机器和 2 个操作\n",
    "m = 4  # 机器数量\n",
    "N = 2  # 表示机器的二进制 (0, 1）\n",
    "n = 2  # 操作数量\n",
    "l = 1  # 用于表示 C_max 的二进制位数\n",
    "\n",
    "# 处理时间矩阵 (例如)\n",
    "p_ij = np.array([[2, 3, 1, 4], [3, 1, 2, 4]])\n",
    "\n",
    "W = [3]  # 不可用机器索引 [1, 1]\n",
    "b = []  # 机器二进制表示\n",
    "for j in range(m):\n",
    "    binary_j = format(j, '0{}b'.format(N))\n",
    "    b_jk = [int(bit) for bit in binary_j]\n",
    "    b.append(b_jk)\n",
    "print(b)\n",
    "# 常数\n",
    "K1 = 100\n",
    "P = 30\n",
    "# 量子比特数量\n",
    "num_qubits = n * N + l"
   ],
   "id": "initial_id",
   "outputs": [
    {
     "name": "stdout",
     "output_type": "stream",
     "text": [
      "[[0, 0], [0, 1], [1, 0], [1, 1]]\n"
     ]
    }
   ],
   "execution_count": 1
  },
  {
   "metadata": {
    "ExecuteTime": {
     "end_time": "2025-03-14T01:45:15.578965Z",
     "start_time": "2025-03-14T01:45:15.563809Z"
    }
   },
   "cell_type": "code",
   "source": [
    "def append_multi_rzz_term(qc, qubits, gamma):\n",
    "    \"\"\"实现多体 Z 相互作用项 e^{-i \\gamma Z_1 Z_2 \\dots Z_k}\"\"\"\n",
    "    if len(qubits) == 0:\n",
    "        return\n",
    "    if len(qubits) == 1:\n",
    "        qc.rz(2 * gamma, qubits[0])\n",
    "        return\n",
    "    target = qubits[-1]\n",
    "    control_qubits = qubits[:-1]\n",
    "    for control in control_qubits:\n",
    "        qc.cx(control, target)\n",
    "    qc.rz(2 * gamma, target)\n",
    "    for control in reversed(control_qubits):\n",
    "        qc.cx(control, target)"
   ],
   "id": "744d1188245ca22d",
   "outputs": [],
   "execution_count": 2
  },
  {
   "metadata": {
    "ExecuteTime": {
     "end_time": "2025-03-14T01:45:15.655776Z",
     "start_time": "2025-03-14T01:45:15.642265Z"
    }
   },
   "cell_type": "code",
   "source": [
    "def append__zz_term(qc, qubit1, qubit2, gamma):\n",
    "    qc.cx(qubit1, qubit2)\n",
    "    qc.rz(gamma, qubit2)\n",
    "    qc.cx(qubit1, qubit2)\n",
    "\n",
    "\n",
    "def append__z_term(qc, qubit, gamma):\n",
    "    qc.rz(gamma, qubit)\n",
    "\n",
    "\n",
    "def append__mixer_term(qc, qubit, beta):\n",
    "    qc.rx(2 * beta, qubit)"
   ],
   "id": "78cd574ca18acceb",
   "outputs": [],
   "execution_count": 3
  },
  {
   "metadata": {
    "ExecuteTime": {
     "end_time": "2025-03-14T01:45:15.686342Z",
     "start_time": "2025-03-14T01:45:15.672813Z"
    }
   },
   "cell_type": "code",
   "source": [
    "def get_cost_circuit1(gamma, qc):\n",
    "    # 第一部分：C_max 部分，-1/2 sum_h 2^h Z_zh\n",
    "    for h in range(l):\n",
    "        coeff = -0.5 * 2 ** h\n",
    "        qc.rz(-2 * gamma * coeff, n * N + h)  # RZ(-gamma * 2^h, z_h)\n",
    "    return qc"
   ],
   "id": "a177ac766f2e3c4b",
   "outputs": [],
   "execution_count": 4
  },
  {
   "metadata": {},
   "cell_type": "markdown",
   "source": "\\begin{align}K_{1} \\sum_{j\\in W} \\sum_{i=0}^{n}\\prod_{k=0}^{N}\\left(\\frac{1}2+\\left(\\frac{1}2-b_{j k}\\right)Z_{ik}\\right)\\end{align}",
   "id": "6d569514dfbbda71"
  },
  {
   "metadata": {
    "ExecuteTime": {
     "end_time": "2025-03-14T01:45:15.718404Z",
     "start_time": "2025-03-14T01:45:15.704359Z"
    }
   },
   "cell_type": "code",
   "source": [
    "import itertools\n",
    "\n",
    "\n",
    "def get_cost_circuit2(gamma, qc):\n",
    "    for j in W:\n",
    "        for i in range(n):\n",
    "            # 生成所有子集 S，包括空集\n",
    "            all_subsets = list(chain.from_iterable(combinations(range(N), r) for r in range(N + 1)))\n",
    "            for S in all_subsets:\n",
    "                if not S:  # 空集，系数为 1/2^N\n",
    "                    coeff_S = K1 / (2 ** N)\n",
    "                    qc.rz(2 * gamma * coeff_S, i * N)  # 任意一个比特应用相位，实际为全局相位\n",
    "                else:\n",
    "                    coeff_S = K1 / (2 ** N)\n",
    "                    for k in S:\n",
    "                        coeff_S *= (1 - 2 * b[j][k])\n",
    "                    if coeff_S != 0:\n",
    "                        qubits = [i * N + k for k in S]\n",
    "                        append_multi_rzz_term(qc, qubits, gamma * coeff_S)\n",
    "    return qc\n"
   ],
   "id": "67570f9028e40f9",
   "outputs": [],
   "execution_count": 5
  },
  {
   "metadata": {},
   "cell_type": "markdown",
   "source": [
    "\\begin{align}\\sum_{j=0}^{m-1}\\sum_{i=0}^{n-1} \\sum_{i^{\\prime}=0}^{n-1}\\left(\\prod_{k=0}^{N-1}\\frac{1}{2}\\left(1+\\left(1-2b_{j k}\\right) Z_{i k}\\right)\\right) p_{i j}\\left(\\prod_{k^{\\prime}=0}^{N-1}\\frac{1}{2}\\left(1+\\left(1-2b_{j k}\\right) Z_{i^{\\prime} k^{\\prime}}\\right)\\right) p_{i^{\\prime} j}\\end{align}\n",
    "\\begin{align}-2 \\sum_{j=0}^{m-1} \\sum_{i=0}^{n-1} \\sum_{h=0}^{l-1} \\left(\\prod_{k=0}^{N-1}\\frac{1}{2}\\left(1+\\left(1-2b_{j k}\\right) Z_{i k}\\right)\\right) p_{i j} \\cdot 2^{h-1}\\left(1-Z_h\\right)\\end{align}\n",
    "\\begin{align}\\sum_{j=0}^{m-1}\\sum_{h=0}^{l-1} \\sum_{h^{\\prime}=0}^{l-1} 2^{h-1} 2^{h^{\\prime}-1}\\left(1-Z_h-Z_{h^{\\prime}}+Z_h Z_{h^{\\prime}}\\right)\\end{align}"
   ],
   "id": "8923b57427f69dec"
  },
  {
   "metadata": {
    "ExecuteTime": {
     "end_time": "2025-03-14T01:45:15.749904Z",
     "start_time": "2025-03-14T01:45:15.735873Z"
    }
   },
   "cell_type": "code",
   "source": [
    "# import itertools\n",
    "from collections import Counter\n",
    "\n",
    "\n",
    "def get_cost_circuit3(gamma, qc):\n",
    "    # 第三部分：负载平衡惩罚 P sum_j [(load_j)^2 - 2 load_j C_max + C_max^2 / 4]\n",
    "    P = 200\n",
    "    for j in range(m):\n",
    "        # (load_j)^2 部分\n",
    "        for i in range(n):\n",
    "            for i_prime in range(n):\n",
    "                all_subsets_i = list(chain.from_iterable(combinations(range(N), r) for r in range(N + 1)))\n",
    "                all_subsets_iprime = list(chain.from_iterable(combinations(range(N), r) for r in range(N + 1)))\n",
    "                for S_i in all_subsets_i:\n",
    "                    for S_iprime in all_subsets_iprime:\n",
    "                        coeff_Si = 1\n",
    "                        for k in S_i:\n",
    "                            coeff_Si *= (1 - 2 * b[j][k])\n",
    "                        coeff_Siprime = 1\n",
    "                        for k in S_iprime:\n",
    "                            coeff_Siprime *= (1 - 2 * b[j][k])\n",
    "                        coeff = P * p_ij[i][j] * p_ij[i_prime][j] / (2 ** (2 * N)) * coeff_Si * coeff_Siprime\n",
    "                        if coeff != 0:\n",
    "                            qubits = [i * N + k for k in S_i] + [i_prime * N + k for k in S_iprime]\n",
    "                            count = Counter(qubits)\n",
    "                            qubits_final = [x for x in count if count[x] % 2 != 0]\n",
    "                            if qubits_final:\n",
    "                                append_multi_rzz_term(qc, qubits_final, gamma * coeff)\n",
    "\n",
    "        # -2 load_j C_max 部分\n",
    "        for i in range(n):\n",
    "            all_subsets_i = list(chain.from_iterable(combinations(range(N), r) for r in range(N + 1)))\n",
    "            for S_i in all_subsets_i:\n",
    "                coeff_Si = 1\n",
    "                for k in S_i:\n",
    "                    coeff_Si *= (1 - 2 * b[j][k])\n",
    "                if coeff_Si != 0:\n",
    "                    coeff = -2 * P * p_ij[i][j] / (2 ** N) * coeff_Si * (2 ** l - 1)  # C_max 的常数项\n",
    "                    qubits_load = [i * N + k for k in S_i]\n",
    "                    append_multi_rzz_term(qc, qubits_load, gamma * coeff)\n",
    "                    for h in range(l):\n",
    "                        coeff_h = -2 * P * p_ij[i][j] / (2 ** N) * coeff_Si * 2 ** h\n",
    "                        qubits_h = qubits_load + [n * N + h]\n",
    "                        append_multi_rzz_term(qc, qubits_h, gamma * coeff_h)\n",
    "\n",
    "        # C_max^2 / 4 部分\n",
    "        for h in range(l):\n",
    "            for h_prime in range(h, l):  # 避免重复\n",
    "                if h == h_prime:\n",
    "                    coeff = P / 4 * (2 ** h) * (2 ** h)  # Z_h^2 = I\n",
    "                else:\n",
    "                    coeff = P / 4 * (2 ** h) * (2 ** h_prime)\n",
    "                    append__zz_term(qc, n * N + h, n * N + h_prime, 2 * gamma * coeff)\n",
    "\n",
    "\n"
   ],
   "id": "1036d966c797837b",
   "outputs": [],
   "execution_count": 6
  },
  {
   "metadata": {
    "ExecuteTime": {
     "end_time": "2025-03-14T01:45:15.780998Z",
     "start_time": "2025-03-14T01:45:15.766426Z"
    }
   },
   "cell_type": "code",
   "source": [
    "def get_mixer_circuit(beta, qc):\n",
    "    for i in range(num_qubits):\n",
    "        append__mixer_term(qc, i, beta)\n",
    "    return qc"
   ],
   "id": "45a838eedf24a21",
   "outputs": [],
   "execution_count": 7
  },
  {
   "metadata": {
    "ExecuteTime": {
     "end_time": "2025-03-14T01:45:15.812043Z",
     "start_time": "2025-03-14T01:45:15.798009Z"
    }
   },
   "cell_type": "code",
   "source": [
    "# def invert_counts(s):\n",
    "#     return s[::-1]"
   ],
   "id": "b401b61cad096d4d",
   "outputs": [],
   "execution_count": 8
  },
  {
   "metadata": {
    "ExecuteTime": {
     "end_time": "2025-03-14T01:45:15.842605Z",
     "start_time": "2025-03-14T01:45:15.828081Z"
    }
   },
   "cell_type": "code",
   "source": [
    "from qiskit import Aer, QuantumCircuit, execute\n",
    "\n",
    "\n",
    "# 定义成本函数\n",
    "def cost_function(params):\n",
    "    beta, gamma = params[:len(params) // 2], params[len(params) // 2:]\n",
    "    num_qubits = n * N + l\n",
    "    qc = QuantumCircuit(num_qubits, num_qubits)\n",
    "    qc.h(range(num_qubits))\n",
    "    # print(qc)\n",
    "\n",
    "    length = len(params)\n",
    "    for i in range(int(length / 2)):\n",
    "        get_cost_circuit1(gamma[i], qc)\n",
    "        get_cost_circuit2(gamma[i], qc)\n",
    "        get_cost_circuit3(gamma[i], qc)\n",
    "        get_mixer_circuit(beta[i], qc)\n",
    "    # 模拟电路\n",
    "    # 添加测量指令\n",
    "    qc.measure(range(num_qubits), range(num_qubits))\n",
    "    backend = Aer.get_backend('qasm_simulator')\n",
    "    result = execute(qc, backend, seed_simulator=20, shots=10000).result()\n",
    "    counts = result.get_counts(qc)\n",
    "    total_counts = sum(counts.values())\n",
    "    total_E = 0\n",
    "    # 计算期望值\n",
    "    for bitstring, count in counts.items():\n",
    "        s = np.zeros((n, N), dtype=int)\n",
    "        z = np.zeros(l, dtype=int)\n",
    "        # 解析比特串\n",
    "        for i in range(n):\n",
    "            for k in range(N):\n",
    "                s[i][k] = int(bitstring[n * N + l - 1 - (i * N + k)])  # 从右到左读取\n",
    "        for h in range(l):\n",
    "            z[h] = int(bitstring[n * N + l - 1 - (n * N + h)])\n",
    "\n",
    "        # 计算 C_max = sum_h 2^h z_h\n",
    "        C_max = sum(2 ** h * z[h] for h in range(l))\n",
    "        # 计算 \\tilde{E}\n",
    "        E = C_max * 50\n",
    "\n",
    "        # 不可用机器惩罚\n",
    "        for j in W:\n",
    "            for i in range(n):\n",
    "                M_i = sum(2 ** (N - 1 - k) * s[i][k] for k in range(N))\n",
    "                f_binary_j = 1 if M_i == j else 0\n",
    "                E += K1 * f_binary_j\n",
    "        # 负载平衡惩罚\n",
    "        for j in range(m):\n",
    "            load_j = 0\n",
    "            for i in range(n):\n",
    "                M_i = sum(2 ** (N - 1 - k) * s[i][k] for k in range(N))\n",
    "                f_binary_j = 1 if M_i == j else 0\n",
    "                load_j += p_ij[i][j] * f_binary_j\n",
    "            alpha_s = max(0, load_j - C_max)\n",
    "            E += P * alpha_s ** 2\n",
    "        total_E += E * (count / total_counts)\n",
    "    return total_E, counts"
   ],
   "id": "64263ef21c05e105",
   "outputs": [],
   "execution_count": 9
  },
  {
   "metadata": {
    "ExecuteTime": {
     "end_time": "2025-03-14T01:45:16.220946Z",
     "start_time": "2025-03-14T01:45:16.203529Z"
    }
   },
   "cell_type": "code",
   "source": [
    "from scipy.optimize import minimize\n",
    "\n",
    "\n",
    "def optimize_qaoa(params):\n",
    "    def objective(params):\n",
    "        expectation, _ = cost_function(params)\n",
    "\n",
    "        return expectation\n",
    "\n",
    "    result = minimize(objective, params, method='Powell',\n",
    "                      options={'xtol': 1e-5, 'ftol': 1e-5, 'maxiter': 1000})\n",
    "    return result"
   ],
   "id": "9d5b7115dd4d48b2",
   "outputs": [],
   "execution_count": 10
  },
  {
   "metadata": {
    "ExecuteTime": {
     "end_time": "2025-03-14T01:45:16.815105Z",
     "start_time": "2025-03-14T01:45:16.802209Z"
    }
   },
   "cell_type": "code",
   "source": [
    "# 优化器配置\n",
    "optimizers = [\n",
    "    {\n",
    "        \"name\": \"Powell\",\n",
    "        \"func\": lambda: {\"method\": \"Powell\", \"options\": {\"xtol\": 1e-6, \"ftol\": 1e-6, \"maxiter\": 1000, \"disp\": True}}\n",
    "    }\n",
    "]"
   ],
   "id": "4d2d91b765956c49",
   "outputs": [],
   "execution_count": 11
  },
  {
   "metadata": {
    "ExecuteTime": {
     "end_time": "2025-03-14T01:45:18.261057Z",
     "start_time": "2025-03-14T01:45:18.247020Z"
    }
   },
   "cell_type": "code",
   "source": [
    "# 插值法初始化函数\n",
    "def interpolate_parameters(prev_params, p_old, p_new):\n",
    "    if p_old == 0:\n",
    "        return np.random.uniform(0, np.pi, p_new), np.random.uniform(0, 2 * np.pi, p_new)\n",
    "    prev_beta = prev_params[:p_old]\n",
    "    prev_gamma = prev_params[p_old:]\n",
    "    new_beta = np.zeros(p_new)\n",
    "    new_gamma = np.zeros(p_new)\n",
    "    for i in range(p_new):\n",
    "        t = i / (p_new - 1) if p_new > 1 else 0\n",
    "        new_beta[i] = (1 - t) * prev_beta[0] + t * prev_beta[-1]\n",
    "        new_gamma[i] = (1 - t) * prev_gamma[0] + t * prev_gamma[-1]\n",
    "    return np.concatenate([new_beta, new_gamma])"
   ],
   "id": "8cdf4e21860e82f4",
   "outputs": [],
   "execution_count": 12
  },
  {
   "metadata": {
    "ExecuteTime": {
     "end_time": "2025-03-15T03:21:04.383182Z",
     "start_time": "2025-03-14T14:35:43.419051Z"
    }
   },
   "cell_type": "code",
   "source": [
    "# 主程序\n",
    "import time\n",
    "\n",
    "startTime = time.time()\n",
    "min_energy = float('inf')\n",
    "init_point = np.array([])\n",
    "counts = {}\n",
    "final_result = None\n",
    "\n",
    "for p1 in range(1, 4):\n",
    "    min_energy = 100000\n",
    "    for k in range(50):\n",
    "        print(f\"第 {p1} 层，第 {k} 个参数\")\n",
    "        init_point_temp = init_point\n",
    "        beta_p = np.random.uniform(0, np.pi)\n",
    "        gamma_p = np.random.uniform(0, 2 * np.pi)\n",
    "        if k > 0:\n",
    "            init_point_temp = np.delete(init_point_temp, 2 * p1 - 1)\n",
    "            init_point_temp = np.delete(init_point_temp, p1 - 1)\n",
    "        init_point_temp = np.insert(init_point_temp, p1 - 1, beta_p)\n",
    "        init_point_temp = np.insert(init_point_temp, 2 * p1 - 1, gamma_p)\n",
    "        # if k == 0 and p1 == 1:\n",
    "        #     init_point_temp = np.concatenate([np.random.uniform(0, np.pi, p1),\n",
    "        #                                      np.random.uniform(0, 2 * np.pi, p1)])\n",
    "        # elif k == 0:\n",
    "        #     # 使用插值法从前一层生成新参数\n",
    "        #     init_point_temp = interpolate_parameters(init_point, p1 - 1, p1)\n",
    "        # else:\n",
    "        #     # 随机调整当前层的参数\n",
    "        #     init_point_temp = init_point.copy()\n",
    "        #     beta_p = np.random.uniform(0, np.pi)\n",
    "        #     gamma_p = np.random.uniform(0, 2 * np.pi)\n",
    "        #     init_point_temp = np.delete(init_point_temp, 2 * p1 - 1)\n",
    "        #     init_point_temp = np.delete(init_point_temp, p1 - 1)\n",
    "        #     init_point_temp = np.insert(init_point_temp, p1 - 1, beta_p)\n",
    "        #     init_point_temp = np.insert(init_point_temp, 2 * p1 - 1, gamma_p)\n",
    "\n",
    "        result = optimize_qaoa(init_point_temp)\n",
    "        optimal_params = result.x\n",
    "        energy, counts_temp = cost_function(result.x)\n",
    "\n",
    "        if min_energy > energy:\n",
    "            min_energy = energy\n",
    "            init_point = optimal_params\n",
    "            counts = counts_temp\n",
    "            final_result = result\n",
    "            print(f\"New best energy: {min_energy}\")\n",
    "            print(f\"Optimal parameters: {init_point}\")\n",
    "\n",
    "endTime = time.time()"
   ],
   "id": "ffcc54bd1b854fb0",
   "outputs": [
    {
     "name": "stdout",
     "output_type": "stream",
     "text": [
      "第 1 层，第 0 个参数\n",
      "New best energy: 274.85\n",
      "Optimal parameters: [2.24857114 5.19101486]\n",
      "第 1 层，第 1 个参数\n",
      "New best energy: 274.79599999999994\n",
      "Optimal parameters: [2.65910335 1.74354627]\n",
      "第 1 层，第 2 个参数\n",
      "第 1 层，第 3 个参数\n",
      "第 1 层，第 4 个参数\n",
      "第 1 层，第 5 个参数\n",
      "New best energy: 208.532\n",
      "Optimal parameters: [2.30450698 0.16475781]\n",
      "第 1 层，第 6 个参数\n",
      "第 1 层，第 7 个参数\n",
      "第 1 层，第 8 个参数\n",
      "New best energy: 187.902\n",
      "Optimal parameters: [2.29453601 1.17015934]\n",
      "第 1 层，第 9 个参数\n",
      "第 1 层，第 10 个参数\n",
      "第 1 层，第 11 个参数\n",
      "第 1 层，第 12 个参数\n",
      "第 1 层，第 13 个参数\n",
      "第 1 层，第 14 个参数\n",
      "第 1 层，第 15 个参数\n",
      "第 1 层，第 16 个参数\n",
      "第 1 层，第 17 个参数\n",
      "第 1 层，第 18 个参数\n",
      "第 1 层，第 19 个参数\n",
      "第 1 层，第 20 个参数\n",
      "第 1 层，第 21 个参数\n",
      "第 1 层，第 22 个参数\n",
      "第 1 层，第 23 个参数\n",
      "第 1 层，第 24 个参数\n",
      "第 1 层，第 25 个参数\n",
      "第 1 层，第 26 个参数\n",
      "第 1 层，第 27 个参数\n",
      "第 1 层，第 28 个参数\n",
      "第 1 层，第 29 个参数\n",
      "第 1 层，第 30 个参数\n",
      "第 1 层，第 31 个参数\n",
      "第 1 层，第 32 个参数\n",
      "第 1 层，第 33 个参数\n",
      "第 1 层，第 34 个参数\n",
      "第 1 层，第 35 个参数\n",
      "第 1 层，第 36 个参数\n",
      "第 1 层，第 37 个参数\n",
      "第 1 层，第 38 个参数\n",
      "第 1 层，第 39 个参数\n",
      "第 1 层，第 40 个参数\n",
      "第 1 层，第 41 个参数\n",
      "第 1 层，第 42 个参数\n",
      "第 1 层，第 43 个参数\n",
      "第 1 层，第 44 个参数\n",
      "第 1 层，第 45 个参数\n",
      "第 1 层，第 46 个参数\n",
      "第 1 层，第 47 个参数\n",
      "第 1 层，第 48 个参数\n",
      "第 1 层，第 49 个参数\n",
      "第 2 层，第 0 个参数\n",
      "New best energy: 156.73199999999997\n",
      "Optimal parameters: [0.63412749 1.24143756 1.17021658 7.46032838]\n",
      "第 2 层，第 1 个参数\n",
      "第 2 层，第 2 个参数\n",
      "第 2 层，第 3 个参数\n",
      "第 2 层，第 4 个参数\n",
      "第 2 层，第 5 个参数\n",
      "第 2 层，第 6 个参数\n",
      "第 2 层，第 7 个参数\n",
      "第 2 层，第 8 个参数\n",
      "New best energy: 154.09\n",
      "Optimal parameters: [2.35454968 0.24571626 1.17024579 1.73517726]\n",
      "第 2 层，第 9 个参数\n",
      "第 2 层，第 10 个参数\n",
      "第 2 层，第 11 个参数\n",
      "第 2 层，第 12 个参数\n",
      "第 2 层，第 13 个参数\n",
      "New best energy: 152.28199999999998\n",
      "Optimal parameters: [2.34003886 0.19458625 1.17015941 3.82251305]\n",
      "第 2 层，第 14 个参数\n",
      "第 2 层，第 15 个参数\n",
      "第 2 层，第 16 个参数\n",
      "第 2 层，第 17 个参数\n",
      "第 2 层，第 18 个参数\n",
      "第 2 层，第 19 个参数\n",
      "第 2 层，第 20 个参数\n",
      "第 2 层，第 21 个参数\n",
      "第 2 层，第 22 个参数\n",
      "第 2 层，第 23 个参数\n",
      "第 2 层，第 24 个参数\n",
      "第 2 层，第 25 个参数\n",
      "第 2 层，第 26 个参数\n",
      "第 2 层，第 27 个参数\n",
      "第 2 层，第 28 个参数\n",
      "第 2 层，第 29 个参数\n",
      "第 2 层，第 30 个参数\n",
      "第 2 层，第 31 个参数\n",
      "第 2 层，第 32 个参数\n",
      "第 2 层，第 33 个参数\n",
      "第 2 层，第 34 个参数\n",
      "第 2 层，第 35 个参数\n",
      "第 2 层，第 36 个参数\n",
      "第 2 层，第 37 个参数\n",
      "第 2 层，第 38 个参数\n",
      "第 2 层，第 39 个参数\n",
      "第 2 层，第 40 个参数\n",
      "第 2 层，第 41 个参数\n",
      "第 2 层，第 42 个参数\n",
      "第 2 层，第 43 个参数\n",
      "New best energy: 151.063\n",
      "Optimal parameters: [2.35996914 3.3464775  1.17017287 6.46143272]\n",
      "第 2 层，第 44 个参数\n",
      "第 2 层，第 45 个参数\n",
      "第 2 层，第 46 个参数\n",
      "第 2 层，第 47 个参数\n",
      "第 2 层，第 48 个参数\n",
      "第 2 层，第 49 个参数\n",
      "第 3 层，第 0 个参数\n",
      "New best energy: 145.87099999999995\n",
      "Optimal parameters: [2.28772509 3.32458437 3.00003829 1.17016648 6.4614021  4.36695446]\n",
      "第 3 层，第 1 个参数\n",
      "New best energy: 145.33299999999997\n",
      "Optimal parameters: [2.34768872 3.33709502 0.1048371  1.17018806 6.46142571 3.91191513]\n",
      "第 3 层，第 2 个参数\n",
      "第 3 层，第 3 个参数\n",
      "第 3 层，第 4 个参数\n",
      "第 3 层，第 5 个参数\n",
      "New best energy: 143.49500000000003\n",
      "Optimal parameters: [0.67064592 3.27952089 1.79301286 1.17018881 7.26508466 1.96971806]\n",
      "第 3 层，第 6 个参数\n",
      "New best energy: 140.856\n",
      "Optimal parameters: [2.31477433 3.37323226 3.01412973 1.17019511 7.23991273 3.02741141]\n",
      "第 3 层，第 7 个参数\n",
      "第 3 层，第 8 个参数\n",
      "第 3 层，第 9 个参数\n",
      "第 3 层，第 10 个参数\n",
      "第 3 层，第 11 个参数\n",
      "第 3 层，第 12 个参数\n",
      "第 3 层，第 13 个参数\n",
      "第 3 层，第 14 个参数\n",
      "第 3 层，第 15 个参数\n",
      "New best energy: 138.43300000000005\n",
      "Optimal parameters: [5.41730627 3.38850071 2.94980894 1.17018232 7.23994902 5.04993491]\n",
      "第 3 层，第 16 个参数\n",
      "第 3 层，第 17 个参数\n",
      "第 3 层，第 18 个参数\n",
      "第 3 层，第 19 个参数\n",
      "第 3 层，第 20 个参数\n",
      "第 3 层，第 21 个参数\n",
      "第 3 层，第 22 个参数\n",
      "第 3 层，第 23 个参数\n",
      "第 3 层，第 24 个参数\n",
      "第 3 层，第 25 个参数\n",
      "第 3 层，第 26 个参数\n",
      "第 3 层，第 27 个参数\n",
      "第 3 层，第 28 个参数\n",
      "第 3 层，第 29 个参数\n",
      "第 3 层，第 30 个参数\n",
      "第 3 层，第 31 个参数\n",
      "第 3 层，第 32 个参数\n",
      "第 3 层，第 33 个参数\n",
      "第 3 层，第 34 个参数\n",
      "第 3 层，第 35 个参数\n",
      "第 3 层，第 36 个参数\n",
      "New best energy: 131.676\n",
      "Optimal parameters: [5.42917776 3.43158795 3.29266178 1.17019914 7.23994382 2.04952838]\n",
      "第 3 层，第 37 个参数\n",
      "第 3 层，第 38 个参数\n",
      "第 3 层，第 39 个参数\n",
      "第 3 层，第 40 个参数\n",
      "第 3 层，第 41 个参数\n",
      "第 3 层，第 42 个参数\n",
      "第 3 层，第 43 个参数\n",
      "第 3 层，第 44 个参数\n",
      "第 3 层，第 45 个参数\n",
      "第 3 层，第 46 个参数\n",
      "第 3 层，第 47 个参数\n",
      "第 3 层，第 48 个参数\n",
      "第 3 层，第 49 个参数\n"
     ]
    }
   ],
   "execution_count": 16
  },
  {
   "metadata": {
    "ExecuteTime": {
     "end_time": "2025-03-15T07:17:07.502292Z",
     "start_time": "2025-03-15T07:17:07.170Z"
    }
   },
   "cell_type": "code",
   "source": [
    "import warnings\n",
    "# [3.8470415  0.23166156 1.32576459 1.29583669 4.27088067 5.59971476] 3010\n",
    "# [5.42917776 3.43158795 3.29266178 1.17019914 7.23994382 2.04952838] 2864\n",
    "from qiskit.visualization import plot_histogram\n",
    "\n",
    "# 忽略弃用警告\n",
    "warnings.filterwarnings(\"ignore\", category=DeprecationWarning)\n",
    "# 输出结果\n",
    "print(\"优化时间：\", endTime - startTime)\n",
    "print(\"Optimal parameters:\", final_result.x)\n",
    "print(\"Optimal value:\", final_result.fun)\n",
    "# 使用最优参数运行量子电路并输出测量结果\n",
    "final_expectation, final_counts = cost_function(final_result.x)\n",
    "sorted_dict = {item[0]: item[1] for item in sorted(final_counts.items(), key=lambda item: item[1], reverse=True)}\n",
    "# 过滤掉计数小于 100 的结果\n",
    "filtered_dict = {key: value for key, value in sorted_dict.items() if value >= 100}\n",
    "print(\"Final expectation value:\", final_expectation)\n",
    "print(\"Final measurement counts:\", filtered_dict)\n",
    "plot_histogram(filtered_dict)"
   ],
   "id": "4261bc08a9ed929f",
   "outputs": [
    {
     "name": "stdout",
     "output_type": "stream",
     "text": [
      "优化时间： 45920.936223983765\n",
      "Optimal parameters: [5.42917776 3.43158795 3.29266178 1.17019914 7.23994382 2.04952838]\n",
      "Optimal value: 131.676\n",
      "Final expectation value: 131.676\n",
      "Final measurement counts: {'11000': 3134, '11001': 2864, '10100': 1194, '10101': 1093, '10010': 244, '10110': 224, '11101': 191, '10011': 158, '10001': 155, '11100': 129, '11010': 117}\n"
     ]
    },
    {
     "data": {
      "text/plain": [
       "<Figure size 700x500 with 1 Axes>"
      ],
      "image/png": "[encoded data removed]"
     },
     "execution_count": 17,
     "metadata": {},
     "output_type": "execute_result"
    }
   ],
   "execution_count": 17
  },
  {
   "metadata": {
    "ExecuteTime": {
     "end_time": "2025-03-10T07:17:48.968052Z",
     "start_time": "2025-03-10T07:17:48.951393Z"
    }
   },
   "cell_type": "code",
   "source": [
    "# 计算期望值\n",
    "optimal_C_max = 1\n",
    "optimal_counts = 0\n",
    "total_counts = sum(final_counts.values())\n",
    "total_E = 0\n",
    "# 计算期望值\n",
    "for bitstring, count in counts.items():\n",
    "    s = np.zeros((n, N), dtype=int)\n",
    "    z = np.zeros(l, dtype=int)\n",
    "    # 解析比特串\n",
    "    for i in range(n):\n",
    "        for k in range(N):\n",
    "            s[i][k] = int(bitstring[n * N + l - 1 - (i * N + k)])  # 从右到左读取\n",
    "    for h in range(l):\n",
    "        z[h] = int(bitstring[n * N + l - 1 - (n * N + h)])\n",
    "\n",
    "    # 计算 C_max = sum_h 2^h z_h\n",
    "    C_max = sum(2 ** h * z[h] for h in range(l))\n",
    "    # 计算 \\tilde{E}\n",
    "    E = C_max\n",
    "\n",
    "    # 不可用机器惩罚\n",
    "    for j in W:\n",
    "        for i in range(n):\n",
    "            M_i = sum(2 ** k * s[i][k] for k in range(N))\n",
    "            f_binary_j = 1 if M_i == j else 0\n",
    "            E += f_binary_j\n",
    "    # 负载平衡惩罚\n",
    "    for j in range(m):\n",
    "        load_j = 0\n",
    "        for i in range(n):\n",
    "            M_i = sum(2 ** k * s[i][k] for k in range(N))\n",
    "            f_binary_j = 1 if M_i == j else 0\n",
    "            load_j += p_ij[i][j] * f_binary_j\n",
    "        alpha_s = max(0, load_j - C_max)\n",
    "        E += alpha_s ** 2\n",
    "    total_E += E * (count / total_counts)\n",
    "    penalty_sum = E - C_max\n",
    "    if C_max == optimal_C_max and penalty_sum == 0:\n",
    "        optimal_counts += count\n",
    "P_opt = optimal_counts / total_counts\n",
    "print(total_E)"
   ],
   "id": "3afd91f885895dcd",
   "outputs": [
    {
     "name": "stdout",
     "output_type": "stream",
     "text": [
      "10.817000000000005\n"
     ]
    }
   ],
   "execution_count": 316
  },
  {
   "metadata": {
    "ExecuteTime": {
     "end_time": "2025-03-10T07:18:09.407632Z",
     "start_time": "2025-03-10T07:18:09.399063Z"
    }
   },
   "cell_type": "code",
   "source": [
    "expectation = 0\n",
    "bitstring = \"1011000\"\n",
    "s = np.zeros((n, N), dtype=int)\n",
    "z = np.zeros(l, dtype=int)\n",
    "# 解析比特串\n",
    "for i in range(n):\n",
    "    for k in range(N):\n",
    "        s[i][k] = int(bitstring[n * N + l - 1 - (i * N + k)])  # 从右到左读取\n",
    "for h in range(l):\n",
    "    z[h] = int(bitstring[n * N + l - 1 - (n * N + h)])\n",
    "print(s)\n",
    "print(z)\n",
    "# 计算 C_max = sum_h 2^h z_h\n",
    "C_max = sum(2 ** h * z[h] for h in range(l))\n",
    "# 计算 \\tilde{E}\n",
    "E1 = C_max\n",
    "E2 = 0\n",
    "# 不可用机器惩罚\n",
    "for j in W:\n",
    "    for i in range(n):\n",
    "        M_i = sum(2 ** (N - 1 - k) * s[i][k] for k in range(N))\n",
    "        print(\"M_i: \", M_i)\n",
    "        f_binary_j = 1 if M_i == j else 0\n",
    "        E2 += K1 * f_binary_j\n",
    "E3 = 0\n",
    "# 负载平衡惩罚\n",
    "for j in range(m):\n",
    "    load_j = 0\n",
    "    for i in range(n):\n",
    "        M_i = sum(2 ** (N - 1 - k) * s[i][k] for k in range(N))\n",
    "        f_binary_j = 1 if M_i == j else 0\n",
    "        load_j += p_ij[i][j] * f_binary_j\n",
    "    alpha_s = max(0, load_j - C_max)\n",
    "    E3 += P * alpha_s ** 2\n",
    "\n",
    "E = E1 + E2 + E3\n",
    "print(E1)\n",
    "print(E2)\n",
    "print(E3)\n",
    "# print(e1)\n",
    "# print(e2)"
   ],
   "id": "17d987eaf3be8f0f",
   "outputs": [
    {
     "name": "stdout",
     "output_type": "stream",
     "text": [
      "[[0 0]\n",
      " [0 1]\n",
      " [1 0]]\n",
      "[1]\n",
      "M_i:  0\n",
      "M_i:  1\n",
      "M_i:  2\n",
      "1\n",
      "0\n",
      "0\n"
     ]
    }
   ],
   "execution_count": 318
  },
  {
   "metadata": {
    "ExecuteTime": {
     "end_time": "2024-10-30T14:24:31.456293Z",
     "start_time": "2024-10-30T14:24:31.444392Z"
    }
   },
   "cell_type": "code",
   "source": "",
   "id": "4888b1d2b1ed7be9",
   "outputs": [],
   "execution_count": null
  }
 ],
 "metadata": {
  "kernelspec": {
   "display_name": "Python 3",
   "language": "python",
   "name": "python3"
  },
  "language_info": {
   "codemirror_mode": {
    "name": "ipython",
    "version": 2
   },
   "file_extension": ".py",
   "mimetype": "text/x-python",
   "name": "python",
   "nbconvert_exporter": "python",
   "pygments_lexer": "ipython2",
   "version": "2.7.6"
  }
 },
 "nbformat": 4,
 "nbformat_minor": 5
}
