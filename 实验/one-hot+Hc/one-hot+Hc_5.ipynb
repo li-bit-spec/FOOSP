{
 "cells": [
  {
   "metadata": {
    "collapsed": true,
    "ExecuteTime": {
     "end_time": "2025-03-14T02:20:11.256901Z",
     "start_time": "2025-03-14T02:20:09.505318Z"
    }
   },
   "cell_type": "code",
   "source": [
    "import numpy as np\n",
    "from itertools import combinations, chain\n",
    "from collections import Counter\n",
    "from qiskit_algorithms.optimizers import POWELL\n",
    "\n",
    "# 假设有 3 台机器和 3 个操作\n",
    "n = 2  # 作业数\n",
    "m = 3  # 机器数\n",
    "l = 1  # C_max 的二进制位数\n",
    "\n",
    "# 处理时间矩阵 (例如)\n",
    "p_ij = np.array([[2, 3, 1], [4, 1, 2]])\n",
    "\n",
    "# W = [3]  # 不可用机器索引 [1, 1]\n",
    "# b = []  # 机器二进制表示\n",
    "# for j in range(m):\n",
    "#     binary_j = format(j, '0{}b'.format(N))\n",
    "#     b_jk = [int(bit) for bit in binary_j]\n",
    "#     b.append(b_jk)\n",
    "# print(b)\n",
    "# 常数\n",
    "K1 = 100\n",
    "P = 80\n",
    "# 量子比特数量\n",
    "num_qubits = n * m + m * l + l  # x_ij, tau_jh, z_h"
   ],
   "id": "initial_id",
   "outputs": [],
   "execution_count": 1
  },
  {
   "metadata": {
    "ExecuteTime": {
     "end_time": "2025-03-14T02:20:11.319455Z",
     "start_time": "2025-03-14T02:20:11.262426Z"
    }
   },
   "cell_type": "code",
   "source": [
    "# 2. XY_mixer\n",
    "from qiskit.circuit.library.standard_gates import RYGate\n",
    "from qiskit import QuantumCircuit, Aer, execute\n",
    "from math import sqrt\n",
    "from qiskit.visualization import plot_histogram\n",
    "import math\n",
    "\n",
    "\n",
    "def append_SCS_term(m, l, n):\n",
    "    qc = QuantumCircuit(n, name='SCS_' + str(m) + ',' + str(l))\n",
    "    m = m - 1\n",
    "    for i in range(l):\n",
    "        if (i + 1) == 1:\n",
    "            qc.cx(m - 1, m)\n",
    "            theta = sqrt(1 / (m + 1))\n",
    "            c3ry_gate = RYGate(2 * math.acos(theta)).control(1)\n",
    "            qc.append(c3ry_gate, [m, m - 1])\n",
    "            qc.cx(m - 1, m)\n",
    "        else:\n",
    "            qc.cx(m - (i + 1), m)\n",
    "            theta = sqrt((i + 1) / (m + 1))\n",
    "            c3ry_gate = RYGate(2 * math.acos(theta)).control(2)\n",
    "            qc.append(c3ry_gate, [m, m - (i + 1) + 1, m - (i + 1)])\n",
    "            qc.cx(m - (i + 1), m)\n",
    "    return qc\n",
    "\n",
    "\n",
    "def get_Dicke_state_init_circuit(n, m, B, l):\n",
    "    total_qubits = n * m + m * l + l\n",
    "    qc = QuantumCircuit(total_qubits, name='modified_dicke_init')\n",
    "\n",
    "    # 对前 n * m 个量子比特分组，每组 m 个量子比特中包含 B 个激发态\n",
    "    for group in range(n):\n",
    "        start = group * m  # 每组的起始索引\n",
    "        for j in range(B):\n",
    "            qc.x(start + j)  # 在每组的前 B 个比特上施加 X 门，使其为激发态\n",
    "\n",
    "    # 在每组 m 个量子比特中应用 SCS 子电路生成激励共享态\n",
    "    for group in range(n):\n",
    "        start = group * m\n",
    "        for i in range(m - 1):\n",
    "            if m - i > B:\n",
    "                qc.append(append_SCS_term(m - i, B, m), range(start, start + m))\n",
    "            else:\n",
    "                qc.append(append_SCS_term(m - i, m - i - 1, m), range(start, start + m))\n",
    "            qc.barrier()\n",
    "\n",
    "    # 额外的 l 个量子比特可用于纠缠初始化或其他操作\n",
    "    for i in range(m * l + l):\n",
    "        qc.h(n * m + i)\n",
    "\n",
    "    return qc\n"
   ],
   "id": "efb1da563322b646",
   "outputs": [],
   "execution_count": 2
  },
  {
   "metadata": {
    "ExecuteTime": {
     "end_time": "2025-03-14T02:20:14.764189Z",
     "start_time": "2025-03-14T02:20:14.756167Z"
    }
   },
   "cell_type": "code",
   "source": [
    "# # n = 6 # 变量总数\n",
    "# B = 1  # 限制1的个数\n",
    "# # m = 2\n",
    "# # k = 6\n",
    "# qc = get_Dicke_state_init_circuit(n, m, B, l)\n",
    "# dicke_circuit = QuantumCircuit(n * m + m * l + l, n * m + m * l + l)\n",
    "# dicke_circuit.append(qc, range(n * m + m * l + l))\n",
    "# dicke_circuit.measure(range(n * m + m * l + l), range(n * m + m * l + l))\n",
    "# backend = Aer.get_backend('qasm_simulator')\n",
    "# counts = execute(dicke_circuit, backend, shots = 10000).result().get_counts()\n",
    "# print(counts)\n",
    "# plot_histogram(counts)"
   ],
   "id": "96f9ea8eece1f722",
   "outputs": [],
   "execution_count": 3
  },
  {
   "metadata": {
    "ExecuteTime": {
     "end_time": "2025-03-14T02:20:19.685047Z",
     "start_time": "2025-03-14T02:20:19.667994Z"
    }
   },
   "cell_type": "code",
   "source": [
    "# 多体 RZZ 门函数\n",
    "def append_multi_rzz_term(qc, qubits, angle):\n",
    "    if len(qubits) == 1:\n",
    "        qc.rz(2 * angle, qubits[0])\n",
    "    else:\n",
    "        for i in range(len(qubits) - 1):\n",
    "            qc.cx(qubits[i], qubits[i + 1])\n",
    "        qc.rz(2 * angle, qubits[-1])\n",
    "        for i in range(len(qubits) - 2, -1, -1):\n",
    "            qc.cx(qubits[i], qubits[i + 1])"
   ],
   "id": "744d1188245ca22d",
   "outputs": [],
   "execution_count": 4
  },
  {
   "metadata": {
    "ExecuteTime": {
     "end_time": "2025-03-14T02:20:20.278305Z",
     "start_time": "2025-03-14T02:20:20.269772Z"
    }
   },
   "cell_type": "code",
   "source": [
    "def append__zz_term(qc, qubit1, qubit2, gamma):\n",
    "    qc.cx(qubit1, qubit2)\n",
    "    qc.rz(2 * gamma, qubit2)\n",
    "    qc.cx(qubit1, qubit2)\n",
    "\n",
    "\n",
    "def append__z_term(qc, qubit, gamma):\n",
    "    qc.rz(gamma, qubit)\n",
    "\n",
    "\n",
    "def append__mixer_term(qc, qubit, beta):\n",
    "    qc.rx(2 * beta, qubit)"
   ],
   "id": "78cd574ca18acceb",
   "outputs": [],
   "execution_count": 5
  },
  {
   "metadata": {},
   "cell_type": "markdown",
   "source": "\\begin{align}\\sum_{h=0}^{l-1} 2^h z_h\\end{align}",
   "id": "7859c4b6649b1afa"
  },
  {
   "metadata": {
    "ExecuteTime": {
     "end_time": "2025-03-14T02:20:21.289370Z",
     "start_time": "2025-03-14T02:20:21.278926Z"
    }
   },
   "cell_type": "code",
   "source": [
    "def get_cost_circuit1(gamma, qc):\n",
    "    # H_1: sum_h 2^h z_h\n",
    "    for h in range(l):\n",
    "        qc.rz(-gamma * 2 ** h / 2, n * m + m * l + h)  # 单体项 -2^h/2 Z_h"
   ],
   "id": "a177ac766f2e3c4b",
   "outputs": [],
   "execution_count": 6
  },
  {
   "metadata": {},
   "cell_type": "markdown",
   "source": [
    "\\begin{align}\n",
    "H_2=K_1 n \\frac{(m-2)^2+m}{4} I-K_1 \\frac{m-2}{2} \\sum_{i=1}^n \\sum_{j=1}^m Z_{i j}+\\frac{K_1}{4} \\sum_{i=1}^n \\sum_{j \\neq j^{\\prime}} Z_{i j} Z_{i j^{\\prime}}\n",
    "\\end{align}"
   ],
   "id": "6d569514dfbbda71"
  },
  {
   "metadata": {
    "ExecuteTime": {
     "end_time": "2025-03-14T02:20:22.507013Z",
     "start_time": "2025-03-14T02:20:22.492959Z"
    }
   },
   "cell_type": "code",
   "source": [
    "import itertools\n",
    "\n",
    "\n",
    "def get_cost_circuit2(gamma, qc):\n",
    "    # H_2: K1 * sum_i (sum_j x_ij - 1)^2\n",
    "    for i in range(n):\n",
    "        # 单体项\n",
    "        for j in range(m):\n",
    "            qubit = i * m + j\n",
    "            qc.rz(-gamma * K1 * (m - 2) / 2, qubit)  # -K1 (m-2)/2 Z_ij\n",
    "        # 双体项\n",
    "        for j in range(m):\n",
    "            for jp in range(j + 1, m):\n",
    "                qubit1 = i * m + j\n",
    "                qubit2 = i * m + jp\n",
    "                append__zz_term(qc, qubit1, qubit2, gamma * K1 / 4)  # K1/4 Z_ij Z_ij'\n"
   ],
   "id": "67570f9028e40f9",
   "outputs": [],
   "execution_count": 7
  },
  {
   "metadata": {},
   "cell_type": "markdown",
   "source": "\\begin{align}K_2 \\sum_{j=1}^m \\left( \\sum_{i=1}^n x_{ij} p_{ij} + \\sum_{h=0}^{l-1} 2^h (\\tau_{jh} - z_h) \\right)^2\\end{align}",
   "id": "8923b57427f69dec"
  },
  {
   "metadata": {
    "ExecuteTime": {
     "end_time": "2025-03-14T02:20:29.087961Z",
     "start_time": "2025-03-14T02:20:29.062851Z"
    }
   },
   "cell_type": "code",
   "source": [
    "# import itertools\n",
    "from collections import Counter\n",
    "\n",
    "\n",
    "def get_cost_circuit3(gamma, qc):\n",
    "    # H_3: K2 * sum_j (sum_i x_ij p_ij + sum_h 2^h (tau_jh - z_h))^2\n",
    "    for j in range(m):\n",
    "        # 单体项系数\n",
    "        const = (sum(p_ij[i][j] for i in range(n)) - sum(2 ** h for h in range(l))) / 2\n",
    "        # sum_i p_ij Z_ij\n",
    "        for i in range(n):\n",
    "            qubit = i * m + j\n",
    "            qc.rz(-gamma * P * const * p_ij[i][j] / 2, qubit)\n",
    "        # sum_h 2^h Z_jh\n",
    "        for h in range(l):\n",
    "            qubit = n * m + j * l + h\n",
    "            qc.rz(-gamma * P * const * 2 ** h / 2, qubit)\n",
    "        # -sum_h 2^h Z_h\n",
    "        for h in range(l):\n",
    "            qubit = n * m + m * l + h\n",
    "            qc.rz(gamma * P * const * 2 ** h / 2, qubit)  # 注意正负号\n",
    "\n",
    "        # 双体项\n",
    "        # Z_ij Z_i'j\n",
    "        for i in range(n):\n",
    "            for ip in range(i + 1, n):\n",
    "                qubit1 = i * m + j\n",
    "                qubit2 = ip * m + j\n",
    "                append__zz_term(qc, qubit1, qubit2, gamma * P * p_ij[i][j] * p_ij[ip][j] / 4)\n",
    "        # Z_jh Z_jh'\n",
    "        for h in range(l):\n",
    "            for hp in range(h + 1, l):\n",
    "                qubit1 = n * m + j * l + h\n",
    "                qubit2 = n * m + j * l + hp\n",
    "                append__zz_term(qc, qubit1, qubit2, gamma * P * 2 ** (h + hp) / 4)\n",
    "        # Z_h Z_h'\n",
    "        for h in range(l):\n",
    "            for hp in range(h + 1, l):\n",
    "                qubit1 = n * m + m * l + h\n",
    "                qubit2 = n * m + m * l + hp\n",
    "                append__zz_term(qc, qubit1, qubit2, gamma * P * 2 ** (h + hp) / 4)\n",
    "        # 交叉项（示例：Z_ij Z_jh, Z_ij Z_h）\n",
    "        for i in range(n):\n",
    "            for h in range(l):\n",
    "                qc.rzz(gamma * P * p_ij[i][j] * 2 ** h / 4, i * m + j, n * m + j * l + h)  # Z_ij Z_jh\n",
    "                qc.rzz(-gamma * P * p_ij[i][j] * 2 ** h / 4, i * m + j, n * m + m * l + h)  # -Z_ij Z_h\n",
    "            for h in range(l):  # 修正部分\n",
    "                for hp in range(l):  # 遍历所有 h, h' 对\n",
    "                    if h != hp:  # 避免 h = h'\n",
    "                        qubit1 = n * m + j * l + h\n",
    "                        qubit2 = n * m + m * l + hp\n",
    "                        qc.rzz(-gamma * P * 2 ** (h + hp) / 4, qubit1, qubit2)  # -Z_jh Z_h\n",
    "\n",
    "\n"
   ],
   "id": "1036d966c797837b",
   "outputs": [],
   "execution_count": 8
  },
  {
   "metadata": {
    "ExecuteTime": {
     "end_time": "2025-03-14T02:20:29.699074Z",
     "start_time": "2025-03-14T02:20:29.679439Z"
    }
   },
   "cell_type": "code",
   "source": [
    "def get_mixer_circuit(beta, qc):\n",
    "    for i in range(num_qubits):\n",
    "        qc.rx(2 * beta, i)\n",
    "    return qc"
   ],
   "id": "45a838eedf24a21",
   "outputs": [],
   "execution_count": 9
  },
  {
   "metadata": {
    "ExecuteTime": {
     "end_time": "2025-03-14T02:20:30.339274Z",
     "start_time": "2025-03-14T02:20:30.321898Z"
    }
   },
   "cell_type": "code",
   "source": [
    "def get_mixer_circuit_xy(beta, qc):\n",
    "    for i in range(n):\n",
    "        for j1 in range(m):\n",
    "            for j2 in range(m):\n",
    "                if j1 < j2:\n",
    "                    qc.rxx(2 * beta, i * m + j1, i * m + j2)\n",
    "                    qc.ryy(2 * beta, i * m + j1, i * m + j2)"
   ],
   "id": "d12a987e2e2fe1ab",
   "outputs": [],
   "execution_count": 10
  },
  {
   "metadata": {
    "ExecuteTime": {
     "end_time": "2025-03-14T02:20:30.961202Z",
     "start_time": "2025-03-14T02:20:30.949679Z"
    }
   },
   "cell_type": "code",
   "source": [
    "# def invert_counts(s):\n",
    "#     return s[::-1]"
   ],
   "id": "b401b61cad096d4d",
   "outputs": [],
   "execution_count": 11
  },
  {
   "metadata": {
    "ExecuteTime": {
     "end_time": "2025-03-12T03:34:23.412849Z",
     "start_time": "2025-03-12T03:34:23.393952Z"
    }
   },
   "cell_type": "code",
   "source": [
    "from qiskit import Aer, QuantumCircuit, execute\n",
    "\n",
    "\n",
    "# 定义成本函数\n",
    "def cost_function(params):\n",
    "    beta, gamma = params[:len(params) // 2], params[len(params) // 2:]\n",
    "    # qc = QuantumCircuit(num_qubits, num_qubits)\n",
    "    # qc.h(range(num_qubits))\n",
    "    B = 1  # 限制1的个数\n",
    "    dicke_circuit = get_Dicke_state_init_circuit(n, m, B, l)\n",
    "    qc = QuantumCircuit(num_qubits, num_qubits)\n",
    "    qc.append(dicke_circuit, range(num_qubits))\n",
    "    # print(qc)\n",
    "    length = len(params)\n",
    "    for i in range(int(length / 2)):\n",
    "        get_cost_circuit1(gamma[i], qc)\n",
    "        # get_cost_circuit2(gamma[i], qc)\n",
    "        get_cost_circuit3(gamma[i], qc)\n",
    "        get_mixer_circuit(beta[i], qc)\n",
    "    # 模拟电路\n",
    "    # 添加测量指令\n",
    "    qc.measure(range(num_qubits), range(num_qubits))\n",
    "    backend = Aer.get_backend('qasm_simulator')\n",
    "    result = execute(qc, backend, seed_simulator=20, shots=10000).result()\n",
    "    counts = result.get_counts(qc)\n",
    "    # 计算期望值\n",
    "    energy = 0\n",
    "    for bitstring, count in counts.items():\n",
    "        prob = count / 10000\n",
    "        bitstring = bitstring[::-1]  # Qiskit 小端序，反转\n",
    "        x = [int(bitstring[i * m + j]) for i in range(n) for j in range(m)]\n",
    "        tau = [int(bitstring[n * m + j * l + h]) for j in range(m) for h in range(l)]\n",
    "        z = [int(bitstring[n * m + m * l + h]) for h in range(l)]\n",
    "\n",
    "        # 计算 f(x, z, tau)\n",
    "        c_max = sum(2 ** h * z[h] for h in range(l))\n",
    "        penalty1 = K1 * sum((sum(x[i * m + j] for j in range(m)) - 1) ** 2 for i in range(n))\n",
    "        penalty2 = P * sum((sum(x[i * m + j] * p_ij[i][j] for i in range(n)) +\n",
    "                            sum(2 ** h * (tau[j * l + h] - z[h]) for h in range(l))) ** 2 for j in range(m))\n",
    "        energy += (c_max + penalty1 + penalty2) * prob\n",
    "    return energy, counts"
   ],
   "id": "64263ef21c05e105",
   "outputs": [],
   "execution_count": 64
  },
  {
   "metadata": {
    "ExecuteTime": {
     "end_time": "2025-03-12T03:34:23.905092Z",
     "start_time": "2025-03-12T03:34:23.897181Z"
    }
   },
   "cell_type": "code",
   "source": [
    "# from qiskit_algorithms.optimizers import COBYLA\n",
    "#\n",
    "# # 优化 QAOA 参数\n",
    "# def optimize_qaoa(params):\n",
    "#     def objective(params):\n",
    "#         expectation, _ = cost_function(params)\n",
    "#\n",
    "#         return expectation\n",
    "#\n",
    "#     optimizer = COBYLA(rhobeg = 1.5, tol = 1e-8)\n",
    "#     # params = np.random.rand(2 * p_max) * 2 * np.pi\n",
    "#     result = optimizer.minimize(fun=objective, x0=params)\n",
    "#\n",
    "#     return result"
   ],
   "id": "e9c9c9bafc078303",
   "outputs": [],
   "execution_count": 65
  },
  {
   "metadata": {
    "ExecuteTime": {
     "end_time": "2025-03-12T03:34:24.351790Z",
     "start_time": "2025-03-12T03:34:24.345789Z"
    }
   },
   "cell_type": "code",
   "source": [
    "from scipy.optimize import minimize\n",
    "\n",
    "\n",
    "def optimize_qaoa(params):\n",
    "    def objective(params):\n",
    "        expectation, _ = cost_function(params)\n",
    "\n",
    "        return expectation\n",
    "\n",
    "    result = minimize(objective, params, method='Powell',\n",
    "                      options={'xtol': 1e-5, 'ftol': 1e-5, 'maxiter': 1000})\n",
    "    return result"
   ],
   "id": "9d5b7115dd4d48b2",
   "outputs": [],
   "execution_count": 66
  },
  {
   "metadata": {
    "ExecuteTime": {
     "end_time": "2025-03-12T03:34:24.817848Z",
     "start_time": "2025-03-12T03:34:24.801973Z"
    }
   },
   "cell_type": "code",
   "source": [
    "# 优化器配置\n",
    "optimizers = [\n",
    "    {\n",
    "        \"name\": \"Powell\",\n",
    "        \"func\": lambda: {\"method\": \"Powell\", \"options\": {\"xtol\": 1e-6, \"ftol\": 1e-6, \"maxiter\": 1000, \"disp\": True}}\n",
    "    }\n",
    "]"
   ],
   "id": "4d2d91b765956c49",
   "outputs": [],
   "execution_count": 67
  },
  {
   "metadata": {
    "ExecuteTime": {
     "end_time": "2025-03-12T03:34:25.322490Z",
     "start_time": "2025-03-12T03:34:25.312510Z"
    }
   },
   "cell_type": "code",
   "source": [
    "# 插值法初始化函数\n",
    "def interpolate_parameters(prev_params, p_old, p_new):\n",
    "    if p_old == 0:\n",
    "        return np.random.uniform(0, np.pi, p_new), np.random.uniform(0, 2 * np.pi, p_new)\n",
    "    prev_beta = prev_params[:p_old]\n",
    "    prev_gamma = prev_params[p_old:]\n",
    "    new_beta = np.zeros(p_new)\n",
    "    new_gamma = np.zeros(p_new)\n",
    "    for i in range(p_new):\n",
    "        t = i / (p_new - 1) if p_new > 1 else 0\n",
    "        new_beta[i] = (1 - t) * prev_beta[0] + t * prev_beta[-1]\n",
    "        new_gamma[i] = (1 - t) * prev_gamma[0] + t * prev_gamma[-1]\n",
    "    return np.concatenate([new_beta, new_gamma])"
   ],
   "id": "8cdf4e21860e82f4",
   "outputs": [],
   "execution_count": 68
  },
  {
   "metadata": {
    "ExecuteTime": {
     "end_time": "2025-03-12T07:15:56.767090Z",
     "start_time": "2025-03-12T07:07:29.821437Z"
    }
   },
   "cell_type": "code",
   "source": [
    "# 主程序\n",
    "import time\n",
    "import sys\n",
    "\n",
    "startTime = time.time()\n",
    "min_energy = float('inf')\n",
    "init_point = np.array([])\n",
    "counts = {}\n",
    "final_result = None\n",
    "\n",
    "for p1 in range(1, 2):\n",
    "    min_energy = sys.maxsize\n",
    "    for k in range(30):\n",
    "        print(f\"第 {p1} 层，第 {k} 个参数\")\n",
    "        init_point_temp = init_point\n",
    "        # print(f\"init_point_temp:{init_point_temp}\")\n",
    "        # beta_p = np.random.uniform(0, np.pi)\n",
    "        # gamma_p = np.random.uniform(0,  2 * np.pi)\n",
    "        # if k >0:\n",
    "        #     init_point_temp = np.delete(init_point_temp, 2 * p1 - 1)\n",
    "        #     init_point_temp = np.delete(init_point_temp, p1 - 1)\n",
    "        # init_point_temp = np.insert(init_point_temp, p1 - 1, beta_p)\n",
    "        # init_point_temp = np.insert(init_point_temp, 2 * p1 - 1, gamma_p)\n",
    "        if k == 0 and p1 == 1:\n",
    "            beta_p = np.random.uniform(0, np.pi)\n",
    "            gamma_p = np.random.uniform(0, 2 * np.pi)\n",
    "            init_point_temp = np.insert(init_point_temp, p1 - 1, beta_p)\n",
    "            init_point_temp = np.insert(init_point_temp, 2 * p1 - 1, gamma_p)\n",
    "\n",
    "            # init_point_temp = np.concatenate([np.random.uniform(0, np.pi, p1),\n",
    "            #                                  np.random.uniform(0, 2 * np.pi, p1)])\n",
    "        elif k == 0:\n",
    "            # 使用插值法从前一层生成新参数\n",
    "            init_point_temp = interpolate_parameters(init_point, p1 - 1, p1)\n",
    "        else:\n",
    "            # 随机调整当前层的参数\n",
    "            init_point_temp = init_point.copy()\n",
    "            beta_p = np.random.uniform(0, np.pi)\n",
    "            gamma_p = np.random.uniform(0, 2 * np.pi)\n",
    "            init_point_temp = np.delete(init_point_temp, 2 * p1 - 1)\n",
    "            init_point_temp = np.delete(init_point_temp, p1 - 1)\n",
    "            init_point_temp = np.insert(init_point_temp, p1 - 1, beta_p)\n",
    "            init_point_temp = np.insert(init_point_temp, 2 * p1 - 1, gamma_p)\n",
    "        # print()\n",
    "        result = optimize_qaoa(init_point_temp)\n",
    "        optimal_params = result.x\n",
    "        energy, counts_temp = cost_function(result.x)\n",
    "\n",
    "        if min_energy > energy:\n",
    "            min_energy = energy\n",
    "            init_point = optimal_params\n",
    "            counts = counts_temp\n",
    "            final_result = result\n",
    "            print(f\"New best energy: {min_energy}\")\n",
    "            print(f\"Optimal parameters: {init_point}\")\n",
    "\n",
    "endTime = time.time()"
   ],
   "id": "ffcc54bd1b854fb0",
   "outputs": [
    {
     "name": "stdout",
     "output_type": "stream",
     "text": [
      "第 1 层，第 0 个参数\n"
     ]
    },
    {
     "name": "stderr",
     "output_type": "stream",
     "text": [
      "E:\\Anaconda3\\anaconda\\envs\\FOOSP\\lib\\site-packages\\scipy\\optimize\\_optimize.py:3219: RuntimeWarning: overflow encountered in scalar multiply\n",
      "  t *= temp*temp\n",
      "E:\\Anaconda3\\anaconda\\envs\\FOOSP\\lib\\site-packages\\scipy\\optimize\\_optimize.py:3221: RuntimeWarning: overflow encountered in scalar multiply\n",
      "  t -= delta*temp*temp\n"
     ]
    },
    {
     "name": "stdout",
     "output_type": "stream",
     "text": [
      "New best energy: 16472801\n",
      "Optimal parameters: [0.2654064  2.92792128]\n",
      "第 1 层，第 1 个参数\n",
      "第 1 层，第 2 个参数\n",
      "New best energy: 16333788\n",
      "Optimal parameters: [3.43858066 5.09121291]\n",
      "第 1 层，第 3 个参数\n",
      "New best energy: 15175103\n",
      "Optimal parameters: [2.66313372 0.82467213]\n",
      "第 1 层，第 4 个参数\n",
      "第 1 层，第 5 个参数\n",
      "第 1 层，第 6 个参数\n",
      "第 1 层，第 7 个参数\n",
      "第 1 层，第 8 个参数\n",
      "第 1 层，第 9 个参数\n",
      "第 1 层，第 10 个参数\n",
      "第 1 层，第 11 个参数\n",
      "第 1 层，第 12 个参数\n",
      "第 1 层，第 13 个参数\n",
      "第 1 层，第 14 个参数\n",
      "第 1 层，第 15 个参数\n",
      "第 1 层，第 16 个参数\n",
      "第 1 层，第 17 个参数\n",
      "第 1 层，第 18 个参数\n",
      "第 1 层，第 19 个参数\n",
      "第 1 层，第 20 个参数\n",
      "第 1 层，第 21 个参数\n",
      "第 1 层，第 22 个参数\n",
      "第 1 层，第 23 个参数\n",
      "第 1 层，第 24 个参数\n",
      "第 1 层，第 25 个参数\n",
      "第 1 层，第 26 个参数\n",
      "第 1 层，第 27 个参数\n",
      "第 1 层，第 28 个参数\n",
      "第 1 层，第 29 个参数\n"
     ]
    }
   ],
   "execution_count": 77
  },
  {
   "metadata": {
    "ExecuteTime": {
     "end_time": "2025-03-13T01:59:00.136621Z",
     "start_time": "2025-03-13T01:59:00.052497Z"
    }
   },
   "cell_type": "code",
   "source": [
    "import warnings\n",
    "from qiskit.visualization import plot_histogram\n",
    "\n",
    "# 忽略弃用警告\n",
    "warnings.filterwarnings(\"ignore\", category=DeprecationWarning)\n",
    "# 输出结果\n",
    "print(\"优化时间：\", endTime - startTime)\n",
    "print(\"Optimal parameters:\", final_result.x)\n",
    "print(\"Optimal value:\", final_result.fun)\n",
    "# 使用最优参数运行量子电路并输出测量结果\n",
    "final_expectation, final_counts = cost_function(final_result.x)\n",
    "# print(final_counts)\n",
    "sorted_dict = {item[0]: item[1] for item in sorted(final_counts.items(), key=lambda item: item[1], reverse=True)}\n",
    "# 过滤掉计数小于 100 的结果\n",
    "filtered_dict = {key: value for key, value in sorted_dict.items() if value >= 100}\n",
    "print(\"Final expectation value:\", final_expectation)\n",
    "print(\"Final measurement counts:\", filtered_dict)\n",
    "# plot_histogram(filtered_dict)"
   ],
   "id": "4261bc08a9ed929f",
   "outputs": [
    {
     "name": "stdout",
     "output_type": "stream",
     "text": [
      "优化时间： 506.9285328388214\n",
      "Optimal parameters: [2.66313372 0.82467213]\n",
      "Optimal value: 15175103\n",
      "Final expectation value: 15175103\n",
      "Final measurement counts: {'1000010001': 205, '1001010010': 199, '1011010010': 197, '1010001010': 188, '1101001001': 188, '1100001001': 187, '1010010001': 186, '1110010001': 185, '1100001010': 180, '1010001001': 180, '1001010001': 179, '1011001010': 178, '1110001001': 177, '1101001010': 177, '1111001010': 175, '1110001010': 174, '1011001001': 173, '1111001001': 173, '1100010001': 173, '1110010010': 173, '1001001001': 172, '1101010010': 172, '1011010001': 171, '1111010010': 170, '1100010010': 168, '1000010010': 166, '1001001010': 166, '1000001010': 165, '1000001001': 161, '1111010001': 161, '1101010001': 160, '1010010010': 142}\n"
     ]
    }
   ],
   "execution_count": 96
  },
  {
   "metadata": {
    "ExecuteTime": {
     "end_time": "2025-03-12T07:04:59.723448Z",
     "start_time": "2025-03-12T07:04:59.705738Z"
    }
   },
   "cell_type": "code",
   "source": [
    "# 计算期望值\n",
    "energy = 0\n",
    "for bitstring, count in counts.items():\n",
    "    bitstring = bitstring[::-1]  # Qiskit 小端序，反转\n",
    "    prob = count / 10000\n",
    "    x = [int(bitstring[i * m + j]) for i in range(n) for j in range(m)]\n",
    "    tau = [int(bitstring[n * m + j * l + h]) for j in range(m) for h in range(l)]\n",
    "    z = [int(bitstring[n * m + m * l + h]) for h in range(l)]\n",
    "\n",
    "    # 计算 f(x, z, tau)\n",
    "    c_max = sum(2 ** h * z[h] for h in range(l))\n",
    "    penalty1 = sum((sum(x[i * m + j] for j in range(m)) - 1) ** 2 for i in range(n))\n",
    "    penalty2 = sum((sum(x[i * m + j] * p_ij[i][j] for i in range(n)) +\n",
    "                    sum(2 ** h * (tau[j * l + h] - z[h]) for h in range(l))) ** 2 for j in range(m))\n",
    "    energy += (c_max + penalty1 + penalty2) * prob\n",
    "print(energy)"
   ],
   "id": "3afd91f885895dcd",
   "outputs": [
    {
     "name": "stdout",
     "output_type": "stream",
     "text": [
      "22.468399999999995\n"
     ]
    }
   ],
   "execution_count": 75
  },
  {
   "metadata": {
    "ExecuteTime": {
     "end_time": "2025-03-10T07:18:09.407632Z",
     "start_time": "2025-03-10T07:18:09.399063Z"
    }
   },
   "cell_type": "code",
   "source": [
    "expectation = 0\n",
    "bitstring = \"001010\"\n",
    "x = [int(bitstring[i * m + j]) for i in range(n) for j in range(m)]\n",
    "tau = [int(bitstring[n * m + j * l + h]) for j in range(m) for h in range(l)]\n",
    "z = [int(bitstring[n * m + m * l + h]) for h in range(l)]\n",
    "\n",
    "# 计算 f(x, z, tau)\n",
    "c_max = sum(2 ** h * z[h] for h in range(l))\n",
    "penalty1 = sum((sum(x[i * m + j] for j in range(m)) - 1) ** 2 for i in range(n))\n",
    "penalty2 = sum((sum(x[i * m + j] * p_ij[i][j] for i in range(n)) +\n",
    "                sum(2 ** h * (tau[j * l + h] - z[h]) for h in range(l))) ** 2 for j in range(m))\n",
    "\n",
    "E = c_max + penalty1 + penalty2\n",
    "print(c_max)\n",
    "print(penalty1)\n",
    "print(penalty2)\n",
    "# print(e1)\n",
    "# print(e2)"
   ],
   "id": "17d987eaf3be8f0f",
   "outputs": [
    {
     "name": "stdout",
     "output_type": "stream",
     "text": [
      "[[0 0]\n",
      " [0 1]\n",
      " [1 0]]\n",
      "[1]\n",
      "M_i:  0\n",
      "M_i:  1\n",
      "M_i:  2\n",
      "1\n",
      "0\n",
      "0\n"
     ]
    }
   ],
   "execution_count": 318
  },
  {
   "metadata": {
    "ExecuteTime": {
     "end_time": "2024-10-30T14:24:31.456293Z",
     "start_time": "2024-10-30T14:24:31.444392Z"
    }
   },
   "cell_type": "code",
   "source": "",
   "id": "4888b1d2b1ed7be9",
   "outputs": [],
   "execution_count": null
  }
 ],
 "metadata": {
  "kernelspec": {
   "display_name": "Python 3",
   "language": "python",
   "name": "python3"
  },
  "language_info": {
   "codemirror_mode": {
    "name": "ipython",
    "version": 2
   },
   "file_extension": ".py",
   "mimetype": "text/x-python",
   "name": "python",
   "nbconvert_exporter": "python",
   "pygments_lexer": "ipython2",
   "version": "2.7.6"
  }
 },
 "nbformat": 4,
 "nbformat_minor": 5
}
