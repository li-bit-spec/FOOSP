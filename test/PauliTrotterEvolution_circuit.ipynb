{
 "cells": [
  {
   "cell_type": "code",
   "id": "initial_id",
   "metadata": {
    "collapsed": true,
    "ExecuteTime": {
     "end_time": "2024-12-16T09:56:17.578798Z",
     "start_time": "2024-12-16T09:56:16.534223Z"
    }
   },
   "source": [
    "# Let's import all functions\n",
    "import numpy as np\n",
    "import scipy as sp\n",
    "from qiskit import Aer\n",
    "from qiskit.opflow import PauliTrotterEvolution, StateFn, PauliExpectation\n",
    "from qiskit.opflow import CircuitSampler, PauliOp\n",
    "from qiskit.opflow import I, X, Y, Z, Zero, One, Plus, Minus\n",
    "from qiskit.circuit import Parameter\n",
    "import warnings\n",
    "\n",
    "# 忽略弃用警告\n",
    "warnings.filterwarnings(\"ignore\", category=DeprecationWarning)"
   ],
   "outputs": [
    {
     "name": "stderr",
     "output_type": "stream",
     "text": [
      "C:\\Users\\李华宪\\AppData\\Local\\Temp\\ipykernel_15576\\4067126131.py:5: DeprecationWarning: The ``qiskit.opflow`` module is deprecated as of qiskit-terra 0.24.0. It will be removed in Qiskit 1.0. For code migration guidelines, visit https://qisk.it/opflow_migration.\n",
      "  from qiskit.opflow import PauliTrotterEvolution, StateFn, PauliExpectation\n"
     ]
    }
   ],
   "execution_count": 1
  },
  {
   "metadata": {
    "ExecuteTime": {
     "end_time": "2024-12-16T09:56:23.699130Z",
     "start_time": "2024-12-16T09:56:23.683712Z"
    }
   },
   "cell_type": "code",
   "source": "hamiltonian = (Z ^ Z)",
   "id": "ce8841c603fa4a39",
   "outputs": [],
   "execution_count": 2
  },
  {
   "metadata": {
    "ExecuteTime": {
     "end_time": "2024-12-16T09:56:24.464694Z",
     "start_time": "2024-12-16T09:56:24.451372Z"
    }
   },
   "cell_type": "code",
   "source": [
    "evo_time = Parameter('t')\n",
    "evolution_op = (evo_time * hamiltonian).exp_i()\n",
    "print(evolution_op)"
   ],
   "id": "e47bf6ab05cdd1a9",
   "outputs": [
    {
     "name": "stdout",
     "output_type": "stream",
     "text": [
      "e^(-i*1.0*t * ZZ)\n"
     ]
    }
   ],
   "execution_count": 3
  },
  {
   "metadata": {
    "ExecuteTime": {
     "end_time": "2024-12-16T09:56:25.695367Z",
     "start_time": "2024-12-16T09:56:25.638829Z"
    }
   },
   "cell_type": "code",
   "source": [
    "num_time_slices = 1\n",
    "trotterized_op = PauliTrotterEvolution(\n",
    "    trotter_mode='trotter',\n",
    "    reps=num_time_slices).convert(evolution_op)\n",
    "trotterized_op.to_circuit().draw()"
   ],
   "id": "367fc4f2d06aff5",
   "outputs": [
    {
     "data": {
      "text/plain": [
       "     ┌─────────────────────┐\n",
       "q_0: ┤0                    ├\n",
       "     │  exp(-it ZZ)(1.0*t) │\n",
       "q_1: ┤1                    ├\n",
       "     └─────────────────────┘"
      ],
      "text/html": [
       "<pre style=\"word-wrap: normal;white-space: pre;background: #fff0;line-height: 1.1;font-family: &quot;Courier New&quot;,Courier,monospace\">     ┌─────────────────────┐\n",
       "q_0: ┤0                    ├\n",
       "     │  exp(-it ZZ)(1.0*t) │\n",
       "q_1: ┤1                    ├\n",
       "     └─────────────────────┘</pre>"
      ]
     },
     "execution_count": 4,
     "metadata": {},
     "output_type": "execute_result"
    }
   ],
   "execution_count": 4
  },
  {
   "metadata": {
    "ExecuteTime": {
     "end_time": "2024-12-16T09:56:26.735122Z",
     "start_time": "2024-12-16T09:56:26.721713Z"
    }
   },
   "cell_type": "code",
   "source": [
    "hamiltonian = (X ^ X)\n",
    "evo_time = Parameter('t')\n",
    "evolution_op = (evo_time * hamiltonian).exp_i()\n",
    "num_time_slices = 1\n",
    "trotterized_op = PauliTrotterEvolution(\n",
    "    trotter_mode='trotter',\n",
    "    reps=num_time_slices).convert(evolution_op)\n",
    "trotterized_op.to_circuit().draw()"
   ],
   "id": "76308e9854110855",
   "outputs": [
    {
     "data": {
      "text/plain": [
       "     ┌─────────────────────┐\n",
       "q_0: ┤0                    ├\n",
       "     │  exp(-it XX)(1.0*t) │\n",
       "q_1: ┤1                    ├\n",
       "     └─────────────────────┘"
      ],
      "text/html": [
       "<pre style=\"word-wrap: normal;white-space: pre;background: #fff0;line-height: 1.1;font-family: &quot;Courier New&quot;,Courier,monospace\">     ┌─────────────────────┐\n",
       "q_0: ┤0                    ├\n",
       "     │  exp(-it XX)(1.0*t) │\n",
       "q_1: ┤1                    ├\n",
       "     └─────────────────────┘</pre>"
      ]
     },
     "execution_count": 5,
     "metadata": {},
     "output_type": "execute_result"
    }
   ],
   "execution_count": 5
  },
  {
   "metadata": {
    "ExecuteTime": {
     "end_time": "2024-12-16T09:56:27.377954Z",
     "start_time": "2024-12-16T09:56:27.362498Z"
    }
   },
   "cell_type": "code",
   "source": [
    "hamiltonian = (Y ^ Y)\n",
    "evo_time = Parameter('t')\n",
    "evolution_op = (evo_time * hamiltonian).exp_i()\n",
    "num_time_slices = 1\n",
    "trotterized_op = PauliTrotterEvolution(\n",
    "    trotter_mode='trotter',\n",
    "    reps=num_time_slices).convert(evolution_op)\n",
    "trotterized_op.to_circuit().draw()"
   ],
   "id": "11b705e191d39d43",
   "outputs": [
    {
     "data": {
      "text/plain": [
       "     ┌─────────────────────┐\n",
       "q_0: ┤0                    ├\n",
       "     │  exp(-it YY)(1.0*t) │\n",
       "q_1: ┤1                    ├\n",
       "     └─────────────────────┘"
      ],
      "text/html": [
       "<pre style=\"word-wrap: normal;white-space: pre;background: #fff0;line-height: 1.1;font-family: &quot;Courier New&quot;,Courier,monospace\">     ┌─────────────────────┐\n",
       "q_0: ┤0                    ├\n",
       "     │  exp(-it YY)(1.0*t) │\n",
       "q_1: ┤1                    ├\n",
       "     └─────────────────────┘</pre>"
      ]
     },
     "execution_count": 6,
     "metadata": {},
     "output_type": "execute_result"
    }
   ],
   "execution_count": 6
  },
  {
   "metadata": {
    "ExecuteTime": {
     "end_time": "2024-12-16T09:56:27.918977Z",
     "start_time": "2024-12-16T09:56:27.906972Z"
    }
   },
   "cell_type": "code",
   "source": [
    "hamiltonian = (Z ^ Z ^ Z ^ Z)\n",
    "evo_time = Parameter('t')\n",
    "evolution_op = (evo_time * hamiltonian).exp_i()\n",
    "num_time_slices = 1\n",
    "trotterized_op = PauliTrotterEvolution(\n",
    "    trotter_mode='trotter',\n",
    "    reps=num_time_slices).convert(evolution_op)\n",
    "trotterized_op.to_circuit().draw()"
   ],
   "id": "60c492311fddb23d",
   "outputs": [
    {
     "data": {
      "text/plain": [
       "     ┌───────────────────────┐\n",
       "q_0: ┤0                      ├\n",
       "     │                       │\n",
       "q_1: ┤1                      ├\n",
       "     │  exp(-it ZZZZ)(1.0*t) │\n",
       "q_2: ┤2                      ├\n",
       "     │                       │\n",
       "q_3: ┤3                      ├\n",
       "     └───────────────────────┘"
      ],
      "text/html": [
       "<pre style=\"word-wrap: normal;white-space: pre;background: #fff0;line-height: 1.1;font-family: &quot;Courier New&quot;,Courier,monospace\">     ┌───────────────────────┐\n",
       "q_0: ┤0                      ├\n",
       "     │                       │\n",
       "q_1: ┤1                      ├\n",
       "     │  exp(-it ZZZZ)(1.0*t) │\n",
       "q_2: ┤2                      ├\n",
       "     │                       │\n",
       "q_3: ┤3                      ├\n",
       "     └───────────────────────┘</pre>"
      ]
     },
     "execution_count": 7,
     "metadata": {},
     "output_type": "execute_result"
    }
   ],
   "execution_count": 7
  },
  {
   "metadata": {
    "ExecuteTime": {
     "end_time": "2024-12-16T09:56:29.130449Z",
     "start_time": "2024-12-16T09:56:29.107065Z"
    }
   },
   "cell_type": "code",
   "source": [
    "hamiltonian = (Z ^ Z) + (X ^ X)\n",
    "observable = (X ^ X)\n",
    "evo_time = Parameter('t')\n",
    "evolution_op = (evo_time * hamiltonian).exp_i()"
   ],
   "id": "6187081274f16886",
   "outputs": [],
   "execution_count": 8
  },
  {
   "metadata": {
    "ExecuteTime": {
     "end_time": "2024-12-16T09:56:29.810373Z",
     "start_time": "2024-12-16T09:56:29.798193Z"
    }
   },
   "cell_type": "code",
   "source": "observable_measurement = StateFn(observable).adjoint()",
   "id": "1bd09966bbe28a51",
   "outputs": [],
   "execution_count": 9
  },
  {
   "metadata": {
    "ExecuteTime": {
     "end_time": "2024-12-16T09:56:30.584316Z",
     "start_time": "2024-12-16T09:56:30.573301Z"
    }
   },
   "cell_type": "code",
   "source": [
    "eigenvalues, eigenstates = np.linalg.eigh(hamiltonian.to_matrix())\n",
    "initial_state = StateFn(eigenstates[0])\n",
    "print(initial_state.to_circuit_op())"
   ],
   "id": "c3f361022580e3ea",
   "outputs": [
    {
     "name": "stdout",
     "output_type": "stream",
     "text": [
      "CircuitStateFn(\n",
      "     ┌───────────────────────────────────────────┐\n",
      "q_0: ┤0                                          ├\n",
      "     │  State Preparation(0,-0.70711,0,-0.70711) │\n",
      "q_1: ┤1                                          ├\n",
      "     └───────────────────────────────────────────┘\n",
      ") * 0.9999999999999999\n"
     ]
    }
   ],
   "execution_count": 10
  },
  {
   "metadata": {
    "ExecuteTime": {
     "end_time": "2024-12-16T09:56:31.350954Z",
     "start_time": "2024-12-16T09:56:31.335627Z"
    }
   },
   "cell_type": "code",
   "source": [
    "evo_and_measure = observable_measurement @ evolution_op @ initial_state\n",
    "print(evo_and_measure)"
   ],
   "id": "a62ea734a766aebf",
   "outputs": [
    {
     "name": "stdout",
     "output_type": "stream",
     "text": [
      "ComposedOp([\n",
      "  OperatorMeasurement(XX),\n",
      "  e^(-i*1.0*t * (\n",
      "    1.0 * ZZ\n",
      "    + 1.0 * XX\n",
      "  )),\n",
      "  VectorStateFn(Statevector([ 0.        +0.j, -0.70710678-0.j,  0.        +0.j,\n",
      "               -0.70710678+0.j],\n",
      "              dims=(2, 2)))\n",
      "])\n"
     ]
    }
   ],
   "execution_count": 11
  },
  {
   "metadata": {
    "ExecuteTime": {
     "end_time": "2024-12-16T09:56:32.183276Z",
     "start_time": "2024-12-16T09:56:32.168234Z"
    }
   },
   "cell_type": "code",
   "source": [
    "num_time_slices = 1\n",
    "trotterized_op = PauliTrotterEvolution(\n",
    "    trotter_mode='trotter',\n",
    "    reps=num_time_slices).convert(evo_and_measure)\n",
    "print(trotterized_op)"
   ],
   "id": "b8d1c3708614afbd",
   "outputs": [
    {
     "name": "stdout",
     "output_type": "stream",
     "text": [
      "ComposedOp([\n",
      "  OperatorMeasurement(XX),\n",
      "       ┌────────────────────────────┐\n",
      "  q_0: ┤0                           ├\n",
      "       │  exp(-it (ZZ + XX))(1.0*t) │\n",
      "  q_1: ┤1                           ├\n",
      "       └────────────────────────────┘,\n",
      "  VectorStateFn(Statevector([ 0.        +0.j, -0.70710678-0.j,  0.        +0.j,\n",
      "               -0.70710678+0.j],\n",
      "              dims=(2, 2)))\n",
      "])\n"
     ]
    }
   ],
   "execution_count": 12
  },
  {
   "metadata": {
    "ExecuteTime": {
     "end_time": "2024-12-16T09:56:32.856557Z",
     "start_time": "2024-12-16T09:56:32.810600Z"
    }
   },
   "cell_type": "code",
   "source": [
    "# Let's calculate expectation values\n",
    "diagonalized_meas_op = PauliExpectation().convert(trotterized_op)\n",
    "print(diagonalized_meas_op)"
   ],
   "id": "4a7f5b19de65ad77",
   "outputs": [
    {
     "name": "stdout",
     "output_type": "stream",
     "text": [
      "ComposedOp([\n",
      "  OperatorMeasurement(ZZ),\n",
      "       ┌────────────────────────────┐┌───┐\n",
      "  q_0: ┤0                           ├┤ H ├\n",
      "       │  exp(-it (ZZ + XX))(1.0*t) │├───┤\n",
      "  q_1: ┤1                           ├┤ H ├\n",
      "       └────────────────────────────┘└───┘,\n",
      "  VectorStateFn(Statevector([ 0.        +0.j, -0.70710678-0.j,  0.        +0.j,\n",
      "               -0.70710678+0.j],\n",
      "              dims=(2, 2)))\n",
      "])\n"
     ]
    }
   ],
   "execution_count": 13
  },
  {
   "metadata": {
    "ExecuteTime": {
     "end_time": "2024-12-16T09:56:33.835065Z",
     "start_time": "2024-12-16T09:56:33.819937Z"
    }
   },
   "cell_type": "code",
   "source": [
    "evo_time_points = [0.5, 0.75]\n",
    "hamiltonian_trotter_expectations = diagonalized_meas_op.bind_parameters({evo_time: evo_time_points})\n",
    "print(f\"Observable at time {evo_time_points}: {np.round(hamiltonian_trotter_expectations.eval(), 3)}\")"
   ],
   "id": "785ce3d33e736e65",
   "outputs": [
    {
     "name": "stdout",
     "output_type": "stream",
     "text": [
      "Observable at time [0.5, 0.75]: [0.+0.j 0.+0.j]\n"
     ]
    }
   ],
   "execution_count": 14
  },
  {
   "metadata": {
    "ExecuteTime": {
     "end_time": "2024-12-16T09:56:34.836473Z",
     "start_time": "2024-12-16T09:56:34.554040Z"
    }
   },
   "cell_type": "code",
   "source": [
    "sampler = CircuitSampler(backend=Aer.get_backend(\"qasm_simulator\"))\n",
    "# sampler.quantum_instance.run_config.shots = 1000\n",
    "sampled_trotter_exp_op = sampler.convert(hamiltonian_trotter_expectations)\n",
    "sampled_trotter_energies = sampled_trotter_exp_op.eval()\n",
    "print(f\"Energies: {np.round(np.real(sampled_trotter_energies), 3)}\")"
   ],
   "id": "697e1c0a8d43c3c2",
   "outputs": [
    {
     "name": "stdout",
     "output_type": "stream",
     "text": [
      "Energies: [0.035 0.037]\n"
     ]
    }
   ],
   "execution_count": 15
  },
  {
   "metadata": {
    "ExecuteTime": {
     "end_time": "2024-12-16T09:57:18.850002Z",
     "start_time": "2024-12-16T09:57:18.024433Z"
    }
   },
   "cell_type": "code",
   "source": [
    "import matplotlib.pyplot as plt\n",
    "\n",
    "\n",
    "def run_hs(shots):\n",
    "    sampler = CircuitSampler(backend=Aer.get_backend(\"qasm_simulator\"))\n",
    "    sampler.quantum_instance.run_config.shots = shots\n",
    "    hamiltonian_trotter_expectations = diagonalized_meas_op.bind_parameters({evo_time: 0.5})\n",
    "    sampled_trotter_exp_op = sampler.convert(hamiltonian_trotter_expectations)\n",
    "    sampled_trotter_energies = sampled_trotter_exp_op.eval()\n",
    "    return np.real(sampled_trotter_energies)\n",
    "\n",
    "\n",
    "n_shots = [100, 1000, 2000, 5000, 7000, 10000]\n",
    "exp = []\n",
    "for shots in n_shots:\n",
    "    exp.append(run_hs(shots))\n",
    "\n",
    "plt.plot(n_shots, exp, 'o', label=f\"t={0.5}\")\n",
    "plt.hlines(y=0., xmin=min(n_shots), xmax=max(n_shots) + 1, colors='red')\n",
    "plt.xlabel(\"# shots\", size=16)\n",
    "plt.ylabel(r\"$ \\langle O \\rangle $\", size=16)\n",
    "plt.show()"
   ],
   "id": "5ba0b8d65c9d2fd2",
   "outputs": [
    {
     "data": {
      "text/plain": [
       "<Figure size 640x480 with 1 Axes>"
      ],
      "image/png": "[encoded data removed]"
     },
     "metadata": {},
     "output_type": "display_data"
    }
   ],
   "execution_count": 16
  }
 ],
 "metadata": {
  "kernelspec": {
   "display_name": "Python 3",
   "language": "python",
   "name": "python3"
  },
  "language_info": {
   "codemirror_mode": {
    "name": "ipython",
    "version": 2
   },
   "file_extension": ".py",
   "mimetype": "text/x-python",
   "name": "python",
   "nbconvert_exporter": "python",
   "pygments_lexer": "ipython2",
   "version": "2.7.6"
  }
 },
 "nbformat": 4,
 "nbformat_minor": 5
}
