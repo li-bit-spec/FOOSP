{
 "cells": [
  {
   "cell_type": "code",
   "id": "initial_id",
   "metadata": {
    "collapsed": true,
    "ExecuteTime": {
     "end_time": "2024-10-16T02:28:44.693648Z",
     "start_time": "2024-10-16T02:28:44.554118Z"
    }
   },
   "source": [
    "# from qiskit.opflow import I, Z, X, Y, SparsePauliOp\n",
    "import numpy as np\n",
    "# from juices import Juices\n",
    "# 假设有 3 台机器和 3 个操作\n",
    "m = 3 # 机器数量\n",
    "N = 2 # 表示机器的二进制 (0, 1)\n",
    "n = 2 # 操作数量\n",
    "l = 1  # 用于表示 C_max 的二进制位数\n",
    "\n",
    "# 处理时间矩阵 (例如)\n",
    "p = np.array([[1, 2, 3],[3, 1, 2]])\n",
    "\n",
    "# 非法数组(用于表示机器数)(1, 1)\n",
    "b = np.array([1, 1])\n",
    "\n",
    "# 常数\n",
    "K1 = 10\n",
    "P = 5\n",
    "\n",
    "# 量子比特数量\n",
    "num_qubits = n * N + l"
   ],
   "outputs": [],
   "execution_count": 1
  },
  {
   "metadata": {
    "ExecuteTime": {
     "end_time": "2024-10-16T02:56:20.012657Z",
     "start_time": "2024-10-16T02:56:19.999041Z"
    }
   },
   "cell_type": "code",
   "source": [
    "def append__zz_term( qc, qubit1, qubit2, gamma):\n",
    "    qc.cx(qubit1, qubit2)\n",
    "    qc.rz(gamma, qubit2)\n",
    "    qc.cx(qubit1, qubit2)\n",
    "\n",
    "def append__z_term(qc, qubit, gamma):\n",
    "    qc.rz(gamma, qubit)\n",
    "def append__mixer_term(qc, qubit, beta):\n",
    "    qc.rx(2 * beta, qubit)"
   ],
   "id": "78cd574ca18acceb",
   "outputs": [],
   "execution_count": 3
  },
  {
   "metadata": {
    "ExecuteTime": {
     "end_time": "2024-10-16T02:56:18.408282Z",
     "start_time": "2024-10-16T02:56:18.395876Z"
    }
   },
   "cell_type": "code",
   "source": [
    "def get_cost_circuit1(gamma, n, m, l, K1, P, p, qc):\n",
    "    # beta, gamma = params[:len(params)//2], params[len(params)//2:]\n",
    "    for h in range(l):\n",
    "        # print(m * n + h)\n",
    "        coef = - 2**h\n",
    "        append__z_term(qc, m * n + h, coef * gamma)\n",
    "    return qc"
   ],
   "id": "a177ac766f2e3c4b",
   "outputs": [],
   "execution_count": 2
  },
  {
   "metadata": {},
   "cell_type": "code",
   "outputs": [],
   "execution_count": null,
   "source": [
    "def get_cost_circuit2(gamma, n, m, l, K1, P, p, qc):\n",
    "    # beta, gamma = params[:len(params)//2], params[len(params)//2:]\n",
    "    for i in range(n):\n",
    "        for j in range(m):\n",
    "            append__z_term(qc, i * m + j, (2 - m) * K1*gamma)\n",
    "    # for i in range(n):\n",
    "        for j1 in range(m):\n",
    "            for j2 in range(m):\n",
    "                if j1 != j2:\n",
    "                    append__zz_term(qc, i * m + j1, i * m + j2, K1*gamma)\n",
    "    return qc"
   ],
   "id": "67570f9028e40f9"
  },
  {
   "metadata": {},
   "cell_type": "code",
   "outputs": [],
   "execution_count": null,
   "source": [
    "def get_cost_circuit3(gamma, n, m, l, K1, P, p, qc):\n",
    "    # beta, gamma = params[:len(params)//2], params[len(params)//2:]\n",
    "    for j in range(m):\n",
    "        for i in range(n):\n",
    "            coef = -1/2 * (np.sum(p[:, j]) - ( 2 ** l-1)) * P\n",
    "            append__z_term(qc, i * m + j, 2 * coef * p[i,j] * gamma)\n",
    "        for h in range(l):\n",
    "            coef = -1/2 * (np.sum(p[:, j]) - ( 2 ** l-1)) * P\n",
    "            append__z_term(qc, m * n + h, -2 * (2 ** h) * coef * gamma)\n",
    "        for i1 in range(n):\n",
    "            for i2 in range(n):\n",
    "                if i1 != i2:\n",
    "                    coef = p[i1, j] * p[i2, j] * P\n",
    "                    append__zz_term(qc, i1 * m + j, i2 * m + j, coef * gamma)\n",
    "        for i in range(n):\n",
    "            for h in range(l):\n",
    "                coef = -1 * p[i,j] * 2 ** h * P\n",
    "                append__zz_term(qc, i * m + j, m * n + h, coef * gamma)\n",
    "        for h1 in range(l):\n",
    "            for h2 in range(l):\n",
    "                if h1 != h2:\n",
    "                    coef = 2 ** h1 * 2 ** h2 * P\n",
    "                    append__zz_term(qc, m * n + h1, m * n + h2, coef * gamma)\n",
    "    return qc"
   ],
   "id": "1d0417adcbdc0bad"
  }
 ],
 "metadata": {
  "kernelspec": {
   "display_name": "Python 3",
   "language": "python",
   "name": "python3"
  },
  "language_info": {
   "codemirror_mode": {
    "name": "ipython",
    "version": 2
   },
   "file_extension": ".py",
   "mimetype": "text/x-python",
   "name": "python",
   "nbconvert_exporter": "python",
   "pygments_lexer": "ipython2",
   "version": "2.7.6"
  }
 },
 "nbformat": 4,
 "nbformat_minor": 5
}
