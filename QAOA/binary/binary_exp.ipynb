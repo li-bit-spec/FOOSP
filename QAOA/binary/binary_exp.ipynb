{
 "cells": [
  {
   "cell_type": "code",
   "id": "initial_id",
   "metadata": {
    "collapsed": true,
    "ExecuteTime": {
     "end_time": "2024-10-23T08:38:13.675998Z",
     "start_time": "2024-10-23T08:38:13.657577Z"
    }
   },
   "source": [
    "# from qiskit.opflow import I, Z, X, Y, SparsePauliOp\n",
    "import numpy as np\n",
    "# from juices import Juices\n",
    "# 假设有 3 台机器和 3 个操作\n",
    "m = 3 # 机器数量\n",
    "N = 2 # 表示机器的二进制 (0, 1)\n",
    "n = 2 # 操作数量\n",
    "l = 1  # 用于表示 C_max 的二进制位数\n",
    "\n",
    "# 处理时间矩阵 (例如)\n",
    "p = np.array([[1, 2, 3, 100],[3, 1, 2, 100]])\n",
    "\n",
    "# 非法数组(用于表示机器数)(1, 1)\n",
    "b = np.array([[0, 0],[1, 0] ,[0, 1], [1, 1]])\n",
    "bw = np.array([[1, 1]])\n",
    "# 常数\n",
    "K1 = 10\n",
    "P = 5\n",
    "\n",
    "# 量子比特数量\n",
    "num_qubits = n * N + l"
   ],
   "outputs": [],
   "execution_count": 25
  },
  {
   "metadata": {
    "ExecuteTime": {
     "end_time": "2024-10-23T08:38:14.236867Z",
     "start_time": "2024-10-23T08:38:14.225872Z"
    }
   },
   "cell_type": "code",
   "source": [
    "from qiskit import QuantumCircuit\n",
    "\n",
    "def append_multi_rzz_term(qc, qubits, gamma, N):\n",
    "    \"\"\"\n",
    "    构建一个类RZZ门，n-1个控制位，1个目标位，进行旋转操作。\n",
    "    \n",
    "    参数:\n",
    "    qc: QuantumCircuit 对象\n",
    "    control_qubits: List[int]，控制量子比特的索引\n",
    "    target_qubit: int，目标量子比特的索引\n",
    "    gamma: float，RZ 旋转的角度\n",
    "    \"\"\"\n",
    "    control_qubits = qubits[:N-1]\n",
    "    # print(control_qubits)\n",
    "    target_qubit = qubits[N-1:]\n",
    "    # print(target_qubit)\n",
    "    n_controls = len(control_qubits)\n",
    "    if n_controls == 1:\n",
    "        qc.cx(control_qubits[0],target_qubit[0])\n",
    "    else:\n",
    "        # ancilla_qubit = n_controls - 2\n",
    "        qc.mcx(control_qubits, target_qubit[0])\n",
    "    qc.rz(gamma, target_qubit[0])\n",
    "    if n_controls == 1:\n",
    "        qc.cx(control_qubits[0], target_qubit[0])\n",
    "    else:\n",
    "        qc.mcx(control_qubits, target_qubit[0])\n",
    "\n",
    "# # 示例使用\n",
    "# n = 4  # 例如4个量子比特，其中3个为控制，1个为目标\n",
    "# qc = QuantumCircuit(n)\n",
    "# control_qubits = [0, 1, 2]  # 第0、1、2个为控制位\n",
    "# target_qubit = 3            # 第3个为目标位\n",
    "# gamma = 0.5                 # 旋转角度\n",
    "# \n",
    "# append_multi_rzz_term(qc, control_qubits, target_qubit, gamma)\n",
    "# \n",
    "# # 输出电路\n",
    "# qc.draw('mpl')"
   ],
   "id": "744d1188245ca22d",
   "outputs": [],
   "execution_count": 26
  },
  {
   "metadata": {
    "ExecuteTime": {
     "end_time": "2024-10-23T08:38:14.563770Z",
     "start_time": "2024-10-23T08:38:14.546163Z"
    }
   },
   "cell_type": "code",
   "source": [
    "def append__zz_term( qc, qubit1, qubit2, gamma):\n",
    "    qc.cx(qubit1, qubit2)\n",
    "    qc.rz(gamma, qubit2)\n",
    "    qc.cx(qubit1, qubit2)\n",
    "\n",
    "def append__z_term(qc, qubit, gamma):\n",
    "    qc.rz(gamma, qubit)\n",
    "def append__mixer_term(qc, qubit, beta):\n",
    "    qc.rx(2 * beta, qubit)"
   ],
   "id": "78cd574ca18acceb",
   "outputs": [],
   "execution_count": 27
  },
  {
   "metadata": {
    "ExecuteTime": {
     "end_time": "2024-10-23T08:38:14.828701Z",
     "start_time": "2024-10-23T08:38:14.815648Z"
    }
   },
   "cell_type": "code",
   "source": [
    "def get_cost_circuit1(gamma, n, N, l, K1, P, p, qc, bw):\n",
    "    for h in range(l):\n",
    "        coef = - 2**h\n",
    "        append__z_term(qc, N * n + h, coef * gamma)\n",
    "    return qc"
   ],
   "id": "a177ac766f2e3c4b",
   "outputs": [],
   "execution_count": 28
  },
  {
   "metadata": {
    "ExecuteTime": {
     "end_time": "2024-10-23T08:38:15.014479Z",
     "start_time": "2024-10-23T08:38:14.998320Z"
    }
   },
   "cell_type": "code",
   "source": [
    "def get_cost_circuit2(gamma, n, N, l, K1, P, p, qc, bw):\n",
    "    for j in range(len(bw)):\n",
    "        for i in range (n):\n",
    "            constant = 1\n",
    "            qubits_index = np.array([], dtype=int)\n",
    "            for k in range (N):\n",
    "                constant = constant*(1/2*(1+(1-2*bw[j,k])))\n",
    "                qubits_index = np.append(qubits_index, i * N + k)\n",
    "            append_multi_rzz_term(qc, qubits_index, 2 * K1 * constant * gamma, N)\n",
    "                \n",
    "    return qc"
   ],
   "id": "67570f9028e40f9",
   "outputs": [],
   "execution_count": 29
  },
  {
   "metadata": {
    "ExecuteTime": {
     "end_time": "2024-10-23T08:38:15.200810Z",
     "start_time": "2024-10-23T08:38:15.185494Z"
    }
   },
   "cell_type": "code",
   "source": [
    "def get_cost_circuit3(gamma, n, N, l, K1, P, p, qc, b):\n",
    "    for j in range(len(b)):\n",
    "        for i1 in range (n):\n",
    "            for i2 in range(n): \n",
    "                if i1 != i2:\n",
    "                    constant1 = p[i1, j] * p[i2, j]\n",
    "                    constant2 = 1\n",
    "                    qubits_index = np.array([], dtype=int)\n",
    "                    for k in range (N):\n",
    "                        constant2 = constant2* (1/2*(1+(1-2*b[j,k])))**2\n",
    "                        qubits_index = np.append(qubits_index, i1 * N + k)\n",
    "                        qubits_index = np.append(qubits_index, i2 * N + k)\n",
    "                    constant = constant1*constant2\n",
    "                    append_multi_rzz_term(qc, qubits_index, 2 * P * constant * gamma, N)\n",
    "        for i in range(n):\n",
    "            constant1 = - (2**l-1) * p[i, j]\n",
    "            constant2 = 1\n",
    "            qubits_index = np.array([], dtype=int)\n",
    "            for k in range(N):\n",
    "                constant2 = constant2*(1/2*(1+(1-2*b[j,k])))\n",
    "                qubits_index = np.append(qubits_index, i * N + k)\n",
    "            constant = constant1 * constant2\n",
    "            append_multi_rzz_term(qc, qubits_index, 2 * P * constant * gamma, N)\n",
    "        for i in range(n):\n",
    "            constant1 = p[i, j]\n",
    "            constant2 = 1\n",
    "            qubits_index = np.array([], dtype=int)\n",
    "            for k in range (N):\n",
    "                constant2 = constant2 * (1/2*(1+(1-2*b[j,k])))**2\n",
    "                qubits_index = np.append(qubits_index, i * N + k)\n",
    "            for h in range(l):\n",
    "                constant3 = 2 ** h\n",
    "                qubits_index = np.append(qubits_index, n * N + h)\n",
    "                constant = constant1 * constant2 * constant3\n",
    "                append_multi_rzz_term(qc, qubits_index, 2 * P * constant * gamma, N)\n",
    "        for h1 in range(l):\n",
    "            for h2 in range(l):\n",
    "                qubits_index = np.array([], dtype=int)\n",
    "                if h1 != h2:\n",
    "                    qubits_index = np.append(qubits_index, n * N + h1)\n",
    "                    qubits_index = np.append(qubits_index, n * N + h2)\n",
    "                    constant = 2 ** h1 * 2 ** h2 * P\n",
    "                    append_multi_rzz_term(qc, qubits_index, 2 * P * constant * gamma, N)\n",
    "                "
   ],
   "id": "9a17a5acfe3fc9d8",
   "outputs": [],
   "execution_count": 30
  },
  {
   "metadata": {
    "ExecuteTime": {
     "end_time": "2024-10-23T08:38:15.403951Z",
     "start_time": "2024-10-23T08:38:15.396390Z"
    }
   },
   "cell_type": "code",
   "source": [
    "def get_mixer_circuit(beta, n, N, l, K1, P, p, qc):\n",
    "    # beta, gamma = params[:len(params)//2], params[len(params)//2:]\n",
    "    for i in range(num_qubits):\n",
    "        append__mixer_term(qc, i, beta)\n",
    "    return qc"
   ],
   "id": "45a838eedf24a21",
   "outputs": [],
   "execution_count": 31
  },
  {
   "metadata": {
    "ExecuteTime": {
     "end_time": "2024-10-23T08:38:15.605734Z",
     "start_time": "2024-10-23T08:38:15.591964Z"
    }
   },
   "cell_type": "code",
   "source": [
    "def invert_counts(s):\n",
    "    return s[::-1]"
   ],
   "id": "b401b61cad096d4d",
   "outputs": [],
   "execution_count": 32
  },
  {
   "metadata": {
    "ExecuteTime": {
     "end_time": "2024-10-23T08:38:15.835392Z",
     "start_time": "2024-10-23T08:38:15.819778Z"
    }
   },
   "cell_type": "code",
   "source": [
    "from qiskit.circuit.library import PauliEvolutionGate\n",
    "from qiskit import Aer, transpile, assemble, QuantumCircuit, execute\n",
    "\n",
    "\n",
    "# 定义成本函数\n",
    "def cost_function(params, n, N, l, K1, P, p, bw, b):\n",
    "    beta, gamma = params[:len(params)//2], params[len(params)//2:]\n",
    "    num_qubits = n * N + l\n",
    "    qc = QuantumCircuit(num_qubits, num_qubits)\n",
    "    qc.h(range(num_qubits))\n",
    "    # print(qc)\n",
    "\n",
    "    length  = len(params)\n",
    "    for i in range(int(length/2)):\n",
    "\n",
    "        get_cost_circuit1(gamma[i], n, N, l, K1, P, p, qc, bw)\n",
    "        get_cost_circuit2(gamma[i], n, N, l, K1, P, p, qc, bw)\n",
    "        get_cost_circuit3(gamma[i], n, N, l, K1, P, p, qc, b)\n",
    "        get_mixer_circuit(beta[i], n, N, l, K1, P, p, qc)\n",
    "    # 模拟电路\n",
    "    # 添加测量指令\n",
    "    qc.measure(range(num_qubits), range(num_qubits))\n",
    "    backend = Aer.get_backend('qasm_simulator')\n",
    "    result = execute(qc, backend, seed_simulator=10, shots=10000).result()\n",
    "    counts = result.get_counts(qc)\n",
    "    # 计算期望值\n",
    "    expectation = 0\n",
    "    for bitstring, count in counts.items():\n",
    "        bitstring = invert_counts(bitstring)\n",
    "        prob = count / 10000\n",
    "        z_h = np.array([int(bit) for bit in bitstring[(n*N):]])\n",
    "        s_ik = np.array([int(bit) for bit in bitstring[:(n*N)]]).reshape(n, N)\n",
    "        E1 = np.sum([2 ** h * z for h, z in enumerate(z_h)])\n",
    "        E2 = 0\n",
    "        for j in range(len(bw)):\n",
    "            for i in range (n):\n",
    "                constant = 1\n",
    "                for k in range (N):\n",
    "                    constant = constant*(1-(s_ik[i,k]-bw[j,k])**2)\n",
    "                E2 += constant\n",
    "        E2 = K1 * E2\n",
    "        E3 = 0\n",
    "        for j in range(m):\n",
    "            constant1 = 0\n",
    "            for i in range(n):\n",
    "                constant2 = 1\n",
    "                for k in range(N):\n",
    "                    constant2 = constant2*(1-(s_ik[i,k]-b[j,k])**2)\n",
    "                constant1 += p[i,j]*constant2\n",
    "            constant3 = 0\n",
    "            for h in range(l):\n",
    "                constant3 += 2 ** h * z_h[h]\n",
    "            constant = max(0, constant1 - constant3)\n",
    "            E3 += P * (constant)**2\n",
    "        \n",
    "        # alpha_s = np.max([0, np.sum(x_ij * p) - np.sum([2 ** h * z for h, z in enumerate(z_h)])])\n",
    "        \n",
    "        E =  E1 + E2 + E3\n",
    "        \n",
    "        expectation += E * prob\n",
    "\n",
    "    return expectation, counts"
   ],
   "id": "64263ef21c05e105",
   "outputs": [],
   "execution_count": 33
  },
  {
   "metadata": {
    "ExecuteTime": {
     "end_time": "2024-10-23T08:38:16.037519Z",
     "start_time": "2024-10-23T08:38:16.023729Z"
    }
   },
   "cell_type": "code",
   "source": [
    "from qiskit_algorithms.optimizers import COBYLA\n",
    "\n",
    "# 优化 QAOA 参数\n",
    "def optimize_qaoa(n, N, l, K1, P, p, params, bw, b):\n",
    "    def objective(params):\n",
    "        expectation, _ = cost_function(params, n, N, l, K1, P, p, bw, b)\n",
    "\n",
    "        return expectation\n",
    "\n",
    "    optimizer = COBYLA(rhobeg = 1.5, tol = 1e-7)\n",
    "    # params = np.random.rand(2 * p_max) * 2 * np.pi\n",
    "    result = optimizer.minimize(fun=objective, x0=params)\n",
    "\n",
    "    return result"
   ],
   "id": "e9c9c9bafc078303",
   "outputs": [],
   "execution_count": 34
  },
  {
   "metadata": {
    "ExecuteTime": {
     "end_time": "2024-10-23T08:42:18.950121Z",
     "start_time": "2024-10-23T08:38:16.237334Z"
    }
   },
   "cell_type": "code",
   "source": [
    "import time\n",
    "\n",
    "# 运行优化\n",
    "# p_max = 6  # 最大层数\n",
    "\n",
    "startTime = time.time()\n",
    "ansatz_final = object()\n",
    "init_point = np.array([])\n",
    "counts = {}\n",
    "min_energy = 0\n",
    "final_result = object()\n",
    "for p1 in range(1, 4):\n",
    "    min_energy = 10000\n",
    "    for k in range(30):\n",
    "        print('第：', p1, '层', ' ', '第', k, '个参数')\n",
    "        init_point_temp = init_point\n",
    "        beta_p = np.random.uniform(0, np.pi)\n",
    "        gamma_p = np.random.uniform(0,  2 * np.pi)\n",
    "        if k >0:\n",
    "            init_point_temp = np.delete(init_point_temp, 2 * p1 - 1)\n",
    "            init_point_temp = np.delete(init_point_temp, p1 - 1)\n",
    "        init_point_temp = np.insert(init_point_temp, p1 - 1, beta_p)\n",
    "        init_point_temp = np.insert(init_point_temp, 2 * p1 - 1, gamma_p)\n",
    "        # 创建参数向量\n",
    "        # print(\"init_point_temp\"+ init_point_temp)\n",
    "        result = optimize_qaoa(n, N, l, K1, P, p, init_point_temp, bw, b)\n",
    "\n",
    "        # print(result.x)\n",
    "        optimal_params = result.x\n",
    "\n",
    "        # 计算最终的能量\n",
    "        energy, counts_temp = cost_function(result.x, n, N, l, K1, P, p, bw, b)\n",
    "        # 寻找这20对点中最优的参数\n",
    "        if min_energy > energy:\n",
    "            min_energy = energy\n",
    "            init_point = optimal_params\n",
    "            counts = counts_temp\n",
    "            final_result = result\n",
    "endTime = time.time()"
   ],
   "id": "ffcc54bd1b854fb0",
   "outputs": [
    {
     "name": "stdout",
     "output_type": "stream",
     "text": [
      "第： 1 层   第 0 个参数\n",
      "第： 1 层   第 1 个参数\n",
      "第： 1 层   第 2 个参数\n",
      "第： 1 层   第 3 个参数\n",
      "第： 1 层   第 4 个参数\n",
      "第： 1 层   第 5 个参数\n",
      "第： 1 层   第 6 个参数\n",
      "第： 1 层   第 7 个参数\n",
      "第： 1 层   第 8 个参数\n",
      "第： 1 层   第 9 个参数\n",
      "第： 1 层   第 10 个参数\n",
      "第： 1 层   第 11 个参数\n",
      "第： 1 层   第 12 个参数\n",
      "第： 1 层   第 13 个参数\n",
      "第： 1 层   第 14 个参数\n",
      "第： 1 层   第 15 个参数\n",
      "第： 1 层   第 16 个参数\n",
      "第： 1 层   第 17 个参数\n",
      "第： 1 层   第 18 个参数\n",
      "第： 1 层   第 19 个参数\n",
      "第： 1 层   第 20 个参数\n",
      "第： 1 层   第 21 个参数\n",
      "第： 1 层   第 22 个参数\n",
      "第： 1 层   第 23 个参数\n",
      "第： 1 层   第 24 个参数\n",
      "第： 1 层   第 25 个参数\n",
      "第： 1 层   第 26 个参数\n",
      "第： 1 层   第 27 个参数\n",
      "第： 1 层   第 28 个参数\n",
      "第： 1 层   第 29 个参数\n",
      "第： 2 层   第 0 个参数\n",
      "第： 2 层   第 1 个参数\n",
      "第： 2 层   第 2 个参数\n",
      "第： 2 层   第 3 个参数\n",
      "第： 2 层   第 4 个参数\n",
      "第： 2 层   第 5 个参数\n",
      "第： 2 层   第 6 个参数\n",
      "第： 2 层   第 7 个参数\n",
      "第： 2 层   第 8 个参数\n",
      "第： 2 层   第 9 个参数\n",
      "第： 2 层   第 10 个参数\n",
      "第： 2 层   第 11 个参数\n",
      "第： 2 层   第 12 个参数\n",
      "第： 2 层   第 13 个参数\n",
      "第： 2 层   第 14 个参数\n",
      "第： 2 层   第 15 个参数\n",
      "第： 2 层   第 16 个参数\n",
      "第： 2 层   第 17 个参数\n",
      "第： 2 层   第 18 个参数\n",
      "第： 2 层   第 19 个参数\n",
      "第： 2 层   第 20 个参数\n",
      "第： 2 层   第 21 个参数\n",
      "第： 2 层   第 22 个参数\n",
      "第： 2 层   第 23 个参数\n",
      "第： 2 层   第 24 个参数\n",
      "第： 2 层   第 25 个参数\n",
      "第： 2 层   第 26 个参数\n",
      "第： 2 层   第 27 个参数\n",
      "第： 2 层   第 28 个参数\n",
      "第： 2 层   第 29 个参数\n",
      "第： 3 层   第 0 个参数\n",
      "第： 3 层   第 1 个参数\n",
      "第： 3 层   第 2 个参数\n",
      "第： 3 层   第 3 个参数\n",
      "第： 3 层   第 4 个参数\n",
      "第： 3 层   第 5 个参数\n",
      "第： 3 层   第 6 个参数\n",
      "第： 3 层   第 7 个参数\n",
      "第： 3 层   第 8 个参数\n",
      "第： 3 层   第 9 个参数\n",
      "第： 3 层   第 10 个参数\n",
      "第： 3 层   第 11 个参数\n",
      "第： 3 层   第 12 个参数\n",
      "第： 3 层   第 13 个参数\n",
      "第： 3 层   第 14 个参数\n",
      "第： 3 层   第 15 个参数\n",
      "第： 3 层   第 16 个参数\n",
      "第： 3 层   第 17 个参数\n",
      "第： 3 层   第 18 个参数\n",
      "第： 3 层   第 19 个参数\n",
      "第： 3 层   第 20 个参数\n",
      "第： 3 层   第 21 个参数\n",
      "第： 3 层   第 22 个参数\n",
      "第： 3 层   第 23 个参数\n",
      "第： 3 层   第 24 个参数\n",
      "第： 3 层   第 25 个参数\n",
      "第： 3 层   第 26 个参数\n",
      "第： 3 层   第 27 个参数\n",
      "第： 3 层   第 28 个参数\n",
      "第： 3 层   第 29 个参数\n"
     ]
    }
   ],
   "execution_count": 35
  },
  {
   "metadata": {
    "ExecuteTime": {
     "end_time": "2024-10-23T08:50:32.067341Z",
     "start_time": "2024-10-23T08:50:31.815938Z"
    }
   },
   "cell_type": "code",
   "source": [
    "from qiskit.visualization import plot_histogram\n",
    "\n",
    "# 输出结果\n",
    "print(\"优化时间：\", endTime - startTime)\n",
    "print(\"Optimal parameters:\", final_result.x)\n",
    "print(\"Optimal value:\", final_result.fun)\n",
    "# 使用最优参数运行量子电路并输出测量结果\n",
    "final_expectation, final_counts = cost_function(final_result.x, n, N, l, K1, P, p, bw, b)\n",
    "# sorted_dict = dict(sorted(final_counts.items(), key=lambda item: item[1], reverse=True))\n",
    "sorted_dict = {item[0][::-1]: item[1] for item in sorted(final_counts.items(), key=lambda item: item[1], reverse=True)}\n",
    "print(\"Final expectation value:\", final_expectation)\n",
    "print(\"Final measurement counts:\", sorted_dict)\n",
    "plot_histogram(sorted_dict)"
   ],
   "id": "4261bc08a9ed929f",
   "outputs": [
    {
     "name": "stdout",
     "output_type": "stream",
     "text": [
      "优化时间： 242.69864916801453\n",
      "Optimal parameters: [ 9.64171282  1.95897292  2.8801631   5.58910387 -1.13121874  2.58038968]\n",
      "Optimal value: 18.626\n",
      "Final expectation value: 18.626\n",
      "Final measurement counts: {'01111': 1316, '11011': 1276, '10011': 1262, '10001': 1243, '01101': 1238, '00111': 1220, '00101': 1215, '11001': 1205, '00110': 7, '10010': 4, '10000': 4, '00100': 3, '11010': 3, '01110': 2, '01100': 1, '11000': 1}\n"
     ]
    },
    {
     "data": {
      "text/plain": [
       "<Figure size 700x500 with 1 Axes>"
      ],
      "image/png": "[encoded data removed]"
     },
     "execution_count": 38,
     "metadata": {},
     "output_type": "execute_result"
    }
   ],
   "execution_count": 38
  },
  {
   "metadata": {
    "ExecuteTime": {
     "end_time": "2024-10-23T08:42:19.275471Z",
     "start_time": "2024-10-23T08:42:19.258400Z"
    }
   },
   "cell_type": "code",
   "source": [
    "expectation = 0\n",
    "bitstring = \"00101\"\n",
    "z_h = np.array([int(bit) for bit in bitstring[(n*N):]])\n",
    "s_ik = np.array([int(bit) for bit in bitstring[:(n*N)]]).reshape(n, N)\n",
    "E1 = np.sum([2 ** h * z for h, z in enumerate(z_h)])\n",
    "E2 = 0\n",
    "for j in range(len(bw)):\n",
    "    for i in range (n):\n",
    "        constant = 1\n",
    "        for k in range (N):\n",
    "            constant = constant*(1-(s_ik[i,k]-bw[j,k])**2)\n",
    "        E2 += constant\n",
    "E2 = K1 * E2\n",
    "E3 = 0\n",
    "for j in range(m):\n",
    "    constant1 = 0\n",
    "    print(\"机器：\", j)\n",
    "    for i in range(n):\n",
    "        constant2 = 1\n",
    "        for k in range(N):\n",
    "            constant2 = constant2*(1-(s_ik[i,k]-b[j,k])**2)\n",
    "        # print(\"constant2:\", constant2)\n",
    "        constant1 += p[i,j]*constant2\n",
    "    # print(\"constant1:\", constant1)\n",
    "    constant3 = 0\n",
    "    for h in range(l):\n",
    "        constant3 += 2 ** h * z_h[h]\n",
    "    print(\"constant3:\", constant3)\n",
    "    constant = max(0, constant1 - constant3)\n",
    "    E3 += (constant)**2\n",
    "        \n",
    "        # alpha_s = np.max([0, np.sum(x_ij * p) - np.sum([2 ** h * z for h, z in enumerate(z_h)])])\n",
    "        \n",
    "E =  E1 + E2 + E3\n",
    "print(E1)\n",
    "print(E2)\n",
    "print(E3)\n",
    "# print(e1)\n",
    "# print(e2)"
   ],
   "id": "17d987eaf3be8f0f",
   "outputs": [
    {
     "name": "stdout",
     "output_type": "stream",
     "text": [
      "机器： 0\n",
      "constant2: 1\n",
      "constant2: 0\n",
      "constant1: 1\n",
      "constant3: 1\n",
      "机器： 1\n",
      "constant2: 0\n",
      "constant2: 1\n",
      "constant1: 1\n",
      "constant3: 1\n",
      "机器： 2\n",
      "constant2: 0\n",
      "constant2: 0\n",
      "constant1: 0\n",
      "constant3: 1\n",
      "1\n",
      "0\n",
      "0\n"
     ]
    }
   ],
   "execution_count": 37
  },
  {
   "metadata": {},
   "cell_type": "code",
   "outputs": [],
   "execution_count": null,
   "source": "",
   "id": "64865d07973bdc4c"
  }
 ],
 "metadata": {
  "kernelspec": {
   "display_name": "Python 3",
   "language": "python",
   "name": "python3"
  },
  "language_info": {
   "codemirror_mode": {
    "name": "ipython",
    "version": 2
   },
   "file_extension": ".py",
   "mimetype": "text/x-python",
   "name": "python",
   "nbconvert_exporter": "python",
   "pygments_lexer": "ipython2",
   "version": "2.7.6"
  }
 },
 "nbformat": 4,
 "nbformat_minor": 5
}
