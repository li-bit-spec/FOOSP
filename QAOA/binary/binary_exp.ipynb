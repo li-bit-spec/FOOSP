{
 "cells": [
  {
   "cell_type": "code",
   "id": "initial_id",
   "metadata": {
    "collapsed": true,
    "ExecuteTime": {
     "end_time": "2024-10-23T03:38:44.076561Z",
     "start_time": "2024-10-23T03:38:44.053555Z"
    }
   },
   "source": [
    "# from qiskit.opflow import I, Z, X, Y, SparsePauliOp\n",
    "import numpy as np\n",
    "# from juices import Juices\n",
    "# 假设有 3 台机器和 3 个操作\n",
    "m = 3 # 机器数量\n",
    "N = 2 # 表示机器的二进制 (0, 1)\n",
    "n = 2 # 操作数量\n",
    "l = 1  # 用于表示 C_max 的二进制位数\n",
    "\n",
    "# 处理时间矩阵 (例如)\n",
    "p = np.array([[1, 2, 3, 100],[3, 1, 2, 100]])\n",
    "\n",
    "# 非法数组(用于表示机器数)(1, 1)\n",
    "b = np.array([[0, 0],[1, 0] ,[0, 1], [1, 1]])\n",
    "bw = np.array([[1, 1]])\n",
    "# 常数\n",
    "K1 = 10\n",
    "P = 5\n",
    "\n",
    "# 量子比特数量\n",
    "num_qubits = n * N + l"
   ],
   "outputs": [],
   "execution_count": 92
  },
  {
   "metadata": {
    "ExecuteTime": {
     "end_time": "2024-10-23T03:38:44.248160Z",
     "start_time": "2024-10-23T03:38:44.235265Z"
    }
   },
   "cell_type": "code",
   "source": [
    "from qiskit import QuantumCircuit\n",
    "\n",
    "def append_multi_rzz_term(qc, qubits, gamma, N):\n",
    "    \"\"\"\n",
    "    构建一个类RZZ门，n-1个控制位，1个目标位，进行旋转操作。\n",
    "    \n",
    "    参数:\n",
    "    qc: QuantumCircuit 对象\n",
    "    control_qubits: List[int]，控制量子比特的索引\n",
    "    target_qubit: int，目标量子比特的索引\n",
    "    gamma: float，RZ 旋转的角度\n",
    "    \"\"\"\n",
    "    control_qubits = qubits[:N-1]\n",
    "    # print(control_qubits)\n",
    "    target_qubit = qubits[N-1:]\n",
    "    # print(target_qubit)\n",
    "    n_controls = len(control_qubits)\n",
    "    if n_controls == 1:\n",
    "        qc.cx(control_qubits[0],target_qubit[0])\n",
    "    else:\n",
    "        # ancilla_qubit = n_controls - 2\n",
    "        qc.mcx(control_qubits, target_qubit[0])\n",
    "    qc.rz(gamma, target_qubit[0])\n",
    "    if n_controls == 1:\n",
    "        qc.cx(control_qubits[0], target_qubit[0])\n",
    "    else:\n",
    "        qc.mcx(control_qubits, target_qubit[0])\n",
    "\n",
    "# # 示例使用\n",
    "# n = 4  # 例如4个量子比特，其中3个为控制，1个为目标\n",
    "# qc = QuantumCircuit(n)\n",
    "# control_qubits = [0, 1, 2]  # 第0、1、2个为控制位\n",
    "# target_qubit = 3            # 第3个为目标位\n",
    "# gamma = 0.5                 # 旋转角度\n",
    "# \n",
    "# append_multi_rzz_term(qc, control_qubits, target_qubit, gamma)\n",
    "# \n",
    "# # 输出电路\n",
    "# qc.draw('mpl')"
   ],
   "id": "744d1188245ca22d",
   "outputs": [],
   "execution_count": 93
  },
  {
   "metadata": {
    "ExecuteTime": {
     "end_time": "2024-10-23T03:38:44.451150Z",
     "start_time": "2024-10-23T03:38:44.431936Z"
    }
   },
   "cell_type": "code",
   "source": [
    "def append__zz_term( qc, qubit1, qubit2, gamma):\n",
    "    qc.cx(qubit1, qubit2)\n",
    "    qc.rz(gamma, qubit2)\n",
    "    qc.cx(qubit1, qubit2)\n",
    "\n",
    "def append__z_term(qc, qubit, gamma):\n",
    "    qc.rz(gamma, qubit)\n",
    "def append__mixer_term(qc, qubit, beta):\n",
    "    qc.rx(2 * beta, qubit)"
   ],
   "id": "78cd574ca18acceb",
   "outputs": [],
   "execution_count": 94
  },
  {
   "metadata": {
    "ExecuteTime": {
     "end_time": "2024-10-23T03:38:44.667643Z",
     "start_time": "2024-10-23T03:38:44.644665Z"
    }
   },
   "cell_type": "code",
   "source": [
    "def get_cost_circuit1(gamma, n, N, l, K1, P, p, qc, bw):\n",
    "    for h in range(l):\n",
    "        coef = - 2**h\n",
    "        append__z_term(qc, N * n + h, coef * gamma)\n",
    "    return qc"
   ],
   "id": "a177ac766f2e3c4b",
   "outputs": [],
   "execution_count": 95
  },
  {
   "metadata": {
    "ExecuteTime": {
     "end_time": "2024-10-23T03:38:44.839838Z",
     "start_time": "2024-10-23T03:38:44.820311Z"
    }
   },
   "cell_type": "code",
   "source": [
    "def get_cost_circuit2(gamma, n, N, l, K1, P, p, qc, bw):\n",
    "    for j in range(len(bw)):\n",
    "        for i in range (n):\n",
    "            constant = 1\n",
    "            qubits_index = np.array([], dtype=int)\n",
    "            for k in range (N):\n",
    "                constant = constant*(1/2*(1+(1-2*bw[j,k])))\n",
    "                qubits_index = np.append(qubits_index, i * N + k)\n",
    "            append_multi_rzz_term(qc, qubits_index, 2 * K1 * constant * gamma, N)\n",
    "                \n",
    "    return qc"
   ],
   "id": "67570f9028e40f9",
   "outputs": [],
   "execution_count": 96
  },
  {
   "metadata": {
    "ExecuteTime": {
     "end_time": "2024-10-23T03:38:45.243728Z",
     "start_time": "2024-10-23T03:38:45.225910Z"
    }
   },
   "cell_type": "code",
   "source": [
    "def get_cost_circuit3(gamma, n, N, l, K1, P, p, qc, b):\n",
    "    for j in range(len(b)):\n",
    "        for i1 in range (n):\n",
    "            for i2 in range(n): \n",
    "                if i1 != i2:\n",
    "                    constant1 = p[i1, j] * p[i2, j]\n",
    "                    constant2 = 1\n",
    "                    qubits_index = np.array([], dtype=int)\n",
    "                    for k in range (N):\n",
    "                        constant2 = constant2* (1/2*(1+(1-2*b[j,k])))**2\n",
    "                        qubits_index = np.append(qubits_index, i1 * N + k)\n",
    "                        qubits_index = np.append(qubits_index, i2 * N + k)\n",
    "                    constant = constant1*constant2\n",
    "                    append_multi_rzz_term(qc, qubits_index, 2 * P * constant * gamma, N)\n",
    "        for i in range(n):\n",
    "            constant1 = - (2**l-1) * p[i, j]\n",
    "            constant2 = 1\n",
    "            qubits_index = np.array([], dtype=int)\n",
    "            for k in range(N):\n",
    "                constant2 = constant2*(1/2*(1+(1-2*b[j,k])))\n",
    "                qubits_index = np.append(qubits_index, i * N + k)\n",
    "            constant = constant1 * constant2\n",
    "            append_multi_rzz_term(qc, qubits_index, 2 * P * constant * gamma, N)\n",
    "        for i in range(n):\n",
    "            constant1 = p[i, j]\n",
    "            constant2 = 1\n",
    "            qubits_index = np.array([], dtype=int)\n",
    "            for k in range (N):\n",
    "                constant2 = constant2 * (1/2*(1+(1-2*b[j,k])))**2\n",
    "                qubits_index = np.append(qubits_index, i * N + k)\n",
    "            for h in range(l):\n",
    "                constant3 = 2 ** h\n",
    "                qubits_index = np.append(qubits_index, n * N + h)\n",
    "                constant = constant1 * constant2 * constant3\n",
    "                append_multi_rzz_term(qc, qubits_index, 2 * P * constant * gamma, N)\n",
    "        for h1 in range(l):\n",
    "            for h2 in range(l):\n",
    "                qubits_index = np.array([], dtype=int)\n",
    "                if h1 != h2:\n",
    "                    qubits_index = np.append(qubits_index, n * N + h1)\n",
    "                    qubits_index = np.append(qubits_index, n * N + h2)\n",
    "                    constant = 2 ** h1 * 2 ** h2 * P\n",
    "                    append_multi_rzz_term(qc, qubits_index, 2 * P * constant * gamma, N)\n",
    "                "
   ],
   "id": "9a17a5acfe3fc9d8",
   "outputs": [],
   "execution_count": 97
  },
  {
   "metadata": {
    "ExecuteTime": {
     "end_time": "2024-10-23T03:38:45.477034Z",
     "start_time": "2024-10-23T03:38:45.466039Z"
    }
   },
   "cell_type": "code",
   "source": [
    "def get_mixer_circuit(beta, n, N, l, K1, P, p, qc):\n",
    "    # beta, gamma = params[:len(params)//2], params[len(params)//2:]\n",
    "    for i in range(num_qubits):\n",
    "        append__mixer_term(qc, i, beta)\n",
    "    return qc"
   ],
   "id": "45a838eedf24a21",
   "outputs": [],
   "execution_count": 98
  },
  {
   "metadata": {
    "ExecuteTime": {
     "end_time": "2024-10-23T03:38:45.694990Z",
     "start_time": "2024-10-23T03:38:45.687998Z"
    }
   },
   "cell_type": "code",
   "source": [
    "def invert_counts(s):\n",
    "    return s[::-1]"
   ],
   "id": "b401b61cad096d4d",
   "outputs": [],
   "execution_count": 99
  },
  {
   "metadata": {
    "ExecuteTime": {
     "end_time": "2024-10-23T03:38:46.005113Z",
     "start_time": "2024-10-23T03:38:45.982114Z"
    }
   },
   "cell_type": "code",
   "source": [
    "from qiskit.circuit.library import PauliEvolutionGate\n",
    "from qiskit import Aer, transpile, assemble, QuantumCircuit, execute\n",
    "\n",
    "\n",
    "# 定义成本函数\n",
    "def cost_function(params, n, N, l, K1, P, p, bw):\n",
    "    beta, gamma = params[:len(params)//2], params[len(params)//2:]\n",
    "    num_qubits = n * N + l\n",
    "    qc = QuantumCircuit(num_qubits, num_qubits)\n",
    "    qc.h(range(num_qubits))\n",
    "    # print(qc)\n",
    "\n",
    "    length  = len(params)\n",
    "    for i in range(int(length/2)):\n",
    "\n",
    "        get_cost_circuit1(gamma[i], n, N, l, K1, P, p, qc, bw)\n",
    "        get_cost_circuit2(gamma[i], n, N, l, K1, P, p, qc, bw)\n",
    "        get_cost_circuit3(gamma[i], n, N, l, K1, P, p, qc, b)\n",
    "        get_mixer_circuit(beta[i], n, N, l, K1, P, p, qc)\n",
    "    # 模拟电路\n",
    "    # 添加测量指令\n",
    "    qc.measure(range(num_qubits), range(num_qubits))\n",
    "    backend = Aer.get_backend('qasm_simulator')\n",
    "    result = execute(qc, backend, seed_simulator=10, shots=10000).result()\n",
    "    counts = result.get_counts(qc)\n",
    "    # 计算期望值\n",
    "    expectation = 0\n",
    "    for bitstring, count in counts.items():\n",
    "        bitstring = invert_counts(bitstring)\n",
    "        prob = count / 10000\n",
    "        z_h = np.array([int(bit) for bit in bitstring[(n*N):]])\n",
    "        s_ik = np.array([int(bit) for bit in bitstring[:(n*N)]]).reshape(n, N)\n",
    "        E1 = np.sum([2 ** h * z for h, z in enumerate(z_h)])\n",
    "        E2 = 0\n",
    "        for j in range(len(bw)):\n",
    "            for i in range (n):\n",
    "                constant = 1\n",
    "                for k in range (N):\n",
    "                    constant = constant*(1-(s_ik[i,k]-bw[j,k])**2)\n",
    "                E2 += constant\n",
    "        E2 = K1 * E2\n",
    "        E3 = 0\n",
    "        for j in range(m):\n",
    "            constant1 = 0\n",
    "            for i in range(n):\n",
    "                constant2 = 1\n",
    "                for k in range(N):\n",
    "                    constant2 = constant2*(1-(s_ik[i,k]-b[j,k])**2)\n",
    "                constant1 += p[i,j]*constant2\n",
    "            constant3 = 0\n",
    "            for h in range(l):\n",
    "                constant3 += 2 ** h * z_h[h]\n",
    "            E3 += P * (constant1 - constant3)\n",
    "        \n",
    "        # alpha_s = np.max([0, np.sum(x_ij * p) - np.sum([2 ** h * z for h, z in enumerate(z_h)])])\n",
    "        \n",
    "        E =  E1 + E2 + E3\n",
    "        \n",
    "        expectation += E * prob\n",
    "\n",
    "    return expectation, counts"
   ],
   "id": "64263ef21c05e105",
   "outputs": [],
   "execution_count": 100
  },
  {
   "metadata": {
    "ExecuteTime": {
     "end_time": "2024-10-23T03:38:46.222553Z",
     "start_time": "2024-10-23T03:38:46.203052Z"
    }
   },
   "cell_type": "code",
   "source": [
    "from qiskit_algorithms.optimizers import COBYLA\n",
    "\n",
    "# 优化 QAOA 参数\n",
    "def optimize_qaoa(n, N, l, K1, P, p, params, bw):\n",
    "    def objective(params):\n",
    "        expectation, _ = cost_function(params, n, N, l, K1, P, p, bw)\n",
    "\n",
    "        return expectation\n",
    "\n",
    "    optimizer = COBYLA(rhobeg = 1.5, tol = 1e-7)\n",
    "    # params = np.random.rand(2 * p_max) * 2 * np.pi\n",
    "    result = optimizer.minimize(fun=objective, x0=params)\n",
    "\n",
    "    return result"
   ],
   "id": "e9c9c9bafc078303",
   "outputs": [],
   "execution_count": 101
  },
  {
   "metadata": {
    "ExecuteTime": {
     "end_time": "2024-10-23T03:43:14.973498Z",
     "start_time": "2024-10-23T03:38:47.049733Z"
    }
   },
   "cell_type": "code",
   "source": [
    "import time\n",
    "\n",
    "# 运行优化\n",
    "# p_max = 6  # 最大层数\n",
    "\n",
    "startTime = time.time()\n",
    "ansatz_final = object()\n",
    "init_point = np.array([])\n",
    "counts = {}\n",
    "min_energy = 0\n",
    "final_result = object()\n",
    "for p1 in range(1, 4):\n",
    "    min_energy = 10000\n",
    "    for k in range(30):\n",
    "        print('第：', p1, '层', ' ', '第', k, '个参数')\n",
    "        init_point_temp = init_point\n",
    "        beta_p = np.random.uniform(0, np.pi)\n",
    "        gamma_p = np.random.uniform(0,  2 * np.pi)\n",
    "        if k >0:\n",
    "            init_point_temp = np.delete(init_point_temp, 2 * p1 - 1)\n",
    "            init_point_temp = np.delete(init_point_temp, p1 - 1)\n",
    "        init_point_temp = np.insert(init_point_temp, p1 - 1, beta_p)\n",
    "        init_point_temp = np.insert(init_point_temp, 2 * p1 - 1, gamma_p)\n",
    "        # 创建参数向量\n",
    "        # print(\"init_point_temp\"+ init_point_temp)\n",
    "        result = optimize_qaoa(n, N, l, K1, P, p, init_point_temp, bw)\n",
    "\n",
    "        # print(result.x)\n",
    "        optimal_params = result.x\n",
    "\n",
    "        # 计算最终的能量\n",
    "        energy, counts_temp = cost_function(result.x, n, N, l, K1, P, p, bw)\n",
    "        # 寻找这20对点中最优的参数\n",
    "        if min_energy > energy:\n",
    "            min_energy = energy\n",
    "            init_point = optimal_params\n",
    "            counts = counts_temp\n",
    "            final_result = result\n",
    "endTime = time.time()"
   ],
   "id": "ffcc54bd1b854fb0",
   "outputs": [
    {
     "name": "stdout",
     "output_type": "stream",
     "text": [
      "第： 1 层   第 0 个参数\n",
      "第： 1 层   第 1 个参数\n",
      "第： 1 层   第 2 个参数\n",
      "第： 1 层   第 3 个参数\n",
      "第： 1 层   第 4 个参数\n",
      "第： 1 层   第 5 个参数\n",
      "第： 1 层   第 6 个参数\n",
      "第： 1 层   第 7 个参数\n",
      "第： 1 层   第 8 个参数\n",
      "第： 1 层   第 9 个参数\n",
      "第： 1 层   第 10 个参数\n",
      "第： 1 层   第 11 个参数\n",
      "第： 1 层   第 12 个参数\n",
      "第： 1 层   第 13 个参数\n",
      "第： 1 层   第 14 个参数\n",
      "第： 1 层   第 15 个参数\n",
      "第： 1 层   第 16 个参数\n",
      "第： 1 层   第 17 个参数\n",
      "第： 1 层   第 18 个参数\n",
      "第： 1 层   第 19 个参数\n",
      "第： 1 层   第 20 个参数\n",
      "第： 1 层   第 21 个参数\n",
      "第： 1 层   第 22 个参数\n",
      "第： 1 层   第 23 个参数\n",
      "第： 1 层   第 24 个参数\n",
      "第： 1 层   第 25 个参数\n",
      "第： 1 层   第 26 个参数\n",
      "第： 1 层   第 27 个参数\n",
      "第： 1 层   第 28 个参数\n",
      "第： 1 层   第 29 个参数\n",
      "第： 2 层   第 0 个参数\n",
      "第： 2 层   第 1 个参数\n",
      "第： 2 层   第 2 个参数\n",
      "第： 2 层   第 3 个参数\n",
      "第： 2 层   第 4 个参数\n",
      "第： 2 层   第 5 个参数\n",
      "第： 2 层   第 6 个参数\n",
      "第： 2 层   第 7 个参数\n",
      "第： 2 层   第 8 个参数\n",
      "第： 2 层   第 9 个参数\n",
      "第： 2 层   第 10 个参数\n",
      "第： 2 层   第 11 个参数\n",
      "第： 2 层   第 12 个参数\n",
      "第： 2 层   第 13 个参数\n",
      "第： 2 层   第 14 个参数\n",
      "第： 2 层   第 15 个参数\n",
      "第： 2 层   第 16 个参数\n",
      "第： 2 层   第 17 个参数\n",
      "第： 2 层   第 18 个参数\n",
      "第： 2 层   第 19 个参数\n",
      "第： 2 层   第 20 个参数\n",
      "第： 2 层   第 21 个参数\n",
      "第： 2 层   第 22 个参数\n",
      "第： 2 层   第 23 个参数\n",
      "第： 2 层   第 24 个参数\n",
      "第： 2 层   第 25 个参数\n",
      "第： 2 层   第 26 个参数\n",
      "第： 2 层   第 27 个参数\n",
      "第： 2 层   第 28 个参数\n",
      "第： 2 层   第 29 个参数\n",
      "第： 3 层   第 0 个参数\n",
      "第： 3 层   第 1 个参数\n",
      "第： 3 层   第 2 个参数\n",
      "第： 3 层   第 3 个参数\n",
      "第： 3 层   第 4 个参数\n",
      "第： 3 层   第 5 个参数\n",
      "第： 3 层   第 6 个参数\n",
      "第： 3 层   第 7 个参数\n",
      "第： 3 层   第 8 个参数\n",
      "第： 3 层   第 9 个参数\n",
      "第： 3 层   第 10 个参数\n",
      "第： 3 层   第 11 个参数\n",
      "第： 3 层   第 12 个参数\n",
      "第： 3 层   第 13 个参数\n",
      "第： 3 层   第 14 个参数\n",
      "第： 3 层   第 15 个参数\n",
      "第： 3 层   第 16 个参数\n",
      "第： 3 层   第 17 个参数\n",
      "第： 3 层   第 18 个参数\n",
      "第： 3 层   第 19 个参数\n",
      "第： 3 层   第 20 个参数\n",
      "第： 3 层   第 21 个参数\n",
      "第： 3 层   第 22 个参数\n",
      "第： 3 层   第 23 个参数\n",
      "第： 3 层   第 24 个参数\n",
      "第： 3 层   第 25 个参数\n",
      "第： 3 层   第 26 个参数\n",
      "第： 3 层   第 27 个参数\n",
      "第： 3 层   第 28 个参数\n",
      "第： 3 层   第 29 个参数\n"
     ]
    }
   ],
   "execution_count": 102
  },
  {
   "metadata": {
    "ExecuteTime": {
     "end_time": "2024-10-23T03:43:15.391480Z",
     "start_time": "2024-10-23T03:43:15.086404Z"
    }
   },
   "cell_type": "code",
   "source": [
    "from qiskit.visualization import plot_histogram\n",
    "\n",
    "# 输出结果\n",
    "print(\"优化时间：\", endTime - startTime)\n",
    "print(\"Optimal parameters:\", final_result.x)\n",
    "print(\"Optimal value:\", final_result.fun)\n",
    "# 使用最优参数运行量子电路并输出测量结果\n",
    "final_expectation, final_counts = cost_function(final_result.x, n, N, l, K1, P, p, bw)\n",
    "# sorted_dict = dict(sorted(final_counts.items(), key=lambda item: item[1], reverse=True))\n",
    "sorted_dict = {item[0][::-1]: item[1] for item in sorted(final_counts.items(), key=lambda item: item[1], reverse=True)}\n",
    "print(\"Final expectation value:\", final_expectation)\n",
    "print(\"Final measurement counts:\", sorted_dict)\n",
    "plot_histogram(sorted_dict)"
   ],
   "id": "4261bc08a9ed929f",
   "outputs": [
    {
     "name": "stdout",
     "output_type": "stream",
     "text": [
      "优化时间： 267.9083330631256\n",
      "Optimal parameters: [9.90144328 4.07570887 1.87328633 3.39476034 1.09298397 2.54565717]\n",
      "Optimal value: 5.9510000000000005\n",
      "Final expectation value: 5.9510000000000005\n",
      "Final measurement counts: {'11111': 1002, '00011': 980, '11101': 965, '01011': 953, '00001': 953, '10111': 930, '10101': 928, '01001': 879, '11011': 328, '11001': 327, '01111': 319, '10001': 295, '00101': 294, '00111': 289, '10011': 280, '01101': 278}\n"
     ]
    },
    {
     "data": {
      "text/plain": [
       "<Figure size 700x500 with 1 Axes>"
      ],
      "image/png": "[encoded data removed]"
     },
     "execution_count": 103,
     "metadata": {},
     "output_type": "execute_result"
    }
   ],
   "execution_count": 103
  },
  {
   "metadata": {},
   "cell_type": "code",
   "outputs": [],
   "execution_count": null,
   "source": "",
   "id": "17d987eaf3be8f0f"
  }
 ],
 "metadata": {
  "kernelspec": {
   "display_name": "Python 3",
   "language": "python",
   "name": "python3"
  },
  "language_info": {
   "codemirror_mode": {
    "name": "ipython",
    "version": 2
   },
   "file_extension": ".py",
   "mimetype": "text/x-python",
   "name": "python",
   "nbconvert_exporter": "python",
   "pygments_lexer": "ipython2",
   "version": "2.7.6"
  }
 },
 "nbformat": 4,
 "nbformat_minor": 5
}
