{
 "cells": [
  {
   "metadata": {
    "collapsed": true,
    "ExecuteTime": {
     "end_time": "2025-03-03T02:48:42.013786Z",
     "start_time": "2025-03-03T02:48:41.919492Z"
    }
   },
   "cell_type": "code",
   "source": [
    "import numpy as np\n",
    "\n",
    "# 假设有 3 台机器和 3 个操作\n",
    "m = 3  # 机器数量\n",
    "N = 2  # 表示机器的二进制 (0, 1)\n",
    "n = 3  # 操作数量\n",
    "l = 1  # 用于表示 C_max 的二进制位数\n",
    "\n",
    "# 处理时间矩阵 (例如)\n",
    "p = np.array([[3, 1, 3], [2, 3, 1], [1, 3, 2]])\n",
    "\n",
    "b = np.array([[0, 0], [1, 0], [0, 1]])\n",
    "# 非法数组(用于表示机器数)(1, 1)\n",
    "bw = np.array([[1, 1]])\n",
    "# 常数\n",
    "K1 = 100\n",
    "P = 30\n",
    "# print(len(bw))\n",
    "# 量子比特数量\n",
    "num_qubits = n * N + l"
   ],
   "id": "initial_id",
   "outputs": [],
   "execution_count": 1
  },
  {
   "metadata": {
    "ExecuteTime": {
     "end_time": "2025-03-03T02:48:42.029321Z",
     "start_time": "2025-03-03T02:48:42.018289Z"
    }
   },
   "cell_type": "code",
   "source": [
    "def append_multi_rzz_term(qc, qubits, gamma):\n",
    "    \"\"\"\n",
    "    构建一个类RZZ门，n-1个控制位，1个目标位，进行旋转操作。\n",
    "    参数:\n",
    "    control_qubits: List[int]，控制量子比特的索引\n",
    "    target_qubit: int，目标量子比特的索引\n",
    "    \"\"\"\n",
    "    # if len(qubits)==1:\n",
    "    #     qc.rz(gamma, qubits[0])\n",
    "    # else:\n",
    "    #     control_qubits = qubits[:N-1]\n",
    "    #\n",
    "    #     target_qubit = qubits[N-1:]\n",
    "    #\n",
    "    #     n_controls = len(control_qubits)\n",
    "    #     if n_controls == 1:\n",
    "    #         qc.cx(control_qubits[0],target_qubit[0])\n",
    "    #     else:\n",
    "    #         qc.mcx(control_qubits, target_qubit[0])\n",
    "    #     qc.rz(gamma, target_qubit[0])\n",
    "    #     if n_controls == 1:\n",
    "    #         qc.cx(control_qubits[0], target_qubit[0])\n",
    "    #     else:\n",
    "    #         qc.mcx(control_qubits, target_qubit[0])\n",
    "    \"\"\"\n",
    "    实现多体 Z 相互作用项 e^{-i \\gamma Z_1 Z_2 \\dots Z_k}.\n",
    "    \"\"\"\n",
    "    if len(qubits) == 1:\n",
    "        qc.rz(2 * gamma, qubits[0])\n",
    "        return\n",
    "\n",
    "    # 链式 CNOT 到最后一个量子比特\n",
    "    for q in qubits[:-1]:\n",
    "        qc.cx(q, qubits[-1])\n",
    "\n",
    "    # 应用 RZ 门\n",
    "    qc.rz(2 * gamma, qubits[-1])\n",
    "\n",
    "    # 恢复链式 CNOT\n",
    "    for q in reversed(qubits[:-1]):\n",
    "        qc.cx(q, qubits[-1])"
   ],
   "id": "744d1188245ca22d",
   "outputs": [],
   "execution_count": 2
  },
  {
   "metadata": {
    "ExecuteTime": {
     "end_time": "2025-03-03T02:48:42.092168Z",
     "start_time": "2025-03-03T02:48:42.077654Z"
    }
   },
   "cell_type": "code",
   "source": [
    "def append__zz_term(qc, qubit1, qubit2, gamma):\n",
    "    qc.cx(qubit1, qubit2)\n",
    "    qc.rz(gamma, qubit2)\n",
    "    qc.cx(qubit1, qubit2)\n",
    "\n",
    "\n",
    "def append__z_term(qc, qubit, gamma):\n",
    "    qc.rz(gamma, qubit)\n",
    "\n",
    "\n",
    "def append__mixer_term(qc, qubit, beta):\n",
    "    qc.rx(2 * beta, qubit)"
   ],
   "id": "78cd574ca18acceb",
   "outputs": [],
   "execution_count": 3
  },
  {
   "metadata": {
    "ExecuteTime": {
     "end_time": "2025-03-03T02:48:42.122967Z",
     "start_time": "2025-03-03T02:48:42.112451Z"
    }
   },
   "cell_type": "code",
   "source": [
    "def get_cost_circuit1(gamma, qc):\n",
    "    for h in range(l):\n",
    "        coef = - 2 ** h\n",
    "        append__z_term(qc, N * n + h, coef * gamma)\n",
    "    return qc"
   ],
   "id": "a177ac766f2e3c4b",
   "outputs": [],
   "execution_count": 4
  },
  {
   "metadata": {},
   "cell_type": "markdown",
   "source": "\\begin{align}K_{1} \\sum_{j\\in W} \\sum_{i=0}^{n}\\prod_{k=0}^{N}\\left(\\frac{1}2+\\left(\\frac{1}2-b_{j k}\\right)Z_{ik}\\right)\\end{align}",
   "id": "6d569514dfbbda71"
  },
  {
   "metadata": {
    "ExecuteTime": {
     "end_time": "2025-03-03T02:48:42.605519Z",
     "start_time": "2025-03-03T02:48:42.589008Z"
    }
   },
   "cell_type": "code",
   "source": [
    "import itertools\n",
    "\n",
    "\n",
    "def get_cost_circuit2(gamma, qc):\n",
    "    # print(len(bw))\n",
    "    if len(bw) == 0:\n",
    "        return qc\n",
    "    all_combinations = list(itertools.chain(*(itertools.combinations(range(N), r) for r in range(1, N + 1))))\n",
    "    for j in range(len(bw)):\n",
    "        for i in range(n):\n",
    "            constant = 1 / (2 ** N)  # 系数 1/2^N  \n",
    "            for qubit_indices in all_combinations:  # 遍历各种组合\n",
    "                qubits_index = np.array([], dtype=int)\n",
    "                # 根据组合项生成子项的常数和qubit索引\n",
    "                for k in range(N):\n",
    "                    constant *= (1 - 2 * bw[j, k]) if k in qubit_indices else 1\n",
    "                    if k in qubit_indices:\n",
    "                        qubits_index = np.append(qubits_index, i * N + k)\n",
    "                # print(\"qubits_index\", qubits_index)\n",
    "                append_multi_rzz_term(qc, qubits_index, 2 * K1 * constant * gamma)\n",
    "    return qc\n"
   ],
   "id": "67570f9028e40f9",
   "outputs": [],
   "execution_count": 5
  },
  {
   "metadata": {
    "ExecuteTime": {
     "end_time": "2025-03-03T02:48:42.949924Z",
     "start_time": "2025-03-03T02:48:42.937877Z"
    }
   },
   "cell_type": "code",
   "source": [
    "# from qiskit import Aer, QuantumCircuit, execute\n",
    "# gamma= 1\n",
    "# qc = QuantumCircuit(num_qubits, num_qubits)\n",
    "# # qc.h(range(num_qubits))\n",
    "# # print(qc)\n",
    "# get_cost_circuit2(gamma, qc)\n",
    "# print(qc)\n",
    "# qc.decompose().draw('mpl')"
   ],
   "id": "ca86b2b4241df26d",
   "outputs": [],
   "execution_count": 6
  },
  {
   "metadata": {},
   "cell_type": "markdown",
   "source": [
    "\\begin{align}\\sum_{j=0}^{m-1}\\sum_{i=0}^{n-1} \\sum_{i^{\\prime}=0}^{n-1}\\left(\\prod_{k=0}^{N-1}\\frac{1}{2}\\left(1+\\left(1-2b_{j k}\\right) Z_{i k}\\right)\\right) p_{i j}\\left(\\prod_{k^{\\prime}=0}^{N-1}\\frac{1}{2}\\left(1+\\left(1-2b_{j k}\\right) Z_{i^{\\prime} k^{\\prime}}\\right)\\right) p_{i^{\\prime} j}\\end{align}\n",
    "\\begin{align}-2 \\sum_{j=0}^{m-1} \\sum_{i=0}^{n-1} \\sum_{h=0}^{l-1} \\left(\\prod_{k=0}^{N-1}\\frac{1}{2}\\left(1+\\left(1-2b_{j k}\\right) Z_{i k}\\right)\\right) p_{i j} \\cdot 2^{h-1}\\left(1-Z_h\\right)\\end{align}\n",
    "\\begin{align}\\sum_{j=0}^{m-1}\\sum_{h=0}^{l-1} \\sum_{h^{\\prime}=0}^{l-1} 2^{h-1} 2^{h^{\\prime}-1}\\left(1-Z_h-Z_{h^{\\prime}}+Z_h Z_{h^{\\prime}}\\right)\\end{align}"
   ],
   "id": "8923b57427f69dec"
  },
  {
   "metadata": {
    "ExecuteTime": {
     "end_time": "2025-03-03T02:48:43.622262Z",
     "start_time": "2025-03-03T02:48:43.595103Z"
    }
   },
   "cell_type": "code",
   "source": [
    "# import itertools\n",
    "from collections import Counter\n",
    "\n",
    "\n",
    "def get_cost_circuit3(gamma, qc):\n",
    "    for j in range(len(b)):\n",
    "        # 对应12, 13, 23, 45, 46, 56\n",
    "        for i in range(n):  # 自身内部相乘，对应12, 13, 23, 45, 46, 56\n",
    "            all_combinations_1 = list(itertools.chain(*(itertools.combinations(range(N), r) for r in range(1, N + 1))))\n",
    "            # 获取 all_combinations_1 中任意两项的所有组合\n",
    "            all_two_combinations = list(itertools.combinations(all_combinations_1, 2))\n",
    "            for qubit_indices in all_two_combinations:  # 遍历各种组合\n",
    "                # print(\"qubit_indices\", qubit_indices)\n",
    "                # sub_constant = constant\n",
    "                qubits_index = np.array([], dtype=int)\n",
    "                constant = 1\n",
    "                # 将组合对中的每个元素（每个元素本身也是一个组合）放入数组\n",
    "                for combo in qubit_indices:  # qubit_indices: ((0,), (1,))\n",
    "                    for k in combo:  # combo: (0,)\n",
    "                        constant = constant * (1 - 2 * b[j, k])\n",
    "                        qubits_index = np.append(qubits_index, i * N + k)\n",
    "                    # 将组合项中的所有元素添加到 qubits_index 中\n",
    "                # 剔除出现偶次数的项，奇次数的项保留一个\n",
    "\n",
    "                count = Counter(qubits_index)\n",
    "                # 仅保留出现次数为奇数的元素一次\n",
    "                qubits_index = [x for x in count if count[x] % 2 != 0]\n",
    "                # print(\"qubits_index\", qubits_index)\n",
    "                constant = 1 / (2 ** (2 * N)) * constant * p[i, j] * p[i, j]\n",
    "                append_multi_rzz_term(qc, qubits_index, 2 * P * constant * gamma)\n",
    "\n",
    "        # 2，对应14, 15, 16, 24, 25, 26, 34, 35, 36\n",
    "        all_combinations_1 = list(itertools.chain(*(itertools.combinations(range(N), r) for r in range(1, N + 1))))\n",
    "        all_combinations_2 = list(itertools.chain(*(itertools.combinations(range(N), r) for r in range(1, N + 1))))\n",
    "        for i1 in range(n - 1):  # 自身内部相乘，对应14, 15, 16, 24, 25, 26, 34, 35, 36\n",
    "            for i2 in range(i1 + 1, n):  # 自身内部相乘，对应23, 45, 46, 56\n",
    "                for qubit_indices_1 in all_combinations_1:\n",
    "                    # print(\"qubit_indices1\", qubit_indices_1)\n",
    "                    for qubit_indices_2 in all_combinations_2:\n",
    "                        # print(\"qubit_indices2\", qubit_indices_2)\n",
    "                        qubits_index = np.array([], dtype=int)\n",
    "                        constant = 1\n",
    "                        for k1 in qubit_indices_1:  # qubit_indices: ((0,), (1,))\n",
    "                            constant = constant * (1 - 2 * b[j, k1])\n",
    "                            qubits_index = np.append(qubits_index, i1 * N + k1)\n",
    "                        for k2 in qubit_indices_2:  # qubit_indices: ((0,), (1,))\n",
    "                            constant = constant * (1 - 2 * b[j, k2])\n",
    "                            qubits_index = np.append(qubits_index, i2 * N + k2)\n",
    "                        constant = 1 / (2 ** (2 * N)) * constant * p[i1, j] * p[i2, j]\n",
    "                        # print(\"qubits_index\", qubits_index)\n",
    "                        append_multi_rzz_term(qc, qubits_index, 2 * P * constant * gamma)\n",
    "\n",
    "        # 对应01,02,03,74,75,76\n",
    "        all_combinations = list(itertools.chain(*(itertools.combinations(range(N), r) for r in range(1, N + 1))))\n",
    "        for i1 in range(n):  # 取常数 1 固定一个为 p[i_1, j]\n",
    "            for i2 in range(n):  # 取 Z 的下标 Z_i2k\n",
    "                for qubit_indices in all_combinations:  # 取 排列组合\n",
    "                    qubits_index = np.array([], dtype=int)\n",
    "                    constant = 1\n",
    "                    for k in qubit_indices:\n",
    "                        constant = constant * (1 - 2 * b[j, k])\n",
    "                        qubits_index = np.append(qubits_index, i2 * N + k)\n",
    "                    constant = 1 / (2 ** (2 * N)) * constant * p[i1, j] * p[i2, j]\n",
    "                    # print(\"qubits_index\", qubits_index)\n",
    "                    append_multi_rzz_term(qc, qubits_index, 2 * P * constant * gamma)\n",
    "\n",
    "        all_combinations = list(itertools.chain(*(itertools.combinations(range(N), r) for r in range(1, N + 1))))\n",
    "        for i in range(n):\n",
    "            constant = 1 / (2 ** N) * p[i, j]  # 系数\n",
    "            constant1 = constant\n",
    "            for qubit_indices in all_combinations:  # 遍历各种组合\n",
    "                qubits_index = np.array([], dtype=int)\n",
    "                # 根据组合项生成子项的常数和qubit索引\n",
    "                for k in range(N):\n",
    "                    constant1 *= (1 - 2 * b[j, k]) if k in qubit_indices else 1\n",
    "                    if k in qubit_indices:\n",
    "                        qubits_index = np.append(qubits_index, i * N + k)\n",
    "                # print(\"qubits_index\", qubits_index)\n",
    "                constant1 = constant1 * (2 ** (l - 1)) * (-2)\n",
    "                append_multi_rzz_term(qc, qubits_index, 2 * P * constant1 * gamma)\n",
    "            constant2 = constant\n",
    "            for h in range(l):\n",
    "                for qubit_indices in all_combinations:  # 遍历各种组合\n",
    "                    qubits_index = np.array([], dtype=int)\n",
    "                    # 根据组合项生成子项的常数和qubit索引\n",
    "                    for k in range(N):\n",
    "                        constant2 *= (1 - 2 * b[j, k]) if k in qubit_indices else 1\n",
    "                        if k in qubit_indices:\n",
    "                            qubits_index = np.append(qubits_index, i * N + k)\n",
    "                    # print(\"qubits_index\", qubits_index)\n",
    "                    qubits_index = np.append(qubits_index, n * N + h)\n",
    "                    constant2 = constant2 * (2 ** (h - 1)) * (-2)\n",
    "                    append_multi_rzz_term(qc, qubits_index, 2 * P * constant2 * gamma)\n",
    "\n",
    "        for h1 in range(l):  # 遍历 h 的范围\n",
    "            for h2 in range(l):  # 遍历 h' 的范围\n",
    "                coef = 2 ** (h1 - 1) * 2 ** (h2 - 1)  # 计算系数权重\n",
    "\n",
    "                # -Z_h1 项\n",
    "                append__z_term(qc, n * N + h1, 2 * P * coef * gamma)\n",
    "\n",
    "                # -Z_h2 项\n",
    "                append__z_term(qc, n * N + h2, 2 * P * coef * gamma)\n",
    "\n",
    "                # Z_h1 Z_h2 项\n",
    "                if h1 != h2:  # 避免重复\n",
    "                    append__zz_term(qc, n * N + h1, n * N + h2, 2 * P * coef * gamma)\n",
    "\n",
    "\n"
   ],
   "id": "1036d966c797837b",
   "outputs": [],
   "execution_count": 7
  },
  {
   "metadata": {
    "ExecuteTime": {
     "end_time": "2025-03-03T02:48:44.354610Z",
     "start_time": "2025-03-03T02:48:44.347643Z"
    }
   },
   "cell_type": "code",
   "source": [
    "# from qiskit import Aer, QuantumCircuit, execute\n",
    "# gamma= 1\n",
    "# qc = QuantumCircuit(num_qubits, num_qubits)\n",
    "# get_cost_circuit3(gamma, qc)\n",
    "# print(qc)\n",
    "# qc.decompose().draw('mpl')"
   ],
   "id": "a89169f1ce243674",
   "outputs": [],
   "execution_count": 8
  },
  {
   "metadata": {
    "ExecuteTime": {
     "end_time": "2025-03-03T02:48:44.855377Z",
     "start_time": "2025-03-03T02:48:44.844239Z"
    }
   },
   "cell_type": "code",
   "source": [
    "# from qiskit import Aer, QuantumCircuit, execute\n",
    "# gamma= 1\n",
    "# qc = QuantumCircuit(num_qubits, num_qubits)\n",
    "# # qc.h(range(num_qubits))\n",
    "# # print(qc)\n",
    "# get_cost_circuit4(gamma, qc)\n",
    "# # print(qc)\n",
    "# # qc.decompose().draw('mpl')"
   ],
   "id": "f07b87893d4a1a05",
   "outputs": [],
   "execution_count": 9
  },
  {
   "metadata": {
    "ExecuteTime": {
     "end_time": "2025-03-03T02:48:45.308066Z",
     "start_time": "2025-03-03T02:48:45.304062Z"
    }
   },
   "cell_type": "code",
   "source": [
    "def get_mixer_circuit(beta, qc):\n",
    "    # beta, gamma = params[:len(params)//2], params[len(params)//2:]\n",
    "    for i in range(num_qubits):\n",
    "        append__mixer_term(qc, i, beta)\n",
    "    return qc"
   ],
   "id": "45a838eedf24a21",
   "outputs": [],
   "execution_count": 10
  },
  {
   "metadata": {
    "ExecuteTime": {
     "end_time": "2025-03-03T02:48:45.868119Z",
     "start_time": "2025-03-03T02:48:45.863119Z"
    }
   },
   "cell_type": "code",
   "source": [
    "def invert_counts(s):\n",
    "    return s[::-1]"
   ],
   "id": "b401b61cad096d4d",
   "outputs": [],
   "execution_count": 11
  },
  {
   "metadata": {
    "ExecuteTime": {
     "end_time": "2025-03-03T02:48:47.629083Z",
     "start_time": "2025-03-03T02:48:46.389834Z"
    }
   },
   "cell_type": "code",
   "source": [
    "from qiskit import Aer, QuantumCircuit, execute\n",
    "\n",
    "\n",
    "# 定义成本函数\n",
    "def cost_function(params):\n",
    "    beta, gamma = params[:len(params) // 2], params[len(params) // 2:]\n",
    "    num_qubits = n * N + l\n",
    "    qc = QuantumCircuit(num_qubits, num_qubits)\n",
    "    qc.h(range(num_qubits))\n",
    "    # print(qc)\n",
    "\n",
    "    length = len(params)\n",
    "    for i in range(int(length / 2)):\n",
    "        get_cost_circuit1(gamma[i], qc)\n",
    "        get_cost_circuit2(gamma[i], qc)\n",
    "        get_cost_circuit3(gamma[i], qc)\n",
    "        get_mixer_circuit(beta[i], qc)\n",
    "    # 模拟电路\n",
    "    # 添加测量指令\n",
    "    qc.measure(range(num_qubits), range(num_qubits))\n",
    "    backend = Aer.get_backend('qasm_simulator')\n",
    "    result = execute(qc, backend, seed_simulator=10, shots=10000).result()\n",
    "    counts = result.get_counts(qc)\n",
    "    # 计算期望值\n",
    "    expectation = 0\n",
    "    for bitstring, count in counts.items():\n",
    "        bitstring = invert_counts(bitstring)\n",
    "        prob = count / 10000\n",
    "        z_h = np.array([int(bit) for bit in bitstring[(n * N):]])\n",
    "        s_ik = np.array([int(bit) for bit in bitstring[:(n * N)]]).reshape(n, N)\n",
    "        E1 = np.sum([2 ** h * z for h, z in enumerate(z_h)])\n",
    "        E2 = 0\n",
    "        for j in range(len(bw)):\n",
    "            for i in range(n):\n",
    "                constant = 1\n",
    "                for k in range(N):\n",
    "                    constant = constant * (1 - (s_ik[i, k] - bw[j, k]) ** 2)\n",
    "                E2 += constant\n",
    "        E2 = K1 * E2\n",
    "        E3 = 0\n",
    "        for j in range(m):\n",
    "            constant1 = 0\n",
    "            for i in range(n):\n",
    "                constant2 = 1\n",
    "                for k in range(N):\n",
    "                    constant2 = constant2 * (1 - (s_ik[i, k] - b[j, k]) ** 2)\n",
    "                constant1 += p[i, j] * constant2\n",
    "            constant3 = 0\n",
    "            for h in range(l):\n",
    "                constant3 += 2 ** h * z_h[h]\n",
    "            constant = max(0, constant1 - constant3)\n",
    "            E3 += P * (constant) ** 2\n",
    "\n",
    "        # alpha_s = np.max([0, np.sum(x_ij * p) - np.sum([2 ** h * z for h, z in enumerate(z_h)])])\n",
    "\n",
    "        E = E1 + E2 + E3\n",
    "\n",
    "        expectation += E * prob\n",
    "\n",
    "    return expectation, counts"
   ],
   "id": "64263ef21c05e105",
   "outputs": [],
   "execution_count": 12
  },
  {
   "metadata": {
    "ExecuteTime": {
     "end_time": "2025-03-03T02:48:48.687671Z",
     "start_time": "2025-03-03T02:48:48.306259Z"
    }
   },
   "cell_type": "code",
   "source": [
    "from qiskit_algorithms.optimizers import COBYLA\n",
    "\n",
    "\n",
    "# 优化 QAOA 参数\n",
    "def optimize_qaoa(params):\n",
    "    def objective(params):\n",
    "        expectation, _ = cost_function(params)\n",
    "\n",
    "        return expectation\n",
    "\n",
    "    optimizer = COBYLA(rhobeg=1.5, tol=1e-8)\n",
    "    # params = np.random.rand(2 * p_max) * 2 * np.pi\n",
    "    result = optimizer.minimize(fun=objective, x0=params)\n",
    "\n",
    "    return result"
   ],
   "id": "e9c9c9bafc078303",
   "outputs": [],
   "execution_count": 13
  },
  {
   "metadata": {
    "ExecuteTime": {
     "end_time": "2025-03-03T02:49:41.655920Z",
     "start_time": "2025-03-03T02:49:41.637813Z"
    }
   },
   "cell_type": "code",
   "source": [
    "# 启发式初始化\n",
    "def heuristic_initial_params(p, p_matrix, n, N):\n",
    "    \"\"\"基于处理时间的启发式初始参数\"\"\"\n",
    "    avg_processing_time = np.mean(p_matrix)  # 平均处理时间\n",
    "    gamma_scale = avg_processing_time / (n * N)  # 缩放 γ\n",
    "    beta = np.linspace(0.1, np.pi / 2, p)  # β 从小到大均匀分布\n",
    "    gamma = np.ones(p) * gamma_scale * np.pi  # γ 与处理时间相关\n",
    "    return np.concatenate([beta, gamma])"
   ],
   "id": "8cdf4e21860e82f4",
   "outputs": [],
   "execution_count": 15
  },
  {
   "metadata": {
    "ExecuteTime": {
     "end_time": "2025-03-03T02:57:10.416430Z",
     "start_time": "2025-03-03T02:49:42.011263Z"
    }
   },
   "cell_type": "code",
   "source": [
    "# 主程序\n",
    "import time\n",
    "\n",
    "startTime = time.time()\n",
    "min_energy = float('inf')\n",
    "init_point = np.array([])\n",
    "counts = {}\n",
    "final_result = None\n",
    "\n",
    "for p1 in range(1, 4):\n",
    "    min_energy = 100000\n",
    "    for k in range(10):\n",
    "        print(f\"第 {p1} 层，第 {k} 个参数\")\n",
    "        # 使用启发式方法生成初始参数\n",
    "        init_point_temp = heuristic_initial_params(p1, p, n, N)\n",
    "\n",
    "        result = optimize_qaoa(init_point_temp)\n",
    "        optimal_params = result.x\n",
    "        energy, counts_temp = cost_function(result.x)\n",
    "\n",
    "        if min_energy > energy:\n",
    "            min_energy = energy\n",
    "            init_point = optimal_params\n",
    "            counts = counts_temp\n",
    "            final_result = result\n",
    "            print(f\"New best energy: {min_energy}\")\n",
    "            print(f\"Optimal parameters: {init_point}\")\n",
    "\n",
    "endTime = time.time()\n"
   ],
   "id": "ffcc54bd1b854fb0",
   "outputs": [
    {
     "name": "stdout",
     "output_type": "stream",
     "text": [
      "第 1 层，第 0 个参数\n"
     ]
    },
    {
     "name": "stderr",
     "output_type": "stream",
     "text": [
      "C:\\Users\\李华宪\\AppData\\Local\\Temp\\ipykernel_50584\\2667179906.py:21: DeprecationWarning: The function ``qiskit.execute_function.execute()`` is deprecated as of qiskit 0.46.0. It will be removed in the Qiskit 1.0 release. This function combines ``transpile`` and ``backend.run``, which is covered by ``Sampler`` :mod:`~qiskit.primitives`. Alternatively, you can also run :func:`.transpile` followed by ``backend.run()``.\n",
      "  result = execute(qc, backend, seed_simulator=10, shots=10000).result()\n"
     ]
    },
    {
     "name": "stdout",
     "output_type": "stream",
     "text": [
      "New best energy: 389.9020999999999\n",
      "Optimal parameters: [0.48978922 0.04961807]\n",
      "第 1 层，第 1 个参数\n",
      "第 1 层，第 2 个参数\n",
      "第 1 层，第 3 个参数\n",
      "第 1 层，第 4 个参数\n",
      "第 1 层，第 5 个参数\n",
      "第 1 层，第 6 个参数\n",
      "第 1 层，第 7 个参数\n",
      "第 1 层，第 8 个参数\n",
      "第 1 层，第 9 个参数\n",
      "第 2 层，第 0 个参数\n",
      "New best energy: 380.02879999999993\n",
      "Optimal parameters: [ 0.66440442  2.99644257 -0.1395572   2.11121775]\n",
      "第 2 层，第 1 个参数\n",
      "第 2 层，第 2 个参数\n",
      "第 2 层，第 3 个参数\n",
      "第 2 层，第 4 个参数\n",
      "第 2 层，第 5 个参数\n",
      "第 2 层，第 6 个参数\n",
      "第 2 层，第 7 个参数\n",
      "第 2 层，第 8 个参数\n",
      "第 2 层，第 9 个参数\n",
      "第 3 层，第 0 个参数\n",
      "New best energy: 370.92890000000006\n",
      "Optimal parameters: [0.3783095  1.09638416 1.70652535 1.10154862 1.19011871 1.59251756]\n",
      "第 3 层，第 1 个参数\n",
      "第 3 层，第 2 个参数\n",
      "第 3 层，第 3 个参数\n",
      "第 3 层，第 4 个参数\n",
      "第 3 层，第 5 个参数\n",
      "第 3 层，第 6 个参数\n",
      "第 3 层，第 7 个参数\n",
      "第 3 层，第 8 个参数\n",
      "第 3 层，第 9 个参数\n"
     ]
    }
   ],
   "execution_count": 16
  },
  {
   "metadata": {
    "ExecuteTime": {
     "end_time": "2025-03-03T02:57:22.187925Z",
     "start_time": "2025-03-03T02:57:21.221733Z"
    }
   },
   "cell_type": "code",
   "source": [
    "import warnings\n",
    "from qiskit.visualization import plot_histogram\n",
    "\n",
    "# 忽略弃用警告\n",
    "warnings.filterwarnings(\"ignore\", category=DeprecationWarning)\n",
    "# 输出结果\n",
    "print(\"优化时间：\", endTime - startTime)\n",
    "print(\"Optimal parameters:\", final_result.x)\n",
    "print(\"Optimal value:\", final_result.fun)\n",
    "# 使用最优参数运行量子电路并输出测量结果\n",
    "final_expectation, final_counts = cost_function(final_result.x)\n",
    "sorted_dict = {item[0][::-1]: item[1] for item in sorted(final_counts.items(), key=lambda item: item[1], reverse=True)}\n",
    "# 过滤掉计数小于 100 的结果\n",
    "filtered_dict = {key: value for key, value in sorted_dict.items() if value >= 100}\n",
    "print(\"Final expectation value:\", final_expectation)\n",
    "print(\"Final measurement counts:\", filtered_dict)\n",
    "plot_histogram(filtered_dict)"
   ],
   "id": "4261bc08a9ed929f",
   "outputs": [
    {
     "name": "stdout",
     "output_type": "stream",
     "text": [
      "优化时间： 448.3967432975769\n",
      "Optimal parameters: [0.3783095  1.09638416 1.70652535 1.10154862 1.19011871 1.59251756]\n",
      "Optimal value: 370.92890000000006\n",
      "Final expectation value: 370.92890000000006\n",
      "Final measurement counts: {'1101001': 426, '1001101': 393, '1000101': 369, '0011001': 365, '0100101': 330, '0000101': 212, '0111001': 204, '1000000': 184, '0111100': 182, '1010111': 165, '1101000': 164, '1011000': 163, '1110001': 162, '1010011': 159, '1111001': 158, '0101000': 158, '0100000': 152, '1000110': 151, '0010010': 145, '0111011': 144, '0111111': 138, '1010001': 137, '1011101': 136, '1111011': 132, '1011011': 131, '1010110': 126, '0011111': 125, '0111101': 123, '0101101': 121, '1101100': 121, '0011000': 120, '0110010': 113, '1100010': 112, '1000010': 111, '0001000': 106, '0101100': 105, '1100101': 105, '0010011': 104, '1011001': 103, '1110011': 102, '1110101': 102}\n"
     ]
    },
    {
     "data": {
      "text/plain": [
       "<Figure size 700x500 with 1 Axes>"
      ],
      "image/png": "[encoded data removed]"
     },
     "execution_count": 17,
     "metadata": {},
     "output_type": "execute_result"
    }
   ],
   "execution_count": 17
  },
  {
   "metadata": {
    "ExecuteTime": {
     "end_time": "2025-02-26T00:59:21.734025Z",
     "start_time": "2025-02-26T00:59:21.720024Z"
    }
   },
   "cell_type": "code",
   "source": [
    "# 计算期望值\n",
    "expectation = 0\n",
    "for bitstring, count in sorted_dict.items():\n",
    "    bitstring = invert_counts(bitstring)\n",
    "    prob = count / 10000\n",
    "    z_h = np.array([int(bit) for bit in bitstring[(n * N):]])\n",
    "    s_ik = np.array([int(bit) for bit in bitstring[:(n * N)]]).reshape(n, N)\n",
    "    E1 = np.sum([2 ** h * z for h, z in enumerate(z_h)])\n",
    "    E2 = 0\n",
    "    for j in range(len(bw)):\n",
    "        for i in range(n):\n",
    "            constant = 1\n",
    "            for k in range(N):\n",
    "                constant = constant * (1 - (s_ik[i, k] - bw[j, k]) ** 2)\n",
    "            E2 += constant\n",
    "    E2 = E2\n",
    "    E3 = 0\n",
    "    for j in range(m):\n",
    "        constant1 = 0\n",
    "        for i in range(n):\n",
    "            constant2 = 1\n",
    "            for k in range(N):\n",
    "                constant2 = constant2 * (1 - (s_ik[i, k] - b[j, k]) ** 2)\n",
    "            constant1 += p[i, j] * constant2\n",
    "        constant3 = 0\n",
    "        for h in range(l):\n",
    "            constant3 += 2 ** h * z_h[h]\n",
    "        constant = max(0, constant1 - constant3)\n",
    "        E3 += (constant) ** 2\n",
    "\n",
    "    # alpha_s = np.max([0, np.sum(x_ij * p) - np.sum([2 ** h * z for h, z in enumerate(z_h)])])\n",
    "\n",
    "    E = E1 + E2 + E3\n",
    "\n",
    "    expectation += E * prob\n",
    "print(expectation)"
   ],
   "id": "3afd91f885895dcd",
   "outputs": [
    {
     "name": "stdout",
     "output_type": "stream",
     "text": [
      "5.126100000000003\n"
     ]
    }
   ],
   "execution_count": 55
  },
  {
   "metadata": {
    "ExecuteTime": {
     "end_time": "2025-02-26T00:59:28.168667Z",
     "start_time": "2025-02-26T00:59:28.140668Z"
    }
   },
   "cell_type": "code",
   "source": [
    "expectation = 0\n",
    "bitstring = \"1001111\"\n",
    "z_h = np.array([int(bit) for bit in bitstring[(n * N):]])\n",
    "s_ik = np.array([int(bit) for bit in bitstring[:(n * N)]]).reshape(n, N)\n",
    "E1 = np.sum([2 ** h * z for h, z in enumerate(z_h)])\n",
    "E2 = 0\n",
    "for j in range(len(bw)):\n",
    "    for i in range(n):\n",
    "        constant = 1\n",
    "        for k in range(N):\n",
    "            constant = constant * (1 - (s_ik[i, k] - bw[j, k]) ** 2)\n",
    "        E2 += constant\n",
    "E2 = K1 * E2\n",
    "E3 = 0\n",
    "for j in range(m):\n",
    "    constant1 = 0\n",
    "    # print(\"机器：\", j)\n",
    "    for i in range(n):\n",
    "        constant2 = 1\n",
    "        for k in range(N):\n",
    "            constant2 = constant2 * (1 - (s_ik[i, k] - b[j, k]) ** 2)\n",
    "        # print(\"constant2:\", constant2)\n",
    "        # print(\"p[i,j]:\", p[i,j])\n",
    "        constant1 += p[i, j] * constant2\n",
    "    # print(\"constant1:\", constant1)\n",
    "    constant3 = 0\n",
    "    for h in range(l):\n",
    "        constant3 += 2 ** h * z_h[h]\n",
    "    # print(\"constant3:\", constant3)\n",
    "    constant = max(0, constant1 - constant3)\n",
    "    E3 += (constant) ** 2\n",
    "\n",
    "    # alpha_s = np.max([0, np.sum(x_ij * p) - np.sum([2 ** h * z for h, z in enumerate(z_h)])])\n",
    "\n",
    "E = E1 + K1 * E2 + P * E3\n",
    "print(E1)\n",
    "print(E2)\n",
    "print(E3)\n",
    "# print(e1)\n",
    "# print(e2)"
   ],
   "id": "17d987eaf3be8f0f",
   "outputs": [
    {
     "name": "stdout",
     "output_type": "stream",
     "text": [
      "1\n",
      "100\n",
      "0\n"
     ]
    }
   ],
   "execution_count": 56
  },
  {
   "metadata": {
    "ExecuteTime": {
     "end_time": "2024-10-30T14:24:31.456293Z",
     "start_time": "2024-10-30T14:24:31.444392Z"
    }
   },
   "cell_type": "code",
   "source": "",
   "id": "4888b1d2b1ed7be9",
   "outputs": [],
   "execution_count": null
  }
 ],
 "metadata": {
  "kernelspec": {
   "display_name": "Python 3",
   "language": "python",
   "name": "python3"
  },
  "language_info": {
   "codemirror_mode": {
    "name": "ipython",
    "version": 2
   },
   "file_extension": ".py",
   "mimetype": "text/x-python",
   "name": "python",
   "nbconvert_exporter": "python",
   "pygments_lexer": "ipython2",
   "version": "2.7.6"
  }
 },
 "nbformat": 4,
 "nbformat_minor": 5
}
