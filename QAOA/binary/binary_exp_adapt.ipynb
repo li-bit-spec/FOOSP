{
 "cells": [
  {
   "metadata": {
    "collapsed": true,
    "ExecuteTime": {
     "end_time": "2024-12-23T14:08:01.975145Z",
     "start_time": "2024-12-23T14:08:01.625550Z"
    }
   },
   "cell_type": "code",
   "source": [
    "import numpy as np\n",
    "from networkx.algorithms.tournament import hamiltonian_path\n",
    "\n",
    "# 假设有 3 台机器和 3 个操作\n",
    "m = 3  # 机器数量\n",
    "N = 2  # 表示机器的二进制 (0, 1)\n",
    "n = 2  # 操作数量\n",
    "l = 1  # 用于表示 C_max 的二进制位数\n",
    "\n",
    "# 处理时间矩阵 (例如)\n",
    "p = np.array([[3, 1, 2], [3, 2, 1]])\n",
    "\n",
    "b = np.array([[0, 0], [1, 0], [0, 1]])\n",
    "# 非法数组(用于表示机器数)(1, 1)\n",
    "bw = np.array([[1, 1]])\n",
    "# 常数\n",
    "K1 = 100\n",
    "P = 30\n",
    "# print(len(bw))\n",
    "# 量子比特数量\n",
    "num_qubits = n * N + l"
   ],
   "id": "initial_id",
   "outputs": [],
   "execution_count": 1
  },
  {
   "metadata": {
    "ExecuteTime": {
     "end_time": "2024-12-23T14:08:01.990568Z",
     "start_time": "2024-12-23T14:08:01.980153Z"
    }
   },
   "cell_type": "code",
   "source": [
    "#\n",
    "# def pauli_z_term(index, num_qubits):\n",
    "#     \"\"\"初始化一个 Pauli-I 门的列表,指定索引 index 替换为 Pauli-Z 门\"\"\"\n",
    "#     paulis = ['I'] * num_qubits\n",
    "#     paulis[index] = 'Z'\n",
    "#     return ''.join(paulis)  # 将列表转化为字符串\n",
    "def pauli_z_term(indices, num_qubits):\n",
    "    \"\"\"生成 Pauli-Z 项\"\"\"\n",
    "    z_str = ['I'] * num_qubits\n",
    "    for idx in indices:\n",
    "        z_str[idx] = 'Z'\n",
    "    return ''.join(z_str)\n",
    "\n",
    "\n",
    "def pauli_x_term(index, num_qubits):\n",
    "    paulis = ['I'] * num_qubits\n",
    "    paulis[index] = 'X'\n",
    "    return ''.join(paulis)"
   ],
   "id": "beac6dab111b5b26",
   "outputs": [],
   "execution_count": 2
  },
  {
   "metadata": {
    "ExecuteTime": {
     "end_time": "2024-12-23T14:08:03.237797Z",
     "start_time": "2024-12-23T14:08:02.041483Z"
    }
   },
   "cell_type": "code",
   "source": [
    "from qiskit.quantum_info import Pauli, SparsePauliOp, PauliList\n",
    "\n",
    "# 初始化 Pauli 字符串和系数\n",
    "pauli_strings = []\n",
    "coefficients = []\n",
    "\n",
    "# 构建哈密顿量\n",
    "for h in range(l):\n",
    "    coef = - 2 ** h / 2  # 系数为 2^h\n",
    "    z_term = ['I'] * num_qubits\n",
    "    z_term[n * N + h] = 'Z'  # 第 n * N + h 位是 Z，其余是 I\n",
    "    pauli_strings.append(''.join(z_term))\n",
    "    coefficients.append(coef)\n",
    "\n",
    "# 转换为 SparsePauliOp 格式\n",
    "hamiltonian1 = SparsePauliOp.from_list(list(zip(pauli_strings, coefficients)))\n",
    "\n",
    "# 输出结果\n",
    "print(\"哈密顿量:\")\n",
    "print(hamiltonian1)"
   ],
   "id": "181ab69a03ce5c2c",
   "outputs": [
    {
     "name": "stdout",
     "output_type": "stream",
     "text": [
      "哈密顿量:\n",
      "SparsePauliOp(['IIIIZ'],\n",
      "              coeffs=[-0.5+0.j])\n"
     ]
    }
   ],
   "execution_count": 3
  },
  {
   "metadata": {
    "ExecuteTime": {
     "end_time": "2024-12-23T14:08:03.267946Z",
     "start_time": "2024-12-23T14:08:03.253599Z"
    }
   },
   "cell_type": "code",
   "source": [
    "from itertools import combinations\n",
    "\n",
    "# 初始化哈密顿量参数\n",
    "pauli_strings = []\n",
    "coefficients = []\n",
    "\n",
    "# 遍历 j 和 i\n",
    "for j in range(len(bw)):\n",
    "    for i in range(n):\n",
    "        # 枚举 k 的所有子集\n",
    "        for subset_size in range(N + 1):  # 子集大小\n",
    "            for subset in combinations(range(N), subset_size):\n",
    "                # 计算子集 S 的系数\n",
    "                coef = K1\n",
    "                for k in subset:\n",
    "                    coef *= (0.5 - b[j][k])  # 子集 S 中的项\n",
    "                for k in range(N):\n",
    "                    if k not in subset:\n",
    "                        coef *= 0.5  # 非子集项的贡献\n",
    "\n",
    "                # 生成对应的 Pauli-Z 项\n",
    "                indices = [i * N + k for k in subset]  # 转为量子比特索引\n",
    "                z_term = pauli_z_term(indices, num_qubits)\n",
    "\n",
    "                # 添加到哈密顿量\n",
    "                pauli_strings.append(z_term)\n",
    "                coefficients.append(coef)\n",
    "\n",
    "# 转换为 SparsePauliOp 格式\n",
    "hamiltonian2 = SparsePauliOp.from_list(list(zip(pauli_strings, coefficients)))\n",
    "\n",
    "# 输出结果\n",
    "print(\"哈密顿量:\")\n",
    "print(hamiltonian2)"
   ],
   "id": "8511dbdfca8cc944",
   "outputs": [
    {
     "name": "stdout",
     "output_type": "stream",
     "text": [
      "哈密顿量:\n",
      "SparsePauliOp(['IIIII', 'ZIIII', 'IZIII', 'ZZIII', 'IIIII', 'IIZII', 'IIIZI', 'IIZZI'],\n",
      "              coeffs=[25.+0.j, 25.+0.j, 25.+0.j, 25.+0.j, 25.+0.j, 25.+0.j, 25.+0.j, 25.+0.j])\n"
     ]
    }
   ],
   "execution_count": 4
  },
  {
   "metadata": {
    "ExecuteTime": {
     "end_time": "2024-12-23T14:08:03.346381Z",
     "start_time": "2024-12-23T14:08:03.285097Z"
    }
   },
   "cell_type": "code",
   "source": [
    "# 初始化参数\n",
    "pauli_strings = []\n",
    "coefficients = []\n",
    "\n",
    "# 第一部分：双重乘积项\n",
    "for j in range(m):\n",
    "    for i in range(n):\n",
    "        for i_prime in range(n):\n",
    "            coef = p[i, j] * p[i_prime, j] / (2 ** (2 * N))\n",
    "            z_term = ['I'] * num_qubits\n",
    "            for k in range(N):\n",
    "                if b[j, k] == 1:\n",
    "                    z_term[i * N + k] = 'Z'\n",
    "                    z_term[i_prime * N + k] = 'Z'\n",
    "            pauli_strings.append(''.join(z_term))\n",
    "            coefficients.append(coef)\n",
    "\n",
    "# 第二部分：结合时间和二进制位\n",
    "for j in range(m):\n",
    "    for i in range(n):\n",
    "        for h in range(l):\n",
    "            coef = -2 * p[i, j] * (2 ** (h - 1)) / (2 ** N)\n",
    "            z_term = ['I'] * num_qubits\n",
    "            for k in range(N):\n",
    "                if b[j, k] == 1:\n",
    "                    z_term[i * N + k] = 'Z'\n",
    "            z_term[n * N + h] = 'Z'\n",
    "            pauli_strings.append(''.join(z_term))\n",
    "            coefficients.append(coef)\n",
    "\n",
    "# 第三部分：纯二进制项\n",
    "for h in range(l):\n",
    "    for h_prime in range(l):\n",
    "        coef = 2 ** (h - 1) * 2 ** (h_prime - 1)\n",
    "        z_term = ['I'] * num_qubits\n",
    "        if h == h_prime:\n",
    "            z_term[n * N + h] = 'Z'\n",
    "            pauli_strings.append(''.join(z_term))\n",
    "            coefficients.append(coef)\n",
    "        else:\n",
    "            z_term1 = z_term.copy()\n",
    "            z_term2 = z_term.copy()\n",
    "            z_term1[n * N + h] = 'Z'\n",
    "            z_term2[n * N + h_prime] = 'Z'\n",
    "            pauli_strings.append(''.join(z_term1))\n",
    "            coefficients.append(-coef)\n",
    "            pauli_strings.append(''.join(z_term2))\n",
    "            coefficients.append(-coef)\n",
    "            z_term1[n * N + h_prime] = 'Z'\n",
    "            pauli_strings.append(''.join(z_term1))\n",
    "            coefficients.append(coef)\n",
    "\n",
    "# 转换为 SparsePauliOp 格式\n",
    "hamiltonian3 = SparsePauliOp.from_list(list(zip(pauli_strings, coefficients)))\n",
    "\n",
    "# 输出结果\n",
    "print(\"哈密顿量:\")\n",
    "print(hamiltonian3)"
   ],
   "id": "5adaa8f682c3b82",
   "outputs": [
    {
     "name": "stdout",
     "output_type": "stream",
     "text": [
      "哈密顿量:\n",
      "SparsePauliOp(['IIIII', 'IIIII', 'IIIII', 'IIIII', 'ZIIII', 'ZIZII', 'ZIZII', 'IIZII', 'IZIII', 'IZIZI', 'IZIZI', 'IIIZI', 'IIIIZ', 'IIIIZ', 'ZIIIZ', 'IIZIZ', 'IZIIZ', 'IIIZZ', 'IIIIZ'],\n",
      "              coeffs=[ 0.5625+0.j,  0.5625+0.j,  0.5625+0.j,  0.5625+0.j,  0.0625+0.j,\n",
      "  0.125 +0.j,  0.125 +0.j,  0.25  +0.j,  0.25  +0.j,  0.125 +0.j,\n",
      "  0.125 +0.j,  0.0625+0.j, -0.75  +0.j, -0.75  +0.j, -0.25  +0.j,\n",
      " -0.5   +0.j, -0.5   +0.j, -0.25  +0.j,  0.25  +0.j])\n"
     ]
    }
   ],
   "execution_count": 5
  },
  {
   "metadata": {
    "ExecuteTime": {
     "end_time": "2024-12-23T14:08:03.425219Z",
     "start_time": "2024-12-23T14:08:03.413201Z"
    }
   },
   "cell_type": "code",
   "source": "cost_hamiltonian = hamiltonian1 + hamiltonian2 + hamiltonian3",
   "id": "c477a3796568709f",
   "outputs": [],
   "execution_count": 6
  },
  {
   "metadata": {
    "ExecuteTime": {
     "end_time": "2024-12-23T14:08:04.246441Z",
     "start_time": "2024-12-23T14:08:04.233032Z"
    }
   },
   "cell_type": "code",
   "source": [
    "def invert_counts(s):\n",
    "    return s[::-1]"
   ],
   "id": "344d9040e84053c1",
   "outputs": [],
   "execution_count": 7
  },
  {
   "metadata": {
    "ExecuteTime": {
     "end_time": "2024-12-23T14:08:04.655899Z",
     "start_time": "2024-12-23T14:08:04.648759Z"
    }
   },
   "cell_type": "code",
   "source": [
    "# # 初始化数组\n",
    "# pauli_strings = []\n",
    "# coefficients = []\n",
    "# x_terms = []\n",
    "# z_terms = []\n",
    "# for i in range(num_qubits):\n",
    "#     coef = 1\n",
    "#     x_term = pauli_x_term(i,num_qubits)\n",
    "#     x_terms.append((coef, x_term))\n",
    "# \n",
    "# # 提取所有的 Pauli 字符串和系数\n",
    "# pauli_strings = [term[1] for term in  x_terms ]\n",
    "# coefficients = [term[0] for term in  x_terms ]\n",
    "# \n",
    "# # 转换为 SparsePauliOp\n",
    "# paulis = [Pauli(label) for label in pauli_strings]\n",
    "# mixer_hamiltonian = SparsePauliOp.from_list(list(zip(pauli_strings, coefficients)))\n",
    "# \n",
    "# print(mixer_hamiltonian)\n",
    "# 算符池\n",
    "operator_pool = [\n",
    "    \"X\",  # X 门\n",
    "    \"Y\",  # Y 门\n",
    "    \"XX\",  # XX 门\n",
    "    \"YY\",  # YY 门\n",
    "    \"ZZ\",  # ZZ 门\n",
    "    \"XZ\",  # XZ 门\n",
    "    \"YZ\"  # YZ 门\n",
    "]"
   ],
   "id": "2f357b918e62c918",
   "outputs": [],
   "execution_count": 8
  },
  {
   "metadata": {
    "ExecuteTime": {
     "end_time": "2024-12-23T14:08:05.154773Z",
     "start_time": "2024-12-23T14:08:05.145251Z"
    }
   },
   "cell_type": "code",
   "source": [
    "# 定义混合算符池\n",
    "mixer_pool = [\n",
    "    SparsePauliOp.from_list([(\"X\" * num_qubits, 1.0)]),\n",
    "    SparsePauliOp.from_list([(\"Y\" * num_qubits, 1.0)]),\n",
    "    SparsePauliOp.from_list([(\"XX\" * num_qubits, 1.0)]),\n",
    "    SparsePauliOp.from_list([(\"YY\" * num_qubits, 1.0)]),\n",
    "    SparsePauliOp.from_list([(\"ZZ\" * num_qubits, 1.0)]),\n",
    "    SparsePauliOp.from_list([(\"XZ\" * num_qubits, 1.0)]),\n",
    "    SparsePauliOp.from_list([(\"YZ\" * num_qubits, 1.0)])\n",
    "]"
   ],
   "id": "3ea7020b1eb6bb3b",
   "outputs": [],
   "execution_count": 9
  },
  {
   "metadata": {
    "ExecuteTime": {
     "end_time": "2024-12-23T14:08:05.793164Z",
     "start_time": "2024-12-23T14:08:05.788163Z"
    }
   },
   "cell_type": "code",
   "source": [
    "def decompose_commutator(hamiltonian, operator):\n",
    "    \"\"\"\n",
    "    分解 [H_C, A_j] 为 Pauli 算符的线性组合\n",
    "    \"\"\"\n",
    "    commutator = hamiltonian @ operator - operator @ hamiltonian\n",
    "    return commutator  # 返回 SparsePauliOp 表示"
   ],
   "id": "70f3f128471c77b5",
   "outputs": [],
   "execution_count": 10
  },
  {
   "metadata": {
    "ExecuteTime": {
     "end_time": "2024-12-23T14:08:06.510500Z",
     "start_time": "2024-12-23T14:08:06.443172Z"
    }
   },
   "cell_type": "code",
   "source": [
    "from qiskit.opflow import PauliSumOp, PauliTrotterEvolution\n",
    "\n",
    "\n",
    "#from qiskit.opflow import PauliTrotterEvolution, PauliSumOp\n",
    "\n",
    "\n",
    "def compute_gradient_via_commutator(hamiltonian, operator, gamma):\n",
    "    \"\"\"\n",
    "    使用分解的对易算符计算梯度\n",
    "    \"\"\"\n",
    "    # 1. 分解对易算符\n",
    "    commutator = decompose_commutator(hamiltonian, operator)  # 对易算符分解\n",
    "    pauli_list = commutator.to_list()  # 提取 Pauli 字符串及其系数\n",
    "\n",
    "    # 2. 构建量子电路\n",
    "    qc = QuantumCircuit(num_qubits, num_qubits)\n",
    "    qc.h(range(num_qubits))  # 全局初态 |+>\n",
    "    # qc.append(PauliEvolutionGate(hamiltonian, gamma), list(range(num_qubits)))\n",
    "    # 转换为 PauliSumOp\n",
    "    # 使用 PauliTrotterEvolution 创建演化电路\n",
    "    hamiltonian = PauliSumOp(hamiltonian)\n",
    "    evolution = PauliTrotterEvolution().convert((gamma * hamiltonian).exp_i())\n",
    "    evolution_circuit = evolution.to_circuit()\n",
    "    qc = qc.compose(evolution_circuit, qubits=range(num_qubits))  # 确保电路合成正确\n",
    "    # 3. 使用 Aer 模拟器运行电路\n",
    "    simulator = Aer.get_backend(\"aer_simulator\")\n",
    "    simulator.set_options(method=\"statevector\")\n",
    "    # 将量子电路分解为基础门\n",
    "    qc_transpile = transpile(qc, simulator)\n",
    "    # 运行分解后的电路\n",
    "    # 配置运行任务返回 statevector\n",
    "    result = simulator.run(qc_transpile).result()\n",
    "    # 获取状态矢量\n",
    "    statevector = result.get_statevector()\n",
    "\n",
    "    # 4. 计算梯度\n",
    "    gradient = 0.0\n",
    "    for pauli_string, coeff in pauli_list:\n",
    "        pauli_op = SparsePauliOp.from_list([(pauli_string, 1.0)])\n",
    "        # 将 pauli_op 转换为稀疏矩阵\n",
    "        pauli_matrix = pauli_op.to_matrix()\n",
    "        expectation = np.vdot(statevector, pauli_matrix @ statevector)  # 期望值\n",
    "        gradient += coeff * expectation  # 梯度累加\n",
    "\n",
    "    return -1j * gradient.imag\n"
   ],
   "id": "e4d6ca44151ece32",
   "outputs": [
    {
     "name": "stderr",
     "output_type": "stream",
     "text": [
      "C:\\Users\\李华宪\\AppData\\Local\\Temp\\ipykernel_42048\\411534091.py:1: DeprecationWarning: The ``qiskit.opflow`` module is deprecated as of qiskit-terra 0.24.0. It will be removed in Qiskit 1.0. For code migration guidelines, visit https://qisk.it/opflow_migration.\n",
      "  from qiskit.opflow import PauliSumOp, PauliTrotterEvolution\n"
     ]
    }
   ],
   "execution_count": 11
  },
  {
   "metadata": {
    "ExecuteTime": {
     "end_time": "2024-12-23T14:08:07.334769Z",
     "start_time": "2024-12-23T14:08:07.310218Z"
    }
   },
   "cell_type": "code",
   "source": [
    "from qiskit.circuit.library import PauliEvolutionGate\n",
    "from qiskit import Aer, transpile, assemble, QuantumCircuit, execute\n",
    "\n",
    "\n",
    "# 定义成本函数\n",
    "def cost_function(hamiltonian, params):\n",
    "    beta, gamma = params[:len(params) // 2], params[len(params) // 2:]\n",
    "    num_qubits = n * N + l\n",
    "    qc = QuantumCircuit(num_qubits, num_qubits)\n",
    "    qc.h(range(num_qubits))\n",
    "    # print(qc)\n",
    "\n",
    "    length = len(params)\n",
    "    max_gradient = 0.0\n",
    "    best_operator = None\n",
    "\n",
    "    for operator in mixer_pool:\n",
    "        # 比较绝对值找到最大梯度\n",
    "        grad = compute_gradient_via_commutator(hamiltonian, operator, gamma[len(gamma) - 1])\n",
    "        if abs(grad) > abs(max_gradient):\n",
    "            max_gradient = grad\n",
    "            best_operator = operator\n",
    "    print(\"第\", length / 2, \"层：\")\n",
    "    print(f\"\\nBest Operator: {best_operator}, Max Gradient: {max_gradient}\")\n",
    "    for ga, be in zip(gamma, beta):\n",
    "        # 应用问题哈密顿量\n",
    "        qc.append(PauliEvolutionGate(hamiltonian, ga), list(range(num_qubits)))\n",
    "        # 应用混合哈密顿量\n",
    "        qc.append(PauliEvolutionGate(best_operator, be), list(range(num_qubits)))\n",
    "    # # 计算梯度\n",
    "    # grad = compute_gradient_via_commutator(qc, cost_hamiltonian, operator, gamma)\n",
    "    # 模拟电路\n",
    "    # 添加测量指令\n",
    "    qc.measure(range(num_qubits), range(num_qubits))\n",
    "    backend = Aer.get_backend('qasm_simulator')\n",
    "    result = execute(qc, backend, seed_simulator=10, shots=10000).result()\n",
    "    counts = result.get_counts(qc)\n",
    "    # 计算期望值\n",
    "    expectation = 0\n",
    "    for bitstring, count in counts.items():\n",
    "        bitstring = invert_counts(bitstring)\n",
    "        prob = count / 10000\n",
    "        z_h = np.array([int(bit) for bit in bitstring[(n * N):]])\n",
    "        s_ik = np.array([int(bit) for bit in bitstring[:(n * N)]]).reshape(n, N)\n",
    "        E1 = np.sum([2 ** h * z for h, z in enumerate(z_h)])\n",
    "        E2 = 0\n",
    "        for j in range(len(bw)):\n",
    "            for i in range(n):\n",
    "                constant = 1\n",
    "                for k in range(N):\n",
    "                    constant = constant * (1 - (s_ik[i, k] - bw[j, k]) ** 2)\n",
    "                E2 += constant\n",
    "        E2 = K1 * E2\n",
    "        E3 = 0\n",
    "        for j in range(len(b)):\n",
    "            constant1 = 0\n",
    "            for i in range(n):\n",
    "                constant2 = 1\n",
    "                for k in range(N):\n",
    "                    constant2 = constant2 * (1 - (s_ik[i, k] - b[j, k]) ** 2)\n",
    "                constant1 += p[i, j] * constant2\n",
    "            constant3 = 0\n",
    "            for h in range(l):\n",
    "                constant3 += 2 ** h * z_h[h]\n",
    "            constant = max(0, constant1 - constant3)\n",
    "            E3 += P * (constant) ** 2\n",
    "\n",
    "        # alpha_s = np.max([0, np.sum(x_ij * p) - np.sum([2 ** h * z for h, z in enumerate(z_h)])])\n",
    "\n",
    "        E = E1 + E2 + E3\n",
    "\n",
    "        expectation += E * prob\n",
    "\n",
    "    return expectation, counts"
   ],
   "id": "492b378f19cb2c61",
   "outputs": [],
   "execution_count": 12
  },
  {
   "metadata": {
    "ExecuteTime": {
     "end_time": "2024-12-23T14:08:08.768116Z",
     "start_time": "2024-12-23T14:08:08.497360Z"
    }
   },
   "cell_type": "code",
   "source": [
    "from qiskit_algorithms.optimizers import COBYLA\n",
    "\n",
    "\n",
    "# 优化 QAOA 参数\n",
    "def optimize_qaoa(hamiltonian, params):\n",
    "    def objective(params):\n",
    "        expectation, _, grade = cost_function(hamiltonian, params)\n",
    "\n",
    "        return expectation\n",
    "\n",
    "    optimizer = COBYLA(rhobeg=1.5, tol=1e-8)\n",
    "    # params = np.random.rand(2 * p_max) * 2 * np.pi\n",
    "    result = optimizer.minimize(fun=objective, x0=params)\n",
    "\n",
    "    return result"
   ],
   "id": "e64364af1f1da605",
   "outputs": [],
   "execution_count": 13
  },
  {
   "metadata": {
    "ExecuteTime": {
     "end_time": "2024-12-23T14:08:09.421054Z",
     "start_time": "2024-12-23T14:08:09.405566Z"
    }
   },
   "cell_type": "code",
   "source": [
    "# def append_multi_rzz_term(qc, qubits, gamma): \n",
    "#     \"\"\"\n",
    "#     构建一个类RZZ门，n-1个控制位，1个目标位，进行旋转操作。\n",
    "#     参数:\n",
    "#     control_qubits: List[int]，控制量子比特的索引\n",
    "#     target_qubit: int，目标量子比特的索引\n",
    "#     \"\"\"\n",
    "#     length = len(qubits)\n",
    "#     \n",
    "#     if length==1:\n",
    "#         qc.rz(gamma, qubits[0])\n",
    "#     else:\n",
    "#         control_qubits = list(qubits[:length-1])\n",
    "# \n",
    "#         target_qubit = qubits[length-1]\n",
    "# \n",
    "#         n_controls = len(control_qubits)\n",
    "#         \n",
    "#         if n_controls == 1:     \n",
    "#             qc.cx(control_qubits,target_qubit)\n",
    "#         else:\n",
    "#             qc.mcx(control_qubits, target_qubit)\n",
    "#         qc.rz(gamma, target_qubit)\n",
    "#         if n_controls == 1:\n",
    "#             qc.cx(control_qubits, target_qubit)\n",
    "#         else:\n",
    "#             qc.mcx(control_qubits, target_qubit)\n"
   ],
   "id": "744d1188245ca22d",
   "outputs": [],
   "execution_count": 14
  },
  {
   "metadata": {
    "ExecuteTime": {
     "end_time": "2024-12-23T14:08:10.230232Z",
     "start_time": "2024-12-23T14:08:10.218805Z"
    }
   },
   "cell_type": "code",
   "source": [
    "# def append__zz_term( qc, qubit1, qubit2, gamma):\n",
    "#     qc.cx(qubit1, qubit2)\n",
    "#     qc.rz(gamma, qubit2)\n",
    "#     qc.cx(qubit1, qubit2)\n",
    "# \n",
    "# def append__z_term(qc, qubit, gamma):\n",
    "#     qc.rz(gamma, qubit)\n",
    "# def append__mixer_term(qc, qubit, beta):\n",
    "#     qc.rx(2 * beta, qubit)"
   ],
   "id": "78cd574ca18acceb",
   "outputs": [],
   "execution_count": 15
  },
  {
   "metadata": {},
   "cell_type": "markdown",
   "source": "\\begin{align}\\sum_{h=0}^{l} 2^{h-1} \\end{align}",
   "id": "49fc11a0f5881c6d"
  },
  {
   "metadata": {
    "ExecuteTime": {
     "end_time": "2024-12-23T14:08:11.683807Z",
     "start_time": "2024-12-23T14:08:11.675809Z"
    }
   },
   "cell_type": "code",
   "source": [
    "# def get_cost_circuit1(gamma, qc):\n",
    "#     for h in range(l):\n",
    "#         coef = - 2**h\n",
    "#         append__z_term(qc, N * n + h, coef * gamma)\n",
    "#     return qc"
   ],
   "id": "a177ac766f2e3c4b",
   "outputs": [],
   "execution_count": 16
  },
  {
   "metadata": {},
   "cell_type": "markdown",
   "source": "\\begin{align}K_{1} \\sum_{j\\in W} \\sum_{i=0}^{n}\\prod_{k=0}^{N}\\left(\\frac{1}2+\\left(\\frac{1}2-b_{j k}\\right)Z_{ik}\\right)\\end{align}",
   "id": "6d569514dfbbda71"
  },
  {
   "metadata": {
    "ExecuteTime": {
     "end_time": "2024-12-23T14:08:12.834716Z",
     "start_time": "2024-12-23T14:08:12.823509Z"
    }
   },
   "cell_type": "code",
   "source": [
    "# import itertools\n",
    "# def get_cost_circuit2(gamma, qc):\n",
    "#     # print(len(bw))\n",
    "#     if len(bw) == 0:\n",
    "#         return qc\n",
    "#     all_combinations = list(itertools.chain(*(itertools.combinations(range(N), r) for r in range(1, N + 1))))\n",
    "#     for j in range(len(bw)):\n",
    "#         for i in range(n):\n",
    "#             constant = 1 / (2 ** N)  # 系数 1/2^N  \n",
    "#             for qubit_indices in all_combinations: # 遍历各种组合\n",
    "#                 qubits_index = np.array([], dtype=int)\n",
    "#                 # 根据组合项生成子项的常数和qubit索引\n",
    "#                 for k in range(N):\n",
    "#                     constant *= (1 - 2 * bw[j, k]) if k in qubit_indices else 1\n",
    "#                     if k in qubit_indices:\n",
    "#                         qubits_index = np.append(qubits_index, i * N + k)\n",
    "#                 # print(\"qubits_index\", qubits_index)\n",
    "#                 append_multi_rzz_term(qc, qubits_index, 2 * K1 * constant * gamma)\n",
    "#     return qc\n"
   ],
   "id": "67570f9028e40f9",
   "outputs": [],
   "execution_count": 17
  },
  {
   "metadata": {
    "ExecuteTime": {
     "end_time": "2024-12-23T14:08:13.378097Z",
     "start_time": "2024-12-23T14:08:13.363104Z"
    }
   },
   "cell_type": "code",
   "source": [
    "# from qiskit import Aer, QuantumCircuit, execute\n",
    "# gamma= 1\n",
    "# qc = QuantumCircuit(num_qubits, num_qubits)\n",
    "# # qc.h(range(num_qubits))\n",
    "# # print(qc)\n",
    "# get_cost_circuit2(gamma, qc)\n",
    "# print(qc)\n",
    "# # qc.decompose().draw('mpl')"
   ],
   "id": "ca86b2b4241df26d",
   "outputs": [],
   "execution_count": 18
  },
  {
   "metadata": {},
   "cell_type": "markdown",
   "source": [
    "\\begin{align}\\sum_{j=0}^{m-1}\\sum_{i=0}^{n-1} \\sum_{i^{\\prime}=0}^{n-1}\\left(\\prod_{k=0}^{N-1}\\frac{1}{2}\\left(1+\\left(1-2b_{j k}\\right) Z_{i k}\\right)\\right) p_{i j}\\left(\\prod_{k^{\\prime}=0}^{N-1}\\frac{1}{2}\\left(1+\\left(1-2b_{j k}\\right) Z_{i^{\\prime} k^{\\prime}}\\right)\\right) p_{i^{\\prime} j}\\end{align}\n",
    "\\begin{align}-2 \\sum_{j=0}^{m-1} \\sum_{i=0}^{n-1} \\sum_{h=0}^{l-1} \\left(\\prod_{k=0}^{N-1}\\frac{1}{2}\\left(1+\\left(1-2b_{j k}\\right) Z_{i k}\\right)\\right) p_{i j} \\cdot 2^{h-1}\\left(1-Z_h\\right)\\end{align}\n",
    "\\begin{align}\\sum_{j=0}^{m-1}\\sum_{h=0}^{l-1} \\sum_{h^{\\prime}=0}^{l-1} 2^{h-1} 2^{h^{\\prime}-1}\\left(1-Z_h-Z_{h^{\\prime}}+Z_h Z_{h^{\\prime}}\\right)\\end{align}"
   ],
   "id": "8923b57427f69dec"
  },
  {
   "metadata": {
    "ExecuteTime": {
     "end_time": "2024-12-23T14:08:14.658177Z",
     "start_time": "2024-12-23T14:08:14.651258Z"
    }
   },
   "cell_type": "code",
   "source": [
    "# # import itertools\n",
    "# from collections import Counter\n",
    "# # 预生成所有比特组合\n",
    "# # all_combinations = list(itertools.chain(*(itertools.combinations(range(N), r) for r in range(1, N + 1))))\n",
    "# def get_cost_circuit3(gamma, qc):\n",
    "#     for j in range(len(b)):\n",
    "#         for i in range(n): # 自身内部相乘\n",
    "#             all_combinations_1 = list(itertools.chain(*(itertools.combinations(range(N), r) for r in range(1, N + 1))))\n",
    "#             # 获取 all_combinations_1 中任意两项的所有组合\n",
    "#             all_two_combinations = list(itertools.combinations(all_combinations_1, 2))\n",
    "#             for qubit_indices in all_two_combinations: # 遍历各种组合\n",
    "#                 # print(\"qubit_indices\", qubit_indices)\n",
    "#                 # sub_constant = constant\n",
    "#                 qubits_index = np.array([], dtype=int)\n",
    "#                 constant = 1\n",
    "#                 # 将组合对中的每个元素（每个元素本身也是一个组合）放入数组\n",
    "#                 for combo in qubit_indices: # qubit_indices: ((0,), (1,)) \n",
    "#                     for k in combo: # combo: (0,)\n",
    "#                         constant = constant * (1 - 2 * b[j, k])\n",
    "#                         qubits_index = np.append(qubits_index, i * N + k)\n",
    "#                     # 将组合项中的所有元素添加到 qubits_index 中\n",
    "#                 # 剔除出现偶次数的项，奇次数的项保留一个\n",
    "#                 # print(\"qubits_index\", qubits_index)\n",
    "#                 count = Counter(qubits_index)\n",
    "#                 # 仅保留出现次数为奇数的元素一次   \n",
    "#                 qubits_index = [x for x in count if count[x] % 2 != 0]\n",
    "#                 # print(\"qubits_index\", qubits_index)\n",
    "#                 constant = 1/(2 ** (2 * N)) * constant * p[i, j] * p[i, j]\n",
    "#                 append_multi_rzz_term(qc,qubits_index , 2 * P * constant * gamma)\n",
    "#         # 2，对应两两相乘\n",
    "#         all_combinations_1 = list(itertools.chain(*(itertools.combinations(range(N), r) for r in range(1, N + 1))))  \n",
    "#         all_combinations_2 = list(itertools.chain(*(itertools.combinations(range(N), r) for r in range(1, N + 1))))  \n",
    "#         for i1 in range(n - 1): \n",
    "#             for i2 in range(i1 + 1, n): \n",
    "#                 for qubit_indices_1 in all_combinations_1:\n",
    "#                     # print(\"qubit_indices1\", qubit_indices_1)\n",
    "#                     for qubit_indices_2 in all_combinations_2:\n",
    "#                         # print(\"qubit_indices2\", qubit_indices_2)\n",
    "#                         qubits_index = np.array([], dtype=int)\n",
    "#                         constant = 1\n",
    "#                         for k1 in qubit_indices_1: # qubit_indices: ((0,), (1,))\n",
    "#                             constant = constant * (1 - 2 * b[j, k1])\n",
    "#                             qubits_index = np.append(qubits_index, i1 * N + k1)\n",
    "#                         for k2 in qubit_indices_2: # qubit_indices: ((0,), (1,))\n",
    "#                             constant = constant * (1 - 2 * b[j, k2])\n",
    "#                             qubits_index = np.append(qubits_index, i2 * N + k2)\n",
    "#                         constant = 1/(2 ** (2 * N)) * constant * p[i1, j] * p[i2, j]\n",
    "#                         # print(\"qubits_index\", qubits_index)\n",
    "#                         append_multi_rzz_term(qc,qubits_index ,2 * P * constant * gamma)\n",
    "#         # 对应常数相乘\n",
    "#         all_combinations = list(itertools.chain(*(itertools.combinations(range(N), r) for r in range(1, N + 1))))\n",
    "#         for i1 in range(n): # 取常数 1 固定一个为 p[i_1, j]\n",
    "#             for i2 in range(n): # 取 Z 的下标 Z_i2k\n",
    "#                 for qubit_indices in all_combinations: # 取 排列组合\n",
    "#                     qubits_index = np.array([], dtype=int)\n",
    "#                     constant = 1\n",
    "#                     for k in qubit_indices:\n",
    "#                         constant = constant * (1 - 2 * b[j, k])\n",
    "#                         qubits_index = np.append(qubits_index, i2 * N + k)\n",
    "#                     constant = 1/(2 ** (2 * N)) * constant * p[i1, j] * p[i2, j]\n",
    "#                     # print(\"i1:\",i1,\"i2:\",i2,)\n",
    "#                     # print(\"qubits_index\", qubits_index)\n",
    "#                     append_multi_rzz_term(qc,qubits_index ,2 * P * constant * gamma)\n",
    "#         all_combinations = list(itertools.chain(*(itertools.combinations(range(N), r) for r in range(1, N + 1))))\n",
    "#         for i in range(n):\n",
    "#             constant = 1 / (2 ** N) * p[i, j]# 系数 \n",
    "# \n",
    "#             for qubit_indices in all_combinations: # 遍历各种组合\n",
    "#                 constant1 = constant\n",
    "#                 qubits_index = np.array([], dtype=int)\n",
    "#                 # 根据组合项生成子项的常数和qubit索引\n",
    "#                 for k in range(N):\n",
    "#                     constant1 *= (1 - 2 * b[j, k]) if k in qubit_indices else 1\n",
    "#                     if k in qubit_indices:\n",
    "#                         qubits_index = np.append(qubits_index, i * N + k)            \n",
    "#                 constant1 = constant1 * (sum(2**(h - 1) for h in range(l))) * (-2)\n",
    "#                 append_multi_rzz_term(qc, qubits_index, 2 * P * constant1 * gamma)\n",
    "# \n",
    "#             for h in range(l):\n",
    "#                 for qubit_indices in all_combinations: # 遍历各种组合\n",
    "#                     constant2 = constant\n",
    "#                     qubits_index = np.array([], dtype=int)\n",
    "#                     # 根据组合项生成子项的常数和qubit索引\n",
    "#                     for k in range(N):\n",
    "#                         constant2 *= (1 - 2 * b[j, k]) if k in qubit_indices else 1\n",
    "#                         if k in qubit_indices:\n",
    "#                             qubits_index = np.append(qubits_index, i * N + k)\n",
    "# \n",
    "#                     qubits_index = np.append(qubits_index, n * N + h)\n",
    "#                     # print(\"qubits_index_hz\", qubits_index)\n",
    "#                     constant2 = constant2 * (2**(h-1)) * 2\n",
    "#                     append_multi_rzz_term(qc, qubits_index, 2 * P * constant2 * gamma)\n",
    "# \n",
    "#             for h in range(l):\n",
    "#                 constant3 = constant\n",
    "#                 qubits_index = np.array([], dtype=int)\n",
    "#                 # 根据组合项生成子项的常数和qubit索引\n",
    "#                 qubits_index = np.append(qubits_index, n * N + h)\n",
    "#                 # print(\"qubits_index_hz\", qubits_index)\n",
    "#                 constant3 = constant3 * (2**(h-1)) * 2\n",
    "#                 append_multi_rzz_term(qc, qubits_index, 2 * P * constant3 * gamma)\n",
    "# \n",
    "# \n",
    "#         for h1 in range(l):  # 遍历 h 的范围\n",
    "#             for h2 in range(l):  # 遍历 h' 的范围\n",
    "#                 coef = 2 ** (h1 - 1) * 2 ** (h2 - 1)  # 计算系数权重\n",
    "# \n",
    "#                 # -Z_h1 项\n",
    "#                 append__z_term(qc, n * N + h1, 2 * P * coef * gamma)\n",
    "# \n",
    "#                 # -Z_h2 项\n",
    "#                 append__z_term(qc, n * N + h2, 2 * P * coef * gamma)\n",
    "# \n",
    "#                 # Z_h1 Z_h2 项\n",
    "#                 if h1 != h2:  # 避免重复\n",
    "#                     append__zz_term(qc, n * N + h1, n * N + h2, 2 * P * coef * gamma)\n",
    "\n",
    "\n"
   ],
   "id": "1036d966c797837b",
   "outputs": [],
   "execution_count": 19
  },
  {
   "metadata": {
    "ExecuteTime": {
     "end_time": "2024-12-23T14:08:15.481219Z",
     "start_time": "2024-12-23T14:08:15.476217Z"
    }
   },
   "cell_type": "code",
   "source": [
    "# from qiskit import Aer, QuantumCircuit, execute\n",
    "# gamma= 1\n",
    "# qc = QuantumCircuit(num_qubits, num_qubits)\n",
    "# get_cost_circuit3(gamma, qc)\n",
    "# # print(qc)\n",
    "# # qc.decompose().draw('mpl')"
   ],
   "id": "a89169f1ce243674",
   "outputs": [],
   "execution_count": 20
  },
  {
   "metadata": {
    "ExecuteTime": {
     "end_time": "2024-12-16T08:12:15.871211Z",
     "start_time": "2024-12-16T08:12:15.853969Z"
    }
   },
   "cell_type": "code",
   "source": [
    "# import numpy as np\n",
    "# from qiskit import QuantumCircuit, Aer, transpile\n",
    "# from qiskit.circuit.library import RXGate, RYGate, RZZGate, RZXGate, RXXGate, RYYGate, RZZGate, RZGate\n",
    "# \n",
    "# # 添加单层算符\n",
    "# def add_layer(circuit, operator, beta):\n",
    "#     if operator == \"X\":\n",
    "#         for qubit in range(num_qubits):\n",
    "#             circuit.rx(2 * beta, qubit)\n",
    "#     elif operator == \"Y\":\n",
    "#         for qubit in range(num_qubits):\n",
    "#             circuit.ry(2 * beta, qubit)\n",
    "#     elif operator == \"XX\":\n",
    "#         for i in range(num_qubits - 1):\n",
    "#             circuit.append(RXXGate(2 * beta), [i, i + 1])\n",
    "#     elif operator == \"YY\":\n",
    "#         for i in range(num_qubits - 1):\n",
    "#             circuit.append(RYYGate(2 * beta), [i, i + 1])\n",
    "#     elif operator == \"ZZ\":\n",
    "#         for i in range(num_qubits - 1):\n",
    "#             circuit.append(RZZGate(2 * beta), [i, i + 1])\n",
    "#     elif operator == \"XZ\":\n",
    "#         for i in range(num_qubits - 1):\n",
    "#             circuit.rx(2 * beta, i)\n",
    "#             circuit.rz(2 * beta, i + 1)\n",
    "#     elif operator == \"YZ\":\n",
    "#         for i in range(num_qubits - 1):\n",
    "#             circuit.ry(2 * beta, i)\n",
    "#             circuit.rz(2 * beta, i + 1)\n"
   ],
   "id": "aeef84950b411cc8",
   "outputs": [],
   "execution_count": 56
  },
  {
   "metadata": {
    "ExecuteTime": {
     "end_time": "2024-12-16T08:12:16.323775Z",
     "start_time": "2024-12-16T08:12:16.320124Z"
    }
   },
   "cell_type": "code",
   "source": [
    "# def get_mixer_circuit(beta, qc):\n",
    "#     # beta, gamma = params[:len(params)//2], params[len(params)//2:]\n",
    "#     for i in range(num_qubits):\n",
    "#         append__mixer_term(qc, i, 2 * beta)\n",
    "#     return qc"
   ],
   "id": "45a838eedf24a21",
   "outputs": [],
   "execution_count": 57
  },
  {
   "metadata": {
    "ExecuteTime": {
     "end_time": "2024-12-16T08:12:16.875276Z",
     "start_time": "2024-12-16T08:12:16.857032Z"
    }
   },
   "cell_type": "code",
   "source": [
    "# def invert_counts(s):\n",
    "#     return s[::-1]"
   ],
   "id": "b401b61cad096d4d",
   "outputs": [],
   "execution_count": 58
  },
  {
   "metadata": {
    "ExecuteTime": {
     "end_time": "2024-12-16T08:12:17.353009Z",
     "start_time": "2024-12-16T08:12:17.334835Z"
    }
   },
   "cell_type": "code",
   "source": [
    "# from qiskit import Aer, QuantumCircuit, execute\n",
    "# # 定义成本函数\n",
    "# def cost_function(params, mix_operator):\n",
    "#     beta, gamma = params[:len(params)//2], params[len(params)//2:]\n",
    "#     num_qubits = n * N + l\n",
    "#     qc = QuantumCircuit(num_qubits, num_qubits)\n",
    "#     qc.h(range(num_qubits))\n",
    "#     # print(qc)\n",
    "#     # operator_pool = build_operator_pool(num_qubits)\n",
    "#     # operator = np.random.choice(operator_pool)\n",
    "#     \n",
    "#     length  = len(params)\n",
    "#     for i in range(int(length/2)):\n",
    "# \n",
    "#         get_cost_circuit1(gamma[i], qc)\n",
    "#         get_cost_circuit2(gamma[i], qc)\n",
    "#         get_cost_circuit3(gamma[i], qc)\n",
    "#         add_layer(qc, mix_operator, beta[i])\n",
    "#         # get_mixer_circuit(beta[i], qc)\n",
    "#     # 模拟电路\n",
    "#     # 添加测量指令\n",
    "#     qc.measure(range(num_qubits), range(num_qubits))\n",
    "#     backend = Aer.get_backend('qasm_simulator')\n",
    "#     result = execute(qc, backend, seed_simulator=10, shots=10000).result()\n",
    "#     counts = result.get_counts(qc)\n",
    "#     # 计算期望值\n",
    "#     expectation = 0\n",
    "#     for bitstring, count in counts.items():\n",
    "#         bitstring = invert_counts(bitstring)\n",
    "#         prob = count / 10000\n",
    "#         z_h = np.array([int(bit) for bit in bitstring[(n*N):]])\n",
    "#         s_ik = np.array([int(bit) for bit in bitstring[:(n*N)]]).reshape(n, N)\n",
    "#         E1 = np.sum([2 ** h * z for h, z in enumerate(z_h)])\n",
    "#         E2 = 0\n",
    "#         for j in range(len(bw)):\n",
    "#             for i in range (n):\n",
    "#                 constant = 1\n",
    "#                 for k in range (N):\n",
    "#                     constant = constant*(1-(s_ik[i,k]-bw[j,k])**2)\n",
    "#                 E2 += constant\n",
    "#         E2 = K1 * E2\n",
    "#         E3 = 0\n",
    "#         for j in range(m):\n",
    "#             constant1 = 0\n",
    "#             for i in range(n):\n",
    "#                 constant2 = 1\n",
    "#                 for k in range(N):\n",
    "#                     constant2 = constant2*(1-(s_ik[i,k]-b[j,k])**2)\n",
    "#                 constant1 += p[i,j]*constant2\n",
    "#             constant3 = 0\n",
    "#             for h in range(l):\n",
    "#                 constant3 += 2 ** h * z_h[h]\n",
    "#             constant = max(0, constant1 - constant3)\n",
    "#             E3 += P * (constant)**2\n",
    "#         E =  E1 + E2 + E3\n",
    "#   \n",
    "#         expectation += E * prob\n",
    "# \n",
    "#     return expectation, counts"
   ],
   "id": "64263ef21c05e105",
   "outputs": [],
   "execution_count": 59
  },
  {
   "metadata": {
    "ExecuteTime": {
     "end_time": "2024-12-16T08:12:17.783897Z",
     "start_time": "2024-12-16T08:12:17.769899Z"
    }
   },
   "cell_type": "code",
   "source": [
    "# from qiskit_algorithms.optimizers import COBYLA\n",
    "# \n",
    "# # 优化 QAOA 参数\n",
    "# def optimize_qaoa(params, mix_operator):\n",
    "#     def objective(params):\n",
    "#         expectation, _ = cost_function(params, mix_operator)\n",
    "# \n",
    "#         return expectation\n",
    "# \n",
    "#     optimizer = COBYLA(rhobeg = 1.5, tol = 1e-8)\n",
    "#     # params = np.random.rand(2 * p_max) * 2 * np.pi\n",
    "#     result = optimizer.minimize(fun=objective, x0=params)\n",
    "# \n",
    "#     return result"
   ],
   "id": "e9c9c9bafc078303",
   "outputs": [],
   "execution_count": 60
  },
  {
   "metadata": {
    "ExecuteTime": {
     "end_time": "2024-12-16T08:12:18.470054Z",
     "start_time": "2024-12-16T08:12:18.308387Z"
    }
   },
   "cell_type": "code",
   "source": [
    "import time\n",
    "from qiskit.visualization import plot_histogram\n",
    "\n",
    "# 算符池\n",
    "# operator_pool = [\n",
    "#     \"X\",        # X 门 \n",
    "#     \"Y\",        # Y 门\n",
    "#     \"XX\",       # XX 门\n",
    "#     \"YY\",       # YY 门\n",
    "#     \"ZZ\",       # ZZ 门\n",
    "#     \"XZ\",       # XZ 门\n",
    "#     \"YZ\"        # YZ 门\n",
    "# ]\n",
    "# 运行优化\n",
    "\n",
    "startTime = time.time()\n",
    "ansatz_final = object()\n",
    "init_point = np.array([])\n",
    "counts = {}\n",
    "min_energy = 0\n",
    "hamiltonian = cost_hamiltonian\n",
    "final_result = object()\n",
    "\n",
    "for p1 in range(1, 2):\n",
    "    min_energy = 10000\n",
    "    for k in range(5):\n",
    "        # print('第：', p1, '层', ' ', '第', k, '个参数')\n",
    "        init_point_temp = init_point\n",
    "        beta_p = np.random.uniform(0, np.pi)\n",
    "        gamma_p = np.random.uniform(0, 2 * np.pi)\n",
    "        if k > 0:\n",
    "            init_point_temp = np.delete(init_point_temp, 2 * p1 - 1)\n",
    "            init_point_temp = np.delete(init_point_temp, p1 - 1)\n",
    "        init_point_temp = np.insert(init_point_temp, p1 - 1, beta_p)\n",
    "        init_point_temp = np.insert(init_point_temp, 2 * p1 - 1, gamma_p)\n",
    "        result = optimize_qaoa(hamiltonian, init_point_temp)\n",
    "\n",
    "        # print(result.x)\n",
    "        optimal_params = result.x\n",
    "\n",
    "        # 计算最终的能量\n",
    "        energy, counts_temp = cost_function(hamiltonian, result.x)\n",
    "        if min_energy > energy:\n",
    "            min_energy = energy\n",
    "            init_point = optimal_params\n",
    "            counts = counts_temp\n",
    "            final_result = result\n",
    "endTime = time.time()\n",
    "\n",
    "# 输出结果\n",
    "print(\"优化时间：\", endTime - startTime)\n",
    "print(\"Optimal parameters:\", final_result.x)\n",
    "print(\"Optimal value:\", final_result.fun)\n",
    "# 使用最优参数运行量子电路并输出测量结果\n",
    "final_expectation, final_counts = cost_function(hamiltonian, final_result.x)\n",
    "sorted_dict = {item[0][::-1]: item[1] for item in sorted(final_counts.items(), key=lambda item: item[1], reverse=True)}\n",
    "print(\"Final expectation value:\", final_expectation)\n",
    "print(\"Final measurement counts:\", sorted_dict)\n",
    "plot_histogram(sorted_dict)"
   ],
   "id": "ffcc54bd1b854fb0",
   "outputs": [
    {
     "name": "stderr",
     "output_type": "stream",
     "text": [
      "C:\\Users\\李华宪\\AppData\\Local\\Temp\\ipykernel_21316\\411534091.py:21: DeprecationWarning: The class ``qiskit.opflow.primitive_ops.pauli_sum_op.PauliSumOp`` is deprecated as of qiskit-terra 0.24.0. It will be removed no earlier than 3 months after the release date. For code migration guidelines, visit https://qisk.it/opflow_migration.\n",
      "  hamiltonian = PauliSumOp(hamiltonian)\n",
      "C:\\Users\\李华宪\\AppData\\Local\\Temp\\ipykernel_21316\\411534091.py:22: DeprecationWarning: The class ``qiskit.opflow.evolutions.pauli_trotter_evolution.PauliTrotterEvolution`` is deprecated as of qiskit-terra 0.24.0. It will be removed no earlier than 3 months after the release date. For code migration guidelines, visit https://qisk.it/opflow_migration.\n",
      "  evolution = PauliTrotterEvolution().convert((gamma * hamiltonian).exp_i())\n"
     ]
    },
    {
     "ename": "ValueError",
     "evalue": "setting an array element with a sequence. The requested array would exceed the maximum number of dimension of 32.",
     "output_type": "error",
     "traceback": [
      "\u001B[1;31m---------------------------------------------------------------------------\u001B[0m",
      "\u001B[1;31mValueError\u001B[0m                                Traceback (most recent call last)",
      "Cell \u001B[1;32mIn[61], line 36\u001B[0m\n\u001B[0;32m     34\u001B[0m init_point_temp \u001B[38;5;241m=\u001B[39m np\u001B[38;5;241m.\u001B[39minsert(init_point_temp, p1 \u001B[38;5;241m-\u001B[39m \u001B[38;5;241m1\u001B[39m, beta_p)\n\u001B[0;32m     35\u001B[0m init_point_temp \u001B[38;5;241m=\u001B[39m np\u001B[38;5;241m.\u001B[39minsert(init_point_temp, \u001B[38;5;241m2\u001B[39m \u001B[38;5;241m*\u001B[39m p1 \u001B[38;5;241m-\u001B[39m \u001B[38;5;241m1\u001B[39m, gamma_p)\n\u001B[1;32m---> 36\u001B[0m result \u001B[38;5;241m=\u001B[39m \u001B[43moptimize_qaoa\u001B[49m\u001B[43m(\u001B[49m\u001B[43mhamiltonian\u001B[49m\u001B[43m,\u001B[49m\u001B[43m \u001B[49m\u001B[43minit_point_temp\u001B[49m\u001B[43m)\u001B[49m\n\u001B[0;32m     38\u001B[0m \u001B[38;5;66;03m# print(result.x)\u001B[39;00m\n\u001B[0;32m     39\u001B[0m optimal_params \u001B[38;5;241m=\u001B[39m result\u001B[38;5;241m.\u001B[39mx\n",
      "Cell \u001B[1;32mIn[48], line 12\u001B[0m, in \u001B[0;36moptimize_qaoa\u001B[1;34m(hamiltonian, params)\u001B[0m\n\u001B[0;32m     10\u001B[0m optimizer \u001B[38;5;241m=\u001B[39m COBYLA(rhobeg \u001B[38;5;241m=\u001B[39m \u001B[38;5;241m1.5\u001B[39m, tol \u001B[38;5;241m=\u001B[39m \u001B[38;5;241m1e-8\u001B[39m)\n\u001B[0;32m     11\u001B[0m \u001B[38;5;66;03m# params = np.random.rand(2 * p_max) * 2 * np.pi\u001B[39;00m\n\u001B[1;32m---> 12\u001B[0m result \u001B[38;5;241m=\u001B[39m \u001B[43moptimizer\u001B[49m\u001B[38;5;241;43m.\u001B[39;49m\u001B[43mminimize\u001B[49m\u001B[43m(\u001B[49m\u001B[43mfun\u001B[49m\u001B[38;5;241;43m=\u001B[39;49m\u001B[43mobjective\u001B[49m\u001B[43m,\u001B[49m\u001B[43m \u001B[49m\u001B[43mx0\u001B[49m\u001B[38;5;241;43m=\u001B[39;49m\u001B[43mparams\u001B[49m\u001B[43m)\u001B[49m\n\u001B[0;32m     14\u001B[0m \u001B[38;5;28;01mreturn\u001B[39;00m result\n",
      "File \u001B[1;32mE:\\Anaconda3\\anaconda\\envs\\FOOSP\\lib\\site-packages\\qiskit_algorithms\\optimizers\\scipy_optimizer.py:148\u001B[0m, in \u001B[0;36mSciPyOptimizer.minimize\u001B[1;34m(self, fun, x0, jac, bounds)\u001B[0m\n\u001B[0;32m    145\u001B[0m     swapped_deprecated_args \u001B[38;5;241m=\u001B[39m \u001B[38;5;28;01mTrue\u001B[39;00m\n\u001B[0;32m    146\u001B[0m     \u001B[38;5;28mself\u001B[39m\u001B[38;5;241m.\u001B[39m_options[\u001B[38;5;124m\"\u001B[39m\u001B[38;5;124mmaxfun\u001B[39m\u001B[38;5;124m\"\u001B[39m] \u001B[38;5;241m=\u001B[39m \u001B[38;5;28mself\u001B[39m\u001B[38;5;241m.\u001B[39m_options\u001B[38;5;241m.\u001B[39mpop(\u001B[38;5;124m\"\u001B[39m\u001B[38;5;124mmaxiter\u001B[39m\u001B[38;5;124m\"\u001B[39m)\n\u001B[1;32m--> 148\u001B[0m raw_result \u001B[38;5;241m=\u001B[39m \u001B[43mminimize\u001B[49m\u001B[43m(\u001B[49m\n\u001B[0;32m    149\u001B[0m \u001B[43m    \u001B[49m\u001B[43mfun\u001B[49m\u001B[38;5;241;43m=\u001B[39;49m\u001B[43mfun\u001B[49m\u001B[43m,\u001B[49m\n\u001B[0;32m    150\u001B[0m \u001B[43m    \u001B[49m\u001B[43mx0\u001B[49m\u001B[38;5;241;43m=\u001B[39;49m\u001B[43mx0\u001B[49m\u001B[43m,\u001B[49m\n\u001B[0;32m    151\u001B[0m \u001B[43m    \u001B[49m\u001B[43mmethod\u001B[49m\u001B[38;5;241;43m=\u001B[39;49m\u001B[38;5;28;43mself\u001B[39;49m\u001B[38;5;241;43m.\u001B[39;49m\u001B[43m_method\u001B[49m\u001B[43m,\u001B[49m\n\u001B[0;32m    152\u001B[0m \u001B[43m    \u001B[49m\u001B[43mjac\u001B[49m\u001B[38;5;241;43m=\u001B[39;49m\u001B[43mjac\u001B[49m\u001B[43m,\u001B[49m\n\u001B[0;32m    153\u001B[0m \u001B[43m    \u001B[49m\u001B[43mbounds\u001B[49m\u001B[38;5;241;43m=\u001B[39;49m\u001B[43mbounds\u001B[49m\u001B[43m,\u001B[49m\n\u001B[0;32m    154\u001B[0m \u001B[43m    \u001B[49m\u001B[43moptions\u001B[49m\u001B[38;5;241;43m=\u001B[39;49m\u001B[38;5;28;43mself\u001B[39;49m\u001B[38;5;241;43m.\u001B[39;49m\u001B[43m_options\u001B[49m\u001B[43m,\u001B[49m\n\u001B[0;32m    155\u001B[0m \u001B[43m    \u001B[49m\u001B[38;5;241;43m*\u001B[39;49m\u001B[38;5;241;43m*\u001B[39;49m\u001B[38;5;28;43mself\u001B[39;49m\u001B[38;5;241;43m.\u001B[39;49m\u001B[43m_kwargs\u001B[49m\u001B[43m,\u001B[49m\n\u001B[0;32m    156\u001B[0m \u001B[43m\u001B[49m\u001B[43m)\u001B[49m\n\u001B[0;32m    157\u001B[0m \u001B[38;5;28;01mif\u001B[39;00m swapped_deprecated_args:\n\u001B[0;32m    158\u001B[0m     \u001B[38;5;28mself\u001B[39m\u001B[38;5;241m.\u001B[39m_options[\u001B[38;5;124m\"\u001B[39m\u001B[38;5;124mmaxiter\u001B[39m\u001B[38;5;124m\"\u001B[39m] \u001B[38;5;241m=\u001B[39m \u001B[38;5;28mself\u001B[39m\u001B[38;5;241m.\u001B[39m_options\u001B[38;5;241m.\u001B[39mpop(\u001B[38;5;124m\"\u001B[39m\u001B[38;5;124mmaxfun\u001B[39m\u001B[38;5;124m\"\u001B[39m)\n",
      "File \u001B[1;32mE:\\Anaconda3\\anaconda\\envs\\FOOSP\\lib\\site-packages\\scipy\\optimize\\_minimize.py:702\u001B[0m, in \u001B[0;36mminimize\u001B[1;34m(fun, x0, args, method, jac, hess, hessp, bounds, constraints, tol, callback, options)\u001B[0m\n\u001B[0;32m    699\u001B[0m     res \u001B[38;5;241m=\u001B[39m _minimize_tnc(fun, x0, args, jac, bounds, callback\u001B[38;5;241m=\u001B[39mcallback,\n\u001B[0;32m    700\u001B[0m                         \u001B[38;5;241m*\u001B[39m\u001B[38;5;241m*\u001B[39moptions)\n\u001B[0;32m    701\u001B[0m \u001B[38;5;28;01melif\u001B[39;00m meth \u001B[38;5;241m==\u001B[39m \u001B[38;5;124m'\u001B[39m\u001B[38;5;124mcobyla\u001B[39m\u001B[38;5;124m'\u001B[39m:\n\u001B[1;32m--> 702\u001B[0m     res \u001B[38;5;241m=\u001B[39m \u001B[43m_minimize_cobyla\u001B[49m\u001B[43m(\u001B[49m\u001B[43mfun\u001B[49m\u001B[43m,\u001B[49m\u001B[43m \u001B[49m\u001B[43mx0\u001B[49m\u001B[43m,\u001B[49m\u001B[43m \u001B[49m\u001B[43margs\u001B[49m\u001B[43m,\u001B[49m\u001B[43m \u001B[49m\u001B[43mconstraints\u001B[49m\u001B[43m,\u001B[49m\u001B[43m \u001B[49m\u001B[43mcallback\u001B[49m\u001B[38;5;241;43m=\u001B[39;49m\u001B[43mcallback\u001B[49m\u001B[43m,\u001B[49m\n\u001B[0;32m    703\u001B[0m \u001B[43m                            \u001B[49m\u001B[38;5;241;43m*\u001B[39;49m\u001B[38;5;241;43m*\u001B[39;49m\u001B[43moptions\u001B[49m\u001B[43m)\u001B[49m\n\u001B[0;32m    704\u001B[0m \u001B[38;5;28;01melif\u001B[39;00m meth \u001B[38;5;241m==\u001B[39m \u001B[38;5;124m'\u001B[39m\u001B[38;5;124mslsqp\u001B[39m\u001B[38;5;124m'\u001B[39m:\n\u001B[0;32m    705\u001B[0m     res \u001B[38;5;241m=\u001B[39m _minimize_slsqp(fun, x0, args, jac, bounds,\n\u001B[0;32m    706\u001B[0m                           constraints, callback\u001B[38;5;241m=\u001B[39mcallback, \u001B[38;5;241m*\u001B[39m\u001B[38;5;241m*\u001B[39moptions)\n",
      "File \u001B[1;32mE:\\Anaconda3\\anaconda\\envs\\FOOSP\\lib\\site-packages\\scipy\\optimize\\_cobyla_py.py:34\u001B[0m, in \u001B[0;36msynchronized.<locals>.wrapper\u001B[1;34m(*args, **kwargs)\u001B[0m\n\u001B[0;32m     31\u001B[0m \u001B[38;5;129m@functools\u001B[39m\u001B[38;5;241m.\u001B[39mwraps(func)\n\u001B[0;32m     32\u001B[0m \u001B[38;5;28;01mdef\u001B[39;00m \u001B[38;5;21mwrapper\u001B[39m(\u001B[38;5;241m*\u001B[39margs, \u001B[38;5;241m*\u001B[39m\u001B[38;5;241m*\u001B[39mkwargs):\n\u001B[0;32m     33\u001B[0m     \u001B[38;5;28;01mwith\u001B[39;00m _module_lock:\n\u001B[1;32m---> 34\u001B[0m         \u001B[38;5;28;01mreturn\u001B[39;00m \u001B[43mfunc\u001B[49m\u001B[43m(\u001B[49m\u001B[38;5;241;43m*\u001B[39;49m\u001B[43margs\u001B[49m\u001B[43m,\u001B[49m\u001B[43m \u001B[49m\u001B[38;5;241;43m*\u001B[39;49m\u001B[38;5;241;43m*\u001B[39;49m\u001B[43mkwargs\u001B[49m\u001B[43m)\u001B[49m\n",
      "File \u001B[1;32mE:\\Anaconda3\\anaconda\\envs\\FOOSP\\lib\\site-packages\\scipy\\optimize\\_cobyla_py.py:270\u001B[0m, in \u001B[0;36m_minimize_cobyla\u001B[1;34m(fun, x0, args, constraints, rhobeg, tol, maxiter, disp, catol, callback, **unknown_options)\u001B[0m\n\u001B[0;32m    267\u001B[0m         callback(np\u001B[38;5;241m.\u001B[39mcopy(x))\n\u001B[0;32m    269\u001B[0m info \u001B[38;5;241m=\u001B[39m np\u001B[38;5;241m.\u001B[39mzeros(\u001B[38;5;241m4\u001B[39m, np\u001B[38;5;241m.\u001B[39mfloat64)\n\u001B[1;32m--> 270\u001B[0m xopt, info \u001B[38;5;241m=\u001B[39m \u001B[43mcobyla\u001B[49m\u001B[38;5;241;43m.\u001B[39;49m\u001B[43mminimize\u001B[49m\u001B[43m(\u001B[49m\u001B[43mcalcfc\u001B[49m\u001B[43m,\u001B[49m\u001B[43m \u001B[49m\u001B[43mm\u001B[49m\u001B[38;5;241;43m=\u001B[39;49m\u001B[43mm\u001B[49m\u001B[43m,\u001B[49m\u001B[43m \u001B[49m\u001B[43mx\u001B[49m\u001B[38;5;241;43m=\u001B[39;49m\u001B[43mnp\u001B[49m\u001B[38;5;241;43m.\u001B[39;49m\u001B[43mcopy\u001B[49m\u001B[43m(\u001B[49m\u001B[43mx0\u001B[49m\u001B[43m)\u001B[49m\u001B[43m,\u001B[49m\u001B[43m \u001B[49m\u001B[43mrhobeg\u001B[49m\u001B[38;5;241;43m=\u001B[39;49m\u001B[43mrhobeg\u001B[49m\u001B[43m,\u001B[49m\n\u001B[0;32m    271\u001B[0m \u001B[43m                              \u001B[49m\u001B[43mrhoend\u001B[49m\u001B[38;5;241;43m=\u001B[39;49m\u001B[43mrhoend\u001B[49m\u001B[43m,\u001B[49m\u001B[43m \u001B[49m\u001B[43miprint\u001B[49m\u001B[38;5;241;43m=\u001B[39;49m\u001B[43miprint\u001B[49m\u001B[43m,\u001B[49m\u001B[43m \u001B[49m\u001B[43mmaxfun\u001B[49m\u001B[38;5;241;43m=\u001B[39;49m\u001B[43mmaxfun\u001B[49m\u001B[43m,\u001B[49m\n\u001B[0;32m    272\u001B[0m \u001B[43m                              \u001B[49m\u001B[43mdinfo\u001B[49m\u001B[38;5;241;43m=\u001B[39;49m\u001B[43minfo\u001B[49m\u001B[43m,\u001B[49m\u001B[43m \u001B[49m\u001B[43mcallback\u001B[49m\u001B[38;5;241;43m=\u001B[39;49m\u001B[43mwrapped_callback\u001B[49m\u001B[43m)\u001B[49m\n\u001B[0;32m    274\u001B[0m \u001B[38;5;28;01mif\u001B[39;00m info[\u001B[38;5;241m3\u001B[39m] \u001B[38;5;241m>\u001B[39m catol:\n\u001B[0;32m    275\u001B[0m     \u001B[38;5;66;03m# Check constraint violation\u001B[39;00m\n\u001B[0;32m    276\u001B[0m     info[\u001B[38;5;241m0\u001B[39m] \u001B[38;5;241m=\u001B[39m \u001B[38;5;241m4\u001B[39m\n",
      "File \u001B[1;32mE:\\Anaconda3\\anaconda\\envs\\FOOSP\\lib\\site-packages\\scipy\\optimize\\_cobyla_py.py:258\u001B[0m, in \u001B[0;36m_minimize_cobyla.<locals>.calcfc\u001B[1;34m(x, con)\u001B[0m\n\u001B[0;32m    257\u001B[0m \u001B[38;5;28;01mdef\u001B[39;00m \u001B[38;5;21mcalcfc\u001B[39m(x, con):\n\u001B[1;32m--> 258\u001B[0m     f \u001B[38;5;241m=\u001B[39m \u001B[43mfun\u001B[49m\u001B[43m(\u001B[49m\u001B[43mnp\u001B[49m\u001B[38;5;241;43m.\u001B[39;49m\u001B[43mcopy\u001B[49m\u001B[43m(\u001B[49m\u001B[43mx\u001B[49m\u001B[43m)\u001B[49m\u001B[43m,\u001B[49m\u001B[43m \u001B[49m\u001B[38;5;241;43m*\u001B[39;49m\u001B[43margs\u001B[49m\u001B[43m)\u001B[49m\n\u001B[0;32m    259\u001B[0m     i \u001B[38;5;241m=\u001B[39m \u001B[38;5;241m0\u001B[39m\n\u001B[0;32m    260\u001B[0m     \u001B[38;5;28;01mfor\u001B[39;00m size, c \u001B[38;5;129;01min\u001B[39;00m izip(cons_lengths, constraints):\n",
      "Cell \u001B[1;32mIn[48], line 6\u001B[0m, in \u001B[0;36moptimize_qaoa.<locals>.objective\u001B[1;34m(params)\u001B[0m\n\u001B[0;32m      5\u001B[0m \u001B[38;5;28;01mdef\u001B[39;00m \u001B[38;5;21mobjective\u001B[39m(params):\n\u001B[1;32m----> 6\u001B[0m     expectation, _ , grade\u001B[38;5;241m=\u001B[39m \u001B[43mcost_function\u001B[49m\u001B[43m(\u001B[49m\u001B[43mhamiltonian\u001B[49m\u001B[43m,\u001B[49m\u001B[43m \u001B[49m\u001B[43mparams\u001B[49m\u001B[43m)\u001B[49m\n\u001B[0;32m      8\u001B[0m     \u001B[38;5;28;01mreturn\u001B[39;00m expectation\n",
      "Cell \u001B[1;32mIn[47], line 18\u001B[0m, in \u001B[0;36mcost_function\u001B[1;34m(hamiltonian, params)\u001B[0m\n\u001B[0;32m     14\u001B[0m best_operator \u001B[38;5;241m=\u001B[39m \u001B[38;5;28;01mNone\u001B[39;00m\n\u001B[0;32m     16\u001B[0m \u001B[38;5;28;01mfor\u001B[39;00m operator \u001B[38;5;129;01min\u001B[39;00m mixer_pool:\n\u001B[0;32m     17\u001B[0m     \u001B[38;5;66;03m# 比较绝对值找到最大梯度\u001B[39;00m\n\u001B[1;32m---> 18\u001B[0m     grad \u001B[38;5;241m=\u001B[39m \u001B[43mcompute_gradient_via_commutator\u001B[49m\u001B[43m(\u001B[49m\u001B[43mhamiltonian\u001B[49m\u001B[43m,\u001B[49m\u001B[43m \u001B[49m\u001B[43moperator\u001B[49m\u001B[43m,\u001B[49m\u001B[43m \u001B[49m\u001B[43mgamma\u001B[49m\u001B[43m[\u001B[49m\u001B[38;5;28;43mlen\u001B[39;49m\u001B[43m(\u001B[49m\u001B[43mgamma\u001B[49m\u001B[43m)\u001B[49m\u001B[38;5;241;43m-\u001B[39;49m\u001B[38;5;241;43m1\u001B[39;49m\u001B[43m]\u001B[49m\u001B[43m)\u001B[49m\n\u001B[0;32m     19\u001B[0m     \u001B[38;5;28;01mif\u001B[39;00m \u001B[38;5;28mabs\u001B[39m(grad) \u001B[38;5;241m>\u001B[39m \u001B[38;5;28mabs\u001B[39m(max_gradient):\n\u001B[0;32m     20\u001B[0m         max_gradient \u001B[38;5;241m=\u001B[39m grad\n",
      "Cell \u001B[1;32mIn[46], line 22\u001B[0m, in \u001B[0;36mcompute_gradient_via_commutator\u001B[1;34m(hamiltonian, operator, gamma)\u001B[0m\n\u001B[0;32m     18\u001B[0m \u001B[38;5;66;03m# qc.append(PauliEvolutionGate(hamiltonian, gamma), list(range(num_qubits)))\u001B[39;00m\n\u001B[0;32m     19\u001B[0m \u001B[38;5;66;03m# 转换为 PauliSumOp\u001B[39;00m\n\u001B[0;32m     20\u001B[0m \u001B[38;5;66;03m# 使用 PauliTrotterEvolution 创建演化电路\u001B[39;00m\n\u001B[0;32m     21\u001B[0m hamiltonian \u001B[38;5;241m=\u001B[39m PauliSumOp(hamiltonian)\n\u001B[1;32m---> 22\u001B[0m evolution \u001B[38;5;241m=\u001B[39m PauliTrotterEvolution()\u001B[38;5;241m.\u001B[39mconvert((\u001B[43mgamma\u001B[49m\u001B[43m \u001B[49m\u001B[38;5;241;43m*\u001B[39;49m\u001B[43m \u001B[49m\u001B[43mhamiltonian\u001B[49m)\u001B[38;5;241m.\u001B[39mexp_i())\n\u001B[0;32m     23\u001B[0m evolution_circuit \u001B[38;5;241m=\u001B[39m evolution\u001B[38;5;241m.\u001B[39mto_circuit()\n\u001B[0;32m     24\u001B[0m qc \u001B[38;5;241m=\u001B[39m qc\u001B[38;5;241m.\u001B[39mcompose(evolution_circuit, qubits\u001B[38;5;241m=\u001B[39m\u001B[38;5;28mrange\u001B[39m(num_qubits))  \u001B[38;5;66;03m# 确保电路合成正确\u001B[39;00m\n",
      "\u001B[1;31mValueError\u001B[0m: setting an array element with a sequence. The requested array would exceed the maximum number of dimension of 32."
     ]
    }
   ],
   "execution_count": 61
  },
  {
   "metadata": {
    "ExecuteTime": {
     "end_time": "2024-12-16T08:09:54.621989800Z",
     "start_time": "2024-12-09T13:21:12.380908Z"
    }
   },
   "cell_type": "code",
   "source": [
    "# from qiskit.visualization import plot_histogram\n",
    "# \n",
    "# # 输出结果\n",
    "# print(\"优化时间：\", endTime - startTime)\n",
    "# print(\"Optimal parameters:\", final_result.x)\n",
    "# print(\"Optimal value:\", final_result.fun)\n",
    "# # 使用最优参数运行量子电路并输出测量结果\n",
    "# final_expectation, final_counts = cost_function(final_result.x)\n",
    "# sorted_dict = {item[0][::-1]: item[1] for item in sorted(final_counts.items(), key=lambda item: item[1], reverse=True)}\n",
    "# print(\"Final expectation value:\", final_expectation)\n",
    "# print(\"Final measurement counts:\", sorted_dict)\n",
    "# plot_histogram(sorted_dict)"
   ],
   "id": "4261bc08a9ed929f",
   "outputs": [],
   "execution_count": 93
  },
  {
   "metadata": {},
   "cell_type": "code",
   "source": [
    "expectation = 0\n",
    "bitstring = \"11111\"\n",
    "z_h = np.array([int(bit) for bit in bitstring[(n * N):]])\n",
    "s_ik = np.array([int(bit) for bit in bitstring[:(n * N)]]).reshape(n, N)\n",
    "E1 = np.sum([2 ** h * z for h, z in enumerate(z_h)])\n",
    "E2 = 0\n",
    "for j in range(len(bw)):\n",
    "    for i in range(n):\n",
    "        constant = 1\n",
    "        for k in range(N):\n",
    "            constant = constant * (1 - (s_ik[i, k] - bw[j, k]) ** 2)\n",
    "        E2 += constant\n",
    "E2 = K1 * E2\n",
    "E3 = 0\n",
    "for j in range(m):\n",
    "    constant1 = 0\n",
    "    # print(\"机器：\", j)\n",
    "    for i in range(n):\n",
    "        constant2 = 1\n",
    "        for k in range(N):\n",
    "            constant2 = constant2 * (1 - (s_ik[i, k] - b[j, k]) ** 2)\n",
    "        # print(\"constant2:\", constant2)\n",
    "        # print(\"p[i,j]:\", p[i,j])\n",
    "        constant1 += p[i, j] * constant2\n",
    "    # print(\"constant1:\", constant1)\n",
    "    constant3 = 0\n",
    "    for h in range(l):\n",
    "        constant3 += 2 ** h * z_h[h]\n",
    "    # print(\"constant3:\", constant3)\n",
    "    constant = max(0, constant1 - constant3)\n",
    "    E3 += (constant) ** 2\n",
    "\n",
    "    # alpha_s = np.max([0, np.sum(x_ij * p) - np.sum([2 ** h * z for h, z in enumerate(z_h)])])\n",
    "\n",
    "E = E1 + K1 * E2 + P * E3\n",
    "print(E1)\n",
    "print(E2)\n",
    "print(E3)\n",
    "print(E)\n",
    "# print(e1)\n",
    "# print(e2)"
   ],
   "id": "17d987eaf3be8f0f",
   "outputs": [],
   "execution_count": null
  }
 ],
 "metadata": {
  "kernelspec": {
   "display_name": "Python 3",
   "language": "python",
   "name": "python3"
  },
  "language_info": {
   "codemirror_mode": {
    "name": "ipython",
    "version": 2
   },
   "file_extension": ".py",
   "mimetype": "text/x-python",
   "name": "python",
   "nbconvert_exporter": "python",
   "pygments_lexer": "ipython2",
   "version": "2.7.6"
  }
 },
 "nbformat": 4,
 "nbformat_minor": 5
}
