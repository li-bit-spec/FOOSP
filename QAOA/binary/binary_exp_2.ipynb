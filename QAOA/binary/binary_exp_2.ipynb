{
 "cells": [
  {
   "metadata": {
    "collapsed": true,
    "ExecuteTime": {
     "end_time": "2024-11-06T07:44:23.238273Z",
     "start_time": "2024-11-06T07:44:23.189402Z"
    }
   },
   "cell_type": "code",
   "source": [
    "import numpy as np\n",
    "# 假设有 3 台机器和 3 个操作\n",
    "m = 3 # 机器数量\n",
    "N = 2 # 表示机器的二进制 (0, 1)\n",
    "n = 3 # 操作数量\n",
    "l = 1  # 用于表示 C_max 的二进制位数\n",
    "\n",
    "# 处理时间矩阵 (例如)\n",
    "p = np.array([[1, 2, 3],[2, 3, 1],[2, 1, 3]])\n",
    "\n",
    "b = np.array([[0, 0],[1, 0] ,[0, 1]])\n",
    "# 非法数组(用于表示机器数)(1, 1)\n",
    "bw = np.array([[1, 1]])\n",
    "# 常数\n",
    "K1 = 100\n",
    "P = 30\n",
    "# print(len(bw))\n",
    "# 量子比特数量\n",
    "num_qubits = n * N + l"
   ],
   "id": "initial_id",
   "outputs": [],
   "execution_count": 144
  },
  {
   "metadata": {
    "ExecuteTime": {
     "end_time": "2024-11-06T07:44:23.423549Z",
     "start_time": "2024-11-06T07:44:23.408041Z"
    }
   },
   "cell_type": "code",
   "source": [
    "def append_multi_rzz_term(qc, qubits, gamma): \n",
    "    \"\"\"\n",
    "    构建一个类RZZ门，n-1个控制位，1个目标位，进行旋转操作。\n",
    "    参数:\n",
    "    control_qubits: List[int]，控制量子比特的索引\n",
    "    target_qubit: int，目标量子比特的索引\n",
    "    \"\"\"\n",
    "    if len(qubits)==1:\n",
    "        qc.rz(gamma, qubits[0])\n",
    "    else:\n",
    "        control_qubits = qubits[:N-1]\n",
    "       \n",
    "        target_qubit = qubits[N-1:]\n",
    "       \n",
    "        n_controls = len(control_qubits)\n",
    "        if n_controls == 1:     \n",
    "            qc.cx(control_qubits[0],target_qubit[0])\n",
    "        else:\n",
    "            qc.mcx(control_qubits, target_qubit[0])\n",
    "        qc.rz(gamma, target_qubit[0])\n",
    "        if n_controls == 1:\n",
    "            qc.cx(control_qubits[0], target_qubit[0])\n",
    "        else:\n",
    "            qc.mcx(control_qubits, target_qubit[0])"
   ],
   "id": "744d1188245ca22d",
   "outputs": [],
   "execution_count": 145
  },
  {
   "metadata": {
    "ExecuteTime": {
     "end_time": "2024-11-06T07:44:23.656169Z",
     "start_time": "2024-11-06T07:44:23.641161Z"
    }
   },
   "cell_type": "code",
   "source": [
    "def append__zz_term( qc, qubit1, qubit2, gamma):\n",
    "    qc.cx(qubit1, qubit2)\n",
    "    qc.rz(gamma, qubit2)\n",
    "    qc.cx(qubit1, qubit2)\n",
    "\n",
    "def append__z_term(qc, qubit, gamma):\n",
    "    qc.rz(gamma, qubit)\n",
    "def append__mixer_term(qc, qubit, beta):\n",
    "    qc.rx(2 * beta, qubit)"
   ],
   "id": "78cd574ca18acceb",
   "outputs": [],
   "execution_count": 146
  },
  {
   "metadata": {
    "ExecuteTime": {
     "end_time": "2024-11-06T07:44:24.029582Z",
     "start_time": "2024-11-06T07:44:24.023591Z"
    }
   },
   "cell_type": "code",
   "source": [
    "def get_cost_circuit1(gamma, qc):\n",
    "    for h in range(l):\n",
    "        coef = - 2**h\n",
    "        append__z_term(qc, N * n + h, coef * gamma)\n",
    "    return qc"
   ],
   "id": "a177ac766f2e3c4b",
   "outputs": [],
   "execution_count": 147
  },
  {
   "metadata": {},
   "cell_type": "markdown",
   "source": "\\begin{align}K_{1} \\sum_{j\\in W} \\sum_{i=0}^{n}\\prod_{k=0}^{N}\\left(\\frac{1}2+\\left(\\frac{1}2-b_{j k}\\right)Z_{ik}\\right)\\end{align}",
   "id": "6d569514dfbbda71"
  },
  {
   "metadata": {
    "ExecuteTime": {
     "end_time": "2024-11-06T07:44:24.758780Z",
     "start_time": "2024-11-06T07:44:24.747767Z"
    }
   },
   "cell_type": "code",
   "source": [
    "import itertools\n",
    "def get_cost_circuit2(gamma, qc):\n",
    "    # print(len(bw))\n",
    "    if len(bw) == 0:\n",
    "        return qc\n",
    "    all_combinations = list(itertools.chain(*(itertools.combinations(range(N), r) for r in range(1, N + 1))))\n",
    "    for j in range(len(bw)):\n",
    "        for i in range(n):\n",
    "            constant = 1 / (2 ** N)  # 系数 1/2^N  \n",
    "            for qubit_indices in all_combinations: # 遍历各种组合\n",
    "                qubits_index = np.array([], dtype=int)\n",
    "                # 根据组合项生成子项的常数和qubit索引\n",
    "                for k in range(N):\n",
    "                    constant *= (1 - 2 * bw[j, k]) if k in qubit_indices else 1\n",
    "                    if k in qubit_indices:\n",
    "                        qubits_index = np.append(qubits_index, i * N + k)\n",
    "                # print(\"qubits_index\", qubits_index)\n",
    "                append_multi_rzz_term(qc, qubits_index, 2 * K1 * constant * gamma)\n",
    "    return qc\n"
   ],
   "id": "67570f9028e40f9",
   "outputs": [],
   "execution_count": 148
  },
  {
   "metadata": {},
   "cell_type": "markdown",
   "source": "\\begin{align}\\sum_{h=0}^{l} 2^{h-1} \\end{align}",
   "id": "376ffe7d1004650c"
  },
  {
   "metadata": {
    "ExecuteTime": {
     "end_time": "2024-11-06T07:44:25.939571Z",
     "start_time": "2024-11-06T07:44:25.931580Z"
    }
   },
   "cell_type": "code",
   "source": [
    "# from qiskit import Aer, QuantumCircuit, execute\n",
    "# gamma= 1\n",
    "# qc = QuantumCircuit(num_qubits, num_qubits)\n",
    "# # qc.h(range(num_qubits))\n",
    "# # print(qc)\n",
    "# get_cost_circuit2(gamma, qc)\n",
    "# print(qc)\n",
    "# qc.decompose().draw('mpl')"
   ],
   "id": "ca86b2b4241df26d",
   "outputs": [],
   "execution_count": 149
  },
  {
   "metadata": {},
   "cell_type": "markdown",
   "source": [
    "\\begin{align}\\sum_{j=0}^{m-1}\\sum_{i=0}^{n-1} \\sum_{i^{\\prime}=0}^{n-1}\\left(\\prod_{k=0}^{N-1}\\frac{1}{2}\\left(1+\\left(1-2b_{j k}\\right) Z_{i k}\\right)\\right) p_{i j}\\left(\\prod_{k^{\\prime}=0}^{N-1}\\frac{1}{2}\\left(1+\\left(1-2b_{j k}\\right) Z_{i^{\\prime} k^{\\prime}}\\right)\\right) p_{i^{\\prime} j}\\end{align}\n",
    "\\begin{align}-2 \\sum_{j=0}^{m-1} \\sum_{i=0}^{n-1} \\sum_{h=0}^{l-1} \\left(\\prod_{k=0}^{N-1}\\frac{1}{2}\\left(1+\\left(1-2b_{j k}\\right) Z_{i k}\\right)\\right) p_{i j} \\cdot 2^{h-1}\\left(1-Z_h\\right)\\end{align}\n",
    "\\begin{align}\\sum_{j=0}^{m-1}\\sum_{h=0}^{l-1} \\sum_{h^{\\prime}=0}^{l-1} 2^{h-1} 2^{h^{\\prime}-1}\\left(1-Z_h-Z_{h^{\\prime}}+Z_h Z_{h^{\\prime}}\\right)\\end{align}"
   ],
   "id": "8923b57427f69dec"
  },
  {
   "metadata": {
    "ExecuteTime": {
     "end_time": "2024-11-06T07:44:27.023839Z",
     "start_time": "2024-11-06T07:44:26.988312Z"
    }
   },
   "cell_type": "code",
   "source": [
    "# import itertools\n",
    "from collections import Counter\n",
    "\n",
    "def get_cost_circuit3(gamma, qc):\n",
    "    for j in range(len(b)):\n",
    "        # 对应12, 13, 23, 45, 46, 56\n",
    "        for i in range(n): # 自身内部相乘，对应12, 13, 23, 45, 46, 56\n",
    "            all_combinations_1 = list(itertools.chain(*(itertools.combinations(range(N), r) for r in range(1, N + 1))))\n",
    "            # 获取 all_combinations_1 中任意两项的所有组合\n",
    "            all_two_combinations = list(itertools.combinations(all_combinations_1, 2))\n",
    "            for qubit_indices in all_two_combinations: # 遍历各种组合\n",
    "                # print(\"qubit_indices\", qubit_indices)\n",
    "                # sub_constant = constant\n",
    "                qubits_index = np.array([], dtype=int)\n",
    "                constant = 1\n",
    "                # 将组合对中的每个元素（每个元素本身也是一个组合）放入数组\n",
    "                for combo in qubit_indices: # qubit_indices: ((0,), (1,)) \n",
    "                    for k in combo: # combo: (0,)\n",
    "                        constant = constant * (1 - 2 * b[j, k])\n",
    "                        qubits_index = np.append(qubits_index, i * N + k)\n",
    "                    # 将组合项中的所有元素添加到 qubits_index 中\n",
    "                # 剔除出现偶次数的项，奇次数的项保留一个\n",
    "\n",
    "                count = Counter(qubits_index)\n",
    "                # 仅保留出现次数为奇数的元素一次\n",
    "                qubits_index = [x for x in count if count[x] % 2 != 0]\n",
    "                # print(\"qubits_index\", qubits_index)\n",
    "                constant = 1/(2 ** (2 * N)) * constant * p[i, j] * p[i, j]\n",
    "                append_multi_rzz_term(qc,qubits_index , 2 * P * constant * gamma)\n",
    "\n",
    "        # 2，对应14, 15, 16, 24, 25, 26, 34, 35, 36\n",
    "        all_combinations_1 = list(itertools.chain(*(itertools.combinations(range(N), r) for r in range(1, N + 1))))  \n",
    "        all_combinations_2 = list(itertools.chain(*(itertools.combinations(range(N), r) for r in range(1, N + 1))))  \n",
    "        for i1 in range(n - 1): # 自身内部相乘，对应14, 15, 16, 24, 25, 26, 34, 35, 36\n",
    "            for i2 in range(i1 + 1, n): # 自身内部相乘，对应23, 45, 46, 56\n",
    "                for qubit_indices_1 in all_combinations_1:\n",
    "                    # print(\"qubit_indices1\", qubit_indices_1)\n",
    "                    for qubit_indices_2 in all_combinations_2:\n",
    "                        # print(\"qubit_indices2\", qubit_indices_2)\n",
    "                        qubits_index = np.array([], dtype=int)\n",
    "                        constant = 1\n",
    "                        for k1 in qubit_indices_1: # qubit_indices: ((0,), (1,))\n",
    "                            constant = constant * (1 - 2 * b[j, k1])\n",
    "                            qubits_index = np.append(qubits_index, i1 * N + k1)\n",
    "                        for k2 in qubit_indices_2: # qubit_indices: ((0,), (1,))\n",
    "                            constant = constant * (1 - 2 * b[j, k2])\n",
    "                            qubits_index = np.append(qubits_index, i2 * N + k2)\n",
    "                        constant = 1/(2 ** (2 * N)) * constant * p[i1, j] * p[i2, j]\n",
    "                        # print(\"qubits_index\", qubits_index)\n",
    "                        append_multi_rzz_term(qc,qubits_index ,2 * P * constant * gamma)\n",
    "\n",
    "\n",
    "        # 对应01,02,03,74,75,76\n",
    "        all_combinations = list(itertools.chain(*(itertools.combinations(range(N), r) for r in range(1, N + 1))))\n",
    "        for i1 in range(n): # 取常数 1 固定一个为 p[i_1, j]\n",
    "            for i2 in range(n): # 取 Z 的下标 Z_i2k\n",
    "                for qubit_indices in all_combinations: # 取 排列组合\n",
    "                    qubits_index = np.array([], dtype=int)\n",
    "                    constant = 1\n",
    "                    for k in qubit_indices:\n",
    "                        constant = constant * (1 - 2 * b[j, k])\n",
    "                        qubits_index = np.append(qubits_index, i2 * N + k)\n",
    "                    constant = 1/(2 ** (2 * N)) * constant * p[i1, j] * p[i2, j]\n",
    "                    # print(\"qubits_index\", qubits_index)\n",
    "                    append_multi_rzz_term(qc,qubits_index ,2 * P * constant * gamma)\n",
    "        \n",
    "        \n",
    "        all_combinations = list(itertools.chain(*(itertools.combinations(range(N), r) for r in range(1, N + 1))))\n",
    "        for i in range(n):\n",
    "            constant = 1 / (2 ** N) * p[i, j]# 系数 \n",
    "            \n",
    "            for qubit_indices in all_combinations: # 遍历各种组合\n",
    "                constant1 = constant\n",
    "                qubits_index = np.array([], dtype=int)\n",
    "                # 根据组合项生成子项的常数和qubit索引\n",
    "                for k in range(N):\n",
    "                    constant1 *= (1 - 2 * b[j, k]) if k in qubit_indices else 1\n",
    "                    if k in qubit_indices:\n",
    "                        qubits_index = np.append(qubits_index, i * N + k)            \n",
    "                constant1 = constant1 * (sum(2**(h - 1) for h in range(l))) * (-2)\n",
    "                append_multi_rzz_term(qc, qubits_index, 2 * P * constant1 * gamma)\n",
    "            \n",
    "            for h in range(l):\n",
    "                for qubit_indices in all_combinations: # 遍历各种组合\n",
    "                    constant2 = constant\n",
    "                    qubits_index = np.array([], dtype=int)\n",
    "                    # 根据组合项生成子项的常数和qubit索引\n",
    "                    for k in range(N):\n",
    "                        constant2 *= (1 - 2 * b[j, k]) if k in qubit_indices else 1\n",
    "                        if k in qubit_indices:\n",
    "                            qubits_index = np.append(qubits_index, i * N + k)\n",
    "\n",
    "                    qubits_index = np.append(qubits_index, n * N + h)\n",
    "                    # print(\"qubits_index_hz\", qubits_index)\n",
    "                    constant2 = constant2 * (2**(h-1)) * 2\n",
    "                    append_multi_rzz_term(qc, qubits_index, 2 * P * constant2 * gamma)\n",
    "            \n",
    "            for h in range(l):\n",
    "                constant3 = constant\n",
    "                qubits_index = np.array([], dtype=int)\n",
    "                # 根据组合项生成子项的常数和qubit索引\n",
    "                qubits_index = np.append(qubits_index, n * N + h)\n",
    "                # print(\"qubits_index_hz\", qubits_index)\n",
    "                constant3 = constant3 * (2**(h-1)) * 2\n",
    "                append_multi_rzz_term(qc, qubits_index, 2 * P * constant3 * gamma)\n",
    "            \n",
    "        \n",
    "        for h1 in range(l):  # 遍历 h 的范围\n",
    "            for h2 in range(l):  # 遍历 h' 的范围\n",
    "                coef = 2 ** (h1 - 1) * 2 ** (h2 - 1)  # 计算系数权重\n",
    "\n",
    "                # -Z_h1 项\n",
    "                append__z_term(qc, n * N + h1, 2 * P * coef * gamma)\n",
    "\n",
    "                # -Z_h2 项\n",
    "                append__z_term(qc, n * N + h2, 2 * P * coef * gamma)\n",
    "\n",
    "                # Z_h1 Z_h2 项\n",
    "                if h1 != h2:  # 避免重复\n",
    "                    append__zz_term(qc, n * N + h1, n * N + h2, 2 * P * coef * gamma)\n",
    "\n",
    "                    \n",
    "                "
   ],
   "id": "1036d966c797837b",
   "outputs": [],
   "execution_count": 150
  },
  {
   "metadata": {
    "ExecuteTime": {
     "end_time": "2024-11-06T07:44:27.522862Z",
     "start_time": "2024-11-06T07:44:27.510862Z"
    }
   },
   "cell_type": "code",
   "source": [
    "# from qiskit import Aer, QuantumCircuit, execute\n",
    "# gamma= 1\n",
    "# qc = QuantumCircuit(num_qubits, num_qubits)\n",
    "# get_cost_circuit3(gamma, qc)\n",
    "# print(qc)\n",
    "# qc.decompose().draw('mpl')"
   ],
   "id": "a89169f1ce243674",
   "outputs": [],
   "execution_count": 151
  },
  {
   "metadata": {
    "ExecuteTime": {
     "end_time": "2024-11-06T07:44:28.051942Z",
     "start_time": "2024-11-06T07:44:28.039942Z"
    }
   },
   "cell_type": "code",
   "source": [
    "def get_mixer_circuit(beta, qc):\n",
    "    # beta, gamma = params[:len(params)//2], params[len(params)//2:]\n",
    "    for i in range(num_qubits):\n",
    "        append__mixer_term(qc, i, beta)\n",
    "    return qc"
   ],
   "id": "45a838eedf24a21",
   "outputs": [],
   "execution_count": 152
  },
  {
   "metadata": {
    "ExecuteTime": {
     "end_time": "2024-11-06T07:44:28.533095Z",
     "start_time": "2024-11-06T07:44:28.523581Z"
    }
   },
   "cell_type": "code",
   "source": [
    "def invert_counts(s):\n",
    "    return s[::-1]"
   ],
   "id": "b401b61cad096d4d",
   "outputs": [],
   "execution_count": 153
  },
  {
   "metadata": {
    "ExecuteTime": {
     "end_time": "2024-11-06T07:44:29.090007Z",
     "start_time": "2024-11-06T07:44:29.064999Z"
    }
   },
   "cell_type": "code",
   "source": [
    "from qiskit import Aer, QuantumCircuit, execute\n",
    "# 定义成本函数\n",
    "def cost_function(params):\n",
    "    beta, gamma = params[:len(params)//2], params[len(params)//2:]\n",
    "    num_qubits = n * N + l\n",
    "    qc = QuantumCircuit(num_qubits, num_qubits)\n",
    "    qc.h(range(num_qubits))\n",
    "    # print(qc)\n",
    "\n",
    "    length  = len(params)\n",
    "    for i in range(int(length/2)):\n",
    "\n",
    "        get_cost_circuit1(gamma[i], qc)\n",
    "        get_cost_circuit2(gamma[i], qc)\n",
    "        get_cost_circuit3(gamma[i], qc)\n",
    "        get_mixer_circuit(beta[i], qc)\n",
    "    # 模拟电路\n",
    "    # 添加测量指令\n",
    "    qc.measure(range(num_qubits), range(num_qubits))\n",
    "    backend = Aer.get_backend('qasm_simulator')\n",
    "    result = execute(qc, backend, seed_simulator=10, shots=10000).result()\n",
    "    counts = result.get_counts(qc)\n",
    "    # 计算期望值\n",
    "    expectation = 0\n",
    "    for bitstring, count in counts.items():\n",
    "        bitstring = invert_counts(bitstring)\n",
    "        prob = count / 10000\n",
    "        z_h = np.array([int(bit) for bit in bitstring[(n*N):]])\n",
    "        s_ik = np.array([int(bit) for bit in bitstring[:(n*N)]]).reshape(n, N)\n",
    "        E1 = np.sum([2 ** h * z for h, z in enumerate(z_h)])\n",
    "        E2 = 0\n",
    "        for j in range(len(bw)):\n",
    "            for i in range (n):\n",
    "                constant = 1\n",
    "                for k in range (N):\n",
    "                    constant = constant*(1-(s_ik[i,k]-bw[j,k])**2)\n",
    "                E2 += constant\n",
    "        E2 = K1 * E2\n",
    "        E3 = 0\n",
    "        for j in range(m):\n",
    "            constant1 = 0\n",
    "            for i in range(n):\n",
    "                constant2 = 1\n",
    "                for k in range(N):\n",
    "                    constant2 = constant2*(1-(s_ik[i,k]-b[j,k])**2)\n",
    "                constant1 += p[i,j]*constant2\n",
    "            constant3 = 0\n",
    "            for h in range(l):\n",
    "                constant3 += 2 ** h * z_h[h]\n",
    "            constant = max(0, constant1 - constant3)\n",
    "            E3 += P * (constant)**2\n",
    "        E =  E1 + E2 + E3\n",
    "  \n",
    "        expectation += E * prob\n",
    "\n",
    "    return expectation, counts"
   ],
   "id": "64263ef21c05e105",
   "outputs": [],
   "execution_count": 154
  },
  {
   "metadata": {
    "ExecuteTime": {
     "end_time": "2024-11-06T07:44:29.569934Z",
     "start_time": "2024-11-06T07:44:29.554934Z"
    }
   },
   "cell_type": "code",
   "source": [
    "from qiskit_algorithms.optimizers import COBYLA\n",
    "\n",
    "# 优化 QAOA 参数\n",
    "def optimize_qaoa(params):\n",
    "    def objective(params):\n",
    "        expectation, _ = cost_function(params)\n",
    "\n",
    "        return expectation\n",
    "\n",
    "    optimizer = COBYLA(rhobeg = 1.5, tol = 1e-7)\n",
    "    # params = np.random.rand(2 * p_max) * 2 * np.pi\n",
    "    result = optimizer.minimize(fun=objective, x0=params)\n",
    "\n",
    "    return result"
   ],
   "id": "e9c9c9bafc078303",
   "outputs": [],
   "execution_count": 155
  },
  {
   "metadata": {
    "jupyter": {
     "is_executing": true
    },
    "ExecuteTime": {
     "start_time": "2024-11-06T07:44:50.086638Z"
    }
   },
   "cell_type": "code",
   "source": [
    "import time\n",
    "\n",
    "# 运行优化\n",
    "startTime = time.time()\n",
    "ansatz_final = object()\n",
    "init_point = np.array([])\n",
    "counts = {}\n",
    "min_energy = 0\n",
    "final_result = object()\n",
    "for p1 in range(1, 4):\n",
    "    min_energy = 10000\n",
    "    for k in range(100):\n",
    "        print('第：', p1, '层', ' ', '第', k, '个参数')\n",
    "        init_point_temp = init_point\n",
    "        beta_p = np.random.uniform(0, np.pi)\n",
    "        gamma_p = np.random.uniform(0,  2 * np.pi)\n",
    "        if k >0:\n",
    "            init_point_temp = np.delete(init_point_temp, 2 * p1 - 1)\n",
    "            init_point_temp = np.delete(init_point_temp, p1 - 1)\n",
    "        init_point_temp = np.insert(init_point_temp, p1 - 1, beta_p)\n",
    "        init_point_temp = np.insert(init_point_temp, 2 * p1 - 1, gamma_p)\n",
    "        result = optimize_qaoa(init_point_temp)\n",
    "\n",
    "        # print(result.x)\n",
    "        optimal_params = result.x\n",
    "\n",
    "        # 计算最终的能量\n",
    "        energy, counts_temp = cost_function(result.x)\n",
    "        if min_energy > energy:\n",
    "            min_energy = energy\n",
    "            init_point = optimal_params\n",
    "            counts = counts_temp\n",
    "            final_result = result\n",
    "endTime = time.time()"
   ],
   "id": "ffcc54bd1b854fb0",
   "outputs": [
    {
     "name": "stdout",
     "output_type": "stream",
     "text": [
      "第： 1 层   第 0 个参数\n",
      "第： 1 层   第 1 个参数\n",
      "第： 1 层   第 2 个参数\n",
      "第： 1 层   第 3 个参数\n",
      "第： 1 层   第 4 个参数\n",
      "第： 1 层   第 5 个参数\n",
      "第： 1 层   第 6 个参数\n",
      "第： 1 层   第 7 个参数\n",
      "第： 1 层   第 8 个参数\n"
     ]
    }
   ],
   "execution_count": null
  },
  {
   "metadata": {
    "ExecuteTime": {
     "end_time": "2024-11-05T09:31:00.764370Z",
     "start_time": "2024-11-05T09:31:00.528331Z"
    }
   },
   "cell_type": "code",
   "source": [
    "from qiskit.visualization import plot_histogram\n",
    "\n",
    "# 输出结果\n",
    "print(\"优化时间：\", endTime - startTime)\n",
    "print(\"Optimal parameters:\", final_result.x)\n",
    "print(\"Optimal value:\", final_result.fun)\n",
    "# 使用最优参数运行量子电路并输出测量结果\n",
    "final_expectation, final_counts = cost_function(final_result.x)\n",
    "sorted_dict = {item[0][::-1]: item[1] for item in sorted(final_counts.items(), key=lambda item: item[1], reverse=True)}\n",
    "print(\"Final expectation value:\", final_expectation)\n",
    "print(\"Final measurement counts:\", sorted_dict)\n",
    "plot_histogram(sorted_dict)"
   ],
   "id": "4261bc08a9ed929f",
   "outputs": [
    {
     "name": "stdout",
     "output_type": "stream",
     "text": [
      "优化时间： 739.7723631858826\n",
      "Optimal parameters: [7.16952331 0.52238157 2.90757171 9.00911425 6.60611056 3.04549982]\n",
      "Optimal value: 71.2866\n",
      "Final expectation value: 71.2866\n",
      "Final measurement counts: {'00011': 4261, '11011': 1135, '10011': 856, '00101': 619, '00111': 577, '01101': 457, '10001': 333, '00010': 277, '11010': 234, '00001': 231, '01111': 177, '10010': 149, '11101': 145, '11001': 96, '01011': 67, '11000': 64, '10111': 62, '01110': 34, '10101': 33, '00110': 33, '00000': 30, '11100': 28, '01001': 22, '00100': 22, '01010': 13, '01100': 11, '01000': 10, '10110': 8, '11110': 6, '10000': 5, '11111': 5}\n"
     ]
    },
    {
     "data": {
      "text/plain": [
       "<Figure size 700x500 with 1 Axes>"
      ],
      "image/png": "[encoded data removed]"
     },
     "execution_count": 143,
     "metadata": {},
     "output_type": "execute_result"
    }
   ],
   "execution_count": 143
  },
  {
   "metadata": {
    "ExecuteTime": {
     "end_time": "2024-11-05T09:22:20.953047Z",
     "start_time": "2024-11-05T09:22:20.939772Z"
    }
   },
   "cell_type": "code",
   "source": [
    "expectation = 0\n",
    "bitstring = \"0010011\"\n",
    "z_h = np.array([int(bit) for bit in bitstring[(n*N):]])\n",
    "s_ik = np.array([int(bit) for bit in bitstring[:(n*N)]]).reshape(n, N)\n",
    "E1 = np.sum([2 ** h * z for h, z in enumerate(z_h)])\n",
    "E2 = 0\n",
    "for j in range(len(bw)):\n",
    "    for i in range (n):\n",
    "        constant = 1\n",
    "        for k in range (N):\n",
    "            constant = constant*(1-(s_ik[i,k]-bw[j,k])**2)\n",
    "        E2 += constant\n",
    "E2 = K1 * E2\n",
    "E3 = 0\n",
    "for j in range(m):\n",
    "    constant1 = 0\n",
    "    # print(\"机器：\", j)\n",
    "    for i in range(n):\n",
    "        constant2 = 1\n",
    "        for k in range(N):\n",
    "            constant2 = constant2*(1-(s_ik[i,k]-b[j,k])**2)\n",
    "        # print(\"constant2:\", constant2)\n",
    "        # print(\"p[i,j]:\", p[i,j])\n",
    "        constant1 += p[i,j]*constant2\n",
    "    # print(\"constant1:\", constant1)\n",
    "    constant3 = 0\n",
    "    for h in range(l):\n",
    "        constant3 += 2 ** h * z_h[h]\n",
    "    # print(\"constant3:\", constant3)\n",
    "    constant = max(0, constant1 - constant3)\n",
    "    E3 += (constant)**2\n",
    "        \n",
    "        # alpha_s = np.max([0, np.sum(x_ij * p) - np.sum([2 ** h * z for h, z in enumerate(z_h)])])\n",
    "        \n",
    "E =  E1 + K1 * E2 + P * E3\n",
    "print(E1)\n",
    "print(E2)\n",
    "print(E3)\n",
    "# print(e1)\n",
    "# print(e2)"
   ],
   "id": "17d987eaf3be8f0f",
   "outputs": [
    {
     "name": "stdout",
     "output_type": "stream",
     "text": [
      "6\n",
      "0\n",
      "10\n"
     ]
    }
   ],
   "execution_count": 142
  }
 ],
 "metadata": {
  "kernelspec": {
   "display_name": "Python 3",
   "language": "python",
   "name": "python3"
  },
  "language_info": {
   "codemirror_mode": {
    "name": "ipython",
    "version": 2
   },
   "file_extension": ".py",
   "mimetype": "text/x-python",
   "name": "python",
   "nbconvert_exporter": "python",
   "pygments_lexer": "ipython2",
   "version": "2.7.6"
  }
 },
 "nbformat": 4,
 "nbformat_minor": 5
}
