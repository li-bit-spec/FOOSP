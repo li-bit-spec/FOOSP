{
 "cells": [
  {
   "cell_type": "code",
   "id": "initial_id",
   "metadata": {
    "collapsed": true,
    "ExecuteTime": {
     "end_time": "2024-10-30T13:32:09.732068Z",
     "start_time": "2024-10-30T13:32:09.645422Z"
    }
   },
   "source": [
    "import numpy as np\n",
    "# 假设有 3 台机器和 3 个操作\n",
    "m = 3 # 机器数量\n",
    "N = 2 # 表示机器的二进制 (0, 1)\n",
    "n = 2 # 操作数量\n",
    "l = 1  # 用于表示 C_max 的二进制位数\n",
    "\n",
    "# 处理时间矩阵 (例如)\n",
    "p = np.array([[1, 2, 3],[2, 3, 1]])\n",
    "\n",
    "b = np.array([[0, 0],[1, 0] ,[0, 1]])\n",
    "# 非法数组(用于表示机器数)(1, 1)\n",
    "bw = np.array([[1, 1]])\n",
    "# 常数\n",
    "K1 = 100\n",
    "P = 30\n",
    "# print(len(bw))\n",
    "# 量子比特数量\n",
    "num_qubits = n * N + l"
   ],
   "outputs": [],
   "execution_count": 1
  },
  {
   "metadata": {
    "ExecuteTime": {
     "end_time": "2024-10-30T13:32:10.385186Z",
     "start_time": "2024-10-30T13:32:09.738090Z"
    }
   },
   "cell_type": "code",
   "source": [
    "from qiskit import QuantumCircuit\n",
    "\n",
    "def append_multi_rzz_term(qc, qubits, gamma): \n",
    "    \"\"\"\n",
    "    构建一个类RZZ门，n-1个控制位，1个目标位，进行旋转操作。\n",
    "    参数:\n",
    "    control_qubits: List[int]，控制量子比特的索引\n",
    "    target_qubit: int，目标量子比特的索引\n",
    "    \"\"\"\n",
    "    if len(qubits)==1:\n",
    "        qc.rz(gamma, qubits[0])\n",
    "    else:\n",
    "        control_qubits = qubits[:N-1]\n",
    "       \n",
    "        target_qubit = qubits[N-1:]\n",
    "       \n",
    "        n_controls = len(control_qubits)\n",
    "        if n_controls == 1:     \n",
    "            qc.cx(control_qubits[0],target_qubit[0])\n",
    "        else:\n",
    "            qc.mcx(control_qubits, target_qubit[0])\n",
    "        qc.rz(gamma, target_qubit[0])\n",
    "        if n_controls == 1:\n",
    "            qc.cx(control_qubits[0], target_qubit[0])\n",
    "        else:\n",
    "            qc.mcx(control_qubits, target_qubit[0])"
   ],
   "id": "744d1188245ca22d",
   "outputs": [],
   "execution_count": 2
  },
  {
   "metadata": {
    "ExecuteTime": {
     "end_time": "2024-10-30T13:32:10.462924Z",
     "start_time": "2024-10-30T13:32:10.448932Z"
    }
   },
   "cell_type": "code",
   "source": [
    "def append__zz_term( qc, qubit1, qubit2, gamma):\n",
    "    qc.cx(qubit1, qubit2)\n",
    "    qc.rz(gamma, qubit2)\n",
    "    qc.cx(qubit1, qubit2)\n",
    "\n",
    "def append__z_term(qc, qubit, gamma):\n",
    "    qc.rz(gamma, qubit)\n",
    "def append__mixer_term(qc, qubit, beta):\n",
    "    qc.rx(2 * beta, qubit)"
   ],
   "id": "78cd574ca18acceb",
   "outputs": [],
   "execution_count": 3
  },
  {
   "metadata": {
    "ExecuteTime": {
     "end_time": "2024-10-30T13:32:10.509458Z",
     "start_time": "2024-10-30T13:32:10.491995Z"
    }
   },
   "cell_type": "code",
   "source": [
    "def get_cost_circuit1(gamma, qc):\n",
    "    for h in range(l):\n",
    "        coef = - 2**h\n",
    "        append__z_term(qc, N * n + h, coef * gamma)\n",
    "    return qc"
   ],
   "id": "a177ac766f2e3c4b",
   "outputs": [],
   "execution_count": 4
  },
  {
   "metadata": {},
   "cell_type": "markdown",
   "source": "\\begin{align}K_{1} \\sum_{j\\in W} \\sum_{i=0}^{n}\\prod_{k=0}^{N}\\left(\\frac{1}2+\\left(\\frac{1}2-b_{j k}\\right)Z_{ik}\\right)\\end{align}",
   "id": "6d569514dfbbda71"
  },
  {
   "metadata": {
    "ExecuteTime": {
     "end_time": "2024-10-30T13:32:10.540446Z",
     "start_time": "2024-10-30T13:32:10.527419Z"
    }
   },
   "cell_type": "code",
   "source": [
    "import itertools\n",
    "def get_cost_circuit2(gamma, qc):\n",
    "    # print(len(bw))\n",
    "    if len(bw) == 0:\n",
    "        return qc\n",
    "    for j in range(len(bw)):\n",
    "        for i in range(n):\n",
    "            constant = 1 / (2 ** N)  # 系数 1/2^N\n",
    "            for num_selected_qubits in range(1, N + 1):  # 从1个到N个qubit的组合项\n",
    "                qubit_combinations = itertools.combinations(range(N), num_selected_qubits)\n",
    "                for qubit_indices in qubit_combinations:\n",
    "                    sub_constant = constant\n",
    "                    qubits_index = np.array([], dtype=int)\n",
    "                \n",
    "                    # 根据组合项生成子项的常数和qubit索引\n",
    "                    for k in range(N):\n",
    "                        term_coeff = (1 - 2 * bw[j, k]) if k in qubit_indices else 1\n",
    "                        sub_constant *= term_coeff\n",
    "                        if k in qubit_indices:\n",
    "                            qubits_index = np.append(qubits_index, i * N + k)\n",
    "\n",
    "                    append_multi_rzz_term(qc, qubits_index, 2 * K1 * sub_constant * gamma)\n",
    "\n",
    "                \n",
    "    return qc"
   ],
   "id": "67570f9028e40f9",
   "outputs": [],
   "execution_count": 5
  },
  {
   "metadata": {},
   "cell_type": "markdown",
   "source": "",
   "id": "8923b57427f69dec"
  },
  {
   "metadata": {
    "ExecuteTime": {
     "end_time": "2024-10-30T13:32:10.571347Z",
     "start_time": "2024-10-30T13:32:10.558341Z"
    }
   },
   "cell_type": "code",
   "source": [
    "def get_cost_circuit3(gamma, qc):\n",
    "    for j in range(m):\n",
    "        for i1 in range(n):\n",
    "            for i2 in range(n):\n",
    "                constant = 1/(2 ** (2 * (N))) * p[i1, j] * p[i2, j]     # 更新常数为 1/2^(2*(N+1))\n",
    "                 # 遍历 k 和 k' 的组合，生成各子项的组合常数和索引\n",
    "                for num_selected_qubits_1 in range(1, N + 1):\n",
    "                    # 生成了指定数量量子比特的所有组合\n",
    "                    qubit_combinations_1 = itertools.combinations(range(N), num_selected_qubits_1)\n",
    "                    for qubit_indices_1 in qubit_combinations_1:\n",
    "                        # 后续将乘以每个选择的量子比特的权重\n",
    "                        # 用于存储每组组合的量子比特索引\n",
    "                        sub_constant_1 = constant\n",
    "                        qubits_index_1 = np.array([], dtype=int)\n",
    "                        # 对于每个量子比特位置 k，代码会判断该比特是否在 qubit_indices_1 中\n",
    "                        for k1 in range(N):\n",
    "                            term_coeff_1 = (1 - 2 * b[j, k1]) if k1 in qubit_indices_1 else 1\n",
    "                            sub_constant_1 *= term_coeff_1\n",
    "                            # 如果 k 在 qubit_indices_1 中，该比特索引被加入 qubits_index_1\n",
    "                            if k1 in qubit_indices_1:\n",
    "                                qubits_index_1 = np.append(qubits_index_1, i1 * N + k1)\n",
    "                        # 第二组 qubit 的组合项\n",
    "                        for num_selected_qubits_2 in range(1, N + 1):\n",
    "                            qubit_combinations_2 = itertools.combinations(range(N), num_selected_qubits_2)\n",
    "                            for qubit_indices_2 in qubit_combinations_2:\n",
    "                                # # 检查是否存在相同下标，若存在则跳过该组合\n",
    "                                # if any(i * N + k in qubits_index_1 for k in qubit_indices_2):\n",
    "                                #     continue\n",
    "                                sub_constant_2 = sub_constant_1\n",
    "                                qubits_index_2 = np.array([], dtype=int)\n",
    "\n",
    "                                for k2 in range(N):\n",
    "                                    term_coeff_2 = (1 - 2 * b[j, k2]) if k2 in qubit_indices_2 else 1\n",
    "                                    sub_constant_2 *= term_coeff_2\n",
    "                                    if k2 in qubit_indices_2:\n",
    "                                        qubits_index_2 = np.append(qubits_index_2, i2 * N + k2)\n",
    "                                # 检查 qubits_index_1 和 qubits_index_2 是否有相同的索引\n",
    "                                # 如果有相同的索引，跳过这部分乘积计算\n",
    "                                common_qubits = np.intersect1d(qubits_index_1, qubits_index_2)\n",
    "                                if common_qubits.size > 0:\n",
    "                                    continue  # 如果有共同索引，跳过这个组合\n",
    "                                # 将 qubits_index_1 和 qubits_index_2 合并，包含两组组合项的所有量子比特索引\n",
    "                                combined_qubits_index = np.concatenate([qubits_index_1, qubits_index_2])\n",
    "                                append_multi_rzz_term(qc, combined_qubits_index, 2 * P * sub_constant_2 * gamma)\n",
    "        for i in range(n):  # 遍历 i 的范围\n",
    "            constant = -2 / (2 ** N)  # 公式前的常数因子\n",
    "\n",
    "            # 遍历主项的qubit组合\n",
    "            for num_selected_qubits in range(1, N + 1):\n",
    "                qubit_combinations = itertools.combinations(range(N), num_selected_qubits)\n",
    "                for qubit_indices in qubit_combinations:\n",
    "                    sub_constant = constant\n",
    "                    qubits_index = np.array([], dtype=int)\n",
    "\n",
    "                    # 根据组合项生成子常数和 qubit 索引\n",
    "                    for k in range(N):\n",
    "                        term_coeff = (1 - 2 * b[j, k]) if k in qubit_indices else 1\n",
    "                        sub_constant *= term_coeff\n",
    "                        if k in qubit_indices:\n",
    "                            qubits_index = np.append(qubits_index, i * N + k)\n",
    "\n",
    "                    # 遍历权重项 h 的范围\n",
    "                    for h in range(l):\n",
    "                        weight = 2 ** (h - 1)  # 2^(h-1)\n",
    "                        combined_constant = sub_constant * weight  # 最终系数\n",
    "\n",
    "                        # 构造用于 RZZ 门的组合\n",
    "                        full_qubits_index = np.append(qubits_index, n * N + h)  # 结合主项和权重项的索引\n",
    "\n",
    "                        # 应用多量子位的 RZZ 门操作\n",
    "                        append_multi_rzz_term(qc, full_qubits_index, combined_constant * P * gamma)\n",
    "        for h1 in range(l):  # 遍历 h 的范围\n",
    "            for h2 in range(l):  # 遍历 h' 的范围\n",
    "                coef = 2 ** (h1 - 1) * 2 ** (h2 - 1)  # 计算系数权重\n",
    "\n",
    "                # -Z_h1 项\n",
    "                append__z_term(qc, n * N + h1, 2 * P * coef * gamma)\n",
    "\n",
    "                # -Z_h2 项\n",
    "                append__z_term(qc, n * N + h2, 2 * P * coef * gamma)\n",
    "\n",
    "                # Z_h1 Z_h2 项\n",
    "                if h1 != h2:  # 避免重复\n",
    "                    append__zz_term(qc, n * N + h1, n * N + h2, 2 * P * coef * gamma)\n",
    "                "
   ],
   "id": "9a17a5acfe3fc9d8",
   "outputs": [],
   "execution_count": 6
  },
  {
   "metadata": {
    "ExecuteTime": {
     "end_time": "2024-10-30T13:32:10.602220Z",
     "start_time": "2024-10-30T13:32:10.588559Z"
    }
   },
   "cell_type": "code",
   "source": [
    "def get_mixer_circuit(beta, qc):\n",
    "    # beta, gamma = params[:len(params)//2], params[len(params)//2:]\n",
    "    for i in range(num_qubits):\n",
    "        append__mixer_term(qc, i, beta)\n",
    "    return qc"
   ],
   "id": "45a838eedf24a21",
   "outputs": [],
   "execution_count": 7
  },
  {
   "metadata": {
    "ExecuteTime": {
     "end_time": "2024-10-30T13:32:10.633218Z",
     "start_time": "2024-10-30T13:32:10.619268Z"
    }
   },
   "cell_type": "code",
   "source": [
    "def invert_counts(s):\n",
    "    return s[::-1]"
   ],
   "id": "b401b61cad096d4d",
   "outputs": [],
   "execution_count": 8
  },
  {
   "metadata": {
    "ExecuteTime": {
     "end_time": "2024-10-30T13:32:10.664247Z",
     "start_time": "2024-10-30T13:32:10.651206Z"
    }
   },
   "cell_type": "code",
   "source": [
    "from qiskit import Aer, QuantumCircuit, execute\n",
    "# 定义成本函数\n",
    "def cost_function(params):\n",
    "    beta, gamma = params[:len(params)//2], params[len(params)//2:]\n",
    "    num_qubits = n * N + l\n",
    "    qc = QuantumCircuit(num_qubits, num_qubits)\n",
    "    qc.h(range(num_qubits))\n",
    "    # print(qc)\n",
    "\n",
    "    length  = len(params)\n",
    "    for i in range(int(length/2)):\n",
    "\n",
    "        get_cost_circuit1(gamma[i], qc)\n",
    "        get_cost_circuit2(gamma[i], qc)\n",
    "        get_cost_circuit3(gamma[i], qc)\n",
    "        get_mixer_circuit(beta[i], qc)\n",
    "    # 模拟电路\n",
    "    # 添加测量指令\n",
    "    qc.measure(range(num_qubits), range(num_qubits))\n",
    "    backend = Aer.get_backend('qasm_simulator')\n",
    "    result = execute(qc, backend, seed_simulator=10, shots=10000).result()\n",
    "    counts = result.get_counts(qc)\n",
    "    # 计算期望值\n",
    "    expectation = 0\n",
    "    for bitstring, count in counts.items():\n",
    "        bitstring = invert_counts(bitstring)\n",
    "        prob = count / 10000\n",
    "        z_h = np.array([int(bit) for bit in bitstring[(n*N):]])\n",
    "        s_ik = np.array([int(bit) for bit in bitstring[:(n*N)]]).reshape(n, N)\n",
    "        E1 = np.sum([2 ** h * z for h, z in enumerate(z_h)])\n",
    "        E2 = 0\n",
    "        for j in range(len(bw)):\n",
    "            for i in range (n):\n",
    "                constant = 1\n",
    "                for k in range (N):\n",
    "                    constant = constant*(1-(s_ik[i,k]-bw[j,k])**2)\n",
    "                E2 += constant\n",
    "        E2 = K1 * E2\n",
    "        E3 = 0\n",
    "        for j in range(m):\n",
    "            constant1 = 0\n",
    "            for i in range(n):\n",
    "                constant2 = 1\n",
    "                for k in range(N):\n",
    "                    constant2 = constant2*(1-(s_ik[i,k]-b[j,k])**2)\n",
    "                constant1 += p[i,j]*constant2\n",
    "            constant3 = 0\n",
    "            for h in range(l):\n",
    "                constant3 += 2 ** h * z_h[h]\n",
    "            constant = max(0, constant1 - constant3)\n",
    "            E3 += P * (constant)**2\n",
    "        \n",
    "        # alpha_s = np.max([0, np.sum(x_ij * p) - np.sum([2 ** h * z for h, z in enumerate(z_h)])])\n",
    "        \n",
    "        E =  E1 + E2 + E3\n",
    "        \n",
    "        expectation += E * prob\n",
    "\n",
    "    return expectation, counts"
   ],
   "id": "64263ef21c05e105",
   "outputs": [],
   "execution_count": 9
  },
  {
   "metadata": {
    "ExecuteTime": {
     "end_time": "2024-10-30T13:32:11.284933Z",
     "start_time": "2024-10-30T13:32:10.730021Z"
    }
   },
   "cell_type": "code",
   "source": [
    "from qiskit_algorithms.optimizers import COBYLA\n",
    "\n",
    "# 优化 QAOA 参数\n",
    "def optimize_qaoa(params):\n",
    "    def objective(params):\n",
    "        expectation, _ = cost_function(params)\n",
    "\n",
    "        return expectation\n",
    "\n",
    "    optimizer = COBYLA(rhobeg = 1.5, tol = 1e-7)\n",
    "    # params = np.random.rand(2 * p_max) * 2 * np.pi\n",
    "    result = optimizer.minimize(fun=objective, x0=params)\n",
    "\n",
    "    return result"
   ],
   "id": "e9c9c9bafc078303",
   "outputs": [],
   "execution_count": 10
  },
  {
   "metadata": {
    "ExecuteTime": {
     "end_time": "2024-10-30T13:55:58.900474Z",
     "start_time": "2024-10-30T13:32:11.315224Z"
    }
   },
   "cell_type": "code",
   "source": [
    "import time\n",
    "\n",
    "# 运行优化\n",
    "startTime = time.time()\n",
    "ansatz_final = object()\n",
    "init_point = np.array([])\n",
    "counts = {}\n",
    "min_energy = 0\n",
    "final_result = object()\n",
    "for p1 in range(1, 4):\n",
    "    min_energy = 10000\n",
    "    for k in range(50):\n",
    "        print('第：', p1, '层', ' ', '第', k, '个参数')\n",
    "        init_point_temp = init_point\n",
    "        beta_p = np.random.uniform(0, np.pi)\n",
    "        gamma_p = np.random.uniform(0,  2 * np.pi)\n",
    "        if k >0:\n",
    "            init_point_temp = np.delete(init_point_temp, 2 * p1 - 1)\n",
    "            init_point_temp = np.delete(init_point_temp, p1 - 1)\n",
    "        init_point_temp = np.insert(init_point_temp, p1 - 1, beta_p)\n",
    "        init_point_temp = np.insert(init_point_temp, 2 * p1 - 1, gamma_p)\n",
    "        result = optimize_qaoa(init_point_temp)\n",
    "\n",
    "        # print(result.x)\n",
    "        optimal_params = result.x\n",
    "\n",
    "        # 计算最终的能量\n",
    "        energy, counts_temp = cost_function(result.x)\n",
    "        if min_energy > energy:\n",
    "            min_energy = energy\n",
    "            init_point = optimal_params\n",
    "            counts = counts_temp\n",
    "            final_result = result\n",
    "endTime = time.time()"
   ],
   "id": "ffcc54bd1b854fb0",
   "outputs": [
    {
     "name": "stdout",
     "output_type": "stream",
     "text": [
      "第： 1 层   第 0 个参数\n",
      "第： 1 层   第 1 个参数\n",
      "第： 1 层   第 2 个参数\n",
      "第： 1 层   第 3 个参数\n",
      "第： 1 层   第 4 个参数\n",
      "第： 1 层   第 5 个参数\n",
      "第： 1 层   第 6 个参数\n",
      "第： 1 层   第 7 个参数\n",
      "第： 1 层   第 8 个参数\n",
      "第： 1 层   第 9 个参数\n",
      "第： 1 层   第 10 个参数\n",
      "第： 1 层   第 11 个参数\n",
      "第： 1 层   第 12 个参数\n",
      "第： 1 层   第 13 个参数\n",
      "第： 1 层   第 14 个参数\n",
      "第： 1 层   第 15 个参数\n",
      "第： 1 层   第 16 个参数\n",
      "第： 1 层   第 17 个参数\n",
      "第： 1 层   第 18 个参数\n",
      "第： 1 层   第 19 个参数\n",
      "第： 1 层   第 20 个参数\n",
      "第： 1 层   第 21 个参数\n",
      "第： 1 层   第 22 个参数\n",
      "第： 1 层   第 23 个参数\n",
      "第： 1 层   第 24 个参数\n",
      "第： 1 层   第 25 个参数\n",
      "第： 1 层   第 26 个参数\n",
      "第： 1 层   第 27 个参数\n",
      "第： 1 层   第 28 个参数\n",
      "第： 1 层   第 29 个参数\n",
      "第： 1 层   第 30 个参数\n",
      "第： 1 层   第 31 个参数\n",
      "第： 1 层   第 32 个参数\n",
      "第： 1 层   第 33 个参数\n",
      "第： 1 层   第 34 个参数\n",
      "第： 1 层   第 35 个参数\n",
      "第： 1 层   第 36 个参数\n",
      "第： 1 层   第 37 个参数\n",
      "第： 1 层   第 38 个参数\n",
      "第： 1 层   第 39 个参数\n",
      "第： 1 层   第 40 个参数\n",
      "第： 1 层   第 41 个参数\n",
      "第： 1 层   第 42 个参数\n",
      "第： 1 层   第 43 个参数\n",
      "第： 1 层   第 44 个参数\n",
      "第： 1 层   第 45 个参数\n",
      "第： 1 层   第 46 个参数\n",
      "第： 1 层   第 47 个参数\n",
      "第： 1 层   第 48 个参数\n",
      "第： 1 层   第 49 个参数\n",
      "第： 2 层   第 0 个参数\n",
      "第： 2 层   第 1 个参数\n",
      "第： 2 层   第 2 个参数\n",
      "第： 2 层   第 3 个参数\n",
      "第： 2 层   第 4 个参数\n",
      "第： 2 层   第 5 个参数\n",
      "第： 2 层   第 6 个参数\n",
      "第： 2 层   第 7 个参数\n",
      "第： 2 层   第 8 个参数\n",
      "第： 2 层   第 9 个参数\n",
      "第： 2 层   第 10 个参数\n",
      "第： 2 层   第 11 个参数\n",
      "第： 2 层   第 12 个参数\n",
      "第： 2 层   第 13 个参数\n",
      "第： 2 层   第 14 个参数\n",
      "第： 2 层   第 15 个参数\n",
      "第： 2 层   第 16 个参数\n",
      "第： 2 层   第 17 个参数\n",
      "第： 2 层   第 18 个参数\n",
      "第： 2 层   第 19 个参数\n",
      "第： 2 层   第 20 个参数\n",
      "第： 2 层   第 21 个参数\n",
      "第： 2 层   第 22 个参数\n",
      "第： 2 层   第 23 个参数\n",
      "第： 2 层   第 24 个参数\n",
      "第： 2 层   第 25 个参数\n",
      "第： 2 层   第 26 个参数\n",
      "第： 2 层   第 27 个参数\n",
      "第： 2 层   第 28 个参数\n",
      "第： 2 层   第 29 个参数\n",
      "第： 2 层   第 30 个参数\n",
      "第： 2 层   第 31 个参数\n",
      "第： 2 层   第 32 个参数\n",
      "第： 2 层   第 33 个参数\n",
      "第： 2 层   第 34 个参数\n",
      "第： 2 层   第 35 个参数\n",
      "第： 2 层   第 36 个参数\n",
      "第： 2 层   第 37 个参数\n",
      "第： 2 层   第 38 个参数\n",
      "第： 2 层   第 39 个参数\n",
      "第： 2 层   第 40 个参数\n",
      "第： 2 层   第 41 个参数\n",
      "第： 2 层   第 42 个参数\n",
      "第： 2 层   第 43 个参数\n",
      "第： 2 层   第 44 个参数\n",
      "第： 2 层   第 45 个参数\n",
      "第： 2 层   第 46 个参数\n",
      "第： 2 层   第 47 个参数\n",
      "第： 2 层   第 48 个参数\n",
      "第： 2 层   第 49 个参数\n",
      "第： 3 层   第 0 个参数\n",
      "第： 3 层   第 1 个参数\n",
      "第： 3 层   第 2 个参数\n",
      "第： 3 层   第 3 个参数\n",
      "第： 3 层   第 4 个参数\n",
      "第： 3 层   第 5 个参数\n",
      "第： 3 层   第 6 个参数\n",
      "第： 3 层   第 7 个参数\n",
      "第： 3 层   第 8 个参数\n",
      "第： 3 层   第 9 个参数\n",
      "第： 3 层   第 10 个参数\n",
      "第： 3 层   第 11 个参数\n",
      "第： 3 层   第 12 个参数\n",
      "第： 3 层   第 13 个参数\n",
      "第： 3 层   第 14 个参数\n",
      "第： 3 层   第 15 个参数\n",
      "第： 3 层   第 16 个参数\n",
      "第： 3 层   第 17 个参数\n",
      "第： 3 层   第 18 个参数\n",
      "第： 3 层   第 19 个参数\n",
      "第： 3 层   第 20 个参数\n",
      "第： 3 层   第 21 个参数\n",
      "第： 3 层   第 22 个参数\n",
      "第： 3 层   第 23 个参数\n",
      "第： 3 层   第 24 个参数\n",
      "第： 3 层   第 25 个参数\n",
      "第： 3 层   第 26 个参数\n",
      "第： 3 层   第 27 个参数\n",
      "第： 3 层   第 28 个参数\n",
      "第： 3 层   第 29 个参数\n",
      "第： 3 层   第 30 个参数\n",
      "第： 3 层   第 31 个参数\n",
      "第： 3 层   第 32 个参数\n",
      "第： 3 层   第 33 个参数\n",
      "第： 3 层   第 34 个参数\n",
      "第： 3 层   第 35 个参数\n",
      "第： 3 层   第 36 个参数\n",
      "第： 3 层   第 37 个参数\n",
      "第： 3 层   第 38 个参数\n",
      "第： 3 层   第 39 个参数\n",
      "第： 3 层   第 40 个参数\n",
      "第： 3 层   第 41 个参数\n",
      "第： 3 层   第 42 个参数\n",
      "第： 3 层   第 43 个参数\n",
      "第： 3 层   第 44 个参数\n",
      "第： 3 层   第 45 个参数\n",
      "第： 3 层   第 46 个参数\n",
      "第： 3 层   第 47 个参数\n",
      "第： 3 层   第 48 个参数\n",
      "第： 3 层   第 49 个参数\n"
     ]
    }
   ],
   "execution_count": 11
  },
  {
   "metadata": {
    "ExecuteTime": {
     "end_time": "2024-10-30T13:55:59.985425Z",
     "start_time": "2024-10-30T13:55:58.918560Z"
    }
   },
   "cell_type": "code",
   "source": [
    "from qiskit.visualization import plot_histogram\n",
    "\n",
    "# 输出结果\n",
    "print(\"优化时间：\", endTime - startTime)\n",
    "print(\"Optimal parameters:\", final_result.x)\n",
    "print(\"Optimal value:\", final_result.fun)\n",
    "# 使用最优参数运行量子电路并输出测量结果\n",
    "final_expectation, final_counts = cost_function(final_result.x)\n",
    "sorted_dict = {item[0][::-1]: item[1] for item in sorted(final_counts.items(), key=lambda item: item[1], reverse=True)}\n",
    "print(\"Final expectation value:\", final_expectation)\n",
    "print(\"Final measurement counts:\", sorted_dict)\n",
    "plot_histogram(sorted_dict)"
   ],
   "id": "4261bc08a9ed929f",
   "outputs": [
    {
     "name": "stdout",
     "output_type": "stream",
     "text": [
      "优化时间： 1427.5621528625488\n",
      "Optimal parameters: [11.13199186  4.06993583  2.12280004  3.66063389  1.82573782  0.85889377]\n",
      "Optimal value: 114.27030000000002\n",
      "Final expectation value: 114.27030000000002\n",
      "Final measurement counts: {'00011': 2853, '00111': 950, '11111': 648, '00101': 645, '10001': 542, '10111': 417, '11110': 406, '01001': 392, '11101': 362, '11011': 347, '11010': 343, '00001': 342, '10110': 325, '10010': 234, '11001': 162, '11000': 143, '00010': 122, '01110': 118, '00110': 106, '01011': 91, '11100': 77, '10101': 72, '10011': 66, '00100': 43, '10100': 42, '01000': 42, '01111': 41, '10000': 24, '01101': 23, '01100': 19, '01010': 2, '00000': 1}\n"
     ]
    },
    {
     "data": {
      "text/plain": [
       "<Figure size 700x500 with 1 Axes>"
      ],
      "image/png": "[encoded data removed]"
     },
     "execution_count": 12,
     "metadata": {},
     "output_type": "execute_result"
    }
   ],
   "execution_count": 12
  },
  {
   "metadata": {
    "ExecuteTime": {
     "end_time": "2024-10-30T13:56:56.297484Z",
     "start_time": "2024-10-30T13:56:56.288718Z"
    }
   },
   "cell_type": "code",
   "source": [
    "expectation = 0\n",
    "bitstring = \"00011\"\n",
    "z_h = np.array([int(bit) for bit in bitstring[(n*N):]])\n",
    "s_ik = np.array([int(bit) for bit in bitstring[:(n*N)]]).reshape(n, N)\n",
    "E1 = np.sum([2 ** h * z for h, z in enumerate(z_h)])\n",
    "E2 = 0\n",
    "for j in range(len(bw)):\n",
    "    for i in range (n):\n",
    "        constant = 1\n",
    "        for k in range (N):\n",
    "            constant = constant*(1-(s_ik[i,k]-bw[j,k])**2)\n",
    "        E2 += constant\n",
    "E2 = K1 * E2\n",
    "E3 = 0\n",
    "for j in range(m):\n",
    "    constant1 = 0\n",
    "    # print(\"机器：\", j)\n",
    "    for i in range(n):\n",
    "        constant2 = 1\n",
    "        for k in range(N):\n",
    "            constant2 = constant2*(1-(s_ik[i,k]-b[j,k])**2)\n",
    "        # print(\"constant2:\", constant2)\n",
    "        # print(\"p[i,j]:\", p[i,j])\n",
    "        constant1 += p[i,j]*constant2\n",
    "    # print(\"constant1:\", constant1)\n",
    "    constant3 = 0\n",
    "    for h in range(l):\n",
    "        constant3 += 2 ** h * z_h[h]\n",
    "    # print(\"constant3:\", constant3)\n",
    "    constant = max(0, constant1 - constant3)\n",
    "    E3 += (constant)**2\n",
    "        \n",
    "        # alpha_s = np.max([0, np.sum(x_ij * p) - np.sum([2 ** h * z for h, z in enumerate(z_h)])])\n",
    "        \n",
    "E =  E1 + K1 * E2 + P * E3\n",
    "print(E1)\n",
    "print(E2)\n",
    "print(E3)\n",
    "# print(e1)\n",
    "# print(e2)"
   ],
   "id": "17d987eaf3be8f0f",
   "outputs": [
    {
     "name": "stdout",
     "output_type": "stream",
     "text": [
      "1\n",
      "0\n",
      "0\n"
     ]
    }
   ],
   "execution_count": 14
  },
  {
   "metadata": {
    "ExecuteTime": {
     "end_time": "2024-10-30T13:56:00.047102Z",
     "start_time": "2024-10-30T13:56:00.034963Z"
    }
   },
   "cell_type": "code",
   "source": "",
   "id": "4888b1d2b1ed7be9",
   "outputs": [],
   "execution_count": null
  }
 ],
 "metadata": {
  "kernelspec": {
   "display_name": "Python 3",
   "language": "python",
   "name": "python3"
  },
  "language_info": {
   "codemirror_mode": {
    "name": "ipython",
    "version": 2
   },
   "file_extension": ".py",
   "mimetype": "text/x-python",
   "name": "python",
   "nbconvert_exporter": "python",
   "pygments_lexer": "ipython2",
   "version": "2.7.6"
  }
 },
 "nbformat": 4,
 "nbformat_minor": 5
}
