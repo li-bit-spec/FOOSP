{
 "cells": [
  {
   "cell_type": "code",
   "id": "initial_id",
   "metadata": {
    "collapsed": true,
    "ExecuteTime": {
     "end_time": "2025-01-06T08:50:36.892484Z",
     "start_time": "2025-01-06T08:50:36.876411Z"
    }
   },
   "source": [
    "import numpy as np\n",
    "\n",
    "# 假设有 3 台机器和 3 个操作\n",
    "m = 3  # 机器数量\n",
    "N = 2  # 表示机器的二进制 (0, 1)\n",
    "n = 2  # 操作数量\n",
    "l = 1  # 用于表示 C_max 的二进制位数\n",
    "\n",
    "# 处理时间矩阵 (例如)\n",
    "p = np.array([[1, 2, 3], [2, 3, 1]])\n",
    "\n",
    "b = np.array([[0, 0], [1, 0], [0, 1]])\n",
    "# 非法数组(用于表示机器数)(1, 1)\n",
    "bw = np.array([[1, 1]])\n",
    "# 常数\n",
    "K1 = 100\n",
    "P = 30\n",
    "# print(len(bw))\n",
    "# 量子比特数量\n",
    "num_qubits = n * N + l"
   ],
   "outputs": [],
   "execution_count": 12
  },
  {
   "metadata": {
    "ExecuteTime": {
     "end_time": "2025-01-06T08:50:37.406751Z",
     "start_time": "2025-01-06T08:50:37.395162Z"
    }
   },
   "cell_type": "code",
   "source": [
    "def append_multi_rzz_term(qc, qubits, gamma):\n",
    "    \"\"\"\n",
    "    构建一个类RZZ门，n-1个控制位，1个目标位，进行旋转操作。\n",
    "    参数:\n",
    "    control_qubits: List[int]，控制量子比特的索引\n",
    "    target_qubit: int，目标量子比特的索引\n",
    "    \"\"\"\n",
    "    if len(qubits) == 1:\n",
    "        qc.rz(gamma, qubits[0])\n",
    "    else:\n",
    "        control_qubits = qubits[:N - 1]\n",
    "\n",
    "        target_qubit = qubits[N - 1:]\n",
    "\n",
    "        n_controls = len(control_qubits)\n",
    "        if n_controls == 1:\n",
    "            qc.cx(control_qubits[0], target_qubit[0])\n",
    "        else:\n",
    "            qc.mcx(control_qubits, target_qubit[0])\n",
    "        qc.rz(gamma, target_qubit[0])\n",
    "        if n_controls == 1:\n",
    "            qc.cx(control_qubits[0], target_qubit[0])\n",
    "        else:\n",
    "            qc.mcx(control_qubits, target_qubit[0])"
   ],
   "id": "744d1188245ca22d",
   "outputs": [],
   "execution_count": 13
  },
  {
   "metadata": {
    "ExecuteTime": {
     "end_time": "2025-01-06T08:50:37.917233Z",
     "start_time": "2025-01-06T08:50:37.911404Z"
    }
   },
   "cell_type": "code",
   "source": [
    "def append__zz_term(qc, qubit1, qubit2, gamma):\n",
    "    qc.cx(qubit1, qubit2)\n",
    "    qc.rz(gamma, qubit2)\n",
    "    qc.cx(qubit1, qubit2)\n",
    "\n",
    "\n",
    "def append__z_term(qc, qubit, gamma):\n",
    "    qc.rz(gamma, qubit)\n",
    "\n",
    "\n",
    "def append__mixer_term(qc, qubit, beta):\n",
    "    qc.rx(2 * beta, qubit)"
   ],
   "id": "78cd574ca18acceb",
   "outputs": [],
   "execution_count": 14
  },
  {
   "metadata": {
    "ExecuteTime": {
     "end_time": "2025-01-06T08:50:38.397Z",
     "start_time": "2025-01-06T08:50:38.377119Z"
    }
   },
   "cell_type": "code",
   "source": [
    "def get_cost_circuit1(gamma, qc):\n",
    "    for h in range(l):\n",
    "        coef = - 2 ** h\n",
    "        append__z_term(qc, N * n + h, coef * gamma)\n",
    "    return qc"
   ],
   "id": "a177ac766f2e3c4b",
   "outputs": [],
   "execution_count": 15
  },
  {
   "metadata": {},
   "cell_type": "markdown",
   "source": "\\begin{align}\\prod_{k=0}^{N-1}\\frac{1}{2}\\left(1+Z_{k}\\right)\\end{align}",
   "id": "81c1ac19f981479"
  },
  {
   "metadata": {},
   "cell_type": "markdown",
   "source": "\\begin{align}K_{1} \\sum_{j\\in W} \\sum_{i=0}^{n}\\prod_{k=0}^{N-1}\\frac{1}{2}\\left(1+\\left(1-2b_{j k}\\right) Z_{i k}\\right)\\end{align}",
   "id": "6d569514dfbbda71"
  },
  {
   "metadata": {
    "ExecuteTime": {
     "end_time": "2025-01-06T08:50:40.007997Z",
     "start_time": "2025-01-06T08:50:40.000284Z"
    }
   },
   "cell_type": "code",
   "source": [
    "import itertools\n",
    "\n",
    "\n",
    "def get_cost_circuit2(gamma, qc):\n",
    "    # print(len(bw))\n",
    "    if len(bw) == 0:\n",
    "        return qc\n",
    "    # N = 2\n",
    "    for j in range(len(bw)):\n",
    "        for i in range(n):\n",
    "            constant1 = (1 / 4) * (1 - 2 * bw[j, 0])\n",
    "            append__z_term(qc, i * N, 2 * K1 * constant1 * gamma)  # 系数 1/2^N\n",
    "            constant2 = (1 / 4) * (1 - 2 * bw[j, 1])\n",
    "            append__z_term(qc, i * N + 1, 2 * K1 * constant2 * gamma)  # 系数\n",
    "            constant3 = (1 / 4) * (1 - 2 * bw[j, 0]) * (1 - 2 * bw[j, 1])\n",
    "            append__zz_term(qc, i * N, i * N + 1, 2 * K1 * constant3 * gamma)\n",
    "    return qc"
   ],
   "id": "67570f9028e40f9",
   "outputs": [],
   "execution_count": 16
  },
  {
   "metadata": {
    "ExecuteTime": {
     "end_time": "2025-01-06T08:50:40.583932Z",
     "start_time": "2025-01-06T08:50:40.579924Z"
    }
   },
   "cell_type": "code",
   "source": [
    "# from qiskit import Aer, QuantumCircuit, execute\n",
    "# gamma= 1\n",
    "# qc = QuantumCircuit(num_qubits, num_qubits)\n",
    "# # qc.h(range(num_qubits))\n",
    "# # print(qc)\n",
    "# get_cost_circuit2(gamma, qc)\n",
    "# print(qc)\n",
    "# qc.decompose().draw('mpl')"
   ],
   "id": "91ef23d56a410d5b",
   "outputs": [],
   "execution_count": 17
  },
  {
   "metadata": {
    "ExecuteTime": {
     "end_time": "2025-01-06T08:50:41.142384Z",
     "start_time": "2025-01-06T08:50:41.129055Z"
    }
   },
   "cell_type": "code",
   "source": "",
   "id": "70bee8a5d087fc35",
   "outputs": [],
   "execution_count": null
  },
  {
   "metadata": {},
   "cell_type": "markdown",
   "source": [
    "\\begin{align}\\sum_{j=0}^{m-1}\\sum_{i=0}^{n-1} \\sum_{i^{\\prime}=0}^{n-1}\\left(\\prod_{k=0}^{N-1}\\frac{1}{2}\\left(1+\\left(1-2b_{j k}\\right) Z_{i k}\\right)\\right) p_{i j}\\left(\\prod_{k^{\\prime}=0}^{N-1}\\frac{1}{2}\\left(1+\\left(1-2b_{j k}\\right) Z_{i^{\\prime} k^{\\prime}}\\right)\\right) p_{i^{\\prime} j}\\end{align}\n",
    "\\begin{align}-2 \\sum_{j=0}^{m-1} \\sum_{i=0}^{n-1} \\sum_{h=0}^{l-1} \\left(\\prod_{k=0}^{N-1}\\frac{1}{2}\\left(1+\\left(1-2b_{j k}\\right) Z_{i k}\\right)\\right) p_{i j} \\cdot 2^{h-1}\\left(1-Z_h\\right)\\end{align}\n",
    "\\begin{align}\\sum_{j=0}^{m-1}\\sum_{h=0}^{l-1} \\sum_{h^{\\prime}=0}^{l-1} 2^{h-1} 2^{h^{\\prime}-1}\\left(1-Z_h-Z_{h^{\\prime}}+Z_h Z_{h^{\\prime}}\\right)\\end{align}"
   ],
   "id": "8923b57427f69dec"
  },
  {
   "metadata": {
    "ExecuteTime": {
     "end_time": "2025-01-06T08:50:42.516690Z",
     "start_time": "2025-01-06T08:50:42.497067Z"
    }
   },
   "cell_type": "code",
   "source": [
    "def get_cost_circuit3(gamma, qc):\n",
    "    for j in range(1):\n",
    "        # # 12\n",
    "        # qubits_index = np.array([0, 1])\n",
    "        # constant = (1/16)*(1-2*b[j, 0])*(1-2*b[j, 1]) * p[0, j] * p[0, j]\n",
    "        # append_multi_rzz_term(qc, qubits_index, P * 2 * constant * gamma)\n",
    "        # # 13\n",
    "        # qubits_index = np.array([1])\n",
    "        # constant = (1/16)*(1-2*b[j, 0])*(1-2*b[j, 0])*(1-2*b[j, 1]) * p[0, j] * p[0, j]\n",
    "        # append_multi_rzz_term(qc, qubits_index, P * 2 * constant * gamma)\n",
    "        # # 23\n",
    "        # qubits_index = np.array([0])\n",
    "        # constant = (1/16)*(1-2*b[j, 1])*(1-2*b[j, 0])*(1-2*b[j, 1]) * p[0, j] * p[0, j]\n",
    "        # append_multi_rzz_term(qc, qubits_index, P * 2 * constant * gamma)\n",
    "        # \n",
    "        # # 45\n",
    "        # qubits_index = np.array([2, 3])\n",
    "        # constant = (1/16)*(1-2*b[j, 0])*(1-2*b[j, 1]) * p[1, j] * p[1, j]\n",
    "        # append_multi_rzz_term(qc, qubits_index, P * 2 * constant * gamma)\n",
    "        #  # 46\n",
    "        # qubits_index = np.array([3])\n",
    "        # constant= (1/16)*(1-2*b[j, 0])*(1-2*b[j, 0])*(1-2*b[j, 1]) * p[1, j] * p[1, j]\n",
    "        # append_multi_rzz_term(qc, qubits_index, P * 2 * constant * gamma)\n",
    "        # # 56\n",
    "        # qubits_index = np.array([2])\n",
    "        # constant = (1/16)*(1-2*b[j, 1])*(1-2*b[j, 0])*(1-2*b[j, 1]) * p[1, j] * p[1, j]\n",
    "        # append_multi_rzz_term(qc, qubits_index, P * 2 * constant * gamma)\n",
    "\n",
    "        # # 14\n",
    "        # constant = (1/16)*(1-2*b[j, 0])*(1-2*b[j, 0]) * p[0, j] * p[1, j]\n",
    "        # append__zz_term(qc, 0, 2, P * 2 * constant * gamma)\n",
    "        # # 15\n",
    "        # constant = (1/16)*(1-2*b[j, 0])*(1-2*b[j, 1]) * p[0, j] * p[1, j]\n",
    "        # append__zz_term(qc, 0, 3, P * 2 * constant * gamma)\n",
    "        # # 16\n",
    "        # qubits_index = np.array([0,2,3])\n",
    "        # constant = (1/16)*(1-2*b[j, 0])*(1-2*b[j, 0])*(1-2*b[j, 1]) * p[0, j] * p[1, j]\n",
    "        # append_multi_rzz_term(qc, qubits_index, P * 2 * constant * gamma)\n",
    "        # \n",
    "        # # 24\n",
    "        # constant = (1/16)*(1-2*b[j, 1])*(1-2*b[j, 0]) * p[0, j] * p[1, j]\n",
    "        # append__zz_term(qc, 1, 2, P * 2 * constant * gamma)\n",
    "        # # 25\n",
    "        # constant = (1/16)*(1-2*b[j, 1])*(1-2*b[j, 1]) * p[0, j] * p[1, j]\n",
    "        # append__zz_term(qc, 1, 3, P * 2 * constant * gamma)\n",
    "        # # 26\n",
    "        # qubits_index = np.array([1,2,3])\n",
    "        # constant = (1/16)*(1-2*b[j, 1])*(1-2*b[j, 0])*(1-2*b[j, 1]) * p[0, j] * p[1, j]\n",
    "        # append_multi_rzz_term(qc, qubits_index, P * 2 * constant * gamma)\n",
    "        # \n",
    "        # # 34\n",
    "        # qubits_index = np.array([0,1,2])\n",
    "        # constant = (1/16)*(1-2*b[j, 0])*(1-2*b[j, 1])*(1-2*b[j, 0]) * p[0, j] * p[1, j]\n",
    "        # append_multi_rzz_term(qc, qubits_index, P * 2 * constant * gamma)\n",
    "        # # 35\n",
    "        # qubits_index = np.array([0,1,3])\n",
    "        # constant = (1/16)*(1-2*b[j, 0])*(1-2*b[j, 1])*(1-2*b[j, 1]) * p[0, j] * p[1, j]\n",
    "        # append_multi_rzz_term(qc, qubits_index, P * 2 * constant * gamma)\n",
    "        # # 36\n",
    "        # qubits_index = np.array([0,1,2,3])\n",
    "        # constant = (1/16)*(1-2*b[j, 0])*(1-2*b[j, 0])*(1-2*b[j, 1])*(1-2*b[j, 1]) * p[0, j] * p[1, j]\n",
    "        # append_multi_rzz_term(qc, qubits_index, P * 2 * constant * gamma)\n",
    "\n",
    "        # # 01\n",
    "        # qubits_index = np.array([0])\n",
    "        # constant = (1/16)*(1-2*b[j, 0]) * p[0, j] * p[0, j]\n",
    "        # append_multi_rzz_term(qc, qubits_index, P * 2 * constant * gamma)\n",
    "        # # 02\n",
    "        # qubits_index = np.array([1])\n",
    "        # constant = (1/16)*(1-2*b[j, 1]) * p[0, j] * p[0, j]\n",
    "        # append_multi_rzz_term(qc, qubits_index, P * 2 * constant * gamma)\n",
    "        # # 03\n",
    "        # qubits_index = np.array([0,1])\n",
    "        # constant = (1/16)*(1-2*b[j, 0])*(1-2*b[j, 1]) * p[0, j] * p[0, j]\n",
    "        # append_multi_rzz_term(qc, qubits_index, P * 2 * constant * gamma)  \n",
    "        #  # 04\n",
    "        # qubits_index = np.array([2])\n",
    "        # constant = (1/16)*(1-2*b[j, 0]) * p[0, j] * p[1, j]\n",
    "        # append_multi_rzz_term(qc, qubits_index, P * 2 * constant * gamma)\n",
    "        # # 05\n",
    "        # qubits_index = np.array([3])\n",
    "        # constant = (1/16)*(1-2*b[j, 1]) * p[0, j] * p[1, j]\n",
    "        # append_multi_rzz_term(qc, qubits_index, P * 2 * constant * gamma)\n",
    "        # # 06\n",
    "        # qubits_index = np.array([2,3])\n",
    "        # constant = (1/16)*(1-2*b[j, 0])*(1-2*b[j, 1]) * p[0, j] * p[1, j]\n",
    "        # append_multi_rzz_term(qc, qubits_index, P * 2 * constant * gamma)\n",
    "        # \n",
    "        # # 74\n",
    "        # qubits_index = np.array([2])\n",
    "        # constant = (1/16)*(1-2*b[j, 0]) * p[1, j] * p[1, j]\n",
    "        # append_multi_rzz_term(qc, qubits_index, P * 2 * constant * gamma)\n",
    "        # # 75\n",
    "        # qubits_index = np.array([3])\n",
    "        # constant = (1/16)*(1-2*b[j, 1]) * p[1, j] * p[1, j]\n",
    "        # append_multi_rzz_term(qc, qubits_index, P * 2 * constant * gamma)\n",
    "        # # 76\n",
    "        # qubits_index = np.array([2,3])\n",
    "        # constant = (1/16)*(1-2*b[j, 0])*(1-2*b[j, 1]) * p[1, j] * p[1, j]\n",
    "        # append_multi_rzz_term(qc, qubits_index, P * 2 * constant * gamma)\n",
    "        # \n",
    "        # # 71\n",
    "        # qubits_index = np.array([0])\n",
    "        # constant = (1/16)*(1-2*b[j, 0]) * p[1, j] * p[0, j]\n",
    "        # append_multi_rzz_term(qc, qubits_index, P * 2 * constant * gamma)\n",
    "        # # 72\n",
    "        # qubits_index = np.array([1])\n",
    "        # constant = (1/16)*(1-2*b[j, 1]) * p[1, j] * p[0, j]\n",
    "        # append_multi_rzz_term(qc, qubits_index, P * 2 * constant * gamma)\n",
    "        # # 73\n",
    "        # qubits_index = np.array([0,1])\n",
    "        # constant = (1/16)*(1-2*b[j, 0])*(1-2*b[j, 1]) * p[1, j] * p[0, j]\n",
    "        # append_multi_rzz_term(qc, qubits_index, P * 2 * constant * gamma)\n",
    "\n",
    "        for i in range(1):  # 遍历 i 的范围\n",
    "            qubits_index = np.array([i * N])\n",
    "            constant = (-1 / 8) * (1 - 2 * b[j, 0]) * p[i, j]\n",
    "            append_multi_rzz_term(qc, qubits_index, P * 2 * constant * gamma)\n",
    "\n",
    "            qubits_index = np.array([i * N + 1])\n",
    "            constant = (-1 / 8) * (1 - 2 * b[j, 1]) * p[i, j]\n",
    "            append_multi_rzz_term(qc, qubits_index, P * 2 * constant * gamma)\n",
    "\n",
    "            qubits_index = np.array([i * N, i * N + 1])\n",
    "            constant = (-1 / 8) * (1 - 2 * b[j, 0]) * (1 - 2 * b[j, 1]) * p[i, j]\n",
    "            append_multi_rzz_term(qc, qubits_index, P * 2 * constant * gamma)\n",
    "\n",
    "            qubits_index = np.array([4])\n",
    "            constant = (1 / 8) * p[i, j]\n",
    "            append_multi_rzz_term(qc, qubits_index, P * 2 * constant * gamma)\n",
    "\n",
    "            # qubits_index = np.array([i * N + 1])\n",
    "            # constant = (1/8)*(1-2*b[j, 1]) * p[i, j]\n",
    "            # append_multi_rzz_term(qc, qubits_index, P * 2 * constant * gamma)\n",
    "            # \n",
    "            # qubits_index = np.array([i * N, i * N + 1])\n",
    "            # constant = (1/8)*(1-2*b[j, 0]) * (1-2*b[j, 1]) * p[i, j]\n",
    "            # append_multi_rzz_term(qc, qubits_index, P * 2 * constant * gamma)\n",
    "\n",
    "            qubits_index = np.array([i * N, 4])\n",
    "            constant = (1 / 8) * (1 - 2 * b[j, 0]) * p[i, j]\n",
    "            append_multi_rzz_term(qc, qubits_index, P * 2 * constant * gamma)\n",
    "\n",
    "            qubits_index = np.array([i * N + 1, 4])\n",
    "            constant = (1 / 8) * (1 - 2 * b[j, 1]) * p[i, j]\n",
    "            append_multi_rzz_term(qc, qubits_index, P * 2 * constant * gamma)\n",
    "\n",
    "            qubits_index = np.array([i * N, i * N + 1, 4])\n",
    "            constant = (1 / 8) * (1 - 2 * b[j, 0]) * (1 - 2 * b[j, 1]) * p[i, j]\n",
    "            append_multi_rzz_term(qc, qubits_index, P * 2 * constant * gamma)\n",
    "\n",
    "        # for h1 in range(l):  # 遍历 h 的范围\n",
    "        #     for h2 in range(l):  # 遍历 h' 的范围\n",
    "        #         coef = 2 ** (h1 - 1) * 2 ** (h2 - 1)  # 计算系数权重\n",
    "        # \n",
    "        #         # -Z_h1 项\n",
    "        #         append__z_term(qc, n * N + h1, 2 * P * coef * gamma)\n",
    "        # \n",
    "        #         # -Z_h2 项\n",
    "        #         append__z_term(qc, n * N + h2, 2 * P * coef * gamma)\n",
    "        # \n",
    "        #         # Z_h1 Z_h2 项\n",
    "        #         if h1 != h2:  # 避免重复\n",
    "        #             append__zz_term(qc, n * N + h1, n * N + h2, 2 * P * coef * gamma)\n"
   ],
   "id": "9a17a5acfe3fc9d8",
   "outputs": [],
   "execution_count": 18
  },
  {
   "metadata": {
    "ExecuteTime": {
     "end_time": "2025-01-06T08:51:48.132302Z",
     "start_time": "2025-01-06T08:51:48.122219Z"
    }
   },
   "cell_type": "code",
   "source": [
    "# from qiskit import Aer, QuantumCircuit, execute\n",
    "# gamma= 1\n",
    "# qc = QuantumCircuit(num_qubits, num_qubits)\n",
    "# get_cost_circuit3(gamma, qc)\n",
    "# print(qc)\n",
    "# qc.decompose().draw('mpl')"
   ],
   "id": "aff6795898aba642",
   "outputs": [],
   "execution_count": 21
  },
  {
   "metadata": {
    "ExecuteTime": {
     "end_time": "2025-01-06T08:51:56.307458Z",
     "start_time": "2025-01-06T08:51:56.295450Z"
    }
   },
   "cell_type": "code",
   "source": [
    "# from qiskit import Aer, QuantumCircuit, execute\n",
    "# gamma= 1\n",
    "# qc = QuantumCircuit(num_qubits, num_qubits)\n",
    "# # qc.h(range(num_qubits))\n",
    "# # print(qc)\n",
    "# get_cost_circuit3(gamma, qc)\n",
    "# print(qc)\n",
    "# qc.decompose().draw('mpl')"
   ],
   "id": "8403f5403d1a3db2",
   "outputs": [],
   "execution_count": 23
  },
  {
   "metadata": {
    "ExecuteTime": {
     "end_time": "2025-01-06T08:51:57.404761Z",
     "start_time": "2025-01-06T08:51:57.388832Z"
    }
   },
   "cell_type": "code",
   "source": [
    "def get_mixer_circuit(beta, qc):\n",
    "    # beta, gamma = params[:len(params)//2], params[len(params)//2:]\n",
    "    for i in range(num_qubits):\n",
    "        append__mixer_term(qc, i, beta)\n",
    "    return qc"
   ],
   "id": "45a838eedf24a21",
   "outputs": [],
   "execution_count": 24
  },
  {
   "metadata": {
    "ExecuteTime": {
     "end_time": "2025-01-06T08:51:57.975635Z",
     "start_time": "2025-01-06T08:51:57.961496Z"
    }
   },
   "cell_type": "code",
   "source": [
    "def invert_counts(s):\n",
    "    return s[::-1]"
   ],
   "id": "b401b61cad096d4d",
   "outputs": [],
   "execution_count": 25
  },
  {
   "metadata": {
    "ExecuteTime": {
     "end_time": "2025-01-06T08:51:58.937773Z",
     "start_time": "2025-01-06T08:51:58.922967Z"
    }
   },
   "cell_type": "code",
   "source": [
    "from qiskit import Aer, QuantumCircuit, execute\n",
    "\n",
    "\n",
    "# 定义成本函数\n",
    "def cost_function(params):\n",
    "    beta, gamma = params[:len(params) // 2], params[len(params) // 2:]\n",
    "    num_qubits = n * N + l\n",
    "    qc = QuantumCircuit(num_qubits, num_qubits)\n",
    "    qc.h(range(num_qubits))\n",
    "    # print(qc)\n",
    "\n",
    "    length = len(params)\n",
    "    for i in range(int(length / 2)):\n",
    "        get_cost_circuit1(gamma[i], qc)\n",
    "        get_cost_circuit2(gamma[i], qc)\n",
    "        get_cost_circuit3(gamma[i], qc)\n",
    "        get_mixer_circuit(beta[i], qc)\n",
    "    # 模拟电路\n",
    "    # 添加测量指令\n",
    "    qc.measure(range(num_qubits), range(num_qubits))\n",
    "    backend = Aer.get_backend('qasm_simulator')\n",
    "    result = execute(qc, backend, seed_simulator=10, shots=10000).result()\n",
    "    counts = result.get_counts(qc)\n",
    "    # 计算期望值\n",
    "    expectation = 0\n",
    "    for bitstring, count in counts.items():\n",
    "        bitstring = invert_counts(bitstring)\n",
    "        prob = count / 10000\n",
    "        z_h = np.array([int(bit) for bit in bitstring[(n * N):]])\n",
    "        s_ik = np.array([int(bit) for bit in bitstring[:(n * N)]]).reshape(n, N)\n",
    "        E1 = np.sum([2 ** h * z for h, z in enumerate(z_h)])\n",
    "        E2 = 0\n",
    "        for j in range(len(bw)):\n",
    "            for i in range(n):\n",
    "                constant = 1\n",
    "                for k in range(N):\n",
    "                    constant = constant * (1 - (s_ik[i, k] - bw[j, k]) ** 2)\n",
    "                E2 += constant\n",
    "        E2 = K1 * E2\n",
    "        E3 = 0\n",
    "        for j in range(m):\n",
    "            constant1 = 0\n",
    "            for i in range(n):\n",
    "                constant2 = 1\n",
    "                for k in range(N):\n",
    "                    constant2 = constant2 * (1 - (s_ik[i, k] - b[j, k]) ** 2)\n",
    "                constant1 += p[i, j] * constant2\n",
    "            constant3 = 0\n",
    "            for h in range(l):\n",
    "                constant3 += 2 ** h * z_h[h]\n",
    "            constant = max(0, constant1 - constant3)\n",
    "            E3 += P * (constant) ** 2\n",
    "\n",
    "        # alpha_s = np.max([0, np.sum(x_ij * p) - np.sum([2 ** h * z for h, z in enumerate(z_h)])])\n",
    "\n",
    "        E = E1 + E2 + E3\n",
    "\n",
    "        expectation += E * prob\n",
    "\n",
    "    return expectation, counts"
   ],
   "id": "64263ef21c05e105",
   "outputs": [],
   "execution_count": 26
  },
  {
   "metadata": {
    "ExecuteTime": {
     "end_time": "2025-01-06T08:52:01.547684Z",
     "start_time": "2025-01-06T08:52:01.215650Z"
    }
   },
   "cell_type": "code",
   "source": [
    "from qiskit_algorithms.optimizers import COBYLA\n",
    "\n",
    "\n",
    "# 优化 QAOA 参数\n",
    "def optimize_qaoa(params):\n",
    "    def objective(params):\n",
    "        expectation, _ = cost_function(params)\n",
    "\n",
    "        return expectation\n",
    "\n",
    "    optimizer = COBYLA(rhobeg=1.5, tol=1e-8)\n",
    "    # params = np.random.rand(2 * p_max) * 2 * np.pi\n",
    "    result = optimizer.minimize(fun=objective, x0=params)\n",
    "\n",
    "    return result"
   ],
   "id": "e9c9c9bafc078303",
   "outputs": [],
   "execution_count": 27
  },
  {
   "metadata": {
    "ExecuteTime": {
     "end_time": "2025-01-06T08:53:17.626123Z",
     "start_time": "2025-01-06T08:52:02.759595Z"
    }
   },
   "cell_type": "code",
   "source": [
    "import time\n",
    "\n",
    "# 运行优化\n",
    "startTime = time.time()\n",
    "ansatz_final = object()\n",
    "init_point = np.array([])\n",
    "counts = {}\n",
    "min_energy = 0\n",
    "final_result = object()\n",
    "for p1 in range(1, 4):\n",
    "    min_energy = 10000\n",
    "    for k in range(10):\n",
    "        print('第：', p1, '层', ' ', '第', k, '个参数')\n",
    "        init_point_temp = init_point\n",
    "        beta_p = np.random.uniform(0, np.pi)\n",
    "        gamma_p = np.random.uniform(0, 2 * np.pi)\n",
    "        if k > 0:\n",
    "            init_point_temp = np.delete(init_point_temp, 2 * p1 - 1)\n",
    "            init_point_temp = np.delete(init_point_temp, p1 - 1)\n",
    "        init_point_temp = np.insert(init_point_temp, p1 - 1, beta_p)\n",
    "        init_point_temp = np.insert(init_point_temp, 2 * p1 - 1, gamma_p)\n",
    "        result = optimize_qaoa(init_point_temp)\n",
    "\n",
    "        # print(result.x)\n",
    "        optimal_params = result.x\n",
    "\n",
    "        # 计算最终的能量\n",
    "        energy, counts_temp = cost_function(result.x)\n",
    "        if min_energy > energy:\n",
    "            min_energy = energy\n",
    "            init_point = optimal_params\n",
    "            counts = counts_temp\n",
    "            final_result = result\n",
    "endTime = time.time()"
   ],
   "id": "ffcc54bd1b854fb0",
   "outputs": [
    {
     "name": "stdout",
     "output_type": "stream",
     "text": [
      "第： 1 层   第 0 个参数\n"
     ]
    },
    {
     "name": "stderr",
     "output_type": "stream",
     "text": [
      "C:\\Users\\李华宪\\AppData\\Local\\Temp\\ipykernel_80288\\2667179906.py:21: DeprecationWarning: The function ``qiskit.execute_function.execute()`` is deprecated as of qiskit 0.46.0. It will be removed in the Qiskit 1.0 release. This function combines ``transpile`` and ``backend.run``, which is covered by ``Sampler`` :mod:`~qiskit.primitives`. Alternatively, you can also run :func:`.transpile` followed by ``backend.run()``.\n",
      "  result = execute(qc, backend, seed_simulator=10, shots=10000).result()\n"
     ]
    },
    {
     "name": "stdout",
     "output_type": "stream",
     "text": [
      "第： 1 层   第 1 个参数\n",
      "第： 1 层   第 2 个参数\n",
      "第： 1 层   第 3 个参数\n",
      "第： 1 层   第 4 个参数\n",
      "第： 1 层   第 5 个参数\n",
      "第： 1 层   第 6 个参数\n",
      "第： 1 层   第 7 个参数\n",
      "第： 1 层   第 8 个参数\n",
      "第： 1 层   第 9 个参数\n",
      "第： 2 层   第 0 个参数\n",
      "第： 2 层   第 1 个参数\n",
      "第： 2 层   第 2 个参数\n",
      "第： 2 层   第 3 个参数\n",
      "第： 2 层   第 4 个参数\n",
      "第： 2 层   第 5 个参数\n",
      "第： 2 层   第 6 个参数\n",
      "第： 2 层   第 7 个参数\n",
      "第： 2 层   第 8 个参数\n",
      "第： 2 层   第 9 个参数\n",
      "第： 3 层   第 0 个参数\n",
      "第： 3 层   第 1 个参数\n",
      "第： 3 层   第 2 个参数\n",
      "第： 3 层   第 3 个参数\n",
      "第： 3 层   第 4 个参数\n",
      "第： 3 层   第 5 个参数\n",
      "第： 3 层   第 6 个参数\n",
      "第： 3 层   第 7 个参数\n",
      "第： 3 层   第 8 个参数\n",
      "第： 3 层   第 9 个参数\n"
     ]
    }
   ],
   "execution_count": 28
  },
  {
   "metadata": {
    "ExecuteTime": {
     "end_time": "2024-10-30T13:22:22.335771Z",
     "start_time": "2024-10-30T13:22:22.074235Z"
    }
   },
   "cell_type": "code",
   "source": [
    "from qiskit.visualization import plot_histogram\n",
    "\n",
    "# 输出结果\n",
    "print(\"优化时间：\", endTime - startTime)\n",
    "print(\"Optimal parameters:\", final_result.x)\n",
    "print(\"Optimal value:\", final_result.fun)\n",
    "# 使用最优参数运行量子电路并输出测量结果\n",
    "final_expectation, final_counts = cost_function(final_result.x)\n",
    "sorted_dict = {item[0][::-1]: item[1] for item in sorted(final_counts.items(), key=lambda item: item[1], reverse=True)}\n",
    "print(\"Final expectation value:\", final_expectation)\n",
    "print(\"Final measurement counts:\", sorted_dict)\n",
    "plot_histogram(sorted_dict)"
   ],
   "id": "4261bc08a9ed929f",
   "outputs": [
    {
     "name": "stdout",
     "output_type": "stream",
     "text": [
      "优化时间： 211.20545840263367\n",
      "Optimal parameters: [6.88839092 1.88828122 1.33899631 1.46512248 8.64962619 5.71843707]\n",
      "Optimal value: 112.74300000000001\n",
      "Final expectation value: 112.74300000000001\n",
      "Final measurement counts: {'00111': 3117, '00101': 2088, '10111': 2060, '11101': 486, '10001': 394, '01111': 226, '01110': 193, '10011': 168, '00110': 114, '01000': 103, '11011': 94, '00100': 91, '01010': 85, '11001': 79, '00011': 78, '00000': 73, '01011': 70, '11000': 69, '01100': 67, '10110': 63, '00010': 52, '11010': 52, '01101': 36, '10100': 34, '01001': 34, '11110': 25, '10010': 16, '11100': 15, '10000': 8, '11111': 5, '10101': 3, '00001': 2}\n"
     ]
    },
    {
     "data": {
      "text/plain": [
       "<Figure size 700x500 with 1 Axes>"
      ],
      "image/png": "[encoded data removed]"
     },
     "execution_count": 54,
     "metadata": {},
     "output_type": "execute_result"
    }
   ],
   "execution_count": 54
  },
  {
   "metadata": {
    "ExecuteTime": {
     "end_time": "2024-10-30T13:22:22.367223Z",
     "start_time": "2024-10-30T13:22:22.355189Z"
    }
   },
   "cell_type": "code",
   "source": [
    "expectation = 0\n",
    "bitstring = \"00011\"\n",
    "z_h = np.array([int(bit) for bit in bitstring[(n * N):]])\n",
    "s_ik = np.array([int(bit) for bit in bitstring[:(n * N)]]).reshape(n, N)\n",
    "E1 = np.sum([2 ** h * z for h, z in enumerate(z_h)])\n",
    "E2 = 0\n",
    "for j in range(len(bw)):\n",
    "    for i in range(n):\n",
    "        constant = 1\n",
    "        for k in range(N):\n",
    "            constant = constant * (1 - (s_ik[i, k] - bw[j, k]) ** 2)\n",
    "        E2 += constant\n",
    "E2 = K1 * E2\n",
    "E3 = 0\n",
    "for j in range(m):\n",
    "    constant1 = 0\n",
    "    # print(\"机器：\", j)\n",
    "    for i in range(n):\n",
    "        constant2 = 1\n",
    "        for k in range(N):\n",
    "            constant2 = constant2 * (1 - (s_ik[i, k] - b[j, k]) ** 2)\n",
    "        # print(\"constant2:\", constant2)\n",
    "        # print(\"p[i,j]:\", p[i,j])\n",
    "        constant1 += p[i, j] * constant2\n",
    "    # print(\"constant1:\", constant1)\n",
    "    constant3 = 0\n",
    "    for h in range(l):\n",
    "        constant3 += 2 ** h * z_h[h]\n",
    "    # print(\"constant3:\", constant3)\n",
    "    constant = max(0, constant1 - constant3)\n",
    "    E3 += (constant) ** 2\n",
    "\n",
    "    # alpha_s = np.max([0, np.sum(x_ij * p) - np.sum([2 ** h * z for h, z in enumerate(z_h)])])\n",
    "\n",
    "E = E1 + K1 * E2 + P * E3\n",
    "print(E1)\n",
    "print(E2)\n",
    "print(E3)\n",
    "# print(e1)\n",
    "# print(e2)"
   ],
   "id": "17d987eaf3be8f0f",
   "outputs": [
    {
     "name": "stdout",
     "output_type": "stream",
     "text": [
      "1\n",
      "0\n",
      "4\n"
     ]
    }
   ],
   "execution_count": 55
  },
  {
   "metadata": {
    "ExecuteTime": {
     "end_time": "2024-10-30T13:22:22.398224Z",
     "start_time": "2024-10-30T13:22:22.384362Z"
    }
   },
   "cell_type": "code",
   "source": "",
   "id": "4888b1d2b1ed7be9",
   "outputs": [],
   "execution_count": null
  }
 ],
 "metadata": {
  "kernelspec": {
   "display_name": "Python 3",
   "language": "python",
   "name": "python3"
  },
  "language_info": {
   "codemirror_mode": {
    "name": "ipython",
    "version": 2
   },
   "file_extension": ".py",
   "mimetype": "text/x-python",
   "name": "python",
   "nbconvert_exporter": "python",
   "pygments_lexer": "ipython2",
   "version": "2.7.6"
  }
 },
 "nbformat": 4,
 "nbformat_minor": 5
}
