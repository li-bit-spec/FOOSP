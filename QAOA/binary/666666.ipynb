{
 "cells": [
  {
   "metadata": {
    "collapsed": true,
    "ExecuteTime": {
     "end_time": "2025-03-04T08:49:05.704360Z",
     "start_time": "2025-03-04T08:49:05.693354Z"
    }
   },
   "cell_type": "code",
   "source": [
    "import numpy as np\n",
    "\n",
    "# 假设有 3 台机器和 3 个操作\n",
    "m = 3  # 机器数量\n",
    "N = 2  # 表示机器的二进制 (0, 1)\n",
    "n = 2  # 操作数量\n",
    "l = 1  # 用于表示 C_max 的二进制位数\n",
    "\n",
    "# 处理时间矩阵 (例如)\n",
    "p = np.array([[3, 1, 3], [2, 3, 1]])\n",
    "\n",
    "b = np.array([[0, 0], [1, 0], [0, 1]])\n",
    "# 非法数组(用于表示机器数)(1, 1)\n",
    "bw = np.array([[1, 1]])\n",
    "# 常数\n",
    "K1 = 10\n",
    "P = 10\n",
    "# print(len(bw))\n",
    "# 量子比特数量\n",
    "num_qubits = n * N + l"
   ],
   "id": "initial_id",
   "outputs": [],
   "execution_count": 121
  },
  {
   "metadata": {
    "ExecuteTime": {
     "end_time": "2025-03-04T08:49:06.125152Z",
     "start_time": "2025-03-04T08:49:06.105134Z"
    }
   },
   "cell_type": "code",
   "source": [
    "def append_multi_rzz_term(qc, qubits, gamma):\n",
    "    \"\"\"\n",
    "    实现多体 Z 相互作用项 e^{-i \\gamma Z_1 Z_2 \\dots Z_k}.\n",
    "    \"\"\"\n",
    "    if len(qubits) == 0:\n",
    "        return\n",
    "    if len(qubits) == 1:\n",
    "        qc.rz(2 * gamma, qubits[0])\n",
    "        return\n",
    "\n",
    "    # 链式 CNOT 到最后一个量子比特\n",
    "    for q in qubits[:-1]:\n",
    "        qc.cx(q, qubits[-1])\n",
    "\n",
    "    # 应用 RZ 门\n",
    "    qc.rz(2 * gamma, qubits[-1])\n",
    "\n",
    "    # 恢复链式 CNOT\n",
    "    for q in reversed(qubits[:-1]):\n",
    "        qc.cx(q, qubits[-1])"
   ],
   "id": "744d1188245ca22d",
   "outputs": [],
   "execution_count": 122
  },
  {
   "metadata": {
    "ExecuteTime": {
     "end_time": "2025-03-04T08:49:06.532152Z",
     "start_time": "2025-03-04T08:49:06.522149Z"
    }
   },
   "cell_type": "code",
   "source": [
    "def append__zz_term(qc, qubit1, qubit2, gamma):\n",
    "    qc.cx(qubit1, qubit2)\n",
    "    qc.rz(gamma, qubit2)\n",
    "    qc.cx(qubit1, qubit2)\n",
    "\n",
    "\n",
    "def append__z_term(qc, qubit, gamma):\n",
    "    qc.rz(gamma, qubit)\n",
    "\n",
    "\n",
    "def append__mixer_term(qc, qubit, beta):\n",
    "    qc.rx(2 * beta, qubit)"
   ],
   "id": "78cd574ca18acceb",
   "outputs": [],
   "execution_count": 123
  },
  {
   "metadata": {
    "ExecuteTime": {
     "end_time": "2025-03-04T08:49:06.907311Z",
     "start_time": "2025-03-04T08:49:06.894107Z"
    }
   },
   "cell_type": "code",
   "source": [
    "def get_cost_circuit1(gamma, qc):\n",
    "    for h in range(l):\n",
    "        coef = -0.5 * 2 ** h  # 或 -2**(h-1)\n",
    "        append__z_term(qc, N * n + h, gamma * coef)  # RZ(2 * (-2^(h-1)) * gamma)\n",
    "    return qc"
   ],
   "id": "a177ac766f2e3c4b",
   "outputs": [],
   "execution_count": 124
  },
  {
   "metadata": {},
   "cell_type": "markdown",
   "source": "\\begin{align}K_{1} \\sum_{j\\in W} \\sum_{i=0}^{n}\\prod_{k=0}^{N}\\left(\\frac{1}2+\\left(\\frac{1}2-b_{j k}\\right)Z_{ik}\\right)\\end{align}",
   "id": "6d569514dfbbda71"
  },
  {
   "metadata": {
    "ExecuteTime": {
     "end_time": "2025-03-04T08:49:07.711829Z",
     "start_time": "2025-03-04T08:49:07.691313Z"
    }
   },
   "cell_type": "code",
   "source": [
    "import itertools\n",
    "\n",
    "\n",
    "def get_cost_circuit2(gamma, qc):\n",
    "    if len(bw) == 0:\n",
    "        return qc\n",
    "    all_combinations = list(\n",
    "        itertools.chain(*([[]], *(itertools.combinations(range(N), r) for r in range(1, N + 1)))))  # 包含空集\n",
    "    for j in range(len(bw)):\n",
    "        for i in range(n):\n",
    "            for qubit_indices in all_combinations:\n",
    "                constant = K1 / (2 ** N)  # 初始系数包含 K1\n",
    "                qubits_index = np.array([], dtype=int)\n",
    "                for k in range(N):\n",
    "                    if k in qubit_indices:\n",
    "                        constant *= (1 - 2 * bw[j, k])\n",
    "                        qubits_index = np.append(qubits_index, i * N + k)\n",
    "                # 空集项不添加量子门，仅影响全局相位（可忽略）\n",
    "                if len(qubits_index) > 0:\n",
    "                    append_multi_rzz_term(qc, qubits_index, constant * gamma)\n",
    "    return qc\n"
   ],
   "id": "67570f9028e40f9",
   "outputs": [],
   "execution_count": 125
  },
  {
   "metadata": {},
   "cell_type": "markdown",
   "source": [
    "\\begin{align}\\sum_{j=0}^{m-1}\\sum_{i=0}^{n-1} \\sum_{i^{\\prime}=0}^{n-1}\\left(\\prod_{k=0}^{N-1}\\frac{1}{2}\\left(1+\\left(1-2b_{j k}\\right) Z_{i k}\\right)\\right) p_{i j}\\left(\\prod_{k^{\\prime}=0}^{N-1}\\frac{1}{2}\\left(1+\\left(1-2b_{j k}\\right) Z_{i^{\\prime} k^{\\prime}}\\right)\\right) p_{i^{\\prime} j}\\end{align}\n",
    "\\begin{align}-2 \\sum_{j=0}^{m-1} \\sum_{i=0}^{n-1} \\sum_{h=0}^{l-1} \\left(\\prod_{k=0}^{N-1}\\frac{1}{2}\\left(1+\\left(1-2b_{j k}\\right) Z_{i k}\\right)\\right) p_{i j} \\cdot 2^{h-1}\\left(1-Z_h\\right)\\end{align}\n",
    "\\begin{align}\\sum_{j=0}^{m-1}\\sum_{h=0}^{l-1} \\sum_{h^{\\prime}=0}^{l-1} 2^{h-1} 2^{h^{\\prime}-1}\\left(1-Z_h-Z_{h^{\\prime}}+Z_h Z_{h^{\\prime}}\\right)\\end{align}"
   ],
   "id": "8923b57427f69dec"
  },
  {
   "metadata": {
    "ExecuteTime": {
     "end_time": "2025-03-04T08:49:08.742401Z",
     "start_time": "2025-03-04T08:49:08.728010Z"
    }
   },
   "cell_type": "code",
   "source": [
    "from collections import Counter\n",
    "import itertools\n",
    "\n",
    "\n",
    "def get_cost_circuit3(gamma, qc):\n",
    "    all_combinations = list(itertools.chain(*([[]], *(itertools.combinations(range(N), r) for r in range(1, N + 1)))))\n",
    "\n",
    "    for j in range(m):\n",
    "        # C_j^2\n",
    "        for i in range(n):\n",
    "            for i_prime in range(n):\n",
    "                for S_i in all_combinations:\n",
    "                    for S_i_prime in all_combinations:\n",
    "                        constant = P * p[i, j] * p[i_prime, j] / (2 ** (2 * N))\n",
    "                        qubits_index = []\n",
    "                        for k in S_i:\n",
    "                            constant *= (1 - 2 * b[j, k])\n",
    "                            qubits_index.append(i * N + k)\n",
    "                        for k in S_i_prime:\n",
    "                            constant *= (1 - 2 * b[j, k])\n",
    "                            qubits_index.append(i_prime * N + k)\n",
    "                        count = Counter(qubits_index)\n",
    "                        qubits_final = [x for x in count if count[x] % 2 != 0]\n",
    "                        append_multi_rzz_term(qc, qubits_final, gamma * constant)\n",
    "\n",
    "        # -2 C_j C_max\n",
    "        for i in range(n):\n",
    "            constant = P * p[i, j] / (2 ** N)\n",
    "            for S_i in all_combinations:\n",
    "                coef = constant\n",
    "                qubits_S = []\n",
    "                for k in S_i:\n",
    "                    coef *= (1 - 2 * b[j, k])\n",
    "                    qubits_S.append(i * N + k)\n",
    "                append_multi_rzz_term(qc, qubits_S, -2 * gamma * coef * (2 ** l - 1))\n",
    "                for h in range(l):\n",
    "                    qubits_combined = qubits_S + [n * N + h]\n",
    "                    append_multi_rzz_term(qc, qubits_combined, 2 * gamma * coef * 2 ** h)\n",
    "\n",
    "        # C_max^2\n",
    "        for h in range(l):\n",
    "            coef = -0.5 * P * (2 ** l - 1) * 2 ** h\n",
    "            append__z_term(qc, n * N + h, gamma * coef)\n",
    "            for h_prime in range(l):\n",
    "                if h != h_prime:\n",
    "                    coef = 0.25 * P * 2 ** h * 2 ** h_prime\n",
    "                    append__zz_term(qc, n * N + h, n * N + h_prime, gamma * coef)\n",
    "\n",
    "    return qc\n",
    "\n"
   ],
   "id": "1036d966c797837b",
   "outputs": [],
   "execution_count": 126
  },
  {
   "metadata": {
    "ExecuteTime": {
     "end_time": "2025-03-04T08:49:53.171257Z",
     "start_time": "2025-03-04T08:49:53.166248Z"
    }
   },
   "cell_type": "code",
   "source": [
    "def get_mixer_circuit(beta, qc):\n",
    "    for i in range(num_qubits):\n",
    "        append__mixer_term(qc, i, beta)\n",
    "    return qc\n",
    "\n",
    "# def get_mixer_circuit(beta, qc):\n",
    "#     for i in range(n * N):  # 只作用于 s_{ik} 比特\n",
    "#         append__mixer_term(qc, i, beta)  # 调整为 RX(-2β)\n",
    "#     return qc"
   ],
   "id": "45a838eedf24a21",
   "outputs": [],
   "execution_count": 132
  },
  {
   "metadata": {
    "ExecuteTime": {
     "end_time": "2025-03-04T08:49:53.587062Z",
     "start_time": "2025-03-04T08:49:53.567951Z"
    }
   },
   "cell_type": "code",
   "source": [
    "def invert_counts(s):\n",
    "    return s[::-1]"
   ],
   "id": "b401b61cad096d4d",
   "outputs": [],
   "execution_count": 133
  },
  {
   "metadata": {
    "ExecuteTime": {
     "end_time": "2025-03-04T08:49:53.881136Z",
     "start_time": "2025-03-04T08:49:53.870135Z"
    }
   },
   "cell_type": "code",
   "source": [
    "from qiskit import Aer, QuantumCircuit, execute\n",
    "\n",
    "\n",
    "# 定义成本函数\n",
    "def cost_function(params):\n",
    "    beta, gamma = params[:len(params) // 2], params[len(params) // 2:]\n",
    "    num_qubits = n * N + l\n",
    "    qc = QuantumCircuit(num_qubits, num_qubits)\n",
    "    qc.h(range(num_qubits))\n",
    "    # print(qc)\n",
    "\n",
    "    length = len(params)\n",
    "    for i in range(int(length / 2)):\n",
    "        get_cost_circuit1(gamma[i], qc)\n",
    "        get_cost_circuit2(gamma[i], qc)\n",
    "        get_cost_circuit3(gamma[i], qc)\n",
    "        get_mixer_circuit(beta[i], qc)\n",
    "    # 模拟电路\n",
    "    # 添加测量指令\n",
    "    qc.measure(range(num_qubits), range(num_qubits))\n",
    "    backend = Aer.get_backend('qasm_simulator')\n",
    "    result = execute(qc, backend, seed_simulator=10, shots=10000).result()\n",
    "    counts = result.get_counts(qc)\n",
    "    # 计算期望值\n",
    "    expectation = 0\n",
    "    for bitstring, count in counts.items():\n",
    "        bitstring = invert_counts(bitstring)\n",
    "        prob = count / 10000\n",
    "        z_h = np.array([int(bit) for bit in bitstring[(n * N):]])\n",
    "        s_ik = np.array([int(bit) for bit in bitstring[:(n * N)]]).reshape(n, N)\n",
    "        E1 = np.sum([2 ** h * z for h, z in enumerate(z_h)])\n",
    "        E2 = 0\n",
    "        for j in range(len(bw)):\n",
    "            for i in range(n):\n",
    "                constant = 1\n",
    "                for k in range(N):\n",
    "                    constant = constant * (1 - (s_ik[i, k] - bw[j, k]) ** 2)\n",
    "                E2 += constant\n",
    "        E2 = K1 * E2\n",
    "        E3 = 0\n",
    "        for j in range(m):\n",
    "            constant1 = 0\n",
    "            for i in range(n):\n",
    "                constant2 = 1\n",
    "                for k in range(N):\n",
    "                    constant2 = constant2 * (1 - (s_ik[i, k] - b[j, k]) ** 2)\n",
    "                constant1 += p[i, j] * constant2\n",
    "            constant3 = 0\n",
    "            for h in range(l):\n",
    "                constant3 += 2 ** h * z_h[h]\n",
    "            constant = max(0, constant1 - constant3)\n",
    "            E3 += P * (constant) ** 2\n",
    "\n",
    "        # alpha_s = np.max([0, np.sum(x_ij * p) - np.sum([2 ** h * z for h, z in enumerate(z_h)])])\n",
    "\n",
    "        E = E1 + E2 + E3\n",
    "\n",
    "        expectation += E * prob\n",
    "\n",
    "    return expectation, counts"
   ],
   "id": "64263ef21c05e105",
   "outputs": [],
   "execution_count": 134
  },
  {
   "metadata": {
    "ExecuteTime": {
     "end_time": "2025-03-04T08:49:54.633780Z",
     "start_time": "2025-03-04T08:49:54.621781Z"
    }
   },
   "cell_type": "code",
   "source": [
    "from qiskit_algorithms.optimizers import COBYLA\n",
    "\n",
    "\n",
    "# 优化 QAOA 参数\n",
    "def optimize_qaoa(params):\n",
    "    def objective(params):\n",
    "        expectation, _ = cost_function(params)\n",
    "\n",
    "        return expectation\n",
    "\n",
    "    optimizer = COBYLA(rhobeg=1.5, tol=1e-8)\n",
    "    # params = np.random.rand(2 * p_max) * 2 * np.pi\n",
    "    result = optimizer.minimize(fun=objective, x0=params)\n",
    "\n",
    "    return result"
   ],
   "id": "e9c9c9bafc078303",
   "outputs": [],
   "execution_count": 135
  },
  {
   "metadata": {
    "ExecuteTime": {
     "end_time": "2025-03-04T08:54:47.150304Z",
     "start_time": "2025-03-04T08:49:56.114120Z"
    }
   },
   "cell_type": "code",
   "source": [
    "import time\n",
    "\n",
    "# 运行优化\n",
    "startTime = time.time()\n",
    "ansatz_final = object()\n",
    "init_point = np.array([])\n",
    "counts = {}\n",
    "min_energy = 0\n",
    "final_result = object()\n",
    "for p1 in range(1, 4):\n",
    "    min_energy = 10000\n",
    "    for k in range(10):\n",
    "        print('第：', p1, '层', ' ', '第', k, '个参数')\n",
    "        init_point_temp = init_point\n",
    "        beta_p = np.random.uniform(0, np.pi)\n",
    "        gamma_p = np.random.uniform(0, 2 * np.pi)\n",
    "        if k > 0:\n",
    "            init_point_temp = np.delete(init_point_temp, 2 * p1 - 1)\n",
    "            init_point_temp = np.delete(init_point_temp, p1 - 1)\n",
    "        init_point_temp = np.insert(init_point_temp, p1 - 1, beta_p)\n",
    "        init_point_temp = np.insert(init_point_temp, 2 * p1 - 1, gamma_p)\n",
    "        result = optimize_qaoa(init_point_temp)\n",
    "\n",
    "        # print(result.x)\n",
    "        optimal_params = result.x\n",
    "\n",
    "        # 计算最终的能量\n",
    "        energy, counts_temp = cost_function(result.x)\n",
    "        if min_energy > energy:\n",
    "            min_energy = energy\n",
    "            init_point = optimal_params\n",
    "            counts = counts_temp\n",
    "            final_result = result\n",
    "endTime = time.time()"
   ],
   "id": "ffcc54bd1b854fb0",
   "outputs": [
    {
     "name": "stdout",
     "output_type": "stream",
     "text": [
      "第： 1 层   第 0 个参数\n",
      "第： 1 层   第 1 个参数\n",
      "第： 1 层   第 2 个参数\n",
      "第： 1 层   第 3 个参数\n",
      "第： 1 层   第 4 个参数\n",
      "第： 1 层   第 5 个参数\n",
      "第： 1 层   第 6 个参数\n",
      "第： 1 层   第 7 个参数\n",
      "第： 1 层   第 8 个参数\n",
      "第： 1 层   第 9 个参数\n",
      "第： 2 层   第 0 个参数\n",
      "第： 2 层   第 1 个参数\n",
      "第： 2 层   第 2 个参数\n",
      "第： 2 层   第 3 个参数\n",
      "第： 2 层   第 4 个参数\n",
      "第： 2 层   第 5 个参数\n",
      "第： 2 层   第 6 个参数\n",
      "第： 2 层   第 7 个参数\n",
      "第： 2 层   第 8 个参数\n",
      "第： 2 层   第 9 个参数\n",
      "第： 3 层   第 0 个参数\n",
      "第： 3 层   第 1 个参数\n",
      "第： 3 层   第 2 个参数\n",
      "第： 3 层   第 3 个参数\n",
      "第： 3 层   第 4 个参数\n",
      "第： 3 层   第 5 个参数\n",
      "第： 3 层   第 6 个参数\n",
      "第： 3 层   第 7 个参数\n",
      "第： 3 层   第 8 个参数\n",
      "第： 3 层   第 9 个参数\n"
     ]
    }
   ],
   "execution_count": 136
  },
  {
   "metadata": {
    "ExecuteTime": {
     "end_time": "2025-03-04T08:54:54.864797Z",
     "start_time": "2025-03-04T08:54:54.548985Z"
    }
   },
   "cell_type": "code",
   "source": [
    "import warnings\n",
    "from qiskit.visualization import plot_histogram\n",
    "\n",
    "# 忽略弃用警告\n",
    "warnings.filterwarnings(\"ignore\", category=DeprecationWarning)\n",
    "# 输出结果\n",
    "print(\"优化时间：\", endTime - startTime)\n",
    "print(\"Optimal parameters:\", final_result.x)\n",
    "print(\"Optimal value:\", final_result.fun)\n",
    "# 使用最优参数运行量子电路并输出测量结果\n",
    "final_expectation, final_counts = cost_function(final_result.x)\n",
    "sorted_dict = {item[0][::-1]: item[1] for item in sorted(final_counts.items(), key=lambda item: item[1], reverse=True)}\n",
    "# 过滤掉计数小于 100 的结果\n",
    "filtered_dict = {key: value for key, value in sorted_dict.items() if value >= 100}\n",
    "print(\"Final expectation value:\", final_expectation)\n",
    "print(\"Final measurement counts:\", filtered_dict)\n",
    "plot_histogram(filtered_dict)"
   ],
   "id": "4261bc08a9ed929f",
   "outputs": [
    {
     "name": "stdout",
     "output_type": "stream",
     "text": [
      "优化时间： 291.0195734500885\n",
      "Optimal parameters: [5.76137355 1.0838909  0.9463345  2.58852719 4.96337366 3.04397192]\n",
      "Optimal value: 41.38550000000001\n",
      "Final expectation value: 41.38550000000001\n",
      "Final measurement counts: {'10110': 1537, '00011': 1267, '11001': 927, '11110': 718, '11111': 711, '10001': 588, '10011': 503, '00101': 492, '01001': 408, '00111': 291, '10111': 254, '01011': 234, '11101': 225, '11100': 222, '10000': 212, '11000': 201, '11010': 159, '10100': 157, '01101': 148, '00001': 139, '10010': 132, '01110': 110}\n"
     ]
    },
    {
     "data": {
      "text/plain": [
       "<Figure size 700x500 with 1 Axes>"
      ],
      "image/png": "[encoded data removed]"
     },
     "execution_count": 137,
     "metadata": {},
     "output_type": "execute_result"
    }
   ],
   "execution_count": 137
  },
  {
   "metadata": {
    "ExecuteTime": {
     "end_time": "2025-03-04T08:24:29.809342Z",
     "start_time": "2025-03-04T08:24:29.789807Z"
    }
   },
   "cell_type": "code",
   "source": [
    "# 计算期望值\n",
    "expectation = 0\n",
    "for bitstring, count in sorted_dict.items():\n",
    "    bitstring = invert_counts(bitstring)\n",
    "    prob = count / 10000\n",
    "    z_h = np.array([int(bit) for bit in bitstring[n * N:]])\n",
    "    s_ik = np.array([int(bit) for bit in bitstring[:n * N]]).reshape(n, N)\n",
    "    E1 = np.sum([2 ** h * z for h, z in enumerate(z_h)])\n",
    "    E2 = 0\n",
    "    for j in range(len(bw)):  # 假设 bw 定义为 W\n",
    "        for i in range(n):\n",
    "            constant = 1\n",
    "            for k in range(N):\n",
    "                constant *= (1 - (s_ik[i, k] - bw[j, k]) ** 2)\n",
    "            E2 += constant\n",
    "    E2 = K1 * E2\n",
    "    E3 = 0\n",
    "    for j in range(m):\n",
    "        C_j = 0\n",
    "        for i in range(n):\n",
    "            constant = 1\n",
    "            for k in range(N):\n",
    "                constant *= (1 - (s_ik[i, k] - b[j, k]) ** 2)\n",
    "            C_j += p[i, j] * constant\n",
    "        C_max = np.sum([2 ** h * z_h[h] for h in range(l)])\n",
    "        E3 += P * (C_j - C_max) ** 2\n",
    "    E = E1 + E2 + E3\n",
    "    expectation += E * prob\n",
    "print(expectation)"
   ],
   "id": "3afd91f885895dcd",
   "outputs": [
    {
     "name": "stdout",
     "output_type": "stream",
     "text": [
      "667.0323999999999\n"
     ]
    }
   ],
   "execution_count": 79
  },
  {
   "metadata": {
    "ExecuteTime": {
     "end_time": "2025-03-04T08:43:33.322832Z",
     "start_time": "2025-03-04T08:43:33.307825Z"
    }
   },
   "cell_type": "code",
   "source": [
    "expectation = 0\n",
    "bitstring = \"10010\"\n",
    "z_h = np.array([int(bit) for bit in bitstring[(n * N):]])\n",
    "s_ik = np.array([int(bit) for bit in bitstring[:(n * N)]]).reshape(n, N)\n",
    "E1 = np.sum([2 ** h * z for h, z in enumerate(z_h)])\n",
    "E2 = 0\n",
    "for j in range(len(bw)):\n",
    "    for i in range(n):\n",
    "        constant = 1\n",
    "        for k in range(N):\n",
    "            constant = constant * (1 - (s_ik[i, k] - bw[j, k]) ** 2)\n",
    "        E2 += constant\n",
    "E2 = K1 * E2\n",
    "E3 = 0\n",
    "for j in range(m):\n",
    "    constant1 = 0\n",
    "    # print(\"机器：\", j)\n",
    "    for i in range(n):\n",
    "        constant2 = 1\n",
    "        for k in range(N):\n",
    "            constant2 = constant2 * (1 - (s_ik[i, k] - b[j, k]) ** 2)\n",
    "        # print(\"constant2:\", constant2)\n",
    "        # print(\"p[i,j]:\", p[i,j])\n",
    "        constant1 += p[i, j] * constant2\n",
    "    # print(\"constant1:\", constant1)\n",
    "    constant3 = 0\n",
    "    for h in range(l):\n",
    "        constant3 += 2 ** h * z_h[h]\n",
    "    # print(\"constant3:\", constant3)\n",
    "    constant = max(0, constant1 - constant3)\n",
    "    E3 += (constant) ** 2\n",
    "\n",
    "    # alpha_s = np.max([0, np.sum(x_ij * p) - np.sum([2 ** h * z for h, z in enumerate(z_h)])])\n",
    "\n",
    "E = E1 + K1 * E2 + P * E3\n",
    "print(E1)\n",
    "print(E2)\n",
    "print(E3)\n",
    "# print(e1)\n",
    "# print(e2)"
   ],
   "id": "17d987eaf3be8f0f",
   "outputs": [
    {
     "name": "stdout",
     "output_type": "stream",
     "text": [
      "0\n",
      "0\n",
      "2\n"
     ]
    }
   ],
   "execution_count": 108
  },
  {
   "metadata": {
    "ExecuteTime": {
     "end_time": "2024-10-30T14:24:31.456293Z",
     "start_time": "2024-10-30T14:24:31.444392Z"
    }
   },
   "cell_type": "code",
   "source": "",
   "id": "4888b1d2b1ed7be9",
   "outputs": [],
   "execution_count": null
  }
 ],
 "metadata": {
  "kernelspec": {
   "display_name": "Python 3",
   "language": "python",
   "name": "python3"
  },
  "language_info": {
   "codemirror_mode": {
    "name": "ipython",
    "version": 2
   },
   "file_extension": ".py",
   "mimetype": "text/x-python",
   "name": "python",
   "nbconvert_exporter": "python",
   "pygments_lexer": "ipython2",
   "version": "2.7.6"
  }
 },
 "nbformat": 4,
 "nbformat_minor": 5
}
