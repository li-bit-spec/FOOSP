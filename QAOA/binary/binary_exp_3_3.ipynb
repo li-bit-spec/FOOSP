{
 "cells": [
  {
   "metadata": {
    "collapsed": true,
    "ExecuteTime": {
     "end_time": "2025-02-25T14:19:56.966261Z",
     "start_time": "2025-02-25T14:19:56.951237Z"
    }
   },
   "cell_type": "code",
   "source": [
    "import numpy as np\n",
    "\n",
    "# from QAOA.binary.binary_exp_optimizer import optimal_params\n",
    "\n",
    "# 假设有 3 台机器和 3 个操作\n",
    "m = 3  # 机器数量\n",
    "N = 2  # 表示机器的二进制 (0, 1)\n",
    "n = 2  # 操作数量\n",
    "l = 1  # 用于表示 C_max 的二进制位数\n",
    "# 处理时间矩阵 (例如)\n",
    "p = np.array([[1, 2, 3], [2, 3, 1]])\n",
    "\n",
    "b = np.array([[0, 0], [1, 0], [0, 1]])\n",
    "# 非法数组(用于表示机器数)(1, 1)\n",
    "bw = np.array([[1, 1]])\n",
    "# 常数\n",
    "K1 = 100\n",
    "P = 200\n",
    "# print(len(bw))j\n",
    "# 量子比特数量\n",
    "num_qubits = n * N + l"
   ],
   "id": "initial_id",
   "outputs": [],
   "execution_count": 122
  },
  {
   "metadata": {
    "ExecuteTime": {
     "end_time": "2025-02-25T14:19:56.981787Z",
     "start_time": "2025-02-25T14:19:56.971257Z"
    }
   },
   "cell_type": "code",
   "source": [
    "def append_multi_rzz_term(qc, qubits, gamma):\n",
    "    \"\"\"\n",
    "    实现多体 Z 相互作用项 e^{-i \\gamma Z_1 Z_2 \\dots Z_k}.\n",
    "    \"\"\"\n",
    "    if len(qubits) == 1:\n",
    "        qc.rz(2 * gamma, qubits[0])\n",
    "        return\n",
    "\n",
    "    # 链式 CNOT 到最后一个量子比特\n",
    "    for q in qubits[:-1]:\n",
    "        qc.cx(q, qubits[-1])\n",
    "\n",
    "    # 应用 RZ 门\n",
    "    qc.rz(2 * gamma, qubits[-1])\n",
    "\n",
    "    # 恢复链式 CNOT\n",
    "    for q in reversed(qubits[:-1]):\n",
    "        qc.cx(q, qubits[-1])\n"
   ],
   "id": "744d1188245ca22d",
   "outputs": [],
   "execution_count": 123
  },
  {
   "metadata": {
    "ExecuteTime": {
     "end_time": "2025-02-25T14:14:36.505508Z",
     "start_time": "2025-02-25T14:14:36.498503Z"
    }
   },
   "cell_type": "code",
   "source": [
    "def append__zz_term(qc, qubit1, qubit2, gamma):\n",
    "    qc.cx(qubit1, qubit2)\n",
    "    qc.rz(2 * gamma, qubit2)\n",
    "    qc.cx(qubit1, qubit2)\n",
    "\n",
    "\n",
    "def append__z_term(qc, qubit, gamma):\n",
    "    qc.rz(2 * gamma, qubit)\n",
    "\n",
    "\n",
    "def append__mixer_term(qc, qubit, beta):\n",
    "    qc.rx(2 * beta, qubit)"
   ],
   "id": "78cd574ca18acceb",
   "outputs": [],
   "execution_count": 110
  },
  {
   "metadata": {},
   "cell_type": "markdown",
   "source": [
    "\\begin{equation}\n",
    "H=-\\sum_{h=0}^{l-1} 2^{h-1} Z_h\n",
    "\\end{equation}"
   ],
   "id": "49fc11a0f5881c6d"
  },
  {
   "metadata": {
    "ExecuteTime": {
     "end_time": "2025-02-25T14:14:37.472672Z",
     "start_time": "2025-02-25T14:14:37.457681Z"
    }
   },
   "cell_type": "code",
   "source": [
    "def get_cost_circuit1(gamma, qc):\n",
    "    for h in range(l):\n",
    "        angle = gamma * (-2 ** (h - 1))\n",
    "        # coef = - 2**h\n",
    "        append__z_term(qc, N * n + h, angle)\n",
    "    return qc"
   ],
   "id": "a177ac766f2e3c4b",
   "outputs": [],
   "execution_count": 111
  },
  {
   "metadata": {},
   "cell_type": "markdown",
   "source": "\\begin{align}K_{1} \\sum_{j\\in W} \\sum_{i=0}^{n}\\prod_{k=0}^{N}\\left(\\frac{1}2+\\left(\\frac{1}2-b_{j k}\\right)Z_{ik}\\right)\\end{align}",
   "id": "6d569514dfbbda71"
  },
  {
   "metadata": {
    "ExecuteTime": {
     "end_time": "2025-02-25T14:14:38.159041Z",
     "start_time": "2025-02-25T14:14:38.149526Z"
    }
   },
   "cell_type": "code",
   "source": [
    "import itertools\n",
    "\n",
    "\n",
    "def get_cost_circuit2(gamma, qc):\n",
    "    if len(bw) == 0:\n",
    "        return qc\n",
    "    # 包含空集（r=0）\n",
    "    all_combinations = list(itertools.chain(*(itertools.combinations(range(N), r) for r in range(1, N + 1))))\n",
    "    for j in range(len(bw)):\n",
    "        for i in range(n):\n",
    "            for qubit_indices in all_combinations:\n",
    "                constant = 1.0 / (2 ** N)\n",
    "                qubits_index = []\n",
    "                for k in range(N):\n",
    "                    if k in qubit_indices:\n",
    "                        constant *= (1 - 2 * bw[j, k])\n",
    "                        qubits_index.append(i * N + k)\n",
    "                # 空集项单独处理（仅常数项）\n",
    "                # if len(qubit_indices) == 0:\n",
    "                #     qc.rz(2 * K1 * constant * gamma, 0)  # 假设量子比特0为辅助位\n",
    "                # else:\n",
    "                append_multi_rzz_term(qc, qubits_index, K1 * constant * gamma)\n",
    "    return qc\n"
   ],
   "id": "67570f9028e40f9",
   "outputs": [],
   "execution_count": 112
  },
  {
   "metadata": {},
   "cell_type": "markdown",
   "source": [
    "\\begin{align}\\sum_{j=0}^{m-1}\\sum_{i=0}^{n-1} \\sum_{i^{\\prime}=0}^{n-1}\\left(\\prod_{k=0}^{N-1}\\frac{1}{2}\\left(1+\\left(1-2b_{j k}\\right) Z_{i k}\\right)\\right) p_{i j}\\left(\\prod_{k^{\\prime}=0}^{N-1}\\frac{1}{2}\\left(1+\\left(1-2b_{j k}\\right) Z_{i^{\\prime} k^{\\prime}}\\right)\\right) p_{i^{\\prime} j}\\end{align}\n",
    "\\begin{align}-2 \\sum_{j=0}^{m-1} \\sum_{i=0}^{n-1} \\sum_{h=0}^{l-1} \\left(\\prod_{k=0}^{N-1}\\frac{1}{2}\\left(1+\\left(1-2b_{j k}\\right) Z_{i k}\\right)\\right) p_{i j} \\cdot 2^{h-1}\\left(1-Z_h\\right)\\end{align}\n",
    "\\begin{align}\\sum_{j=0}^{m-1}\\sum_{h=0}^{l-1} \\sum_{h^{\\prime}=0}^{l-1} 2^{h-1} 2^{h^{\\prime}-1}\\left(1-Z_h-Z_{h^{\\prime}}+Z_h Z_{h^{\\prime}}\\right)\\end{align}"
   ],
   "id": "8923b57427f69dec"
  },
  {
   "metadata": {
    "ExecuteTime": {
     "end_time": "2025-02-25T14:14:38.846504Z",
     "start_time": "2025-02-25T14:14:38.834504Z"
    }
   },
   "cell_type": "code",
   "source": [
    "# import itertools\n",
    "from collections import Counter\n",
    "\n",
    "\n",
    "def get_cost_circuit3(gamma, qc):\n",
    "    # 预计算所有组合（含空集）\n",
    "    all_combinations = list(itertools.chain(*(itertools.combinations(range(N), r) for r in range(0, N + 1))))\n",
    "\n",
    "    for j in range(m):  # 遍历所有机器\n",
    "        # 处理所有i和i'的组合（包括i=i'）\n",
    "        for i1 in range(n):\n",
    "            for i2 in range(n):\n",
    "                for combo1 in all_combinations:\n",
    "                    for combo2 in all_combinations:\n",
    "                        # 计算系数\n",
    "                        constant = (1 / (2 ** (2 * N))) * p[i1, j] * p[i2, j]\n",
    "                        qubits = []\n",
    "                        # 处理combo1（i1的比特）\n",
    "                        for k in combo1:\n",
    "                            constant *= (1 - 2 * b[j, k])\n",
    "                            qubits.append(i1 * N + k)\n",
    "                        # 处理combo2（i2的比特）\n",
    "                        for k in combo2:\n",
    "                            constant *= (1 - 2 * b[j, k])\n",
    "                            qubits.append(i2 * N + k)\n",
    "                        # 合并相同量子比特（奇数次保留）\n",
    "                        count = Counter(qubits)\n",
    "                        qubits_final = [q for q, cnt in count.items() if cnt % 2 == 1]\n",
    "                        if len(qubits_final) > 0:\n",
    "                            # 添加哈密顿量项\n",
    "                            append_multi_rzz_term(qc, qubits_final, P * constant * gamma)\n",
    "    for j in range(m):\n",
    "        for i in range(n):\n",
    "            for combo in all_combinations:  # 包含空集\n",
    "                # 计算prod项系数\n",
    "                constant_prod = (1 / (2 ** N)) * p[i, j]\n",
    "                qubits_prod = []\n",
    "                for k in combo:\n",
    "                    constant_prod *= (1 - 2 * b[j, k])\n",
    "                    qubits_prod.append(i * N + k)\n",
    "                # 处理与Z_h的交叉项\n",
    "                for h in range(l):\n",
    "                    # 项1: 1 * 2^{h-1}\n",
    "                    constant_term1 = constant_prod * 2 ** (h - 1)\n",
    "                    if len(qubits_prod) > 0:\n",
    "                        append_multi_rzz_term(qc, qubits_prod, -2 * P * constant_term1 * gamma)\n",
    "                    # 项2: -Z_h * 2^{h-1}\n",
    "                    constant_term2 = constant_prod * 2 ** (h - 1)\n",
    "                    qubits_zh = qubits_prod + [n * N + h]\n",
    "                    if len(qubits_zh) > 0:\n",
    "                        append_multi_rzz_term(qc, qubits_zh, 2 * P * constant_term2 * gamma)\n",
    "    for h1 in range(l):\n",
    "        for h2 in range(l):\n",
    "            coef = 2 ** (h1 - 1) * 2 ** (h2 - 1) * P * gamma\n",
    "            # 1 项（全局相位，通常可忽略）\n",
    "            # -Z_{h1} 项\n",
    "            append__z_term(qc, n * N + h1, -coef)\n",
    "            # -Z_{h2} 项\n",
    "            append__z_term(qc, n * N + h2, -coef)\n",
    "            # Z_{h1}Z_{h2} 项\n",
    "            if h1 != h2:\n",
    "                append__zz_term(qc, n * N + h1, n * N + h2, coef)\n",
    "            else:\n",
    "                # 当 h1=h2 时，Z_h^2=I，无贡献\n",
    "                pass"
   ],
   "id": "1036d966c797837b",
   "outputs": [],
   "execution_count": 113
  },
  {
   "metadata": {
    "ExecuteTime": {
     "end_time": "2025-02-25T14:14:39.454232Z",
     "start_time": "2025-02-25T14:14:39.439997Z"
    }
   },
   "cell_type": "code",
   "source": [
    "def get_mixer_circuit(beta, qc):\n",
    "    for i in range(num_qubits):\n",
    "        append__mixer_term(qc, i, beta)\n",
    "    return qc"
   ],
   "id": "45a838eedf24a21",
   "outputs": [],
   "execution_count": 114
  },
  {
   "metadata": {
    "ExecuteTime": {
     "end_time": "2025-02-25T14:14:39.986038Z",
     "start_time": "2025-02-25T14:14:39.968045Z"
    }
   },
   "cell_type": "code",
   "source": [
    "def invert_counts(s):\n",
    "    return s[::-1]"
   ],
   "id": "b401b61cad096d4d",
   "outputs": [],
   "execution_count": 115
  },
  {
   "metadata": {
    "ExecuteTime": {
     "end_time": "2025-02-25T14:14:40.497498Z",
     "start_time": "2025-02-25T14:14:40.484500Z"
    }
   },
   "cell_type": "code",
   "source": [
    "from qiskit import Aer, QuantumCircuit, execute\n",
    "\n",
    "\n",
    "# 定义成本函数\n",
    "def cost_function(params):\n",
    "    beta, gamma = params[:len(params) // 2], params[len(params) // 2:]\n",
    "    num_qubits = n * N + l\n",
    "    qc = QuantumCircuit(num_qubits, num_qubits)\n",
    "    qc.h(range(num_qubits))\n",
    "    length = len(params)\n",
    "    for i in range(int(length / 2)):\n",
    "        get_cost_circuit1(gamma[i], qc)\n",
    "        get_cost_circuit2(gamma[i], qc)\n",
    "        get_cost_circuit3(gamma[i], qc)\n",
    "        get_mixer_circuit(beta[i], qc)\n",
    "    # 模拟电路\n",
    "    # 添加测量指令\n",
    "    qc.measure(range(num_qubits), range(num_qubits))\n",
    "    backend = Aer.get_backend('qasm_simulator')\n",
    "    result = execute(qc, backend, seed_simulator=10, shots=10000).result()\n",
    "    counts = result.get_counts(qc)\n",
    "    # 计算期望值\n",
    "    expectation = 0\n",
    "    for bitstring, count in counts.items():\n",
    "        bitstring = invert_counts(bitstring)\n",
    "        prob = count / 10000\n",
    "        z_h = np.array([int(bit) for bit in bitstring[(n * N):]])\n",
    "        s_ik = np.array([int(bit) for bit in bitstring[:(n * N)]]).reshape(n, N)\n",
    "        E1 = np.sum([2 ** h * z for h, z in enumerate(z_h)])\n",
    "        E2 = 0\n",
    "        for j in range(len(bw)):\n",
    "            for i in range(n):\n",
    "                constant = 1\n",
    "                for k in range(N):\n",
    "                    constant = constant * (1 - (s_ik[i, k] - bw[j, k]) ** 2)\n",
    "                E2 += constant\n",
    "        E2 = K1 * E2\n",
    "        E3 = 0\n",
    "        for j in range(m):\n",
    "            constant1 = 0\n",
    "            for i in range(n):\n",
    "                constant2 = 1\n",
    "                for k in range(N):\n",
    "                    constant2 = constant2 * (1 - (s_ik[i, k] - b[j, k]) ** 2)\n",
    "                constant1 += p[i, j] * constant2\n",
    "            constant3 = 0\n",
    "            for h in range(l):\n",
    "                constant3 += 2 ** h * z_h[h]\n",
    "            constant = max(0, constant1 - constant3)\n",
    "            E3 += P * (constant) ** 2\n",
    "        E = E1 + E2 + E3\n",
    "\n",
    "        expectation += E * prob\n",
    "\n",
    "    return expectation, counts"
   ],
   "id": "64263ef21c05e105",
   "outputs": [],
   "execution_count": 116
  },
  {
   "metadata": {
    "ExecuteTime": {
     "end_time": "2025-02-25T14:14:41.163721Z",
     "start_time": "2025-02-25T14:14:41.151228Z"
    }
   },
   "cell_type": "code",
   "source": [
    "from scipy.optimize import minimize\n",
    "from qiskit_algorithms.optimizers import COBYLA\n",
    "\n",
    "\n",
    "# 优化 QAOA 参数\n",
    "def optimize_qaoa(params):\n",
    "    def objective(params):\n",
    "        expectation, _ = cost_function(params)\n",
    "        return expectation\n",
    "\n",
    "    optimizer = COBYLA(rhobeg=1.5, tol=1e-7)\n",
    "    # params = np.random.rand(2 * p_max) * 2 * np.pi\n",
    "    result = optimizer.minimize(fun=objective, x0=params)\n",
    "    # result = minimize(\n",
    "    #     fun=objective,\n",
    "    #     x0=params,\n",
    "    #     method='Nelder-Mead',  # 指定优化方法\n",
    "    #     options={'xatol': 1e-8, 'disp': True}  # 设置容差和显示选项\n",
    "    # )\n",
    "    return result"
   ],
   "id": "e9c9c9bafc078303",
   "outputs": [],
   "execution_count": 117
  },
  {
   "metadata": {
    "ExecuteTime": {
     "end_time": "2025-02-25T14:14:41.864942Z",
     "start_time": "2025-02-25T14:14:41.846934Z"
    }
   },
   "cell_type": "code",
   "source": [
    "# def interpolate_parameters(old_params, p_old):\n",
    "#     p_new = p_old + 1\n",
    "#     extended = np.concatenate([[0], old_params, [0]])\n",
    "#     new_params = np.zeros(p_new)\n",
    "#     for i in range(1, p_new + 1):\n",
    "#         term1 = (i - 1) / p_old * extended[i - 1]\n",
    "#         term2 = (p_old - i + 1) / p_old * extended[i]\n",
    "#         new_params[i - 1] = term1 + term2\n",
    "#     return new_params"
   ],
   "id": "e0ce489fd73899b0",
   "outputs": [],
   "execution_count": 118
  },
  {
   "metadata": {
    "ExecuteTime": {
     "end_time": "2025-02-25T14:14:42.611523Z",
     "start_time": "2025-02-25T14:14:42.599534Z"
    }
   },
   "cell_type": "code",
   "source": [
    "# import time\n",
    "# startTime = time.time()\n",
    "# ansatz_final = object()\n",
    "# init_point = np.array([])\n",
    "# counts = {}\n",
    "# max_p = 5\n",
    "# optimal_params = np.array([])\n",
    "# for current_p in range(1, max_p + 1):\n",
    "#     # 生成初始参数\n",
    "#     if current_p == 1:\n",
    "#         init_point = np.random.uniform(0, 2 * np.pi, size = 2 * current_p)\n",
    "#     else:\n",
    "#         prev_beta = optimal_params[:current_p - 1]\n",
    "#         prev_gamma = optimal_params[current_p - 1: 2 * (current_p - 1)]\n",
    "#         new_beta = interpolate_parameters(prev_gamma, current_p - 1)\n",
    "#         new_gamma = interpolate_parameters(prev_gamma, current_p - 1)\n",
    "#         init_point = np.concatenate([new_beta, new_gamma])\n",
    "#     # 参数优化\n",
    "#     res =  optimize_qaoa(init_point)\n",
    "#     optimal_params = res.x\n",
    "#     print(f\"Optimized parameters for p={current_p}: {optimal_params}\")\n",
    "#     print(f\"Optimized value for p={current_p}: {res.fun}\")"
   ],
   "id": "b4eea9cd1657ca58",
   "outputs": [],
   "execution_count": 119
  },
  {
   "metadata": {
    "ExecuteTime": {
     "end_time": "2025-02-25T14:14:43.236760Z",
     "start_time": "2025-02-25T14:14:43.232761Z"
    }
   },
   "cell_type": "code",
   "source": [
    "# from qiskit.visualization import plot_histogram\n",
    "# final_beta = optimal_params[:max_p]\n",
    "# final_gamma = optimal_params[max_p:]\n",
    "# # qc =\n",
    "# num_qubits = n * N + l\n",
    "# qc = QuantumCircuit(num_qubits, num_qubits)\n",
    "# qc.h(range(num_qubits))\n",
    "# # print(qc)\n",
    "# length  = len(optimal_params)\n",
    "# for i in range(int(length/2)):\n",
    "#     get_cost_circuit1(final_gamma[i], qc)\n",
    "#     get_cost_circuit2(final_gamma[i], qc)\n",
    "#     get_cost_circuit3(final_gamma[i], qc)\n",
    "#     get_mixer_circuit(final_beta[i], qc)\n",
    "# print(qc)\n",
    "# # 使用最优参数运行量子电路并输出测量结果\n",
    "# final_expectation, final_counts = cost_function(optimal_params)\n",
    "# sorted_dict = {item[0][::-1]: item[1] for item in sorted(final_counts.items(), key=lambda item: item[1], reverse=True)}\n",
    "# print(\"Final expectation value:\", final_expectation)\n",
    "# # 过滤掉计数小于 100 的结果\n",
    "# filtered_dict = {key: value for key, value in sorted_dict.items() if value >= 100}\n",
    "# # print(\"Final measurement counts:\", sorted_dict)\n",
    "#\n",
    "# plot_histogram(filtered_dict)\n"
   ],
   "id": "3272e70ffbd44ab7",
   "outputs": [],
   "execution_count": 120
  },
  {
   "metadata": {
    "ExecuteTime": {
     "end_time": "2025-02-25T14:19:56.465287Z",
     "start_time": "2025-02-25T14:14:44.222498Z"
    }
   },
   "cell_type": "code",
   "source": [
    "import time\n",
    "\n",
    "# 运行优化\n",
    "startTime = time.time()\n",
    "ansatz_final = object()\n",
    "init_point = np.array([])\n",
    "counts = {}\n",
    "min_energy = 0\n",
    "final_result = object()\n",
    "for p1 in range(1, 4):\n",
    "    min_energy = 100000\n",
    "    for k in range(10):\n",
    "        print('第：', p1, '层', ' ', '第', k, '个参数')\n",
    "        init_point_temp = init_point\n",
    "        beta_p = np.random.uniform(0, np.pi)\n",
    "        gamma_p = np.random.uniform(0, 2 * np.pi)\n",
    "        if k > 0:\n",
    "            init_point_temp = np.delete(init_point_temp, 2 * p1 - 1)\n",
    "            init_point_temp = np.delete(init_point_temp, p1 - 1)\n",
    "        init_point_temp = np.insert(init_point_temp, p1 - 1, beta_p)\n",
    "        init_point_temp = np.insert(init_point_temp, 2 * p1 - 1, gamma_p)\n",
    "        result = optimize_qaoa(init_point_temp)\n",
    "\n",
    "        # print(result.x)\n",
    "        optimal_params = result.x\n",
    "\n",
    "        # 计算最终的能量\n",
    "        energy, counts_temp = cost_function(result.x)\n",
    "        if min_energy > energy:\n",
    "            min_energy = energy\n",
    "            init_point = optimal_params\n",
    "            print(init_point)\n",
    "            counts = counts_temp\n",
    "            final_result = result\n",
    "endTime = time.time()"
   ],
   "id": "ffcc54bd1b854fb0",
   "outputs": [
    {
     "name": "stdout",
     "output_type": "stream",
     "text": [
      "第： 1 层   第 0 个参数\n"
     ]
    },
    {
     "name": "stderr",
     "output_type": "stream",
     "text": [
      "C:\\Users\\李华宪\\AppData\\Local\\Temp\\ipykernel_60772\\2883881565.py:19: DeprecationWarning: The function ``qiskit.execute_function.execute()`` is deprecated as of qiskit 0.46.0. It will be removed in the Qiskit 1.0 release. This function combines ``transpile`` and ``backend.run``, which is covered by ``Sampler`` :mod:`~qiskit.primitives`. Alternatively, you can also run :func:`.transpile` followed by ``backend.run()``.\n",
      "  result = execute(qc, backend, seed_simulator=10, shots=10000).result()\n"
     ]
    },
    {
     "name": "stdout",
     "output_type": "stream",
     "text": [
      "[1.01857269 6.80753929]\n",
      "第： 1 层   第 1 个参数\n",
      "[2.71067146 1.85601037]\n",
      "第： 1 层   第 2 个参数\n",
      "[0.54618387 3.94269126]\n",
      "第： 1 层   第 3 个参数\n",
      "第： 1 层   第 4 个参数\n",
      "第： 1 层   第 5 个参数\n",
      "第： 1 层   第 6 个参数\n",
      "[-3.78050192  2.08909328]\n",
      "第： 1 层   第 7 个参数\n",
      "[2.63228796 1.64921536]\n",
      "第： 1 层   第 8 个参数\n",
      "第： 1 层   第 9 个参数\n",
      "第： 2 层   第 0 个参数\n",
      "[4.13229768 1.87536745 1.64938949 7.679161  ]\n",
      "第： 2 层   第 1 个参数\n",
      "第： 2 层   第 2 个参数\n",
      "第： 2 层   第 3 个参数\n",
      "第： 2 层   第 4 个参数\n",
      "第： 2 层   第 5 个参数\n",
      "第： 2 层   第 6 个参数\n",
      "第： 2 层   第 7 个参数\n",
      "第： 2 层   第 8 个参数\n",
      "第： 2 层   第 9 个参数\n",
      "第： 3 层   第 0 个参数\n",
      "[5.6109585  1.87603111 2.13931513 1.67509061 7.7035686  1.68053937]\n",
      "第： 3 层   第 1 个参数\n",
      "[5.56539481 2.15094184 1.77933276 1.64965903 9.20000226 3.66168294]\n",
      "第： 3 层   第 2 个参数\n",
      "第： 3 层   第 3 个参数\n",
      "第： 3 层   第 4 个参数\n",
      "第： 3 层   第 5 个参数\n",
      "第： 3 层   第 6 个参数\n",
      "第： 3 层   第 7 个参数\n",
      "第： 3 层   第 8 个参数\n",
      "第： 3 层   第 9 个参数\n"
     ]
    }
   ],
   "execution_count": 121
  },
  {
   "metadata": {
    "ExecuteTime": {
     "end_time": "2025-02-25T14:25:16.921377Z",
     "start_time": "2025-02-25T14:25:16.628554Z"
    }
   },
   "cell_type": "code",
   "source": [
    "\n",
    "from qiskit.visualization import plot_histogram\n",
    "\n",
    "# 输出结果\n",
    "print(\"优化时间：\", endTime - startTime)\n",
    "print(\"Optimal parameters:\", final_result.x)\n",
    "print(\"Optimal value:\", final_result.fun)\n",
    "# 使用最优参数运行量子电路并输出测量结果\n",
    "final_expectation, final_counts = cost_function(final_result.x)\n",
    "sorted_dict = {item[0][::-1]: item[1] for item in sorted(final_counts.items(), key=lambda item: item[1], reverse=True)}\n",
    "print(\"Final expectation value:\", final_expectation)\n",
    "# 过滤掉计数小于 100 的结果\n",
    "filtered_dict = {key: value for key, value in sorted_dict.items() if value >= 100}\n",
    "# print(\"Final measurement counts:\", sorted_dict)\n",
    "\n",
    "plot_histogram(filtered_dict)"
   ],
   "id": "4261bc08a9ed929f",
   "outputs": [
    {
     "name": "stdout",
     "output_type": "stream",
     "text": [
      "优化时间： 312.2337727546692\n",
      "Optimal parameters: [5.56539481 2.15094184 1.77933276 1.64965903 9.20000226 3.66168294]\n",
      "Optimal value: 458.3354\n",
      "Final expectation value: 458.3354\n"
     ]
    },
    {
     "name": "stderr",
     "output_type": "stream",
     "text": [
      "C:\\Users\\李华宪\\AppData\\Local\\Temp\\ipykernel_60772\\2883881565.py:19: DeprecationWarning: The function ``qiskit.execute_function.execute()`` is deprecated as of qiskit 0.46.0. It will be removed in the Qiskit 1.0 release. This function combines ``transpile`` and ``backend.run``, which is covered by ``Sampler`` :mod:`~qiskit.primitives`. Alternatively, you can also run :func:`.transpile` followed by ``backend.run()``.\n",
      "  result = execute(qc, backend, seed_simulator=10, shots=10000).result()\n"
     ]
    },
    {
     "data": {
      "text/plain": [
       "<Figure size 700x500 with 1 Axes>"
      ],
      "image/png": "[encoded data removed]"
     },
     "execution_count": 124,
     "metadata": {},
     "output_type": "execute_result"
    }
   ],
   "execution_count": 124
  },
  {
   "metadata": {
    "ExecuteTime": {
     "end_time": "2025-02-19T01:45:32.685071Z",
     "start_time": "2025-02-19T01:45:32.670070Z"
    }
   },
   "cell_type": "code",
   "source": [
    "# 计算期望值\n",
    "expectation = 0\n",
    "for bitstring, count in sorted_dict.items():\n",
    "    bitstring = invert_counts(bitstring)\n",
    "    prob = count / 10000\n",
    "    z_h = np.array([int(bit) for bit in bitstring[(n * N):]])\n",
    "    s_ik = np.array([int(bit) for bit in bitstring[:(n * N)]]).reshape(n, N)\n",
    "    E1 = np.sum([2 ** h * z for h, z in enumerate(z_h)])\n",
    "    E2 = 0\n",
    "    for j in range(len(bw)):\n",
    "        for i in range(n):\n",
    "            constant = 1\n",
    "            for k in range(N):\n",
    "                constant = constant * (1 - (s_ik[i, k] - bw[j, k]) ** 2)\n",
    "            E2 += constant\n",
    "    E2 = E2\n",
    "    E3 = 0\n",
    "    for j in range(m):\n",
    "        constant1 = 0\n",
    "        for i in range(n):\n",
    "            constant2 = 1\n",
    "            for k in range(N):\n",
    "                constant2 = constant2 * (1 - (s_ik[i, k] - b[j, k]) ** 2)\n",
    "            constant1 += p[i, j] * constant2\n",
    "        constant3 = 0\n",
    "        for h in range(l):\n",
    "            constant3 += 2 ** h * z_h[h]\n",
    "        constant = max(0, constant1 - constant3)\n",
    "        E3 += (constant) ** 2\n",
    "\n",
    "    # alpha_s = np.max([0, np.sum(x_ij * p) - np.sum([2 ** h * z for h, z in enumerate(z_h)])])\n",
    "\n",
    "    E = E1 + E2 + E3\n",
    "\n",
    "    expectation += E * prob\n",
    "print(expectation)"
   ],
   "id": "709a6f61199e98f2",
   "outputs": [
    {
     "name": "stdout",
     "output_type": "stream",
     "text": [
      "8.519600000000004\n"
     ]
    }
   ],
   "execution_count": 182
  },
  {
   "metadata": {
    "ExecuteTime": {
     "end_time": "2025-02-19T01:45:35.144816Z",
     "start_time": "2025-02-19T01:45:35.131807Z"
    }
   },
   "cell_type": "code",
   "source": [
    "expectation = 0\n",
    "bitstring = \"10001011\"\n",
    "z_h = np.array([int(bit) for bit in bitstring[(n * N):]])\n",
    "s_ik = np.array([int(bit) for bit in bitstring[:(n * N)]]).reshape(n, N)\n",
    "E1 = np.sum([2 ** h * z for h, z in enumerate(z_h)])\n",
    "E2 = 0\n",
    "for j in range(len(bw)):\n",
    "    for i in range(n):\n",
    "        constant = 1\n",
    "        for k in range(N):\n",
    "            constant = constant * (1 - (s_ik[i, k] - bw[j, k]) ** 2)\n",
    "        E2 += constant\n",
    "E2 = K1 * E2\n",
    "E3 = 0\n",
    "for j in range(m):\n",
    "    constant1 = 0\n",
    "    # print(\"机器：\", j)\n",
    "    for i in range(n):\n",
    "        constant2 = 1\n",
    "        for k in range(N):\n",
    "            constant2 = constant2 * (1 - (s_ik[i, k] - b[j, k]) ** 2)\n",
    "        # print(\"constant2:\", constant2)\n",
    "        # print(\"p[i,j]:\", p[i,j])\n",
    "        constant1 += p[i, j] * constant2\n",
    "    # print(\"constant1:\", constant1)\n",
    "    constant3 = 0\n",
    "    for h in range(l):\n",
    "        constant3 += 2 ** h * z_h[h]\n",
    "    # print(\"constant3:\", constant3)\n",
    "    constant = max(0, constant1 - constant3)\n",
    "    E3 += (constant) ** 2\n",
    "\n",
    "    # alpha_s = np.max([0, np.sum(x_ij * p) - np.sum([2 ** h * z for h, z in enumerate(z_h)])])\n",
    "\n",
    "E = E1 + K1 * E2 + P * E3\n",
    "print(E1)\n",
    "print(E2)\n",
    "print(E3)\n",
    "print(E)\n",
    "# print(e1)\n",
    "# print(e2)"
   ],
   "id": "17d987eaf3be8f0f",
   "outputs": [
    {
     "name": "stdout",
     "output_type": "stream",
     "text": [
      "3\n",
      "0\n",
      "1\n",
      "33\n"
     ]
    }
   ],
   "execution_count": 183
  },
  {
   "metadata": {
    "ExecuteTime": {
     "end_time": "2024-11-25T16:06:56.875224Z",
     "start_time": "2024-11-25T16:06:56.861298Z"
    }
   },
   "cell_type": "code",
   "source": "",
   "id": "723e76226c88bf63",
   "outputs": [],
   "execution_count": null
  }
 ],
 "metadata": {
  "kernelspec": {
   "display_name": "Python 3",
   "language": "python",
   "name": "python3"
  },
  "language_info": {
   "codemirror_mode": {
    "name": "ipython",
    "version": 2
   },
   "file_extension": ".py",
   "mimetype": "text/x-python",
   "name": "python",
   "nbconvert_exporter": "python",
   "pygments_lexer": "ipython2",
   "version": "2.7.6"
  }
 },
 "nbformat": 4,
 "nbformat_minor": 5
}
