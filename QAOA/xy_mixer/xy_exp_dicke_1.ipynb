{
 "cells": [
  {
   "cell_type": "code",
   "metadata": {
    "collapsed": true,
    "ExecuteTime": {
     "end_time": "2024-11-06T07:45:20.247991Z",
     "start_time": "2024-11-06T07:45:20.072265Z"
    }
   },
   "source": [
    "# from qiskit.opflow import I, Z, X, Y, SparsePauliOp\n",
    "import numpy as np\n",
    "# from juices import Juices\n",
    "# 假设有 3 台机器和 3 个操作\n",
    "m = 3 # 机器数量\n",
    "n = 3 # 操作数量\n",
    "l = 1  # 用于表示 C_max 的二进制位数\n",
    "\n",
    "# 处理时间矩阵 (例如)\n",
    "p = np.array([[1, 2, 3],[2, 3, 1],[2, 1, 3]])\n",
    "\n",
    "# 常数\n",
    "K1 = 100\n",
    "P = 30\n",
    "\n",
    "# 量子比特数量\n",
    "num_qubits = n * m + l"
   ],
   "outputs": [],
   "execution_count": 72
  },
  {
   "metadata": {
    "ExecuteTime": {
     "end_time": "2024-11-06T07:45:20.509978Z",
     "start_time": "2024-11-06T07:45:20.481253Z"
    }
   },
   "cell_type": "code",
   "source": [
    "# 2. XY_mixer\n",
    "from qiskit.circuit.library.standard_gates import RYGate\n",
    "from qiskit import QuantumCircuit, Aer, execute\n",
    "from math import sqrt\n",
    "from qiskit.visualization import plot_histogram\n",
    "import math\n",
    "\n",
    "def append_SCS_term(m, l, n):\n",
    "    qc = QuantumCircuit(n, name = 'SCS_'+str(m)+','+str(l))\n",
    "    m = m-1\n",
    "    for i in range(l):\n",
    "        if (i+1) == 1:\n",
    "            qc.cx(m-1, m)\n",
    "            theta = sqrt(1/(m+1))\n",
    "            c3ry_gate = RYGate(2 * math.acos(theta)).control(1)\n",
    "            qc.append(c3ry_gate, [m, m-1])\n",
    "            qc.cx(m-1, m)\n",
    "        else:\n",
    "            qc.cx(m-(i+1),m)\n",
    "            theta = sqrt((i+1)/(m+1))\n",
    "            c3ry_gate = RYGate(2 * math.acos(theta)).control(2)\n",
    "            qc.append(c3ry_gate, [m, m-(i+1)+1, m-(i+1)])\n",
    "            qc.cx(m-(i+1),m)\n",
    "    return qc\n",
    " \n",
    "def get_Dicke_state_init_circuit(n, m, B, l):\n",
    "    total_qubits = n * m + l\n",
    "    qc = QuantumCircuit(total_qubits, name='modified_dicke_init')\n",
    "    \n",
    "    # 对前 n * m 个量子比特分组，每组 m 个量子比特中包含 B 个激发态\n",
    "    for group in range(n):\n",
    "        start = group * m  # 每组的起始索引\n",
    "        for j in range(B):\n",
    "            qc.x(start + j)  # 在每组的前 B 个比特上施加 X 门，使其为激发态\n",
    "\n",
    "    # 在每组 m 个量子比特中应用 SCS 子电路生成激励共享态\n",
    "    for group in range(n):\n",
    "        start = group * m\n",
    "        for i in range(m - 1):\n",
    "            if m - i > B:\n",
    "                qc.append(append_SCS_term(m - i, B, m), range(start, start + m))\n",
    "            else:\n",
    "                qc.append(append_SCS_term(m - i, m - i - 1, m), range(start, start + m))\n",
    "            qc.barrier()\n",
    "    \n",
    "    # 额外的 l 个量子比特可用于纠缠初始化或其他操作\n",
    "    for i in range(l):\n",
    "        qc.h(n * m + i)\n",
    "    \n",
    "    return qc\n"
   ],
   "outputs": [],
   "execution_count": 73
  },
  {
   "metadata": {
    "ExecuteTime": {
     "end_time": "2024-11-06T07:45:20.525947Z",
     "start_time": "2024-11-06T07:45:20.515990Z"
    }
   },
   "cell_type": "code",
   "source": [
    "# # n = 6 # 变量总数\n",
    "# B = 1  # 限制1的个数\n",
    "# # m = 2\n",
    "# # k = 6\n",
    "# qc = get_Dicke_state_init_circuit(n, m, B, l)\n",
    "# dicke_circuit = QuantumCircuit(n*m+l, n*m+l)\n",
    "# dicke_circuit.append(qc, range(n*m+l))\n",
    "# dicke_circuit.measure(range(n*m+l), range(n*m+l))\n",
    "# backend = Aer.get_backend('qasm_simulator')\n",
    "# counts = execute(dicke_circuit, backend, shots = 10000).result().get_counts()\n",
    "# print(counts)\n",
    "# plot_histogram(counts)"
   ],
   "outputs": [],
   "execution_count": 74
  },
  {
   "cell_type": "code",
   "source": [
    "def append__zz_term( qc, qubit1, qubit2, gamma):\n",
    "    qc.cx(qubit1, qubit2)\n",
    "    qc.rz(gamma, qubit2)\n",
    "    qc.cx(qubit1, qubit2)\n",
    "\n",
    "def append__z_term(qc, qubit, gamma):\n",
    "    qc.rz(gamma, qubit)\n",
    "def append__mixer_term(qc, qubit, beta):\n",
    "    qc.rx(2 * beta, qubit)"
   ],
   "metadata": {
    "collapsed": false,
    "ExecuteTime": {
     "end_time": "2024-11-06T07:45:20.572032Z",
     "start_time": "2024-11-06T07:45:20.558033Z"
    }
   },
   "outputs": [],
   "execution_count": 75
  },
  {
   "cell_type": "code",
   "source": [
    "def get_cost_circuit1(gamma, qc):\n",
    "    # beta, gamma = params[:len(params)//2], params[len(params)//2:]\n",
    "    for h in range(l):\n",
    "        # print(m * n + h)\n",
    "        coef = - 2**h\n",
    "        append__z_term(qc, m * n + h, coef * gamma)\n",
    "    return qc"
   ],
   "metadata": {
    "collapsed": false,
    "ExecuteTime": {
     "end_time": "2024-11-06T07:45:20.649716Z",
     "start_time": "2024-11-06T07:45:20.634756Z"
    }
   },
   "outputs": [],
   "execution_count": 76
  },
  {
   "cell_type": "code",
   "source": [
    "def get_cost_circuit2(gamma, qc):\n",
    "    # beta, gamma = params[:len(params)//2], params[len(params)//2:]\n",
    "    for i in range(n):\n",
    "        for j in range(m):\n",
    "            append__z_term(qc, i * m + j, (2 - m) * K1*gamma)\n",
    "    # for i in range(n):\n",
    "        for j1 in range(m):\n",
    "            for j2 in range(m):\n",
    "                if j1 != j2:\n",
    "                    append__zz_term(qc, i * m + j1, i * m + j2, K1*gamma)\n",
    "    return qc"
   ],
   "metadata": {
    "collapsed": false,
    "ExecuteTime": {
     "end_time": "2024-11-06T07:45:20.695692Z",
     "start_time": "2024-11-06T07:45:20.680690Z"
    }
   },
   "outputs": [],
   "execution_count": 77
  },
  {
   "cell_type": "code",
   "source": [
    "def get_cost_circuit3(gamma, qc):\n",
    "    # beta, gamma = params[:len(params)//2], params[len(params)//2:]\n",
    "    for j in range(m):\n",
    "        for i in range(n):\n",
    "            coef = -1/2 * (np.sum(p[:, j]) - ( 2 ** l-1)) * P\n",
    "            append__z_term(qc, i * m + j, 2 * coef * p[i,j] * gamma)\n",
    "        for h in range(l):\n",
    "            coef = -1/2 * (np.sum(p[:, j]) - ( 2 ** l-1)) * P\n",
    "            append__z_term(qc, m * n + h, -2 * (2 ** h) * coef * gamma)\n",
    "        for i1 in range(n):\n",
    "            for i2 in range(n):\n",
    "                if i1 != i2:\n",
    "                    coef = p[i1, j] * p[i2, j] * P\n",
    "                    append__zz_term(qc, i1 * m + j, i2 * m + j, coef * gamma)\n",
    "        for i in range(n):\n",
    "            for h in range(l):\n",
    "                coef = -1 * p[i,j] * 2 ** h * P\n",
    "                append__zz_term(qc, i * m + j, m * n + h, coef * gamma)\n",
    "        for h1 in range(l):\n",
    "            for h2 in range(l):\n",
    "                if h1 != h2:\n",
    "                    coef = 2 ** h1 * 2 ** h2 * P\n",
    "                    append__zz_term(qc, m * n + h1, m * n + h2, coef * gamma)\n",
    "    return qc\n"
   ],
   "metadata": {
    "collapsed": false,
    "ExecuteTime": {
     "end_time": "2024-11-06T07:45:20.711472Z",
     "start_time": "2024-11-06T07:45:20.700494Z"
    }
   },
   "outputs": [],
   "execution_count": 78
  },
  {
   "cell_type": "code",
   "source": [
    "def get_mixer_circuit(beta, qc):\n",
    "    # beta, gamma = params[:len(params)//2], params[len(params)//2:]\n",
    "    for i in range(num_qubits):\n",
    "        append__mixer_term(qc, i, beta)\n",
    "        # qc.barrier()\n",
    "    return qc"
   ],
   "metadata": {
    "collapsed": false,
    "ExecuteTime": {
     "end_time": "2024-11-06T07:45:20.758413Z",
     "start_time": "2024-11-06T07:45:20.745459Z"
    }
   },
   "outputs": [],
   "execution_count": 79
  },
  {
   "cell_type": "code",
   "source": [
    "def get_mixer_circuit_xy(beta, qc):\n",
    "    for i in range(n):\n",
    "        for j1 in range(m):\n",
    "            for j2 in range(m):\n",
    "                if j1<j2:\n",
    "                    qc.rxx(2 * beta, i * m + j1, i * m + j2)\n",
    "                    qc.ryy(2 * beta, i * m + j1, i * m + j2)"
   ],
   "metadata": {
    "collapsed": false,
    "ExecuteTime": {
     "end_time": "2024-11-06T07:45:20.804266Z",
     "start_time": "2024-11-06T07:45:20.790534Z"
    }
   },
   "outputs": [],
   "execution_count": 80
  },
  {
   "cell_type": "code",
   "source": [
    "def invert_counts(s):\n",
    "    return s[::-1]"
   ],
   "metadata": {
    "collapsed": false,
    "ExecuteTime": {
     "end_time": "2024-11-06T07:45:20.881298Z",
     "start_time": "2024-11-06T07:45:20.868195Z"
    }
   },
   "outputs": [],
   "execution_count": 81
  },
  {
   "metadata": {
    "collapsed": false,
    "ExecuteTime": {
     "end_time": "2024-11-06T07:45:20.974008Z",
     "start_time": "2024-11-06T07:45:20.944001Z"
    }
   },
   "cell_type": "code",
   "source": [
    "from qiskit.circuit.library import PauliEvolutionGate\n",
    "from qiskit import Aer, transpile, assemble, QuantumCircuit, execute\n",
    "\n",
    "\n",
    "# 定义成本函数\n",
    "def cost_function(params):\n",
    "    beta, gamma = params[:len(params)//2], params[len(params)//2:]\n",
    "    num_qubits = n * m + l\n",
    "    # qc = QuantumCircuit(num_qubits, num_qubits)  # 添加经典寄存器\n",
    "    B =1  # 限制1的个数\n",
    "    dicke_circuit = get_Dicke_state_init_circuit(n, m, B, l)\n",
    "    qc = QuantumCircuit(num_qubits, num_qubits)\n",
    "    qc.append(dicke_circuit, range(num_qubits))\n",
    "    # print(qc)\n",
    "\n",
    "    length  = len(params)\n",
    "    for i in range(int(length/2)):\n",
    "\n",
    "        get_cost_circuit1(gamma[i], qc)\n",
    "        # get_cost_circuit2(gamma[i], qc)\n",
    "        get_cost_circuit3(gamma[i], qc)\n",
    "        get_mixer_circuit_xy(beta[i], qc)\n",
    "    # 模拟电路\n",
    "    # 添加测量指令\n",
    "    qc.measure(range(num_qubits), range(num_qubits))\n",
    "    backend = Aer.get_backend('qasm_simulator')\n",
    "    result = execute(qc, backend, seed_simulator=10, shots=10000).result()\n",
    "    counts = result.get_counts(qc)\n",
    "    # 计算期望值\n",
    "    expectation = 0\n",
    "    for bitstring, count in counts.items():\n",
    "        bitstring = invert_counts(bitstring)\n",
    "        prob = count / 10000\n",
    "        z_h = np.array([int(bit) for bit in bitstring[(n*m):]])\n",
    "        x_ij = np.array([int(bit) for bit in bitstring[:(n*m)]]).reshape(n, m)\n",
    "\n",
    "        E1 = np.sum([2 ** h * z for h, z in enumerate(z_h)])\n",
    "        E2 = K1 * np.sum([(np.sum(x_ij[i]) - 1) ** 2 for i in range(n)])\n",
    "        # alpha_s = np.max([0, np.sum(x_ij * p) - np.sum([2 ** h * z for h, z in enumerate(z_h)])])\n",
    "        E3 = 0\n",
    "        for j in range(m):\n",
    "\n",
    "            sum_xp = np.sum([x_ij[i][j] * p[i][j] for i in range(n)])\n",
    "\n",
    "            sum_zh = np.sum([2**h * z_h[h] for h in range(l)])\n",
    "\n",
    "            max_value = max(0, sum_xp - sum_zh)\n",
    "\n",
    "            E3 += P * (max_value)**2\n",
    "        E =  E1 + E2 + E3\n",
    "        \n",
    "        expectation += E * prob\n",
    "\n",
    "    return expectation, counts"
   ],
   "outputs": [],
   "execution_count": 82
  },
  {
   "metadata": {
    "collapsed": false,
    "ExecuteTime": {
     "end_time": "2024-11-06T07:45:21.005788Z",
     "start_time": "2024-11-06T07:45:20.985013Z"
    }
   },
   "cell_type": "code",
   "source": [
    "from qiskit_algorithms.optimizers import COBYLA\n",
    "\n",
    "# 优化 QAOA 参数\n",
    "def optimize_qaoa(params):\n",
    "    def objective(params):\n",
    "        expectation, _ = cost_function(params)\n",
    "\n",
    "        return expectation\n",
    "\n",
    "    optimizer = COBYLA(rhobeg = 1.5, tol = 1e-7)\n",
    "    # params = np.random.rand(2 * p_max) * 2 * np.pi\n",
    "    result = optimizer.minimize(fun=objective, x0=params)\n",
    "\n",
    "    return result"
   ],
   "outputs": [],
   "execution_count": 83
  },
  {
   "cell_type": "code",
   "source": [
    "import time\n",
    "\n",
    "# 运行优化\n",
    "# p_max = 6  # 最大层数\n",
    "\n",
    "startTime = time.time()\n",
    "ansatz_final = object()\n",
    "init_point = np.array([])\n",
    "counts = {}\n",
    "min_energy = 0\n",
    "final_result = object()\n",
    "for p1 in range(1, 4):\n",
    "    min_energy = 10000\n",
    "    for k in range(100):\n",
    "        print('第：', p1, '层', ' ', '第', k, '个参数')\n",
    "        init_point_temp = init_point\n",
    "        beta_p = np.random.uniform(0, np.pi)\n",
    "        gamma_p = np.random.uniform(0,  2 * np.pi)\n",
    "        if k >0:\n",
    "            init_point_temp = np.delete(init_point_temp, 2 * p1 - 1)\n",
    "            init_point_temp = np.delete(init_point_temp, p1 - 1)\n",
    "        init_point_temp = np.insert(init_point_temp, p1 - 1, beta_p)\n",
    "        init_point_temp = np.insert(init_point_temp, 2 * p1 - 1, gamma_p)\n",
    "        # 创建参数向量\n",
    "        # print(\"init_point_temp\"+ init_point_temp)\n",
    "        result = optimize_qaoa(init_point_temp)\n",
    "\n",
    "        # print(result.x)\n",
    "        optimal_params = result.x\n",
    "\n",
    "        # 计算最终的能量\n",
    "        energy, counts_temp = cost_function(result.x)\n",
    "        # 寻找这20对点中最优的参数\n",
    "        if min_energy > energy:\n",
    "            min_energy = energy\n",
    "            init_point = optimal_params\n",
    "            counts = counts_temp\n",
    "            final_result = result\n",
    "endTime = time.time()\n",
    "# params = np.random.rand(2 * p_max,2*np.pi)\n",
    "# result = optimize_qaoa(n, m, l, K1, P, p, params)"
   ],
   "metadata": {
    "collapsed": false,
    "jupyter": {
     "is_executing": true
    },
    "ExecuteTime": {
     "start_time": "2024-11-06T07:45:30.220958Z"
    }
   },
   "outputs": [
    {
     "name": "stdout",
     "output_type": "stream",
     "text": [
      "第： 1 层   第 0 个参数\n",
      "第： 1 层   第 1 个参数\n",
      "第： 1 层   第 2 个参数\n",
      "第： 1 层   第 3 个参数\n"
     ]
    }
   ],
   "execution_count": null
  },
  {
   "cell_type": "code",
   "source": [
    "# 输出结果\n",
    "print(\"优化时间：\", endTime - startTime)\n",
    "print(\"Optimal parameters:\", final_result.x)\n",
    "print(\"Optimal value:\", final_result.fun)\n",
    "# 使用最优参数运行量子电路并输出测量结果\n",
    "final_expectation, final_counts = cost_function(final_result.x)\n",
    "# sorted_dict = dict(sorted(final_counts.items(), key=lambda item: item[1], reverse=True))\n",
    "sorted_dict = {item[0][::-1]: item[1] for item in sorted(final_counts.items(), key=lambda item: item[1], reverse=True)}\n",
    "print(\"Final expectation value:\", final_expectation)\n",
    "print(\"Final measurement counts:\", sorted_dict)\n",
    "plot_histogram(sorted_dict)"
   ],
   "metadata": {
    "collapsed": false,
    "ExecuteTime": {
     "end_time": "2024-11-06T07:45:26.290652100Z",
     "start_time": "2024-11-05T08:54:07.831539Z"
    }
   },
   "outputs": [
    {
     "name": "stdout",
     "output_type": "stream",
     "text": [
      "优化时间： 506.4928545951843\n",
      "Optimal parameters: [3.65677577 5.15925057 3.05355564 9.71316236 6.26445315 1.54322282]\n",
      "Optimal value: 102.4991\n",
      "Final expectation value: 102.4991\n",
      "Final measurement counts: {'1000010': 3583, '0101001': 2277, '1001001': 1048, '1000011': 531, '0011001': 519, '0100011': 423, '1001000': 390, '0100010': 318, '0011000': 210, '1000100': 168, '1000101': 164, '0101000': 122, '0010100': 98, '0100101': 61, '0010011': 52, '0100100': 21, '0010010': 9, '0010101': 6}\n"
     ]
    },
    {
     "data": {
      "text/plain": [
       "<Figure size 700x500 with 1 Axes>"
      ],
      "image/png": "[encoded data removed]"
     },
     "execution_count": 71,
     "metadata": {},
     "output_type": "execute_result"
    }
   ],
   "execution_count": 71
  },
  {
   "cell_type": "code",
   "source": [
    "expectation = 0\n",
    "bitstring = \"1000100\"\n",
    "z_h = np.array([int(bit) for bit in bitstring[(n*m):]])\n",
    "x_ij = np.array([int(bit) for bit in bitstring[:(n*m)]]).reshape(n, m)\n",
    "\n",
    "E1 = np.sum([2 ** h * z for h, z in enumerate(z_h)])\n",
    "E2 = K1 * np.sum([(np.sum(x_ij[i]) - 1) ** 2 for i in range(n)])\n",
    "E3 = 0\n",
    "e1=0\n",
    "e2=0\n",
    "for j in range(m):\n",
    "\n",
    "    sum_xp = np.sum([x_ij[i][j] * p[i][j] for i in range(n)])\n",
    "\n",
    "    sum_zh = np.sum([2**h * z_h[h] for h in range(l)])\n",
    "\n",
    "    max_value = max(0, sum_xp - sum_zh)\n",
    "    e1+=sum_xp\n",
    "    e2+=sum_zh\n",
    "    E3 += P * (max_value)**2\n",
    "E =  E1 + E2 + E3\n",
    "print(E1)\n",
    "print(E2)\n",
    "print(E3)\n",
    "# print(e1)\n",
    "# print(e2)"
   ],
   "metadata": {
    "collapsed": false,
    "ExecuteTime": {
     "end_time": "2024-11-06T07:45:26.308132500Z",
     "start_time": "2024-10-30T14:23:51.745880Z"
    }
   },
   "outputs": [
    {
     "ename": "ValueError",
     "evalue": "cannot reshape array of size 7 into shape (2,4)",
     "output_type": "error",
     "traceback": [
      "\u001B[1;31m---------------------------------------------------------------------------\u001B[0m",
      "\u001B[1;31mValueError\u001B[0m                                Traceback (most recent call last)",
      "Cell \u001B[1;32mIn[15], line 4\u001B[0m\n\u001B[0;32m      2\u001B[0m bitstring \u001B[38;5;241m=\u001B[39m \u001B[38;5;124m\"\u001B[39m\u001B[38;5;124m1000100\u001B[39m\u001B[38;5;124m\"\u001B[39m\n\u001B[0;32m      3\u001B[0m z_h \u001B[38;5;241m=\u001B[39m np\u001B[38;5;241m.\u001B[39marray([\u001B[38;5;28mint\u001B[39m(bit) \u001B[38;5;28;01mfor\u001B[39;00m bit \u001B[38;5;129;01min\u001B[39;00m bitstring[(n\u001B[38;5;241m*\u001B[39mm):]])\n\u001B[1;32m----> 4\u001B[0m x_ij \u001B[38;5;241m=\u001B[39m \u001B[43mnp\u001B[49m\u001B[38;5;241;43m.\u001B[39;49m\u001B[43marray\u001B[49m\u001B[43m(\u001B[49m\u001B[43m[\u001B[49m\u001B[38;5;28;43mint\u001B[39;49m\u001B[43m(\u001B[49m\u001B[43mbit\u001B[49m\u001B[43m)\u001B[49m\u001B[43m \u001B[49m\u001B[38;5;28;43;01mfor\u001B[39;49;00m\u001B[43m \u001B[49m\u001B[43mbit\u001B[49m\u001B[43m \u001B[49m\u001B[38;5;129;43;01min\u001B[39;49;00m\u001B[43m \u001B[49m\u001B[43mbitstring\u001B[49m\u001B[43m[\u001B[49m\u001B[43m:\u001B[49m\u001B[43m(\u001B[49m\u001B[43mn\u001B[49m\u001B[38;5;241;43m*\u001B[39;49m\u001B[43mm\u001B[49m\u001B[43m)\u001B[49m\u001B[43m]\u001B[49m\u001B[43m]\u001B[49m\u001B[43m)\u001B[49m\u001B[38;5;241;43m.\u001B[39;49m\u001B[43mreshape\u001B[49m\u001B[43m(\u001B[49m\u001B[43mn\u001B[49m\u001B[43m,\u001B[49m\u001B[43m \u001B[49m\u001B[43mm\u001B[49m\u001B[43m)\u001B[49m\n\u001B[0;32m      6\u001B[0m E1 \u001B[38;5;241m=\u001B[39m np\u001B[38;5;241m.\u001B[39msum([\u001B[38;5;241m2\u001B[39m \u001B[38;5;241m*\u001B[39m\u001B[38;5;241m*\u001B[39m h \u001B[38;5;241m*\u001B[39m z \u001B[38;5;28;01mfor\u001B[39;00m h, z \u001B[38;5;129;01min\u001B[39;00m \u001B[38;5;28menumerate\u001B[39m(z_h)])\n\u001B[0;32m      7\u001B[0m E2 \u001B[38;5;241m=\u001B[39m K1 \u001B[38;5;241m*\u001B[39m np\u001B[38;5;241m.\u001B[39msum([(np\u001B[38;5;241m.\u001B[39msum(x_ij[i]) \u001B[38;5;241m-\u001B[39m \u001B[38;5;241m1\u001B[39m) \u001B[38;5;241m*\u001B[39m\u001B[38;5;241m*\u001B[39m \u001B[38;5;241m2\u001B[39m \u001B[38;5;28;01mfor\u001B[39;00m i \u001B[38;5;129;01min\u001B[39;00m \u001B[38;5;28mrange\u001B[39m(n)])\n",
      "\u001B[1;31mValueError\u001B[0m: cannot reshape array of size 7 into shape (2,4)"
     ]
    }
   ],
   "execution_count": 15
  },
  {
   "metadata": {},
   "cell_type": "code",
   "outputs": [],
   "execution_count": null,
   "source": ""
  }
 ],
 "metadata": {
  "kernelspec": {
   "display_name": "Python 3",
   "language": "python",
   "name": "python3"
  },
  "language_info": {
   "codemirror_mode": {
    "name": "ipython",
    "version": 2
   },
   "file_extension": ".py",
   "mimetype": "text/x-python",
   "name": "python",
   "nbconvert_exporter": "python",
   "pygments_lexer": "ipython2",
   "version": "2.7.6"
  }
 },
 "nbformat": 4,
 "nbformat_minor": 0
}
