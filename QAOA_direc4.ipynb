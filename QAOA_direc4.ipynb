{
 "cells": [
  {
   "cell_type": "code",
   "execution_count": 51,
   "metadata": {
    "collapsed": true,
    "ExecuteTime": {
     "end_time": "2024-09-04T11:20:30.652727600Z",
     "start_time": "2024-09-04T11:20:30.423422400Z"
    }
   },
   "outputs": [],
   "source": [
    "# from qiskit.opflow import I, Z, X, Y, SparsePauliOp\n",
    "import numpy as np\n",
    "# from juqcs import Juqcs\n",
    "# 假设有 3 台机器和 3 个操作\n",
    "m = 3 # 机器数量\n",
    "n = 2  # 操作数量\n",
    "l = 1  # 用于表示 C_max 的二进制位数\n",
    "\n",
    "# 处理时间矩阵 (例如)\n",
    "p = np.array([[1, 2, 3],[3, 1, 2]])\n",
    "\n",
    "# 常数\n",
    "K1 = 20\n",
    "P = 20\n",
    "\n",
    "# 量子比特数量\n",
    "num_qubits = n * m + l"
   ]
  },
  {
   "cell_type": "code",
   "execution_count": 52,
   "outputs": [],
   "source": [
    "#\n",
    "def pauli_z_term(index, num_qubits):\n",
    "    \"\"\"初始化一个 Pauli-I 门的列表,指定索引 index 替换为 Pauli-Z 门\"\"\"\n",
    "    paulis = ['I'] * num_qubits\n",
    "    paulis[index] = 'Z'\n",
    "    return ''.join(paulis)  # 将列表转化为字符串\n",
    "\n",
    "def pauli_x_term(index, num_qubits):\n",
    "    paulis = ['I'] * num_qubits\n",
    "    paulis[index] = 'X'\n",
    "    return ''.join(paulis)\n"
   ],
   "metadata": {
    "collapsed": false,
    "ExecuteTime": {
     "end_time": "2024-09-04T11:20:30.684724100Z",
     "start_time": "2024-09-04T11:20:30.441421900Z"
    }
   }
  },
  {
   "cell_type": "code",
   "execution_count": 53,
   "outputs": [
    {
     "name": "stdout",
     "output_type": "stream",
     "text": [
      "SparsePauliOp(['IIIIIIZ'],\n",
      "              coeffs=[-0.5+0.j])\n"
     ]
    }
   ],
   "source": [
    "from qiskit.quantum_info import Pauli, SparsePauliOp, PauliList\n",
    "\n",
    "# 常数项\n",
    "# constant_term = 1/2 * sum(2**h for h in range(l))\n",
    "pauli_strings = []\n",
    "cofficients = []\n",
    "# 构建 Pauli-Z 项\n",
    "z_terms = []\n",
    "for h in range(l):\n",
    "    coef = - 2**h / 2\n",
    "    z_term = pauli_z_term(m * n + h, num_qubits)\n",
    "    z_terms.append((coef, z_term))\n",
    "\n",
    "# 从z_terms中提取Pauli字符串和系数\n",
    "pauli_strings = [term[1] for term in z_terms]\n",
    "coefficients = [term[0] for term in z_terms]\n",
    "# 转换为 SparsePauliOp\n",
    "paulis = [Pauli(label) for label in pauli_strings]\n",
    "hamiltonian1 = SparsePauliOp.from_list(list(zip(pauli_strings, coefficients)))\n",
    "print(hamiltonian1)"
   ],
   "metadata": {
    "collapsed": false,
    "ExecuteTime": {
     "end_time": "2024-09-04T11:20:30.708754100Z",
     "start_time": "2024-09-04T11:20:30.458532700Z"
    }
   }
  },
  {
   "cell_type": "code",
   "execution_count": 54,
   "outputs": [
    {
     "name": "stdout",
     "output_type": "stream",
     "text": [
      "['ZIIIIII', 'IZIIIII', 'IIZIIII', 'IIIZIII', 'IIIIZII', 'IIIIIZI', 'ZZIIIII', 'ZIZIIII', 'ZZIIIII', 'IZZIIII', 'ZIZIIII', 'IZZIIII', 'IIIZZII', 'IIIZIZI', 'IIIZZII', 'IIIIZZI', 'IIIZIZI', 'IIIIZZI']\n",
      "[-20.0, -20.0, -20.0, -20.0, -20.0, -20.0, 5.0, 5.0, 5.0, 5.0, 5.0, 5.0, 5.0, 5.0, 5.0, 5.0, 5.0, 5.0]\n",
      "SparsePauliOp(['ZIIIIII', 'IZIIIII', 'IIZIIII', 'IIIZIII', 'IIIIZII', 'IIIIIZI', 'ZZIIIII', 'ZIZIIII', 'ZZIIIII', 'IZZIIII', 'ZIZIIII', 'IZZIIII', 'IIIZZII', 'IIIZIZI', 'IIIZZII', 'IIIIZZI', 'IIIZIZI', 'IIIIZZI'],\n",
      "              coeffs=[-20.+0.j, -20.+0.j, -20.+0.j, -20.+0.j, -20.+0.j, -20.+0.j,   5.+0.j,\n",
      "   5.+0.j,   5.+0.j,   5.+0.j,   5.+0.j,   5.+0.j,   5.+0.j,   5.+0.j,\n",
      "   5.+0.j,   5.+0.j,   5.+0.j,   5.+0.j])\n"
     ]
    }
   ],
   "source": [
    "pauli_strings = []\n",
    "cofficients = []\n",
    "# 常数项\n",
    "# constant_term1 = K1 * n * ((m / 2) - 1)**2\n",
    "# pauli_strings.append('I'*num_qubits)\n",
    "# cofficients.append(constant_term1)\n",
    "\n",
    "# 线性项\n",
    "x_terms = []\n",
    "# coef_linear = -1 * K1 * (m / 2 - 1)\n",
    "for i in range(n):\n",
    "    for j in range(m):\n",
    "        coef = -1 * K1 * (m - 1)/2\n",
    "        x_term = pauli_z_term(i * m + j, num_qubits)\n",
    "        pauli_strings.append(x_term)\n",
    "        cofficients.append(coef)\n",
    "        # linear_terms.append((coef, x_term))\n",
    "\n",
    "# 二次项\n",
    "# quadratic_terms = []\n",
    "# coef_quadratic = K1 / 4\n",
    "for i in range(n):\n",
    "    coef = K1 / 4\n",
    "    for j1 in range(m):\n",
    "        for j2 in range(m):\n",
    "            if j1 != j2:\n",
    "                x_term1 = pauli_z_term(i * m + j1, num_qubits)\n",
    "                x_term2 = pauli_z_term(i * m + j2, num_qubits)\n",
    "                combined_op = ''.join(['I' if c1 == 'I' and c2 == 'I' else 'Z' if c1 == 'Z' or c2 == 'Z' else 'I'\n",
    "                                           for c1, c2 in zip(x_term1, x_term2)])\n",
    "                pauli_strings.append(combined_op)\n",
    "                cofficients.append(coef)\n",
    "            # quadratic_terms.append((coef, x_term1 + x_term2)) # 二次项的具体形式应该是每对 Zij 和 Zik 的组合\n",
    "\n",
    "# 组合所有项\n",
    "# pauli_strings = [term[1] for term in linear_terms + quadratic_terms]\n",
    "# coefficients = [term[0] for term in linear_terms + quadratic_terms]\n",
    "print(pauli_strings)\n",
    "print(cofficients)\n",
    "# 转换为 SparsePauliOp\n",
    "paulis = [Pauli(label) for label in pauli_strings]\n",
    "hamiltonian2 = SparsePauliOp.from_list(list(zip(pauli_strings, cofficients)))\n",
    "\n",
    "print(hamiltonian2)"
   ],
   "metadata": {
    "collapsed": false,
    "ExecuteTime": {
     "end_time": "2024-09-04T11:20:30.708754100Z",
     "start_time": "2024-09-04T11:20:30.475581200Z"
    }
   }
  },
  {
   "cell_type": "code",
   "execution_count": 55,
   "outputs": [
    {
     "name": "stdout",
     "output_type": "stream",
     "text": [
      "SparsePauliOp(['ZIIIIII', 'IIIZIII', 'IIIIIIZ', 'ZIIZIII', 'ZIIZIII', 'ZIIIIIZ', 'IIIZIIZ', 'IZIIIII', 'IIIIZII', 'IIIIIIZ', 'IZIIZII', 'IZIIZII', 'IZIIIIZ', 'IIIIZIZ', 'IIZIIII', 'IIIIIZI', 'IIIIIIZ', 'IIZIIZI', 'IIZIIZI', 'IIZIIIZ', 'IIIIIZZ'],\n",
      "              coeffs=[ -30.+0.j,  -90.+0.j,   30.+0.j,   15.+0.j,   15.+0.j,  -10.+0.j,\n",
      "  -30.+0.j,  -40.+0.j,  -20.+0.j,   20.+0.j,   10.+0.j,   10.+0.j,\n",
      "  -20.+0.j,  -10.+0.j, -120.+0.j,  -80.+0.j,   40.+0.j,   30.+0.j,\n",
      "   30.+0.j,  -30.+0.j,  -20.+0.j])\n"
     ]
    }
   ],
   "source": [
    "# 初始化数组\n",
    "pauli_strings = []\n",
    "coefficients = []\n",
    "x_terms = []\n",
    "z_terms = []\n",
    "# 线性和二次项\n",
    "for j in range(m):\n",
    "    # constant_term = -1/2*(np.sum(p[:, j]) - ( 2 ** l-1))\n",
    "    # h_terms = []\n",
    "\n",
    "    for i in range(n):\n",
    "        coef =-1/2 * (np.sum(p[:, j]) - ( 2 ** l-1)) * p[i, j] * P\n",
    "        x_term = pauli_z_term(i * m + j, num_qubits)\n",
    "        x_terms.append((coef, x_term))\n",
    "        # pauli_strings.append(x_term)\n",
    "        # cofficients.append(coef)\n",
    "\n",
    "    for h in range(l):\n",
    "        coef = -1/2 * (np.sum(p[:, j]) - ( 2 ** l-1)) * - (2 ** h) * P\n",
    "        z_term = pauli_z_term(m * n + h, num_qubits)\n",
    "        # pauli_strings.append(z_term)\n",
    "        # cofficients.append(coef)\n",
    "        x_terms.append((coef,z_term))\n",
    "\n",
    "    for i1 in range(n):\n",
    "        for i2 in range(n):\n",
    "            if i1 != i2:\n",
    "                coef = 1/4 * p[i1, j] * p[i2, j] * P\n",
    "                x_term1 = pauli_z_term(i1 * m + j, num_qubits)\n",
    "                x_term2 = pauli_z_term(i2 * m + j, num_qubits)\n",
    "                combined_op = ''.join(['I' if c1 == 'I' and c2 == 'I' else 'Z' if c1 == 'Z' or c2 == 'Z' else 'I'\n",
    "                                           for c1, c2 in zip(x_term1, x_term2)])\n",
    "                # pauli_strings.append(combined_op)\n",
    "                # cofficients.append(coef)\n",
    "                x_terms.append((coef, combined_op))\n",
    "    for i in range(n):\n",
    "        for h in range(l):\n",
    "            coef = 1/4 * -2 * p[i,j] * 2 ** h * P\n",
    "            x_term = pauli_z_term(i * m + j, num_qubits)\n",
    "            z_term = pauli_z_term(m * n + h, num_qubits)\n",
    "            combined_op = ''.join(['I' if c1 == 'I' and c2 == 'I' else 'Z' if c1 == 'Z' or c2 == 'Z' else 'I'\n",
    "                                           for c1, c2 in zip(x_term, z_term)])\n",
    "            # pauli_strings.append(combined_op)\n",
    "            # cofficients.append(coef)\n",
    "            x_terms.append((coef, combined_op))\n",
    "    for h1 in range(l):\n",
    "        for h2 in range(l):\n",
    "            if h1 != h2:\n",
    "                coef = 1/4 * 2 ** h1 * 2 ** h2 * P\n",
    "                z_term1 = pauli_z_term(m * n + h1, num_qubits)\n",
    "                z_term2= pauli_z_term(m * n + h2, num_qubits)\n",
    "                combined_op = ''.join(['I' if c1 == 'I' and c2 == 'I' else 'Z' if c1 == 'Z' or c2 == 'Z' else 'I'\n",
    "                                           for c1, c2 in zip(z_term1, z_term2)])\n",
    "                # pauli_strings.append(combined_op)\n",
    "                # cofficients.append(coef)\n",
    "                x_terms.append((coef, combined_op))\n",
    "pauli_strings = [term[1] for term in x_terms]\n",
    "coefficients = [term[0] for term in x_terms]\n",
    "# 转换为 SparsePauliOp\n",
    "paulis = [Pauli(label) for label in pauli_strings]\n",
    "hamiltonian3 = SparsePauliOp.from_list(list(zip(pauli_strings, coefficients)))\n",
    "\n",
    "print(hamiltonian3)"
   ],
   "metadata": {
    "collapsed": false,
    "ExecuteTime": {
     "end_time": "2024-09-04T11:20:30.709808700Z",
     "start_time": "2024-09-04T11:20:30.495775100Z"
    }
   }
  },
  {
   "cell_type": "code",
   "execution_count": 56,
   "outputs": [
    {
     "name": "stdout",
     "output_type": "stream",
     "text": [
      "SparsePauliOp(['IIIIIIZ', 'ZIIIIII', 'IZIIIII', 'IIZIIII', 'IIIZIII', 'IIIIZII', 'IIIIIZI', 'ZZIIIII', 'ZIZIIII', 'ZZIIIII', 'IZZIIII', 'ZIZIIII', 'IZZIIII', 'IIIZZII', 'IIIZIZI', 'IIIZZII', 'IIIIZZI', 'IIIZIZI', 'IIIIZZI', 'ZIIIIII', 'IIIZIII', 'IIIIIIZ', 'ZIIZIII', 'ZIIZIII', 'ZIIIIIZ', 'IIIZIIZ', 'IZIIIII', 'IIIIZII', 'IIIIIIZ', 'IZIIZII', 'IZIIZII', 'IZIIIIZ', 'IIIIZIZ', 'IIZIIII', 'IIIIIZI', 'IIIIIIZ', 'IIZIIZI', 'IIZIIZI', 'IIZIIIZ', 'IIIIIZZ'],\n",
      "              coeffs=[  -0.5+0.j,  -20. +0.j,  -20. +0.j,  -20. +0.j,  -20. +0.j,  -20. +0.j,\n",
      "  -20. +0.j,    5. +0.j,    5. +0.j,    5. +0.j,    5. +0.j,    5. +0.j,\n",
      "    5. +0.j,    5. +0.j,    5. +0.j,    5. +0.j,    5. +0.j,    5. +0.j,\n",
      "    5. +0.j,  -30. +0.j,  -90. +0.j,   30. +0.j,   15. +0.j,   15. +0.j,\n",
      "  -10. +0.j,  -30. +0.j,  -40. +0.j,  -20. +0.j,   20. +0.j,   10. +0.j,\n",
      "   10. +0.j,  -20. +0.j,  -10. +0.j, -120. +0.j,  -80. +0.j,   40. +0.j,\n",
      "   30. +0.j,   30. +0.j,  -30. +0.j,  -20. +0.j])\n"
     ]
    }
   ],
   "source": [
    "cost_hamiltonian = hamiltonian1 + hamiltonian2 + hamiltonian3\n",
    "print(cost_hamiltonian)"
   ],
   "metadata": {
    "collapsed": false,
    "ExecuteTime": {
     "end_time": "2024-09-04T11:20:30.715827100Z",
     "start_time": "2024-09-04T11:20:30.500816700Z"
    }
   }
  },
  {
   "cell_type": "code",
   "execution_count": 57,
   "outputs": [
    {
     "name": "stdout",
     "output_type": "stream",
     "text": [
      "SparsePauliOp(['XIIIIII', 'IXIIIII', 'IIXIIII', 'IIIXIII', 'IIIIXII', 'IIIIIXI', 'IIIIIIX'],\n",
      "              coeffs=[1.+0.j, 1.+0.j, 1.+0.j, 1.+0.j, 1.+0.j, 1.+0.j, 1.+0.j])\n"
     ]
    }
   ],
   "source": [
    "# 初始化数组\n",
    "pauli_strings = []\n",
    "coefficients = []\n",
    "x_terms = []\n",
    "z_terms = []\n",
    "for i in range(num_qubits):\n",
    "    coef = 1\n",
    "    x_term = pauli_x_term(i,num_qubits)\n",
    "    x_terms.append((coef, x_term))\n",
    "# # 设置前 n*m 个量子比特为 XY 混合器\n",
    "# xy_terms = []\n",
    "# for i in range(n):\n",
    "#     for j in range(m):\n",
    "#         # 确定量子比特对 (i * m + j) 和 (i * m + j + 1)\n",
    "#         if j < m - 1:\n",
    "#             coef = 0.5  # XY 项的系数\n",
    "#\n",
    "#             # 生成 Pauli-X 和 Pauli-Y 操作的字符串\n",
    "#             x_term = 'I' * (i * m + j) + 'X' + 'I' * (num_qubits - i * m - j - 1)\n",
    "#             y_term = 'I' * (i * m + j) + 'Y' + 'I' * (num_qubits - i * m - j - 1)\n",
    "#             x_term_next = 'I' * (i * m + j + 1) + 'X' + 'I' * (num_qubits - i * m - j - 2)\n",
    "#             y_term_next = 'I' * (i * m + j + 1) + 'Y' + 'I' * (num_qubits - i * m - j - 2)\n",
    "#\n",
    "#             # 组合成 XY 项\n",
    "#             xy_term_x = x_term[:i * m + j] + 'X' + x_term_next[i * m + j + 1:]\n",
    "#             xy_term_y = y_term[:i * m + j] + 'Y' + y_term_next[i * m + j + 1:]\n",
    "#\n",
    "#             # 将生成的 XY 项添加到 xy_terms 中\n",
    "#             xy_terms.append((coef, xy_term_x))\n",
    "#             xy_terms.append((coef, xy_term_y))\n",
    "\n",
    "# 提取所有的 Pauli 字符串和系数\n",
    "pauli_strings = [term[1] for term in  x_terms ]\n",
    "coefficients = [term[0] for term in  x_terms ]\n",
    "\n",
    "# 转换为 SparsePauliOp\n",
    "paulis = [Pauli(label) for label in pauli_strings]\n",
    "mixer_hamiltonian = SparsePauliOp.from_list(list(zip(pauli_strings, coefficients)))\n",
    "\n",
    "print(mixer_hamiltonian)"
   ],
   "metadata": {
    "collapsed": false,
    "ExecuteTime": {
     "end_time": "2024-09-04T11:20:30.716762600Z",
     "start_time": "2024-09-04T11:20:30.521720300Z"
    }
   }
  },
  {
   "cell_type": "code",
   "execution_count": 58,
   "outputs": [],
   "source": [
    "def invert_counts(s):\n",
    "    return s[::-1]"
   ],
   "metadata": {
    "collapsed": false,
    "ExecuteTime": {
     "end_time": "2024-09-04T11:20:30.716762600Z",
     "start_time": "2024-09-04T11:20:30.532534900Z"
    }
   }
  },
  {
   "cell_type": "code",
   "execution_count": 59,
   "outputs": [],
   "source": [
    "from qiskit.circuit.library import PauliEvolutionGate\n",
    "from qiskit import Aer, transpile, assemble, QuantumCircuit, execute\n",
    "\n",
    "\n",
    "# 定义成本函数\n",
    "def cost_function(params, n, m, l, K1, P, p):\n",
    "    beta, gamma = params[:len(params)//2], params[len(params)//2:]\n",
    "    num_qubits = n * m + l\n",
    "    qc = QuantumCircuit(num_qubits, num_qubits)  # 添加经典寄存器\n",
    "\n",
    "    # 初始化量子态到 |+> 态\n",
    "    qc.h(range(n * m + l))\n",
    "\n",
    "    for g, b in zip(gamma, beta):\n",
    "        # 应用问题哈密顿量\n",
    "        qc.append(PauliEvolutionGate(cost_hamiltonian, g), list(range(num_qubits)))\n",
    "        # 应用混合哈密顿量\n",
    "        qc.append(PauliEvolutionGate(mixer_hamiltonian, b), list(range(num_qubits)))\n",
    "\n",
    "    # print(qc)\n",
    "    # 模拟电路\n",
    "    # 添加测量指令\n",
    "    qc.measure(range(num_qubits), range(num_qubits))\n",
    "    backend = Aer.get_backend('qasm_simulator')\n",
    "    # qc = transpile(qc, backend)\n",
    "    # qobj = assemble(qc, shots=10000)\n",
    "    # result = backend.run(qobj).result()\n",
    "    result = execute(qc, backend, seed_simulator=10, shots=10000).result()\n",
    "    counts = result.get_counts(qc)\n",
    "    # 计算期望值\n",
    "    expectation = 0\n",
    "    for bitstring, count in counts.items():\n",
    "        bitstring = invert_counts(bitstring)\n",
    "        prob = count / 10000\n",
    "        z_h = np.array([int(bit) for bit in bitstring[(n*m):]])\n",
    "        x_ij = np.array([int(bit) for bit in bitstring[:(n*m)]]).reshape(n, m)\n",
    "\n",
    "        E1 = np.sum([2 ** h * z for h, z in enumerate(z_h)])\n",
    "        E2 = K1 * np.sum([(np.sum(x_ij[i]) - 1) ** 2 for i in range(n)])\n",
    "        # alpha_s = np.max([0, np.sum(x_ij * p) - np.sum([2 ** h * z for h, z in enumerate(z_h)])])\n",
    "        E3 = 0\n",
    "        for j in range(m):\n",
    "\n",
    "            sum_xp = np.sum([x_ij[i][j] * p[i][j] for i in range(n)])\n",
    "\n",
    "            sum_zh = np.sum([2**h * z_h[h] for h in range(l)])\n",
    "\n",
    "            max_value = max(0, sum_xp - sum_zh)\n",
    "\n",
    "            E3 += P * (max_value)**2\n",
    "        E = E1 + E2 + E3\n",
    "        expectation += E * prob\n",
    "    return expectation, counts"
   ],
   "metadata": {
    "collapsed": false,
    "ExecuteTime": {
     "end_time": "2024-09-04T11:20:30.717732800Z",
     "start_time": "2024-09-04T11:20:30.547535400Z"
    }
   }
  },
  {
   "cell_type": "code",
   "execution_count": 60,
   "outputs": [
    {
     "name": "stdout",
     "output_type": "stream",
     "text": [
      "Reference value: -360.50000\n"
     ]
    },
    {
     "name": "stderr",
     "output_type": "stream",
     "text": [
      "C:\\Users\\18330\\AppData\\Local\\Temp\\ipykernel_25296\\1698585709.py:6: DeprecationWarning: The class ``qiskit.opflow.primitive_ops.pauli_sum_op.PauliSumOp`` is deprecated as of qiskit-terra 0.24.0. It will be removed no earlier than 3 months after the release date. For code migration guidelines, visit https://qisk.it/opflow_migration.\n",
      "  result = numpy_solver.compute_minimum_eigenvalue(operator=PauliSumOp(cost_hamiltonian))\n"
     ]
    }
   ],
   "source": [
    "# from qiskit.algorithms.minimum_eigensolvers import NumPyMinimumEigensolver\n",
    "# from qiskit.opflow import PauliSumOp\n",
    "#\n",
    "# # 使用 NumPyEigensolver 计算基态能量\n",
    "# numpy_solver = NumPyMinimumEigensolver()\n",
    "# result = numpy_solver.compute_minimum_eigenvalue(operator=PauliSumOp(cost_hamiltonian))\n",
    "# # 获取基态能量\n",
    "# ref_value = result.eigenvalue.real\n",
    "# print(f\"Reference value: {ref_value:.5f}\")"
   ],
   "metadata": {
    "collapsed": false,
    "ExecuteTime": {
     "end_time": "2024-09-04T11:20:30.717732800Z",
     "start_time": "2024-09-04T11:20:30.562534800Z"
    }
   }
  },
  {
   "cell_type": "markdown",
   "source": [
    "寻找最优演化时间"
   ],
   "metadata": {
    "collapsed": false
   }
  },
  {
   "cell_type": "code",
   "execution_count": 61,
   "outputs": [],
   "source": [
    "# 循环演化时间的不同值\n",
    "time = np.linspace(0.1, 50, 300)\n",
    "energies = []\n",
    "for p1 in [3, 4]:\n",
    "    energy = []\n",
    "    for t_max in time:\n",
    "\n",
    "        dt = t_max / p1\n",
    "        t = dt * (np.arange(1, p1 + 1) - 0.5)\n",
    "        gamma = (t / t_max) * dt\n",
    "        beta = (1 - (t / t_max)) * dt\n",
    "        x = np.concatenate((beta, gamma))\n",
    "        expectation, _ = cost_function(x, n, m, l, K1, P, p)\n",
    "        energy.append(expectation)\n",
    "\n",
    "    energies.append(energy)"
   ],
   "metadata": {
    "collapsed": false,
    "ExecuteTime": {
     "end_time": "2024-09-04T11:21:26.807787500Z",
     "start_time": "2024-09-04T11:20:30.604929900Z"
    }
   }
  },
  {
   "cell_type": "code",
   "execution_count": 62,
   "outputs": [
    {
     "data": {
      "text/plain": "<matplotlib.legend.Legend at 0x2a037759fa0>"
     },
     "execution_count": 62,
     "metadata": {},
     "output_type": "execute_result"
    },
    {
     "data": {
      "text/plain": "<Figure size 640x480 with 1 Axes>",
      "image/png": "[encoded data removed]"
     },
     "metadata": {},
     "output_type": "display_data"
    }
   ],
   "source": [
    "from matplotlib import pyplot as plt\n",
    "plt.plot(time, energies[0], label=\"p=3\")\n",
    "plt.plot(time, energies[1], label=\"p=4\")\n",
    "plt.xlabel('Time')\n",
    "plt.ylabel('Energy')\n",
    "plt.legend(frameon=False)"
   ],
   "metadata": {
    "collapsed": false,
    "ExecuteTime": {
     "end_time": "2024-09-04T11:21:26.917320100Z",
     "start_time": "2024-09-04T11:21:26.809782700Z"
    }
   }
  },
  {
   "cell_type": "code",
   "execution_count": 66,
   "outputs": [
    {
     "name": "stdout",
     "output_type": "stream",
     "text": [
      "Optimal evolution time is 30.140133779264215 with an approximation ratio of 152.15219999999994\n"
     ]
    }
   ],
   "source": [
    "# # 找到能量期望值最小的时间索引\n",
    "idx = np.argmin(energies[1])\n",
    "# 使用该索引来确定最优的演化时间\n",
    "t_max = time[idx]\n",
    "# 输出最优演化时间及其对应的近似比\n",
    "print(f'Optimal evolution time is {t_max} with an approximation ratio of {energies[1][idx]}')"
   ],
   "metadata": {
    "collapsed": false,
    "ExecuteTime": {
     "end_time": "2024-09-04T12:09:56.066024600Z",
     "start_time": "2024-09-04T12:09:56.047760600Z"
    }
   }
  },
  {
   "cell_type": "code",
   "execution_count": 67,
   "outputs": [],
   "source": [
    "from qiskit_algorithms.optimizers import COBYLA, SPSA\n",
    "\n",
    "\n",
    "# 优化 QAOA 参数\n",
    "def optimize_qaoa(n, m, l, K1, P, p, params):\n",
    "    def objective(params):\n",
    "        expectation, _ = cost_function(params, n, m, l, K1, P, p)\n",
    "\n",
    "        return expectation\n",
    "\n",
    "    optimizer = SPSA(maxiter=1000, trust_region=True)\n",
    "    # params = np.random.rand(2 * p_max) * 2 * np.pi\n",
    "    result = optimizer.minimize(fun=objective, x0=params)\n",
    "\n",
    "    return result"
   ],
   "metadata": {
    "collapsed": false,
    "ExecuteTime": {
     "end_time": "2024-09-04T12:10:06.179790600Z",
     "start_time": "2024-09-04T12:10:06.155723500Z"
    }
   }
  },
  {
   "cell_type": "code",
   "execution_count": 68,
   "outputs": [],
   "source": [
    "# Fix initial beta and gamma values\n",
    "p1 = 4\n",
    "dt = t_max / p1\n",
    "t = dt * (np.arange(1, p1 + 1) - 0.5)\n",
    "gamma = (t / t_max) * dt\n",
    "beta = (1 - (t / t_max)) * dt\n",
    "x0 = np.concatenate((beta, gamma))"
   ],
   "metadata": {
    "collapsed": false,
    "ExecuteTime": {
     "end_time": "2024-09-04T12:10:11.964747Z",
     "start_time": "2024-09-04T12:10:11.936569100Z"
    }
   }
  },
  {
   "cell_type": "code",
   "execution_count": 69,
   "outputs": [
    {
     "name": "stdout",
     "output_type": "stream",
     "text": [
      "Final expectation value: 366.63029999999986\n",
      "Final measurement counts: {'0011011': 1187, '1011011': 660, '0111111': 610, '0000000': 581, '1100100': 490, '1001001': 391, '0010010': 354, '1010010': 343, '0000010': 240, '0001000': 203, '0001001': 163, '0101101': 156, '1001011': 149, '0111011': 135, '0001010': 135, '0110110': 134, '0011010': 134, '1100110': 127, '1110110': 126, '0011111': 118, '0010011': 113, '0001011': 110, '1011010': 104, '0101111': 104, '1011001': 101, '1001010': 101, '1000001': 93, '1011101': 93, '1110011': 92, '1111110': 90, '1000010': 89, '0100000': 81, '1110010': 73, '1010001': 72, '1101100': 72, '1010000': 70, '1011111': 68, '1101101': 61, '0000100': 60, '1101111': 59, '1101110': 53, '0110010': 53, '0001111': 50, '0110101': 50, '0010110': 48, '1110100': 47, '1101011': 47, '1100010': 46, '1001000': 45, '1110111': 45, '0011001': 42, '0100101': 39, '1100011': 39, '1011000': 39, '0111101': 39, '1100101': 38, '1000000': 38, '1010100': 36, '0101011': 36, '1111101': 35, '0010000': 35, '0110011': 34, '0011000': 34, '1001100': 33, '1110101': 33, '1001101': 33, '1000100': 32, '0011110': 29, '1011110': 29, '1100000': 28, '0100100': 28, '1011100': 27, '0000001': 26, '1111111': 26, '0111110': 25, '1111010': 24, '1101001': 23, '0110100': 23, '0001101': 22, '0110111': 21, '0111100': 21, '1100001': 20, '0101110': 18, '0010100': 18, '1100111': 18, '1111100': 18, '1111000': 17, '1111011': 17, '0100110': 16, '0100010': 15, '0101000': 14, '1010101': 14, '0101001': 14, '1000111': 13, '1010011': 13, '0010001': 12, '1010111': 12, '0011101': 12, '1101010': 11, '0111001': 11, '0001100': 10, '0111010': 9, '0000011': 8, '0101100': 8, '0011100': 8, '1000101': 8, '1110001': 7, '1000011': 7, '0110000': 7, '1101000': 6, '1000110': 5, '0100111': 5, '1001111': 5, '0001110': 4, '0000101': 3, '0100001': 3, '1110000': 3, '0111000': 3, '0100011': 3, '1001110': 3, '1010110': 2, '0000110': 2, '0010111': 2, '0010101': 2, '0110001': 1}\n"
     ]
    }
   ],
   "source": [
    "result = optimize_qaoa(n, m, l, K1, P, p, x0)\n",
    "optimal_params = result.x\n",
    "\n",
    "# 计算最终的能量\n",
    "energy, counts = cost_function(result.x, n, m, l, K1, P, p)\n",
    "sorted_dict = {item[0][::-1]: item[1] for item in sorted(counts.items(), key=lambda item: item[1], reverse=True)}\n",
    "print(\"Final expectation value:\", energy)\n",
    "print(\"Final measurement counts:\", sorted_dict)"
   ],
   "metadata": {
    "collapsed": false,
    "ExecuteTime": {
     "end_time": "2024-09-04T12:14:22.330200Z",
     "start_time": "2024-09-04T12:10:14.507876800Z"
    }
   }
  },
  {
   "cell_type": "code",
   "execution_count": 73,
   "outputs": [
    {
     "ename": "CircuitError",
     "evalue": "'The amount of qubit(201)/clbit(0) arguments does not match the gate expectation (7).'",
     "output_type": "error",
     "traceback": [
      "\u001B[1;31m---------------------------------------------------------------------------\u001B[0m",
      "\u001B[1;31mCircuitError\u001B[0m                              Traceback (most recent call last)",
      "Cell \u001B[1;32mIn[73], line 17\u001B[0m\n\u001B[0;32m     15\u001B[0m x \u001B[38;5;241m=\u001B[39m np\u001B[38;5;241m.\u001B[39minsert(x,\u001B[38;5;241m0\u001B[39m,beta)\n\u001B[0;32m     16\u001B[0m x \u001B[38;5;241m=\u001B[39m np\u001B[38;5;241m.\u001B[39minsert(x,\u001B[38;5;241m1\u001B[39m,gamma)\n\u001B[1;32m---> 17\u001B[0m expectation, _ \u001B[38;5;241m=\u001B[39m \u001B[43mcost_function\u001B[49m\u001B[43m(\u001B[49m\u001B[43mx\u001B[49m\u001B[43m,\u001B[49m\u001B[43m \u001B[49m\u001B[43mn\u001B[49m\u001B[43m,\u001B[49m\u001B[43m \u001B[49m\u001B[43mm\u001B[49m\u001B[43m,\u001B[49m\u001B[43m \u001B[49m\u001B[43ml\u001B[49m\u001B[43m,\u001B[49m\u001B[43m \u001B[49m\u001B[43mK1\u001B[49m\u001B[43m,\u001B[49m\u001B[43m \u001B[49m\u001B[43mP\u001B[49m\u001B[43m,\u001B[49m\u001B[43m \u001B[49m\u001B[43mp\u001B[49m\u001B[43m)\u001B[49m\n\u001B[0;32m     18\u001B[0m f \u001B[38;5;241m=\u001B[39m \u001B[38;5;28mopen\u001B[39m(filename, \u001B[38;5;124m'\u001B[39m\u001B[38;5;124ma\u001B[39m\u001B[38;5;124m'\u001B[39m)\n\u001B[0;32m     19\u001B[0m f\u001B[38;5;241m.\u001B[39mwrite(\u001B[38;5;28mstr\u001B[39m(x1) \u001B[38;5;241m+\u001B[39m \u001B[38;5;124m'\u001B[39m\u001B[38;5;124m \u001B[39m\u001B[38;5;124m'\u001B[39m \u001B[38;5;241m+\u001B[39m \u001B[38;5;28mstr\u001B[39m(x2)\u001B[38;5;241m+\u001B[39m \u001B[38;5;124m'\u001B[39m\u001B[38;5;124m \u001B[39m\u001B[38;5;124m'\u001B[39m \u001B[38;5;241m+\u001B[39m \u001B[38;5;28mstr\u001B[39m(expectation)\u001B[38;5;241m+\u001B[39m \u001B[38;5;124m\"\u001B[39m\u001B[38;5;130;01m\\n\u001B[39;00m\u001B[38;5;124m\"\u001B[39m)\n",
      "Cell \u001B[1;32mIn[59], line 16\u001B[0m, in \u001B[0;36mcost_function\u001B[1;34m(params, n, m, l, K1, P, p)\u001B[0m\n\u001B[0;32m     12\u001B[0m qc\u001B[38;5;241m.\u001B[39mh(\u001B[38;5;28mrange\u001B[39m(n \u001B[38;5;241m*\u001B[39m m \u001B[38;5;241m+\u001B[39m l))\n\u001B[0;32m     14\u001B[0m \u001B[38;5;28;01mfor\u001B[39;00m g, b \u001B[38;5;129;01min\u001B[39;00m \u001B[38;5;28mzip\u001B[39m(gamma, beta):\n\u001B[0;32m     15\u001B[0m     \u001B[38;5;66;03m# 应用问题哈密顿量\u001B[39;00m\n\u001B[1;32m---> 16\u001B[0m     \u001B[43mqc\u001B[49m\u001B[38;5;241;43m.\u001B[39;49m\u001B[43mappend\u001B[49m\u001B[43m(\u001B[49m\u001B[43mPauliEvolutionGate\u001B[49m\u001B[43m(\u001B[49m\u001B[43mcost_hamiltonian\u001B[49m\u001B[43m,\u001B[49m\u001B[43m \u001B[49m\u001B[43mg\u001B[49m\u001B[43m)\u001B[49m\u001B[43m,\u001B[49m\u001B[43m \u001B[49m\u001B[38;5;28;43mlist\u001B[39;49m\u001B[43m(\u001B[49m\u001B[38;5;28;43mrange\u001B[39;49m\u001B[43m(\u001B[49m\u001B[43mnum_qubits\u001B[49m\u001B[43m)\u001B[49m\u001B[43m)\u001B[49m\u001B[43m)\u001B[49m\n\u001B[0;32m     17\u001B[0m     \u001B[38;5;66;03m# 应用混合哈密顿量\u001B[39;00m\n\u001B[0;32m     18\u001B[0m     qc\u001B[38;5;241m.\u001B[39mappend(PauliEvolutionGate(mixer_hamiltonian, b), \u001B[38;5;28mlist\u001B[39m(\u001B[38;5;28mrange\u001B[39m(num_qubits)))\n",
      "File \u001B[1;32mE:\\Anaconda3\\anaconda3\\envs\\qiskit\\lib\\site-packages\\qiskit\\circuit\\quantumcircuit.py:1284\u001B[0m, in \u001B[0;36mQuantumCircuit.append\u001B[1;34m(self, instruction, qargs, cargs)\u001B[0m\n\u001B[0;32m   1282\u001B[0m instructions \u001B[38;5;241m=\u001B[39m InstructionSet(resource_requester\u001B[38;5;241m=\u001B[39mrequester)\n\u001B[0;32m   1283\u001B[0m \u001B[38;5;28;01mif\u001B[39;00m \u001B[38;5;28misinstance\u001B[39m(operation, Instruction):\n\u001B[1;32m-> 1284\u001B[0m     \u001B[38;5;28;01mfor\u001B[39;00m qarg, carg \u001B[38;5;129;01min\u001B[39;00m \u001B[43moperation\u001B[49m\u001B[38;5;241;43m.\u001B[39;49m\u001B[43mbroadcast_arguments\u001B[49m\u001B[43m(\u001B[49m\u001B[43mexpanded_qargs\u001B[49m\u001B[43m,\u001B[49m\u001B[43m \u001B[49m\u001B[43mexpanded_cargs\u001B[49m\u001B[43m)\u001B[49m:\n\u001B[0;32m   1285\u001B[0m         \u001B[38;5;28mself\u001B[39m\u001B[38;5;241m.\u001B[39m_check_dups(qarg)\n\u001B[0;32m   1286\u001B[0m         instruction \u001B[38;5;241m=\u001B[39m CircuitInstruction(operation, qarg, carg)\n",
      "File \u001B[1;32mE:\\Anaconda3\\anaconda3\\envs\\qiskit\\lib\\site-packages\\qiskit\\circuit\\gate.py:210\u001B[0m, in \u001B[0;36mGate.broadcast_arguments\u001B[1;34m(self, qargs, cargs)\u001B[0m\n\u001B[0;32m    173\u001B[0m \u001B[38;5;250m\u001B[39m\u001B[38;5;124;03m\"\"\"Validation and handling of the arguments and its relationship.\u001B[39;00m\n\u001B[0;32m    174\u001B[0m \n\u001B[0;32m    175\u001B[0m \u001B[38;5;124;03mFor example, ``cx([q[0],q[1]], q[2])`` means ``cx(q[0], q[2]); cx(q[1], q[2])``. This\u001B[39;00m\n\u001B[1;32m   (...)\u001B[0m\n\u001B[0;32m    207\u001B[0m \u001B[38;5;124;03m        arguments does not match the gate expectation.\u001B[39;00m\n\u001B[0;32m    208\u001B[0m \u001B[38;5;124;03m\"\"\"\u001B[39;00m\n\u001B[0;32m    209\u001B[0m \u001B[38;5;28;01mif\u001B[39;00m \u001B[38;5;28mlen\u001B[39m(qargs) \u001B[38;5;241m!=\u001B[39m \u001B[38;5;28mself\u001B[39m\u001B[38;5;241m.\u001B[39mnum_qubits \u001B[38;5;129;01mor\u001B[39;00m cargs:\n\u001B[1;32m--> 210\u001B[0m     \u001B[38;5;28;01mraise\u001B[39;00m CircuitError(\n\u001B[0;32m    211\u001B[0m         \u001B[38;5;124mf\u001B[39m\u001B[38;5;124m\"\u001B[39m\u001B[38;5;124mThe amount of qubit(\u001B[39m\u001B[38;5;132;01m{\u001B[39;00m\u001B[38;5;28mlen\u001B[39m(qargs)\u001B[38;5;132;01m}\u001B[39;00m\u001B[38;5;124m)/clbit(\u001B[39m\u001B[38;5;132;01m{\u001B[39;00m\u001B[38;5;28mlen\u001B[39m(cargs)\u001B[38;5;132;01m}\u001B[39;00m\u001B[38;5;124m) arguments does\u001B[39m\u001B[38;5;124m\"\u001B[39m\n\u001B[0;32m    212\u001B[0m         \u001B[38;5;124mf\u001B[39m\u001B[38;5;124m\"\u001B[39m\u001B[38;5;124m not match the gate expectation (\u001B[39m\u001B[38;5;132;01m{\u001B[39;00m\u001B[38;5;28mself\u001B[39m\u001B[38;5;241m.\u001B[39mnum_qubits\u001B[38;5;132;01m}\u001B[39;00m\u001B[38;5;124m).\u001B[39m\u001B[38;5;124m\"\u001B[39m\n\u001B[0;32m    213\u001B[0m     )\n\u001B[0;32m    215\u001B[0m \u001B[38;5;28;01mif\u001B[39;00m \u001B[38;5;28many\u001B[39m(\u001B[38;5;129;01mnot\u001B[39;00m qarg \u001B[38;5;28;01mfor\u001B[39;00m qarg \u001B[38;5;129;01min\u001B[39;00m qargs):\n\u001B[0;32m    216\u001B[0m     \u001B[38;5;28;01mraise\u001B[39;00m CircuitError(\u001B[38;5;124m\"\u001B[39m\u001B[38;5;124mOne or more of the arguments are empty\u001B[39m\u001B[38;5;124m\"\u001B[39m)\n",
      "\u001B[1;31mCircuitError\u001B[0m: 'The amount of qubit(201)/clbit(0) arguments does not match the gate expectation (7).'"
     ]
    }
   ],
   "source": [
    "from matplotlib.font_manager import FontProperties\n",
    "\n",
    "plt.rcParams['font.sans-serif'] = ['SimHei']\n",
    "plt.rcParams['axes.unicode_minus'] = False\n",
    "gamma = np.linspace(0, 2*np.pi, 100)\n",
    "beta = np.linspace(0, np.pi, 100)\n",
    "prefix = 'data_'\n",
    "suffix = '_portfolio_qaoa_p1.dat'\n",
    "preprefix = \".\\data\\\\\"\n",
    "filename = preprefix + prefix+suffix\n",
    "\n",
    "for x1 in gamma:\n",
    "     for x2 in beta:\n",
    "         x = {}\n",
    "         x = np.insert(x,0,beta)\n",
    "         x = np.insert(x,1,gamma)\n",
    "         expectation, _ = cost_function(x, n, m, l, K1, P, p)\n",
    "         f = open(filename, 'a')\n",
    "         f.write(str(x1) + ' ' + str(x2)+ ' ' + str(expectation)+ \"\\n\")\n",
    "         f.write(\"\\n\")\n",
    "         f.close()\n",
    "\n",
    "# # 绘制三维图-获取数据\n",
    "X1, X2 = np.meshgrid(gamma, beta)\n",
    "data = np.loadtxt(filename)\n",
    "expectation = data[:, 2]\n",
    "# print(z)\n",
    "m = int(np.sqrt(len(expectation)))\n",
    "Z = matrix = expectation.reshape((m, m))\n",
    "\n",
    "# 1. 创建三维图像\n",
    "fig = plt.figure(figsize=(10, 8))\n",
    "ax = fig.add_subplot(111, projection='3d')\n",
    "#绘制三维图像\n",
    "ax.plot_surface(X1, X2, Z, cmap='viridis')\n",
    "#添加轴标签\n",
    "font = FontProperties(size =16)\n",
    "ax.set_xlabel('gamma',fontproperties = font)\n",
    "ax.set_ylabel('beta',fontproperties = font)\n",
    "ax.set_zlabel('能量值',fontproperties = font)\n",
    "plt.savefig('.\\data\\\\energy_3D_2.png', format='png')\n",
    "plt.show()\n",
    "#设置视角\n",
    "ax.view_init(elev=30, azim=45)\n",
    "fig.set_size_inches(12/2.54,12/2.54)\n",
    "\n",
    "# 2. 绘制填充等高线图\n",
    "CS = plt.contourf(X1, X2, Z)\n",
    "# CS = plt.contour(X1, X2, Z)\n",
    "plt.colorbar(CS)\n",
    "plt.xlabel('gamma')\n",
    "plt.ylabel('beta')\n",
    "plt.savefig('.\\data\\\\energy_contour_2.png', format='png')\n",
    "plt.show()"
   ],
   "metadata": {
    "collapsed": false,
    "ExecuteTime": {
     "end_time": "2024-09-05T09:56:09.325404200Z",
     "start_time": "2024-09-05T09:56:08.367159100Z"
    }
   }
  },
  {
   "cell_type": "code",
   "execution_count": null,
   "outputs": [
    {
     "ename": "KeyboardInterrupt",
     "evalue": "",
     "output_type": "error",
     "traceback": [
      "\u001B[1;31m---------------------------------------------------------------------------\u001B[0m",
      "\u001B[1;31mKeyboardInterrupt\u001B[0m                         Traceback (most recent call last)",
      "Cell \u001B[1;32mIn[11], line 26\u001B[0m\n\u001B[0;32m     23\u001B[0m init_point_temp \u001B[38;5;241m=\u001B[39m np\u001B[38;5;241m.\u001B[39minsert(init_point_temp, \u001B[38;5;241m2\u001B[39m \u001B[38;5;241m*\u001B[39m p1 \u001B[38;5;241m-\u001B[39m \u001B[38;5;241m1\u001B[39m, gamma_p)\n\u001B[0;32m     24\u001B[0m \u001B[38;5;66;03m# 创建参数向量\u001B[39;00m\n\u001B[0;32m     25\u001B[0m \u001B[38;5;66;03m# print(\"init_point_temp\"+ init_point_temp)\u001B[39;00m\n\u001B[1;32m---> 26\u001B[0m result \u001B[38;5;241m=\u001B[39m \u001B[43moptimize_qaoa\u001B[49m\u001B[43m(\u001B[49m\u001B[43mn\u001B[49m\u001B[43m,\u001B[49m\u001B[43m \u001B[49m\u001B[43mm\u001B[49m\u001B[43m,\u001B[49m\u001B[43m \u001B[49m\u001B[43ml\u001B[49m\u001B[43m,\u001B[49m\u001B[43m \u001B[49m\u001B[43mK1\u001B[49m\u001B[43m,\u001B[49m\u001B[43m \u001B[49m\u001B[43mP\u001B[49m\u001B[43m,\u001B[49m\u001B[43m \u001B[49m\u001B[43mp\u001B[49m\u001B[43m,\u001B[49m\u001B[43m \u001B[49m\u001B[43minit_point_temp\u001B[49m\u001B[43m)\u001B[49m\n\u001B[0;32m     28\u001B[0m \u001B[38;5;66;03m# print(result.x)\u001B[39;00m\n\u001B[0;32m     29\u001B[0m optimal_params \u001B[38;5;241m=\u001B[39m result\u001B[38;5;241m.\u001B[39mx\n",
      "Cell \u001B[1;32mIn[10], line 13\u001B[0m, in \u001B[0;36moptimize_qaoa\u001B[1;34m(n, m, l, K1, P, p, params)\u001B[0m\n\u001B[0;32m     11\u001B[0m optimizer \u001B[38;5;241m=\u001B[39m SPSA(maxiter\u001B[38;5;241m=\u001B[39m\u001B[38;5;241m1000\u001B[39m, trust_region\u001B[38;5;241m=\u001B[39m\u001B[38;5;28;01mTrue\u001B[39;00m)\n\u001B[0;32m     12\u001B[0m \u001B[38;5;66;03m# params = np.random.rand(2 * p_max) * 2 * np.pi\u001B[39;00m\n\u001B[1;32m---> 13\u001B[0m result \u001B[38;5;241m=\u001B[39m \u001B[43moptimizer\u001B[49m\u001B[38;5;241;43m.\u001B[39;49m\u001B[43mminimize\u001B[49m\u001B[43m(\u001B[49m\u001B[43mfun\u001B[49m\u001B[38;5;241;43m=\u001B[39;49m\u001B[43mobjective\u001B[49m\u001B[43m,\u001B[49m\u001B[43m \u001B[49m\u001B[43mx0\u001B[49m\u001B[38;5;241;43m=\u001B[39;49m\u001B[43mparams\u001B[49m\u001B[43m)\u001B[49m\n\u001B[0;32m     15\u001B[0m \u001B[38;5;28;01mreturn\u001B[39;00m result\n",
      "File \u001B[1;32mE:\\Anaconda3\\anaconda3\\envs\\qiskit\\lib\\site-packages\\qiskit_algorithms\\optimizers\\spsa.py:558\u001B[0m, in \u001B[0;36mSPSA.minimize\u001B[1;34m(self, fun, x0, jac, bounds)\u001B[0m\n\u001B[0;32m    556\u001B[0m iteration_start \u001B[38;5;241m=\u001B[39m time()\n\u001B[0;32m    557\u001B[0m \u001B[38;5;66;03m# compute update\u001B[39;00m\n\u001B[1;32m--> 558\u001B[0m fx_estimate, update \u001B[38;5;241m=\u001B[39m \u001B[38;5;28;43mself\u001B[39;49m\u001B[38;5;241;43m.\u001B[39;49m\u001B[43m_compute_update\u001B[49m\u001B[43m(\u001B[49m\u001B[43mfun\u001B[49m\u001B[43m,\u001B[49m\u001B[43m \u001B[49m\u001B[43mx\u001B[49m\u001B[43m,\u001B[49m\u001B[43m \u001B[49m\u001B[43mk\u001B[49m\u001B[43m,\u001B[49m\u001B[43m \u001B[49m\u001B[38;5;28;43mnext\u001B[39;49m\u001B[43m(\u001B[49m\u001B[43meps\u001B[49m\u001B[43m)\u001B[49m\u001B[43m,\u001B[49m\u001B[43m \u001B[49m\u001B[43mlse_solver\u001B[49m\u001B[43m)\u001B[49m\n\u001B[0;32m    560\u001B[0m \u001B[38;5;66;03m# trust region\u001B[39;00m\n\u001B[0;32m    561\u001B[0m \u001B[38;5;28;01mif\u001B[39;00m \u001B[38;5;28mself\u001B[39m\u001B[38;5;241m.\u001B[39mtrust_region:\n",
      "File \u001B[1;32mE:\\Anaconda3\\anaconda3\\envs\\qiskit\\lib\\site-packages\\qiskit_algorithms\\optimizers\\spsa.py:489\u001B[0m, in \u001B[0;36mSPSA._compute_update\u001B[1;34m(self, loss, x, k, eps, lse_solver)\u001B[0m\n\u001B[0;32m    486\u001B[0m     num_samples \u001B[38;5;241m=\u001B[39m \u001B[38;5;28mself\u001B[39m\u001B[38;5;241m.\u001B[39mresamplings\n\u001B[0;32m    488\u001B[0m \u001B[38;5;66;03m# accumulate the number of samples\u001B[39;00m\n\u001B[1;32m--> 489\u001B[0m value, gradient, hessian \u001B[38;5;241m=\u001B[39m \u001B[38;5;28;43mself\u001B[39;49m\u001B[38;5;241;43m.\u001B[39;49m\u001B[43m_point_estimate\u001B[49m\u001B[43m(\u001B[49m\u001B[43mloss\u001B[49m\u001B[43m,\u001B[49m\u001B[43m \u001B[49m\u001B[43mx\u001B[49m\u001B[43m,\u001B[49m\u001B[43m \u001B[49m\u001B[43meps\u001B[49m\u001B[43m,\u001B[49m\u001B[43m \u001B[49m\u001B[43mnum_samples\u001B[49m\u001B[43m)\u001B[49m\n\u001B[0;32m    491\u001B[0m \u001B[38;5;66;03m# precondition gradient with inverse Hessian, if specified\u001B[39;00m\n\u001B[0;32m    492\u001B[0m \u001B[38;5;28;01mif\u001B[39;00m \u001B[38;5;28mself\u001B[39m\u001B[38;5;241m.\u001B[39msecond_order:\n",
      "File \u001B[1;32mE:\\Anaconda3\\anaconda3\\envs\\qiskit\\lib\\site-packages\\qiskit_algorithms\\optimizers\\spsa.py:466\u001B[0m, in \u001B[0;36mSPSA._point_estimate\u001B[1;34m(self, loss, x, eps, num_samples)\u001B[0m\n\u001B[0;32m    463\u001B[0m delta1 \u001B[38;5;241m=\u001B[39m deltas1[i]\n\u001B[0;32m    464\u001B[0m delta2 \u001B[38;5;241m=\u001B[39m deltas2[i] \u001B[38;5;28;01mif\u001B[39;00m \u001B[38;5;28mself\u001B[39m\u001B[38;5;241m.\u001B[39msecond_order \u001B[38;5;28;01melse\u001B[39;00m \u001B[38;5;28;01mNone\u001B[39;00m\n\u001B[1;32m--> 466\u001B[0m value_sample, gradient_sample, hessian_sample \u001B[38;5;241m=\u001B[39m \u001B[38;5;28;43mself\u001B[39;49m\u001B[38;5;241;43m.\u001B[39;49m\u001B[43m_point_sample\u001B[49m\u001B[43m(\u001B[49m\n\u001B[0;32m    467\u001B[0m \u001B[43m    \u001B[49m\u001B[43mloss\u001B[49m\u001B[43m,\u001B[49m\u001B[43m \u001B[49m\u001B[43mx\u001B[49m\u001B[43m,\u001B[49m\u001B[43m \u001B[49m\u001B[43meps\u001B[49m\u001B[43m,\u001B[49m\u001B[43m \u001B[49m\u001B[43mdelta1\u001B[49m\u001B[43m,\u001B[49m\u001B[43m \u001B[49m\u001B[43mdelta2\u001B[49m\n\u001B[0;32m    468\u001B[0m \u001B[43m\u001B[49m\u001B[43m)\u001B[49m\n\u001B[0;32m    469\u001B[0m value_estimate \u001B[38;5;241m+\u001B[39m\u001B[38;5;241m=\u001B[39m value_sample\n\u001B[0;32m    470\u001B[0m gradient_estimate \u001B[38;5;241m+\u001B[39m\u001B[38;5;241m=\u001B[39m gradient_sample\n",
      "File \u001B[1;32mE:\\Anaconda3\\anaconda3\\envs\\qiskit\\lib\\site-packages\\qiskit_algorithms\\optimizers\\spsa.py:427\u001B[0m, in \u001B[0;36mSPSA._point_sample\u001B[1;34m(self, loss, x, eps, delta1, delta2)\u001B[0m\n\u001B[0;32m    424\u001B[0m     \u001B[38;5;28mself\u001B[39m\u001B[38;5;241m.\u001B[39m_nfev \u001B[38;5;241m+\u001B[39m\u001B[38;5;241m=\u001B[39m \u001B[38;5;241m2\u001B[39m\n\u001B[0;32m    426\u001B[0m \u001B[38;5;66;03m# batch evaluate the points (if possible)\u001B[39;00m\n\u001B[1;32m--> 427\u001B[0m values \u001B[38;5;241m=\u001B[39m \u001B[43m_batch_evaluate\u001B[49m\u001B[43m(\u001B[49m\u001B[43mloss\u001B[49m\u001B[43m,\u001B[49m\u001B[43m \u001B[49m\u001B[43mpoints\u001B[49m\u001B[43m,\u001B[49m\u001B[43m \u001B[49m\u001B[38;5;28;43mself\u001B[39;49m\u001B[38;5;241;43m.\u001B[39;49m\u001B[43m_max_evals_grouped\u001B[49m\u001B[43m)\u001B[49m\n\u001B[0;32m    429\u001B[0m plus \u001B[38;5;241m=\u001B[39m values[\u001B[38;5;241m0\u001B[39m]\n\u001B[0;32m    430\u001B[0m minus \u001B[38;5;241m=\u001B[39m values[\u001B[38;5;241m1\u001B[39m]\n",
      "File \u001B[1;32mE:\\Anaconda3\\anaconda3\\envs\\qiskit\\lib\\site-packages\\qiskit_algorithms\\optimizers\\spsa.py:693\u001B[0m, in \u001B[0;36m_batch_evaluate\u001B[1;34m(function, points, max_evals_grouped, unpack_points)\u001B[0m\n\u001B[0;32m    690\u001B[0m \u001B[38;5;66;03m# if the function cannot handle lists of points as input, cover this case immediately\u001B[39;00m\n\u001B[0;32m    691\u001B[0m \u001B[38;5;28;01mif\u001B[39;00m max_evals_grouped \u001B[38;5;129;01mis\u001B[39;00m \u001B[38;5;28;01mNone\u001B[39;00m \u001B[38;5;129;01mor\u001B[39;00m max_evals_grouped \u001B[38;5;241m==\u001B[39m \u001B[38;5;241m1\u001B[39m:\n\u001B[0;32m    692\u001B[0m     \u001B[38;5;66;03m# support functions with multiple arguments where the points are given in a tuple\u001B[39;00m\n\u001B[1;32m--> 693\u001B[0m     \u001B[38;5;28;01mreturn\u001B[39;00m [\n\u001B[0;32m    694\u001B[0m         function(\u001B[38;5;241m*\u001B[39mpoint) \u001B[38;5;28;01mif\u001B[39;00m \u001B[38;5;28misinstance\u001B[39m(point, \u001B[38;5;28mtuple\u001B[39m) \u001B[38;5;28;01melse\u001B[39;00m function(point) \u001B[38;5;28;01mfor\u001B[39;00m point \u001B[38;5;129;01min\u001B[39;00m points\n\u001B[0;32m    695\u001B[0m     ]\n\u001B[0;32m    697\u001B[0m num_points \u001B[38;5;241m=\u001B[39m \u001B[38;5;28mlen\u001B[39m(points)\n\u001B[0;32m    699\u001B[0m \u001B[38;5;66;03m# get the number of batches\u001B[39;00m\n",
      "File \u001B[1;32mE:\\Anaconda3\\anaconda3\\envs\\qiskit\\lib\\site-packages\\qiskit_algorithms\\optimizers\\spsa.py:694\u001B[0m, in \u001B[0;36m<listcomp>\u001B[1;34m(.0)\u001B[0m\n\u001B[0;32m    690\u001B[0m \u001B[38;5;66;03m# if the function cannot handle lists of points as input, cover this case immediately\u001B[39;00m\n\u001B[0;32m    691\u001B[0m \u001B[38;5;28;01mif\u001B[39;00m max_evals_grouped \u001B[38;5;129;01mis\u001B[39;00m \u001B[38;5;28;01mNone\u001B[39;00m \u001B[38;5;129;01mor\u001B[39;00m max_evals_grouped \u001B[38;5;241m==\u001B[39m \u001B[38;5;241m1\u001B[39m:\n\u001B[0;32m    692\u001B[0m     \u001B[38;5;66;03m# support functions with multiple arguments where the points are given in a tuple\u001B[39;00m\n\u001B[0;32m    693\u001B[0m     \u001B[38;5;28;01mreturn\u001B[39;00m [\n\u001B[1;32m--> 694\u001B[0m         function(\u001B[38;5;241m*\u001B[39mpoint) \u001B[38;5;28;01mif\u001B[39;00m \u001B[38;5;28misinstance\u001B[39m(point, \u001B[38;5;28mtuple\u001B[39m) \u001B[38;5;28;01melse\u001B[39;00m \u001B[43mfunction\u001B[49m\u001B[43m(\u001B[49m\u001B[43mpoint\u001B[49m\u001B[43m)\u001B[49m \u001B[38;5;28;01mfor\u001B[39;00m point \u001B[38;5;129;01min\u001B[39;00m points\n\u001B[0;32m    695\u001B[0m     ]\n\u001B[0;32m    697\u001B[0m num_points \u001B[38;5;241m=\u001B[39m \u001B[38;5;28mlen\u001B[39m(points)\n\u001B[0;32m    699\u001B[0m \u001B[38;5;66;03m# get the number of batches\u001B[39;00m\n",
      "Cell \u001B[1;32mIn[10], line 7\u001B[0m, in \u001B[0;36moptimize_qaoa.<locals>.objective\u001B[1;34m(params)\u001B[0m\n\u001B[0;32m      6\u001B[0m \u001B[38;5;28;01mdef\u001B[39;00m \u001B[38;5;21mobjective\u001B[39m(params):\n\u001B[1;32m----> 7\u001B[0m     expectation, _ \u001B[38;5;241m=\u001B[39m \u001B[43mcost_function\u001B[49m\u001B[43m(\u001B[49m\u001B[43mparams\u001B[49m\u001B[43m,\u001B[49m\u001B[43m \u001B[49m\u001B[43mn\u001B[49m\u001B[43m,\u001B[49m\u001B[43m \u001B[49m\u001B[43mm\u001B[49m\u001B[43m,\u001B[49m\u001B[43m \u001B[49m\u001B[43ml\u001B[49m\u001B[43m,\u001B[49m\u001B[43m \u001B[49m\u001B[43mK1\u001B[49m\u001B[43m,\u001B[49m\u001B[43m \u001B[49m\u001B[43mP\u001B[49m\u001B[43m,\u001B[49m\u001B[43m \u001B[49m\u001B[43mp\u001B[49m\u001B[43m)\u001B[49m\n\u001B[0;32m      9\u001B[0m     \u001B[38;5;28;01mreturn\u001B[39;00m expectation\n",
      "Cell \u001B[1;32mIn[9], line 28\u001B[0m, in \u001B[0;36mcost_function\u001B[1;34m(params, n, m, l, K1, P, p)\u001B[0m\n\u001B[0;32m     24\u001B[0m backend \u001B[38;5;241m=\u001B[39m Aer\u001B[38;5;241m.\u001B[39mget_backend(\u001B[38;5;124m'\u001B[39m\u001B[38;5;124mqasm_simulator\u001B[39m\u001B[38;5;124m'\u001B[39m)\n\u001B[0;32m     25\u001B[0m \u001B[38;5;66;03m# qc = transpile(qc, backend)\u001B[39;00m\n\u001B[0;32m     26\u001B[0m \u001B[38;5;66;03m# qobj = assemble(qc, shots=10000)\u001B[39;00m\n\u001B[0;32m     27\u001B[0m \u001B[38;5;66;03m# result = backend.run(qobj).result()\u001B[39;00m\n\u001B[1;32m---> 28\u001B[0m result \u001B[38;5;241m=\u001B[39m \u001B[43mexecute\u001B[49m\u001B[43m(\u001B[49m\u001B[43mqc\u001B[49m\u001B[43m,\u001B[49m\u001B[43m \u001B[49m\u001B[43mbackend\u001B[49m\u001B[43m,\u001B[49m\u001B[43m \u001B[49m\u001B[43mseed_simulator\u001B[49m\u001B[38;5;241;43m=\u001B[39;49m\u001B[38;5;241;43m10\u001B[39;49m\u001B[43m,\u001B[49m\u001B[43m \u001B[49m\u001B[43mshots\u001B[49m\u001B[38;5;241;43m=\u001B[39;49m\u001B[38;5;241;43m10000\u001B[39;49m\u001B[43m)\u001B[49m\u001B[38;5;241m.\u001B[39mresult()\n\u001B[0;32m     29\u001B[0m counts \u001B[38;5;241m=\u001B[39m result\u001B[38;5;241m.\u001B[39mget_counts(qc)\n\u001B[0;32m     30\u001B[0m \u001B[38;5;66;03m# 计算期望值\u001B[39;00m\n",
      "File \u001B[1;32mE:\\Anaconda3\\anaconda3\\envs\\qiskit\\lib\\site-packages\\qiskit\\execute_function.py:286\u001B[0m, in \u001B[0;36mexecute\u001B[1;34m(experiments, backend, basis_gates, coupling_map, backend_properties, initial_layout, seed_transpiler, optimization_level, pass_manager, shots, memory, seed_simulator, default_qubit_los, default_meas_los, qubit_lo_range, meas_lo_range, schedule_los, meas_level, meas_return, memory_slots, memory_slot_size, rep_time, rep_delay, parameter_binds, schedule_circuit, inst_map, meas_map, scheduling_method, init_qubits, **run_config)\u001B[0m\n\u001B[0;32m    283\u001B[0m     experiments \u001B[38;5;241m=\u001B[39m pass_manager\u001B[38;5;241m.\u001B[39mrun(experiments)\n\u001B[0;32m    284\u001B[0m \u001B[38;5;28;01melse\u001B[39;00m:\n\u001B[0;32m    285\u001B[0m     \u001B[38;5;66;03m# transpiling the circuits using given transpile options\u001B[39;00m\n\u001B[1;32m--> 286\u001B[0m     experiments \u001B[38;5;241m=\u001B[39m \u001B[43mtranspile\u001B[49m\u001B[43m(\u001B[49m\n\u001B[0;32m    287\u001B[0m \u001B[43m        \u001B[49m\u001B[43mexperiments\u001B[49m\u001B[43m,\u001B[49m\n\u001B[0;32m    288\u001B[0m \u001B[43m        \u001B[49m\u001B[43mbasis_gates\u001B[49m\u001B[38;5;241;43m=\u001B[39;49m\u001B[43mbasis_gates\u001B[49m\u001B[43m,\u001B[49m\n\u001B[0;32m    289\u001B[0m \u001B[43m        \u001B[49m\u001B[43mcoupling_map\u001B[49m\u001B[38;5;241;43m=\u001B[39;49m\u001B[43mcoupling_map\u001B[49m\u001B[43m,\u001B[49m\n\u001B[0;32m    290\u001B[0m \u001B[43m        \u001B[49m\u001B[43mbackend_properties\u001B[49m\u001B[38;5;241;43m=\u001B[39;49m\u001B[43mbackend_properties\u001B[49m\u001B[43m,\u001B[49m\n\u001B[0;32m    291\u001B[0m \u001B[43m        \u001B[49m\u001B[43minitial_layout\u001B[49m\u001B[38;5;241;43m=\u001B[39;49m\u001B[43minitial_layout\u001B[49m\u001B[43m,\u001B[49m\n\u001B[0;32m    292\u001B[0m \u001B[43m        \u001B[49m\u001B[43mseed_transpiler\u001B[49m\u001B[38;5;241;43m=\u001B[39;49m\u001B[43mseed_transpiler\u001B[49m\u001B[43m,\u001B[49m\n\u001B[0;32m    293\u001B[0m \u001B[43m        \u001B[49m\u001B[43moptimization_level\u001B[49m\u001B[38;5;241;43m=\u001B[39;49m\u001B[43moptimization_level\u001B[49m\u001B[43m,\u001B[49m\n\u001B[0;32m    294\u001B[0m \u001B[43m        \u001B[49m\u001B[43mbackend\u001B[49m\u001B[38;5;241;43m=\u001B[39;49m\u001B[43mbackend\u001B[49m\u001B[43m,\u001B[49m\n\u001B[0;32m    295\u001B[0m \u001B[43m    \u001B[49m\u001B[43m)\u001B[49m\n\u001B[0;32m    297\u001B[0m \u001B[38;5;28;01mif\u001B[39;00m schedule_circuit:\n\u001B[0;32m    298\u001B[0m     experiments \u001B[38;5;241m=\u001B[39m schedule(\n\u001B[0;32m    299\u001B[0m         circuits\u001B[38;5;241m=\u001B[39mexperiments,\n\u001B[0;32m    300\u001B[0m         backend\u001B[38;5;241m=\u001B[39mbackend,\n\u001B[1;32m   (...)\u001B[0m\n\u001B[0;32m    303\u001B[0m         method\u001B[38;5;241m=\u001B[39mscheduling_method,\n\u001B[0;32m    304\u001B[0m     )\n",
      "File \u001B[1;32mE:\\Anaconda3\\anaconda3\\envs\\qiskit\\lib\\site-packages\\qiskit\\compiler\\transpiler.py:428\u001B[0m, in \u001B[0;36mtranspile\u001B[1;34m(circuits, backend, basis_gates, inst_map, coupling_map, backend_properties, initial_layout, layout_method, routing_method, translation_method, scheduling_method, instruction_durations, dt, approximation_degree, timing_constraints, seed_transpiler, optimization_level, callback, output_name, unitary_synthesis_method, unitary_synthesis_plugin_config, target, hls_config, init_method, optimization_method, ignore_backend_supplied_default_methods)\u001B[0m\n\u001B[0;32m    400\u001B[0m         instruction_durations \u001B[38;5;241m=\u001B[39m _parse_instruction_durations(\n\u001B[0;32m    401\u001B[0m             backend, instruction_durations, dt, circuits[\u001B[38;5;241m0\u001B[39m]\n\u001B[0;32m    402\u001B[0m         )\n\u001B[0;32m    404\u001B[0m pm \u001B[38;5;241m=\u001B[39m generate_preset_pass_manager(\n\u001B[0;32m    405\u001B[0m     optimization_level,\n\u001B[0;32m    406\u001B[0m     backend\u001B[38;5;241m=\u001B[39mbackend,\n\u001B[1;32m   (...)\u001B[0m\n\u001B[0;32m    426\u001B[0m     _skip_target\u001B[38;5;241m=\u001B[39m_skip_target,\n\u001B[0;32m    427\u001B[0m )\n\u001B[1;32m--> 428\u001B[0m out_circuits \u001B[38;5;241m=\u001B[39m \u001B[43mpm\u001B[49m\u001B[38;5;241;43m.\u001B[39;49m\u001B[43mrun\u001B[49m\u001B[43m(\u001B[49m\u001B[43mcircuits\u001B[49m\u001B[43m,\u001B[49m\u001B[43m \u001B[49m\u001B[43mcallback\u001B[49m\u001B[38;5;241;43m=\u001B[39;49m\u001B[43mcallback\u001B[49m\u001B[43m)\u001B[49m\n\u001B[0;32m    429\u001B[0m \u001B[38;5;28;01mfor\u001B[39;00m name, circ \u001B[38;5;129;01min\u001B[39;00m \u001B[38;5;28mzip\u001B[39m(output_name, out_circuits):\n\u001B[0;32m    430\u001B[0m     circ\u001B[38;5;241m.\u001B[39mname \u001B[38;5;241m=\u001B[39m name\n",
      "File \u001B[1;32mE:\\Anaconda3\\anaconda3\\envs\\qiskit\\lib\\site-packages\\qiskit\\transpiler\\passmanager.py:534\u001B[0m, in \u001B[0;36mStagedPassManager.run\u001B[1;34m(self, circuits, output_name, callback)\u001B[0m\n\u001B[0;32m    527\u001B[0m \u001B[38;5;28;01mdef\u001B[39;00m \u001B[38;5;21mrun\u001B[39m(\n\u001B[0;32m    528\u001B[0m     \u001B[38;5;28mself\u001B[39m,\n\u001B[0;32m    529\u001B[0m     circuits: _CircuitsT,\n\u001B[0;32m    530\u001B[0m     output_name: \u001B[38;5;28mstr\u001B[39m \u001B[38;5;241m|\u001B[39m \u001B[38;5;28;01mNone\u001B[39;00m \u001B[38;5;241m=\u001B[39m \u001B[38;5;28;01mNone\u001B[39;00m,\n\u001B[0;32m    531\u001B[0m     callback: Callable \u001B[38;5;241m|\u001B[39m \u001B[38;5;28;01mNone\u001B[39;00m \u001B[38;5;241m=\u001B[39m \u001B[38;5;28;01mNone\u001B[39;00m,\n\u001B[0;32m    532\u001B[0m ) \u001B[38;5;241m-\u001B[39m\u001B[38;5;241m>\u001B[39m _CircuitsT:\n\u001B[0;32m    533\u001B[0m     \u001B[38;5;28mself\u001B[39m\u001B[38;5;241m.\u001B[39m_update_passmanager()\n\u001B[1;32m--> 534\u001B[0m     \u001B[38;5;28;01mreturn\u001B[39;00m \u001B[38;5;28;43msuper\u001B[39;49m\u001B[43m(\u001B[49m\u001B[43m)\u001B[49m\u001B[38;5;241;43m.\u001B[39;49m\u001B[43mrun\u001B[49m\u001B[43m(\u001B[49m\u001B[43mcircuits\u001B[49m\u001B[43m,\u001B[49m\u001B[43m \u001B[49m\u001B[43moutput_name\u001B[49m\u001B[43m,\u001B[49m\u001B[43m \u001B[49m\u001B[43mcallback\u001B[49m\u001B[43m)\u001B[49m\n",
      "File \u001B[1;32mE:\\Anaconda3\\anaconda3\\envs\\qiskit\\lib\\site-packages\\qiskit\\transpiler\\passmanager.py:553\u001B[0m, in \u001B[0;36m_replace_error.<locals>.wrapper\u001B[1;34m(*meth_args, **meth_kwargs)\u001B[0m\n\u001B[0;32m    550\u001B[0m \u001B[38;5;129m@wraps\u001B[39m(meth)\n\u001B[0;32m    551\u001B[0m \u001B[38;5;28;01mdef\u001B[39;00m \u001B[38;5;21mwrapper\u001B[39m(\u001B[38;5;241m*\u001B[39mmeth_args, \u001B[38;5;241m*\u001B[39m\u001B[38;5;241m*\u001B[39mmeth_kwargs):\n\u001B[0;32m    552\u001B[0m     \u001B[38;5;28;01mtry\u001B[39;00m:\n\u001B[1;32m--> 553\u001B[0m         \u001B[38;5;28;01mreturn\u001B[39;00m \u001B[43mmeth\u001B[49m\u001B[43m(\u001B[49m\u001B[38;5;241;43m*\u001B[39;49m\u001B[43mmeth_args\u001B[49m\u001B[43m,\u001B[49m\u001B[43m \u001B[49m\u001B[38;5;241;43m*\u001B[39;49m\u001B[38;5;241;43m*\u001B[39;49m\u001B[43mmeth_kwargs\u001B[49m\u001B[43m)\u001B[49m\n\u001B[0;32m    554\u001B[0m     \u001B[38;5;28;01mexcept\u001B[39;00m PassManagerError \u001B[38;5;28;01mas\u001B[39;00m ex:\n\u001B[0;32m    555\u001B[0m         \u001B[38;5;28;01mraise\u001B[39;00m TranspilerError(ex\u001B[38;5;241m.\u001B[39mmessage) \u001B[38;5;28;01mfrom\u001B[39;00m \u001B[38;5;21;01mex\u001B[39;00m\n",
      "File \u001B[1;32mE:\\Anaconda3\\anaconda3\\envs\\qiskit\\lib\\site-packages\\qiskit\\transpiler\\passmanager.py:291\u001B[0m, in \u001B[0;36mPassManager.run\u001B[1;34m(self, circuits, output_name, callback)\u001B[0m\n\u001B[0;32m    288\u001B[0m \u001B[38;5;28;01mif\u001B[39;00m callback \u001B[38;5;129;01mis\u001B[39;00m \u001B[38;5;129;01mnot\u001B[39;00m \u001B[38;5;28;01mNone\u001B[39;00m:\n\u001B[0;32m    289\u001B[0m     callback \u001B[38;5;241m=\u001B[39m _legacy_style_callback(callback)\n\u001B[1;32m--> 291\u001B[0m \u001B[38;5;28;01mreturn\u001B[39;00m \u001B[38;5;28;43msuper\u001B[39;49m\u001B[43m(\u001B[49m\u001B[43m)\u001B[49m\u001B[38;5;241;43m.\u001B[39;49m\u001B[43mrun\u001B[49m\u001B[43m(\u001B[49m\n\u001B[0;32m    292\u001B[0m \u001B[43m    \u001B[49m\u001B[43min_programs\u001B[49m\u001B[38;5;241;43m=\u001B[39;49m\u001B[43mcircuits\u001B[49m\u001B[43m,\u001B[49m\n\u001B[0;32m    293\u001B[0m \u001B[43m    \u001B[49m\u001B[43mcallback\u001B[49m\u001B[38;5;241;43m=\u001B[39;49m\u001B[43mcallback\u001B[49m\u001B[43m,\u001B[49m\n\u001B[0;32m    294\u001B[0m \u001B[43m    \u001B[49m\u001B[43moutput_name\u001B[49m\u001B[38;5;241;43m=\u001B[39;49m\u001B[43moutput_name\u001B[49m\u001B[43m,\u001B[49m\n\u001B[0;32m    295\u001B[0m \u001B[43m\u001B[49m\u001B[43m)\u001B[49m\n",
      "File \u001B[1;32mE:\\Anaconda3\\anaconda3\\envs\\qiskit\\lib\\site-packages\\qiskit\\passmanager\\passmanager.py:222\u001B[0m, in \u001B[0;36mBasePassManager.run\u001B[1;34m(self, in_programs, callback, **kwargs)\u001B[0m\n\u001B[0;32m    219\u001B[0m     is_list \u001B[38;5;241m=\u001B[39m \u001B[38;5;28;01mFalse\u001B[39;00m\n\u001B[0;32m    221\u001B[0m \u001B[38;5;28;01mif\u001B[39;00m \u001B[38;5;28mlen\u001B[39m(in_programs) \u001B[38;5;241m==\u001B[39m \u001B[38;5;241m1\u001B[39m:\n\u001B[1;32m--> 222\u001B[0m     out_program \u001B[38;5;241m=\u001B[39m \u001B[43m_run_workflow\u001B[49m\u001B[43m(\u001B[49m\n\u001B[0;32m    223\u001B[0m \u001B[43m        \u001B[49m\u001B[43mprogram\u001B[49m\u001B[38;5;241;43m=\u001B[39;49m\u001B[43min_programs\u001B[49m\u001B[43m[\u001B[49m\u001B[38;5;241;43m0\u001B[39;49m\u001B[43m]\u001B[49m\u001B[43m,\u001B[49m\n\u001B[0;32m    224\u001B[0m \u001B[43m        \u001B[49m\u001B[43mpass_manager\u001B[49m\u001B[38;5;241;43m=\u001B[39;49m\u001B[38;5;28;43mself\u001B[39;49m\u001B[43m,\u001B[49m\n\u001B[0;32m    225\u001B[0m \u001B[43m        \u001B[49m\u001B[43mcallback\u001B[49m\u001B[38;5;241;43m=\u001B[39;49m\u001B[43mcallback\u001B[49m\u001B[43m,\u001B[49m\n\u001B[0;32m    226\u001B[0m \u001B[43m        \u001B[49m\u001B[38;5;241;43m*\u001B[39;49m\u001B[38;5;241;43m*\u001B[39;49m\u001B[43mkwargs\u001B[49m\u001B[43m,\u001B[49m\n\u001B[0;32m    227\u001B[0m \u001B[43m    \u001B[49m\u001B[43m)\u001B[49m\n\u001B[0;32m    228\u001B[0m     \u001B[38;5;28;01mif\u001B[39;00m is_list:\n\u001B[0;32m    229\u001B[0m         \u001B[38;5;28;01mreturn\u001B[39;00m [out_program]\n",
      "File \u001B[1;32mE:\\Anaconda3\\anaconda3\\envs\\qiskit\\lib\\site-packages\\qiskit\\passmanager\\passmanager.py:284\u001B[0m, in \u001B[0;36m_run_workflow\u001B[1;34m(program, pass_manager, **kwargs)\u001B[0m\n\u001B[0;32m    278\u001B[0m initial_status \u001B[38;5;241m=\u001B[39m WorkflowStatus()\n\u001B[0;32m    280\u001B[0m passmanager_ir \u001B[38;5;241m=\u001B[39m pass_manager\u001B[38;5;241m.\u001B[39m_passmanager_frontend(\n\u001B[0;32m    281\u001B[0m     input_program\u001B[38;5;241m=\u001B[39mprogram,\n\u001B[0;32m    282\u001B[0m     \u001B[38;5;241m*\u001B[39m\u001B[38;5;241m*\u001B[39mkwargs,\n\u001B[0;32m    283\u001B[0m )\n\u001B[1;32m--> 284\u001B[0m passmanager_ir, _ \u001B[38;5;241m=\u001B[39m \u001B[43mflow_controller\u001B[49m\u001B[38;5;241;43m.\u001B[39;49m\u001B[43mexecute\u001B[49m\u001B[43m(\u001B[49m\n\u001B[0;32m    285\u001B[0m \u001B[43m    \u001B[49m\u001B[43mpassmanager_ir\u001B[49m\u001B[38;5;241;43m=\u001B[39;49m\u001B[43mpassmanager_ir\u001B[49m\u001B[43m,\u001B[49m\n\u001B[0;32m    286\u001B[0m \u001B[43m    \u001B[49m\u001B[43mstate\u001B[49m\u001B[38;5;241;43m=\u001B[39;49m\u001B[43mPassManagerState\u001B[49m\u001B[43m(\u001B[49m\n\u001B[0;32m    287\u001B[0m \u001B[43m        \u001B[49m\u001B[43mworkflow_status\u001B[49m\u001B[38;5;241;43m=\u001B[39;49m\u001B[43minitial_status\u001B[49m\u001B[43m,\u001B[49m\n\u001B[0;32m    288\u001B[0m \u001B[43m        \u001B[49m\u001B[43mproperty_set\u001B[49m\u001B[38;5;241;43m=\u001B[39;49m\u001B[43mpass_manager\u001B[49m\u001B[38;5;241;43m.\u001B[39;49m\u001B[43mproperty_set\u001B[49m\u001B[43m,\u001B[49m\n\u001B[0;32m    289\u001B[0m \u001B[43m    \u001B[49m\u001B[43m)\u001B[49m\u001B[43m,\u001B[49m\n\u001B[0;32m    290\u001B[0m \u001B[43m    \u001B[49m\u001B[43mcallback\u001B[49m\u001B[38;5;241;43m=\u001B[39;49m\u001B[43mkwargs\u001B[49m\u001B[38;5;241;43m.\u001B[39;49m\u001B[43mget\u001B[49m\u001B[43m(\u001B[49m\u001B[38;5;124;43m\"\u001B[39;49m\u001B[38;5;124;43mcallback\u001B[39;49m\u001B[38;5;124;43m\"\u001B[39;49m\u001B[43m,\u001B[49m\u001B[43m \u001B[49m\u001B[38;5;28;43;01mNone\u001B[39;49;00m\u001B[43m)\u001B[49m\u001B[43m,\u001B[49m\n\u001B[0;32m    291\u001B[0m \u001B[43m\u001B[49m\u001B[43m)\u001B[49m\n\u001B[0;32m    292\u001B[0m out_program \u001B[38;5;241m=\u001B[39m pass_manager\u001B[38;5;241m.\u001B[39m_passmanager_backend(\n\u001B[0;32m    293\u001B[0m     passmanager_ir\u001B[38;5;241m=\u001B[39mpassmanager_ir,\n\u001B[0;32m    294\u001B[0m     in_program\u001B[38;5;241m=\u001B[39mprogram,\n\u001B[0;32m    295\u001B[0m     \u001B[38;5;241m*\u001B[39m\u001B[38;5;241m*\u001B[39mkwargs,\n\u001B[0;32m    296\u001B[0m )\n\u001B[0;32m    298\u001B[0m \u001B[38;5;28;01mreturn\u001B[39;00m out_program\n",
      "File \u001B[1;32mE:\\Anaconda3\\anaconda3\\envs\\qiskit\\lib\\site-packages\\qiskit\\transpiler\\runningpassmanager.py:161\u001B[0m, in \u001B[0;36m_replace_error.<locals>.wrapper\u001B[1;34m(*meth_args, **meth_kwargs)\u001B[0m\n\u001B[0;32m    158\u001B[0m \u001B[38;5;129m@wraps\u001B[39m(meth)\n\u001B[0;32m    159\u001B[0m \u001B[38;5;28;01mdef\u001B[39;00m \u001B[38;5;21mwrapper\u001B[39m(\u001B[38;5;241m*\u001B[39mmeth_args, \u001B[38;5;241m*\u001B[39m\u001B[38;5;241m*\u001B[39mmeth_kwargs):\n\u001B[0;32m    160\u001B[0m     \u001B[38;5;28;01mtry\u001B[39;00m:\n\u001B[1;32m--> 161\u001B[0m         \u001B[38;5;28;01mreturn\u001B[39;00m \u001B[43mmeth\u001B[49m\u001B[43m(\u001B[49m\u001B[38;5;241;43m*\u001B[39;49m\u001B[43mmeth_args\u001B[49m\u001B[43m,\u001B[49m\u001B[43m \u001B[49m\u001B[38;5;241;43m*\u001B[39;49m\u001B[38;5;241;43m*\u001B[39;49m\u001B[43mmeth_kwargs\u001B[49m\u001B[43m)\u001B[49m\n\u001B[0;32m    162\u001B[0m     \u001B[38;5;28;01mexcept\u001B[39;00m PassManagerError \u001B[38;5;28;01mas\u001B[39;00m ex:\n\u001B[0;32m    163\u001B[0m         \u001B[38;5;28;01mraise\u001B[39;00m TranspilerError(ex\u001B[38;5;241m.\u001B[39mmessage) \u001B[38;5;28;01mfrom\u001B[39;00m \u001B[38;5;21;01mex\u001B[39;00m\n",
      "File \u001B[1;32mE:\\Anaconda3\\anaconda3\\envs\\qiskit\\lib\\site-packages\\qiskit\\passmanager\\base_tasks.py:218\u001B[0m, in \u001B[0;36mBaseController.execute\u001B[1;34m(self, passmanager_ir, state, callback)\u001B[0m\n\u001B[0;32m    216\u001B[0m     \u001B[38;5;28;01mreturn\u001B[39;00m passmanager_ir, state\n\u001B[0;32m    217\u001B[0m \u001B[38;5;28;01mwhile\u001B[39;00m \u001B[38;5;28;01mTrue\u001B[39;00m:\n\u001B[1;32m--> 218\u001B[0m     passmanager_ir, state \u001B[38;5;241m=\u001B[39m \u001B[43mnext_task\u001B[49m\u001B[38;5;241;43m.\u001B[39;49m\u001B[43mexecute\u001B[49m\u001B[43m(\u001B[49m\n\u001B[0;32m    219\u001B[0m \u001B[43m        \u001B[49m\u001B[43mpassmanager_ir\u001B[49m\u001B[38;5;241;43m=\u001B[39;49m\u001B[43mpassmanager_ir\u001B[49m\u001B[43m,\u001B[49m\n\u001B[0;32m    220\u001B[0m \u001B[43m        \u001B[49m\u001B[43mstate\u001B[49m\u001B[38;5;241;43m=\u001B[39;49m\u001B[43mstate\u001B[49m\u001B[43m,\u001B[49m\n\u001B[0;32m    221\u001B[0m \u001B[43m        \u001B[49m\u001B[43mcallback\u001B[49m\u001B[38;5;241;43m=\u001B[39;49m\u001B[43mcallback\u001B[49m\u001B[43m,\u001B[49m\n\u001B[0;32m    222\u001B[0m \u001B[43m    \u001B[49m\u001B[43m)\u001B[49m\n\u001B[0;32m    223\u001B[0m     \u001B[38;5;28;01mtry\u001B[39;00m:\n\u001B[0;32m    224\u001B[0m         \u001B[38;5;66;03m# Sending the object through the generator implies the custom controllers\u001B[39;00m\n\u001B[0;32m    225\u001B[0m         \u001B[38;5;66;03m# can always rely on the latest data to choose the next task to run.\u001B[39;00m\n\u001B[0;32m    226\u001B[0m         next_task \u001B[38;5;241m=\u001B[39m task_generator\u001B[38;5;241m.\u001B[39msend(state)\n",
      "File \u001B[1;32mE:\\Anaconda3\\anaconda3\\envs\\qiskit\\lib\\site-packages\\qiskit\\transpiler\\basepasses.py:195\u001B[0m, in \u001B[0;36mTransformationPass.execute\u001B[1;34m(self, passmanager_ir, state, callback)\u001B[0m\n\u001B[0;32m    189\u001B[0m \u001B[38;5;28;01mdef\u001B[39;00m \u001B[38;5;21mexecute\u001B[39m(\n\u001B[0;32m    190\u001B[0m     \u001B[38;5;28mself\u001B[39m,\n\u001B[0;32m    191\u001B[0m     passmanager_ir: PassManagerIR,\n\u001B[0;32m    192\u001B[0m     state: PassManagerState,\n\u001B[0;32m    193\u001B[0m     callback: Callable \u001B[38;5;241m=\u001B[39m \u001B[38;5;28;01mNone\u001B[39;00m,\n\u001B[0;32m    194\u001B[0m ) \u001B[38;5;241m-\u001B[39m\u001B[38;5;241m>\u001B[39m \u001B[38;5;28mtuple\u001B[39m[PassManagerIR, PassManagerState]:\n\u001B[1;32m--> 195\u001B[0m     new_dag, state \u001B[38;5;241m=\u001B[39m \u001B[38;5;28;43msuper\u001B[39;49m\u001B[43m(\u001B[49m\u001B[43m)\u001B[49m\u001B[38;5;241;43m.\u001B[39;49m\u001B[43mexecute\u001B[49m\u001B[43m(\u001B[49m\n\u001B[0;32m    196\u001B[0m \u001B[43m        \u001B[49m\u001B[43mpassmanager_ir\u001B[49m\u001B[38;5;241;43m=\u001B[39;49m\u001B[43mpassmanager_ir\u001B[49m\u001B[43m,\u001B[49m\n\u001B[0;32m    197\u001B[0m \u001B[43m        \u001B[49m\u001B[43mstate\u001B[49m\u001B[38;5;241;43m=\u001B[39;49m\u001B[43mstate\u001B[49m\u001B[43m,\u001B[49m\n\u001B[0;32m    198\u001B[0m \u001B[43m        \u001B[49m\u001B[43mcallback\u001B[49m\u001B[38;5;241;43m=\u001B[39;49m\u001B[43mcallback\u001B[49m\u001B[43m,\u001B[49m\n\u001B[0;32m    199\u001B[0m \u001B[43m    \u001B[49m\u001B[43m)\u001B[49m\n\u001B[0;32m    201\u001B[0m     \u001B[38;5;28;01mif\u001B[39;00m state\u001B[38;5;241m.\u001B[39mworkflow_status\u001B[38;5;241m.\u001B[39mprevious_run \u001B[38;5;241m==\u001B[39m RunState\u001B[38;5;241m.\u001B[39mSUCCESS:\n\u001B[0;32m    202\u001B[0m         \u001B[38;5;28;01mif\u001B[39;00m \u001B[38;5;28misinstance\u001B[39m(new_dag, DAGCircuit):\n\u001B[0;32m    203\u001B[0m             \u001B[38;5;66;03m# Copy calibration data from the original program\u001B[39;00m\n",
      "File \u001B[1;32mE:\\Anaconda3\\anaconda3\\envs\\qiskit\\lib\\site-packages\\qiskit\\passmanager\\base_tasks.py:98\u001B[0m, in \u001B[0;36mGenericPass.execute\u001B[1;34m(self, passmanager_ir, state, callback)\u001B[0m\n\u001B[0;32m     96\u001B[0m \u001B[38;5;28;01mtry\u001B[39;00m:\n\u001B[0;32m     97\u001B[0m     \u001B[38;5;28;01mif\u001B[39;00m \u001B[38;5;28mself\u001B[39m \u001B[38;5;129;01mnot\u001B[39;00m \u001B[38;5;129;01min\u001B[39;00m state\u001B[38;5;241m.\u001B[39mworkflow_status\u001B[38;5;241m.\u001B[39mcompleted_passes:\n\u001B[1;32m---> 98\u001B[0m         ret \u001B[38;5;241m=\u001B[39m \u001B[38;5;28;43mself\u001B[39;49m\u001B[38;5;241;43m.\u001B[39;49m\u001B[43mrun\u001B[49m\u001B[43m(\u001B[49m\u001B[43mpassmanager_ir\u001B[49m\u001B[43m)\u001B[49m\n\u001B[0;32m     99\u001B[0m         run_state \u001B[38;5;241m=\u001B[39m RunState\u001B[38;5;241m.\u001B[39mSUCCESS\n\u001B[0;32m    100\u001B[0m     \u001B[38;5;28;01melse\u001B[39;00m:\n",
      "File \u001B[1;32mE:\\Anaconda3\\anaconda3\\envs\\qiskit\\lib\\site-packages\\qiskit\\transpiler\\passes\\synthesis\\high_level_synthesis.py:246\u001B[0m, in \u001B[0;36mHighLevelSynthesis.run\u001B[1;34m(self, dag)\u001B[0m\n\u001B[0;32m    240\u001B[0m     \u001B[38;5;28;01mcontinue\u001B[39;00m\n\u001B[0;32m    242\u001B[0m qubits \u001B[38;5;241m=\u001B[39m (\n\u001B[0;32m    243\u001B[0m     [dag\u001B[38;5;241m.\u001B[39mfind_bit(x)\u001B[38;5;241m.\u001B[39mindex \u001B[38;5;28;01mfor\u001B[39;00m x \u001B[38;5;129;01min\u001B[39;00m node\u001B[38;5;241m.\u001B[39mqargs] \u001B[38;5;28;01mif\u001B[39;00m \u001B[38;5;28mself\u001B[39m\u001B[38;5;241m.\u001B[39m_use_qubit_indices \u001B[38;5;28;01melse\u001B[39;00m \u001B[38;5;28;01mNone\u001B[39;00m\n\u001B[0;32m    244\u001B[0m )\n\u001B[1;32m--> 246\u001B[0m decomposition, modified \u001B[38;5;241m=\u001B[39m \u001B[38;5;28;43mself\u001B[39;49m\u001B[38;5;241;43m.\u001B[39;49m\u001B[43m_recursively_handle_op\u001B[49m\u001B[43m(\u001B[49m\u001B[43mnode\u001B[49m\u001B[38;5;241;43m.\u001B[39;49m\u001B[43mop\u001B[49m\u001B[43m,\u001B[49m\u001B[43m \u001B[49m\u001B[43mqubits\u001B[49m\u001B[43m)\u001B[49m\n\u001B[0;32m    248\u001B[0m \u001B[38;5;28;01mif\u001B[39;00m \u001B[38;5;129;01mnot\u001B[39;00m modified:\n\u001B[0;32m    249\u001B[0m     \u001B[38;5;28;01mcontinue\u001B[39;00m\n",
      "File \u001B[1;32mE:\\Anaconda3\\anaconda3\\envs\\qiskit\\lib\\site-packages\\qiskit\\transpiler\\passes\\synthesis\\high_level_synthesis.py:321\u001B[0m, in \u001B[0;36mHighLevelSynthesis._recursively_handle_op\u001B[1;34m(self, op, qubits)\u001B[0m\n\u001B[0;32m    317\u001B[0m         \u001B[38;5;28;01mreturn\u001B[39;00m op, \u001B[38;5;28;01mFalse\u001B[39;00m\n\u001B[0;32m    319\u001B[0m \u001B[38;5;28;01mtry\u001B[39;00m:\n\u001B[0;32m    320\u001B[0m     \u001B[38;5;66;03m# extract definition\u001B[39;00m\n\u001B[1;32m--> 321\u001B[0m     definition \u001B[38;5;241m=\u001B[39m \u001B[43mop\u001B[49m\u001B[38;5;241;43m.\u001B[39;49m\u001B[43mdefinition\u001B[49m\n\u001B[0;32m    322\u001B[0m \u001B[38;5;28;01mexcept\u001B[39;00m \u001B[38;5;167;01mTypeError\u001B[39;00m \u001B[38;5;28;01mas\u001B[39;00m err:\n\u001B[0;32m    323\u001B[0m     \u001B[38;5;28;01mraise\u001B[39;00m TranspilerError(\n\u001B[0;32m    324\u001B[0m         \u001B[38;5;124mf\u001B[39m\u001B[38;5;124m\"\u001B[39m\u001B[38;5;124mHighLevelSynthesis was unable to extract definition for \u001B[39m\u001B[38;5;132;01m{\u001B[39;00mop\u001B[38;5;241m.\u001B[39mname\u001B[38;5;132;01m}\u001B[39;00m\u001B[38;5;124m: \u001B[39m\u001B[38;5;132;01m{\u001B[39;00merr\u001B[38;5;132;01m}\u001B[39;00m\u001B[38;5;124m\"\u001B[39m\n\u001B[0;32m    325\u001B[0m     ) \u001B[38;5;28;01mfrom\u001B[39;00m \u001B[38;5;21;01merr\u001B[39;00m\n",
      "File \u001B[1;32mE:\\Anaconda3\\anaconda3\\envs\\qiskit\\lib\\site-packages\\qiskit\\circuit\\instruction.py:301\u001B[0m, in \u001B[0;36mInstruction.definition\u001B[1;34m(self)\u001B[0m\n\u001B[0;32m    299\u001B[0m \u001B[38;5;250m\u001B[39m\u001B[38;5;124;03m\"\"\"Return definition in terms of other basic gates.\"\"\"\u001B[39;00m\n\u001B[0;32m    300\u001B[0m \u001B[38;5;28;01mif\u001B[39;00m \u001B[38;5;28mself\u001B[39m\u001B[38;5;241m.\u001B[39m_definition \u001B[38;5;129;01mis\u001B[39;00m \u001B[38;5;28;01mNone\u001B[39;00m:\n\u001B[1;32m--> 301\u001B[0m     \u001B[38;5;28;43mself\u001B[39;49m\u001B[38;5;241;43m.\u001B[39;49m\u001B[43m_define\u001B[49m\u001B[43m(\u001B[49m\u001B[43m)\u001B[49m\n\u001B[0;32m    302\u001B[0m \u001B[38;5;28;01mreturn\u001B[39;00m \u001B[38;5;28mself\u001B[39m\u001B[38;5;241m.\u001B[39m_definition\n",
      "File \u001B[1;32mE:\\Anaconda3\\anaconda3\\envs\\qiskit\\lib\\site-packages\\qiskit\\circuit\\library\\pauli_evolution.py:137\u001B[0m, in \u001B[0;36mPauliEvolutionGate._define\u001B[1;34m(self)\u001B[0m\n\u001B[0;32m    135\u001B[0m \u001B[38;5;28;01mdef\u001B[39;00m \u001B[38;5;21m_define\u001B[39m(\u001B[38;5;28mself\u001B[39m):\n\u001B[0;32m    136\u001B[0m \u001B[38;5;250m    \u001B[39m\u001B[38;5;124;03m\"\"\"Unroll, where the default synthesis is matrix based.\"\"\"\u001B[39;00m\n\u001B[1;32m--> 137\u001B[0m     \u001B[38;5;28mself\u001B[39m\u001B[38;5;241m.\u001B[39mdefinition \u001B[38;5;241m=\u001B[39m \u001B[38;5;28;43mself\u001B[39;49m\u001B[38;5;241;43m.\u001B[39;49m\u001B[43msynthesis\u001B[49m\u001B[38;5;241;43m.\u001B[39;49m\u001B[43msynthesize\u001B[49m\u001B[43m(\u001B[49m\u001B[38;5;28;43mself\u001B[39;49m\u001B[43m)\u001B[49m\n",
      "File \u001B[1;32mE:\\Anaconda3\\anaconda3\\envs\\qiskit\\lib\\site-packages\\qiskit\\synthesis\\evolution\\lie_trotter.py:78\u001B[0m, in \u001B[0;36mLieTrotter.synthesize\u001B[1;34m(self, evolution)\u001B[0m\n\u001B[0;32m     75\u001B[0m time \u001B[38;5;241m=\u001B[39m evolution\u001B[38;5;241m.\u001B[39mtime\n\u001B[0;32m     77\u001B[0m \u001B[38;5;66;03m# construct the evolution circuit\u001B[39;00m\n\u001B[1;32m---> 78\u001B[0m evolution_circuit \u001B[38;5;241m=\u001B[39m QuantumCircuit(\u001B[43moperators\u001B[49m\u001B[43m[\u001B[49m\u001B[38;5;241;43m0\u001B[39;49m\u001B[43m]\u001B[49m\u001B[38;5;241m.\u001B[39mnum_qubits)\n\u001B[0;32m     79\u001B[0m first_barrier \u001B[38;5;241m=\u001B[39m \u001B[38;5;28;01mFalse\u001B[39;00m\n\u001B[0;32m     81\u001B[0m \u001B[38;5;28;01mif\u001B[39;00m \u001B[38;5;129;01mnot\u001B[39;00m \u001B[38;5;28misinstance\u001B[39m(operators, \u001B[38;5;28mlist\u001B[39m):\n",
      "File \u001B[1;32mE:\\Anaconda3\\anaconda3\\envs\\qiskit\\lib\\site-packages\\qiskit\\quantum_info\\operators\\symplectic\\sparse_pauli_op.py:269\u001B[0m, in \u001B[0;36mSparsePauliOp.__getitem__\u001B[1;34m(self, key)\u001B[0m\n\u001B[0;32m    267\u001B[0m \u001B[38;5;28;01mif\u001B[39;00m \u001B[38;5;28misinstance\u001B[39m(key, (\u001B[38;5;28mint\u001B[39m, np\u001B[38;5;241m.\u001B[39minteger)):\n\u001B[0;32m    268\u001B[0m     key \u001B[38;5;241m=\u001B[39m [key]\n\u001B[1;32m--> 269\u001B[0m \u001B[38;5;28;01mreturn\u001B[39;00m \u001B[43mSparsePauliOp\u001B[49m\u001B[43m(\u001B[49m\u001B[38;5;28;43mself\u001B[39;49m\u001B[38;5;241;43m.\u001B[39;49m\u001B[43mpaulis\u001B[49m\u001B[43m[\u001B[49m\u001B[43mkey\u001B[49m\u001B[43m]\u001B[49m\u001B[43m,\u001B[49m\u001B[43m \u001B[49m\u001B[38;5;28;43mself\u001B[39;49m\u001B[38;5;241;43m.\u001B[39;49m\u001B[43mcoeffs\u001B[49m\u001B[43m[\u001B[49m\u001B[43mkey\u001B[49m\u001B[43m]\u001B[49m\u001B[43m)\u001B[49m\n",
      "File \u001B[1;32mE:\\Anaconda3\\anaconda3\\envs\\qiskit\\lib\\site-packages\\qiskit\\quantum_info\\operators\\symplectic\\sparse_pauli_op.py:147\u001B[0m, in \u001B[0;36mSparsePauliOp.__init__\u001B[1;34m(self, data, coeffs, ignore_pauli_phase, copy)\u001B[0m\n\u001B[0;32m    145\u001B[0m     coeffs \u001B[38;5;241m=\u001B[39m np\u001B[38;5;241m.\u001B[39mones(pauli_list\u001B[38;5;241m.\u001B[39msize, dtype\u001B[38;5;241m=\u001B[39m\u001B[38;5;28mcomplex\u001B[39m)\n\u001B[0;32m    146\u001B[0m \u001B[38;5;28;01melse\u001B[39;00m:\n\u001B[1;32m--> 147\u001B[0m     coeffs \u001B[38;5;241m=\u001B[39m \u001B[43mnp\u001B[49m\u001B[38;5;241;43m.\u001B[39;49m\u001B[43marray\u001B[49m\u001B[43m(\u001B[49m\u001B[43mcoeffs\u001B[49m\u001B[43m,\u001B[49m\u001B[43m \u001B[49m\u001B[43mcopy\u001B[49m\u001B[38;5;241;43m=\u001B[39;49m\u001B[43mcopy\u001B[49m\u001B[43m,\u001B[49m\u001B[43m \u001B[49m\u001B[43mdtype\u001B[49m\u001B[38;5;241;43m=\u001B[39;49m\u001B[43mdtype\u001B[49m\u001B[43m)\u001B[49m\n\u001B[0;32m    149\u001B[0m \u001B[38;5;28;01mif\u001B[39;00m ignore_pauli_phase:\n\u001B[0;32m    150\u001B[0m     \u001B[38;5;66;03m# Fast path used in copy operations, where the phase of the PauliList is already known\u001B[39;00m\n\u001B[0;32m    151\u001B[0m     \u001B[38;5;66;03m# to be zero.  This path only works if the input data is compatible with the internal\u001B[39;00m\n\u001B[0;32m    152\u001B[0m     \u001B[38;5;66;03m# ZX-phase convention.\u001B[39;00m\n\u001B[0;32m    153\u001B[0m     \u001B[38;5;28mself\u001B[39m\u001B[38;5;241m.\u001B[39m_pauli_list \u001B[38;5;241m=\u001B[39m pauli_list\n",
      "\u001B[1;31mKeyboardInterrupt\u001B[0m: "
     ]
    }
   ],
   "source": [
    "import time\n",
    "\n",
    "# 运行优化\n",
    "# p_max = 6  # 最大层数\n",
    "\n",
    "startTime = time.time()\n",
    "ansatz_final = object()\n",
    "init_point = np.array([])\n",
    "counts = {}\n",
    "min_energy = 0\n",
    "final_result = object()\n",
    "for p1 in range(1, 5):\n",
    "    min_energy = 10000\n",
    "    for k in range(300):\n",
    "        print('第：', p1, '层', ' ', '第', k, '个参数')\n",
    "        init_point_temp = init_point\n",
    "        beta_p = np.random.uniform(0, np.pi)\n",
    "        gamma_p = np.random.uniform(0,  2 * np.pi)\n",
    "        if k >0:\n",
    "            init_point_temp = np.delete(init_point_temp, 2 * p1 - 1)\n",
    "            init_point_temp = np.delete(init_point_temp, p1 - 1)\n",
    "        init_point_temp = np.insert(init_point_temp, p1 - 1, beta_p)\n",
    "        init_point_temp = np.insert(init_point_temp, 2 * p1 - 1, gamma_p)\n",
    "        # 创建参数向量\n",
    "        # print(\"init_point_temp\"+ init_point_temp)\n",
    "        result = optimize_qaoa(n, m, l, K1, P, p, init_point_temp)\n",
    "\n",
    "        # print(result.x)\n",
    "        optimal_params = result.x\n",
    "\n",
    "        # 计算最终的能量\n",
    "        energy, counts_temp = cost_function(result.x, n, m, l, K1, P, p)\n",
    "        # 寻找这20对点中最优的参数\n",
    "        if min_energy > energy:\n",
    "            min_energy = energy\n",
    "            init_point = optimal_params\n",
    "            counts = counts_temp\n",
    "            final_result = result\n",
    "endTime = time.time()\n",
    "# params = np.random.rand(2 * p_max,2*np.pi)\n",
    "# result = optimize_qaoa(n, m, l, K1, P, p, params)"
   ],
   "metadata": {
    "collapsed": false
   }
  },
  {
   "cell_type": "code",
   "execution_count": null,
   "outputs": [],
   "source": [
    "# 输出结果\n",
    "print(\"运行时间：\",endTime - startTime)\n",
    "print(\"Optimal parameters:\", final_result.x)\n",
    "print(\"Optimal value:\", final_result.fun)\n",
    "# 使用最优参数运行量子电路并输出测量结果\n",
    "final_expectation, final_counts = cost_function(final_result.x, n, m, l, K1, P, p)\n",
    "# sorted_dict = dict(sorted(final_counts.items(), key=lambda item: item[1], reverse=True))\n",
    "sorted_dict = {item[0][::-1]: item[1] for item in sorted(final_counts.items(), key=lambda item: item[1], reverse=True)}\n",
    "print(\"Final expectation value:\", final_expectation)\n",
    "print(\"Final measurement counts:\", sorted_dict)"
   ],
   "metadata": {
    "collapsed": false,
    "ExecuteTime": {
     "start_time": "2024-08-19T12:20:54.821080900Z"
    }
   }
  },
  {
   "cell_type": "code",
   "execution_count": 39,
   "outputs": [
    {
     "name": "stdout",
     "output_type": "stream",
     "text": [
      "1\n",
      "0\n",
      "0\n",
      "1\n"
     ]
    }
   ],
   "source": [
    "expectation = 0\n",
    "\n",
    "bitstring = \"1000101\"\n",
    "\n",
    "z_h = np.array([int(bit) for bit in bitstring[(n*m):]])\n",
    "x_ij = np.array([int(bit) for bit in bitstring[:(n*m)]]).reshape(n, m)\n",
    "\n",
    "# alpha_s = np.max([0, np.sum(x_ij * p) - np.sum([2 ** h * z for h, z in enumerate(z_h)])])\n",
    "E3 = 0\n",
    "for j in range(m):\n",
    "    # 计算 ∑_{i=1}^{n} x_{ij} p_{ij}\n",
    "    sum_xp = np.sum([x_ij[i][j] * p[i][j] for i in range(n)])\n",
    "\n",
    "    # 计算 ∑_{h=0}^{l-1} 2^h * z_h\n",
    "    sum_zh = np.sum([2**h * z_h[h] for h in range(l)])\n",
    "\n",
    "    # 计算 max{0, sum_xp - sum_zh}\n",
    "    max_value = max(0, sum_xp - sum_zh)\n",
    "\n",
    "    # 累加 P * (max_value)^2\n",
    "    E3 += P * (max_value)**2\n",
    "# E =  np.sum([2 ** h * z for h, z in enumerate(z_h)]) + K1 * np.sum([(np.sum(x_ij[i]) - 1) ** 2 for i in range(n)]) + E3\n",
    "E0 = np.sum([2 ** h * z for h, z in enumerate(z_h)])\n",
    "E1 = K1 * np.sum([(np.sum(x_ij[i]) - 1) ** 2 for i in range(n)])\n",
    "E =  E0 + E1 + E3\n",
    "# expectation += E * prob\n",
    "print(E0)\n",
    "print(E1)\n",
    "print(E3)\n",
    "print(E)"
   ],
   "metadata": {
    "collapsed": false,
    "ExecuteTime": {
     "end_time": "2024-09-03T08:17:07.180255300Z",
     "start_time": "2024-09-03T08:17:07.122403900Z"
    }
   }
  },
  {
   "cell_type": "code",
   "execution_count": null,
   "outputs": [],
   "source": [],
   "metadata": {
    "collapsed": false
   }
  }
 ],
 "metadata": {
  "kernelspec": {
   "display_name": "Python 3",
   "language": "python",
   "name": "python3"
  },
  "language_info": {
   "codemirror_mode": {
    "name": "ipython",
    "version": 2
   },
   "file_extension": ".py",
   "mimetype": "text/x-python",
   "name": "python",
   "nbconvert_exporter": "python",
   "pygments_lexer": "ipython2",
   "version": "2.7.6"
  }
 },
 "nbformat": 4,
 "nbformat_minor": 0
}
