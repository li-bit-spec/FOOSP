{
 "cells": [
  {
   "cell_type": "code",
   "execution_count": null,
   "id": "initial_id",
   "metadata": {
    "ExecuteTime": {
     "start_time": "2025-03-04T10:30:59.427319Z"
    },
    "collapsed": true,
    "jupyter": {
     "is_executing": true
    }
   },
   "outputs": [
    {
     "name": "stdout",
     "output_type": "stream",
     "text": [
      "Binary - p=1, iter=0\n"
     ]
    },
    {
     "name": "stderr",
     "output_type": "stream",
     "text": [
      "C:\\Users\\李华宪\\AppData\\Local\\Temp\\ipykernel_56688\\4169236379.py:56: DeprecationWarning: The function ``qiskit.execute_function.execute()`` is deprecated as of qiskit 0.46.0. It will be removed in the Qiskit 1.0 release. This function combines ``transpile`` and ``backend.run``, which is covered by ``Sampler`` :mod:`~qiskit.primitives`. Alternatively, you can also run :func:`.transpile` followed by ``backend.run()``.\n",
      "  result = execute(qc, backend, seed_simulator=10, shots=shots).result()\n"
     ]
    }
   ],
   "source": [
    "import numpy as np\n",
    "from qiskit import QuantumCircuit, Aer, execute\n",
    "from qiskit_algorithms.optimizers import COBYLA\n",
    "import itertools\n",
    "from collections import Counter\n",
    "\n",
    "# 图着色问题参数\n",
    "n = 4  # 顶点数\n",
    "k = 3  # 颜色数\n",
    "N = int(np.ceil(np.log2(k)))  # 每个顶点需要的比特数\n",
    "P = 100  # 惩罚系数\n",
    "num_qubits_binary = n * N  # 总量子比特数\n",
    "edges = [(0, 1), (1, 2), (2, 3), (3, 0)]  # 图的边\n",
    "\n",
    "\n",
    "# 定义量子门\n",
    "def append__z_term(qc, qubit, gamma):\n",
    "    qc.rz(2 * gamma, qubit)\n",
    "\n",
    "\n",
    "def append__zz_term(qc, qubit1, qubit2, gamma):\n",
    "    qc.cx(qubit1, qubit2)\n",
    "    qc.rz(2 * gamma, qubit2)\n",
    "    qc.cx(qubit1, qubit2)\n",
    "\n",
    "\n",
    "def append__mixer_term(qc, qubit, beta):\n",
    "    qc.rx(-2 * beta, qubit)\n",
    "\n",
    "\n",
    "# 成本哈密顿量 (Binary)\n",
    "def get_cost_circuit_binary(gamma, qc):\n",
    "    for i, j in edges:\n",
    "        for k in range(N):\n",
    "            coef = P / (2 ** N)  # 惩罚相邻顶点颜色相同\n",
    "            append__zz_term(qc, i * N + k, j * N + k, gamma * coef)\n",
    "    return qc\n",
    "\n",
    "\n",
    "# 混合哈密顿量\n",
    "def get_mixer_circuit(beta, qc):\n",
    "    for i in range(qc.num_qubits):\n",
    "        append__mixer_term(qc, i, beta)\n",
    "    return qc\n",
    "\n",
    "\n",
    "# 反转比特序\n",
    "def invert_counts(s):\n",
    "    return s[::-1]\n",
    "\n",
    "\n",
    "# 成本函数 (Binary)\n",
    "def cost_function_binary(params):\n",
    "    beta, gamma = params[:len(params) // 2], params[len(params) // 2:]\n",
    "    qc = QuantumCircuit(num_qubits_binary, num_qubits_binary)\n",
    "    qc.h(range(num_qubits_binary))\n",
    "    for i in range(len(beta)):\n",
    "        qc = get_cost_circuit_binary(gamma[i], qc)\n",
    "        qc = get_mixer_circuit(beta[i], qc)\n",
    "    qc.measure(range(num_qubits_binary), range(num_qubits_binary))\n",
    "    backend = Aer.get_backend('qasm_simulator')\n",
    "    shots = 10000\n",
    "    result = execute(qc, backend, seed_simulator=10, shots=shots).result()\n",
    "    counts = result.get_counts(qc)\n",
    "\n",
    "    expectation = 0\n",
    "    H_opt = 0  # 最优解：无冲突\n",
    "    threshold = P  # 允许 1 个冲突\n",
    "    good_counts = 0\n",
    "\n",
    "    for bitstring, count in counts.items():\n",
    "        bitstring = invert_counts(bitstring)\n",
    "        prob = count / shots\n",
    "        x = np.array([int(b) for b in bitstring]).reshape(n, N)\n",
    "        colors = [sum(2 ** k * x[i, k] for k in range(N)) for i in range(n)]\n",
    "        conflicts = sum(1 for i, j in edges if colors[i] == colors[j])\n",
    "        energy = P * conflicts\n",
    "        expectation += energy * prob\n",
    "        if energy <= threshold:\n",
    "            good_counts += count\n",
    "\n",
    "    opt_bitstring = min(counts.keys(), key=lambda b: cost_function_binary([params])[0])\n",
    "    opt_prob = counts.get(opt_bitstring, 0) / shots\n",
    "    r = expectation / (P * len(edges))  # 归一化\n",
    "    good_prob = good_counts / shots\n",
    "\n",
    "    return expectation, counts, opt_prob, r, good_prob, qc.depth()\n",
    "\n",
    "\n",
    "# 参数优化\n",
    "def optimize_qaoa(params, cost_func):\n",
    "    optimizer = COBYLA(rhobeg=1.5, tol=1e-7)\n",
    "    result = optimizer.minimize(fun=lambda p: cost_func(p)[0], x0=params)\n",
    "    return result\n",
    "\n",
    "\n",
    "\n",
    "# 主程序 (Binary)\n",
    "import time\n",
    "\n",
    "start_time = time.time()\n",
    "min_energy_binary = float('inf')\n",
    "final_result_binary = None\n",
    "counts_binary = {}\n",
    "metrics_binary = {}\n",
    "\n",
    "for p1 in range(1, 4):\n",
    "    for k in range(5):\n",
    "        print(f\"Binary - p={p1}, iter={k}\")\n",
    "        init_point = fourier_initial_params(p1, q=1, amplitude=0.5)\n",
    "        result = optimize_qaoa(init_point, cost_function_binary)\n",
    "        energy, counts_temp, opt_prob, r, good_prob, depth = cost_function_binary(result.x)\n",
    "        print(f\"Expectation: {energy}, P_opt: {opt_prob}, r: {r}, Good prob: {good_prob}, Depth: {depth}\")\n",
    "        if energy < min_energy_binary:\n",
    "            min_energy_binary = energy\n",
    "            final_result_binary = result\n",
    "            counts_binary = counts_temp\n",
    "            metrics_binary = {'energy': energy, 'opt_prob': opt_prob, 'r': r, 'good_prob': good_prob, 'depth': depth,\n",
    "                              'qubits': num_qubits_binary}\n",
    "\n",
    "end_time = time.time()\n",
    "print(f\"Binary - Total time: {end_time - start_time} s\")\n",
    "print(f\"Binary - Final metrics: {metrics_binary}\")"
   ]
  },
  {
   "cell_type": "code",
   "execution_count": 2,
   "id": "704bbc71617502ae",
   "metadata": {
    "ExecuteTime": {
     "end_time": "2025-03-04T10:30:34.749008Z",
     "start_time": "2025-03-04T10:30:34.089612Z"
    }
   },
   "outputs": [
    {
     "name": "stdout",
     "output_type": "stream",
     "text": [
      "第： 1 层   第 0 个参数\n"
     ]
    },
    {
     "ename": "TypeError",
     "evalue": "optimize_qaoa() missing 1 required positional argument: 'cost_func'",
     "output_type": "error",
     "traceback": [
      "\u001b[1;31m---------------------------------------------------------------------------\u001b[0m",
      "\u001b[1;31mTypeError\u001b[0m                                 Traceback (most recent call last)",
      "Cell \u001b[1;32mIn[2], line 22\u001b[0m\n\u001b[0;32m     20\u001b[0m init_point_temp \u001b[38;5;241m=\u001b[39m np\u001b[38;5;241m.\u001b[39minsert(init_point_temp, p1 \u001b[38;5;241m-\u001b[39m \u001b[38;5;241m1\u001b[39m, beta_p)\n\u001b[0;32m     21\u001b[0m init_point_temp \u001b[38;5;241m=\u001b[39m np\u001b[38;5;241m.\u001b[39minsert(init_point_temp, \u001b[38;5;241m2\u001b[39m \u001b[38;5;241m*\u001b[39m p1 \u001b[38;5;241m-\u001b[39m \u001b[38;5;241m1\u001b[39m, gamma_p)\n\u001b[1;32m---> 22\u001b[0m result \u001b[38;5;241m=\u001b[39m \u001b[43moptimize_qaoa\u001b[49m\u001b[43m(\u001b[49m\u001b[43minit_point_temp\u001b[49m\u001b[43m)\u001b[49m\n\u001b[0;32m     24\u001b[0m \u001b[38;5;66;03m# print(result.x)\u001b[39;00m\n\u001b[0;32m     25\u001b[0m optimal_params \u001b[38;5;241m=\u001b[39m result\u001b[38;5;241m.\u001b[39mx\n",
      "\u001b[1;31mTypeError\u001b[0m: optimize_qaoa() missing 1 required positional argument: 'cost_func'"
     ]
    }
   ],
   "source": [
    "# import time\n",
    "#\n",
    "# # 运行优化\n",
    "# startTime = time.time()\n",
    "# ansatz_final = object()\n",
    "# init_point = np.array([])\n",
    "# counts = {}\n",
    "# min_energy = 0\n",
    "# final_result = object()\n",
    "# for p1 in range(1, 4):\n",
    "#     min_energy = 10000\n",
    "#     for k in range(10):\n",
    "#         print('第：', p1, '层', ' ', '第', k, '个参数')\n",
    "#         init_point_temp = init_point\n",
    "#         beta_p = np.random.uniform(0, np.pi)\n",
    "#         gamma_p = np.random.uniform(0,  2 * np.pi)\n",
    "#         if k >0:\n",
    "#             init_point_temp = np.delete(init_point_temp, 2 * p1 - 1)\n",
    "#             init_point_temp = np.delete(init_point_temp, p1 - 1)\n",
    "#         init_point_temp = np.insert(init_point_temp, p1 - 1, beta_p)\n",
    "#         init_point_temp = np.insert(init_point_temp, 2 * p1 - 1, gamma_p)\n",
    "#         result = optimize_qaoa(init_point_temp)\n",
    "#\n",
    "#         # print(result.x)\n",
    "#         optimal_params = result.x\n",
    "#\n",
    "#         # 计算最终的能量\n",
    "#         energy, counts_temp = cost_function_onehot(result.x)\n",
    "#         if min_energy > energy:\n",
    "#             min_energy = energy\n",
    "#             init_point = optimal_params\n",
    "#             counts = counts_temp\n",
    "#             final_result = result\n",
    "# endTime = time.time()"
   ]
  },
  {
   "cell_type": "code",
   "execution_count": null,
   "id": "bd31f269cc9f5baf",
   "metadata": {},
   "outputs": [],
   "source": []
  }
 ],
 "metadata": {
  "kernelspec": {
   "display_name": "Python 3",
   "language": "python",
   "name": "python3"
  },
  "language_info": {
   "codemirror_mode": {
    "name": "ipython",
    "version": 2
   },
   "file_extension": ".py",
   "mimetype": "text/x-python",
   "name": "python",
   "nbconvert_exporter": "python",
   "pygments_lexer": "ipython2",
   "version": "2.7.6"
  }
 },
 "nbformat": 4,
 "nbformat_minor": 5
}
