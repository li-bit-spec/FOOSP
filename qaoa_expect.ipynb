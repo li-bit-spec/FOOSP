{
 "cells": [
  {
   "cell_type": "code",
   "execution_count": null,
   "metadata": {
    "collapsed": true
   },
   "outputs": [],
   "source": [
    "from qiskit import Aer, QuantumCircuit, transpile, assemble\n",
    "from qiskit.circuit.library import RZGate, RZZGate\n",
    "from qiskit.utils import QuantumInstance\n",
    "from qiskit.algorithms.optimizers import COBYLA\n",
    "import numpy as np\n",
    "\n",
    "# 定义问题参数\n",
    "n = 2  # 操作数量\n",
    "m = 2  # 机器数量\n",
    "l = 2  # 二进制表示长度\n",
    "K1 = 10.0  # 惩罚系数\n",
    "P = 5.0  # 惩罚系数\n",
    "p = np.array([[1, 2], [2, 1]])  # 处理时间矩阵"
   ]
  },
  {
   "cell_type": "markdown",
   "source": [
    "\\begin{aligned}\n",
    "&H=\\frac{1}{2}\\left(2^l-1\\right)-\\frac{1}{2} \\sum_{h=0}^{l-1} 2^h Z_{z_h}\\\\&+K_1 \\sum_{i=0}^{n-1}\\left(\\frac{(m-2)^2}{4}-\\frac{(m-2)}{2} \\sum_{j=0}^{m-1} Z_{x_{i j}}+\\frac{1}{4}\\left(\\sum_{j=0}^{m-1} Z_{x_{i j}}\\right)^2\\right)\\\\&+P \\sum_{j=0}^{m-1}\\left(\\frac{1}{4}\\left(\\sum_{i=0}^{n-1} p_{i j}-\\left(2^l-1\\right)\\right)^2-\\frac{1}{2}\\left(\\sum_{i=0}^{n-1} p_{i j}-\\left(2^l-1\\right)\\right)\\left(\\sum_{i=0}^{n-1} p_{i j} Z_{x_{i j}}-\\sum_{h=0}^{l-1} 2^h Z_{z_h}\\right)\\right)\\left.+\\frac{1}{4}\\left(\\sum_{i=0}^{n-1} p_{i j} Z_{x_{i j}}-\\sum_{h=0}^{l-1} 2^h Z_{z_h}\\right)^2\\right)\n",
    "\\end{aligned}"
   ],
   "metadata": {
    "collapsed": false
   }
  },
  {
   "cell_type": "code",
   "execution_count": null,
   "outputs": [],
   "source": [
    "# 定义成本函数\n",
    "def cost_function(params, n, m, l, K1, P, p):\n",
    "    beta, gamma = params[:len(params)//2], params[len(params)//2:]\n",
    "    num_qubits = n * m + l\n",
    "    qc = QuantumCircuit(num_qubits, num_qubits)  # 添加经典寄存器\n",
    "\n",
    "    # 初始化量子态到 |+> 态\n",
    "    qc.h(range(n * m + l))\n",
    "\n",
    "    # 应用 Cost Hamiltonian\n",
    "    for g in gamma:\n",
    "        # 单体项的 RZ 门\n",
    "        for h in range(l):\n",
    "            theta = g * 2 ** (h - 1)\n",
    "            qc.rz(theta, n * m + h)\n",
    "\n",
    "        for i in range(n):\n",
    "            for j in range(m):\n",
    "                theta = g * K1 * (m - 2) / 2\n",
    "                qc.rz(theta, i * m + j)\n",
    "\n",
    "        for j in range(m):\n",
    "            theta = g * P / 2 * (np.sum(p[:, j]) - (2 ** l - 1))\n",
    "            for i in range(n):\n",
    "                qc.rz(theta, i * m + j)\n",
    "        for j in range(m):\n",
    "            theta = g * P / 2 * (np.sum(p[:, j]) - (2 ** l - 1))\n",
    "            for h in range(l):\n",
    "                qc.rz(theta, n * m + h)\n",
    "\n",
    "        # 二体项的 RZZ 门\n",
    "        for i in range(n):\n",
    "            for j1 in range(m):\n",
    "                for j2 in range(j1 + 1, m):\n",
    "                    theta = g * K1 / 4\n",
    "                    qc.rzz(theta, i * m + j1, i * m + j2)\n",
    "\n",
    "        for j in range(m):\n",
    "            for i1 in range(n):\n",
    "                for i2 in range(i1 + 1, n):\n",
    "                    theta = g * P / 4 * p[i1, j] * p[i2, j]\n",
    "                    qc.rzz(theta, i1 * m + j, i2 * m + j)\n",
    "        for j in range(m):\n",
    "            for i in range(n):\n",
    "                for h in range(l):\n",
    "                    theta = g * P /4 *p[i, j] * 2 ** h\n",
    "                    qc.rzz(theta, i * m + j, n * m + h)\n",
    "\n",
    "\n",
    "        for h1 in range(l):\n",
    "            for h2 in range(h1 + 1, l):\n",
    "                theta = g * P / 4 * 2 ** h1 * 2 ** h2\n",
    "                qc.rzz(theta, h1, h2)\n",
    "\n",
    "    # 应用 XY 混合器\n",
    "    # for b in beta:\n",
    "    #     for i in range(n * m + l):\n",
    "    #         for j in range(i + 1, n * m + l):\n",
    "    #             qc.cx(i, j)\n",
    "    #             qc.rx(2 * b, j)\n",
    "    #             qc.cx(i, j)\n",
    "    for b in beta:\n",
    "        for i in range(n * m + l):\n",
    "            qc.rx(2 * b, i)\n",
    "    for i in range(n):\n",
    "        for j in range(m-1):\n",
    "            qc.rxx(np.pi/4, l + i * m + j, l + i * m + j + 1)\n",
    "            qc.ryy(np.pi/4, l + i * m + j,l +  i * m + j + 1)\n",
    "\n",
    "\n",
    "    # print(qc)\n",
    "     # 模拟电路\n",
    "     # 添加测量指令\n",
    "    qc.measure(range(num_qubits), range(num_qubits))\n",
    "    backend = Aer.get_backend('qasm_simulator')\n",
    "    qc = transpile(qc, backend)\n",
    "    qobj = assemble(qc, shots=10000)\n",
    "    result = backend.run(qobj).result()\n",
    "    counts = result.get_counts(qc)\n",
    "    # 计算期望值\n",
    "    expectation = 0\n",
    "    for bitstring, count in counts.items():\n",
    "        prob = count / 10000\n",
    "        z_h = np.array([int(bit) for bit in bitstring[:l]])\n",
    "        x_ij = np.array([int(bit) for bit in bitstring[l:]]).reshape(n, m)\n",
    "\n",
    "        alpha_s = np.max([0, np.sum(x_ij * p) - np.sum([2 ** h * z for h, z in enumerate(z_h)])])\n",
    "        E = np.sum([2 ** h * z for h, z in enumerate(z_h)]) + K1 * np.sum([(np.sum(x_ij[i]) - 1) ** 2 for i in range(n)]) + P * alpha_s ** 2\n",
    "        expectation += E * prob\n",
    "\n",
    "    return expectation, counts\n"
   ],
   "metadata": {
    "collapsed": false
   }
  },
  {
   "cell_type": "markdown",
   "source": [
    "\\begin{aligned}\n",
    "\\tilde{E} =\\sum_{h=0}^{l-1} 2^{h} z_{h}+K_{1} \\sum_{i=1}^{n}\\left(\\sum_{j=1}^{m} x_{i j}-1\\right)^{2}+ \\sum_{j=1}^{m}  P \\cdot \\left( \\max\\{0, \\sum_{i=1}^{n} x_{i j} p_{i j}-\\sum_{h=0}^{l-1} 2^{h}z_{h}\\} \\right)^2\n",
    "\\end{aligned}"
   ],
   "metadata": {
    "collapsed": false
   }
  },
  {
   "cell_type": "code",
   "execution_count": null,
   "outputs": [],
   "source": [
    "# 优化 QAOA 参数\n",
    "def optimize_qaoa(n, m, l, K1, P, p, params):\n",
    "    def objective(params):\n",
    "        expectation, _ = cost_function(params, n, m, l, K1, P, p)\n",
    "        return expectation\n",
    "\n",
    "    optimizer = COBYLA(maxiter=10000)\n",
    "    # params = np.random.rand(2 * p_max) * 2 * np.pi\n",
    "    result = optimizer.minimize(fun=objective, x0=params)\n",
    "\n",
    "    return result"
   ],
   "metadata": {
    "collapsed": false
   }
  },
  {
   "cell_type": "code",
   "execution_count": null,
   "outputs": [],
   "source": [
    "import time\n",
    "\n",
    "# 运行优化\n",
    "# p_max = 6  # 最大层数\n",
    "\n",
    "startTime = time.process_time()\n",
    "ansatz_final = object()\n",
    "init_point = np.array([])\n",
    "counts = {}\n",
    "min_energy = 0\n",
    "final_result = object()\n",
    "for p1 in range(1, 4):\n",
    "    min_energy = 10000\n",
    "    for k in range(50):\n",
    "        print('第：', p1, '层', ' ', '第', k, '个参数')\n",
    "        init_point_temp = init_point\n",
    "        beta_p = np.random.uniform(0, np.pi)\n",
    "        gamma_p = np.random.uniform(0,  2 * np.pi)\n",
    "        if k >0:\n",
    "            init_point_temp = np.delete(init_point_temp, 2 * p1 - 1)\n",
    "            init_point_temp = np.delete(init_point_temp, p1 - 1)\n",
    "        init_point_temp = np.insert(init_point_temp, p1 - 1, beta_p)\n",
    "        init_point_temp = np.insert(init_point_temp, 2 * p1 - 1, gamma_p)\n",
    "        # 创建参数向量\n",
    "        result = optimize_qaoa(n, m, l, K1, P, p, init_point_temp)\n",
    "\n",
    "        # print(result.x)\n",
    "        optimal_params = result.x\n",
    "\n",
    "\n",
    "        # 计算最终的能量\n",
    "        energy, counts_temp = cost_function(result.x, n, m, l, K1, P, p)\n",
    "        # 寻找这20对点中最优的参数\n",
    "        if min_energy > energy:\n",
    "            min_energy = energy\n",
    "            init_point = init_point_temp\n",
    "            counts = counts_temp\n",
    "            final_result = result\n",
    "endTime = time.process_time()\n",
    "# params = np.random.rand(2 * p_max,2*np.pi)\n",
    "# result = optimize_qaoa(n, m, l, K1, P, p, params)"
   ],
   "metadata": {
    "collapsed": false
   }
  },
  {
   "cell_type": "code",
   "execution_count": null,
   "outputs": [],
   "source": [
    "# 输出结果\n",
    "print(\"Optimal parameters:\", final_result.x)\n",
    "print(\"Optimal value:\", final_result.fun)\n",
    "# 使用最优参数运行量子电路并输出测量结果\n",
    "final_expectation, final_counts = cost_function(final_result.x, n, m, l, K1, P, p)\n",
    "sorted_dict = dict(sorted(final_counts.items(), key=lambda item: item[1], reverse=True))\n",
    "print(\"Final expectation value:\", final_expectation)\n",
    "print(\"Final measurement counts:\", sorted_dict)"
   ],
   "metadata": {
    "collapsed": false
   }
  },
  {
   "cell_type": "code",
   "execution_count": null,
   "outputs": [],
   "source": [],
   "metadata": {
    "collapsed": false
   }
  }
 ],
 "metadata": {
  "kernelspec": {
   "display_name": "Python 3",
   "language": "python",
   "name": "python3"
  },
  "language_info": {
   "codemirror_mode": {
    "name": "ipython",
    "version": 2
   },
   "file_extension": ".py",
   "mimetype": "text/x-python",
   "name": "python",
   "nbconvert_exporter": "python",
   "pygments_lexer": "ipython2",
   "version": "2.7.6"
  }
 },
 "nbformat": 4,
 "nbformat_minor": 0
}
