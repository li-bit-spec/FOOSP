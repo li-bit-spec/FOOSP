{
 "cells": [
  {
   "cell_type": "code",
   "execution_count": 1,
   "metadata": {
    "collapsed": true,
    "ExecuteTime": {
     "end_time": "2024-07-01T13:54:20.593820100Z",
     "start_time": "2024-07-01T13:54:19.438591600Z"
    }
   },
   "outputs": [
    {
     "name": "stdout",
     "output_type": "stream",
     "text": [
      "0.5 * IIIIIIIIIZIIIIIIIIIIIIIII\n",
      "+ 1.0 * IIIIIIIIIIZIIIIIIIIIIIIII\n",
      "+ 2.0 * IIIIIIIIIIIZIIIIIIIIIIIII\n",
      "+ 4.0 * IIIIIIIIIIIIZIIIIIIIIIIII\n",
      "+ 5.0 * ZIIIIIIIIIIIIIIIIIIIIIIII\n",
      "+ 5.0 * IZIIIIIIIIIIIIIIIIIIIIIII\n",
      "+ 5.0 * IIZIIIIIIIIIIIIIIIIIIIIII\n",
      "+ 5.0 * IIIZIIIIIIIIIIIIIIIIIIIII\n",
      "+ 5.0 * IIIIZIIIIIIIIIIIIIIIIIIII\n",
      "+ 5.0 * IIIIIZIIIIIIIIIIIIIIIIIII\n",
      "+ 5.0 * IIIIIIZIIIIIIIIIIIIIIIIII\n",
      "+ 5.0 * IIIIIIIZIIIIIIIIIIIIIIIII\n",
      "+ 5.0 * IIIIIIIIZIIIIIIIIIIIIIIII\n",
      "- 5.0 * ZIIIIIIIIIIIIIIIIIIIIIIII\n",
      "- 5.0 * IZIIIIIIIIIIIIIIIIIIIIIII\n",
      "- 5.0 * IIZIIIIIIIIIIIIIIIIIIIIII\n",
      "- 5.0 * IIIZIIIIIIIIIIIIIIIIIIIII\n",
      "- 5.0 * IIIIZIIIIIIIIIIIIIIIIIIII\n",
      "- 5.0 * IIIIIZIIIIIIIIIIIIIIIIIII\n",
      "- 5.0 * IIIIIIZIIIIIIIIIIIIIIIIII\n",
      "- 5.0 * IIIIIIIZIIIIIIIIIIIIIIIII\n",
      "- 5.0 * IIIIIIIIZIIIIIIIIIIIIIIII\n",
      "- 5.0 * ZIIIIIIIIIIIIIIIIIIIIIIII\n",
      "- 5.0 * IZIIIIIIIIIIIIIIIIIIIIIII\n",
      "- 5.0 * IIZIIIIIIIIIIIIIIIIIIIIII\n",
      "- 5.0 * IIIZIIIIIIIIIIIIIIIIIIIII\n",
      "- 5.0 * IIIIZIIIIIIIIIIIIIIIIIIII\n",
      "- 5.0 * IIIIIZIIIIIIIIIIIIIIIIIII\n",
      "- 5.0 * IIIIIIZIIIIIIIIIIIIIIIIII\n",
      "- 5.0 * IIIIIIIZIIIIIIIIIIIIIIIII\n",
      "- 5.0 * IIIIIIIIZIIIIIIIIIIIIIIII\n",
      "+ 5.0 * ZIIIIIIIIIIIIIIIIIIIIIIII\n",
      "+ 10.0 * IIIZIIIIIIIIIIIIIIIIIIIII\n",
      "+ 15.0 * IIIIIIZIIIIIIIIIIIIIIIIII\n",
      "+ 5.0 * IIIIIIIIIZIIIIIIIIIIIIIII\n",
      "- 5.0 * IIIIIIIIIZIIIIIIIIIIIIIII\n",
      "+ 10.0 * IIIIIIIIIIZIIIIIIIIIIIIII\n",
      "- 10.0 * IIIIIIIIIIZIIIIIIIIIIIIII\n",
      "+ 20.0 * IIIIIIIIIIIZIIIIIIIIIIIII\n",
      "- 20.0 * IIIIIIIIIIIZIIIIIIIIIIIII\n",
      "+ 40.0 * IIIIIIIIIIIIZIIIIIIIIIIII\n",
      "- 40.0 * IIIIIIIIIIIIZIIIIIIIIIIII\n",
      "+ 10.0 * IZIIIIIIIIIIIIIIIIIIIIIII\n",
      "+ 5.0 * IIIIZIIIIIIIIIIIIIIIIIIII\n",
      "+ 10.0 * IIIIIIIZIIIIIIIIIIIIIIIII\n",
      "+ 5.0 * IIIIIIIIIIIIIZIIIIIIIIIII\n",
      "- 5.0 * IIIIIIIIIZIIIIIIIIIIIIIII\n",
      "+ 10.0 * IIIIIIIIIIIIIIZIIIIIIIIII\n",
      "- 10.0 * IIIIIIIIIIZIIIIIIIIIIIIII\n",
      "+ 20.0 * IIIIIIIIIIIIIIIZIIIIIIIII\n",
      "- 20.0 * IIIIIIIIIIIZIIIIIIIIIIIII\n",
      "+ 40.0 * IIIIIIIIIIIIIIIIZIIIIIIII\n",
      "- 40.0 * IIIIIIIIIIIIZIIIIIIIIIIII\n",
      "+ 15.0 * IIZIIIIIIIIIIIIIIIIIIIIII\n",
      "+ 10.0 * IIIIIZIIIIIIIIIIIIIIIIIII\n",
      "+ 5.0 * IIIIIIIIZIIIIIIIIIIIIIIII\n",
      "+ 5.0 * IIIIIIIIIIIIIIIIIZIIIIIII\n",
      "- 5.0 * IIIIIIIIIZIIIIIIIIIIIIIII\n",
      "+ 10.0 * IIIIIIIIIIIIIIIIIIZIIIIII\n",
      "- 10.0 * IIIIIIIIIIZIIIIIIIIIIIIII\n",
      "+ 20.0 * IIIIIIIIIIIIIIIIIIIZIIIII\n",
      "- 20.0 * IIIIIIIIIIIZIIIIIIIIIIIII\n",
      "+ 40.0 * IIIIIIIIIIIIIIIIIIIIZIIII\n",
      "- 40.0 * IIIIIIIIIIIIZIIIIIIIIIIII\n",
      "- 85.0 * ZIIIIIIIIIIIIIIIIIIIIIIII\n",
      "- 85.0 * IZIIIIIIIIIIIIIIIIIIIIIII\n",
      "- 85.0 * IIZIIIIIIIIIIIIIIIIIIIIII\n",
      "- 85.0 * IIIZIIIIIIIIIIIIIIIIIIIII\n",
      "- 85.0 * IIIIZIIIIIIIIIIIIIIIIIIII\n",
      "- 85.0 * IIIIIZIIIIIIIIIIIIIIIIIII\n",
      "- 85.0 * IIIIIIZIIIIIIIIIIIIIIIIII\n",
      "- 85.0 * IIIIIIIZIIIIIIIIIIIIIIIII\n",
      "- 85.0 * IIIIIIIIZIIIIIIIIIIIIIIII\n"
     ]
    },
    {
     "name": "stderr",
     "output_type": "stream",
     "text": [
      "C:\\Users\\18330\\AppData\\Local\\Temp\\ipykernel_22232\\184413158.py:66: DeprecationWarning: The ``qiskit.opflow`` module is deprecated as of qiskit-terra 0.24.0. It will be removed no earlier than 3 months after the release date. For code migration guidelines, visit https://qisk.it/opflow_migration.\n",
      "  from qiskit.opflow import PauliSumOp\n"
     ]
    }
   ],
   "source": [
    "# from qiskit.opflow import I, Z, X, Y, SparsePauliOp\n",
    "import numpy as np\n",
    "\n",
    "# 假设有 3 台机器和 3 个操作\n",
    "m = 3  # 机器数量\n",
    "n = 3  # 操作数量\n",
    "l = 4  # 用于表示 C_max 的二进制位数\n",
    "\n",
    "# 处理时间矩阵 (例如)\n",
    "p = np.array([[1, 2, 3],\n",
    "              [2, 1, 2],\n",
    "              [3, 2, 1]])\n",
    "\n",
    "# 常数\n",
    "K1 = 10\n",
    "K2 = 10\n",
    "\n",
    "# 量子比特数量\n",
    "num_qubits = m * n + l + m * l\n",
    "\n",
    "\n",
    "def pauli_z_term(index, num_qubits):\n",
    "    \"\"\"Creates a Pauli-Z term for the given index.\"\"\"\n",
    "    paulis = ['I'] * num_qubits\n",
    "    paulis[index] = 'Z'\n",
    "    return ''.join(paulis)\n",
    "\n",
    "\n",
    "z_terms = []\n",
    "for h in range(l):\n",
    "    coef = 2 ** h / 2\n",
    "    z_term = pauli_z_term(m * n + h, num_qubits)\n",
    "    z_terms.append((coef, z_term))\n",
    "\n",
    "constraint1_terms = []\n",
    "for i in range(n):\n",
    "    for j in range(m):\n",
    "        coef = K1 / 2\n",
    "        x_term = pauli_z_term(i * m + j, num_qubits)\n",
    "        constraint1_terms.append((coef, x_term))\n",
    "\n",
    "# 添加常数项和交叉项\n",
    "constant_term = K1 * (m / 2 - 1) ** 2\n",
    "cross_term_coef = -K1 * (m / 2 - 1)\n",
    "cross_terms = [(cross_term_coef, pauli_z_term(i * m + j, num_qubits)) for i in range(n) for j in range(m)]\n",
    "\n",
    "constraint2_terms = []\n",
    "for j in range(m):\n",
    "    for i in range(n):\n",
    "        coef = K2 * p[i, j] / 2\n",
    "        x_term = pauli_z_term(i * m + j, num_qubits)\n",
    "        constraint2_terms.append((coef, x_term))\n",
    "\n",
    "    for h in range(l):\n",
    "        coef = K2 * 2 ** h / 2\n",
    "        tau_term = pauli_z_term(m * n + j * l + h, num_qubits)\n",
    "        z_term = pauli_z_term(m * n + h, num_qubits)\n",
    "        constraint2_terms.append((coef, tau_term))\n",
    "        constraint2_terms.append((-coef, z_term))\n",
    "\n",
    "# 添加常数项和交叉项\n",
    "constant_term2 = K2 * np.sum(p / 2)\n",
    "cross_term_coef2 = -K2 * np.sum(p / 2)\n",
    "cross_terms2 = [(cross_term_coef2, pauli_z_term(i * m + j, num_qubits)) for i in range(n) for j in range(m)]\n",
    "\n",
    "from qiskit.opflow import PauliSumOp\n",
    "\n",
    "# 构建哈密顿量\n",
    "hamiltonian_terms = z_terms + constraint1_terms + cross_terms + cross_terms + constraint2_terms + cross_terms2\n",
    "\n",
    "# 转换为 SparsePauliOp\n",
    "pauli_strings = [term[1] for term in hamiltonian_terms]\n",
    "coefficients = [term[0] for term in hamiltonian_terms]\n",
    "\n",
    "hamiltonian = PauliSumOp.from_list(list(zip(pauli_strings, coefficients)))\n",
    "\n",
    "print(hamiltonian)\n"
   ]
  },
  {
   "cell_type": "code",
   "execution_count": 3,
   "outputs": [
    {
     "name": "stdout",
     "output_type": "stream",
     "text": [
      "Reference value: -1017.50000\n"
     ]
    }
   ],
   "source": [
    "from qiskit.algorithms.minimum_eigensolvers import NumPyMinimumEigensolver\n",
    "from qiskit.opflow import PauliSumOp\n",
    "\n",
    "# 使用 NumPyEigensolver 计算基态能量\n",
    "numpy_solver = NumPyMinimumEigensolver()\n",
    "result = numpy_solver.compute_minimum_eigenvalue(hamiltonian)\n",
    "# 获取基态能量\n",
    "ref_value = result.eigenvalue.real\n",
    "print(f\"Reference value: {ref_value:.5f}\")"
   ],
   "metadata": {
    "collapsed": false,
    "ExecuteTime": {
     "end_time": "2024-07-01T14:25:42.761325500Z",
     "start_time": "2024-07-01T14:23:24.799199400Z"
    }
   }
  },
  {
   "cell_type": "code",
   "execution_count": null,
   "outputs": [],
   "source": [],
   "metadata": {
    "collapsed": false
   }
  }
 ],
 "metadata": {
  "kernelspec": {
   "display_name": "Python 3",
   "language": "python",
   "name": "python3"
  },
  "language_info": {
   "codemirror_mode": {
    "name": "ipython",
    "version": 2
   },
   "file_extension": ".py",
   "mimetype": "text/x-python",
   "name": "python",
   "nbconvert_exporter": "python",
   "pygments_lexer": "ipython2",
   "version": "2.7.6"
  }
 },
 "nbformat": 4,
 "nbformat_minor": 0
}
