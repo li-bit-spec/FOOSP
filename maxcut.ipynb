{
 "cells": [
  {
   "cell_type": "code",
   "execution_count": 103,
   "metadata": {
    "collapsed": true,
    "ExecuteTime": {
     "end_time": "2024-07-10T08:17:42.411360300Z",
     "start_time": "2024-07-10T08:17:42.399436700Z"
    }
   },
   "outputs": [],
   "source": []
  },
  {
   "cell_type": "code",
   "execution_count": 104,
   "outputs": [
    {
     "data": {
      "text/plain": "<Figure size 640x480 with 1 Axes>",
      "image/png": "[encoded data removed]"
     },
     "metadata": {},
     "output_type": "display_data"
    }
   ],
   "source": [
    "# 用于将 rustworkx 模块中的图形数据绘制成 Matplotlib 图形\n",
    "import rustworkx as rx\n",
    "from rustworkx.visualization import mpl_draw\n",
    "\n",
    "num_nodes = 5\n",
    "# The edge syntax is (start, end, weight)\n",
    "edges = [(0, 1, 1), (0, 2, 1), (0, 3, 1), (0, 4, 1)]\n",
    "\n",
    "# 创建了一个空的 PyGraph 对象，它代表了一个图\n",
    "G = rx.PyGraph()\n",
    "\n",
    "# 向图中添加了 num_nodes 个节点和定义的边。\n",
    "G.add_nodes_from(range(num_nodes))\n",
    "G.add_edges_from(edges)\n",
    "\n",
    "# 使用 mpl_draw 函数绘制了图。mpl_draw 函数需要传入图对象 G，以及一些绘制参数。\n",
    "# pos=rx.bipartite_layout(G, {0}) 来指定节点的布局方式\n",
    "# with_labels=True 表示在节点上显示标签\n",
    "# node_color=\"#EE5396\" 设置了节点的颜色\n",
    "# font_color=\"#F4F4F4\" 设置了节点标签的颜色。\n",
    "mpl_draw(\n",
    "    G, pos=rx.bipartite_layout(G, {0}), with_labels=True, node_color=\"#EE5396\", font_color=\"#F4F4F4\"\n",
    ")"
   ],
   "metadata": {
    "collapsed": false,
    "ExecuteTime": {
     "end_time": "2024-07-10T08:17:42.496859Z",
     "start_time": "2024-07-10T08:17:42.406453100Z"
    }
   }
  },
  {
   "cell_type": "code",
   "execution_count": 105,
   "outputs": [],
   "source": [
    "from qiskit.quantum_info import SparsePauliOp\n",
    "\n",
    "hamiltonian = SparsePauliOp.from_list([(\"IIIZZ\", 1), (\"IIZIZ\", 1), (\"IZIIZ\", 1), (\"ZIIIZ\", 1)])"
   ],
   "metadata": {
    "collapsed": false,
    "ExecuteTime": {
     "end_time": "2024-07-10T08:17:42.511884900Z",
     "start_time": "2024-07-10T08:17:42.498820900Z"
    }
   }
  },
  {
   "cell_type": "code",
   "execution_count": 106,
   "outputs": [],
   "source": [
    "from qiskit.opflow import PauliSumOp\n",
    "\n",
    "\n",
    "# 定义混合哈密顿量 H_M\n",
    "def get_mixer_hamiltonian(num_qubits):\n",
    "    pauli_list = []\n",
    "    coeffs = []\n",
    "    for i in range(num_qubits):\n",
    "        x_term = ['I'] * num_qubits\n",
    "        x_term[i] = 'X'\n",
    "        pauli_str = ''.join(x_term)\n",
    "        pauli_list.append((pauli_str, 1.0))\n",
    "    mixer_hamiltonian = PauliSumOp.from_list(pauli_list)\n",
    "    #\n",
    "    # for i in range(num_qubits-1):\n",
    "    #     for j in range(i + 1, num_qubits):\n",
    "    #         # X_i X_j term\n",
    "    #         x_term = ['I'] * num_qubits\n",
    "    #         x_term[i] = 'X'\n",
    "    #         x_term[j] = 'X'\n",
    "    #         pauli_list.append(''.join(x_term))\n",
    "    #         coeffs.append(np.pi/4)\n",
    "    #\n",
    "    #         # Y_i Y_j term\n",
    "    #         y_term = ['I'] * num_qubits\n",
    "    #         y_term[i] = 'Y'\n",
    "    #         y_term[j] = 'Y'\n",
    "    #         pauli_list.append(''.join(y_term))\n",
    "    #         coeffs.append(np.pi/4)\n",
    "    return mixer_hamiltonian\n",
    "\n",
    "mixer_hamiltonian = get_mixer_hamiltonian(5)"
   ],
   "metadata": {
    "collapsed": false,
    "ExecuteTime": {
     "end_time": "2024-07-10T08:17:42.556872600Z",
     "start_time": "2024-07-10T08:17:42.513886Z"
    }
   }
  },
  {
   "cell_type": "code",
   "execution_count": 106,
   "outputs": [],
   "source": [],
   "metadata": {
    "collapsed": false,
    "ExecuteTime": {
     "end_time": "2024-07-10T08:17:42.569986Z",
     "start_time": "2024-07-10T08:17:42.529872200Z"
    }
   }
  },
  {
   "cell_type": "code",
   "execution_count": 107,
   "outputs": [],
   "source": [
    "from qiskit import QuantumCircuit\n",
    "from matplotlib import pyplot as plt\n",
    "from qiskit.circuit import ParameterVector\n",
    "from qiskit.circuit.library import PauliEvolutionGate\n",
    "\n",
    "# 创建 QAOA 变分形式（ansatz）\n",
    "p1 = 2  # QAOA 层数\n",
    "\n",
    "params = ParameterVector('theta', 2 * p1)\n",
    "ansatz = QuantumCircuit(5)\n",
    "\n",
    "for layer in range(p1):\n",
    "    # 应用问题哈密顿量\n",
    "    ansatz.append(PauliEvolutionGate(hamiltonian, params[2 * layer]), list(range(5)))\n",
    "    # 应用混合哈密顿量\n",
    "    ansatz.append(PauliEvolutionGate(mixer_hamiltonian, params[2 * layer + 1]), list(range(5)))"
   ],
   "metadata": {
    "collapsed": false,
    "ExecuteTime": {
     "end_time": "2024-07-10T08:17:42.571015200Z",
     "start_time": "2024-07-10T08:17:42.556872600Z"
    }
   }
  },
  {
   "cell_type": "code",
   "execution_count": 108,
   "outputs": [],
   "source": [
    "from qiskit import transpile, Aer\n",
    "from qiskit.primitives import Estimator\n",
    "estimator = Estimator()\n",
    "def objective_function(params):\n",
    "    bound_circuit = ansatz.bind_parameters(params)\n",
    "    bound_circuit = transpile(bound_circuit, Aer.get_backend('aer_simulator'))\n",
    "    result = estimator.run([bound_circuit], [hamiltonian]).result()\n",
    "    expectation_value = result.values[0]\n",
    "    return expectation_value"
   ],
   "metadata": {
    "collapsed": false,
    "ExecuteTime": {
     "end_time": "2024-07-10T08:17:42.589617600Z",
     "start_time": "2024-07-10T08:17:42.564868200Z"
    }
   }
  },
  {
   "cell_type": "code",
   "execution_count": 109,
   "outputs": [
    {
     "name": "stderr",
     "output_type": "stream",
     "text": [
      "C:\\Users\\18330\\AppData\\Local\\Temp\\ipykernel_3432\\700626292.py:5: DeprecationWarning: The method ``qiskit.circuit.quantumcircuit.QuantumCircuit.bind_parameters()`` is deprecated as of qiskit 0.45.0. It will be removed no earlier than 3 months after the release date. Use assign_parameters() instead\n",
      "  bound_circuit = ansatz.bind_parameters(params)\n"
     ]
    },
    {
     "name": "stdout",
     "output_type": "stream",
     "text": [
      "Final Energy: -3.9999999992258104\n",
      "Optimal Parameters: [0.48908341 2.35619598 1.57080063 0.78540245]\n"
     ]
    }
   ],
   "source": [
    "import numpy as np\n",
    "from qiskit_algorithms.optimizers import COBYLA\n",
    "\n",
    "# 使用经典优化器最小化目标函数\n",
    "initial_point = np.random.rand(2 * p1)\n",
    "\n",
    "optimizer = COBYLA(maxiter=10000, tol=0.00001,disp=True)\n",
    "result = optimizer.minimize(fun=objective_function, x0=initial_point)\n",
    "\n",
    "# 计算最终的能量\n",
    "final_energy = objective_function(result.x)\n",
    "print(\"Final Energy:\", final_energy)\n",
    "print(\"Optimal Parameters:\", result.x)"
   ],
   "metadata": {
    "collapsed": false,
    "ExecuteTime": {
     "end_time": "2024-07-10T08:17:44.214777200Z",
     "start_time": "2024-07-10T08:17:42.661625400Z"
    }
   }
  },
  {
   "cell_type": "code",
   "execution_count": 110,
   "outputs": [
    {
     "name": "stdout",
     "output_type": "stream",
     "text": [
      "{'11110': 10000}\n"
     ]
    },
    {
     "name": "stderr",
     "output_type": "stream",
     "text": [
      "C:\\Users\\18330\\AppData\\Local\\Temp\\ipykernel_3432\\3335126737.py:3: DeprecationWarning: The method ``qiskit.circuit.quantumcircuit.QuantumCircuit.bind_parameters()`` is deprecated as of qiskit 0.45.0. It will be removed no earlier than 3 months after the release date. Use assign_parameters() instead\n",
      "  bound_circuit = ansatz.bind_parameters(result.x)\n"
     ]
    }
   ],
   "source": [
    "from qiskit import execute, Aer\n",
    "# 量子电路测量\n",
    "bound_circuit = ansatz.bind_parameters(result.x)\n",
    "bound_circuit.measure_all()\n",
    "\n",
    "# 运行电路并获取测量结果\n",
    "simulator = Aer.get_backend('qasm_simulator')\n",
    "tqc = transpile(bound_circuit, simulator)\n",
    "result = execute(tqc, backend=simulator, shots=10000).result()\n",
    "counts = result.get_counts()\n",
    "\n",
    "sorted_dict = dict(sorted(counts.items(), key=lambda item: item[1], reverse=True))\n",
    "\n",
    "print(sorted_dict)"
   ],
   "metadata": {
    "collapsed": false,
    "ExecuteTime": {
     "end_time": "2024-07-10T08:17:44.277162200Z",
     "start_time": "2024-07-10T08:17:44.217620600Z"
    }
   }
  }
 ],
 "metadata": {
  "kernelspec": {
   "display_name": "Python 3",
   "language": "python",
   "name": "python3"
  },
  "language_info": {
   "codemirror_mode": {
    "name": "ipython",
    "version": 2
   },
   "file_extension": ".py",
   "mimetype": "text/x-python",
   "name": "python",
   "nbconvert_exporter": "python",
   "pygments_lexer": "ipython2",
   "version": "2.7.6"
  }
 },
 "nbformat": 4,
 "nbformat_minor": 0
}
