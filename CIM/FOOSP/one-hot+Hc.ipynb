{
 "cells": [
  {
   "cell_type": "code",
   "id": "initial_id",
   "metadata": {
    "collapsed": true,
    "ExecuteTime": {
     "end_time": "2025-04-16T01:19:30.862734Z",
     "start_time": "2025-04-16T01:19:30.845726Z"
    }
   },
   "source": [
    "import numpy as np\n",
    "import pandas as pd\n",
    "\n",
    "# FOSSP 实例参数\n",
    "n, m = 3, 3  # 作业数，机器数\n",
    "l = 2  # 二进制位数\n",
    "P = np.array([[1, 3, 3], [3, 1, 3], [3, 3, 1]])  # 加工时间矩阵\n",
    "K1, K2 = 10000, 10000  # 惩罚系数\n",
    "\n",
    "# 总变量数\n",
    "N = n * m + l + m * l  # 17 个自旋\n",
    "\n",
    "# 初始化 QUBO 矩阵\n",
    "Q = np.zeros((N, N))\n",
    "\n",
    "# 变量索引\n",
    "x_idx = [(i * m + j) for i in range(n) for j in range(m)]  # 0-8\n",
    "z_idx = [n * m + h for h in range(l)]  # 9-10\n",
    "tau_idx = [(n * m + l) + j * l + h for j in range(m) for h in range(l)]  # 11-16\n",
    "\n",
    "# 项 1：最小化 C_max\n",
    "for h in range(l):\n",
    "    Q[z_idx[h], z_idx[h]] += 2 ** h\n",
    "\n",
    "# 项 2：约束 sum_j x_ij = 1\n",
    "for i in range(n):\n",
    "    for j in range(m):\n",
    "        idx_j = x_idx[i * m + j]\n",
    "        Q[idx_j, idx_j] += -2 * K1  # 线性项\n",
    "        for k in range(j + 1, m):\n",
    "            idx_k = x_idx[i * m + k]\n",
    "            Q[idx_j, idx_k] += 2 * K1\n",
    "            Q[idx_k, idx_j] += 2 * K1\n",
    "\n",
    "# # 项 3：机器完工时间约束\n",
    "# for j in range(m):\n",
    "#     # A_j^2 = (sum_i x_ij p_ij)^2\n",
    "#     for i in range(n):\n",
    "#         idx_i = x_idx[i * m + j]\n",
    "#         Q[idx_i, idx_i] += K2 * P[i, j]**2  # x_ij^2\n",
    "#         for k in range(i + 1, n):\n",
    "#             idx_k = x_idx[k * m + j]\n",
    "#             Q[idx_i, idx_k] += 2 * K2 * P[i, j] * P[k, j]\n",
    "#             Q[idx_k, idx_i] += 2 * K2 * P[i, j] * P[k, j]\n",
    "#     # B_j^2 = (sum_h 2^h (tau_jh - z_h))^2\n",
    "#     for h in range(l):\n",
    "#         tau_h = tau_idx[j * l + h]\n",
    "#         z_h = z_idx[h]\n",
    "#         Q[tau_h, tau_h] += K2 * (2**h)**2  # tau_jh^2\n",
    "#         Q[z_h, z_h] += K2 * (2**h)**2  # z_h^2\n",
    "#         for k in range(l):\n",
    "#             tau_k = tau_idx[j * l + k]\n",
    "#             z_k = z_idx[k]\n",
    "#             if h != k:\n",
    "#                 Q[tau_h, tau_k] += 2 * K2 * 2**h * 2**k\n",
    "#                 Q[tau_k, tau_h] += 2 * K2 * 2**h * 2**k\n",
    "#                 Q[z_h, z_k] += 2 * K2 * 2**h * 2**k\n",
    "#                 Q[z_k, z_h] += 2 * K2 * 2**h * 2**k\n",
    "#             Q[tau_h, z_k] += -2 * K2 * 2**h * 2**k\n",
    "#             Q[z_k, tau_h] += -2 * K2 * 2**h * 2**k\n",
    "#     # 2 A_j B_j\n",
    "#     for i in range(n):\n",
    "#         idx_i = x_idx[i * m + j]\n",
    "#         for h in range(l):\n",
    "#             tau_h = tau_idx[j * l + h]\n",
    "#             z_h = z_idx[h]\n",
    "#             Q[idx_i, tau_h] += 2 * K2 * P[i, j] * 2**h\n",
    "#             Q[tau_h, idx_i] += 2 * K2 * P[i, j] * 2**h\n",
    "#             Q[idx_i, z_h] += -2 * K2 * P[i, j] * 2**h\n",
    "#             Q[z_h, idx_i] += -2 * K2 * P[i, j] * 2**h"
   ],
   "outputs": [],
   "execution_count": 39
  },
  {
   "metadata": {
    "ExecuteTime": {
     "end_time": "2025-04-16T01:19:35.203786Z",
     "start_time": "2025-04-16T01:19:35.194780Z"
    }
   },
   "cell_type": "code",
   "source": [
    "# 转换为伊辛模型\n",
    "J = np.zeros((N, N))\n",
    "h = np.zeros(N)\n",
    "for i in range(N):\n",
    "    h[i] = Q[i, i] / 4 + sum(Q[i, j] / 4 for j in range(N) if j != i)\n",
    "    for j in range(i + 1, N):\n",
    "        J[i, j] = Q[i, j] / 4\n",
    "J = J + J.T\n",
    "h += np.sum(Q, axis=1) / 4"
   ],
   "id": "682f5d82028584ad",
   "outputs": [],
   "execution_count": 40
  },
  {
   "metadata": {
    "ExecuteTime": {
     "end_time": "2025-04-16T01:19:36.073288Z",
     "start_time": "2025-04-16T01:19:36.057312Z"
    }
   },
   "cell_type": "code",
   "source": [
    "# 验证 QUBO 矩阵\n",
    "print(f\"QUBO 矩阵形状: {Q.shape}\")\n",
    "print(f\"QUBO 矩阵是否对称: {np.allclose(Q, Q.T)}\")\n",
    "print(f\"QUBO 矩阵非零元素数: {np.count_nonzero(Q)}\")\n",
    "print(\"QUBO 矩阵前 5 行 5 列:\\n\", Q[:5, :5])\n",
    "\n",
    "# 保存 QUBO 矩阵到 CSV\n",
    "labels = [f\"x_{i + 1}{j + 1}\" for i in range(n) for j in range(m)] + \\\n",
    "         [f\"z_{h}\" for h in range(l)] + \\\n",
    "         [f\"tau_{j + 1}{h}\" for j in range(m) for h in range(l)]\n",
    "Q_df = pd.DataFrame(Q, index=labels, columns=labels)\n",
    "Q_df.to_csv(\"qubo_matrix_corrected.csv\")\n",
    "print(\"标准 QUBO 矩阵已保存为 qubo_matrix_corrected.csv\")"
   ],
   "id": "ba702bb00bb67d06",
   "outputs": [
    {
     "name": "stdout",
     "output_type": "stream",
     "text": [
      "QUBO 矩阵形状: (17, 17)\n",
      "QUBO 矩阵是否对称: True\n",
      "QUBO 矩阵非零元素数: 29\n",
      "QUBO 矩阵前 5 行 5 列:\n",
      " [[-20000.  20000.  20000.      0.      0.]\n",
      " [ 20000. -20000.  20000.      0.      0.]\n",
      " [ 20000.  20000. -20000.      0.      0.]\n",
      " [     0.      0.      0. -20000.  20000.]\n",
      " [     0.      0.      0.  20000. -20000.]]\n",
      "标准 QUBO 矩阵已保存为 qubo_matrix_corrected.csv\n"
     ]
    }
   ],
   "execution_count": 41
  },
  {
   "metadata": {
    "ExecuteTime": {
     "end_time": "2025-04-16T01:19:39.167722Z",
     "start_time": "2025-04-16T01:19:39.153719Z"
    }
   },
   "cell_type": "code",
   "source": "print(\"QUBO 矩阵前 5 行 5 列:\\n\", Q[:17, :17])",
   "id": "f2bf3f31b3f10ee5",
   "outputs": [
    {
     "name": "stdout",
     "output_type": "stream",
     "text": [
      "QUBO 矩阵前 5 行 5 列:\n",
      " [[-2.e+04  2.e+04  2.e+04  0.e+00  0.e+00  0.e+00  0.e+00  0.e+00  0.e+00\n",
      "   0.e+00  0.e+00  0.e+00  0.e+00  0.e+00  0.e+00  0.e+00  0.e+00]\n",
      " [ 2.e+04 -2.e+04  2.e+04  0.e+00  0.e+00  0.e+00  0.e+00  0.e+00  0.e+00\n",
      "   0.e+00  0.e+00  0.e+00  0.e+00  0.e+00  0.e+00  0.e+00  0.e+00]\n",
      " [ 2.e+04  2.e+04 -2.e+04  0.e+00  0.e+00  0.e+00  0.e+00  0.e+00  0.e+00\n",
      "   0.e+00  0.e+00  0.e+00  0.e+00  0.e+00  0.e+00  0.e+00  0.e+00]\n",
      " [ 0.e+00  0.e+00  0.e+00 -2.e+04  2.e+04  2.e+04  0.e+00  0.e+00  0.e+00\n",
      "   0.e+00  0.e+00  0.e+00  0.e+00  0.e+00  0.e+00  0.e+00  0.e+00]\n",
      " [ 0.e+00  0.e+00  0.e+00  2.e+04 -2.e+04  2.e+04  0.e+00  0.e+00  0.e+00\n",
      "   0.e+00  0.e+00  0.e+00  0.e+00  0.e+00  0.e+00  0.e+00  0.e+00]\n",
      " [ 0.e+00  0.e+00  0.e+00  2.e+04  2.e+04 -2.e+04  0.e+00  0.e+00  0.e+00\n",
      "   0.e+00  0.e+00  0.e+00  0.e+00  0.e+00  0.e+00  0.e+00  0.e+00]\n",
      " [ 0.e+00  0.e+00  0.e+00  0.e+00  0.e+00  0.e+00 -2.e+04  2.e+04  2.e+04\n",
      "   0.e+00  0.e+00  0.e+00  0.e+00  0.e+00  0.e+00  0.e+00  0.e+00]\n",
      " [ 0.e+00  0.e+00  0.e+00  0.e+00  0.e+00  0.e+00  2.e+04 -2.e+04  2.e+04\n",
      "   0.e+00  0.e+00  0.e+00  0.e+00  0.e+00  0.e+00  0.e+00  0.e+00]\n",
      " [ 0.e+00  0.e+00  0.e+00  0.e+00  0.e+00  0.e+00  2.e+04  2.e+04 -2.e+04\n",
      "   0.e+00  0.e+00  0.e+00  0.e+00  0.e+00  0.e+00  0.e+00  0.e+00]\n",
      " [ 0.e+00  0.e+00  0.e+00  0.e+00  0.e+00  0.e+00  0.e+00  0.e+00  0.e+00\n",
      "   1.e+00  0.e+00  0.e+00  0.e+00  0.e+00  0.e+00  0.e+00  0.e+00]\n",
      " [ 0.e+00  0.e+00  0.e+00  0.e+00  0.e+00  0.e+00  0.e+00  0.e+00  0.e+00\n",
      "   0.e+00  2.e+00  0.e+00  0.e+00  0.e+00  0.e+00  0.e+00  0.e+00]\n",
      " [ 0.e+00  0.e+00  0.e+00  0.e+00  0.e+00  0.e+00  0.e+00  0.e+00  0.e+00\n",
      "   0.e+00  0.e+00  0.e+00  0.e+00  0.e+00  0.e+00  0.e+00  0.e+00]\n",
      " [ 0.e+00  0.e+00  0.e+00  0.e+00  0.e+00  0.e+00  0.e+00  0.e+00  0.e+00\n",
      "   0.e+00  0.e+00  0.e+00  0.e+00  0.e+00  0.e+00  0.e+00  0.e+00]\n",
      " [ 0.e+00  0.e+00  0.e+00  0.e+00  0.e+00  0.e+00  0.e+00  0.e+00  0.e+00\n",
      "   0.e+00  0.e+00  0.e+00  0.e+00  0.e+00  0.e+00  0.e+00  0.e+00]\n",
      " [ 0.e+00  0.e+00  0.e+00  0.e+00  0.e+00  0.e+00  0.e+00  0.e+00  0.e+00\n",
      "   0.e+00  0.e+00  0.e+00  0.e+00  0.e+00  0.e+00  0.e+00  0.e+00]\n",
      " [ 0.e+00  0.e+00  0.e+00  0.e+00  0.e+00  0.e+00  0.e+00  0.e+00  0.e+00\n",
      "   0.e+00  0.e+00  0.e+00  0.e+00  0.e+00  0.e+00  0.e+00  0.e+00]\n",
      " [ 0.e+00  0.e+00  0.e+00  0.e+00  0.e+00  0.e+00  0.e+00  0.e+00  0.e+00\n",
      "   0.e+00  0.e+00  0.e+00  0.e+00  0.e+00  0.e+00  0.e+00  0.e+00]]\n"
     ]
    }
   ],
   "execution_count": 42
  },
  {
   "metadata": {
    "ExecuteTime": {
     "end_time": "2025-04-16T01:27:26.622669Z",
     "start_time": "2025-04-16T01:20:43.232507Z"
    }
   },
   "cell_type": "code",
   "source": [
    "from cim_optimizer.solve_Ising import Ising\n",
    "\n",
    "# 使用 CIM 求解\n",
    "test = Ising(J, h).solve(\n",
    "    use_GPU=True,\n",
    "    num_runs=50,  # 增加运行次数\n",
    "    num_timesteps_per_run=5000,  # 增加时间步\n",
    "    cac_time_step=0.02,  # 减小步长\n",
    "    cac_r=-0.5,  # 调整反馈强度\n",
    "    cac_alpha=0.8,\n",
    "    cac_beta=0.3,\n",
    "    cac_gamma=0.005,\n",
    "    cac_delta=15,\n",
    "    cac_mu=0.9,\n",
    "    cac_rho=1.5,\n",
    "    cac_tau=200,\n",
    "    return_spin_trajectories_all_runs=True,\n",
    "    hyperparameters_randomtune=False\n",
    ")"
   ],
   "id": "2ffdfd3356dbde9e",
   "outputs": [
    {
     "name": "stdout",
     "output_type": "stream",
     "text": [
      "External Field Detected\n",
      "Target Ising Energy: -inf.\n",
      "Best Ising Energy Found: -94998.5.\n",
      "Corresponding Spin Configuration: [ 1.  1.  1.  1. -1.  1.  1.  1.  1. -1. -1. -1. -1. -1.  1. -1. -1.].\n",
      "Time Elapsed: 403.3536536693573.\n",
      "Number of Runs Completed: 50.\n"
     ]
    }
   ],
   "execution_count": 44
  },
  {
   "metadata": {
    "ExecuteTime": {
     "end_time": "2025-04-16T01:27:54.001899Z",
     "start_time": "2025-04-16T01:27:52.909256Z"
    }
   },
   "cell_type": "code",
   "source": [
    "from cim_optimizer.CIM_helper import brute_force\n",
    "\n",
    "spins_ground, E_ground = brute_force(J)\n",
    "print(\"The spin configuration in the ground state is {}\".format(spins_ground))\n",
    "print(\"The ground energy is {}\".format(E_ground))"
   ],
   "id": "f6dfe9ca0488bafb",
   "outputs": [
    {
     "name": "stdout",
     "output_type": "stream",
     "text": [
      "The spin configuration in the ground state is [-1 -1 -1 -1 -1 -1 -1 -1 -1 -1 -1 -1 -1 -1 -1 -1 -1]\n",
      "The ground energy is -45000.0\n"
     ]
    }
   ],
   "execution_count": 45
  },
  {
   "metadata": {
    "ExecuteTime": {
     "end_time": "2025-04-16T01:28:23.735693Z",
     "start_time": "2025-04-16T01:28:23.716812Z"
    }
   },
   "cell_type": "code",
   "source": [
    "# 调试：检查结果属性\n",
    "print(\"test.result 属性:\", [attr for attr in dir(test.result) if not attr.startswith('_')])\n",
    "\n",
    "# 提取最低能量\n",
    "best_energy = test.result.lowest_energy\n",
    "print(f\"最佳能量: {best_energy}\")\n",
    "best_spins = spins_ground\n",
    "# best_spins = test.result.lowest_energy_spin_config\n",
    "# best_spins = [1,  -1,  -1,  -1,  1,  -1,  -1,  -1, 1,  -1. -1,  1,  1,  1,  1,  1, -1,1]\n",
    "print(f\"最佳自旋配置: {best_spins}\")\n",
    "\n",
    "# 验证自旋长度\n",
    "if len(best_spins) != N:\n",
    "    print(f\"错误：自旋长度 {len(best_spins)} 不等于预期 {N}\")\n",
    "    raise ValueError(\"自旋配置无效\")"
   ],
   "id": "6f6623dca23a9a24",
   "outputs": [
    {
     "name": "stdout",
     "output_type": "stream",
     "text": [
      "test.result 属性: ['energies', 'energy_evolution', 'lowest_energy', 'lowest_energy_spin_config', 'result_data', 'spin_config_all_runs', 'spin_trajectories', 'time']\n",
      "最佳能量: -94998.5\n",
      "最佳自旋配置: [-1 -1 -1 -1 -1 -1 -1 -1 -1 -1 -1 -1 -1 -1 -1 -1 -1]\n"
     ]
    }
   ],
   "execution_count": 47
  },
  {
   "metadata": {
    "ExecuteTime": {
     "end_time": "2025-04-16T01:28:32.276677Z",
     "start_time": "2025-04-16T01:28:32.258665Z"
    }
   },
   "cell_type": "code",
   "source": [
    "# 解码解\n",
    "x_sol = [(best_spins[i] + 1) / 2 for i in range(n * m)]\n",
    "z_sol = [(best_spins[n * m + h] + 1) / 2 for h in range(l)]\n",
    "tau_sol = [(best_spins[n * m + l + j * l + h] + 1) / 2 for j in range(m) for h in range(l)]\n",
    "C_max = sum(2 ** h * z_sol[h] for h in range(l))\n",
    "print(f\"最大完工时间 (C_max): {C_max}\")\n",
    "print(f\"分配方案 (x_ij): {x_sol}\")\n",
    "\n",
    "# 验证分配约束\n",
    "x_matrix = np.array(x_sol).reshape(n, m)\n",
    "print(\"分配矩阵:\\n\", x_matrix)\n",
    "for i in range(n):\n",
    "    if abs(sum(x_matrix[i]) - 1) > 1e-5:\n",
    "        print(f\"警告：作业 {i + 1} 分配不满足约束，sum(x_{i}j) = {sum(x_matrix[i])}\")\n",
    "    else:\n",
    "        print(f\"作业 {i + 1} 分配满足约束\")\n",
    "\n",
    "# 验证机器完工时间\n",
    "for j in range(m):\n",
    "    T_j = sum(x_matrix[i, j] * P[i, j] for i in range(n))\n",
    "    print(f\"机器 {j + 1} 完工时间: {T_j}\")\n",
    "    if T_j > C_max + 1e-5:\n",
    "        print(f\"警告：机器 {j + 1} 完工时间 {T_j} 超过 C_max {C_max}\")"
   ],
   "id": "1c49541905bc431b",
   "outputs": [
    {
     "name": "stdout",
     "output_type": "stream",
     "text": [
      "最大完工时间 (C_max): 0.0\n",
      "分配方案 (x_ij): [0.0, 0.0, 0.0, 0.0, 0.0, 0.0, 0.0, 0.0, 0.0]\n",
      "分配矩阵:\n",
      " [[0. 0. 0.]\n",
      " [0. 0. 0.]\n",
      " [0. 0. 0.]]\n",
      "警告：作业 1 分配不满足约束，sum(x_0j) = 0.0\n",
      "警告：作业 2 分配不满足约束，sum(x_1j) = 0.0\n",
      "警告：作业 3 分配不满足约束，sum(x_2j) = 0.0\n",
      "机器 1 完工时间: 0.0\n",
      "机器 2 完工时间: 0.0\n",
      "机器 3 完工时间: 0.0\n"
     ]
    }
   ],
   "execution_count": 50
  },
  {
   "metadata": {},
   "cell_type": "code",
   "outputs": [],
   "execution_count": null,
   "source": "",
   "id": "3ba8fb71f4db64f9"
  }
 ],
 "metadata": {
  "kernelspec": {
   "display_name": "Python 3",
   "language": "python",
   "name": "python3"
  },
  "language_info": {
   "codemirror_mode": {
    "name": "ipython",
    "version": 2
   },
   "file_extension": ".py",
   "mimetype": "text/x-python",
   "name": "python",
   "nbconvert_exporter": "python",
   "pygments_lexer": "ipython2",
   "version": "2.7.6"
  }
 },
 "nbformat": 4,
 "nbformat_minor": 5
}
