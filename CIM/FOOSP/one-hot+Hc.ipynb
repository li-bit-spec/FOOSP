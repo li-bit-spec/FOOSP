{
 "cells": [
  {
   "cell_type": "code",
   "execution_count": 25,
   "id": "initial_id",
   "metadata": {
    "ExecuteTime": {
     "end_time": "2025-04-16T01:19:30.862734Z",
     "start_time": "2025-04-16T01:19:30.845726Z"
    },
    "collapsed": true
   },
   "outputs": [],
   "source": [
    "import numpy as np\n",
    "import pandas as pd\n",
    "\n",
    "# FOSSP 实例参数\n",
    "n, m = 2, 2  # 作业数，机器数\n",
    "l = 2  # 二进制位数\n",
    "P = np.array([[1, 2], [2, 1]])  # 加工时间矩阵\n",
    "K1, K2 = 100, 100  # 增大10倍  # 惩罚系数\n",
    "\n",
    "# 总变量数\n",
    "N = n * m + l + m * l  # 17 个自旋\n",
    "\n",
    "# 初始化 QUBO 矩阵\n",
    "Q = np.zeros((N, N))\n",
    "\n",
    "# 变量索引\n",
    "x_idx = [(i * m + j) for i in range(n) for j in range(m)]  # 0-8\n",
    "z_idx = [n * m + h for h in range(l)]  # 9-10\n",
    "tau_idx = [(n * m + l) + j * l + h for j in range(m) for h in range(l)]  # 11-16\n",
    "\n",
    "# 项 1：最小化 C_max\n",
    "for h in range(l):\n",
    "    Q[z_idx[h], z_idx[h]] += 2 ** h\n",
    "\n",
    "# 项 2：约束 sum_j x_ij = 1\n",
    "for i in range(n):\n",
    "    for j in range(m):\n",
    "        idx_j = x_idx[i * m + j]\n",
    "        Q[idx_j, idx_j] += -2 * K1  # 线性项\n",
    "        for k in range(j + 1, m):\n",
    "            idx_k = x_idx[i * m + k]\n",
    "            Q[idx_j, idx_k] += 2 * K1\n",
    "            Q[idx_k, idx_j] += 2 * K1\n",
    "\n",
    "# 项 3：机器完工时间约束\n",
    "for j in range(m):\n",
    "    # A_j^2 = (sum_i x_ij p_ij)^2\n",
    "    for i in range(n):\n",
    "        idx_i = x_idx[i * m + j]\n",
    "        Q[idx_i, idx_i] += K2 * P[i, j]**2  # x_ij^2\n",
    "        for k in range(i + 1, n):\n",
    "            idx_k = x_idx[k * m + j]\n",
    "            Q[idx_i, idx_k] += 2 * K2 * P[i, j] * P[k, j]\n",
    "            Q[idx_k, idx_i] += 2 * K2 * P[i, j] * P[k, j]\n",
    "    # B_j^2 = (sum_h 2^h (tau_jh - z_h))^2\n",
    "    for h in range(l):\n",
    "        tau_h = tau_idx[j * l + h]\n",
    "        z_h = z_idx[h]\n",
    "        Q[tau_h, tau_h] += K2 * (2**h)**2  # tau_jh^2\n",
    "        Q[z_h, z_h] += K2 * (2**h)**2  # z_h^2\n",
    "        Q[tau_h, z_h] += -2 * K2 * (2**h)**2  # -2 tau_jh z_h\n",
    "        Q[z_h, tau_h] += -2 * K2 * (2**h)**2  # 对称项\n",
    "        for k in range(l):\n",
    "            if h != k:\n",
    "                tau_k = tau_idx[j * l + k]\n",
    "                z_k = z_idx[k]\n",
    "                Q[tau_h, tau_k] += 2 * K2 * 2**h * 2**k\n",
    "                Q[tau_k, tau_h] += 2 * K2 * 2**h * 2**k\n",
    "                Q[z_h, z_k] += 2 * K2 * 2**h * 2**k\n",
    "                Q[z_k, z_h] += 2 * K2 * 2**h * 2**k\n",
    "                Q[tau_h, z_k] += -2 * K2 * 2**h * 2**k\n",
    "                Q[z_k, tau_h] += -2 * K2 * 2**h * 2**k\n",
    "    # 2 A_j B_j\n",
    "    for i in range(n):\n",
    "        idx_i = x_idx[i * m + j]\n",
    "        for h in range(l):\n",
    "            tau_h = tau_idx[j * l + h]\n",
    "            z_h = z_idx[h]\n",
    "            Q[idx_i, tau_h] += 2 * K2 * P[i, j] * 2**h\n",
    "            Q[tau_h, idx_i] += 2 * K2 * P[i, j] * 2**h\n",
    "            Q[idx_i, z_h] += -2 * K2 * P[i, j] * 2**h\n",
    "            Q[z_h, idx_i] += -2 * K2 * P[i, j] * 2**h"
   ]
  },
  {
   "cell_type": "code",
   "execution_count": 45,
   "id": "e3291641",
   "metadata": {},
   "outputs": [
    {
     "name": "stdout",
     "output_type": "stream",
     "text": [
      "Quantized Q (8-bit):\n",
      " [[ -8  16  32   0 -16 -32  16  32   0   0]\n",
      " [ 16  16   0  32 -32 -64   0   0  32  64]\n",
      " [ 32   0  16  16 -32 -64  32  64   0   0]\n",
      " [  0  32  16  -8 -16 -32   0   0  16  32]\n",
      " [-16 -32 -32 -16  16 127 -16 -32 -16 -32]\n",
      " [-32 -64 -64 -32 127  64 -32 -64 -32 -64]\n",
      " [ 16   0  32   0 -16 -32   8  64   0   0]\n",
      " [ 32   0  64   0 -32 -64  64  32   0   0]\n",
      " [  0  32   0  16 -16 -32   0   0   8  64]\n",
      " [  0  64   0  32 -32 -64   0   0  64  32]]\n",
      "Scale factor: 127.0\n"
     ]
    }
   ],
   "source": [
    "# 量化到 8-bit\n",
    "Q_max = np.max(np.abs(Q))\n",
    "scale = 127 / Q_max if Q_max > 0 else 1\n",
    "Q_quantized = np.round(Q * scale).astype(np.int8)\n",
    "print(\"Quantized Q (8-bit):\\n\", Q_quantized)\n",
    "print(\"Scale factor:\", scale)"
   ]
  },
  {
   "cell_type": "code",
   "execution_count": 26,
   "id": "635c83bd",
   "metadata": {},
   "outputs": [],
   "source": [
    "Q = Q / np.max(np.abs(Q))"
   ]
  },
  {
   "cell_type": "code",
   "execution_count": 47,
   "id": "50280ef7",
   "metadata": {},
   "outputs": [
    {
     "name": "stdout",
     "output_type": "stream",
     "text": [
      "J shape: (10, 10) Max |J|: 0.25\n",
      "h shape: (10,) Max |h|: 0.25\n"
     ]
    }
   ],
   "source": [
    "print(\"J shape:\", J.shape, \"Max |J|:\", np.max(np.abs(J)))\n",
    "print(\"h shape:\", h.shape, \"Max |h|:\", np.max(np.abs(h)))"
   ]
  },
  {
   "cell_type": "code",
   "execution_count": 30,
   "id": "85fa1349",
   "metadata": {},
   "outputs": [],
   "source": [
    "import numpy as np\n",
    "\n",
    "def qubo_to_ising(Q):\n",
    "    \"\"\"\n",
    "    Convert a QUBO matrix to an Ising model.\n",
    "    \n",
    "    Args:\n",
    "        Q (np.ndarray): Symmetric QUBO matrix (N x N), where x_i in {0,1}.\n",
    "    \n",
    "    Returns:\n",
    "        J (np.ndarray): Symmetric coupling matrix (N x N) for Ising model, s_i in {-1,1}.\n",
    "        h (np.ndarray): External field vector (N) for Ising model.\n",
    "    \"\"\"\n",
    "    # Input validation\n",
    "    if not isinstance(Q, np.ndarray) or Q.ndim != 2 or Q.shape[0] != Q.shape[1]:\n",
    "        raise ValueError(\"Q must be a square NumPy array\")\n",
    "    N = Q.shape[0]\n",
    "    if not np.allclose(Q, Q.T):\n",
    "        print(\"Warning: Q is not symmetric, symmetrizing Q\")\n",
    "        Q = (Q + Q.T) / 2\n",
    "\n",
    "    # Normalize Q to avoid numerical issues\n",
    "    Q_max = np.max(np.abs(Q))\n",
    "    if Q_max > 0:\n",
    "        Q = Q / Q_max\n",
    "\n",
    "    # Initialize Ising parameters\n",
    "    J = np.zeros((N, N))\n",
    "    h = np.zeros(N)\n",
    "\n",
    "    # Compute external field h\n",
    "    for i in range(N):\n",
    "        h[i] = Q[i, i] / 2 + (np.sum(Q[i, :]) - Q[i, i]) / 4\n",
    "\n",
    "    # Compute coupling matrix J (upper triangle)\n",
    "    for i in range(N):\n",
    "        for j in range(i + 1, N):\n",
    "            J[i, j] = Q[i, j] / 4\n",
    "\n",
    "    # Symmetrize J\n",
    "    J = J + J.T\n",
    "\n",
    "    # If Q was normalized, scale J and h back\n",
    "    if Q_max > 0:\n",
    "        J *= Q_max\n",
    "        h *= Q_max\n",
    "\n",
    "    return J, h\n",
    "\n",
    "# Example usage (assuming Q is from previous FOSSP QUBO)\n",
    "# Q = np.array([...])  # Your QUBO matrix\n",
    "# J, h = qubo_to_ising(Q)\n",
    "# print(\"Ising J matrix:\\n\", J)\n",
    "# print(\"Ising h vector:\\n\", h)"
   ]
  },
  {
   "cell_type": "code",
   "execution_count": 31,
   "id": "689d2118",
   "metadata": {},
   "outputs": [
    {
     "name": "stdout",
     "output_type": "stream",
     "text": [
      "J:\n",
      " [[ 0.       0.03125  0.0625   0.      -0.03125 -0.0625   0.03125  0.0625\n",
      "   0.       0.     ]\n",
      " [ 0.03125  0.       0.       0.0625  -0.0625  -0.125    0.       0.\n",
      "   0.0625   0.125  ]\n",
      " [ 0.0625   0.       0.       0.03125 -0.0625  -0.125    0.0625   0.125\n",
      "   0.       0.     ]\n",
      " [ 0.       0.0625   0.03125  0.      -0.03125 -0.0625   0.       0.\n",
      "   0.03125  0.0625 ]\n",
      " [-0.03125 -0.0625  -0.0625  -0.03125  0.       0.25    -0.03125 -0.0625\n",
      "  -0.03125 -0.0625 ]\n",
      " [-0.0625  -0.125   -0.125   -0.0625   0.25     0.      -0.0625  -0.125\n",
      "  -0.0625  -0.125  ]\n",
      " [ 0.03125  0.       0.0625   0.      -0.03125 -0.0625   0.       0.125\n",
      "   0.       0.     ]\n",
      " [ 0.0625   0.       0.125    0.      -0.0625  -0.125    0.125    0.\n",
      "   0.       0.     ]\n",
      " [ 0.       0.0625   0.       0.03125 -0.03125 -0.0625   0.       0.\n",
      "   0.       0.125  ]\n",
      " [ 0.       0.125    0.       0.0625  -0.0625  -0.125    0.       0.\n",
      "   0.125    0.     ]]\n",
      "h:\n",
      " [ 0.0625     0.15625    0.15625    0.0625    -0.0621875 -0.249375\n",
      "  0.15625    0.25       0.15625    0.25     ]\n"
     ]
    }
   ],
   "source": [
    "J, h = qubo_to_ising(Q)\n",
    "print(\"J:\\n\", J)\n",
    "print(\"h:\\n\", h)"
   ]
  },
  {
   "cell_type": "code",
   "execution_count": 27,
   "id": "682f5d82028584ad",
   "metadata": {
    "ExecuteTime": {
     "end_time": "2025-04-16T01:19:35.203786Z",
     "start_time": "2025-04-16T01:19:35.194780Z"
    }
   },
   "outputs": [],
   "source": [
    "# # 转换为伊辛模型\n",
    "# J = np.zeros((N, N))\n",
    "# h = np.zeros(N)\n",
    "# for i in range(N):\n",
    "#     h[i] = Q[i, i] / 2 + sum(Q[i, j] / 4 for j in range(N) if j != i)\n",
    "#     for j in range(i + 1, N):\n",
    "#         J[i, j] = Q[i, j] / 4\n",
    "# J = J + J.T"
   ]
  },
  {
   "cell_type": "code",
   "execution_count": 49,
   "id": "ba702bb00bb67d06",
   "metadata": {
    "ExecuteTime": {
     "end_time": "2025-04-16T01:19:36.073288Z",
     "start_time": "2025-04-16T01:19:36.057312Z"
    }
   },
   "outputs": [
    {
     "name": "stdout",
     "output_type": "stream",
     "text": [
      "QUBO 矩阵形状: (10, 10)\n",
      "QUBO 矩阵是否对称: True\n",
      "QUBO 矩阵非零元素数: 72\n",
      "QUBO 矩阵前 5 行 5 列:\n",
      " [[-0.0625    0.125     0.25      0.       -0.125   ]\n",
      " [ 0.125     0.125     0.        0.25     -0.25    ]\n",
      " [ 0.25      0.        0.125     0.125    -0.25    ]\n",
      " [ 0.        0.25      0.125    -0.0625   -0.125   ]\n",
      " [-0.125    -0.25     -0.25     -0.125     0.125625]]\n",
      "标准 QUBO 矩阵已保存为 qubo_matrix_corrected.csv\n"
     ]
    }
   ],
   "source": [
    "# 验证 QUBO 矩阵\n",
    "print(f\"QUBO 矩阵形状: {Q.shape}\")\n",
    "print(f\"QUBO 矩阵是否对称: {np.allclose(Q, Q.T)}\")\n",
    "print(f\"QUBO 矩阵非零元素数: {np.count_nonzero(Q)}\")\n",
    "print(\"QUBO 矩阵前 5 行 5 列:\\n\", Q[:5, :5])\n",
    "\n",
    "# 保存 QUBO 矩阵到 CSV\n",
    "# labels = [f\"x_{i + 1}{j + 1}\" for i in range(n) for j in range(m)] + \\\n",
    "#          [f\"z_{h}\" for h in range(l)] + \\\n",
    "#          [f\"tau_{j + 1}{h}\" for j in range(m) for h in range(l)]\n",
    "labels = [f\"x_{i + 1}{j + 1}\" for i in range(n) for j in range(m)] + \\\n",
    "         [f\"z_{h}\" for h in range(l)] + \\\n",
    "         [f\"tau_{j + 1}{h}\" for j in range(m) for h in range(l)]\n",
    "# Q_df = pd.DataFrame(Q, index=labels, columns=labels)\n",
    "Q_df = pd.DataFrame(Q_quantized)\n",
    "Q_df.to_csv(\"qubo_matrix_corrected.csv\", index=False, header=False)\n",
    "# Q_df.to_csv(\"qubo_matrix_corrected.csv\")\n",
    "print(\"标准 QUBO 矩阵已保存为 qubo_matrix_corrected.csv\")"
   ]
  },
  {
   "cell_type": "code",
   "execution_count": 41,
   "id": "2ffdfd3356dbde9e",
   "metadata": {
    "ExecuteTime": {
     "end_time": "2025-04-16T01:27:26.622669Z",
     "start_time": "2025-04-16T01:20:43.232507Z"
    }
   },
   "outputs": [
    {
     "name": "stdout",
     "output_type": "stream",
     "text": [
      "External Field Detected\n",
      "Best combination of epsilon, lambda, and scaling constant: epsilon = 0.333; lambda = 0.1; scaling constant = 100.0\n",
      "Target Ising Energy: -inf.\n",
      "Best Ising Energy Found: -3.2490625.\n",
      "Corresponding Spin Configuration: [-1.  1.  1.  1. -1. -1.  1.  1.  1.  1.].\n",
      "Time Elapsed: 121.17846179008484.\n",
      "Number of Runs Completed: 20.\n"
     ]
    }
   ],
   "source": [
    "from cim_optimizer.solve_Ising import Ising\n",
    "# 使用 CIM 求解\n",
    "test = Ising(J, h).solve(\n",
    "    use_GPU=True,\n",
    "    num_runs=20,\n",
    "    num_timesteps_per_run=2000,\n",
    "    cac_time_step=0.01,\n",
    "    cac_r=-0.5,\n",
    "    cac_alpha=0.8,\n",
    "    cac_beta=0.3,\n",
    "    cac_gamma=0.01,\n",
    "    cac_delta=15,\n",
    "    cac_mu=0.9,\n",
    "    cac_rho=1.5,\n",
    "    cac_tau=100,\n",
    "    return_spin_trajectories_all_runs=True,\n",
    "    hyperparameters_randomtune=True\n",
    ")\n",
    "# # 使用 CIM 求解\n",
    "# test = Ising(J, h).solve(\n",
    "#     use_GPU=True,\n",
    "#     num_runs=50,  # 增加运行次数\n",
    "#     num_timesteps_per_run=5000,  # 增加时间步\n",
    "#     cac_time_step=0.02,  # 减小步长\n",
    "#     cac_r=-0.5,  # 调整反馈强度\n",
    "#     cac_alpha=0.8,\n",
    "#     cac_beta=0.3,\n",
    "#     cac_gamma=0.005,\n",
    "#     cac_delta=15,\n",
    "#     cac_mu=0.9,\n",
    "#     cac_rho=1.5,\n",
    "#     cac_tau=200,\n",
    "#     return_spin_trajectories_all_runs=True,\n",
    "#     hyperparameters_randomtune=False\n",
    "# )"
   ]
  },
  {
   "cell_type": "code",
   "execution_count": 37,
   "id": "f6dfe9ca0488bafb",
   "metadata": {
    "ExecuteTime": {
     "end_time": "2025-04-16T01:27:54.001899Z",
     "start_time": "2025-04-16T01:27:52.909256Z"
    }
   },
   "outputs": [
    {
     "name": "stdout",
     "output_type": "stream",
     "text": [
      "The spin configuration in the ground state is [-1 -1 -1 -1  1  1 -1 -1 -1 -1]\n",
      "The ground energy is -2.375\n"
     ]
    }
   ],
   "source": [
    "from cim_optimizer.CIM_helper import brute_force\n",
    "\n",
    "spins_ground, E_ground = brute_force(J)\n",
    "print(\"The spin configuration in the ground state is {}\".format(spins_ground))\n",
    "print(\"The ground energy is {}\".format(E_ground))"
   ]
  },
  {
   "cell_type": "code",
   "execution_count": 39,
   "id": "6f6623dca23a9a24",
   "metadata": {
    "ExecuteTime": {
     "end_time": "2025-04-16T01:28:23.735693Z",
     "start_time": "2025-04-16T01:28:23.716812Z"
    }
   },
   "outputs": [
    {
     "name": "stdout",
     "output_type": "stream",
     "text": [
      "test.result 属性: ['energies', 'energy_evolution', 'lowest_energy', 'lowest_energy_spin_config', 'result_data', 'spin_config_all_runs', 'spin_trajectories', 'time']\n",
      "最佳能量: -3.2490625\n",
      "最佳自旋配置: [-1.  1.  1.  1. -1. -1.  1.  1.  1.  1.]\n"
     ]
    }
   ],
   "source": [
    "# 调试：检查结果属性\n",
    "print(\"test.result 属性:\", [attr for attr in dir(test.result) if not attr.startswith('_')])\n",
    "\n",
    "# 提取最低能量\n",
    "best_energy = test.result.lowest_energy\n",
    "print(f\"最佳能量: {best_energy}\")\n",
    "# best_spins = spins_ground\n",
    "best_spins = test.result.lowest_energy_spin_config\n",
    "# best_spins = [1,  -1,  -1,  -1,  1,  -1,  -1,  -1, 1,  -1. -1,  1,  1,  1,  1,  1, -1,1]\n",
    "print(f\"最佳自旋配置: {best_spins}\")\n",
    "\n",
    "# 验证自旋长度\n",
    "if len(best_spins) != N:\n",
    "    print(f\"错误：自旋长度 {len(best_spins)} 不等于预期 {N}\")\n",
    "    raise ValueError(\"自旋配置无效\")"
   ]
  },
  {
   "cell_type": "code",
   "execution_count": 40,
   "id": "1c49541905bc431b",
   "metadata": {
    "ExecuteTime": {
     "end_time": "2025-04-16T01:28:32.276677Z",
     "start_time": "2025-04-16T01:28:32.258665Z"
    }
   },
   "outputs": [
    {
     "name": "stdout",
     "output_type": "stream",
     "text": [
      "最大完工时间 (C_max): 0.0\n",
      "分配方案 (x_ij): [0.0, 1.0, 1.0, 1.0]\n",
      "分配矩阵:\n",
      " [[0. 1.]\n",
      " [1. 1.]]\n",
      "作业 1 分配满足约束\n",
      "警告：作业 2 分配不满足约束，sum(x_1j) = 2.0\n",
      "机器 1 完工时间: 2.0\n",
      "警告：机器 1 完工时间 2.0 超过 C_max 0.0\n",
      "机器 2 完工时间: 3.0\n",
      "警告：机器 2 完工时间 3.0 超过 C_max 0.0\n"
     ]
    }
   ],
   "source": [
    "# 解码解\n",
    "# \n",
    "x_sol = [(best_spins[i] + 1) / 2 for i in range(n * m)]\n",
    "z_sol = [(best_spins[n * m + h] + 1) / 2 for h in range(l)]\n",
    "tau_sol = [(best_spins[n * m + l + j * l + h] + 1) / 2 for j in range(m) for h in range(l)]\n",
    "C_max = sum(2 ** h * z_sol[h] for h in range(l))\n",
    "print(f\"最大完工时间 (C_max): {C_max}\")\n",
    "print(f\"分配方案 (x_ij): {x_sol}\")\n",
    "\n",
    "# 验证分配约束\n",
    "x_matrix = np.array(x_sol).reshape(n, m)\n",
    "print(\"分配矩阵:\\n\", x_matrix)\n",
    "for i in range(n):\n",
    "    if abs(sum(x_matrix[i]) - 1) > 1e-5:\n",
    "        print(f\"警告：作业 {i + 1} 分配不满足约束，sum(x_{i}j) = {sum(x_matrix[i])}\")\n",
    "    else:\n",
    "        print(f\"作业 {i + 1} 分配满足约束\")\n",
    "\n",
    "# 验证机器完工时间\n",
    "for j in range(m):\n",
    "    T_j = sum(x_matrix[i, j] * P[i, j] for i in range(n))\n",
    "    print(f\"机器 {j + 1} 完工时间: {T_j}\")\n",
    "    if T_j > C_max + 1e-5:\n",
    "        print(f\"警告：机器 {j + 1} 完工时间 {T_j} 超过 C_max {C_max}\")"
   ]
  }
 ],
 "metadata": {
  "kernelspec": {
   "display_name": "FOOSP",
   "language": "python",
   "name": "python3"
  },
  "language_info": {
   "codemirror_mode": {
    "name": "ipython",
    "version": 3
   },
   "file_extension": ".py",
   "mimetype": "text/x-python",
   "name": "python",
   "nbconvert_exporter": "python",
   "pygments_lexer": "ipython3",
   "version": "3.8.20"
  }
 },
 "nbformat": 4,
 "nbformat_minor": 5
}
