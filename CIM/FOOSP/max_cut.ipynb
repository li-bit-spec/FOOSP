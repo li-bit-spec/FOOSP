{
 "cells": [
  {
   "cell_type": "code",
   "id": "initial_id",
   "metadata": {
    "collapsed": true,
    "ExecuteTime": {
     "end_time": "2025-04-16T02:03:12.143173Z",
     "start_time": "2025-04-16T02:03:01.223308Z"
    }
   },
   "source": [
    "import numpy as np\n",
    "import pandas as pd\n",
    "import networkx as nx\n",
    "import matplotlib.pyplot as plt\n",
    "from cim_optimizer.solve_Ising import Ising\n",
    "\n",
    "# 1. 生成 MAX-CUT 图\n",
    "n_nodes = 5  # 节点数\n",
    "np.random.seed(42)  # 固定随机种子\n",
    "G = nx.Graph()\n",
    "G.add_nodes_from(range(n_nodes))\n",
    "\n",
    "# 随机生成边（约 50% 概率）\n",
    "for i in range(n_nodes):\n",
    "    for j in range(i + 1, n_nodes):\n",
    "        if np.random.rand() > 0.5:\n",
    "            G.add_edge(i, j, weight=1.0)  # 边权重为 1\n",
    "\n",
    "# 绘制图\n",
    "pos = nx.spring_layout(G)\n",
    "nx.draw(G, pos, with_labels=True, node_color='lightblue', node_size=500, font_size=16)\n",
    "nx.draw_networkx_edge_labels(G, pos, edge_labels={(u, v): f\"{d['weight']}\" for u, v, d in G.edges(data=True)})\n",
    "plt.savefig(\"max_cut_graph.png\")\n",
    "plt.close()\n",
    "print(\"图已生成并保存为 max_cut_graph.png\")\n",
    "print(\"边:\", list(G.edges()))\n"
   ],
   "outputs": [
    {
     "name": "stdout",
     "output_type": "stream",
     "text": [
      "图已生成并保存为 max_cut_graph.png\n",
      "边: [(0, 2), (0, 3), (0, 4), (2, 3), (2, 4), (3, 4)]\n"
     ]
    }
   ],
   "execution_count": 1
  },
  {
   "metadata": {
    "ExecuteTime": {
     "end_time": "2025-04-16T02:03:50.460095Z",
     "start_time": "2025-04-16T02:03:50.437094Z"
    }
   },
   "cell_type": "code",
   "source": [
    "\n",
    "# 2. 构建 QUBO 矩阵\n",
    "N = n_nodes  # 变量数 = 节点数\n",
    "Q = np.zeros((N, N))\n",
    "\n",
    "# MAX-CUT QUBO 公式：min sum_{(i,j) in E} (x_i + x_j - 2 x_i x_j)\n",
    "for i, j in G.edges():\n",
    "    Q[i, i] += 1  # x_i 项\n",
    "    Q[j, j] += 1  # x_j 项\n",
    "    Q[i, j] += -2  # -2 x_i x_j\n",
    "    Q[j, i] += -2  # 对称\n",
    "\n",
    "# 验证 QUBO 矩阵\n",
    "print(f\"QUBO 矩阵形状: {Q.shape}\")\n",
    "print(f\"QUBO 矩阵是否对称: {np.allclose(Q, Q.T)}\")\n",
    "print(\"QUBO 矩阵:\\n\", Q)\n",
    "\n",
    "# 保存 QUBO 矩阵到 CSV\n",
    "labels = [f\"v_{i}\" for i in range(n_nodes)]\n",
    "Q_df = pd.DataFrame(Q, index=labels, columns=labels)\n",
    "Q_df.to_csv(\"max_cut_qubo.csv\")\n",
    "print(\"QUBO 矩阵已保存为 max_cut_qubo.csv\")"
   ],
   "id": "fa6fd6851770b58e",
   "outputs": [
    {
     "name": "stdout",
     "output_type": "stream",
     "text": [
      "QUBO 矩阵形状: (5, 5)\n",
      "QUBO 矩阵是否对称: True\n",
      "QUBO 矩阵:\n",
      " [[ 3.  0. -2. -2. -2.]\n",
      " [ 0.  0.  0.  0.  0.]\n",
      " [-2.  0.  3. -2. -2.]\n",
      " [-2.  0. -2.  3. -2.]\n",
      " [-2.  0. -2. -2.  3.]]\n",
      "QUBO 矩阵已保存为 max_cut_qubo.csv\n"
     ]
    }
   ],
   "execution_count": 3
  },
  {
   "metadata": {
    "ExecuteTime": {
     "end_time": "2025-04-16T02:03:54.957040Z",
     "start_time": "2025-04-16T02:03:54.951039Z"
    }
   },
   "cell_type": "code",
   "source": [
    "# 3. 转换为伊辛模型\n",
    "J = np.zeros((N, N))\n",
    "h = np.zeros(N)\n",
    "for i in range(N):\n",
    "    h[i] = Q[i, i] / 4 + sum(Q[i, j] / 4 for j in range(N) if j != i)\n",
    "    for j in range(i + 1, N):\n",
    "        J[i, j] = Q[i, j] / 4\n",
    "J = J + J.T\n",
    "h += np.sum(Q, axis=1) / 4\n"
   ],
   "id": "c3a8ee07284d1933",
   "outputs": [],
   "execution_count": 4
  },
  {
   "metadata": {
    "ExecuteTime": {
     "end_time": "2025-04-16T02:07:32.191224Z",
     "start_time": "2025-04-16T02:05:07.700909Z"
    }
   },
   "cell_type": "code",
   "source": [
    "# 4. 使用 CIM 求解\n",
    "try:\n",
    "    test = Ising(J, h).solve(\n",
    "        num_runs=50,\n",
    "        num_timesteps_per_run=5000,\n",
    "        cac_time_step=0.02,\n",
    "        cac_r=-0.5,\n",
    "        cac_alpha=0.8,\n",
    "        cac_beta=0.3,\n",
    "        cac_gamma=0.005,\n",
    "        cac_delta=15,\n",
    "        cac_mu=0.9,\n",
    "        cac_rho=1.5,\n",
    "        cac_tau=200,\n",
    "        return_spin_trajectories_all_runs=True,\n",
    "        hyperparameters_randomtune=False\n",
    "    )\n",
    "\n",
    "    # 提取结果\n",
    "    print(\"test.result 属性:\", [attr for attr in dir(test.result) if not attr.startswith('_')])\n",
    "    best_energy = test.result.lowest_energy\n",
    "    print(f\"最佳能量: {best_energy}\")\n",
    "    best_spins = test.result.lowest_energy_spin_config\n",
    "\n",
    "    # 转换为 QUBO 变量（0,1）\n",
    "    x_sol = [(best_spins[i] + 1) / 2 for i in range(N)]\n",
    "    print(f\"切割分配: {x_sol}\")\n",
    "\n",
    "    # 计算切割值\n",
    "    cut_value = 0\n",
    "    for i, j in G.edges():\n",
    "        if x_sol[i] != x_sol[j]:\n",
    "            cut_value += 1  # 边权重为 1\n",
    "    print(f\"切割值（跨组边数）: {cut_value}\")\n",
    "\n",
    "    # 验证切割\n",
    "    set_0 = [i for i, x in enumerate(x_sol) if x == 0]\n",
    "    set_1 = [i for i, x in enumerate(x_sol) if x == 1]\n",
    "    print(f\"集合 S: {set_0}\")\n",
    "    print(f\"集合 T: {set_1}\")\n",
    "\n",
    "    # 可视化切割结果\n",
    "    node_colors = ['red' if x_sol[i] == 0 else 'green' for i in range(n_nodes)]\n",
    "    nx.draw(G, pos, with_labels=True, node_color=node_colors, node_size=500, font_size=16)\n",
    "    nx.draw_networkx_edge_labels(G, pos, edge_labels={(u, v): f\"{d['weight']}\" for u, v, d in G.edges(data=True)})\n",
    "    plt.savefig(\"max_cut_solution.png\")\n",
    "    plt.close()\n",
    "    print(\"切割结果已保存为 max_cut_solution.png\")\n",
    "\n",
    "except Exception as e:\n",
    "    print(f\"CIM 求解失败: {e}\")"
   ],
   "id": "7fb3d4d56e9d36fc",
   "outputs": [
    {
     "name": "stdout",
     "output_type": "stream",
     "text": [
      "External Field Detected\n",
      "Target Ising Energy: -inf.\n",
      "Best Ising Energy Found: -3.0.\n",
      "Corresponding Spin Configuration: [-1. -1. -1. -1. -1.].\n",
      "Time Elapsed: 144.41263580322266.\n",
      "Number of Runs Completed: 50.\n",
      "test.result 属性: ['energies', 'energy_evolution', 'lowest_energy', 'lowest_energy_spin_config', 'result_data', 'spin_config_all_runs', 'spin_trajectories', 'time']\n",
      "最佳能量: -3.0\n",
      "切割分配: [0.0, 0.0, 0.0, 0.0, 0.0]\n",
      "切割值（跨组边数）: 0\n",
      "集合 S: [0, 1, 2, 3, 4]\n",
      "集合 T: []\n",
      "切割结果已保存为 max_cut_solution.png\n"
     ]
    }
   ],
   "execution_count": 5
  }
 ],
 "metadata": {
  "kernelspec": {
   "display_name": "Python 3",
   "language": "python",
   "name": "python3"
  },
  "language_info": {
   "codemirror_mode": {
    "name": "ipython",
    "version": 2
   },
   "file_extension": ".py",
   "mimetype": "text/x-python",
   "name": "python",
   "nbconvert_exporter": "python",
   "pygments_lexer": "ipython2",
   "version": "2.7.6"
  }
 },
 "nbformat": 4,
 "nbformat_minor": 5
}
