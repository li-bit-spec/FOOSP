{
 "cells": [
  {
   "cell_type": "code",
   "id": "initial_id",
   "metadata": {
    "collapsed": true,
    "ExecuteTime": {
     "end_time": "2025-04-25T02:52:45.358608Z",
     "start_time": "2025-04-25T02:52:42.046710Z"
    }
   },
   "source": [
    "import numpy as np\n",
    "import pandas as pd\n",
    "import kaiwu as kw\n",
    "\n",
    "# FOSSP 实例参数\n",
    "n, m = 3, 3  # 作业数，机器数\n",
    "l = 2  # 二进制位数\n",
    "P = np.array([[1, 3, 3], [3, 1, 3], [3, 3, 1]])  # 加工时间矩阵\n",
    "K1, K2 = 10000, 10000  # 惩罚系数\n",
    "# 启用详细日志输出\n",
    "# kw.utils.set_log_level(\"INFO\")\n",
    "# 总变量数\n",
    "N = n * m + l + m * l  # 17 个自旋\n",
    "\n",
    "# 初始化 QUBO 矩阵\n",
    "Q = np.zeros((N, N))\n",
    "\n",
    "# 项 1：最小化 C_max\n",
    "for h in range(l):\n",
    "    k = n * m + h\n",
    "    Q[k, k] += 2 ** h\n",
    "\n",
    "# 项 2：约束 sum_j x_ij = 1\n",
    "for i in range(n):\n",
    "    for j in range(m):\n",
    "        idx_j = i * m + j\n",
    "        Q[idx_j, idx_j] += -K1\n",
    "        for k in range(j + 1, m):\n",
    "            idx_k = i * m + k\n",
    "            Q[idx_j, idx_k] += K1\n",
    "            Q[idx_k, idx_j] += K1\n",
    "# 项 3：机器完工时间约束\n",
    "for j in range(m):\n",
    "    x_indices = [i * m + j for i in range(n)]\n",
    "    tau_start = n * m + l\n",
    "    tau_indices = [tau_start + j * l + h for h in range(l)]\n",
    "    z_indices = [n * m + h for h in range(l)]\n",
    "    V_j = x_indices + tau_indices + z_indices\n",
    "    c = {}\n",
    "    for idx in x_indices:\n",
    "        i = idx // m\n",
    "        c[idx] = P[i, j]\n",
    "    for h in range(l):\n",
    "        idx_tau = tau_indices[h]\n",
    "        c[idx_tau] = 2 ** h\n",
    "        idx_z = z_indices[h]\n",
    "        c[idx_z] = -2 ** h\n",
    "    for v_a in V_j:\n",
    "        Q[v_a, v_a] += K2 * c[v_a] ** 2\n",
    "    for a in range(len(V_j)):\n",
    "        for b in range(a + 1, len(V_j)):\n",
    "            v_a = V_j[a]\n",
    "            v_b = V_j[b]\n",
    "            coeff = K2 * c[v_a] * c[v_b]\n",
    "            Q[v_a, v_b] += coeff\n",
    "            Q[v_b, v_a] += coeff"
   ],
   "outputs": [],
   "execution_count": 1
  },
  {
   "metadata": {
    "ExecuteTime": {
     "end_time": "2025-04-22T10:27:23.057717Z",
     "start_time": "2025-04-22T10:27:23.039698Z"
    }
   },
   "cell_type": "code",
   "source": [
    "# 验证 QUBO 矩阵\n",
    "print(f\"QUBO 矩阵形状: {Q.shape}\")\n",
    "print(f\"QUBO 矩阵是否对称: {np.allclose(Q, Q.T)}\")\n",
    "print(f\"QUBO 矩阵非零元素数: {np.count_nonzero(Q)}\")"
   ],
   "id": "cc80ac309d32d1c7",
   "outputs": [
    {
     "name": "stdout",
     "output_type": "stream",
     "text": [
      "QUBO 矩阵形状: (17, 17)\n",
      "QUBO 矩阵是否对称: True\n",
      "QUBO 矩阵非零元素数: 154\n"
     ]
    }
   ],
   "execution_count": 3
  },
  {
   "metadata": {
    "ExecuteTime": {
     "end_time": "2025-04-22T10:27:26.703004Z",
     "start_time": "2025-04-22T10:27:26.691005Z"
    }
   },
   "cell_type": "code",
   "source": [
    "# 保存 QUBO 矩阵\n",
    "labels = [f\"x_{i + 1}{j + 1}\" for i in range(n) for j in range(m)] + \\\n",
    "         [f\"z_{h}\" for h in range(l)] + \\\n",
    "         [f\"tau_{j + 1}{h}\" for j in range(m) for h in range(l)]\n",
    "Q_df = pd.DataFrame(Q, index=labels, columns=labels)\n",
    "Q_df.to_csv(\"fossp_qubo.csv\")\n",
    "print(\"QUBO 矩阵已保存为 fossp_qubo.csv\")"
   ],
   "id": "9034f54dbb7b0c9a",
   "outputs": [
    {
     "name": "stdout",
     "output_type": "stream",
     "text": [
      "QUBO 矩阵已保存为 fossp_qubo.csv\n"
     ]
    }
   ],
   "execution_count": 4
  },
  {
   "metadata": {
    "ExecuteTime": {
     "end_time": "2025-04-22T10:27:29.661776Z",
     "start_time": "2025-04-22T10:27:29.643264Z"
    }
   },
   "cell_type": "code",
   "source": [
    "# 转换为 Ising 模型\n",
    "R = np.sum(Q, axis=1)\n",
    "h = -R / 2\n",
    "J_temp = np.triu(-Q / 4, k=1)\n",
    "J = J_temp + J_temp.T\n",
    "print(J)"
   ],
   "id": "7d11db4cce46e5cf",
   "outputs": [
    {
     "name": "stdout",
     "output_type": "stream",
     "text": [
      "[[     0.  -2500.  -2500.  -7500.      0.      0.  -7500.      0.      0.\n",
      "    2500.   5000.  -2500.  -5000.      0.      0.      0.      0.]\n",
      " [ -2500.      0.  -2500.      0.  -7500.      0.      0. -22500.      0.\n",
      "    7500.  15000.      0.      0.  -7500. -15000.      0.      0.]\n",
      " [ -2500.  -2500.      0.      0.      0. -22500.      0.      0.  -7500.\n",
      "    7500.  15000.      0.      0.      0.      0.  -7500. -15000.]\n",
      " [ -7500.      0.      0.      0.  -2500.  -2500. -22500.      0.      0.\n",
      "    7500.  15000.  -7500. -15000.      0.      0.      0.      0.]\n",
      " [     0.  -7500.      0.  -2500.      0.  -2500.      0.  -7500.      0.\n",
      "    2500.   5000.      0.      0.  -2500.  -5000.      0.      0.]\n",
      " [     0.      0. -22500.  -2500.  -2500.      0.      0.      0.  -7500.\n",
      "    7500.  15000.      0.      0.      0.      0.  -7500. -15000.]\n",
      " [ -7500.      0.      0. -22500.      0.      0.      0.  -2500.  -2500.\n",
      "    7500.  15000.  -7500. -15000.      0.      0.      0.      0.]\n",
      " [     0. -22500.      0.      0.  -7500.      0.  -2500.      0.  -2500.\n",
      "    7500.  15000.      0.      0.  -7500. -15000.      0.      0.]\n",
      " [     0.      0.  -7500.      0.      0.  -7500.  -2500.  -2500.      0.\n",
      "    2500.   5000.      0.      0.      0.      0.  -2500.  -5000.]\n",
      " [  2500.   7500.   7500.   7500.   2500.   7500.   7500.   7500.   2500.\n",
      "       0. -15000.   2500.   5000.   2500.   5000.   2500.   5000.]\n",
      " [  5000.  15000.  15000.  15000.   5000.  15000.  15000.  15000.   5000.\n",
      "  -15000.      0.   5000.  10000.   5000.  10000.   5000.  10000.]\n",
      " [ -2500.      0.      0.  -7500.      0.      0.  -7500.      0.      0.\n",
      "    2500.   5000.      0.  -5000.      0.      0.      0.      0.]\n",
      " [ -5000.      0.      0. -15000.      0.      0. -15000.      0.      0.\n",
      "    5000.  10000.  -5000.      0.      0.      0.      0.      0.]\n",
      " [     0.  -7500.      0.      0.  -2500.      0.      0.  -7500.      0.\n",
      "    2500.   5000.      0.      0.      0.  -5000.      0.      0.]\n",
      " [     0. -15000.      0.      0.  -5000.      0.      0. -15000.      0.\n",
      "    5000.  10000.      0.      0.  -5000.      0.      0.      0.]\n",
      " [     0.      0.  -7500.      0.      0.  -7500.      0.      0.  -2500.\n",
      "    2500.   5000.      0.      0.      0.      0.      0.  -5000.]\n",
      " [     0.      0. -15000.      0.      0. -15000.      0.      0.  -5000.\n",
      "    5000.  10000.      0.      0.      0.      0.  -5000.      0.]]\n"
     ]
    }
   ],
   "execution_count": 5
  },
  {
   "metadata": {
    "ExecuteTime": {
     "end_time": "2025-04-22T10:27:32.774853Z",
     "start_time": "2025-04-22T10:27:32.765818Z"
    }
   },
   "cell_type": "code",
   "source": [
    "# 验证 Ising 参数\n",
    "print(f\"J 矩阵形状: {J.shape}\")\n",
    "print(f\"h 向量长度: {len(h)}\")"
   ],
   "id": "3697f3787998e93f",
   "outputs": [
    {
     "name": "stdout",
     "output_type": "stream",
     "text": [
      "J 矩阵形状: (17, 17)\n",
      "h 向量长度: 17\n"
     ]
    }
   ],
   "execution_count": 6
  },
  {
   "metadata": {
    "ExecuteTime": {
     "end_time": "2025-04-22T10:28:11.886594Z",
     "start_time": "2025-04-22T10:28:11.878594Z"
    }
   },
   "cell_type": "code",
   "source": [
    "# 创建基础优化器（模拟退火）\n",
    "base_optimizer = kw.classical.SimulatedAnnealingOptimizer(\n",
    "    initial_temperature=100,\n",
    "    alpha=0.99,\n",
    "    cutoff_temperature=0.001,\n",
    "    iterations_per_t=10,\n",
    "    size_limit=5\n",
    ")"
   ],
   "id": "360d6e10d7f0a08a",
   "outputs": [],
   "execution_count": 7
  },
  {
   "metadata": {
    "ExecuteTime": {
     "end_time": "2025-04-23T01:31:05.681644Z",
     "start_time": "2025-04-23T01:31:05.672643Z"
    }
   },
   "cell_type": "code",
   "source": [
    "Q1 = kw.preprocess.adjust_ising_matrix_precision(Q)\n",
    "print(Q1)\n",
    "Q2 = pd.DataFrame(Q1, index=labels, columns=labels)\n",
    "Q2.to_csv(\"fossp_qubo_q2.csv\")\n",
    "print(\"QUBO 矩阵已保存为 fossp_qubo.csv\")"
   ],
   "id": "ace6fad068eda00b",
   "outputs": [
    {
     "name": "stdout",
     "output_type": "stream",
     "text": [
      "[[  0  11  11  32   0   0  32   0   0 -11 -21  11  21   0   0   0   0]\n",
      " [ 11  85  11   0  32   0   0  95   0 -32 -63   0   0  32  63   0   0]\n",
      " [ 11  11  85   0   0  95   0   0  32 -32 -63   0   0   0   0  32  63]\n",
      " [ 32   0   0  85  11  11  95   0   0 -32 -63  32  63   0   0   0   0]\n",
      " [  0  32   0  11   0  11   0  32   0 -11 -21   0   0  11  21   0   0]\n",
      " [  0   0  95  11  11  85   0   0  32 -32 -63   0   0   0   0  32  63]\n",
      " [ 32   0   0  95   0   0  85  11  11 -32 -63  32  63   0   0   0   0]\n",
      " [  0  95   0   0  32   0  11  85  11 -32 -63   0   0  32  63   0   0]\n",
      " [  0   0  32   0   0  32  11  11   0 -11 -21   0   0   0   0  11  21]\n",
      " [-11 -32 -32 -32 -11 -32 -32 -32 -11  32  63 -11 -21 -11 -21 -11 -21]\n",
      " [-21 -63 -63 -63 -21 -63 -63 -63 -21  63 127 -21 -42 -21 -42 -21 -42]\n",
      " [ 11   0   0  32   0   0  32   0   0 -11 -21  11  21   0   0   0   0]\n",
      " [ 21   0   0  63   0   0  63   0   0 -21 -42  21  42   0   0   0   0]\n",
      " [  0  32   0   0  11   0   0  32   0 -11 -21   0   0  11  21   0   0]\n",
      " [  0  63   0   0  21   0   0  63   0 -21 -42   0   0  21  42   0   0]\n",
      " [  0   0  32   0   0  32   0   0  11 -11 -21   0   0   0   0  11  21]\n",
      " [  0   0  63   0   0  63   0   0  21 -21 -42   0   0   0   0  21  42]]\n",
      "QUBO 矩阵已保存为 fossp_qubo.csv\n"
     ]
    }
   ],
   "execution_count": 12
  },
  {
   "metadata": {
    "ExecuteTime": {
     "end_time": "2025-04-22T10:28:44.683990Z",
     "start_time": "2025-04-22T10:28:44.657317Z"
    }
   },
   "cell_type": "code",
   "source": [
    "# 添加精度降级装饰器（目标精度8位）\n",
    "precision_optimizer = kw.preprocess.adjust_ising_matrix_precision(base_optimizer, precision=8)\n",
    "kw.preprocess.perform_precision_adaption_mutate()\n",
    "# 执行求解\n",
    "solution = precision_optimizer.solve(J)"
   ],
   "id": "d94da2b06aa19798",
   "outputs": [
    {
     "ename": "AttributeError",
     "evalue": "module 'kaiwu.preprocess' has no attribute 'PrecisionReducer'",
     "output_type": "error",
     "traceback": [
      "\u001B[1;31m---------------------------------------------------------------------------\u001B[0m",
      "\u001B[1;31mAttributeError\u001B[0m                            Traceback (most recent call last)",
      "Cell \u001B[1;32mIn[8], line 2\u001B[0m\n\u001B[0;32m      1\u001B[0m \u001B[38;5;66;03m# 添加精度降级装饰器（目标精度8位）\u001B[39;00m\n\u001B[1;32m----> 2\u001B[0m precision_optimizer \u001B[38;5;241m=\u001B[39m \u001B[43mkw\u001B[49m\u001B[38;5;241;43m.\u001B[39;49m\u001B[43mpreprocess\u001B[49m\u001B[38;5;241;43m.\u001B[39;49m\u001B[43mPrecisionReducer\u001B[49m(base_optimizer, precision\u001B[38;5;241m=\u001B[39m\u001B[38;5;241m8\u001B[39m)\n\u001B[0;32m      4\u001B[0m \u001B[38;5;66;03m# 执行求解\u001B[39;00m\n\u001B[0;32m      5\u001B[0m solution \u001B[38;5;241m=\u001B[39m precision_optimizer\u001B[38;5;241m.\u001B[39msolve(J)\n",
      "\u001B[1;31mAttributeError\u001B[0m: module 'kaiwu.preprocess' has no attribute 'PrecisionReducer'"
     ]
    }
   ],
   "execution_count": 8
  },
  {
   "metadata": {
    "ExecuteTime": {
     "end_time": "2025-04-16T01:19:35.203786Z",
     "start_time": "2025-04-16T01:19:35.194780Z"
    }
   },
   "cell_type": "code",
   "source": [
    "# # 转换为伊辛模型\n",
    "# J = np.zeros((N, N))\n",
    "# h = np.zeros(N)\n",
    "# for i in range(N):\n",
    "#     h[i] = Q[i, i] / 4 + sum(Q[i, j] / 4 for j in range(N) if j != i)\n",
    "#     for j in range(i + 1, N):\n",
    "#         J[i, j] = Q[i, j] / 4\n",
    "# J = J + J.T\n",
    "# h += np.sum(Q, axis=1) / 4"
   ],
   "id": "682f5d82028584ad",
   "outputs": [],
   "execution_count": 40
  },
  {
   "metadata": {
    "ExecuteTime": {
     "end_time": "2025-04-16T01:19:36.073288Z",
     "start_time": "2025-04-16T01:19:36.057312Z"
    }
   },
   "cell_type": "code",
   "source": [
    "# # 验证 QUBO 矩阵\n",
    "# print(f\"QUBO 矩阵形状: {Q.shape}\")\n",
    "# print(f\"QUBO 矩阵是否对称: {np.allclose(Q, Q.T)}\")\n",
    "# print(f\"QUBO 矩阵非零元素数: {np.count_nonzero(Q)}\")\n",
    "# print(\"QUBO 矩阵前 5 行 5 列:\\n\", Q[:5, :5])\n",
    "#\n",
    "# # 保存 QUBO 矩阵到 CSV\n",
    "# labels = [f\"x_{i + 1}{j + 1}\" for i in range(n) for j in range(m)] + \\\n",
    "#          [f\"z_{h}\" for h in range(l)] + \\\n",
    "#          [f\"tau_{j + 1}{h}\" for j in range(m) for h in range(l)]\n",
    "# Q_df = pd.DataFrame(Q, index=labels, columns=labels)\n",
    "# Q_df.to_csv(\"qubo_matrix_corrected.csv\")\n",
    "# print(\"标准 QUBO 矩阵已保存为 qubo_matrix_corrected.csv\")"
   ],
   "id": "ba702bb00bb67d06",
   "outputs": [
    {
     "name": "stdout",
     "output_type": "stream",
     "text": [
      "QUBO 矩阵形状: (17, 17)\n",
      "QUBO 矩阵是否对称: True\n",
      "QUBO 矩阵非零元素数: 29\n",
      "QUBO 矩阵前 5 行 5 列:\n",
      " [[-20000.  20000.  20000.      0.      0.]\n",
      " [ 20000. -20000.  20000.      0.      0.]\n",
      " [ 20000.  20000. -20000.      0.      0.]\n",
      " [     0.      0.      0. -20000.  20000.]\n",
      " [     0.      0.      0.  20000. -20000.]]\n",
      "标准 QUBO 矩阵已保存为 qubo_matrix_corrected.csv\n"
     ]
    }
   ],
   "execution_count": 41
  },
  {
   "metadata": {
    "ExecuteTime": {
     "end_time": "2025-04-22T02:23:28.047354Z",
     "start_time": "2025-04-22T02:23:28.029666Z"
    }
   },
   "cell_type": "code",
   "source": "print(\"QUBO 矩阵前 5 行 5 列:\\n\", Q[:17, :17])",
   "id": "f2bf3f31b3f10ee5",
   "outputs": [
    {
     "name": "stdout",
     "output_type": "stream",
     "text": [
      "QUBO 矩阵前 5 行 5 列:\n",
      " [[     0.  10000.  10000.  30000.      0.      0.  30000.      0.      0.\n",
      "  -10000. -20000.  10000.  20000.      0.      0.      0.      0.]\n",
      " [ 10000.  80000.  10000.      0.  30000.      0.      0.  90000.      0.\n",
      "  -30000. -60000.      0.      0.  30000.  60000.      0.      0.]\n",
      " [ 10000.  10000.  80000.      0.      0.  90000.      0.      0.  30000.\n",
      "  -30000. -60000.      0.      0.      0.      0.  30000.  60000.]\n",
      " [ 30000.      0.      0.  80000.  10000.  10000.  90000.      0.      0.\n",
      "  -30000. -60000.  30000.  60000.      0.      0.      0.      0.]\n",
      " [     0.  30000.      0.  10000.      0.  10000.      0.  30000.      0.\n",
      "  -10000. -20000.      0.      0.  10000.  20000.      0.      0.]\n",
      " [     0.      0.  90000.  10000.  10000.  80000.      0.      0.  30000.\n",
      "  -30000. -60000.      0.      0.      0.      0.  30000.  60000.]\n",
      " [ 30000.      0.      0.  90000.      0.      0.  80000.  10000.  10000.\n",
      "  -30000. -60000.  30000.  60000.      0.      0.      0.      0.]\n",
      " [     0.  90000.      0.      0.  30000.      0.  10000.  80000.  10000.\n",
      "  -30000. -60000.      0.      0.  30000.  60000.      0.      0.]\n",
      " [     0.      0.  30000.      0.      0.  30000.  10000.  10000.      0.\n",
      "  -10000. -20000.      0.      0.      0.      0.  10000.  20000.]\n",
      " [-10000. -30000. -30000. -30000. -10000. -30000. -30000. -30000. -10000.\n",
      "   30001.  60000. -10000. -20000. -10000. -20000. -10000. -20000.]\n",
      " [-20000. -60000. -60000. -60000. -20000. -60000. -60000. -60000. -20000.\n",
      "   60000. 120002. -20000. -40000. -20000. -40000. -20000. -40000.]\n",
      " [ 10000.      0.      0.  30000.      0.      0.  30000.      0.      0.\n",
      "  -10000. -20000.  10000.  20000.      0.      0.      0.      0.]\n",
      " [ 20000.      0.      0.  60000.      0.      0.  60000.      0.      0.\n",
      "  -20000. -40000.  20000.  40000.      0.      0.      0.      0.]\n",
      " [     0.  30000.      0.      0.  10000.      0.      0.  30000.      0.\n",
      "  -10000. -20000.      0.      0.  10000.  20000.      0.      0.]\n",
      " [     0.  60000.      0.      0.  20000.      0.      0.  60000.      0.\n",
      "  -20000. -40000.      0.      0.  20000.  40000.      0.      0.]\n",
      " [     0.      0.  30000.      0.      0.  30000.      0.      0.  10000.\n",
      "  -10000. -20000.      0.      0.      0.      0.  10000.  20000.]\n",
      " [     0.      0.  60000.      0.      0.  60000.      0.      0.  20000.\n",
      "  -20000. -40000.      0.      0.      0.      0.  20000.  40000.]]\n"
     ]
    }
   ],
   "execution_count": 6
  },
  {
   "metadata": {
    "ExecuteTime": {
     "end_time": "2025-04-22T02:35:35.037517Z",
     "start_time": "2025-04-22T02:35:35.026518Z"
    }
   },
   "cell_type": "code",
   "source": [
    "from itertools import product\n",
    "\n",
    "\n",
    "# 自定义暴力求解函数，考虑 J 和 h\n",
    "def brute_force_ising(J, h):\n",
    "    N = len(h)\n",
    "    min_energy = float('inf')\n",
    "    ground_spins = None\n",
    "    for spins in product([-1, 1], repeat=N):\n",
    "        spins = np.array(spins)\n",
    "        energy = -0.5 * np.sum(J * np.outer(spins, spins)) - np.dot(h, spins)\n",
    "        if energy < min_energy:\n",
    "            min_energy = energy\n",
    "            ground_spins = spins\n",
    "    return ground_spins, min_energy"
   ],
   "id": "b6d4b57a169c0e3d",
   "outputs": [],
   "execution_count": 8
  },
  {
   "metadata": {
    "ExecuteTime": {
     "end_time": "2025-04-22T03:22:40.948548Z",
     "start_time": "2025-04-22T03:13:58.491239Z"
    }
   },
   "cell_type": "code",
   "source": [
    "from cim_optimizer.solve_Ising import Ising\n",
    "\n",
    "test = Ising(J, h).solve(\n",
    "    use_GPU=True,\n",
    "    num_runs=50,\n",
    "    num_timesteps_per_run=5000,\n",
    "    cac_time_step=0.02,\n",
    "    cac_r=-0.5,\n",
    "    cac_alpha=0.8,\n",
    "    cac_beta=0.3,\n",
    "    cac_gamma=0.005,\n",
    "    cac_delta=15,\n",
    "    cac_mu=0.9,\n",
    "    cac_rho=1.5,\n",
    "    cac_tau=200,\n",
    "    return_spin_trajectories_all_runs=True,\n",
    "    hyperparameters_randomtune=False\n",
    ")"
   ],
   "id": "2ffdfd3356dbde9e",
   "outputs": [
    {
     "name": "stdout",
     "output_type": "stream",
     "text": [
      "External Field Detected\n",
      "Target Ising Energy: -inf.\n",
      "Best Ising Energy Found: -612498.5.\n",
      "Corresponding Spin Configuration: [-1. -1.  1. -1.  1. -1. -1. -1. -1.  1.  1. -1.  1. -1. -1.  1.  1.].\n",
      "Time Elapsed: 522.4227931499481.\n",
      "Number of Runs Completed: 50.\n"
     ]
    }
   ],
   "execution_count": 25
  },
  {
   "metadata": {
    "ExecuteTime": {
     "end_time": "2025-04-22T03:22:49.958314Z",
     "start_time": "2025-04-22T03:22:49.944315Z"
    }
   },
   "cell_type": "code",
   "source": [
    "# 提取 CIM 结果\n",
    "print(\"test.result 属性:\", [attr for attr in dir(test.result) if not attr.startswith('_')])\n",
    "best_energy = test.result.lowest_energy\n",
    "print(f\"CIM 最佳能量: {best_energy}\")"
   ],
   "id": "ae3ce70cac3f6d32",
   "outputs": [
    {
     "name": "stdout",
     "output_type": "stream",
     "text": [
      "test.result 属性: ['energies', 'energy_evolution', 'lowest_energy', 'lowest_energy_spin_config', 'result_data', 'spin_config_all_runs', 'spin_trajectories', 'time']\n",
      "CIM 最佳能量: -612498.5\n"
     ]
    }
   ],
   "execution_count": 26
  },
  {
   "metadata": {
    "ExecuteTime": {
     "end_time": "2025-04-22T03:23:02.168842Z",
     "start_time": "2025-04-22T03:23:02.160841Z"
    }
   },
   "cell_type": "code",
   "source": [
    "# 提取自旋配置\n",
    "best_spins = test.result.lowest_energy_spin_config\n",
    "print(\"The spin configuration in the ground state is {}\".format(best_spins))"
   ],
   "id": "9a083e1ca3c43d89",
   "outputs": [
    {
     "name": "stdout",
     "output_type": "stream",
     "text": [
      "The spin configuration in the ground state is [-1. -1.  1. -1.  1. -1. -1. -1. -1.  1.  1. -1.  1. -1. -1.  1.  1.]\n"
     ]
    }
   ],
   "execution_count": 27
  },
  {
   "metadata": {
    "ExecuteTime": {
     "end_time": "2025-04-22T03:23:13.838294Z",
     "start_time": "2025-04-22T03:23:13.820477Z"
    }
   },
   "cell_type": "code",
   "source": [
    "# 计算 CIM 解的能量\n",
    "energy_cim = -0.5 * np.sum(J * np.outer(best_spins, best_spins)) - np.dot(h, best_spins)\n",
    "print(f\"验证 CIM 能量: {energy_cim}\")"
   ],
   "id": "39ffb4dd6cdc0c",
   "outputs": [
    {
     "name": "stdout",
     "output_type": "stream",
     "text": [
      "验证 CIM 能量: -612498.5\n"
     ]
    }
   ],
   "execution_count": 28
  },
  {
   "metadata": {
    "ExecuteTime": {
     "end_time": "2025-04-22T03:23:16.792319Z",
     "start_time": "2025-04-22T03:23:15.327892Z"
    }
   },
   "cell_type": "code",
   "source": [
    "# 暴力求解基态\n",
    "spins_ground, E_ground = brute_force_ising(J, h)\n",
    "print(f\"基态自旋配置: {spins_ground}\")\n",
    "print(f\"基态能量: {E_ground}\")"
   ],
   "id": "1929cb0ebc242f67",
   "outputs": [
    {
     "name": "stdout",
     "output_type": "stream",
     "text": [
      "基态自旋配置: [-1 -1 -1 -1 -1 -1 -1 -1 -1  1  1 -1 -1 -1 -1 -1 -1]\n",
      "基态能量: -862498.5\n"
     ]
    }
   ],
   "execution_count": 29
  },
  {
   "metadata": {
    "ExecuteTime": {
     "end_time": "2025-04-22T03:23:50.241209Z",
     "start_time": "2025-04-22T03:23:50.223613Z"
    }
   },
   "cell_type": "code",
   "source": [
    "# 比较 CIM 和基态能量\n",
    "if abs(energy_cim - E_ground) < 1e-5:\n",
    "    print(\"CIM 解达到基态能量\")\n",
    "else:\n",
    "    print(f\"CIM 解与基态能量差: {energy_cim - E_ground}\")"
   ],
   "id": "a1a01037613a8570",
   "outputs": [
    {
     "name": "stdout",
     "output_type": "stream",
     "text": [
      "CIM 解与基态能量差: 250000.0\n"
     ]
    }
   ],
   "execution_count": 30
  },
  {
   "metadata": {
    "ExecuteTime": {
     "end_time": "2025-04-22T03:23:52.137044Z",
     "start_time": "2025-04-22T03:23:52.130635Z"
    }
   },
   "cell_type": "code",
   "source": [
    "# 解码 FOSSP 变量\n",
    "n, m, l = 3, 3, 2\n",
    "P = np.array([[1, 3, 3], [3, 1, 3], [3, 3, 1]])\n",
    "x_sol = [(best_spins[i] + 1) / 2 for i in range(n * m)]\n",
    "z_sol = [(best_spins[n * m + h] + 1) / 2 for h in range(l)]\n",
    "tau_sol = [(best_spins[n * m + l + j * l + h] + 1) / 2 for j in range(m) for h in range(l)]"
   ],
   "id": "f774b1c4cf7947db",
   "outputs": [],
   "execution_count": 31
  },
  {
   "metadata": {
    "ExecuteTime": {
     "end_time": "2025-04-22T03:23:54.415676Z",
     "start_time": "2025-04-22T03:23:54.408667Z"
    }
   },
   "cell_type": "code",
   "source": [
    "# 计算 C_max\n",
    "C_max = sum(2 ** h * z_sol[h] for h in range(l))\n",
    "print(f\"最大完工时间 (C_max): {C_max}\")"
   ],
   "id": "9b7cb3d582c3514d",
   "outputs": [
    {
     "name": "stdout",
     "output_type": "stream",
     "text": [
      "最大完工时间 (C_max): 3.0\n"
     ]
    }
   ],
   "execution_count": 32
  },
  {
   "metadata": {
    "ExecuteTime": {
     "end_time": "2025-04-22T03:23:56.127450Z",
     "start_time": "2025-04-22T03:23:56.110451Z"
    }
   },
   "cell_type": "code",
   "source": [
    "# 验证分配约束\n",
    "x_matrix = np.array(x_sol).reshape(n, m)\n",
    "print(\"分配矩阵:\\n\", x_matrix)\n",
    "for i in range(n):\n",
    "    if abs(sum(x_matrix[i]) - 1) > 1e-5:\n",
    "        print(f\"警告：作业 {i + 1} 分配不满足约束，sum(x_{i}j) = {sum(x_matrix[i])}\")\n",
    "    else:\n",
    "        print(f\"作业 {i + 1} 分配满足约束\")"
   ],
   "id": "e8c440e96c301f85",
   "outputs": [
    {
     "name": "stdout",
     "output_type": "stream",
     "text": [
      "分配矩阵:\n",
      " [[0. 0. 1.]\n",
      " [0. 1. 0.]\n",
      " [0. 0. 0.]]\n",
      "作业 1 分配满足约束\n",
      "作业 2 分配满足约束\n",
      "警告：作业 3 分配不满足约束，sum(x_2j) = 0.0\n"
     ]
    }
   ],
   "execution_count": 33
  },
  {
   "metadata": {
    "ExecuteTime": {
     "end_time": "2025-04-22T03:23:58.953876Z",
     "start_time": "2025-04-22T03:23:58.940725Z"
    }
   },
   "cell_type": "code",
   "source": [
    "# 验证机器完工时间\n",
    "for j in range(m):\n",
    "    T_j = sum(x_matrix[i, j] * P[i, j] for i in range(n))\n",
    "    print(f\"机器 {j + 1} 完工时间: {T_j}\")\n",
    "    if T_j > C_max + 1e-5:\n",
    "        print(f\"警告：机器 {j + 1} 完工时间 {T_j} 超过 C_max {C_max}\")"
   ],
   "id": "a0db0099e5a10f9e",
   "outputs": [
    {
     "name": "stdout",
     "output_type": "stream",
     "text": [
      "机器 1 完工时间: 0.0\n",
      "机器 2 完工时间: 1.0\n",
      "机器 3 完工时间: 3.0\n"
     ]
    }
   ],
   "execution_count": 34
  },
  {
   "metadata": {
    "ExecuteTime": {
     "end_time": "2025-04-22T03:24:02.052857Z",
     "start_time": "2025-04-22T03:24:02.043293Z"
    }
   },
   "cell_type": "code",
   "source": [
    "# from cim_optimizer.CIM_helper import brute_force\n",
    "#\n",
    "# spins_ground, E_ground = brute_force(J)\n",
    "# print(\"The spin configuration in the ground state is {}\".format(spins_ground))\n",
    "# print(\"The ground energy is {}\".format(E_ground))"
   ],
   "id": "f6dfe9ca0488bafb",
   "outputs": [],
   "execution_count": 35
  },
  {
   "metadata": {
    "ExecuteTime": {
     "end_time": "2025-04-22T03:24:04.059615Z",
     "start_time": "2025-04-22T03:24:04.044083Z"
    }
   },
   "cell_type": "code",
   "source": [
    "# 调试：检查结果属性\n",
    "print(\"test.result 属性:\", [attr for attr in dir(test.result) if not attr.startswith('_')])\n",
    "\n",
    "# 提取最低能量\n",
    "best_energy = test.result.lowest_energy\n",
    "print(f\"最佳能量: {best_energy}\")\n",
    "# best_spins = spins_ground\n",
    "# best_spins = test.result.lowest_energy_spin_config\n",
    "# best_spins = [1,  -1,  -1,  -1,  1,  -1,  -1,  -1, 1,  -1. -1,  1,  1,  1,  1,  1, -1,1]\n",
    "print(f\"最佳自旋配置: {best_spins}\")\n",
    "\n",
    "# 验证自旋长度\n",
    "if len(best_spins) != N:\n",
    "    print(f\"错误：自旋长度 {len(best_spins)} 不等于预期 {N}\")\n",
    "    raise ValueError(\"自旋配置无效\")"
   ],
   "id": "6f6623dca23a9a24",
   "outputs": [
    {
     "name": "stdout",
     "output_type": "stream",
     "text": [
      "test.result 属性: ['energies', 'energy_evolution', 'lowest_energy', 'lowest_energy_spin_config', 'result_data', 'spin_config_all_runs', 'spin_trajectories', 'time']\n",
      "最佳能量: -612498.5\n",
      "最佳自旋配置: [-1. -1.  1. -1.  1. -1. -1. -1. -1.  1.  1. -1.  1. -1. -1.  1.  1.]\n"
     ]
    }
   ],
   "execution_count": 36
  },
  {
   "metadata": {
    "ExecuteTime": {
     "end_time": "2025-04-22T03:24:07.559455Z",
     "start_time": "2025-04-22T03:24:07.544618Z"
    }
   },
   "cell_type": "code",
   "source": [
    "# 解码解\n",
    "x_sol = [(best_spins[i] + 1) / 2 for i in range(n * m)]\n",
    "z_sol = [(best_spins[n * m + h] + 1) / 2 for h in range(l)]\n",
    "tau_sol = [(best_spins[n * m + l + j * l + h] + 1) / 2 for j in range(m) for h in range(l)]\n",
    "C_max = sum(2 ** h * z_sol[h] for h in range(l))\n",
    "print(f\"最大完工时间 (C_max): {C_max}\")\n",
    "print(f\"分配方案 (x_ij): {x_sol}\")\n",
    "\n",
    "# 验证分配约束\n",
    "x_matrix = np.array(x_sol).reshape(n, m)\n",
    "print(\"分配矩阵:\\n\", x_matrix)\n",
    "for i in range(n):\n",
    "    if abs(sum(x_matrix[i]) - 1) > 1e-5:\n",
    "        print(f\"警告：作业 {i + 1} 分配不满足约束，sum(x_{i}j) = {sum(x_matrix[i])}\")\n",
    "    else:\n",
    "        print(f\"作业 {i + 1} 分配满足约束\")\n",
    "\n",
    "# 验证机器完工时间\n",
    "for j in range(m):\n",
    "    T_j = sum(x_matrix[i, j] * P[i, j] for i in range(n))\n",
    "    print(f\"机器 {j + 1} 完工时间: {T_j}\")\n",
    "    if T_j > C_max + 1e-5:\n",
    "        print(f\"警告：机器 {j + 1} 完工时间 {T_j} 超过 C_max {C_max}\")"
   ],
   "id": "1c49541905bc431b",
   "outputs": [
    {
     "name": "stdout",
     "output_type": "stream",
     "text": [
      "最大完工时间 (C_max): 3.0\n",
      "分配方案 (x_ij): [0.0, 0.0, 1.0, 0.0, 1.0, 0.0, 0.0, 0.0, 0.0]\n",
      "分配矩阵:\n",
      " [[0. 0. 1.]\n",
      " [0. 1. 0.]\n",
      " [0. 0. 0.]]\n",
      "作业 1 分配满足约束\n",
      "作业 2 分配满足约束\n",
      "警告：作业 3 分配不满足约束，sum(x_2j) = 0.0\n",
      "机器 1 完工时间: 0.0\n",
      "机器 2 完工时间: 1.0\n",
      "机器 3 完工时间: 3.0\n"
     ]
    }
   ],
   "execution_count": 37
  },
  {
   "metadata": {
    "ExecuteTime": {
     "end_time": "2025-04-22T10:02:21.995042Z",
     "start_time": "2025-04-22T10:02:21.884247Z"
    }
   },
   "cell_type": "code",
   "source": [
    "import kaiwu as kw\n",
    "\n",
    "splitted_ret, last_idx = kw.preprocess.perform_precision_adaption_split(Q, 4)\n",
    "print(splitted_ret)"
   ],
   "id": "3ba8fb71f4db64f9",
   "outputs": [
    {
     "name": "stdout",
     "output_type": "stream",
     "text": [
      "[[0. 7. 7. ... 0. 0. 0.]\n",
      " [7. 0. 7. ... 0. 0. 0.]\n",
      " [7. 7. 0. ... 0. 0. 0.]\n",
      " ...\n",
      " [0. 0. 0. ... 0. 7. 7.]\n",
      " [0. 0. 0. ... 7. 0. 7.]\n",
      " [0. 0. 0. ... 7. 7. 0.]]\n"
     ]
    }
   ],
   "execution_count": 41
  }
 ],
 "metadata": {
  "kernelspec": {
   "display_name": "Python 3",
   "language": "python",
   "name": "python3"
  },
  "language_info": {
   "codemirror_mode": {
    "name": "ipython",
    "version": 2
   },
   "file_extension": ".py",
   "mimetype": "text/x-python",
   "name": "python",
   "nbconvert_exporter": "python",
   "pygments_lexer": "ipython2",
   "version": "2.7.6"
  }
 },
 "nbformat": 4,
 "nbformat_minor": 5
}
