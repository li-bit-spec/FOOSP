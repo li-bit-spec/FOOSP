{
 "cells": [
  {
   "cell_type": "code",
   "execution_count": 1,
   "metadata": {},
   "outputs": [
    {
     "name": "stdout",
     "output_type": "stream",
     "text": [
      "2025-04-28 20:38:51,371 - numexpr.utils - _init_num_threads - 148 - INFO - Note: NumExpr detected 32 cores but \"NUMEXPR_MAX_THREADS\" not set, so enforcing safe limit of 8.\n",
      "2025-04-28 20:38:51,371 - numexpr.utils - _init_num_threads - 160 - INFO - NumExpr defaulting to 8 threads.\n"
     ]
    },
    {
     "ename": "ModuleNotFoundError",
     "evalue": "No module named 'neal'",
     "output_type": "error",
     "traceback": [
      "\u001b[1;31m---------------------------------------------------------------------------\u001b[0m",
      "\u001b[1;31mModuleNotFoundError\u001b[0m                       Traceback (most recent call last)",
      "Cell \u001b[1;32mIn[1], line 4\u001b[0m\n\u001b[0;32m      2\u001b[0m \u001b[38;5;28;01mimport\u001b[39;00m \u001b[38;5;21;01mnumpy\u001b[39;00m \u001b[38;5;28;01mas\u001b[39;00m \u001b[38;5;21;01mnp\u001b[39;00m\n\u001b[0;32m      3\u001b[0m \u001b[38;5;28;01mimport\u001b[39;00m \u001b[38;5;21;01mkaiwu\u001b[39;00m \u001b[38;5;28;01mas\u001b[39;00m \u001b[38;5;21;01mkw\u001b[39;00m\n\u001b[1;32m----> 4\u001b[0m \u001b[38;5;28;01mimport\u001b[39;00m \u001b[38;5;21;01mneal\u001b[39;00m\n\u001b[0;32m      5\u001b[0m \u001b[38;5;28;01mimport\u001b[39;00m \u001b[38;5;21;01mdimod\u001b[39;00m\n\u001b[0;32m      6\u001b[0m \u001b[38;5;28;01mimport\u001b[39;00m \u001b[38;5;21;01mgurobipy\u001b[39;00m \u001b[38;5;28;01mas\u001b[39;00m \u001b[38;5;21;01mgp\u001b[39;00m\n",
      "\u001b[1;31mModuleNotFoundError\u001b[0m: No module named 'neal'"
     ]
    },
    {
     "ename": "",
     "evalue": "",
     "output_type": "error",
     "traceback": [
      "\u001b[1;31m在当前单元格或上一个单元格中执行代码时 Kernel 崩溃。\n",
      "\u001b[1;31m请查看单元格中的代码，以确定故障的可能原因。\n",
      "\u001b[1;31m单击<a href='https://aka.ms/vscodeJupyterKernelCrash'>此处</a>了解详细信息。\n",
      "\u001b[1;31m有关更多详细信息，请查看 Jupyter <a href='command:jupyter.viewOutput'>log</a>。"
     ]
    }
   ],
   "source": [
    "import networkx as nx\n",
    "import numpy as np\n",
    "import kaiwu as kw\n",
    "import neal\n",
    "import dimod\n",
    "import gurobipy as gp\n",
    "from gurobipy import GRB"
   ]
  },
  {
   "cell_type": "code",
   "execution_count": 7,
   "metadata": {},
   "outputs": [],
   "source": [
    "def generate_regular_graph(d,n):\n",
    "    \"\"\"生成连通的n节点d-正则图\"\"\"\n",
    "    while True:\n",
    "        G = nx.random_regular_graph(d,n,seed=1)\n",
    "        ising_matrix = nx.to_numpy_array(G, dtype=int)\n",
    "        if nx.is_connected(G):\n",
    "            return G,ising_matrix"
   ]
  },
  {
   "cell_type": "code",
   "execution_count": 8,
   "metadata": {},
   "outputs": [],
   "source": [
    "def qubo_matrix_to_dict(matrix):\n",
    "    qubo_dict = {}\n",
    "    rows = len(matrix)\n",
    "    cols = len(matrix[0])\n",
    "\n",
    "    for i in range(rows):\n",
    "        for j in range(cols):\n",
    "            if matrix[i][j] != 0:\n",
    "                qubo_dict[(i, j)] = matrix[i][j]\n",
    "    return qubo_dict\n",
    "\n",
    "def ising_matrix_to_dict(ising_matrix):\n",
    "    n = len(ising_matrix)\n",
    "    h = {}\n",
    "    J = {}\n",
    "\n",
    "    for i in range(n):\n",
    "        # 提取对角元素作为 h\n",
    "        h[i] = ising_matrix[i][i]\n",
    "\n",
    "        for j in range(i + 1, n):\n",
    "            # 提取非对角元素作为 J\n",
    "            if ising_matrix[i][j] != 0:\n",
    "                J[(i, j)] = ising_matrix[i][j]\n",
    "    return h, J\n",
    "\n",
    "def qubo_to_matrix(qubo):\n",
    "    n = len(set(i for i, j in qubo.keys()))\n",
    "    qubo_matrix = np.zeros((n,n))\n",
    "    for k,v in qubo.items():\n",
    "        c_index = int(k[0])\n",
    "        r_index = int(k[1])\n",
    "        qubo_matrix[c_index,r_index] = v\n",
    "    return qubo_matrix\n",
    "\n",
    "def calculate_cut(assignment, J):\n",
    "    cut = 0\n",
    "    for (i, j), value in J.items():\n",
    "        if assignment[i] != assignment[j]:\n",
    "            cut += abs(value)\n",
    "    return cut"
   ]
  },
  {
   "cell_type": "code",
   "execution_count": 9,
   "metadata": {},
   "outputs": [],
   "source": [
    "def calculate_sa_running_time(response):\n",
    "    preprocessing_ns = response.info['timing']['preprocessing_ns'] / 1e6\n",
    "    sampling_ns = response.info['timing']['sampling_ns'] / 1e6\n",
    "    postprocessing_ns = response.info['timing']['postprocessing_ns'] / 1e6\n",
    "    total_time = preprocessing_ns+sampling_ns+postprocessing_ns\n",
    "    return total_time\n",
    "\n",
    "def sa_compute(G,h,J):\n",
    "    solver = neal.SimulatedAnnealingSampler()\n",
    "    response = solver.sample_ising(h,J,num_reads=100)\n",
    "    min_energy = response.first.energy\n",
    "    min_energy_samples = response.filter(lambda s: s.energy == min_energy)  \n",
    "    max_cut = 0\n",
    "    for sample in min_energy_samples:\n",
    "        assignment = dict(sample)\n",
    "        cut = calculate_cut(assignment, J)\n",
    "        if cut > max_cut:\n",
    "            max_cut = cut\n",
    "    running_time = calculate_sa_running_time(response)\n",
    "    print(\"模拟退火求解的最大割数:\", max_cut)\n",
    "    print(f\"模拟退火运行时间:{running_time:.2f}毫秒\")\n",
    "    return max_cut,running_time"
   ]
  },
  {
   "cell_type": "code",
   "execution_count": 10,
   "metadata": {},
   "outputs": [],
   "source": [
    "def solve_maxcut_ising(h,J):\n",
    "    # h, J = ising_matrix_to_dict(ising_matrix)\n",
    "    n = len(h)\n",
    "\n",
    "    # 创建模型\n",
    "    model = gp.Model(\"MaxCut_Ising\")\n",
    "    model.setParam(\"OutputFlag\", 0) \n",
    "    model.setParam('TimeLimit', 600)\n",
    "    \n",
    "    # 创建变量\n",
    "    x = model.addVars(n, vtype=GRB.BINARY, name=\"x\")\n",
    "\n",
    "    # 目标函数\n",
    "    objective = gp.QuadExpr()\n",
    "    for i in range(n):\n",
    "        objective += h[i] * (2 * x[i] - 1)\n",
    "    for (i, j), value in J.items():\n",
    "        objective += value * (2 * x[i] - 1) * (2 * x[j] - 1)\n",
    "\n",
    "    model.setObjective(objective, GRB.MINIMIZE)\n",
    "    model.optimize()\n",
    "    runtime = model.Runtime\n",
    "    \n",
    "    if model.status == GRB.OPTIMAL:\n",
    "        solution = [x[i].x for i in range(n)]\n",
    "        print(\"找到了最优解！\")\n",
    "    elif model.status == GRB.TIME_LIMIT:\n",
    "        if model.getAttr(GRB.Attr.SolCount) > 0:\n",
    "            solution = [x[i].x for i in range(n)]\n",
    "            print(\"求解时间超过上限，返回当前最优解。\")\n",
    "        else:\n",
    "            solution = None\n",
    "            print(\"求解时间超过上限，未找到可行解。\")\n",
    "    else:\n",
    "        solution = None\n",
    "        print(\"未找到最优解，求解状态码:\", model.status)\n",
    "\n",
    "    if solution is not None:\n",
    "        obj_val = model.objVal\n",
    "    else:\n",
    "        obj_val = None\n",
    "\n",
    "    return solution, obj_val, runtime"
   ]
  },
  {
   "cell_type": "markdown",
   "metadata": {},
   "source": [
    "# 模拟退火"
   ]
  },
  {
   "cell_type": "code",
   "execution_count": 6,
   "metadata": {},
   "outputs": [
    {
     "name": "stdout",
     "output_type": "stream",
     "text": [
      "--------------------------------------------------\n",
      "n=100 的3-正则图 模拟退火求解测试\n",
      "模拟退火求解的最大割数: 138\n",
      "模拟退火运行时间:93.61毫秒\n",
      "--------------------------------------------------\n",
      "n=200 的3-正则图 模拟退火求解测试\n",
      "模拟退火求解的最大割数: 272\n",
      "模拟退火运行时间:177.23毫秒\n",
      "--------------------------------------------------\n",
      "n=300 的3-正则图 模拟退火求解测试\n",
      "模拟退火求解的最大割数: 412\n",
      "模拟退火运行时间:259.20毫秒\n",
      "--------------------------------------------------\n",
      "n=400 的3-正则图 模拟退火求解测试\n",
      "模拟退火求解的最大割数: 552\n",
      "模拟退火运行时间:342.60毫秒\n",
      "--------------------------------------------------\n",
      "n=500 的3-正则图 模拟退火求解测试\n",
      "模拟退火求解的最大割数: 689\n",
      "模拟退火运行时间:424.48毫秒\n",
      "--------------------------------------------------\n",
      "n=600 的3-正则图 模拟退火求解测试\n",
      "模拟退火求解的最大割数: 825\n",
      "模拟退火运行时间:507.13毫秒\n",
      "--------------------------------------------------\n",
      "n=700 的3-正则图 模拟退火求解测试\n",
      "模拟退火求解的最大割数: 965\n",
      "模拟退火运行时间:590.16毫秒\n",
      "--------------------------------------------------\n",
      "n=800 的3-正则图 模拟退火求解测试\n",
      "模拟退火求解的最大割数: 1104\n",
      "模拟退火运行时间:691.10毫秒\n",
      "--------------------------------------------------\n",
      "n=900 的3-正则图 模拟退火求解测试\n",
      "模拟退火求解的最大割数: 1242\n",
      "模拟退火运行时间:761.12毫秒\n",
      "--------------------------------------------------\n",
      "n=1000 的3-正则图 模拟退火求解测试\n",
      "模拟退火求解的最大割数: 1376\n",
      "模拟退火运行时间:852.88毫秒\n"
     ]
    }
   ],
   "source": [
    "n_list = np.arange(100,1100,100)\n",
    "d = 3\n",
    "for n in n_list:\n",
    "    print(\"-\"*50)\n",
    "    print(f\"n={n} 的{d}-正则图 模拟退火求解测试\")\n",
    "    G,ising_matrix = generate_regular_graph(d,n)\n",
    "    h,J = ising_matrix_to_dict(ising_matrix)\n",
    "    max_cut,running_time = sa_compute(G,h,J)"
   ]
  },
  {
   "cell_type": "markdown",
   "metadata": {},
   "source": [
    "# Gurobi"
   ]
  },
  {
   "cell_type": "code",
   "execution_count": 11,
   "metadata": {},
   "outputs": [
    {
     "name": "stdout",
     "output_type": "stream",
     "text": [
      "--------------------------------------------------\n",
      "n=100 的3-正则图 Gurobi 求解测试\n",
      "Set parameter LicenseID to value 2600822\n",
      "找到了最优解！\n",
      "Gurobi 求解的最大割数: 138\n",
      "Gurobi 求解用时: 0.04 秒\n",
      "--------------------------------------------------\n",
      "n=200 的3-正则图 Gurobi 求解测试\n",
      "找到了最优解！\n",
      "Gurobi 求解的最大割数: 272\n",
      "Gurobi 求解用时: 1.71 秒\n",
      "--------------------------------------------------\n",
      "n=300 的3-正则图 Gurobi 求解测试\n",
      "找到了最优解！\n",
      "Gurobi 求解的最大割数: 412\n",
      "Gurobi 求解用时: 3.11 秒\n",
      "--------------------------------------------------\n",
      "n=400 的3-正则图 Gurobi 求解测试\n",
      "找到了最优解！\n",
      "Gurobi 求解的最大割数: 552\n",
      "Gurobi 求解用时: 10.25 秒\n",
      "--------------------------------------------------\n",
      "n=500 的3-正则图 Gurobi 求解测试\n",
      "找到了最优解！\n",
      "Gurobi 求解的最大割数: 690\n",
      "Gurobi 求解用时: 99.17 秒\n",
      "--------------------------------------------------\n",
      "n=600 的3-正则图 Gurobi 求解测试\n",
      "找到了最优解！\n",
      "Gurobi 求解的最大割数: 827\n",
      "Gurobi 求解用时: 402.16 秒\n",
      "--------------------------------------------------\n",
      "n=700 的3-正则图 Gurobi 求解测试\n",
      "求解时间超过上限，返回当前最优解。\n",
      "Gurobi 求解的最大割数: 966\n",
      "Gurobi 求解用时: 600.03 秒\n",
      "--------------------------------------------------\n",
      "n=800 的3-正则图 Gurobi 求解测试\n",
      "求解时间超过上限，返回当前最优解。\n",
      "Gurobi 求解的最大割数: 1104\n",
      "Gurobi 求解用时: 600.02 秒\n",
      "--------------------------------------------------\n",
      "n=900 的3-正则图 Gurobi 求解测试\n",
      "求解时间超过上限，返回当前最优解。\n",
      "Gurobi 求解的最大割数: 1244\n",
      "Gurobi 求解用时: 600.04 秒\n",
      "--------------------------------------------------\n",
      "n=1000 的3-正则图 Gurobi 求解测试\n",
      "求解时间超过上限，返回当前最优解。\n",
      "Gurobi 求解的最大割数: 1380\n",
      "Gurobi 求解用时: 600.04 秒\n"
     ]
    }
   ],
   "source": [
    "n_list = np.arange(100,1100,100)\n",
    "d = 3\n",
    "for n in n_list:\n",
    "    print(\"-\"*50)\n",
    "    print(f\"n={n} 的{d}-正则图 Gurobi 求解测试\")\n",
    "    G,ising_matrix = generate_regular_graph(d,n)\n",
    "    h,J = ising_matrix_to_dict(ising_matrix)\n",
    "    solution,energy,runtime = solve_maxcut_ising(h,J)\n",
    "    n_cut = calculate_cut(solution,J)\n",
    "    print(\"Gurobi 求解的最大割数:\",n_cut)\n",
    "    print(f\"Gurobi 求解用时: {runtime:.2f} 秒\")"
   ]
  },
  {
   "cell_type": "markdown",
   "metadata": {},
   "source": [
    "# 环状图"
   ]
  },
  {
   "cell_type": "code",
   "execution_count": 180,
   "metadata": {},
   "outputs": [
    {
     "name": "stdout",
     "output_type": "stream",
     "text": [
      "--------------------------------------------------\n",
      "n=100 的环状图 Gurobi 求解测试\n",
      "Gurobi 求解的最大割数: 100\n",
      "Gurobi 求解用时: 0.00 秒\n",
      "--------------------------------------------------\n",
      "n=200 的环状图 Gurobi 求解测试\n",
      "Gurobi 求解的最大割数: 200\n",
      "Gurobi 求解用时: 0.00 秒\n",
      "--------------------------------------------------\n",
      "n=300 的环状图 Gurobi 求解测试\n"
     ]
    },
    {
     "ename": "GurobiError",
     "evalue": "Model too large for size-limited license; visit https://gurobi.com/unrestricted for more information",
     "output_type": "error",
     "traceback": [
      "\u001b[31m---------------------------------------------------------------------------\u001b[39m",
      "\u001b[31mGurobiError\u001b[39m                               Traceback (most recent call last)",
      "\u001b[36mCell\u001b[39m\u001b[36m \u001b[39m\u001b[32mIn[180]\u001b[39m\u001b[32m, line 8\u001b[39m\n\u001b[32m      6\u001b[39m ising_matrix = nx.to_numpy_array(G, dtype=\u001b[38;5;28mint\u001b[39m)\n\u001b[32m      7\u001b[39m h,J = ising_matrix_to_dict(ising_matrix)\n\u001b[32m----> \u001b[39m\u001b[32m8\u001b[39m solution,energy,runtime = \u001b[43msolve_maxcut_ising\u001b[49m\u001b[43m(\u001b[49m\u001b[43mh\u001b[49m\u001b[43m,\u001b[49m\u001b[43mJ\u001b[49m\u001b[43m)\u001b[49m\n\u001b[32m      9\u001b[39m n_cut = calculate_cut(solution,J)\n\u001b[32m     10\u001b[39m \u001b[38;5;28mprint\u001b[39m(\u001b[33m\"\u001b[39m\u001b[33mGurobi 求解的最大割数:\u001b[39m\u001b[33m\"\u001b[39m,n_cut)\n",
      "\u001b[36mCell\u001b[39m\u001b[36m \u001b[39m\u001b[32mIn[165]\u001b[39m\u001b[32m, line 22\u001b[39m, in \u001b[36msolve_maxcut_ising\u001b[39m\u001b[34m(h, J)\u001b[39m\n\u001b[32m     19\u001b[39m model.setObjective(objective, GRB.MINIMIZE)\n\u001b[32m     21\u001b[39m \u001b[38;5;66;03m# 求解模型\u001b[39;00m\n\u001b[32m---> \u001b[39m\u001b[32m22\u001b[39m \u001b[43mmodel\u001b[49m\u001b[43m.\u001b[49m\u001b[43moptimize\u001b[49m\u001b[43m(\u001b[49m\u001b[43m)\u001b[49m\n\u001b[32m     24\u001b[39m \u001b[38;5;66;03m# 输出结果\u001b[39;00m\n\u001b[32m     25\u001b[39m \u001b[38;5;28;01mif\u001b[39;00m model.status == GRB.OPTIMAL:\n",
      "\u001b[36mFile \u001b[39m\u001b[32msrc/gurobipy/_model.pyx:903\u001b[39m, in \u001b[36mgurobipy._model.Model.optimize\u001b[39m\u001b[34m()\u001b[39m\n",
      "\u001b[31mGurobiError\u001b[39m: Model too large for size-limited license; visit https://gurobi.com/unrestricted for more information"
     ]
    }
   ],
   "source": [
    "n_list = np.arange(100,1100,100)\n",
    "for n in n_list:\n",
    "    print(\"-\"*50)\n",
    "    print(f\"n={n} 的环状图 Gurobi 求解测试\")\n",
    "    G = nx.cycle_graph(n)\n",
    "    ising_matrix = nx.to_numpy_array(G, dtype=int)\n",
    "    h,J = ising_matrix_to_dict(ising_matrix)\n",
    "    solution,energy,runtime = solve_maxcut_ising(h,J)\n",
    "    n_cut = calculate_cut(solution,J)\n",
    "    print(\"Gurobi 求解的最大割数:\",n_cut)\n",
    "    print(f\"Gurobi 求解用时: {runtime:.2f} 秒\")"
   ]
  },
  {
   "cell_type": "code",
   "execution_count": null,
   "metadata": {},
   "outputs": [],
   "source": []
  }
 ],
 "metadata": {
  "kernelspec": {
   "display_name": "FOOSP",
   "language": "python",
   "name": "python3"
  },
  "language_info": {
   "codemirror_mode": {
    "name": "ipython",
    "version": 3
   },
   "file_extension": ".py",
   "mimetype": "text/x-python",
   "name": "python",
   "nbconvert_exporter": "python",
   "pygments_lexer": "ipython3",
   "version": "3.8.20"
  }
 },
 "nbformat": 4,
 "nbformat_minor": 2
}
